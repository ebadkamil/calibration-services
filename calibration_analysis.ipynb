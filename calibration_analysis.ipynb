{
 "cells": [
  {
   "cell_type": "code",
   "execution_count": 1,
   "metadata": {},
   "outputs": [],
   "source": [
    "%reload_ext autoreload\n",
    "%autoreload 2\n",
    "\n",
    "from concurrent.futures import ProcessPoolExecutor, ThreadPoolExecutor\n",
    "from collections import OrderedDict\n",
    "import numpy as np\n",
    "import re\n",
    "import h5py\n",
    "from functools import partial\n",
    "from itertools import product\n",
    "\n",
    "from calibration import Display\n"
   ]
  },
  {
   "cell_type": "markdown",
   "metadata": {},
   "source": [
    "# Wokflow\n",
    "\n",
    "* General set up (Tab 0):\n",
    "   \n",
    "   - Module Number: Specify channel/module numbers that you want to analyse. Must be comma separated.\n",
    "   - Pulse indices: Pulses that have x-rays. You can provide a range (start:stop:step) or comma separated (1,3,4 etc) or combination of range and individual pulses (1:10:2, 11, 14, 16 etc)\n",
    "   - Region of interest (ROI x) in x for each module: Only range based (start:stop)\n",
    "   - Region of interest (ROI y) in y for each module: Only range based (start:stop)\n",
    "   \n",
    "* Dark Run (Tab 1):\n",
    "    \n",
    "    - Dark Run Folder: (str) /gpfs/exfel/exp/MID/201931/proposal/raw/run_number\n",
    "    - Train ids: Train indices to take average over. Range based (start:stop). Deafult is all train (:)\n",
    "    - Process Darak button: To evalute average. This is done in parallel over modules. Doesn't block\n",
    "      further analysis. Once results (average image and histograms) are available it be displayed automatically.\n",
    "    - Using Pulses (slider) and module numbers (dropbox) on top one can visulaize data for each pulses or modules.\n",
    "\n",
    "* Data Visualization (Tab 2):\n",
    "    \n",
    "    - Run Folder: (str) /gpfs/exfel/exp/MID/201931/proposal/raw/run_number\n",
    "    - Train ids: Train indices. Range based (start:stop). Use cautiosly. It loads all train data in memory.\n",
    "    Also processing is parallized over modules, therefore maximum pickle size has to be respected.\n",
    "    \n",
    "    - Subtract Dark. Once dark average data is available you will be able to check on subtract dark.\n",
    "    - Load Run: Once things are set up, load the run.\n",
    "    \n",
    "    - Fitting Procedure:\n",
    "    \n",
    "        - First chose some reasonable peak threshold to filter out number of peaks\n",
    "        - Chose peak distance to remove very close peaks,\n",
    "        - Once peaks are chosen, one can click on button Fit Histogram to fit Gaussians. Number of peaks define the number of gaussian functions that will be used to fit the histogram. Generally fitting with 3-4 peaks give reasonable fitting "
   ]
  },
  {
   "cell_type": "code",
   "execution_count": 2,
   "metadata": {},
   "outputs": [],
   "source": [
    "config = dict(\n",
    "    dark_run_folder='/gpfs/exfel/exp/MID/201931/p900091/raw/r0504',\n",
    "    run_folder='/gpfs/exfel/exp/MID/201931/p900091/raw/r0491',\n",
    ")"
   ]
  },
  {
   "cell_type": "code",
   "execution_count": 3,
   "metadata": {
    "scrolled": false
   },
   "outputs": [
    {
     "data": {
      "application/vnd.jupyter.widget-view+json": {
       "model_id": "558f9e7fde294f8d839aa78bd6031ec0",
       "version_major": 2,
       "version_minor": 0
      },
      "text/plain": [
       "HBox(children=(Dropdown(description='Cmap:', options=('Blackbody', 'Reds', 'Viridis', 'Plasma'), value='Blackb…"
      ]
     },
     "metadata": {},
     "output_type": "display_data"
    },
    {
     "data": {
      "application/vnd.jupyter.widget-view+json": {
       "model_id": "8f32c1c12fc44329b0400d033b2f51f5",
       "version_major": 2,
       "version_minor": 0
      },
      "text/plain": [
       "Tab(children=(Box(children=(Box(children=(Label(value='Module numbers:'), Text(value='15, 14', continuous_upda…"
      ]
     },
     "metadata": {},
     "output_type": "display_data"
    },
    {
     "data": {
      "application/vnd.jupyter.widget-view+json": {
       "model_id": "77ca5a82d8284fe583160711a034d01a",
       "version_major": 2,
       "version_minor": 0
      },
      "text/plain": [
       "Output(layout=Layout(border='1px solid', height='160px', width='100%'))"
      ]
     },
     "metadata": {},
     "output_type": "display_data"
    }
   ],
   "source": [
    "d = Display(config=config)\n",
    "d.control_panel()"
   ]
  },
  {
   "cell_type": "markdown",
   "metadata": {},
   "source": [
    "# Analysis without GUI\n",
    "\n"
   ]
  },
  {
   "cell_type": "code",
   "execution_count": 21,
   "metadata": {},
   "outputs": [],
   "source": [
    "from scipy.ndimage import gaussian_filter, gaussian_filter1d\n",
    "from scipy.signal import find_peaks\n",
    "from functools import partial\n",
    "\n",
    "from calibration import DataProcessing, gauss_fit\n",
    "from karabo_data import by_index"
   ]
  },
  {
   "cell_type": "markdown",
   "metadata": {},
   "source": [
    "    \n",
    "    def DataProcessing(module_number, path, *,\n",
    "                       train_index=None, pulse_ids=None,\n",
    "                       rois=None, operation=None,\n",
    "                       dark_run=None):\n",
    "                   \n",
    "           \"\"\" Process Data\n",
    "\n",
    "                    Parameters\n",
    "                    ----------\n",
    "                    module_number: int\n",
    "                        Channel number between 0, 15\n",
    "                    path: str\n",
    "                        Path to Run folder\n",
    "                    train_index: karabo_data (by_index)\n",
    "                        Default (all trains by_index[:])\n",
    "                    pulse_ids: str\n",
    "                        For eg. \":\" to select all pulses in a train\n",
    "                                \"start:stop:step\" to select indices with certain step size\n",
    "                                \"1,2,3\" comma separated pulse index to select specific pulses\n",
    "                                \"1,2,3, 5:10\" mix of above two\n",
    "                        Default: all pulses \":\"\n",
    "                    rois: karabo_data slice constructor by_index\n",
    "                        Select ROI of image data. For eg. by_index[..., 0:128, 0:64]\n",
    "                        See karabo_data method: `get_array`\n",
    "\n",
    "                    operation: function\n",
    "                        For eg. functools.partial(np.mean, axis=0) to take mean over trains\n",
    "                    dark_run: nd.array\n",
    "                        dark_data to subtract\n",
    "\n",
    "                    Return\n",
    "                    ------\n",
    "                    out: ndarray\n",
    "                        Shape:  operation -> (n_trains, n_pulses, ..., slow_scan, fast_scan)\n",
    "                    \"\"\""
   ]
  },
  {
   "cell_type": "markdown",
   "metadata": {},
   "source": [
    "# General Parameters"
   ]
  },
  {
   "cell_type": "code",
   "execution_count": 29,
   "metadata": {},
   "outputs": [],
   "source": [
    "module_number = 15\n",
    "pulse_ids = \"1:250:2\"\n",
    "rois = by_index[:, :]"
   ]
  },
  {
   "cell_type": "markdown",
   "metadata": {},
   "source": [
    "# Dark Run average"
   ]
  },
  {
   "cell_type": "code",
   "execution_count": 24,
   "metadata": {},
   "outputs": [],
   "source": [
    "# parameters\n",
    "\n",
    "dark_run_folder = \"/gpfs/exfel/exp/MID/201931/p900091/raw/r0504\"\n",
    "\n",
    "module_number = 15\n",
    "\n",
    "dark_train_index = by_index[:]\n",
    "\n",
    "\n",
    "# mean over train index \n",
    "operation = partial(np.mean, axis=0)\n",
    "\n"
   ]
  },
  {
   "cell_type": "code",
   "execution_count": 26,
   "metadata": {},
   "outputs": [
    {
     "name": "stdout",
     "output_type": "stream",
     "text": [
      "(125, 2, 512, 128)\n"
     ]
    }
   ],
   "source": [
    "dark_average = DataProcessing(\n",
    "    module_number, \n",
    "    dark_run_folder,\n",
    "    train_index=dark_train_index,\n",
    "    pulse_ids=pulse_ids,\n",
    "    rois=rois,\n",
    "    operation=operation)\n",
    "\n",
    "print(dark_average.shape)"
   ]
  },
  {
   "cell_type": "markdown",
   "metadata": {},
   "source": [
    "# Subtract Dark from a run"
   ]
  },
  {
   "cell_type": "code",
   "execution_count": 31,
   "metadata": {},
   "outputs": [],
   "source": [
    "\n",
    "run_folder = \"/gpfs/exfel/exp/MID/201931/p900091/raw/r0491\"\n",
    "\n",
    "proc_train_index = by_index[250:280]\n",
    "\n",
    "dark_run = {module_number:dark_average}"
   ]
  },
  {
   "cell_type": "code",
   "execution_count": 32,
   "metadata": {},
   "outputs": [],
   "source": [
    "dark_subtracted = DataProcessing(\n",
    "    module_number, \n",
    "    run_folder,\n",
    "    train_index=proc_train_index,\n",
    "    pulse_ids=pulse_ids,\n",
    "    rois=rois,\n",
    "    dark_run=dark_run)"
   ]
  },
  {
   "cell_type": "code",
   "execution_count": 33,
   "metadata": {},
   "outputs": [
    {
     "name": "stdout",
     "output_type": "stream",
     "text": [
      "(30, 125, 2, 512, 128)\n"
     ]
    }
   ],
   "source": [
    "print(dark_subtracted.shape)"
   ]
  },
  {
   "cell_type": "code",
   "execution_count": null,
   "metadata": {},
   "outputs": [],
   "source": []
  }
 ],
 "metadata": {
  "kernelspec": {
   "display_name": "calibration-kernel",
   "language": "python",
   "name": "calibration-kernel"
  },
  "language_info": {
   "codemirror_mode": {
    "name": "ipython",
    "version": 3
   },
   "file_extension": ".py",
   "mimetype": "text/x-python",
   "name": "python",
   "nbconvert_exporter": "python",
   "pygments_lexer": "ipython3",
   "version": "3.6.9"
  }
 },
 "nbformat": 4,
 "nbformat_minor": 2
}
