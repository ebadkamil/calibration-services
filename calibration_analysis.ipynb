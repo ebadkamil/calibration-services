{
 "cells": [
  {
   "cell_type": "code",
   "execution_count": 1,
   "metadata": {},
   "outputs": [],
   "source": [
    "%reload_ext autoreload\n",
    "%autoreload 2\n",
    "\n",
    "from concurrent.futures import ProcessPoolExecutor, ThreadPoolExecutor\n",
    "from collections import OrderedDict\n",
    "import numpy as np\n",
    "import re\n",
    "import h5py\n",
    "from functools import partial\n",
    "from itertools import product\n",
    "\n",
    "from calibration import pulse_filter, parse_ids, DataProcessing\n",
    "from karabo_data import by_index\n",
    "\n",
    "from karabo_data.geometry2 import AGIPD_1MGeometry\n",
    "import time\n"
   ]
  },
  {
   "cell_type": "code",
   "execution_count": 2,
   "metadata": {},
   "outputs": [],
   "source": [
    "module_numbers = [15, 14]"
   ]
  },
  {
   "cell_type": "code",
   "execution_count": null,
   "metadata": {},
   "outputs": [],
   "source": [
    "dark_folder = \"/gpfs/exfel/exp/MID/201931/p900091/raw/r0504\"\n",
    "\n",
    "def f(x):\n",
    "    return x\n",
    "\n",
    "dark_average = partial(\n",
    "    DataProcessing,\n",
    "    path=dark_folder,\n",
    "    pulse_ids=\"1:250:2\",\n",
    "    train_index=by_index[:],\n",
    "    rois=by_index[..., :, :],\n",
    "    operation=partial(np.mean, axis=0))\n",
    "\n",
    "\n",
    "futures = OrderedDict()\n",
    "\n",
    "with ProcessPoolExecutor(max_workers=len(module_numbers)) as executor:\n",
    "    for mod_no in module_numbers:\n",
    "        futures[mod_no] = executor.submit(dark_average, mod_no)\n"
   ]
  },
  {
   "cell_type": "code",
   "execution_count": null,
   "metadata": {
    "scrolled": true
   },
   "outputs": [],
   "source": [
    "print(futures)\n",
    "\n",
    "dark_data = { module:result.result() for module, result in futures.items()}\n",
    "\n",
    "print(dark_data[15].shape)"
   ]
  },
  {
   "cell_type": "code",
   "execution_count": null,
   "metadata": {
    "scrolled": false
   },
   "outputs": [],
   "source": [
    "import matplotlib.pyplot as plt\n",
    "%matplotlib inline\n",
    "\n",
    "\n",
    "for idx, modno in enumerate(module_numbers):\n",
    "    fig, ax = plt.subplots(1,2, figsize=(15,4), tight_layout=True)\n",
    "    ax[0].imshow(dark_data[modno][0, 0, ...])\n",
    "    ax[1].hist(dark_data[modno][:, 0, ...].ravel(), bins=100,  edgecolor='w')\n",
    "    ax[0].set_aspect('auto')"
   ]
  },
  {
   "cell_type": "code",
   "execution_count": null,
   "metadata": {},
   "outputs": [],
   "source": [
    "flat_field_folder = \"/gpfs/exfel/exp/MID/201931/p900091/raw/r0491\"\n",
    "\n",
    "dark_subtraction = partial(\n",
    "    DataProcessing,\n",
    "    path=flat_field_folder,\n",
    "    pulse_ids=\"1:250:2\",\n",
    "    train_index=by_index[250:280],\n",
    "    rois=by_index[..., :, :],\n",
    "    operation=partial(f),\n",
    "    dark_run=dark_data)\n",
    "\n",
    "futures_dark_sub = OrderedDict()\n",
    "\n",
    "with ProcessPoolExecutor(max_workers=len(module_numbers)) as executor:\n",
    "    for mod_no in module_numbers:\n",
    "        futures_dark_sub[mod_no] = executor.submit(dark_subtraction, mod_no)"
   ]
  },
  {
   "cell_type": "code",
   "execution_count": null,
   "metadata": {},
   "outputs": [],
   "source": [
    "print(futures_dark_sub)\n",
    "dark_subtracted_data = { module:result.result() for module, result in futures_dark_sub.items()}\n",
    "\n",
    "dark_subtracted_data[15].shape"
   ]
  },
  {
   "cell_type": "code",
   "execution_count": null,
   "metadata": {
    "scrolled": false
   },
   "outputs": [],
   "source": [
    "import matplotlib.pyplot as plt\n",
    "from scipy.signal import find_peaks\n",
    "from scipy.signal import savgol_filter\n",
    "from scipy.ndimage import gaussian_filter, gaussian_filter1d\n",
    "\n",
    "\n",
    "%matplotlib inline\n",
    "\n",
    "for idx in range(95, 100):\n",
    "    fig, ax = plt.subplots(1,2, figsize=(15,4), tight_layout=True)\n",
    "    ax[0].imshow(dark_subtracted_data[15][0, idx, 0, ...] )\n",
    "    counts, bins, _ = ax[1].hist(dark_subtracted_data[15][:, idx, 0 , ...].ravel(), bins=1000)\n",
    "    ax[0].set_aspect('auto')\n",
    "    bin_centers = (bins[1:] + bins[:-1])/2.0\n",
    "    #filtered = savgol_filter(counts, 21, 2)\n",
    "    filtered = gaussian_filter(counts, 1.5)\n",
    "    peaks, _ = find_peaks(filtered, height=200)\n",
    "    ax[1].plot(bin_centers[peaks], filtered[peaks], 'x')\n",
    "    ax[1].plot(bin_centers, filtered)"
   ]
  }
 ],
 "metadata": {
  "kernelspec": {
   "display_name": "calibration-kernel",
   "language": "python",
   "name": "calibration-kernel"
  },
  "language_info": {
   "codemirror_mode": {
    "name": "ipython",
    "version": 3
   },
   "file_extension": ".py",
   "mimetype": "text/x-python",
   "name": "python",
   "nbconvert_exporter": "python",
   "pygments_lexer": "ipython3",
   "version": "3.6.9"
  }
 },
 "nbformat": 4,
 "nbformat_minor": 2
}
