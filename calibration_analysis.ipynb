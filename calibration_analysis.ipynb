{
 "cells": [
  {
   "cell_type": "code",
   "execution_count": 1,
   "metadata": {},
   "outputs": [],
   "source": [
    "%reload_ext autoreload\n",
    "%autoreload 2\n",
    "\n",
    "from concurrent.futures import ProcessPoolExecutor, ThreadPoolExecutor\n",
    "from collections import OrderedDict\n",
    "import numpy as np\n",
    "import re\n",
    "import h5py\n",
    "from functools import partial\n",
    "from itertools import product\n",
    "\n",
    "from calibration import Display\n"
   ]
  },
  {
   "cell_type": "markdown",
   "metadata": {},
   "source": [
    "# Wokflow\n",
    "\n",
    "* General set up (Tab 0):\n",
    "   \n",
    "   - Module Number: Specify channel/module numbers that you want to analyse. Must be comma separated.\n",
    "   - Pulse indices: Pulses that have x-rays. You can provide a range (start:stop:step) or comma separated (1,3,4 etc) or combination of range and individual pulses (1:10:2, 11, 14, 16 etc)\n",
    "   - Region of interest (ROI x) in x for each module: Only range based (start:stop)\n",
    "   - Region of interest (ROI y) in y for each module: Only range based (start:stop)\n",
    "   \n",
    "* Dark Run (Tab 1):\n",
    "    \n",
    "    - Dark Run Folder: (str) /gpfs/exfel/exp/MID/201931/proposal/raw/run_number\n",
    "    - Train ids: Train indices to take average over. Range based (start:stop). Deafult is all train (:)\n",
    "    - Process Darak button: To evalute average. This is done in parallel over modules. Doesn't block\n",
    "      further analysis. Once results (average image and histograms) are available it be displayed automatically.\n",
    "    - Using Pulses (slider) and module numbers (dropbox) on top one can visulaize data for each pulses or modules.\n",
    "\n",
    "* Data Visualization (Tab 2):\n",
    "    \n",
    "    - Run Folder: (str) /gpfs/exfel/exp/MID/201931/proposal/raw/run_number\n",
    "    - Train ids: Train indices. Range based (start:stop). Use cautiosly. It loads all train data in memory.\n",
    "    Also processing is parallized over modules, there p\n",
    "    \n",
    "    - Subtract Dark. Once dark average data is available you will be able to check on subtract dark.\n",
    "    - Load Run: Once things are set up, load the run.\n",
    "    \n",
    "    - Fitting Procedure:\n",
    "    \n",
    "        - First chose some reasonable peak threshold to filter out number of peaks\n",
    "        - Chose peak distance to remove very close peaks,\n",
    "        - Once peaks are chosen, one can click on button Fit Histogram to fit Gaussians. Number of peaks define the number of gaussian functions that will be used to fit the histogram. Generally fitting with 3-4 peaks give reasonable fitting "
   ]
  },
  {
   "cell_type": "code",
   "execution_count": 2,
   "metadata": {},
   "outputs": [],
   "source": [
    "config = dict(\n",
    "    dark_run_folder='/gpfs/exfel/exp/MID/201931/p900091/raw/r0504',\n",
    "    run_folder='/gpfs/exfel/exp/MID/201931/p900091/raw/r0491',\n",
    ")"
   ]
  },
  {
   "cell_type": "code",
   "execution_count": 3,
   "metadata": {
    "scrolled": false
   },
   "outputs": [
    {
     "data": {
      "application/vnd.jupyter.widget-view+json": {
       "model_id": "558f9e7fde294f8d839aa78bd6031ec0",
       "version_major": 2,
       "version_minor": 0
      },
      "text/plain": [
       "HBox(children=(Dropdown(description='Cmap:', options=('Blackbody', 'Reds', 'Viridis', 'Plasma'), value='Blackb…"
      ]
     },
     "metadata": {},
     "output_type": "display_data"
    },
    {
     "data": {
      "application/vnd.jupyter.widget-view+json": {
       "model_id": "8f32c1c12fc44329b0400d033b2f51f5",
       "version_major": 2,
       "version_minor": 0
      },
      "text/plain": [
       "Tab(children=(Box(children=(Box(children=(Label(value='Module numbers:'), Text(value='15, 14', continuous_upda…"
      ]
     },
     "metadata": {},
     "output_type": "display_data"
    },
    {
     "data": {
      "application/vnd.jupyter.widget-view+json": {
       "model_id": "77ca5a82d8284fe583160711a034d01a",
       "version_major": 2,
       "version_minor": 0
      },
      "text/plain": [
       "Output(layout=Layout(border='1px solid', height='160px', width='100%'))"
      ]
     },
     "metadata": {},
     "output_type": "display_data"
    }
   ],
   "source": [
    "d = Display(config=config)\n",
    "d.control_panel()"
   ]
  }
 ],
 "metadata": {
  "kernelspec": {
   "display_name": "calibration-kernel",
   "language": "python",
   "name": "calibration-kernel"
  },
  "language_info": {
   "codemirror_mode": {
    "name": "ipython",
    "version": 3
   },
   "file_extension": ".py",
   "mimetype": "text/x-python",
   "name": "python",
   "nbconvert_exporter": "python",
   "pygments_lexer": "ipython3",
   "version": "3.6.9"
  }
 },
 "nbformat": 4,
 "nbformat_minor": 2
}
