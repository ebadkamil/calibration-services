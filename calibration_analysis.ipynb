{
 "cells": [
  {
   "cell_type": "code",
   "execution_count": 1,
   "metadata": {},
   "outputs": [],
   "source": [
    "%reload_ext autoreload\n",
    "%autoreload 2\n",
    "\n",
    "from concurrent.futures import ProcessPoolExecutor, ThreadPoolExecutor\n",
    "from collections import OrderedDict\n",
    "import numpy as np\n",
    "import re\n",
    "import h5py\n",
    "from functools import partial\n",
    "from itertools import product\n",
    "\n",
    "#from calibration import pulse_filter, parse_ids, DataProcessing\n",
    "#from karabo_data import by_index\n",
    "\n",
    "#from karabo_data.geometry2 import AGIPD_1MGeometry\n",
    "import time\n",
    "from calibration import Display\n"
   ]
  },
  {
   "cell_type": "markdown",
   "metadata": {},
   "source": [
    "# Wokflow\n",
    "\n",
    "* General set up (Tab 0):\n",
    "   \n",
    "   - Module Number: Specify channel/module numbers that you want to analyse. Must be comma separated.\n",
    "   - Pulse indices: Pulses that have x-rays. You can provide a range (start:stop:step) or comma separated (1,3,4 etc) or combination of range and individual pulses (1:10:2, 11, 14, 16 etc)\n",
    "   - Region of interest (ROI x) in x for each module: Only range based (start:stop)\n",
    "   - Region of interest (ROI y) in y for each module: Only range based (start:stop)\n",
    "   \n",
    "* Dark Run (Tab 1):\n",
    "    \n",
    "    - Dark Run Folder: (str) /gpfs/exfel/exp/MID/201931/proposal/raw/run_number\n",
    "    - Train ids: Train indices to take average over. Range based (start:stop). Deafult is all train (:)\n",
    "    - Process Darak button: To evalute average. This is done in parallel over modules. Doesn't block\n",
    "      further analysis. Once results (average image and histograms) are available it be displayed automatically.\n",
    "    - Using Pulses (slider) and module numbers (dropbox) on top one can visulaize data for each pulses or modules.\n",
    "\n",
    "* Data Visualization (Tab 2):\n"
   ]
  },
  {
   "cell_type": "code",
   "execution_count": 2,
   "metadata": {},
   "outputs": [],
   "source": [
    "config = dict(\n",
    "    dark_run_folder='/gpfs/exfel/exp/MID/201931/p900091/raw/r0504',\n",
    "    run_folder='/gpfs/exfel/exp/MID/201931/p900091/raw/r0491',\n",
    ")"
   ]
  },
  {
   "cell_type": "code",
   "execution_count": 3,
   "metadata": {
    "scrolled": false
   },
   "outputs": [
    {
     "data": {
      "application/vnd.jupyter.widget-view+json": {
       "model_id": "56bddef73bba43be94df11a8b961918f",
       "version_major": 2,
       "version_minor": 0
      },
      "text/plain": [
       "HBox(children=(Dropdown(description='Cmap:', options=('Blackbody', 'Reds', 'Viridis', 'Plasma'), value='Blackb…"
      ]
     },
     "metadata": {},
     "output_type": "display_data"
    },
    {
     "data": {
      "application/vnd.jupyter.widget-view+json": {
       "model_id": "4c2536f36dcd4a70a57478cff8f3db6a",
       "version_major": 2,
       "version_minor": 0
      },
      "text/plain": [
       "Tab(children=(Box(children=(Box(children=(Label(value='Module numbers:'), Text(value='15, 14', continuous_upda…"
      ]
     },
     "metadata": {},
     "output_type": "display_data"
    }
   ],
   "source": [
    "d = Display(config=config)\n",
    "d.control_panel()"
   ]
  },
  {
   "cell_type": "code",
   "execution_count": null,
   "metadata": {},
   "outputs": [],
   "source": [
    "module_numbers = [15, 14]"
   ]
  },
  {
   "cell_type": "code",
   "execution_count": null,
   "metadata": {},
   "outputs": [],
   "source": [
    "dark_folder = \"/gpfs/exfel/exp/MID/201931/p900091/raw/r0504\"\n",
    "\n",
    "def f(x):\n",
    "    return x\n",
    "\n",
    "dark_average = partial(\n",
    "    DataProcessing,\n",
    "    path=dark_folder,\n",
    "    pulse_ids=\"1:100:2\",\n",
    "    train_index=by_index[200:300],\n",
    "    rois=by_index[..., :, :],\n",
    "    operation=partial(np.mean, axis=0))\n",
    "\n",
    "\n",
    "futures = OrderedDict()\n",
    "\n",
    "with ProcessPoolExecutor(max_workers=len(module_numbers)) as executor:\n",
    "    for mod_no in module_numbers:\n",
    "        futures[mod_no] = executor.submit(dark_average, mod_no)\n"
   ]
  },
  {
   "cell_type": "code",
   "execution_count": null,
   "metadata": {
    "scrolled": true
   },
   "outputs": [],
   "source": [
    "print(futures)\n",
    "\n",
    "dark_data = { module:result.result() for module, result in futures.items()}\n",
    "\n",
    "print(dark_data[15].shape)"
   ]
  },
  {
   "cell_type": "code",
   "execution_count": null,
   "metadata": {},
   "outputs": [],
   "source": [
    "with h5py.File(\"dark_run.h5\", \"w\") as f:\n",
    "    for modno, data in dark_data.items():\n",
    "        g = f.create_group(f\"entry_1/instrument/module_{modno}\")\n",
    "        g.create_dataset('data', data=dark_data[modno])"
   ]
  },
  {
   "cell_type": "code",
   "execution_count": null,
   "metadata": {
    "scrolled": false
   },
   "outputs": [],
   "source": [
    "import matplotlib.pyplot as plt\n",
    "%matplotlib inline\n",
    "\n",
    "\n",
    "for idx, modno in enumerate(module_numbers):\n",
    "    fig, ax = plt.subplots(1,2, figsize=(15,4), tight_layout=True)\n",
    "    ax[0].imshow(dark_data[modno][0, 0, ...])\n",
    "    ax[1].hist(dark_data[modno][:, 0, ...].ravel(), bins=400,  edgecolor='w')\n",
    "    ax[0].set_aspect('auto')"
   ]
  },
  {
   "cell_type": "code",
   "execution_count": null,
   "metadata": {},
   "outputs": [],
   "source": [
    "flat_field_folder = \"/gpfs/exfel/exp/MID/201931/p900091/raw/r0491\"\n",
    "\n",
    "dark_subtraction = partial(\n",
    "    DataProcessing,\n",
    "    path=flat_field_folder,\n",
    "    pulse_ids=\"1:250:2\",\n",
    "    train_index=by_index[250:280],\n",
    "    rois=by_index[..., :, :],\n",
    "    operation=partial(f),\n",
    "    dark_run=dark_data)\n",
    "\n",
    "futures_dark_sub = OrderedDict()\n",
    "\n",
    "with ProcessPoolExecutor(max_workers=len(module_numbers)) as executor:\n",
    "    for mod_no in module_numbers:\n",
    "        futures_dark_sub[mod_no] = executor.submit(dark_subtraction, mod_no)"
   ]
  },
  {
   "cell_type": "code",
   "execution_count": null,
   "metadata": {},
   "outputs": [],
   "source": [
    "print(futures_dark_sub)\n",
    "dark_subtracted_data = { module:result.result() for module, result in futures_dark_sub.items()}\n",
    "\n",
    "dark_subtracted_data[15].shape"
   ]
  },
  {
   "cell_type": "code",
   "execution_count": null,
   "metadata": {},
   "outputs": [],
   "source": [
    "with h5py.File(\"dark_subtracted.h5\", \"w\") as f:\n",
    "    for modno, data in dark_subtracted_data.items():\n",
    "        g = f.create_group(f\"entry_1/instrument/module_{modno}\")\n",
    "        g.create_dataset('data', data=dark_subtracted_data[modno])"
   ]
  },
  {
   "cell_type": "code",
   "execution_count": null,
   "metadata": {
    "scrolled": false
   },
   "outputs": [],
   "source": [
    "import matplotlib.pyplot as plt\n",
    "from scipy.signal import find_peaks\n",
    "from scipy.signal import savgol_filter\n",
    "from scipy.ndimage import gaussian_filter, gaussian_filter1d\n",
    "\n",
    "\n",
    "%matplotlib inline\n",
    "\n",
    "for idx in range(99, 100):\n",
    "    fig, ax = plt.subplots(1,2, figsize=(15,4), tight_layout=True)\n",
    "    ax[0].imshow(dark_subtracted_data[15][0, idx, 0, ...] )\n",
    "    counts, bins, _ = ax[1].hist(dark_subtracted_data[15][:, idx, 0 , ...].ravel(), bins=1000)\n",
    "    ax[0].set_aspect('auto')\n",
    "    bin_centers = (bins[1:] + bins[:-1])/2.0\n",
    "    #filtered = savgol_filter(counts, 21, 2)\n",
    "    filtered = gaussian_filter(counts, 1.5)\n",
    "    peaks, _ = find_peaks(filtered, height=200)\n",
    "    ax[1].plot(bin_centers[peaks], filtered[peaks], 'go')\n",
    "    print(bin_centers[peaks], filtered[peaks])\n",
    "    ax[1].plot(bin_centers, filtered, 'k-')"
   ]
  },
  {
   "cell_type": "code",
   "execution_count": null,
   "metadata": {},
   "outputs": [],
   "source": [
    "hist, bin_edges = np.histogram(dark_subtracted_data[15][:, 95, 0 , ...].ravel(), bins=1000)\n",
    "bin_centers = (bin_edges[1:] + bin_edges[:-1])/2.0"
   ]
  },
  {
   "cell_type": "code",
   "execution_count": null,
   "metadata": {},
   "outputs": [],
   "source": [
    "import plotly.graph_objs as go\n",
    "from plotly.subplots import make_subplots\n",
    "\n",
    "fig = make_subplots(rows=1, cols=2)\n",
    "fig.add_trace(\n",
    "    go.Heatmap(\n",
    "        z=dark_subtracted_data[15][0, 96, 0, ...],\n",
    "        colorscale = 'Viridis',\n",
    "        showscale=False), \n",
    "    row=1, col=1)\n",
    "\n",
    "fig.add_trace(\n",
    "    go.Bar(\n",
    "        x=bin_centers, \n",
    "        y=hist), \n",
    "    row=1, col=2)\n",
    "\n",
    "\n",
    "\n",
    "fig.update_layout(height=400, width=900, showlegend=False)\n",
    "\n",
    "fig.show()"
   ]
  },
  {
   "cell_type": "code",
   "execution_count": null,
   "metadata": {},
   "outputs": [],
   "source": [
    "smooth = gaussian_filter(hist, 1.5)\n",
    "peaks, _ = find_peaks(smooth)\n",
    "\n",
    "print(smooth[peaks])\n",
    "print(bin_centers[peaks])\n",
    "\n",
    "\n",
    "peaks_values = smooth[peaks]\n",
    "peaks_positions = bin_centers[peaks]\n",
    "\n",
    "ind = np.argpartition(peaks_values, -3)[-3:]\n",
    "print(\"values \", peaks_values[ind])\n",
    "print(\"values \", peaks_positions[ind])"
   ]
  },
  {
   "cell_type": "code",
   "execution_count": null,
   "metadata": {},
   "outputs": [],
   "source": [
    "%matplotlib inline\n",
    "import math\n",
    "\n",
    "def g(x, A, mu, sigma):\n",
    "    return A * np.exp(-(x-mu)**2 / (sigma))\n",
    "\n",
    "from lmfit import Model\n",
    "\n",
    "# model_1 = models.GaussianModel(prefix='m1_')\n",
    "# model_2 = models.GaussianModel(prefix='m2_')\n",
    "# model_3 = models.GaussianModel(prefix='m3_')\n",
    "\n",
    "model_1 = Model(g, prefix='m1_')\n",
    "model_2 = Model(g, prefix='m2_') \n",
    "model_3 = Model(g, prefix='m3_')\n",
    "\n",
    "model = model_1 + model_2 + model_3\n",
    "\n",
    "params_1 = model_1.make_params(A=7000, mu=-30, sigma=400)\n",
    "params_2 = model_2.make_params(A=10000, mu=10, sigma=100)\n",
    "params_1.update(params_2)\n",
    "params_3 = model_3.make_params(A=7000, mu=50, sigma=100)\n",
    "params_1.update(params_3)\n",
    "\n",
    "print(params_1)\n",
    "output = model.fit(hist, params_1, x=bin_centers)\n",
    "\n",
    "plt.plot(bin_centers, hist)\n",
    "plt.plot(bin_centers, output.best_fit, 'r-', label='best fit')\n",
    "plt.plot(bin_centers, output.init_fit, 'k--', label='init fit')"
   ]
  },
  {
   "cell_type": "code",
   "execution_count": null,
   "metadata": {},
   "outputs": [],
   "source": [
    "with h5py.File(\"dark_subtracted.h5\", \"r\") as f:\n",
    "    data = f[\"entry_1/instrument/module_14/data\"][:]\n",
    "\n"
   ]
  },
  {
   "cell_type": "code",
   "execution_count": null,
   "metadata": {},
   "outputs": [],
   "source": [
    "data.shape"
   ]
  },
  {
   "cell_type": "code",
   "execution_count": null,
   "metadata": {},
   "outputs": [],
   "source": [
    "def GaussSum(x,*p):\n",
    "    n = int(len(p)/3)\n",
    "    A = p[:n]\n",
    "    w = p[n:2*n]\n",
    "    c = p[2*n:3*n]\n",
    "    y = sum([ A[i]*np.exp(-(x-c[i])**2./(w[i])) for i in range(n)])\n",
    "    return y\n"
   ]
  },
  {
   "cell_type": "code",
   "execution_count": null,
   "metadata": {},
   "outputs": [],
   "source": []
  },
  {
   "cell_type": "code",
   "execution_count": null,
   "metadata": {},
   "outputs": [],
   "source": [
    "import matplotlib.pyplot as plt\n",
    "from scipy.signal import find_peaks\n",
    "from scipy.signal import savgol_filter\n",
    "from scipy.ndimage import gaussian_filter, gaussian_filter1d\n",
    "\n",
    "from scipy.optimize import curve_fit\n",
    "%matplotlib inline\n",
    "\n",
    "\n",
    "for idx in range(6, 8):\n",
    "    params = []\n",
    "    fig, ax = plt.subplots(1,2, figsize=(15,4), tight_layout=True)\n",
    "    #ax[0].imshow(data[0, idx, 0, ...] )\n",
    "    counts, bins, _ = ax[1].hist(data[:, idx, 0 , ...].ravel(), bins=1000)\n",
    "    #ax[0].set_aspect('auto')\n",
    "    bin_centers = (bins[1:] + bins[:-1])/2.0\n",
    "    filtered = gaussian_filter(counts, 1.5)\n",
    "    peaks, _ = find_peaks(filtered, height=2000, distance=10)\n",
    "    \n",
    "    \n",
    "    ax[1].plot(bin_centers[peaks], filtered[peaks], 'go')\n",
    "    print(bin_centers[peaks], filtered[peaks])\n",
    "    \n",
    "    \n",
    "    sigma = np.full((len(bin_centers[peaks])), 1)\n",
    "    print(sigma)\n",
    "    params.extend(filtered[peaks])\n",
    "    params.extend(sigma)\n",
    "    params.extend(bin_centers[peaks])\n",
    "    print(params)\n",
    "    #gauss_data = np.array([GaussSum(x, *params) for x in bin_centers])\n",
    "    popt, pcov = curve_fit(GaussSum, bin_centers, filtered, p0=params)\n",
    "    gauss_data = np.array([GaussSum(x, *popt) for x in bin_centers])\n",
    "    ax[1].plot(bin_centers, gauss_data, 'r--')\n",
    "    #ax[1].plot(bin_centers, filtered, 'k-')"
   ]
  }
 ],
 "metadata": {
  "kernelspec": {
   "display_name": "calibration-kernel",
   "language": "python",
   "name": "calibration-kernel"
  },
  "language_info": {
   "codemirror_mode": {
    "name": "ipython",
    "version": 3
   },
   "file_extension": ".py",
   "mimetype": "text/x-python",
   "name": "python",
   "nbconvert_exporter": "python",
   "pygments_lexer": "ipython3",
   "version": "3.6.9"
  }
 },
 "nbformat": 4,
 "nbformat_minor": 2
}
