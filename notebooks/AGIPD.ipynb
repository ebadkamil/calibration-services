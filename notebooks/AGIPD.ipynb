{
 "cells": [
  {
   "cell_type": "code",
   "execution_count": 2,
   "metadata": {},
   "outputs": [],
   "source": [
    "%reload_ext autoreload\n",
    "%autoreload 2\n",
    "\n",
    "from collections import OrderedDict\n",
    "from concurrent.futures import ProcessPoolExecutor, ThreadPoolExecutor\n",
    "from functools import partial\n",
    "import h5py\n",
    "import numpy as np\n",
    "import time\n",
    "import xarray as xr\n",
    "from itertools import groupby\n",
    "import matplotlib.pyplot as plt\n",
    "import matplotlib.patches as patches\n",
    "\n",
    "import plotly.graph_objects as go\n",
    "\n",
    "\n",
    "from karabo_data import open_run, DataCollection\n",
    "from calibration import dark_offset, module_roi_intensity, parse_ids, find_proposal"
   ]
  },
  {
   "cell_type": "markdown",
   "metadata": {},
   "source": [
    "# Evaluate dark for all modules in parallel and store in file\n"
   ]
  },
  {
   "cell_type": "code",
   "execution_count": 27,
   "metadata": {},
   "outputs": [
    {
     "data": {
      "text/plain": [
       "[0, 1, 2, 3, 4, 5, 6, 7, 8, 9, 10, 11, 12, 13, 14, 15]"
      ]
     },
     "execution_count": 27,
     "metadata": {},
     "output_type": "execute_result"
    }
   ],
   "source": [
    "proposal = 900138\n",
    "dark_run_nr = 60\n",
    "\n",
    "timing_run_nr = 63\n",
    "\n",
    "modules = \"0:16\"\n",
    "pulse_ids = \":\"\n",
    "\n",
    "# List of modules\n",
    "module_numbers = parse_ids(modules)\n",
    "module_numbers"
   ]
  },
  {
   "cell_type": "code",
   "execution_count": 9,
   "metadata": {
    "scrolled": true
   },
   "outputs": [
    {
     "data": {
      "text/plain": [
       "'/gpfs/exfel/exp/SPB/202030/p900138/raw/r0060'"
      ]
     },
     "execution_count": 9,
     "metadata": {},
     "output_type": "execute_result"
    }
   ],
   "source": [
    "find_proposal(proposal, 60)"
   ]
  },
  {
   "cell_type": "code",
   "execution_count": 12,
   "metadata": {},
   "outputs": [
    {
     "name": "stdout",
     "output_type": "stream",
     "text": [
      "Time to evaluate dark offset: 156.20498692337424\n"
     ]
    }
   ],
   "source": [
    "# Store dark data in dark_data dictionary\n",
    "# dark_data = {modno:data}\n",
    "\n",
    "dark_data = {}\n",
    "\n",
    "_dark_eval = partial(dark_offset, \n",
    "                     proposal,\n",
    "                     dark_run_nr,\n",
    "                     pulse_ids=pulse_ids,\n",
    "                     dettype='AGIPD')\n",
    "\n",
    "t0 = time.perf_counter()\n",
    "\n",
    "with ProcessPoolExecutor(max_workers=len(module_numbers)) as executor:\n",
    "    for modno, ret in zip(module_numbers, executor.map(_dark_eval, module_numbers)):\n",
    "        dark_data[modno] = ret\n",
    "        \n",
    "print(f\"Time to evaluate dark offset: {time.perf_counter() - t0}\")     "
   ]
  },
  {
   "cell_type": "code",
   "execution_count": 22,
   "metadata": {},
   "outputs": [
    {
     "data": {
      "text/plain": [
       "dict_keys([0, 1, 2, 3, 4, 5, 6, 7, 8, 9, 10, 11, 12, 13, 14, 15])"
      ]
     },
     "execution_count": 22,
     "metadata": {},
     "output_type": "execute_result"
    }
   ],
   "source": [
    "dark_data.keys()"
   ]
  },
  {
   "cell_type": "code",
   "execution_count": 20,
   "metadata": {},
   "outputs": [
    {
     "data": {
      "application/javascript": [
       "/* Put everything inside the global mpl namespace */\n",
       "window.mpl = {};\n",
       "\n",
       "\n",
       "mpl.get_websocket_type = function() {\n",
       "    if (typeof(WebSocket) !== 'undefined') {\n",
       "        return WebSocket;\n",
       "    } else if (typeof(MozWebSocket) !== 'undefined') {\n",
       "        return MozWebSocket;\n",
       "    } else {\n",
       "        alert('Your browser does not have WebSocket support. ' +\n",
       "              'Please try Chrome, Safari or Firefox ≥ 6. ' +\n",
       "              'Firefox 4 and 5 are also supported but you ' +\n",
       "              'have to enable WebSockets in about:config.');\n",
       "    };\n",
       "}\n",
       "\n",
       "mpl.figure = function(figure_id, websocket, ondownload, parent_element) {\n",
       "    this.id = figure_id;\n",
       "\n",
       "    this.ws = websocket;\n",
       "\n",
       "    this.supports_binary = (this.ws.binaryType != undefined);\n",
       "\n",
       "    if (!this.supports_binary) {\n",
       "        var warnings = document.getElementById(\"mpl-warnings\");\n",
       "        if (warnings) {\n",
       "            warnings.style.display = 'block';\n",
       "            warnings.textContent = (\n",
       "                \"This browser does not support binary websocket messages. \" +\n",
       "                    \"Performance may be slow.\");\n",
       "        }\n",
       "    }\n",
       "\n",
       "    this.imageObj = new Image();\n",
       "\n",
       "    this.context = undefined;\n",
       "    this.message = undefined;\n",
       "    this.canvas = undefined;\n",
       "    this.rubberband_canvas = undefined;\n",
       "    this.rubberband_context = undefined;\n",
       "    this.format_dropdown = undefined;\n",
       "\n",
       "    this.image_mode = 'full';\n",
       "\n",
       "    this.root = $('<div/>');\n",
       "    this._root_extra_style(this.root)\n",
       "    this.root.attr('style', 'display: inline-block');\n",
       "\n",
       "    $(parent_element).append(this.root);\n",
       "\n",
       "    this._init_header(this);\n",
       "    this._init_canvas(this);\n",
       "    this._init_toolbar(this);\n",
       "\n",
       "    var fig = this;\n",
       "\n",
       "    this.waiting = false;\n",
       "\n",
       "    this.ws.onopen =  function () {\n",
       "            fig.send_message(\"supports_binary\", {value: fig.supports_binary});\n",
       "            fig.send_message(\"send_image_mode\", {});\n",
       "            if (mpl.ratio != 1) {\n",
       "                fig.send_message(\"set_dpi_ratio\", {'dpi_ratio': mpl.ratio});\n",
       "            }\n",
       "            fig.send_message(\"refresh\", {});\n",
       "        }\n",
       "\n",
       "    this.imageObj.onload = function() {\n",
       "            if (fig.image_mode == 'full') {\n",
       "                // Full images could contain transparency (where diff images\n",
       "                // almost always do), so we need to clear the canvas so that\n",
       "                // there is no ghosting.\n",
       "                fig.context.clearRect(0, 0, fig.canvas.width, fig.canvas.height);\n",
       "            }\n",
       "            fig.context.drawImage(fig.imageObj, 0, 0);\n",
       "        };\n",
       "\n",
       "    this.imageObj.onunload = function() {\n",
       "        fig.ws.close();\n",
       "    }\n",
       "\n",
       "    this.ws.onmessage = this._make_on_message_function(this);\n",
       "\n",
       "    this.ondownload = ondownload;\n",
       "}\n",
       "\n",
       "mpl.figure.prototype._init_header = function() {\n",
       "    var titlebar = $(\n",
       "        '<div class=\"ui-dialog-titlebar ui-widget-header ui-corner-all ' +\n",
       "        'ui-helper-clearfix\"/>');\n",
       "    var titletext = $(\n",
       "        '<div class=\"ui-dialog-title\" style=\"width: 100%; ' +\n",
       "        'text-align: center; padding: 3px;\"/>');\n",
       "    titlebar.append(titletext)\n",
       "    this.root.append(titlebar);\n",
       "    this.header = titletext[0];\n",
       "}\n",
       "\n",
       "\n",
       "\n",
       "mpl.figure.prototype._canvas_extra_style = function(canvas_div) {\n",
       "\n",
       "}\n",
       "\n",
       "\n",
       "mpl.figure.prototype._root_extra_style = function(canvas_div) {\n",
       "\n",
       "}\n",
       "\n",
       "mpl.figure.prototype._init_canvas = function() {\n",
       "    var fig = this;\n",
       "\n",
       "    var canvas_div = $('<div/>');\n",
       "\n",
       "    canvas_div.attr('style', 'position: relative; clear: both; outline: 0');\n",
       "\n",
       "    function canvas_keyboard_event(event) {\n",
       "        return fig.key_event(event, event['data']);\n",
       "    }\n",
       "\n",
       "    canvas_div.keydown('key_press', canvas_keyboard_event);\n",
       "    canvas_div.keyup('key_release', canvas_keyboard_event);\n",
       "    this.canvas_div = canvas_div\n",
       "    this._canvas_extra_style(canvas_div)\n",
       "    this.root.append(canvas_div);\n",
       "\n",
       "    var canvas = $('<canvas/>');\n",
       "    canvas.addClass('mpl-canvas');\n",
       "    canvas.attr('style', \"left: 0; top: 0; z-index: 0; outline: 0\")\n",
       "\n",
       "    this.canvas = canvas[0];\n",
       "    this.context = canvas[0].getContext(\"2d\");\n",
       "\n",
       "    var backingStore = this.context.backingStorePixelRatio ||\n",
       "\tthis.context.webkitBackingStorePixelRatio ||\n",
       "\tthis.context.mozBackingStorePixelRatio ||\n",
       "\tthis.context.msBackingStorePixelRatio ||\n",
       "\tthis.context.oBackingStorePixelRatio ||\n",
       "\tthis.context.backingStorePixelRatio || 1;\n",
       "\n",
       "    mpl.ratio = (window.devicePixelRatio || 1) / backingStore;\n",
       "\n",
       "    var rubberband = $('<canvas/>');\n",
       "    rubberband.attr('style', \"position: absolute; left: 0; top: 0; z-index: 1;\")\n",
       "\n",
       "    var pass_mouse_events = true;\n",
       "\n",
       "    canvas_div.resizable({\n",
       "        start: function(event, ui) {\n",
       "            pass_mouse_events = false;\n",
       "        },\n",
       "        resize: function(event, ui) {\n",
       "            fig.request_resize(ui.size.width, ui.size.height);\n",
       "        },\n",
       "        stop: function(event, ui) {\n",
       "            pass_mouse_events = true;\n",
       "            fig.request_resize(ui.size.width, ui.size.height);\n",
       "        },\n",
       "    });\n",
       "\n",
       "    function mouse_event_fn(event) {\n",
       "        if (pass_mouse_events)\n",
       "            return fig.mouse_event(event, event['data']);\n",
       "    }\n",
       "\n",
       "    rubberband.mousedown('button_press', mouse_event_fn);\n",
       "    rubberband.mouseup('button_release', mouse_event_fn);\n",
       "    // Throttle sequential mouse events to 1 every 20ms.\n",
       "    rubberband.mousemove('motion_notify', mouse_event_fn);\n",
       "\n",
       "    rubberband.mouseenter('figure_enter', mouse_event_fn);\n",
       "    rubberband.mouseleave('figure_leave', mouse_event_fn);\n",
       "\n",
       "    canvas_div.on(\"wheel\", function (event) {\n",
       "        event = event.originalEvent;\n",
       "        event['data'] = 'scroll'\n",
       "        if (event.deltaY < 0) {\n",
       "            event.step = 1;\n",
       "        } else {\n",
       "            event.step = -1;\n",
       "        }\n",
       "        mouse_event_fn(event);\n",
       "    });\n",
       "\n",
       "    canvas_div.append(canvas);\n",
       "    canvas_div.append(rubberband);\n",
       "\n",
       "    this.rubberband = rubberband;\n",
       "    this.rubberband_canvas = rubberband[0];\n",
       "    this.rubberband_context = rubberband[0].getContext(\"2d\");\n",
       "    this.rubberband_context.strokeStyle = \"#000000\";\n",
       "\n",
       "    this._resize_canvas = function(width, height) {\n",
       "        // Keep the size of the canvas, canvas container, and rubber band\n",
       "        // canvas in synch.\n",
       "        canvas_div.css('width', width)\n",
       "        canvas_div.css('height', height)\n",
       "\n",
       "        canvas.attr('width', width * mpl.ratio);\n",
       "        canvas.attr('height', height * mpl.ratio);\n",
       "        canvas.attr('style', 'width: ' + width + 'px; height: ' + height + 'px;');\n",
       "\n",
       "        rubberband.attr('width', width);\n",
       "        rubberband.attr('height', height);\n",
       "    }\n",
       "\n",
       "    // Set the figure to an initial 600x600px, this will subsequently be updated\n",
       "    // upon first draw.\n",
       "    this._resize_canvas(600, 600);\n",
       "\n",
       "    // Disable right mouse context menu.\n",
       "    $(this.rubberband_canvas).bind(\"contextmenu\",function(e){\n",
       "        return false;\n",
       "    });\n",
       "\n",
       "    function set_focus () {\n",
       "        canvas.focus();\n",
       "        canvas_div.focus();\n",
       "    }\n",
       "\n",
       "    window.setTimeout(set_focus, 100);\n",
       "}\n",
       "\n",
       "mpl.figure.prototype._init_toolbar = function() {\n",
       "    var fig = this;\n",
       "\n",
       "    var nav_element = $('<div/>');\n",
       "    nav_element.attr('style', 'width: 100%');\n",
       "    this.root.append(nav_element);\n",
       "\n",
       "    // Define a callback function for later on.\n",
       "    function toolbar_event(event) {\n",
       "        return fig.toolbar_button_onclick(event['data']);\n",
       "    }\n",
       "    function toolbar_mouse_event(event) {\n",
       "        return fig.toolbar_button_onmouseover(event['data']);\n",
       "    }\n",
       "\n",
       "    for(var toolbar_ind in mpl.toolbar_items) {\n",
       "        var name = mpl.toolbar_items[toolbar_ind][0];\n",
       "        var tooltip = mpl.toolbar_items[toolbar_ind][1];\n",
       "        var image = mpl.toolbar_items[toolbar_ind][2];\n",
       "        var method_name = mpl.toolbar_items[toolbar_ind][3];\n",
       "\n",
       "        if (!name) {\n",
       "            // put a spacer in here.\n",
       "            continue;\n",
       "        }\n",
       "        var button = $('<button/>');\n",
       "        button.addClass('ui-button ui-widget ui-state-default ui-corner-all ' +\n",
       "                        'ui-button-icon-only');\n",
       "        button.attr('role', 'button');\n",
       "        button.attr('aria-disabled', 'false');\n",
       "        button.click(method_name, toolbar_event);\n",
       "        button.mouseover(tooltip, toolbar_mouse_event);\n",
       "\n",
       "        var icon_img = $('<span/>');\n",
       "        icon_img.addClass('ui-button-icon-primary ui-icon');\n",
       "        icon_img.addClass(image);\n",
       "        icon_img.addClass('ui-corner-all');\n",
       "\n",
       "        var tooltip_span = $('<span/>');\n",
       "        tooltip_span.addClass('ui-button-text');\n",
       "        tooltip_span.html(tooltip);\n",
       "\n",
       "        button.append(icon_img);\n",
       "        button.append(tooltip_span);\n",
       "\n",
       "        nav_element.append(button);\n",
       "    }\n",
       "\n",
       "    var fmt_picker_span = $('<span/>');\n",
       "\n",
       "    var fmt_picker = $('<select/>');\n",
       "    fmt_picker.addClass('mpl-toolbar-option ui-widget ui-widget-content');\n",
       "    fmt_picker_span.append(fmt_picker);\n",
       "    nav_element.append(fmt_picker_span);\n",
       "    this.format_dropdown = fmt_picker[0];\n",
       "\n",
       "    for (var ind in mpl.extensions) {\n",
       "        var fmt = mpl.extensions[ind];\n",
       "        var option = $(\n",
       "            '<option/>', {selected: fmt === mpl.default_extension}).html(fmt);\n",
       "        fmt_picker.append(option);\n",
       "    }\n",
       "\n",
       "    // Add hover states to the ui-buttons\n",
       "    $( \".ui-button\" ).hover(\n",
       "        function() { $(this).addClass(\"ui-state-hover\");},\n",
       "        function() { $(this).removeClass(\"ui-state-hover\");}\n",
       "    );\n",
       "\n",
       "    var status_bar = $('<span class=\"mpl-message\"/>');\n",
       "    nav_element.append(status_bar);\n",
       "    this.message = status_bar[0];\n",
       "}\n",
       "\n",
       "mpl.figure.prototype.request_resize = function(x_pixels, y_pixels) {\n",
       "    // Request matplotlib to resize the figure. Matplotlib will then trigger a resize in the client,\n",
       "    // which will in turn request a refresh of the image.\n",
       "    this.send_message('resize', {'width': x_pixels, 'height': y_pixels});\n",
       "}\n",
       "\n",
       "mpl.figure.prototype.send_message = function(type, properties) {\n",
       "    properties['type'] = type;\n",
       "    properties['figure_id'] = this.id;\n",
       "    this.ws.send(JSON.stringify(properties));\n",
       "}\n",
       "\n",
       "mpl.figure.prototype.send_draw_message = function() {\n",
       "    if (!this.waiting) {\n",
       "        this.waiting = true;\n",
       "        this.ws.send(JSON.stringify({type: \"draw\", figure_id: this.id}));\n",
       "    }\n",
       "}\n",
       "\n",
       "\n",
       "mpl.figure.prototype.handle_save = function(fig, msg) {\n",
       "    var format_dropdown = fig.format_dropdown;\n",
       "    var format = format_dropdown.options[format_dropdown.selectedIndex].value;\n",
       "    fig.ondownload(fig, format);\n",
       "}\n",
       "\n",
       "\n",
       "mpl.figure.prototype.handle_resize = function(fig, msg) {\n",
       "    var size = msg['size'];\n",
       "    if (size[0] != fig.canvas.width || size[1] != fig.canvas.height) {\n",
       "        fig._resize_canvas(size[0], size[1]);\n",
       "        fig.send_message(\"refresh\", {});\n",
       "    };\n",
       "}\n",
       "\n",
       "mpl.figure.prototype.handle_rubberband = function(fig, msg) {\n",
       "    var x0 = msg['x0'] / mpl.ratio;\n",
       "    var y0 = (fig.canvas.height - msg['y0']) / mpl.ratio;\n",
       "    var x1 = msg['x1'] / mpl.ratio;\n",
       "    var y1 = (fig.canvas.height - msg['y1']) / mpl.ratio;\n",
       "    x0 = Math.floor(x0) + 0.5;\n",
       "    y0 = Math.floor(y0) + 0.5;\n",
       "    x1 = Math.floor(x1) + 0.5;\n",
       "    y1 = Math.floor(y1) + 0.5;\n",
       "    var min_x = Math.min(x0, x1);\n",
       "    var min_y = Math.min(y0, y1);\n",
       "    var width = Math.abs(x1 - x0);\n",
       "    var height = Math.abs(y1 - y0);\n",
       "\n",
       "    fig.rubberband_context.clearRect(\n",
       "        0, 0, fig.canvas.width / mpl.ratio, fig.canvas.height / mpl.ratio);\n",
       "\n",
       "    fig.rubberband_context.strokeRect(min_x, min_y, width, height);\n",
       "}\n",
       "\n",
       "mpl.figure.prototype.handle_figure_label = function(fig, msg) {\n",
       "    // Updates the figure title.\n",
       "    fig.header.textContent = msg['label'];\n",
       "}\n",
       "\n",
       "mpl.figure.prototype.handle_cursor = function(fig, msg) {\n",
       "    var cursor = msg['cursor'];\n",
       "    switch(cursor)\n",
       "    {\n",
       "    case 0:\n",
       "        cursor = 'pointer';\n",
       "        break;\n",
       "    case 1:\n",
       "        cursor = 'default';\n",
       "        break;\n",
       "    case 2:\n",
       "        cursor = 'crosshair';\n",
       "        break;\n",
       "    case 3:\n",
       "        cursor = 'move';\n",
       "        break;\n",
       "    }\n",
       "    fig.rubberband_canvas.style.cursor = cursor;\n",
       "}\n",
       "\n",
       "mpl.figure.prototype.handle_message = function(fig, msg) {\n",
       "    fig.message.textContent = msg['message'];\n",
       "}\n",
       "\n",
       "mpl.figure.prototype.handle_draw = function(fig, msg) {\n",
       "    // Request the server to send over a new figure.\n",
       "    fig.send_draw_message();\n",
       "}\n",
       "\n",
       "mpl.figure.prototype.handle_image_mode = function(fig, msg) {\n",
       "    fig.image_mode = msg['mode'];\n",
       "}\n",
       "\n",
       "mpl.figure.prototype.updated_canvas_event = function() {\n",
       "    // Called whenever the canvas gets updated.\n",
       "    this.send_message(\"ack\", {});\n",
       "}\n",
       "\n",
       "// A function to construct a web socket function for onmessage handling.\n",
       "// Called in the figure constructor.\n",
       "mpl.figure.prototype._make_on_message_function = function(fig) {\n",
       "    return function socket_on_message(evt) {\n",
       "        if (evt.data instanceof Blob) {\n",
       "            /* FIXME: We get \"Resource interpreted as Image but\n",
       "             * transferred with MIME type text/plain:\" errors on\n",
       "             * Chrome.  But how to set the MIME type?  It doesn't seem\n",
       "             * to be part of the websocket stream */\n",
       "            evt.data.type = \"image/png\";\n",
       "\n",
       "            /* Free the memory for the previous frames */\n",
       "            if (fig.imageObj.src) {\n",
       "                (window.URL || window.webkitURL).revokeObjectURL(\n",
       "                    fig.imageObj.src);\n",
       "            }\n",
       "\n",
       "            fig.imageObj.src = (window.URL || window.webkitURL).createObjectURL(\n",
       "                evt.data);\n",
       "            fig.updated_canvas_event();\n",
       "            fig.waiting = false;\n",
       "            return;\n",
       "        }\n",
       "        else if (typeof evt.data === 'string' && evt.data.slice(0, 21) == \"data:image/png;base64\") {\n",
       "            fig.imageObj.src = evt.data;\n",
       "            fig.updated_canvas_event();\n",
       "            fig.waiting = false;\n",
       "            return;\n",
       "        }\n",
       "\n",
       "        var msg = JSON.parse(evt.data);\n",
       "        var msg_type = msg['type'];\n",
       "\n",
       "        // Call the  \"handle_{type}\" callback, which takes\n",
       "        // the figure and JSON message as its only arguments.\n",
       "        try {\n",
       "            var callback = fig[\"handle_\" + msg_type];\n",
       "        } catch (e) {\n",
       "            console.log(\"No handler for the '\" + msg_type + \"' message type: \", msg);\n",
       "            return;\n",
       "        }\n",
       "\n",
       "        if (callback) {\n",
       "            try {\n",
       "                // console.log(\"Handling '\" + msg_type + \"' message: \", msg);\n",
       "                callback(fig, msg);\n",
       "            } catch (e) {\n",
       "                console.log(\"Exception inside the 'handler_\" + msg_type + \"' callback:\", e, e.stack, msg);\n",
       "            }\n",
       "        }\n",
       "    };\n",
       "}\n",
       "\n",
       "// from http://stackoverflow.com/questions/1114465/getting-mouse-location-in-canvas\n",
       "mpl.findpos = function(e) {\n",
       "    //this section is from http://www.quirksmode.org/js/events_properties.html\n",
       "    var targ;\n",
       "    if (!e)\n",
       "        e = window.event;\n",
       "    if (e.target)\n",
       "        targ = e.target;\n",
       "    else if (e.srcElement)\n",
       "        targ = e.srcElement;\n",
       "    if (targ.nodeType == 3) // defeat Safari bug\n",
       "        targ = targ.parentNode;\n",
       "\n",
       "    // jQuery normalizes the pageX and pageY\n",
       "    // pageX,Y are the mouse positions relative to the document\n",
       "    // offset() returns the position of the element relative to the document\n",
       "    var x = e.pageX - $(targ).offset().left;\n",
       "    var y = e.pageY - $(targ).offset().top;\n",
       "\n",
       "    return {\"x\": x, \"y\": y};\n",
       "};\n",
       "\n",
       "/*\n",
       " * return a copy of an object with only non-object keys\n",
       " * we need this to avoid circular references\n",
       " * http://stackoverflow.com/a/24161582/3208463\n",
       " */\n",
       "function simpleKeys (original) {\n",
       "  return Object.keys(original).reduce(function (obj, key) {\n",
       "    if (typeof original[key] !== 'object')\n",
       "        obj[key] = original[key]\n",
       "    return obj;\n",
       "  }, {});\n",
       "}\n",
       "\n",
       "mpl.figure.prototype.mouse_event = function(event, name) {\n",
       "    var canvas_pos = mpl.findpos(event)\n",
       "\n",
       "    if (name === 'button_press')\n",
       "    {\n",
       "        this.canvas.focus();\n",
       "        this.canvas_div.focus();\n",
       "    }\n",
       "\n",
       "    var x = canvas_pos.x * mpl.ratio;\n",
       "    var y = canvas_pos.y * mpl.ratio;\n",
       "\n",
       "    this.send_message(name, {x: x, y: y, button: event.button,\n",
       "                             step: event.step,\n",
       "                             guiEvent: simpleKeys(event)});\n",
       "\n",
       "    /* This prevents the web browser from automatically changing to\n",
       "     * the text insertion cursor when the button is pressed.  We want\n",
       "     * to control all of the cursor setting manually through the\n",
       "     * 'cursor' event from matplotlib */\n",
       "    event.preventDefault();\n",
       "    return false;\n",
       "}\n",
       "\n",
       "mpl.figure.prototype._key_event_extra = function(event, name) {\n",
       "    // Handle any extra behaviour associated with a key event\n",
       "}\n",
       "\n",
       "mpl.figure.prototype.key_event = function(event, name) {\n",
       "\n",
       "    // Prevent repeat events\n",
       "    if (name == 'key_press')\n",
       "    {\n",
       "        if (event.which === this._key)\n",
       "            return;\n",
       "        else\n",
       "            this._key = event.which;\n",
       "    }\n",
       "    if (name == 'key_release')\n",
       "        this._key = null;\n",
       "\n",
       "    var value = '';\n",
       "    if (event.ctrlKey && event.which != 17)\n",
       "        value += \"ctrl+\";\n",
       "    if (event.altKey && event.which != 18)\n",
       "        value += \"alt+\";\n",
       "    if (event.shiftKey && event.which != 16)\n",
       "        value += \"shift+\";\n",
       "\n",
       "    value += 'k';\n",
       "    value += event.which.toString();\n",
       "\n",
       "    this._key_event_extra(event, name);\n",
       "\n",
       "    this.send_message(name, {key: value,\n",
       "                             guiEvent: simpleKeys(event)});\n",
       "    return false;\n",
       "}\n",
       "\n",
       "mpl.figure.prototype.toolbar_button_onclick = function(name) {\n",
       "    if (name == 'download') {\n",
       "        this.handle_save(this, null);\n",
       "    } else {\n",
       "        this.send_message(\"toolbar_button\", {name: name});\n",
       "    }\n",
       "};\n",
       "\n",
       "mpl.figure.prototype.toolbar_button_onmouseover = function(tooltip) {\n",
       "    this.message.textContent = tooltip;\n",
       "};\n",
       "mpl.toolbar_items = [[\"Home\", \"Reset original view\", \"fa fa-home icon-home\", \"home\"], [\"Back\", \"Back to previous view\", \"fa fa-arrow-left icon-arrow-left\", \"back\"], [\"Forward\", \"Forward to next view\", \"fa fa-arrow-right icon-arrow-right\", \"forward\"], [\"\", \"\", \"\", \"\"], [\"Pan\", \"Pan axes with left mouse, zoom with right\", \"fa fa-arrows icon-move\", \"pan\"], [\"Zoom\", \"Zoom to rectangle\", \"fa fa-square-o icon-check-empty\", \"zoom\"], [\"\", \"\", \"\", \"\"], [\"Download\", \"Download plot\", \"fa fa-floppy-o icon-save\", \"download\"]];\n",
       "\n",
       "mpl.extensions = [\"eps\", \"jpeg\", \"pdf\", \"png\", \"ps\", \"raw\", \"svg\", \"tif\"];\n",
       "\n",
       "mpl.default_extension = \"png\";var comm_websocket_adapter = function(comm) {\n",
       "    // Create a \"websocket\"-like object which calls the given IPython comm\n",
       "    // object with the appropriate methods. Currently this is a non binary\n",
       "    // socket, so there is still some room for performance tuning.\n",
       "    var ws = {};\n",
       "\n",
       "    ws.close = function() {\n",
       "        comm.close()\n",
       "    };\n",
       "    ws.send = function(m) {\n",
       "        //console.log('sending', m);\n",
       "        comm.send(m);\n",
       "    };\n",
       "    // Register the callback with on_msg.\n",
       "    comm.on_msg(function(msg) {\n",
       "        //console.log('receiving', msg['content']['data'], msg);\n",
       "        // Pass the mpl event to the overridden (by mpl) onmessage function.\n",
       "        ws.onmessage(msg['content']['data'])\n",
       "    });\n",
       "    return ws;\n",
       "}\n",
       "\n",
       "mpl.mpl_figure_comm = function(comm, msg) {\n",
       "    // This is the function which gets called when the mpl process\n",
       "    // starts-up an IPython Comm through the \"matplotlib\" channel.\n",
       "\n",
       "    var id = msg.content.data.id;\n",
       "    // Get hold of the div created by the display call when the Comm\n",
       "    // socket was opened in Python.\n",
       "    var element = $(\"#\" + id);\n",
       "    var ws_proxy = comm_websocket_adapter(comm)\n",
       "\n",
       "    function ondownload(figure, format) {\n",
       "        window.open(figure.imageObj.src);\n",
       "    }\n",
       "\n",
       "    var fig = new mpl.figure(id, ws_proxy,\n",
       "                           ondownload,\n",
       "                           element.get(0));\n",
       "\n",
       "    // Call onopen now - mpl needs it, as it is assuming we've passed it a real\n",
       "    // web socket which is closed, not our websocket->open comm proxy.\n",
       "    ws_proxy.onopen();\n",
       "\n",
       "    fig.parent_element = element.get(0);\n",
       "    fig.cell_info = mpl.find_output_cell(\"<div id='\" + id + \"'></div>\");\n",
       "    if (!fig.cell_info) {\n",
       "        console.error(\"Failed to find cell for figure\", id, fig);\n",
       "        return;\n",
       "    }\n",
       "\n",
       "    var output_index = fig.cell_info[2]\n",
       "    var cell = fig.cell_info[0];\n",
       "\n",
       "};\n",
       "\n",
       "mpl.figure.prototype.handle_close = function(fig, msg) {\n",
       "    var width = fig.canvas.width/mpl.ratio\n",
       "    fig.root.unbind('remove')\n",
       "\n",
       "    // Update the output cell to use the data from the current canvas.\n",
       "    fig.push_to_output();\n",
       "    var dataURL = fig.canvas.toDataURL();\n",
       "    // Re-enable the keyboard manager in IPython - without this line, in FF,\n",
       "    // the notebook keyboard shortcuts fail.\n",
       "    IPython.keyboard_manager.enable()\n",
       "    $(fig.parent_element).html('<img src=\"' + dataURL + '\" width=\"' + width + '\">');\n",
       "    fig.close_ws(fig, msg);\n",
       "}\n",
       "\n",
       "mpl.figure.prototype.close_ws = function(fig, msg){\n",
       "    fig.send_message('closing', msg);\n",
       "    // fig.ws.close()\n",
       "}\n",
       "\n",
       "mpl.figure.prototype.push_to_output = function(remove_interactive) {\n",
       "    // Turn the data on the canvas into data in the output cell.\n",
       "    var width = this.canvas.width/mpl.ratio\n",
       "    var dataURL = this.canvas.toDataURL();\n",
       "    this.cell_info[1]['text/html'] = '<img src=\"' + dataURL + '\" width=\"' + width + '\">';\n",
       "}\n",
       "\n",
       "mpl.figure.prototype.updated_canvas_event = function() {\n",
       "    // Tell IPython that the notebook contents must change.\n",
       "    IPython.notebook.set_dirty(true);\n",
       "    this.send_message(\"ack\", {});\n",
       "    var fig = this;\n",
       "    // Wait a second, then push the new image to the DOM so\n",
       "    // that it is saved nicely (might be nice to debounce this).\n",
       "    setTimeout(function () { fig.push_to_output() }, 1000);\n",
       "}\n",
       "\n",
       "mpl.figure.prototype._init_toolbar = function() {\n",
       "    var fig = this;\n",
       "\n",
       "    var nav_element = $('<div/>');\n",
       "    nav_element.attr('style', 'width: 100%');\n",
       "    this.root.append(nav_element);\n",
       "\n",
       "    // Define a callback function for later on.\n",
       "    function toolbar_event(event) {\n",
       "        return fig.toolbar_button_onclick(event['data']);\n",
       "    }\n",
       "    function toolbar_mouse_event(event) {\n",
       "        return fig.toolbar_button_onmouseover(event['data']);\n",
       "    }\n",
       "\n",
       "    for(var toolbar_ind in mpl.toolbar_items){\n",
       "        var name = mpl.toolbar_items[toolbar_ind][0];\n",
       "        var tooltip = mpl.toolbar_items[toolbar_ind][1];\n",
       "        var image = mpl.toolbar_items[toolbar_ind][2];\n",
       "        var method_name = mpl.toolbar_items[toolbar_ind][3];\n",
       "\n",
       "        if (!name) { continue; };\n",
       "\n",
       "        var button = $('<button class=\"btn btn-default\" href=\"#\" title=\"' + name + '\"><i class=\"fa ' + image + ' fa-lg\"></i></button>');\n",
       "        button.click(method_name, toolbar_event);\n",
       "        button.mouseover(tooltip, toolbar_mouse_event);\n",
       "        nav_element.append(button);\n",
       "    }\n",
       "\n",
       "    // Add the status bar.\n",
       "    var status_bar = $('<span class=\"mpl-message\" style=\"text-align:right; float: right;\"/>');\n",
       "    nav_element.append(status_bar);\n",
       "    this.message = status_bar[0];\n",
       "\n",
       "    // Add the close button to the window.\n",
       "    var buttongrp = $('<div class=\"btn-group inline pull-right\"></div>');\n",
       "    var button = $('<button class=\"btn btn-mini btn-primary\" href=\"#\" title=\"Stop Interaction\"><i class=\"fa fa-power-off icon-remove icon-large\"></i></button>');\n",
       "    button.click(function (evt) { fig.handle_close(fig, {}); } );\n",
       "    button.mouseover('Stop Interaction', toolbar_mouse_event);\n",
       "    buttongrp.append(button);\n",
       "    var titlebar = this.root.find($('.ui-dialog-titlebar'));\n",
       "    titlebar.prepend(buttongrp);\n",
       "}\n",
       "\n",
       "mpl.figure.prototype._root_extra_style = function(el){\n",
       "    var fig = this\n",
       "    el.on(\"remove\", function(){\n",
       "\tfig.close_ws(fig, {});\n",
       "    });\n",
       "}\n",
       "\n",
       "mpl.figure.prototype._canvas_extra_style = function(el){\n",
       "    // this is important to make the div 'focusable\n",
       "    el.attr('tabindex', 0)\n",
       "    // reach out to IPython and tell the keyboard manager to turn it's self\n",
       "    // off when our div gets focus\n",
       "\n",
       "    // location in version 3\n",
       "    if (IPython.notebook.keyboard_manager) {\n",
       "        IPython.notebook.keyboard_manager.register_events(el);\n",
       "    }\n",
       "    else {\n",
       "        // location in version 2\n",
       "        IPython.keyboard_manager.register_events(el);\n",
       "    }\n",
       "\n",
       "}\n",
       "\n",
       "mpl.figure.prototype._key_event_extra = function(event, name) {\n",
       "    var manager = IPython.notebook.keyboard_manager;\n",
       "    if (!manager)\n",
       "        manager = IPython.keyboard_manager;\n",
       "\n",
       "    // Check for shift+enter\n",
       "    if (event.shiftKey && event.which == 13) {\n",
       "        this.canvas_div.blur();\n",
       "        // select the cell after this one\n",
       "        var index = IPython.notebook.find_cell_index(this.cell_info[0]);\n",
       "        IPython.notebook.select(index + 1);\n",
       "    }\n",
       "}\n",
       "\n",
       "mpl.figure.prototype.handle_save = function(fig, msg) {\n",
       "    fig.ondownload(fig, null);\n",
       "}\n",
       "\n",
       "\n",
       "mpl.find_output_cell = function(html_output) {\n",
       "    // Return the cell and output element which can be found *uniquely* in the notebook.\n",
       "    // Note - this is a bit hacky, but it is done because the \"notebook_saving.Notebook\"\n",
       "    // IPython event is triggered only after the cells have been serialised, which for\n",
       "    // our purposes (turning an active figure into a static one), is too late.\n",
       "    var cells = IPython.notebook.get_cells();\n",
       "    var ncells = cells.length;\n",
       "    for (var i=0; i<ncells; i++) {\n",
       "        var cell = cells[i];\n",
       "        if (cell.cell_type === 'code'){\n",
       "            for (var j=0; j<cell.output_area.outputs.length; j++) {\n",
       "                var data = cell.output_area.outputs[j];\n",
       "                if (data.data) {\n",
       "                    // IPython >= 3 moved mimebundle to data attribute of output\n",
       "                    data = data.data;\n",
       "                }\n",
       "                if (data['text/html'] == html_output) {\n",
       "                    return [cell, data, j];\n",
       "                }\n",
       "            }\n",
       "        }\n",
       "    }\n",
       "}\n",
       "\n",
       "// Register the function which deals with the matplotlib target/channel.\n",
       "// The kernel may be null if the page has been refreshed.\n",
       "if (IPython.notebook.kernel != null) {\n",
       "    IPython.notebook.kernel.comm_manager.register_target('matplotlib', mpl.mpl_figure_comm);\n",
       "}\n"
      ],
      "text/plain": [
       "<IPython.core.display.Javascript object>"
      ]
     },
     "metadata": {},
     "output_type": "display_data"
    },
    {
     "data": {
      "text/html": [
       "<img src=\"data:image/png;base64,iVBORw0KGgoAAAANSUhEUgAAAoAAAAHgCAYAAAA10dzkAAAgAElEQVR4nOy9a4xleVn2XUpkRBFGwkREHUSY7qYOU4eu2tX7sNZeh73WqlM3PTPMIOjLaZg+jqMcprsOu2rXrn2u6hmfRKOPHxTf94mRRAOaPBk1eVGJJ4jEwRMiBl5xgoAJYSaoDMHhfj/8/9e9/rsBqx7MhpG6fkmlaqp27b2rMx+u3Pd9XdeYEEIIIYSQY8XYt/oNEEIIIYSQby4UgIQQQgghxwwKQEIIIYSQYwYFICGEEELIMYMCkBBCCCHkmEEBSAghhBByzKAAJIQQQgg5ZlAAEkIIIYQcMygACSGEEEKOGRSAhBBCCCHHDApAQgghhJBjBgUgIYQQQsgxgwKQEEIIIeSYQQFICCGEEHLMoAAkhBBCCDlmUAASQgghhBwzKAAJIYQQQo4ZFICEEEIIIccMCkBCCCGEkGMGBSAhhBBCyDGDApAQQggh5JhBAUgIIYQQcsygACSEEEIIOWZQABJCCCGEHDMoAAkhhBBCjhkUgIQQQgghxwwKQEIIIYSQYwYFICGEEELIMYMCkBBCCCHkmEEBSAghhBByzKAAJIQQQgg5ZlAAEkIIIYQcMygACSGEEEKOGRSAhBBCCCHHDApAQgghhJBjBgUgIYQQQsgxgwKQEEIIIeSYQQFICCGEEHLMoAAkhBBCCDlmUAASQgghhBwzKAAJIYQQQo4ZFICEEEIIIccMCkBCCCGEkGMGBSAhhBBCyDGDApAQQggh5JhBAUgIIYQQcsygACSEEEIIOWZQABJCCCGEHDMoAAkhhBBCjhkUgIQQQgghxwwKQEIIIYSQYwYFICGEEELIMYMCkBByKD//8z8vL3vZy+SWW26RQqEgH/zgB7/Vb4kQQsh/AQpAQsh/yrvf/W557nOfK7/yK78if/u3fysPPPCA3HrrrfLZz372W/3WCCGEfINQABJC/lMKhYJcvXpV//uZZ56Rl770pdLr9b6F74oQQsh/BQpAQsjX5Utf+pI85znPkfe+971D33/DG94g586d+xa9K0IIIf9VKAAJIV+XT33qUzI2NiZ/+qd/OvT9hx9+WAqFwtf8naefflqeeuop/fj85z8vH//4x+XJJ58c+j4/RvPx5JNPyhNPPCHPPPPMN+N/EULIf1MoAAkhX5dvRAA2Gg0ZGxvjx7f444knnvhm/C9CCPlvCgUgIeTr8o2sgG+eAP7TP/2TjI2NyUK8IfN3tWRxdU9KtV0ppk0pJk05s7wnC+dbUsyaUqo1ZXFtTxbX9vSxC69uyeLanhQT8/Ni0pRyvCulWlNKNXxuSiVoSPVMXTx/Rzx/RyrVhlSChpxZ2pMzS3tSTJv6s3K8K35lW4ppUyrVhpRqTakubolf2ZZy2JBqYUs8b0fCuXWJpq5JdOd1CafXJRp/WOJT75D41DvMz8YflmBhU+JX/oxEkw9LOLcu4ekNCWfX5czyngQLm1ItbEm1sCXh7Lr5PL0unr8jwekN87PFLYlPvl3iV/6MBAubQ88RTq9LcHrD/G2LWxLOmefwK9v6+czynoSnN6QcNiScXpdi6bqMjY3Jk08++c34X4QQ8t8UCkBCyH9KoVCQBx98UP/7mWeekR/6oR86sgnkqaeekrGxMSmcbYm3NpDK2X2pnNuXytl9OXPfgXhrAyneeyDF1xxIFHTEXx5I6Z4DKd1zIN6KeXw165vv320e5y/1pXjvgT5fNetLNeuLtzqQatKTIO5JUOuJtzYQf3kglXP7EkZdqRX39Oe1xabUFpsSxD3xlwcSBR2pJj2Jgo75/bgncaUt6cy2ZKfWJTt5XbIT1yQutySZa0hSaEpSaEo2sSlLr3inpNN1SeYbkk7VpbbYlDDsSja+IZHXlijoSFxuSTq7I+nsjtSKe+a/p+uSTWxKUjDvI5lvSFDrSVxuSVxpS7KwK+lU3bzmfEPCsCtJoSlxuSVBrWf+e64x9J78yraMjY3JU089Nar/JQgh3wZQABJC/lPe/e53yy233CK/+qu/Kh/5yEfkwoULcuutt8pnPvOZI/0+BOCZ5T0p3XNgBODZfakmVqAt9SWIe1K890Dicksq5/blzGtvSDXrq+DzVgfirQ6kfJcRe5Wz5jHeykCCWk+qSU/8pb54a+a//aW+xKWWhFFX4nJLIr8jYdiVMOqqsIuCjiSFpqQz2+KtDMRbGUgYdVUsBnHPCLTxDSPcZrYlu+NhSeYb5mNhV7IT1ySd2TY/n65L5HfMZ68tcbklteKeREFH0tkdCcOuisRacU+ShV0jAqfqkk1uSa24Zx7vtSWZb0jl7L4RgfMNiUvmbwhqPRWLUdAxz1FqSRR0JPLaEkZdKYcNCkBCyKFQABJCDuXnfu7n5Pbbb5fnPve5UigU5AMf+MCRf1cngOdaUrrnQMrn91X4+Utmalc+b6aCmOKV7jmQwk/ckNI9B3LmtTekdLeZCJbuPhB/OZ8YYvqHqVnkd4xQio0IrJzdV4EZBR0jCCttFYje6sAIynP7khSaEvkdiStGvIVhV2qLzaHpXnbyuqRTdUlnd+QV/Ud0mpdOmZ9HQUfSmW2JfCMuI68tcakl6cy2EWqOMPSX+hL5Hckmt4yAnKrr1C+Zb0hcaasoTApNM+mrtCWd3THic3JLgriXTy1rPUlndySaukYBSAg5FApAQshIgQAsZk2Zu/8RneyV7jZisHLWTNzK5/clqPVyMZj0pHyXEYth1DVTQCscy3fty+LrbqiAgwiKK22J/I5Uzu6LtzqQuNwy613fTMgir63rWQjGuNKW8l1GKMaVtj5HGHVVdGXjG5Ld8bBkJ66ZSd7sjiRzDUlndySb3JJsckuShV0j/OYb5nlLZsUb1Oy0br6hK+C4ZERgNrGp/53MNaS2aNa7UdDR1XCysKtr3yjIJ5lxuSW1RSNak4VdXQlXqpwAEkIOhwKQEDJSIAAXzrekcnZfSncfmJu+JXPXF9Ss0Fu1Qs+uY/2lvt77QSBi5Vu+ywhHb22gYhETNn95IJHXFm9loFM5CKUw7OpkDSIwqJl7wGrSkzDq6o1g6Z4DI9BmtvMJ4B0PSzLXUHGWTWyarxd2VewlhabeHmYTmxJGVjAWmubzfEPCqCuR19bfVyE319AJ4qvWHzWvNb6hN4NYG8eVtorAMOpKNesbYRt1pRJQABJCDocCkBAyUlwTSDXp6e0fBB1MGpVzZgpXusesdxd//IZ4awNZ/HGzAvbWBvp7lXP7KhqLrzkYEm64I/RWjZD0Vgdy5r4Dcye4PJBacU9FX1DrqViMSy0VhHG5pRM2CMB0ui7ZiWtGtJ28rtM7vQm0t3rp7I4UXn9D1764+YPQg8iLK20Zv/6oxKWWmTCeWjd3hlZcVrN+vgpeNOvkWnFPjSu4/Qujrt4HhmFXgoVNCkBCyKFQABJCRgoEYDlsDAm/oNbTta63NjCmDmv2wN2ft2buAfE4GEjwPaxu8fOk0JQo6Ii3Yly9mDKGUVfiUkuqWd+4fbO+mRYu9c0N3+yOuRP02kZI1oxYTKfravDABC+b3JJ0ZtusdGe2Vdxlk1sSefmNXm2xqWaPoGYcvlhBQ1xCIKZTdXUfZ5Nb5m9YNf9GEIBh1NX1L+4Fq1lf7x6xmg5Pb1AAEkIOhQKQEDJSIAAXV/dU4MEA4S+Z+JbTb37EuHDDrsa3lM/bdXHS00le5dy+ufE7Z0Rk5dy+RrgEtZ5O76pJT6pZX5+vmvSGTBkQgHqL96IHJC61zPuycTD+Ut8IrZIRa8l8Q9Jpa9SYa6g4zCY2TUzM+IaaNDCh03tAG9OCWz/cGmKKmE4ZgYkpZG2xqc7edLquE8AgNlO+MOya6SCMLzZmJoy6ElAAEkKOAAUgIWSkaAzM0p6JdbH5ff5SX7yVgQo8TOsiz5gyyuetEcRODGH2QNYfVr6Vs/sa/ZLMmRw9rJOrWV/vCjFNw/MkBbMChssWd3lBbL6nq9kT13Kzxx0Pm2mgNYDUFpsmxmV8Ixd41rihQtGaPNLZHY2fwaranRgixw/GFHeKWCvumRvEya3cEWxNITDA+MsDSeYa4vk7FICEkEOhACSEjBR1AadNjWUp37Wv0yzk9yHOBTeCxdccSOXcvn72lwfq+oXJAqveyjkjApO5hrpxw7A7JBrDqJuLvFpPV6eR1xZvbaDTQBhFwqhr7v9mtnXtCwGIXEDc9OE1q4kRdkmhqUIRk710yuQEQswhHzA7cc3EwUxsmttDOwVM5hpq/sDnMDRh1mfuO5B0dsc4pJ18w3S6ziBoQsiRoAAkhIwU9wYQ0S+IM8EkD3d8MGQU781bQbDirZzNbwfP3GdyAf3lgbp38XXktVVYhmFXzRJBraeOWaxQI6+tLSJoCcG9ICaKKgCn6rL0infqhA/xL+MPP6oTQjR1hKExZqSzOxrTEpda6hbGLWA2vqFB0knB3gzONXSl6/5u5Hd0oomsQnzG3xdX2gyCJoQcCQpAQshI0RvAtT0NgcbkDi5gTP4i34i+ytl9XRUHNbMiLt1j/hu3g2gIgeCLgs6QKxYiEJMz1y3rrmrRrIHpGyrjvBUT4wIhl524pjeAcP9iGpjMmYgYrIQxbUxnd/I2Eiv6kkJeQYfpIG7+UE8HAYibQayDo8BMEPGcmG7i/QdxT8rxLgUgIeRQKAAJISNFJ4DxrnH2rgy0Hxd5gMV7zfcR4YI7Pm/F1r/ZO0EIHjiHq5lp+cDvIIAZzR+umxb3hfh+Mt/Qzt9q1jdizJozIChL9xyoAMsmNk0UzB0Pm+nfqXUVknc++GguDjHhs7Vu2uRh7/twX5gs7JraN0fgYbKIzL8o6OSrahsyjUnhUCh0xbiXa8U98Yt1CkBCyKFQABJCRsqQCcTGtwSxEWvF19ipntc20zy75oSYQy8v+n+xEkYANIwkccW0fCQLu2oOgWDEWjeMurL44zfU/QvXrDpoQ7NGThZ2jZBaHuSTwrmGZCeuydKPvs04fic2tf4N00GsfhHzUk16uQvY3hS6q2BUxCFmBtmDWFujGQQtIMj5Q9g1Gktg/sAktLq4RQFICDkUCkBCyEiBACzVdrXWDXd/1czm9Nl1LW7yUP0GAYhMv8rZfVPvZoUfxGHktfMeYOvshcgM4vz2D1M2/Cyd2dZGEEStpLM7GieDaR5Wxdn4Rj61s8JQw6Bh9pjZNqLSxsBgQheGXQ15dvt90+m6ZJNbOtVLp+oa+Iz4GdwlQsgidDoMu/lE1dbX8QaQEHIUKAAJISPFNYFUzu4P9f8iwiSMusOxMKs29Nm6f4O4pzl/buwLJoPlu/aHeny91YGaTLzVQT4xCzoyfu1RbQLRSjUbtoxg5Vpxz6yF7epXcwCn6nnsy8KuOoER5eKtDDRvEN9PZ3e0hxgCE3eGCJJOCqZxJFnY1TxBrKSRI5hO1817QSyMbQvBGthfNiv06hmugAkhh0MBSAgZKboCXt7LQ53t2hYBz2HUNaLQTgLxNfIBIfywAoUBxFsZaKNGNeurexemEtwHVpM8QBniKwo6eoenAqqS18KFUVfFHARadsfDJh/QNn8grgWCD1VzeO2k0JQz9x2oYxdCEmtnZAfC3KErbNspnE7lq2H0BaPZBJ+9lYH+HgUgIeSoUAASQkaKewMIIafTKmvigADE7R8EVOnuAxPnEnWldPeB5t3F5Za5B1zqG2FlJ3YQbv5SX13F6VRdI2AQ0ByXWzqJg1HDzdLD82A1i0nemdfeyCeB9nbPveODcNNp33RdxafGutgQZxg9asU9DX7WZg97N6hTTWteQbQNGk5qi00V0DDUlGp0ARNCDocCkBAyUoZuAO3ED+IM0y6Iv2rS0/BnBD+fue9Afw+r3qDWU8EDsYZuX9S5xZW2TsmCmhGUWCdDVEFwVRMTDQMnL0TnUGSLNYKkM9tSzfoa/6KVbjPbpkXETvlwE5jMG5cv4mEmfnvbmFBs/EutuKdrZ0wBIfRws6ixMFYQ4vWrSW9oElhbbNIEQgg5EhSAhJCRAgFYXdwyQi8293unNh/VsGfEsaQz29oXvPjjN6T4GhP4rP29NjoG/beVc+aesJrkoi4pNL/qrtBbG+R3ffbn6cy2rmX9pfzeL1nYNR/zucED5ozs5HWNbYF4zCa3TOuHDZaGyxg5g2oosQIQwi8Mu3nsi/M9N+dv+vIjmg+Iu0AVrtYwU77L9CNjdR2NP0wBSAg5FApAQshIgQD8icpFeYv/kLw5fEjeuvigXJy+LG9dfFDu9x6SBwoPylsXH5TLr7og95fMYy7MX5X7Sw/JhYWr8sDCg/LAgnnMxdkr8ubwIbm/9JC8tfhTcmnqklyavGgeU3hQLt55We4vmee8OHtFLixclYvTl83X81fl8qsuyKWpS3Jx5opcmrxofjZzRS7OXJEHFh6Uy+MXzGMmL8qVO+6Xy6fMf1/9oZ+Uqy95vVyavGhec+qS+f6PvUWuvuItcvVH3yQX77ysr3V/6SF9L5emLsnF2Stycfqyec3ZK3Lx9BW5fOqCvP7s2+Ty+AX9+eWJi3Lx9BW5v/hTcuWO++XKyQfk4ukr5ud3XpaLp6/IWxftv8XpK/p3XjxtPt4881YKQELIoVAAEkJGCgTgU2NjIvwY+cdTY2MUgISQQ6EAJISMFAjA/3X2rPzPCxf4MeKPn33TmygACSGHQgFICBkpEIA/+6Y3ye7uLj9G/LG+vk4BSAg5FApAQshIoQCkACSEPPugACSEjBQKQApAQsizDwpAQshIoQCkACSEPPugACSEjBQKQApAQsizDwpAQshIoQCkACSEPPugACSEjBQKQApAQsizDwpAQshIoQCkACSEPPugACSEjBQKQApAQsizDwpAQshIoQCkACSEPPugACSEjBQKQApAQsizDwpAQshIoQCkACSEPPugACSEjBQKQApAQsizDwpAQshIoQCkACSEPPugACSEjBQKQApAQsizDwpAQshIoQCkACSEPPugACSEjBQKQApAQsizDwpAQshIoQCkACSEPPugACSEjBQKQApAQsizDwpAQshIoQCkACSEPPugACSEjBQIwP919qz8zwsX+DHij59905soAAkhh0IBSAgZKRCAT42NifBj5B9PjY1RABJCDoUCkBAyUiAA33j6gtxfeUjeFP60vDH+aXlj7afl/uJPmQ/vIbnfe0guzl6RC/NX5f7iT8nFGfP15fELcmH+qlycvSIX77wsFxbM11dOPiAXT1+R+0sPyf2Vh+Ti6SvmY9Z8xuMuTV0yX995WR5YeFAuzF/Vn11+1QW5OH1ZLp6+Ig8sPCiXJy6a177TfA+fH1h4UC6/6oJcftUFufqKt8jVV7zFvIc77pdLU5fk4rR5X5dfdUEuTV2Sqz/yBrn68jfLlVfeL1dvf4P+3uVT5vXOPfQ2+cv//RLzXmeuyOXxC3L15W+Wy6fMa+Dvu3LH/XJx+rJcmrwoF+avypU77pcHCg+a58F7PG1+/+Ks+Zvvv4MTQELI4VAAEkJGCgRg4VxLIr8jQdyTyO+Iv9SXataXIO5Jrbgn1aQn/lJfyuf3JYy6UivuSeS1pVbck2RhV/ylvn6O/I752WJTqllf4nJLIq8tYdiVyO9IbbEpcbklYdSVMOyax1TaElfaEtR6Epda4q0NzONKLUnmGuKtDsRfHpjnCDoShl2pLTYl8tqSzDckCjqSLOya/y40JZlvSDqzLUsvf7ukM9uSzmxLUOuZ78/uSHbimsSllqSzO5IUmpJNbEo6XZdscksfg+fDY/B3xKWW+drvSK24J2HYlbjcMu91Yde8R/u4yO9IXGpJUOtJUOuJX9qmACSEHAoFICFkpEAALry6Jd7KQCpn98VbHZivzxmx560OVLz5ywOpZn2Jgo4RbaXW0GeIssjvSDJnhFk16UkYdVVEVZOeBLERRHGlLXG5ZYSn/T2IpmRhV+JSywisivlZGHZVWOHxtcWmfj+d3ZHaYtMI00JTnz+uGKEYl1uSTtWNyJuuG3FoxV46XZd0ynxAwOIznied2ZZkYdcIRissIR6T+YZUs75k4xtGAJZbkhSaUltsSjLXkDDqUgASQo4EBSAhZKRAAHr+jpTuORB/2Yi/atKTatIzX2d98VYG4i/1pXJ230zioq5Uzu4Pia9acS8Xh+WWTvYwFYwrbTNVrPXM46yIC2L73xCAnpkGqphbbEqysCu14p54qwMVdslcw0wCi3uSzDckm9ySWnFP0plt8725hpkGFppGkC7sGvF2al2yOx6WZGFXll7+dvN1wYi0ZGFXsvEN89j5hhGVVhRC5CYLu5JNbhnRV2iKv2ymlUHcU4EZ1HpmApqYiSampuV4lwKQEHIoFICEkJECAbi4tmfE39pAgrhnpoCrdiJoBaG/PNBpWq24l0/k7Do0mW/oRC5Z2JW4Yta+6eyOrkghiiKvrR9haFbBWJ9CJNYWm7rOjYKOrqghqHS6Zl8Xk0NM3iK/o+vdKOhIOrOdv785OwGc3TETvKm6TvGyiU0jOO3jkrmGJPPms04FreiMSy2dmOLneA9xqaXrX29lIJHXlnLYoAAkhBwKBSAhZKRAABazpt7+hWFXglpPyuf3jaiyAs9d/0IEQQhiLYufY92KNa8r4GqLTSOI/I54KwMzJVw2n5OCEY9BrTck/vD8mP7pmne+oe8D4hQ3e+l03ax27SQR94TpdF3Xv9nEppkcLtrHzzUkO3HNvO+yWUNj7ZtO11UU4vUgdL1VMwVMZ7ZVgELQ1hab5u8POlwBE0KOBAUgIWSkqABMjGEDN4CR35H5Nzyiq9vyXftmLZz1dV2LtSZu5CCUcNOHaR0meknBiLa45JgpKo45xBoqqklP7+2wDsZ9XzXrqzlDJ5B2HRxX2pKdWtcJXG2xqdPHKOgYg8dcQ7JT6zrVS2e2zffsShiTRUw0IeR00ojbvvmG/hzTPp1QWsF8+k3m3w8r6SjoiF+sUwASQg6FApAQMlJcFzDMGmHYFX/ZmECioKOGjchri7dm1sFwurqCD/d6cOliRRpX2mr8cL/GFBC/C2GF19IJY9ARb22gog6rYTwGE0QYP17Re0RFGwwecPbie3ALp7M7Q2IunarrZzxfOrsj6VRd/yZMRV3hp/8e9i4xLrdU7Fazvvl38TtSXdyiACSEHAoFICFkpEAAlmrN3JlbbmnsSjUxMTD+Ut/cB9qVrq5AnXWo69KFcHIjUzA9w0QOomhIUCEeJsojYyD2/KW+rlIhziAIsRJGLE1SyM0p7k1gOrOta+K41JJ02pg7spPXjUicqks2sanCs7ZobgjxPZhd8Jq4X/RWB+o0do0rYdTV9XfkcwVMCDkaFICEkJECAehXto3L95wxfcAEEkbmHjCMzGoWOX2YAiZzjaF1KyaAWPfC5RuXjOhzs/8wKcTaFwIxCjp5Dp9178JAgju/MOqqQQNC0jWfJAu7Uk166vzFe8XEEJEv2cSmcf3O50YP9/XCqKu3fcl8Q7MK4TB23wvuDGFogciE4zmZa3ACSAg5EhSAhJCRojEw3o6aP2AGQSg0hFtQ6+l6E0YLTOpc4weEWjpdH5rCYQXsTv7c2Bc4ZofcxHbKF5db4i8PNGIGK169ybOraEwAYRxJp80qN53dUTEZhl3j9LXTOuT5wTSCwGd3woh1NlbWmkdo37veJtqVOW4PMQHEc9AFTAg5ChSAhJCRAgFYjnd10hcFHZPVlzhhzXaSBQMIpmQwSWDqplM43P7ZJpC40laxBNcwWj3wfW3UKLfy6aINYA6j7tCt4cJP3lDTCdpKVERaIwY+MJn70f9xQ4WeOnXnGhoBk07XNS4GLuJ0qm5u+OxKOAztehqNI4WmeKtmNY6sQo2AscJUV8B0ARNCjggFICFkpLgr4GrW15Bnd+Ub1EwNXOnuA/26Vtwzosw2dkDEof0D619M/CDg4LKFgxh3coiAwYpVbwSddbL+NyrarEsYN4oaI1Mwjmasb4fWsmjyGN8w699T6/k6eHJrKGImnarrc+pr2UledsfDed6fvYlMZ3fMlNIfFrXajuK16QImhBwJCkBCyEjJTSC72vgRRl0jqEot7d9FBAxCmIeaNSa3hgQSxB8EGAQRVsSY1CH6Jaj1tE0DU0E0eWDK6AqqdGY7F1VB3rUbl1sm4sXmB2IiiWlkdmpdqklPll7xTvOeHcMH2j/Sqbre+7mdxdmJa+pSDsOuTgixCsb3wqirU79kvqFxONqNfIYCkBByOBSAhJCRAgFYCRpayQbTRvn8vt65VbO+CkGIL4iddGbbCJ65hq5f3aBmOG81sNkGQ0MwBXFPb/PcaBW3eg1rYUzU4Lh1G0VgIMF6VoWpzTLUmBfbAwxRls7uSHbyur5vvLZmBNomEbx/hEHjOf3lgf7diLFBjAwaVDD59PwdCkBCyKFQABJCRoqugIt1df6W79rXSBhkA0IUwhiiQcqzOyqK0IKhzl3n9s/NxMOaF0IQK1/UquGxMGO4ETNoA0GsC0Qf1rRxqaXTP9cY4i/1JZ3ZNhPEqbq+t+zUuk7+1GVsG0MwuUS/sP79CJV2cg4xgYz8jgZWq9vZhlanszviV3gDSAg5HApAQshIcU0gaOwI4p5Uzu6recG9a4MBAnEuEGjpVD3P/au0jUBCH7B9bFxuaa4g3MZR0NFbQ9fxm07X9Tm0QQQ3dcj6gwAr5VNDGDwQ4wLRlxSamuGXTWzmNXCn1mXp5W/X76XTdW0BcW8A3fVubbFpcgPn8iYQdTvbiSUErgpDKwKLSZMCkBByKBSAhJCR4gZBu0HLCF7GDSAiYGDCgPjRpg0r1FwTBUQY1qoqkiCUbC4fzB2YFrqVarjnc9fCKrpwb+fl62CIULiREVeDOz3EwSBIOqj1zKrY9gDjtSAysW7G4xF+jdYPNwYGa2M319BfNg7h2qL596UJhBByFCgACSEjRSeAYUPK5/e1WxciCKtMTLOqSU+nehr94jRkQOC5sSzI9HPFFG74sFqOK22NfNG1MQKY7VJwf5EAACAASURBVEQNr41bQ0TQaD4gmjiQBWj7hiEAkQuYTWzqHV8y35Bsciu/ObSuZnQPu0ISuYVq8rBTSGT/DYVH29iY9AVvzm8Tg46UarsUgISQQ6EAJISMFL0BLBkjh7diK+CyvpkIOnd2iH3BrdvNxg706bo3gWgKgVFDw6BRJecIOHe1C2MIjCQq4uxUEK+BVg40lKCRQyNmnF5erX2b3NLJYHbimk403XUy7hk169C+Jm4D3YBoPLfmHNq/U/8OOIcXdpkDSAg5EhSAhJCR4jaBIOMPgceIL8GEDm5Wtz0jm9zKI1uciBesS2GiwIpW8wFLeSYgVqQQaxBjCGRGODVWyCrwnLo5NYVU8gYPt9JNI2PspDGd3dH3nE7VNdYl8jv53+SITv1sRWs16en9Iirz8LdrM0klXw/j360ccwJICDkcCkBCvk15//vfL2tra/KDP/iDMjY2Ju9973uHfv6Vr3xFtre35SUveYl893d/t8RxLB/72MeGHvO5z31OXv/618v3fd/3yQtf+EJ5y1veIl/4whf+j94HBGAxa+qkDBM/TAD1ps03gicpNCU7tZ43dOCmz4owNGxgtaqZfI4QjLy2iVexN38Qf1o/Z+/58Fy1xaZ4awPNHdR7QXuviPtExMSg1SSdruuNYW2xqXVv6VTd3P+duJa7gW1kDda6rovYDZ1OZ7aH2kCC2ES9YAqKVTXEXxD39J6SK2BCyFGgACTk25THHntMtra25D3vec/XFID9fl9e+MIXym/91m/JX/7lX8q5c+fk5S9/uXzxi1/UxywtLcn09LR84AMfkD/6oz+SV77ylfK6173u/+h9uCtgf3lgOoBr+eTPzbiD6EKrhzvpQ+Ay/hs3dFrrZg0j7ioZBg8YJNLZHRM7g75hR7whMgaiC27gMOoagekYM25eBbu5gEHcM8LT3vIh/y+ZawyZOlznsfu36DTQfm+o3g63kU5HcOXsvhGCSU+8lQGDoAkhR4ICkJBjwM0C8Ctf+Yq85CUvkYODA/3ek08+Kbfccov8+q//uoiIfOQjH5GxsTH58z//c33M7/zO78h3fMd3yKc+9akjv7abA4i4FjdnL5028S7e6kCngEMhz1P14bs8O0GEqxbTOEwOEY6M6RyEkzpvnQYOCDO9t3O6hl3ncTLXyHMHrUBDY4hOHm3lHB6H58IkEittt7cXa+lsckuSucbQKhoTwMgz4k7/vsWmOoIxMayc29cbR8bAEEKOAgUgIceAmwXgxz/+cRkbG5PHH3986HG+78tDDz0kIiK//Mu/LLfeeuvQz7/85S/Lc57zHHnPe97zdV/r6aeflqeeeko/nnjiCa2C07aNyIgntFgENdMQoh23pZZkJ67pOjSd2TY5gNN1FTowekReW+/hNKLFOmQRAwMBifWt3gIiaNq54cM0T6dsdl2N/EJtKME0D5M6K+zcW8TaojGBoLUDohWhz/5SX0WdW0X3tdbWiMuByMTt4sylR0zF3urAroApAAkhh0MBSMgx4GYB+Cd/8icyNjYm//zP/zz0uHvvvVfuu+8+ERHpdDpy4sSJr3qu2267TX7hF37h675Wo9GQsbGxr/rwi3UNZPaX+hoB460OtIKtmvV1RZtNbqk4UvduoakduPheOrtjhNR8PsmrLTZzg0m5paHJ6VTddBBbsZhO1fUWMJ2u52HONsIFU7i41DKrVqxyrfv3zGtvaORL5HfUqAGDR+SZ10zm8kmm3h06+YOokMNdoApU61hGNzLEobtKdmv0Ir8j1cUtCkBCyKFQABJyDPhmCsCvNwH0S9va0IE7wLjcUkGG6aCGKM8PhybXFptaxwahplErk1s6qXPNIsjPQwYfVsiY/KFmTps+MMUr5GtgzSO0xg1tKgnzyBoIU62NszeD2cnrmmWYzmybCaW951OzB+rnkP031xBvdaDRLng8XtNbG5g1sF2XY22Mv503gISQo0ABSMgx4Ju5Ar4ZdQGnRpRpRZsVLxBluuLEbZ3T4oEMPBgwbs7uw1RO8wLtFA3GEfd2UCvdrAAcuuELzWoX5gu8dhD39L1AcNWKe3lwc6GpHcTI90sWdsVbHUj2kisSeW2ZufSIijwVivb+EKLWDbz2l/pqjglqZgUMYalh2jY8Gw7lKOiwC5gQciQoAAk5Bnw9E8iNGzf0e0899dTXNIF86EMf0sf83u/93jdsAvG8HY17qWZ98VYGuqqFKKsmPQ1yhis3m9hUwZSduJZn8GGtWspdwEOZek4en7/UN0Jrdkdv9JKFXUmn61I+v6+ZfRBomCzWinsqtiBQk7mGvjcVi0F+rxdX2pKNb+iKV93JXh5kDZczXMa47dMPG+qczDX0LhGTRay1EQWj/362Fq4SNCgACSGHQgFIyLcpX/jCF+Txxx+Xxx9/XMbGxuTRRx+Vxx9/XD75yU+KiImBufXWW+W3f/u35a/+6q/k1a9+9deMgZmdnZUPfvCD8sd//Mdyxx13fMMxMNXCljaBVLO+roMRbYJ+3ijo5OLJRqekM9vDUztHWOE5sPZVFy+mhe59Xim/q8N0D+YS3Oypi9cNiI7y1fTNIdQQn97qQO8FEVwN48eZ+w70ewinxjo4iHtaYaedw1ZcIgxaG0TKJjbHfW+YDOq08PQGBSAh5FAoAAn5NuUP/uAPvqYZ441vfKOI5EHQP/ADPyC33HKLxHEsf//3fz/0HJ/73Ofkda97nTz/+c+XF7zgBfLmN7/5Gw6CrlQbeuun68qlvooymBwgkLLJLTWAYBLn5uJhdQrH71CbRimPjUGGoNur61bLIcpFV8fW4avVblboueHLWP96qwMT8Lywq+JVswMxkbTiVPME7W0fbiDRUqJ/Z5S7gCGSq1lfA591lY0wbdueoiv0uXUKQELIoVAAEkJGirsChvDDpAsrXwhA/fDaeaOGc4OXzmxLUOuZSaC9E4QgdA0YCFVGZAsmexCC6OyFWISIRC9xUsgnckMVbFZYIp8v8trysp87UNcvXLqImEGnMerf9AbQvl88FwQg7ghxa4jnRDwMjDBYE8Pggr8xiHu8ASSEHAkKQELISNEg6Mq2BLEJaIbQgVNXu27tPR8EVDXp6ToXzRxu+0Y2salCDhMzCDPt2oUIs+tZTN4QFzN0n4dJoDspxJTOGjO0mQRZhDaYWSvpnJy/yDc3jHAbu4IPjmad9tm2kiDu5c5lCM9K7joun98fMn/4ywPNKQyjLnMACSFHggKQEDJSIADLYUMivyOVs/sae6JrXSt2sO7UvL35hmTjGzrtQy8u1rnI03N/DuGm2YH2efCc+lpxLxdsznuoFff0zhDiEEIV5pWhiaMVjRCv6BHGc9UWm7m4tFNJhE0nhaaKS0woteXDzyNs0ASCPmC8XuSZKjgNjK712ARCCDkSFICEkJHi3gBC0GCKVk2MgzWd2RZvZaC5fensjmSTW3kczGJex4YJIIKVEb2Cx7hRKrrKtZVzQa1nWjlQ+waxZ+8FVRTa20CdKDp5gpgkYvWqWX1WKOK9uFNCFbtOFqC2mMw1hpzQMHq4ojIMu2qecad/SaEp3spAq/C8VbqACSFHgwKQEDJS1AV8pq6O2mrWz40blbaZqpVaJhdwMa9hc0UdKuE0/8+pfkOvrlvppvd2EFb2fg+NIkHc0+mhdvVO1/OMQTst9FbzFSvEKlavGiJtJ4rpdN2sqr/jNdpRrNNJ+4FqN737S3r5HaN9Hm91YNbIlVxs4n4SrR/4t6qc2zdCutySatanACSEHAkKQELISHFXwLretOIP7lasSd18vezU+lCen6587cpWTRZ2Iqfhz7i1s8YLPDcmfdWsrzeFqGDDOlYfa6d/ugK2H97KQM0XcamlN4pYH6tQsxVwcP5qoLQ1sEReW7+GyEXWYFDrDdXjxRVT9eYv9fW2EcIW1XneykAqZ/fFWxnImaU9CkBCyKFQABJCRorrAvaXByr63Ls7mCYQb4Ke3mxiM28BsXd/2rU73zD3drYSzq2Gw6QQk0MVWVYoYsKYFJrqNoYxIy619Htw7OptnhWcusq26+JkYXdoLasTSSvWbl41w1wCQeeuetFh7C8PNMDaWxlI+fy+OoBRpYcPf6kvYWTWxMWMN4CEkMOhACSEjBRXACIvz1sZGLerdeR6KwO586ceVVNIMt/IA5rn85q3dLquockIeU4KTfmT/+/lRkhO13MxWWkb166zCk6n6rk5xM0JtAINuX+ol4sC205iRdZQZ7ETERNGXV3lIpAZ6233flGzAe0UFFEvQdwbml5ivYwJnxpRrDDEtDAut8RbG2geoL88kHK8SwFICDkUCkBCyEjRG8DFLSOcrLs1iI1xAfd55fP7eUaeve8Lo65O+ZL5hiy94p2STtXzujYrrJZ+9G26Hnar0zR82en51YgYmweozzOfTwixmg0jE9isU0O7nobJBGtft2UEog5rXQhSGEMQhZMs7MqprUdVnCLLD4JP7wutQMbf5a0NJFnY1SmgtzLQ9xlGXbqACSFHggKQEDJSIACLWTMXOFb0eSuDfL1rb/AwfctOXNO1qVbCTdc17kXXqnN5xIpGvTj1abpyreRTNHxPg6HhzLUmkqEWEL9jpmx24qdtHHYaiLtFrXWzxg6dUtrXQkA0/l5kH9aKeybLz9bKVc7uq+sYwg7xM+r2XRmoa9lbGUjxNQe6QqYAJIQcBQpAQshI0RWwvyPl8/vqcsXECwIqCjp6Q4cbPY1VsatROGrVGGJFo1bKzTuTPDvtw/pYV7tW8OG5ICLxOYh7KjJhwMCK1VsbaLNHGHY1ABqmDkw33ew/iEusn8Owq65ifb2FXZ1SBrWe3hC60TO68rWiGYaR8l37GqYdeW2ugAkhR4ICkBAyUrQJpLStUzKYF5JCU7MAw7CrIgjrWkz5UKOmJo+pfBKod3tuOLN1+cZlI/gwkYNZBBPHpGCaQFCzplExiJpBc4hd/2qLiO0CDkNjyHDXwEHNZAnC8YzoGGT8udVy+B4iaXA/iHYPBGf7S7nbF1mF5fP7UjlrPvC+/KW+lEPGwBBCDocCkBAyUjQIOmjoGhbTNUyz8D3XWKFRLDamBRO6uNLWmz10+maTWzolhPMXj4MwxA0eBF416eXrYufnteKeik8IRayF1QmMthHr9IXRxA2tjsvGdKKtJfYxEKZ6Y2iDr6Ogoy0jEJZBzbR/VJOeTgfVRGNXw/5SX87cdyCluw8kCjpyZpkxMISQw6EAJISMFFcAuv21qC7zl0wsjHtjh/w7iCRMCoO4NyQOk/lGngNoI2IwWUPeHpzBiFBBRmA6Vc8zAO3aWKeDNhYmnd3RSJp0ui7Z+IZkE5u6MsZ/Zyevq9hD7IwaOcotvV2EsQMVda6jGC5ktH2oqcW2hWQTm3mFnF1rh2FXslPruWCdb0j1TJ0CkBByKBSAhJCR4ppAEFhczfraCAIziLcy0FUnBBQmX9oKYivkkLuHm7ubJ3hY18KUAYNF6e6DPI7FVrThDjGd2Vbxp7eE1lSCm8F0ZtuYU9DusbCbCz87odT2EZhb5hrm3tHeDkLARV5bZv73pq6Sk3nzu9n4hoZGR15b8wwxvUSotPYp20YQ/DsEC5sUgISQQ6EAJISMFAjAUq2pztZq0hsSgUGtp65WN/tO+3Rta4hGu2CCZoVW4Sdu6A0cDBhuvRoiVKpJz9wTWhGWzmxL5LUlO7WujlxMCzFF1HtBrHXtRDHyO2b6Z2vkssktFY1Y40JkZhObef6f39EgbLfGDreMeH00kriGFXU7I/TaTj0hQiO/QwFICDkSFICEkJHiVsHh5g83blj/4p4N8SdYCauIQ2ewdbq6WYEQd4iBgcEE62PtAZ4zK2gENyNLUGNaAqcveC4Xcpj8YcqYLOxKduKaJIWmZJNbRhBO1fMAayvs4lJLDRvZiWu6ZsZrusaQ2mLeXqKraCv4wqirphd1LtuAbARnY/pYK+6JX9qmACSEHAoFICFkpLgr4GrSE29toC7Xyrl9U2G2NtBsPcSk4D4OnbcQaBBxOjW02XiYgKWzO3l23moe24LpIcwb1aRnRJh9LXcih+gWrGCjoGOEnpNDmJ28rkINES/Z5FYeK2NFGlpJ4EbOxjdUYGaTW7kxxr0rnNzS9wThh3gZDZW2k810qq5r83R2R+JXvZMCkBByKBSAhJCRcrMJBC0d1cQ4XHGPBzewvzxQxysmcv5SX1eq7l0fjBAQRBB4mBKGoVk3q8PY1q2FUVdDnlEvh1s7rJwRrQLhl51aV+MI1rVJoWmme3YdDcFaW2xqry9uFt0pH2JmYO5AYDTEpRtxg1tCNJIkC7s6AcX7xQo4LrfE83YoAAkhh0IBSAgZKW4XMNazmMghQNlf6msbBiri3JUrpoFuFApEWzXJc/ewOr45ZsUNYNZVLEScFWcQlGo4mW+oscQNicbKN/LMejib2BwKr64tNvX38DrZqXUVhdn4hvm9U+v6+LjS1vtB9/fT6breK8IAo20icDU7t4HJwi4FICHkSFAAEkJGCgRgsLCpMS4wgPhLfV3nagyMFXhw/+J3oqCjpg38PAy7eTuHDU52+3n95UFutLAmE4g7d1qIUGjcG2JCiKxBFXuTWyZ2Bfd/1qQBEah5hHYFjNUwomHQ8uGGQGP1nZ28rmth3Afq80zX9Z4Qq16ER8++9RF9r3GlLeHpDQpAQsihUAASQkaKmkDiXRP3Ym8AEfsSBaZrt3zXvq6H3VtATMMgyoLYrIbhFMaaFTVpEIYweiBLz+0gjvyOTuRQP4dbQES7IOQZBhG4cbOT13WNiwkg7vYQAwNDBty92lhy0+Qxm9jU1TVMJNnEpt4A4v5QjSmllk79MLGEI1qDsnkDSAg5AhSAhJCRolVwlW2tgcMNIFy6QdzTvl2sTsOwq5M9iB9M8FzBhFs8GDogDNPpuorJZL6hLRvI4INhBL8PkZnO7mh1nGYA2hs7CC633zed3TH3gbM7Ol3ETR9WzhB9mOKFYddM/OwtH3qR0WaSFJriLw/0/SGwWqeS1kkM80s2samCNZxbpwAkhBwKBSAhZKS4OYBY/eIDRg8EQOt9m3XMYqWLGz40gGincNxT0wgmhRB31aSna+MgNqIQIhBrYtdtjElaMt/Ie4iRyWc/slPrw73EmLy5AdK4ySu1NNcPLR1BrTcUPQMziLZ/2OfTJhD7nnAn6NbZqfC1whOCljEwhJCjQAFICBkpEIDVwpbe5cH0oUHQcU+81YGKQb3Fsy5eCEbEwCQLu9qpC1MJRBIEFH4HkzH39lBNGlgpV/KJIW7vqkkv7/m1oc+4yUPfr1vhppPFoDMk3iD48J51VYwbP6eOLvLMLWA2sZkHUFvhiRtFNwImCjpf1VccjT9MAUgIORQKQELISNEYmGpD/KW+CjaIQNcEAnNDrbiX5/fZ+rS43FIDBRy36VRdp4SIX8Ek0b2hgziC2EObCCJf1CGM+JWpen73N13Pn9+uaBEpk06ZVhBXAKojt9DUvyWb3MozA62pJJvY1ElgUOuZSBh7+xf5HZ0mYop4cz+wNo3M5w0lcaXNCSAh5EhQABJCRoorAG+uf4MRxFsZ6EQMbSBR0NG1Lxyv6MJFqHNcaom3NlBRqBVsViCGUVcFV1CzuYN2PYvYGUznYNpQwWWNGljBptP1vPkDgc3W/asNIJW8sxjVcJjUIdAasTNDK21EzdhbRgQ+Y/qIOByYVbLJra8yySCsmjeAhJCjQAFICBkpbgyMhiOX8glZXGlL5dy+EX1+R9e1mgNob+RgoPBWBjq1C+KeVM7uq8CC8SKMurry1fw8ayzBqhUGCwhPTNRQ/xaXbR2bzf/TfuCpumnzsHeA6ZR19zqVcTChQGxC0Klj2d41ZuMbOl3E3+zeFOpjbU4hxKPmGtq7P0TmxKWWRHdepwAkhBwKBSAhZKS4E8Ao6EhQ6w0HOhf3VKglcw11xKqogbED93mY1tnVKiZwbjsGGj+wSnZvBSGUMOFz17tYtaZT9XzlalfCrtsYk0oYQbLxDZ06ItwZgjaZtz+3mX/Z+IY2kGjAtZ1m4jYQU0CEPWMaqNVy9r0gjiab2FQBWj1TpwAkhBwKBSAhZKS4LmBUvrl1be7EDkIOIk3Xr7M7Q85eiDt1xxb39DG4C0S3L0RVbdFMEuHGhfDDjSFWsZiyJfON/Gs7/csmNvXuD/ErSz/2DnXj6vTPrnarWV9qi001fqAxBNNLrIKRKYiVMVa+7koa698ht7H9jH9Tb23AIGhCyJGgACSEjBTNASzWNfgZIc0QO5HXFn95oIYITLkQjeIaP6pZXydwEFC14p687P8xoc4QYmrusE0fmASq2LOTPtwVYk2LEGiIR6x3k4Vdc39np30IhnZXwMgo1FW2FZgQhGHYHVopp9P1oQo4GFsg8vB8uB+sFfdk6aUP6nNVk57+WyA2J1jYpAAkhBwKBSAhZKSoACxt53l9ttECYknv3IL8a0StoFpNhRPWts6KFgaJoNbLV62TWyog4aZF0DPu/LLxDRVqteKe+bljzLg52w9rX9S1ZZNbeTwM1sezO+L/v+/IzSh2KpnObOdO4rmGZCeu6d+IFbib86cxMNZdDJNIUshFL9bmyBSMPFbBEUKOBgUgIWSkQAB6/o4Etd7QuhZTOTVwWDEIt2w6XVdhhjgXrIrRBIIVLqZ0WKnqOhl3fzbzD5VsEE9B3NO8vuzUuq58kQsIIaah0PZ51f075TzuphgZf6mvj6smtsvXafvAFM8VrphOQnyGUTePhLE5iZhi1op7mkuIqWA4SxcwIeRwKAAJISNFg6DP1L8q4iWMuvrfrrMXU0BM64Jab+hOL53d0bvB0t0HevOHx2AapiLTOnBhQEF7huv0TRZ28+gWr62GC239QE/vyevmseMbJqDZrmDjUksq5/bzGjmnEm5I3GG9XWpJNrml+YTIMESvMMQe3L9YnWt2oRXFCLEOauY5oqlrFICEkEOhACSEjBQVgIsmuy4Mu1I5u681btqFi0y7Uh7MrJM6OznDpAutGG5UioZG2+w85ABCiGmUjNPOAYGXTW6p81hNH9Z5jHBqvdezt4Ho+IU4xPQPTSNoKsHvRJ6Ju8GtXxh2dRLorQxU8GYnr5vXsqYPxMhAJLqCEELzzGtvqPuYE0BCyFGgACSEjBRdAXs7ml2nQqaQmyYi30TEeGsDXevqytiKL7h4cUcHk0RtsanZfNrxi7Wy1x5aw8I1rNl9EHA2XiadqquxA2toOHFx96eTxoVdNY2oscQ+3l/qq1lE+3ytmIv8jopOrb5DjI39OdbbuBNUUWzFrhuPo33AXlv8CptACCGHQwFICBkp7gq4mvTEX+pr1h+mf5Wz+8PxMKVW7hJGMLQVblgXQwhpgLN1/mK9quJoZlungVg9w3kbl1o6ycOqWMWpNVfAMKJ3h07zB0SjGjgck4dG0Hh5ziCMIXAlu+YWtJUMNZEUmkNrZBWeVhy7tXkItWYTCCHkKFAAEkJGCgRgeHpDmzBU5HltecXgEalmfakmPc3MS2e2c0ewE+iczmzrHRxClRGPgqkZhF06Y1zH49cflcrZ/dxc4qyT0cDhuolri03JTl7Xe0XcFGJKmJ24pqIwnd0ZagMZiqmxq1rcNGKiFwUdqWZ9fV3cBCI6BtNOja+xwjiM8pVyOruTvz/rnsaqmS5gQshRoAAkhIwUVwBq44cbvGzFEnp1YdRwJ20IRsaqGN28mJQh7gUhzOnMtt7RwYCByVo2uWUEkxV8bvZfOlU378MGMuvU0bqT47J5rE74Ck2NgYFI0/tBL+8lzk5el4X/60b+Xgv5nSH+XrSkQMRqeLXN93NX5Vg5a0fwvFkRe2sD8YtsAiGEHA4FICFkpLhB0BA6WFlWs766eW+OeUHLh65LC3nUiWYGllu569a2caDFA+IqO3ldW0HgJka0i4o6G6UCNzDCpLWRo7hn3L/O76Lr1412gWFEDStOowdcyFhzq2HFa4u3OsizDW0PcDqzbe4Dy63838a6f5OFXfFWBiqU8V5rxT0KQELIkaAAJISMFAjAwK6Aq1kebYKpHCJhIKK0rxf3b9YZ7IYiY7pWzfrmhs9O/3DHpyvTQi4WcROIDD5MGbWb10azJHN5hiAmjxClqJrDVDE7ta73gJhgug0j7vNUzu3r7V816ZlppO+suu1kM5vY1Imfv9TPa+wWdlVE+kt98dYG+j6w3uYKmBByFCgACSEjRU0ghS0TxmyncEGtp5NARK/onZyX9/sO3cU5dW7I4lMHrjspK7X0d5KCvSu0d3O4I3QdvdnkVl7/hl5e69zVijY7JUQ4NdbObjUcJpHVpDdU1Ya/Q6eXfp57iPWuTgrRU2w7kb+W0SXyO/L2x+9V8YhbwsjvSLWwRQFICDkUCkBCyEiBAIxf9U6d4qnYs05fzfyD6EJvrr3R05gWK8i0zcPGtECcQVhlk1u6uq0V92Ty7Y8agwa6c62hJDu1riYP7fa1Qg5CC6+j62I7QcSdH8waWBvr32LXtJj4QczheRHeDLHovh7EKGJi1GnsVNQh+BlrdTikq2e4AiaEHA4FICFkpEAAlmq7Q8YI3PGlM9saf+KGJmtcCnL8bOYeVru4r9OQ5rmGfkY7RxSYvD01UASdfIKHbL+pei4kscq1N4TVpKeRNBBY6VR9qB8YhhBM+XCv6AparIwh2jD9w6oZDShw9WJKqaYP+9qYcEZ+R4O0EQoNA0k0/jAFICHkUCgACSEjxe0C9tYGQyaO0j0H5t4t7KoYQ0YgKtuSuYbe9ukUEIHNthIOkzBM/CDi4kpbssktyU5eV3NIdmo979K1E0U8n654F3NjBcSaGj2sUESYMwRl+fy+CsVkYVe81YEaNxDk7K2Z78EogmliNenpetzNQ3TNIgjN1gBo38TJ4M4Q79MvMQiaEHI4FICEkJGiLuDSdm6ocASa293rfl9r2ewdH0RjU4c5bgAAIABJREFUGHWHpm8wXKRTdRVfQ2vkuYZkk1uy+OM3dFWbTWyaz7b7N53dyVtHrLCEc9c1kridw5hiajOIjWxxp4DINry5vg5TQdcVjVo8f3kwlBeof5OdIGrTiXVAY0IKs4zn71AAEkIOhQKQEDJSXAHoun1Pv+kRNXygtSMutVREuSHHEEGoT8P9XFJoirc60Mmf3uuVWka82fvBIO7pChUCMyk0tSUkWdiV7NS6Tv3Q/AGhCecx+nqxag6jrrlHtBM4mFuqSU/fhxt6Xbz3IL/vC3LnMaaF/vJAJ5DIB4RRBCtytx0E/0buWr26SBMIIeRwKAAJISNlSABGjpvVtnBkp9YljLp5TZrN1UMMDDL8Iq+tYi5Z2NV1qL/U1xVrOrM95MpF7VtSaKoIRJgzVrnpzHa+8rXO42S+IUu3/8yQCB2627PtHdq+AXOLfX94/2pwgXvXiaMJaj2tgQvDrvhLfV0ZxxWzJtZ/F2QmOn3AmE7i38BfMm0qdAETQo4CBSAhZKRoDMziljF7WHOEvzzImzVs2DNaOtTo4dzJoWYNwgmOXW91oM0fbs0chGMYdiWb2BxyGrtZfW7VGtpFsvENnfi5Hb5BrTfkCMbzIcbFjarxl/oq2tyJpNsNDPML7gex+s5OrecxMLbHGEJUTSHWCBIFHXUFx6UWXcCEkCNBAUgIGSkaBL2wqY5V18yAiRiiXuJKWx21rgkjCjr6fUzOsDrWm0A7GUzmGlJ8zcFQ0DSmZahySwqm+SMut3Tqh6BnBEtjpYw1MG753FUsjCFh1B0Kr8Z/u/Vu5fP7EtQct+9UPe8oXtgdMr7oxNIKQc05tFExkdcWb83cDQY1G7AddLgCJoQcCQpAQshIcV3AEH1haKZtcNdi7Yn7ODVO2Fo2DWPGzV4hzwOE0HIDodPZnXyCZ+/2wqirsTAQgG6FXDqzratbTBOx8sVnmD7c94tcQe0ctiIQwhTr4jDsmls/v5P3HdvJHdpMEALtfq5mfYkrpi7ObTeB+EPrCdbrfoUuYELI4VAAEkJGiq6Az9Q1xy6d2dZp1lCmHnIAbcMF1rwweWAlDPGHDD/N2ws6mg+ogdPWdYs1LNbB6VRdQ6PVgWxXy0uveOdX3fNBBMKRW836JoPQBkdrhR1u/ew6F6YXCL+gZvL7wsjEwsAZDYdwFHSkmvQ0EsadLEaBcQ5XM7Nennro0dxwYnuCGQNDCDkKFICEkJECARjOrWv7B27aMLnTwGcrgJK5hopBGDPgmI289lC4slbD2QBoTAeTQv68WNXCSQyxhelcNr6RT/gmNlU8xpW2rnGxAs7GN3QNjJ9jKhmXjcjEBA83i/go37Wv62SETKPTF7/n5htGQUdFJlbC3trA/N7yQEp3H6jww7+rX+QNICHkcCgACSEjBQKwEjR0TerGviDbDqvYZN5k+/nLAxWJyAtMp+smfNmua3XSFnX1eXWNO7NtmjIKTY1TQX8vhOLpNz2Sh0zPN/S5NRLGPieiafR20OYWxpX20E0ebgcR7IxQa4hbb22g+YLVrK/vF6teiEL8/ZgGYsWrvcCllngrA+Mctt+DocTzmANICDkcCkBCyEiBAIymrqlIQftH5LX1Jg93eJikYRqXTtvqtflcQCKrD0JQ69msicRd16qwtGvYdHZnaBWN14SxQ9tHbIwMzCPo6nWbTLAOxtoaAg73eMgoxIoXIs6d/lWTnlTO7evU8Mx9BybOJetrO4gbK4NwaUwNh4wyfkdKtV0KQELIoVAAEkJGigrAO6+ruNNbvyCvOdN1rdsCYtey6AFG/IqKt6n6kBNXW0bm8rBndAWn0+YGMRvf0PaRdLqud4G4QXRvEtPZHZ3UuZNICFmsgPE+MWXE1xCAEJ2Y6kEMBnFPvNWBufmzeYDI/8NUEc0fyPqrLTbFXx7oWhk3hBDUdAETQo4CBSAhZKQMmUDsrRxWpEnBTPlcUYefwflbvPdAJ3S41XPdwHisGkPsRA/mDHToahg0VrVo17BCL53dyYWmFXUwqkCU4Q4xLre0Azid2c4NG6h2s2YNFYn2NrB0z4FZGyMI2k41vVWzqkYcTFxpi7eSC8PI74i3OlCRGFfMmrl8fl9vDVEhV6k2KAAJIYdCAUgIGSlqAple1/s4uIDh9M1OXpdsckuyU+u6qoWgwnRNb/6Q22fFmt7u2VgZ7QaGgxh5e3aFixgXxMPgthCvpSLSCkDXyetGyyDKJp3d0VDoatIbutMrn9/PncR2shl5RtzB8BL5HTWLhFE3/xznz4VbRG0PsU5irI2RFRjEPTmzvEcBSAg5FApAQshIcZtAtI/XTrvgXsVauLZopoPJXCOPZrF3dhBBCHfGdA8iKp2q56tduy7WSaB1G6MVJAyNoMvGN1RIDsXL2OkeDCMQYeoCtjeCeM+R19bwZkSyVJOetp1glYsJn7/Uz28Dcb9njTF4nWqSx8BA6PnLA80DjLy2VM7uD7miq1mfApAQciQoAAkhI8V1AeN2Loh7OrWCiNOpnG3qQNctzBmIhgninj4GlWtw3EK4ZSev51mCdkKHiRvEXlJo6vQvmWtoA4jeADoCMVnYlezkdbnzwUf1tZFBmM5sa6SMuoQLTqD1YnNoDRyXWsb0ERuhWyvu6d8aBR2zZrZr4shr690fauWqWV/d097aQI0iuB8s1ZoUgISQQ6EAJISMFAjAYmbMC/6SWXf6S+ZurXx+X6vTynft6x1d6e4D8dYG4q2YiReCl5GNVzm7L96KuXtLZ7aHbvpUwE1u6RoVH+lUXbKT1/U20K13c00f+H4YdvOWEAhKG/9SOZuveGEyedn/3dPwaWQSxuWWZKfW9fYwm9g0LufxDZ36YY2cTW7pmlozDdEoAmFo1+e4TUQGYOR3pFqgCYQQcjgUgISQkQIBWKoZEwacr7h1q5zb11Vm+fy+VM7t5y5XK64QfYIpl5oe7JQME7JacU9NEm4O31BmoI1L0SxCRLw4uX74nenLj+jPkoVdmXvLI5pfiEBnfX4IUSf3DyLQ7SSGWIUJJJlrGEGI6jvcMKJZxLaAYE0MMwtWzxDG6AL2fOYAEkIOhwKQkG9Tut2uzM/Py/Of/3y57bbb5NWvfrV89KMfHXrMF7/4Rbly5Yq86EUvku/93u+Vu+++Wz7zmc8MPeaTn/ykrKysyPOe9zy57bbb5J3vfKd8+ctfPvL7gAAsx7tSfM2BCjvUnXmrA3PbtmI+VxOz2vRWByoUvZWBVLO+Tv1cswRCmjU02q5EcYs3lBVoxRNu6uDCxWQN8TFuC4eudCtmHauCzrZzYHULA0s6uyPZiWu6vobgwz0hbvzQSoJ1Mv4GCELcMiLuBiHTkW/iZDABjAJTpwfHMIOgCSFHgQKQkG9TsiyTd73rXfI3f/M38uEPf1hWVlbk9ttvl3/913/Vx1y6dEl+5Ed+RN73vvfJhz70ITlz5oyUSiX9+X/8x3/I5OSk1Go1efzxx+Wxxx6TF7/4xbKxsXHk9wEBeGZpT8p37ev0q3zXvtagoRcXeXfe2kBv3pCf5y/11QBRzcxjMG2LK21zD2ebPmAMye54WOvk3Pw93A6GUTefJFoBiFaOoGbcypgQ1habJq7FrpfDsKuRLeg0xg0fgqfx2hCDkd/RW0XcFUI0Io8wm9zKG1HsfSJuDaPATBmrWV/NKZqtuLBrAqSZA0gIOQIUgIQcE/7lX/5FxsbG5P3vf7+IiDz55JPyXd/1XfIbv/Eb+pi/+7u/k7GxMfmzP/szERF57LHH5Du/8zuHpoK/+Iu/KC94wQvkS1/60pFeV28A06aU7j6QyGtL6Z4DFXVoxqgmZppVObuvgg11Z+76M4y64q0MNP8O5gu0b0R+RwOeIZBgNMH0TavhynkYtXtbpz3DpTzvr5r0NCgaq2eYWXTKiPgYZBRW2lovB7GKUGj38XAqY2KIBhRMJ2EkqWb9/NbRxuXgDhD/flwBE0KOAgUgIceEf/iHf5CxsTH567/+axERed/73idjY2Py+c9/fuhxt99+uzz66KMiIrK9vS3T09NDP//EJz4hY2Nj8hd/8Rdf83Wefvppeeqpp/TjiSeeUBNI5dy+WfnaaZ6/1DfTPNuG4a2aVXDl7P7wxM+uhdGGUb5rP69Lszl4WP9GfmdIJKGaDZMyrI+HhGDJhDG7IcsaUVNqaT0cYlnQZJIUmnmTiZ3wQSTCjQxXL1zM6PpFmDTMJ2giwQQRN4C1RWNmcV/PvV/EhBGNIZwAEkKOAgUgIceAZ555RlZXV6VcLuv3fu3Xfk2e+9znftVjFxYW5Nq1ayIi8sADD0iapkM//7d/+zcZGxuTxx577Gu+VqNhmihu/ijHJv/O7cD1lwfqpK0m5tbPWzXOYEzjFn7yhlajVc7uaz4eVr5BrafrW0zlkvmGVLO+OnYxMYQRA+YS3NMhEgYBy/5SX40c1aRnbvXmG5r359a+YZqnkTC49VtsqqBDtR1EHCZ82fiG3v1p/IydCLpGEkTOqJC000VkKupNZdwTv1inACSEHAoFICHHgEuXLsnLXvYyeeKJJ/R7oxKAX28CeGZ5T7P5zrz2hho6vNWBzL/xEV2rlu4+0Mq2MOzqYyAeEXqMqJgw6qrhQ6d+TtduOlXX2zvc01XO7mvDRzq7o0YTCDSIwzDs6no2LpvJXTa+kd8F2qiYpR97R94/jKxCe7+HVTIq7CBgId4Qao0gahWE9jbQXSlHnn1+OIjtVBMh0ZHfEb+0TQFICDkUCkBCvs25evWq/PAP/7B84hOfGPr+qFbAN5PHwBjhFfnmtk8Fnl3tQvR5KwM1YKAtBLEvQZw7ghEpg4aQyO981bQM4jCd3dGYluxFD+j0DtND3NlVMxO6jG5fGEywYo78jt4UYgrorQ3krj++pDVtMH4gIDo7tS6F199Ql282uWX6j0stFZPagIJau5ltNYrgNjCo9XJDi9/R6aZbHVdbbEolYBcwIeRwKAAJ+TblK1/5ily9elVe+tKXysc+9rGv+jlMIL/5m7+p3/voRz/6NU0gn/3sZ/Uxv/RLvyQveMEL5Omnnz7S+3BzACGwqklP7/8g7LB+Ld19IN7qQCrnzLoXIgvh0Zh2hWE3r1ur5BMyxMwEtZ6aJzCpK957oNM8rHldQZkUmhpNgwxBb20g2fiGpN/7BjWYaMOHDW927wAh6CAS9aZvqj4U91JbbJroGKfuLpvYlOzEtbx9ZGJTW1DiUktjZ9QMYoUpppne2oAxMISQI0EBSMi3KZcvX5YXvvCF8od/+Ify6U9/Wj/+/d//XR9z6dIluf322+X3f//35UMf+pAUi0UpFov6c8TApGkqH/7wh+V3f/d35bbbbvuGYmD8yrbm+1XO7puJGpy+tuNWbwLtVAv3et6KEYkwd+B7WNPGJSOKkPWn61L3Vs6uaHFzGPnG4BF57aG1LFayEFjoF8b6VVe9WDsj6gWTQussdoOrEdOCrMAo6GiMDHL/svENnUTq7Z+NfkE1Howr6BwOQ2NoQXRNGHalVNulACSEHAoFICHfpnwtI8bY2Ji8613v0scgCPr7v//75Xu+53vkrrvukk9/+tNDz/OP//iPsry8LM973vPkxS9+sbzjHe/4hoKgSzVjAqkV94yBw06uMAmEAKtmfXPbZ4UO2jDU9WuDniF6EOOCG7i41FLhFMQ9I6ys0MP0DZNDNx4GQjKdqpsVsN/RHl5UwLlfD90B2uxBBETje5gSak6gjYFJ5ho6xUMg9Ks2HlUBms7u5J3ANiYHUTQIf8bfhBgY/HtyAkgIOQoUgISQkaITwGJ9SMAgABqrXUSvYH2r7mC7nsWkEIIQ4rCa9Iamb1jH4g4Pj8c0EJl/EIwIjUaXLta/EIRYMeO9wuQRhl3xVgeaGYhg5nR2R7KJTRWPyBFE3EsYds1KGSvhReMKhtlDJ4BwFttIGI1/sUHamP654i8KOhKe3qAAJIQcCgUgIWSkQAB63o653YucrD075UPWHyrhYBDRuri1QT7psk5fb3WgU8Mw7OZuWxsWHZdappINOX7I7FvY1Sw/TP/wXuAw1ulj0BlyFmMF7fYNa+ag4wJG3h9WwzBtwIWczJnMwGx8w7iDnWYQTBcROZNO1/UWUCeKdi2sTSTWsMImEELIUaEAJISMFAjASpD31aK1opqZ9W9SMAaRyZ95VMOeIewwocPvwK2LFgy9x6vkGX214p4GSadT9SFHL/L+Iq+tws1tA8HPEd2it4QQe061XDq7Y96/ndghaHqofcSujREOjefA+01ntjUOBlE1caVtVsD2tbyVwdDf5q0M9Gus0fH3BQubFICEkEOhACSEjBR3AohYF2/FuHjR2uGtDNQQgsw/rFDL5/elfH7fBDRb928UdLQNBMIMsTAqlGwQMyZpbr6fK9DwfNn33y/ZHQ/rathtD3EngxB7EJUQYvg7MG3EzSHibND84a6j0TWM+8J0qp6vjG0ziGtqwZQzCswaWCv0MAHM+hJwBUwIOQIUgISQkeIKQG81v6dzTR8QhLXFpt76QdjAsQsncLKwK5HfUaNIUmhKduKaTtDw/Jim4bYvndmWZL6hv4PpGoRo6Z4DFaT4HUTJ6OMXTesG2kJ04uescZP5hjqE/WUzgYRxBNl9CIjOTlwbqohz6+CwSsYdICaImHqixq6amNDpKDDvu5g1KQAJIYdCAUgIGSkQgGeWjfsXK0yEGPtLfbnz6qO583Z5oCYHCCwIRBg+/KW+TueSeROjgvUu1qva3DG5pSILP4e4dKvboqCjz4tVcFxqaQ0cImDQLBJ5JlLmZgMIjCWuU1i7fq2QxFo5mW9ocHU6bfuBbYC03ijaOBlMDWES0SxDv2MCtq2xxa+wCYQQcjgUgISQkeLmAGJqheBiiKhq1tfOXrhbvbXBUOCzGx7t5vS58S614p6k03VTxWbbNCDW9PbPCrS41NJ2D0wB09mdfDppp4ZwEcOYgq7e2qIxm6BJJPLM5BEVcFgdZ5NbOkmEiQP3gsgFdFfC2al1bf9AgHQ2sanmD3cyCYHpL/W11aRaoAmEEHI4FICEkJECAVhd3FLxhgmf6wSOgs5QTIy/1NdVLkKi4fbNJrd06oUpIEQbXMAawWI/wwWMez04dCtn93Vdqzd2TrxM5He0wQPdwXGppU5iRNJgOoiVbTXp6bROH1txXMv2Z8gCRB5gXGnLK7uPqBicfNujeheoxpVCU93HqMBDbqHnMweQEHI4FICEkJGiLuCq6bNNCk01b8AF7DZxYDroOlwRu4IVahh2NZ8PAhBh0piewTiRTWya1aydAsIwEdR6KiaxYkVeH1zAmrkX5TEz1ayvEz5XaCK4WYOf7VRPV9N2WufmDmJaCBczpoZuniHMKDpptKK3ttjM8xRtZmEQ98QvcQVMCDkcCkBCyEiBACyHjaEJIJy73sogD3a2giYKOpJNbBohZqNa3FYNrDshzHADCANFXDHmkWS+odVuyNHDJA75gCrKnJYOCDDk7WHdi/o1CMZq1lexiGkmRB+eCzEv+vz2eatJXueWTpn7P4hFfLjiE/eAGl6N6Bq0gdibSd4AEkKOAgUgIWSkuFVwKpLsFA8B0JgIeqvGAOKtmqlW+fy+ij0IPjh5ISbhzoXYw2oXgcswTsDNq7VvCFC24g8i0e0Xxq1fUmiqUUSzAm1jCWrakkJTbwSThV2ddmpws30OCMx0dkeyk9eNMLQrakwT9XkK+V1jbbGpkTboIIbrGdmI5fP7Uo7ZBUwIORwKQELISIEALCZNnVIh0sV19mI16i/1zXq31NJbQW91oA7bIO7pdAy3d9nkVr42tY5ajU+xEzysWyGkNKdvynHfWuMFVri1RSPasC7WwGm7nq0mvaFcPze4Gbl8EKGuwxdTTLiLMR1EFzDuFSGUIUyDuKfB0vg38Jf6Gq7NG0BCyFGhACSEjBS3CQTrS/T7uutcmDgq50wHMNyzcOxicldbNMJr+vIjuipO5hqydPvPSDXpmXo1uxqNSy1Tr+bk6uE9uIYOdy2czDe07g13hcm8aTGB4ULbQuwdI0Sd3vChm9jeEepq1773KOioqMVdIv6+dLpunhNi1E4nF193Q38PZpAg7knp7gOt2KsmPbqACSFHggKQEDJS3AlgUOvp6hUTQNS8uV2/+DlEYjUxPwvDrk7IICLh6l360bdJ7TmvNU0etqEjm9zS6R/csxBcmutnbwSHTB4Luxr0jPfjrQ103ap/hxV9qLPD42HQwPt2Wzyw7saKGveBYdjVXEAIQziFdXLo1OLpGt3+XuR3pPiaA6kEDQpAQsihUAASQkbKzTEwmGhh4hdGXW34QA0bpm14XFxpa/8vTBGoikPQM0RXOlXXHt9sYlMjXDScudTSfECd3Nn7v3Rm24hOr61hyxCZYdg12YTOyhU3eNWkp2IO+YLo58X6Nplv6D0hJpKY8CGeRt3Atu5Nm0DsjSBEsPYSV/IbRqzTKQAJIUeBApAQMlLcFbC3NtDJVa24p6tLOFyR9ee2gcCQoe0Z9s4PlW+Y8kV+J7/9m9nW2z6ELUOEJQUzwUMdm1uzhtq2yO9ouwfu97B+xvpVp5S1fBrnZvTBFAKRBhHqThXxHnCTGFfa+U2idTOjNaVW3NO4nDDq6hTSWx2YMG17A1gOKQAJIYdDAUgIGSluF7Abc4JeYNd1C2cwJl3ulBATO3XE2jBn7eq1cTEwVMB0UVts6goVnblxyfwMNW8wnaRT9Vx02veK+Bf0EyfzjaHbuyDu5dl/87nhAxNCrIzT2R1JCk0VdLhfxGQSv5/ObOt0D+8Tzl80gOCOEkIwiHtSObdvQrNpAiGEHAEKQELISHGr4JD/F0Zd7f8No66uc+NSSyrn9tUogTs6xJz4S33JJre0qQMCEOLP7cxNZ7Zl6Ud+Ol+vzjXUxAGHrxvpgmBmCFD9HbuKdQUq/gZtLsE6GWvbuYbeMAZxT9fCeA8qTO26Wo0jzv0g/jbkBOIxmABCHGOaiFBt5gASQo4CBSAhZKS4QdD+Ul9bO2BecI0SWPuiOQOmEBhGcHOXFEzuH+JWspPXdVqWTtclO3FNWz2y8Q1zD2jdwcgRTGd3zGPHN/IWEJhCbF9vNesb8YbVrr21C2IbubLmhFij/QP3e9aJjC5iTB616m55kLt8bQg0zCRwLMclE5kDQegv9fMeYyv8MJnExLSYNCkACSGHQgFICBkprgCE4cGNU4GYQWCy6xLGtMytbkNUCwwlkZffzSXzJhOwfNe+qWezOYA60UM4tH0tfD+d3dHgZnflHFeMwMKE0VuzcSvWkBLUempcgdDLJjbVGRzEPc33wwRPJ4KVtq6AIXjdqSPyBTU82k4RNRTbrqo1VmbN3AJ6HlfAhJDDoQAkhIwUdwWst3ILu3nki58bI3QdC2FjhR9EFvL1dEVs41zSKeOSRe9vGJq7vWx8Q2Ne4kpbA6NxE4hcPp2+2VBmzeWzk0mNYHGiXeAEDuKemlPgGK4tNvVrTDkhXnFTCDcy3quaUewKGPd+ELxYg+vfjzW0XY2jQYUmEELIUaAAJISMFAjAYGFzaHKG1SdEDVaYaqywzl+4fFF/hokh6t/0/s66hBELg7VtdmpdBV928rpGvaCODTd7uBuEycOdBqoIs05et8vYjbCBaIQgwz0hJnq4Z9TXsI5mTA/jSlvvBCGSb3YOh5FxScMF7a0NxFsZ6IrYL/EGkBByOBSAhJCR4uYA6gQv6+v0D2tYhB67FW9Yz97cpoEVsr88kHSqbkSfjX/BjWBc+f/Ze7vYSNPyWrQBMdKAmAg0E529FTrzs6e7d7eNf8ZV5ar6vq/q+y//xnZ3z8Dwk71JJptDcmCY7ul2t8sul+v3q3L31VEQUi4PhwuQIkVihJIMUq7YikZAIAiSSATCBXAFJEIMAuk9F++71vdWT7bKO1Kdi+FZUsttl11V9tXSWs9aq6vJn9nzRZDCVt3SuQOVXr6jCZ6plknnDvJwiZl9YyLZUgcZUDFF1PVwwBURdAliT9jeC0Y9DEicTQBBFHEfCcUQaineR3rxtkp/66NMUHuNIe8AK5HcAAoEgukQAigQCGaKiRSw6c1DmAIEBwSIKiAUNL/P+TMEJXAHV90daevXhDpA9qCgwepFMATqGu7tkoUmF0KwzAGSaFfBwIrF9i86Ap3t0cRecVjpKG8ty+1aUw4dVjtcEUGABMnfdO6AwRG74w/qJcgx1D+ukmxkKr1wS9u+6xn7FOuhFEELBIKzQQigQCCYKSZCICYMgbu7wMs78KDyOdsjVUuHOvxR76n3/fF9rnJg8SOdO2AQIp07YFAkvbSvp9RMkjeZb+qvLTRzldGqdkGnIG4F7Sk2EDqGU0DKzHyd7/eZQsb7v9i8z++DhYxbQKSa66G+1XPXMyqRuDGcUBrNa9r2MCxhdCiCUHtr+vlq8UAsYIFAcCYIARQIBDMFl0BqLRKbicJnc2OHcAPCDPZ2L0MXpiYFNjBTvLB+H9jXfeL/7an0wi1NGE1NCwIY+D+m4mADp5fv8LXRrRe4XaqIKHGGzYsOQYRSqAQu69obVL+AwFHts5LBuHeshwOmo3HThzRxPRrwrpCWsacLod1NrQK6m5kqp2IBCwSC6RACKBAIZooJAogiZmPbgjyxCqai7VK7HxBfZ3rW2LcgVbizw7/0yl0VVjoqnTtQjadushomnTugshcv50ofqlewBQxiZhMs3PU5WyO9YrKeUXkDOfODviauhkhCzaOCWOnwvbE0GsXQZrkE279I/EJFxN8Hd4P1yKSgvR6VQj/QiuRq40QIoEAgmAohgAKBYKawp+DQ8xdWJq3NZOmIN3J4vB4NSLwQunDXtbIGAoiVD4Q8koWmSq/c5exbemlfE8Ard1kRA6UQ93S4w+PMnLFrQaqY7kUBtLGFo1JbuZsZFbu42J4Ir7jreXVNdWfE20KQt7Cid4onJueKecCF1rIP/gcIAAAgAElEQVQplabyGGkl1F3P8oJs39TBrGXKqckNoEAgmA4hgAKBYKagAlhvTSZarY+4ocO+bVzUhC4uHOc7v1YoAvYoVjPSK3f1Ld/TL+uql4Uma1vSC7eYBMYqCJK86eU7uRJoOvdQOYO7Qqx2lK+N8yCJ6flzN7I3hEaQ8EUYBKlefjR3fV4jL7LG72nfOl5o3WfgBaQRymN1d8T+v1qq10GcrZEmgBICEQgEZ4AQQIFAMFPYBBCrFyhVxr0c7t8QjggrHeU1hpOhCGtqDV9n2XJR17ski4d6XcPtajI4d0CCZ6uF6AqkkmgqVzAVB6sYyl/g9fI7waKun0FZtbuRsQrG7u1DahiPIXCCW0E/6DPMgs4/EMSwqu8E42KbqqV9R4gC6Ho4YMLYa2hVsJzIDaBAIJgOIYACgWCmYA/gajO/a6v3uNiBJO2D02YMTKRDJodtlQ3EDdYtCF2y0MxrVi7e5utADYQyh45BkKzA62lLFn17deu+zrxPdyMjyStfH5OY1eIBb/dgaVd3RxNTdyRwfp8hFRRQIxiDOhr87iysNiGXwNMqYHV3pFO/IIEbGSthZApOIBCcBUIABQLBTGHfANr3fKw48XShci0dktjVowE3cKPyCe8CSZzM7JrXGHLeLb18Z/L2z/wsKl7SuQNWwuC5cGuXXr6jPvuPBVVLh/r7jWJYjwYqWWhOBkPMPJ19g8ffyaiGXmM4qQpaHYdQBnH7h0CMve8LMovVFCyO2MEP2/6t7o5UdWekwmpHVcNjIYACgWAqhAAKBIKZAgTQf+YOFzqQjA3crnK2RkzLIhWMsATqYgJPd9+B+OA2Lqx2JkIcodPVgZClI00EL95mGXPjqZu0kTkHV8kLoaPyib4lNISTax+mBgaFzrVYK35eQ9evoOsPVTYge6i0oZJnrGv7/5iESy/fIellCMX8jkgqB26X3YHuRk4+qzsjFmc7WyNZAhEIBGeCEECBQDBT2BawnQKGTesHmuwh3AG1i/dwhiyxVsWZ3BAGgUuWjqjyMRxyaZ/LHdgJtpPHD94GYjM4XmmRVGIFBPeHodPVj5uqmmShycdR6sz/G8KL2794uaXDJYaIppf2ecMYuF1a2iB/TBgbq7gWGyXQqKawinH/V48GogAKBIIzQQigQCCYKUgAiwfK3dB3a1H5hDZt6HRVMt8kKUTSFiXN6eU7JEbp5Tuq8Tuf0LUul/ZV5eo4t3fx78It1XjiJc7ANZ66qdLLd3Qv4OOfyjeATUF0Mt/kz6RPv6xf44mXVOOJl7Q6Wbdm6kxS2VYiQRi9hu4LRHAEhJWl12b1A8lgqopG2URtDKxtZ3uknG2d7EUJNGxfrzHUP+f1lLM9UpWrY+VuZsrZGqlyLAqgQCCYDiGAAoFgprAJIGzeZPHwDSoZFLnA1f+nCmfUPOz8ppf2VbJ4yAWQwOtRkUNgoh4O+Bywg1HEnCwdadJnugFRDZMsHan04m3awOnF2wxheI3hxAoIFj+QakYYI/B67A2Myie5BRzpRG+83CKBRKDFLnJG0AX3hV5Df28tHugbP1OIbSeAvbU8FOJuZKq0IUXQAoFgOoQACgSCmYI3gMv7VMjseTfs8rL42FihgdtlFx8UQvT1YdMXxC9eaan06ZdVstBUvt/nIkg6d0DlDjvB6dwByWV6+Y5W/Ux5dDp3wCk4EMB4RZO2uHCs61+CPMyBQAdqYRDmCCsd2snJQpMTdbCsQV5hY4PwIVXsbmYkinbQA8+PJDA+99Y0EfQaQ1Xc7ggBFAgEUyEEUCAQzBRUAEsHVLywqwv1C+XHvt/X5M7cwUGtw0dMuDEpawhhvKzn3vCzVBIXmtraNYXP6eU7ufJnbGSsh8BqhiKYzh3wNhEkC3NsuPVjoTX6DM2NIwgiVL5aPJgolo6L7TzIYRQ9P+gzzAGVEQqkszXi45W9MQMf1Z0RP/fWxAIWCARnhxBAgUAwU1ABXNqnZQr1zA/6Ex1+qHeBPZxeuasaT97Q1u68KXo2IY+ofMLKl/TyHfb64euYh8MGcLyia2Vg86ZX7mqL2NwQIpTBfxduMeXrB30SuFo8IMFEmhk2MOxiBjpMcMRrDFkjA9JYDwfs8kOhNAIwYaWjnszu6dc3KmBlb6wn4MzeMEhhdWek3E1t/1b2xrIEIhAIzgQhgAKBYKYAAfScw9w6Nalc3P6BDHKf99J+3qtXMjeAC02qgLB/07kDKn5IAieLhySV8XJLLb1wT1u7ZiIO1jAJ5YVbrItJFg9ZxYLXQAAjmW9yJi5e1rN2SOmi6mXCnjYkFnvA2D9GAMRW/vygTysYZc9cQTEEtPSBU1bQONsjWsCspkmHKvB6kgIWCARnghBAgUAwU9g9gOj0g4KGLrx4uaWqOyOWJ2OqjaqdudFL5nXlCwiTbemGlQ5JH2bhEBqJyicTiWKUPSeLh/zIO8BL+wyMVHd1R2EtHU7YtCSKpTYJHuxs7ARjFaQeDlg2jXLnwO1yQxikkH2H6xln8Kq7I868YYHEawxZ+wK1sbI3Vs62DoKIBSwQCM4CIYACgWCmsG8A7Q1cVL2gBgYEj5NoxdzCxfdC7YsLx6oWD3ivxwSwSfeyRsYofOjqS6/c1XeBT93UVvJKa+JnSAgN0QRZTZaOtOJXPmFSF/9YAG11HMbLLX49KrX1XZ/bZc9hXDhmgANJYa8xpP0LqxmKaeB2lbOtFT8EPtwNfZNYfP5Uq4GmakZSwAKB4CwQAigQCGYKEECn1uLGb1xsszePW7nRQKVX7vLrvBE0aiFIFW1W07+HxC56AjGvhiAH1EAQwfTKXf35xdu0kfF/EECQUK6PmJQvSqih8iHty56/YnviFhGkEe8HpdSorkGdCxQ92MHYIfbWMs7lrT475gpILdYhEFS/RKW2to/rPVXaFAIoEAimQwigQCCYKXgDWDGdfUb1Q3gCJAlrHFC90MsXVkwAZD6/AWTHnyFfqG+BQoi1Dih5IIfJI/+dHYTp5Ts67GEUxmShyTJphEtA8pztkQq8nipfG0/0FUblk4l6GK8xZPo38HokhVAtsUGM+0fc7bkbGUun0QOIWhfcF1Z3RySkUfmEIRDeBW6NVC0dyg2gQCA4E4QACgSCmQIEsF64yxUQrHRAEQudLu1ZZ3tEkpVeuMX/IwGczh3oKhUr/IHbPti3UBaZ8AXBM51/6aV9HQqxiCWJ38XbKr1wS8UrLVW+NtY3gZbyF3iagHlrGQnipbv3uV9Mxa+Y3wA62yN2ICL0crF5nwog1kLsO0Pf72tSZ0qgYQE7W6O8BLox1I9t5ash5URuAAUCwXQIARQIBDOFvQUcF9v6ts7quAO5Qro2rHaomCEwgW69ZL45sfgRL7c434aiZyhzUflEkzpMxV3a1/azIY6Yh0sv3ua6iK0a4nYPARC72iW9fIc3f7gPDOpayYtXdIoYFTFeY6jiFdNxaAigvXGM/kBvLSNhRPIYd371cKCDHlsj2sDuesYgiLuRqfK1sXLXM7GABQLBmSAEUCAQzBQ2AUTNC4INcbGd3wE6Xap1IG52KCMqn+RKH8ga7F3c85lQSFTSgQ+QNYY9Lt5mGje9tK/XQxYP9WOX9pkoThb0PnBcbOvuvc2MAQ+EPLy1jOol1ECmmk2HYT0a0AbG+1j6o3ua3JpOQCR5USjtrme61898xHN4a7rnzw/6fCzwevweZ0v3Aa6uCQEUCATTIQRQIBDMFHYRtN2jl8w3aQFDpQMRpDVrSCCUM3u3F1ZrsnSkf9ZYrOmFW5rEmQWRxlM3aemml/R7gG2cLB7mSiCWRIpt/fmVu9q6dbqsZ4kLx+wnhFoJ0lrZGzPNC0UQiiFKopPFQ+X7fVW5OtYk2Oz8gvghDFJL9cd6pJdCKntjtfrsWCuBV8d69WNb3wS6m/r/IIBSAyMQCM4CIYACgWCmAAEMLr+sydfSka5gMUQOJcwgYWG1Q0sWE20PTrglC00WQyO1i+eDWggrd6L4eV7fAVLxM6simIqLl1u8O2w8/inlbuhwRz0acLfYnmuDrQuiiIQzVEh3XSd2A0+nemkXu9rS9hpD1sqg9gUBGWwM16MB7V5bIcS9YGVvrNdATCJYCKBAIDgLhAAKBIKZwg6BRKV2fm9XOOaSBkics62TsLzvs274kqUjljWjAgZp4Mbjn+KdH1Y8WAFjbg5B+kgEL97m/SC/Zj9ungukDHNw3AkOB/oe0dzycce42KYNHFY6JHMggPVowMm7wOuRAMLqdTcyJoRR+eJuZKq6M1JPfK6b3/9tZHmC2ARAFj5+T602xAIWCATTIQRQIBDMFLSAl/dJimDRxoVjbaGu6LUP2yKmKnjlLhO4rG0p6i5A2rgoe15pTSaHsQFsyGbjyRt51QtSxuaeEOXQ6YVb7BpE/x/et7emlTe8PkIsUflk4kawlg5JbmvpUC18/B4DLUG9x5/FDR9IXuXqmKqj19D7v6iFcTfyahjc/DnbI7X63KlWADcyVd0dqUokCqBAIJgOIYACgWCmsC1gqnbmBhDEDju7UflkYgHkwQBIeuWuvudbztO6Kx+5l3+vNemGIEh64VZu6z55gyXQuA1ML9/JV0IWD1XjqZt8D+56xls9O7lrBzZQ/ox+v3qklcGo1KZNzGUTc88I69ju7wO5ROoXaiD2iJ0t3UVY3TGLIOZe0Nky939GGSxud4QACgSCqRACKBAIZgpawM/cYfo1XmnpjyhHLhyzIgYkMXS6/Dq7/BYPWdGCDkBOuZmkL8MXRlVMFg9VLR5wF3gi8XvxtiaFli2MomjMzbnrGYMg3Bqeb7KkOSqf0OpFLyBWS5Y/eo/l16yHMZU2UamtVT1zB4h7QXT8YQu4lupOwNXnTvVdYGOogrohgkGfCmJ1d6Tq0UBqYAQCwZkgBFAgEMwUD6aA48IxwxaockGPX7zc4ppGMt+c7Oq7fEcreSYdHFY6tHNhDadX7vKuDyQRoYy4cKxVPxMKgSIXVjsMl+D/yXxTNc6/qBc9TK9gUO/p279ooKJSPlMXOvpG0F3PGBTB7SD2ftFzmCw0SRLxWFDv6a5BE/pAwXPg9VgvUw8HXA2x08bO1kiVr491ItiQxkokSyACgWA6hAAKBIKZAgTwv7zcpzWbzDd5R4edXNS5xIXjPGxxaZ8pYO72mhQvAyWm6gXJX0zChU43X/+4eJuKH2bjmCo2RNS+OwwrHdV44iWufgT1HsurccMHAheV9OIHgiBeY8iJOiR68f907iAnlYYMY+0DnYC1dMjUsdcYcmaufG3McmgEP/D/8vWxisonqnxtLARQIBCcCUIABQLBTDERAjF3crBIbUIYOl2maMNKJyeEVvEzyVrhmCQyrHR0uMPUuuDeDr17NjFc+f17TP023vtJ1sTEyy1NDg1BxPdjUcT3tdrnrmcT1jVIIFK8tdTYwuaeEWsh9XDA3zUuHKuw2uFecPnamOsf6A+k8hcNaBFX9sacjvMaQ1W5OmZq2tnWgZDqzki2gAUCwZkgBFAgEMwUDIHM6/BGeuWuCrwea1SwpgFihxvBS3fv58sgl/a5rgHCFheO9ddXWqrx5A3e5nGJ4/KdXPnDzZ9Z/6CyOHegGo9/ShNIEEBDENOnX9bKn7Fia/GAU3LxckurgYYMlq+N9f/N++JtoymLjsonJH7JQjMnlEbJw9IH9313da2Lu66n4GrxQJWvj1UtHvB9lK+PaTujC9Bby5TrHQkBFAgEUyEEUCAQzBQPEsC4mNe5RKV2Pve2kG/wshAaRdC49TPqnB0OgYpn9/hF5RNdK1M+0R2BZgGk8cRL+XrIhVsT/YFIETeeuqlvBecOuAGMxC0UQKR0fV+ngeNiW1WujqnsodMPHX+4B8QUHu7+6qFO90Ltc7ZHVPzwmoHbpc2LtDASvwiPlD5wqtxNXQMjIRCBQHAWCAEUCAQzxYNF0GG1k5ckez3e6qFwGZUqqGfhDJwhjWFFW7sf/J8fzcmhmX8DkeOsG+pi5pusj0kv3+FrYl7OXh6BtZwsHrLmBQEM3O7h5g9qXuDqlHBY0WEPpJDr0YDfC6s78HpU/EDoECKp7uhFkcremLeDUAKLz2uSBwu4ujvKK2DW9U6wu5Gpwu9JDYxAIJgOIYACgWCmAAGsrWpljosaVvkzUrvpxdtU91jqjG4/Yx+j8w/KXnrhlrZ1kQZGMOTJG+z/YwDEftyofOmFW9oKxudQBBcPWe0Cuzes6tvEsNrRix2mG7AWD1R1Z5TXx5gi6Ho4oI2LOTgoin7QV0+f3FfOliZ97kY2qTZuZlwAqcUDtfrcKe8A0f/nNYY6DLKu1b/q7kiWQAQCwZkgBFAgEMwUIIDhxZfy2hdTzoyAR7Jg9nsNMcTX6uFAEzkQQKP44b4uvXCLd3uwhLn7u6DLpBtP3lCNp27yro9dgCiDNreCjSdeyu8ETaVMdWfEjj8odu56xqqXWjpkzQvu82rxQKuGsH+tmpd4paX8oM+aGKR+7ZUPkDo/6Ctna6Si8ony1iwi+OxYeWv6drAe6tvAyt5YrT47VpWrY1VOZAlEIBBMhxBAgUAwU0zcAJqyZhC20Onq/y9rYgjVLb20z5JmdP+RAD79su7vc7okio0nb+RVMbgbBJm7eFsXTC+3NAG8cpckFOqi/b3pxdsqXtbTcCBuWP8IXG3V1tIhK15QEu2uZ7SD3c2MlrAf6EUP3BPWI33vhyCMs61tXFi6ftDnLSAqYorPn6ryNR30gO27+uxYOVsjbf1u5tUw5VQIoEAgmA4hgALBmxR/+qd/qubn59W73vUu9a53vUutrq6qV155hY//4he/UB//+MfVe97zHvXOd75T7e3tqR/96EcTz/H9739fra+vq4cfflg99thj6ubNm+pXv/rV/9b7oAL4X29yOSMuHLOkOazqQmcqgIbosaKlcDxB1pLFw1wpXDrKC55BDs2MHFQ8dAyWPnBKtY/l00j+whpePOTPNZ66qafYCse6x8+UOQduN18cMTU0sHjjwnFe4GxIHsIeSAGDNPpBXyt418Ykibjnc7YNsTPBE5DD8rUxgx/VnREf99b0jnDl6lgsYIFAcCYIARQI3qT4i7/4C/XFL35R/eM//qP6h3/4B3X37l319re/Xf393/+9Ukqpj33sY+q9732vevXVV9Vrr72mVldXVaVS4c//+te/VnNzcyqKIvW1r31NvfLKK+rRRx9Vd+7c+d96H/YSCO/3jLIXL7eY+oVyh+AESRrCG3MHmqCZe79k8VA1zr+YL3tYRc6cjltocvMXyV9+XGhOqH5IBWMaLp07UF5DlzKjBgYKXujkd3wIdSCcwf1f0/+HebfA600ESqD2QVGEglePBqx3ASn0GkNV+sDpROVL+br10RDE6s5Ira4JARQIBNMhBFAg+A3Cu9/9bvVnf/Zn6qc//al6+9vfrj7/+c/zsW9/+9vq3Llz6itf+YpSSqlXXnlFvfWtb51QBT/96U+rRx55RP3yl78882vSAp57Wd/pXbnLkAfXPnC7Z1TBxpM3JlU6owRi9xerGvgc1m769Mvq8u373AiOV1q8+2PZs60SIkVsJ4iffpnpYCxxxMU2J9wCr6dJoPm/u5ExCGLXu8A2tmfikqWjicdB/rDry8k38zyrz+b2buXqmOpgdUergfh6dWdEMig3gAKB4CwQAigQ/Abg17/+tfrc5z6nHnroIfWtb31Lvfrqq+rcuXPqJz/5ycT3nT9/Xt2/f18ppdTh4aFaWFiYePy73/2uOnfunPrqV7965te2CSDu63jzZxK17PJbaOb9fqa+JS62aQGDQOJnG0/eYHdfevG2todN5QuIX1Rq844wvXhbE8ynbqrG+RcnVEaokumFW7SEMcsGta6WDmk7B16PlnAt1cEN3P2hFibwerSPo1KbE3J+0OfyRy01lS6G2NWjAStdVp87ZRXM6nOnJIvO9kgvgWzlPwdFcGVXamAEAsF0CAEUCN7E+MY3vqHe+c53qre97W3qt37rt9QXv/hFpZRSn/3sZ9VDDz30hu8vFArq1q1bSimlXnjhBZUkycTjP//5z9W5c+cmbgkfxOuvv65+9rOf8d8PfvCDPARibv9Q/4J9XyiCydIRO//iwrFW50zKN720r4nbEy+xPBpqXeOJl/jcjfd+Mk8YYwv4wi3+LAmevRH89MsqvXwnL4E2SqG3pm8A7am29/3x/Zz8mXs+3OKFTlfV4gFTviBvLIB2dc9hPRqwUBqp4sremBvAqHYJ6lphLF+bLIF2tkdq9blT3gyuPjsmKSzHogAKBILpEAIoELyJ8ctf/lL90z/9k3rttdfU/v6+evTRR9W3vvWtmRLAVqulzp0794Z/0eN/QhuVtqtR8zAFx3QvuvuMTct7vadf1qTPWLzYAMaihz0bhwk2qHro8ENgBOlhKoZIAxsymF64xTQugh1I4SLBi3s99PKR0JmJuKDeY7WLH/RVXGyzFxBrIdUd/RrupiZ27kbG77fTwMXnT3UAxBDAWqyJYvn6mFZx+dpYlTbkBlAgEEyHEECB4DcIYRiqP/qjP5qpBfy/VADfdzsvcl481IsemG27tD+hAqaX73Drl9u8mHsDUTMqHYMcxuZl/58hepibw+eonsFiSDp3kCuTVnI4vXCL4Y56NGCJM9K/gdtVYaUzUcocF47zfkDzvYHX02qnIaXuesawSD3MAyZI/WIKDnNvIJDVHa36gQC66+Yu0NwIQhEsbokFLBAIpkMIoEDwGwTf99Xv//7vMwTyhS98gY995zvf+XdDID/+8Y/5PZ/5zGfUI488ol5//fUzvyan4J65w4k0zKUlS0ecdosLxypZPNQ3e5f2WfkSL7cmLN/GEy/lKWATFmk8eYPWb1Q+UU937vGuEBYyiCEVP9jLphCadvGlfZLTeqiJXz3Sti7CG/VwoNxNQ+TMvZ+7mVHJDCv65g/BDiSC3fWMxdKwgGvpcIL8IfmL10BCGEsg5Wva7oXqV93VKiBuAVf2ukIABQLBVAgBFAjepNjf31d/8zd/o/75n/9ZfeMb31D7+/vqLW95i/rLv/xLpZSugTl//rz68pe/rF577TVVLpdVuVzmz6MGJkkS9fWvf1196UtfUo899th/uAYmuPyyDkKYrV8sb6AAGgXRvt9nAKTxxEv5zBvqWkyKNy4cq/TyHVV8/jS3bU2aN15p6T3f+aaudjEEj/d9F2/r5zSWcnrh1hsWQZL5JpW4WjyYsIJ9X695gOghnBHUe8rZHqmw2mEXIGpkYG17a5nygz67/5A0ngiF7OQbv96anoUrfvBUp313dQIY6d/i86eq9IFTVXz+VFWujlVhRxRAgUAwHUIABYI3KT760Y+q3/3d31UPPfSQeuyxx1QYhiR/SuVF0O9+97vVO97xDrW7u6t++MMfTjzH9773PbW2tqYefvhh9eijj6obN278h4ug/WU9wZYsHZEIJgtNzrpB5UsWmtpOXWlpZe+Jl3RyuHBMFS8utvNKmZUWU71U+iwyh/UR2MMInzTOv6i/x/wcZuO4LHLhFu/5UOPi+32SvrDa0eqesXUR4AgrHZJFWMfoDsRWMHeCjZ1b3R2RBFZ3TJjjuv5Xi3VZdPH5U4Y9Vp8dc/sXpdFQEZ+5JgqgQCCYDiGAAoFgpqAC+D69uEHFb+lIJfMWATTkL3S6eeDDKHEkaejow9efusnKlsZTN1W80srTxah0MSSRJNBYyegfbDz+KXYE4jlRFg0Ch0m28vWxisonTPKCBGLL193MVLzSUu5Gpjd8rQBIVGrnt4T1Hi3kyt6YSx5eQ28NFz+YV75A6Vt64R5tXtS/VPZ0FUzp/afaBt4aqWeuCwEUCATTIQRQIBDMFPYWMPd6TTFzvNxiYTNUQCRoWdSMkue5AxK99OJtPQH3O5/Q9S1PvMRkMKtdLu1rAoiAyEKTJI8fUS1z/kWSSSSL00v7Wpkzah7XPtYyBjxq6ZAhjFqcE0JYxqhyQUcglj/sHWBvLf8eELtabN0GGnJZ/OAp61+gCLobugJm9Vn9faUPnIoCKBAIzgQhgAKBYKawbwADt0sihqQvCCASviCFrHeBzfvkDU3U3vvJie9Nr9xVjSdv0F6FDQwS2Tj/Iu8CQfiSxUPV+J1PqMbjn9KqIAIli4esgEmfflmTsVTXsHhrGYMZvt/PC53DAYmhH/R1D2CpzWQwugB9X9fA+L7+vJaatO9mnupFItjdyCtnUEJdvjbO596eO6UyWL6mgyEIiZQ2pQZGIBBMhxBAgUAwU9hbwEgAR+UT7vbGhWP+Q21LevmOJmMXb6unT+7nKx2YjFvQAQ1MxDUe/xTTvLwPNOshyeJhvhdc1M/N/kCof+dfZL8gQiaNp24yrFFLhyoqtUnSYOfi677fJ3HzA00OsRvsrufEEDeC6ASs7lpBD6SArek3kL7y9bEqfPiUO8DO1kgVPqxDIVAJQQSfuSoKoEAgmA4hgAKBYKawbwB5i4diZ2Pr2klghENg1TaevEG1sPHkDSZ+8T1M96Lc+ambulsQZdNmIs5WCGkNX7mr62NMaCRZPFS+36eqyHCHCXigv88P+ipebvH/SAeHlY5W9tKhisonnHyrh/p+EHUweC6USLsbGWtinO0R612qO5ogIgjibmrLFwGR0vtP9b8P6A7AylVRAAUCwdkgBFAgEMwUtgWMsAe3eVHqfOUuQyEIZLCe5cIt7gPT0sV9oOkKBIlMn36Zd4FQATHvliwdaaXQTMBhS7jx1E1N+MyaCNRAmwBi4s1raHIXeD1+DoLobI2U7+tqF9/vs94F6x6cftvQYZHA6+Uk0HT/Odsj3gJy69fUwRQ/qEle+ZrZ/P3IPSaCSx/QJHD1uVMpghYIBGeCEECBQDBT2AQwWWiyKBmTcHGxzcLn9OJtnQK+clctfuwe7Vh7CQRVMFDymARGUARrIwvNfFfYbA6nT7+sGk/dVM7WSKuJF2+rxohT7iIAACAASURBVH/+E00AUSUzd0CyiAUO3OTV4oGKC8c6zLGZW7vuhgmCpEMqgwiO4A4QvX+Bp8MjYbWTEzxzB1i5qqtcytfHVANBDAsfPlXVXW35rj6nyV7hQ6ckmaiTkRSwQCA4C4QACgSCmQIEMLx0g1NpWONg6AIdfJiGsxK/LG++cEuXOqO2BTYukrtzB6x/Seab/Lxx/kVNCmH9ov7lga83nnhJf3zyhn6ep1/W6x7VDrv9cKcXVjskf95axr1e7Pz6vq59gRoIyzdZPFS1eKACt6tqqVYIUQMDoocJOKh7eI3Ch3Two/R+nQKGBbzy+/dU4cOn+eeyBCIQCM4AIYACgWCmAAFc2e3o1Or1MTvw7D1bhBlAgFByvPrsWAV1fWMXeD1V3R1xh7ceGTJlkrfo50uWjrRVa824BfVevt5h1kii8ol+LmPxouQZFi0ej1da+uNyi5+HlY4Kq3rGDnu/6AiMV1q6dNqEXXDfmCweqrDaocro+32mgTEZFxfbE6ERTNBF5RO+z6jUVoHXo43s+332FZaTthBAgUAwFUIABQLBTAECWNzu5Ban2bMtXx+zJqUe6aADLFUmY02FirM1on0auF21+py+iYtKbf0zRn3Dfi8m2mqxJlbp5TtvUO/8oE/LOVk60vd4xtoNqx3OtyWLh5qAGXUvdLq0eENHE8OwahZCYG9fuauf29jcLKg2HYSh0514n+waNOli2MZYGwnqPdbPBG5XBW6XN4i4SayHA1VbbQoBFAgEUyEEUCAQzBQggKXNE1XZ09ZldXfEWTP8C+p5KMLZHrFQubqre/BYimzWNaD+ReUT5W5mLE8OvB5VvtDp5rUsXk8FbpeVLfUoJ5rp//FxFVY6vLGD2giShtvFqKTVuXilxUm3sNLJC6yNUlgPjSJpSF+8rLeJUXKN/kOQUMzGoU/QXc+ocIIMlq+PWSZtq36wl0GMFz7UEwIoEAimQgigQCCYKUgAN044V1bZG9P6XX12zNqTyt6Y1Sq+36ciV4sHVAFrsVb4arFWvuLCMf8fldoqdLoqrHb4MyCB2BiGylYPB7R/07kDKo1QFL21LLeIjTUcF9sqWTrSCp+ppolXWtwIDqsdqoE24YN6GBeO+VzJ4iHfA14b83K1eKBWnztVYaUzESYB4cNHKIJQOmvxQFX9lhBAgUAwFUIABQLBTGHfAK4+q9W/8jVNACt7YxYfB15Pq4Om+85dz5c3sJyBXj1Mp4EoYpIN1i3UO5JH8331UCtqUPZAqlDAXN3Vyx9eY8i7QWwVx8Xc3rUJHu774uUWCRsSzlH5ZFIl9HoqWTrSN4LmBhCvwa1gowbGhWNVj4xCaGbnQqfLMm2sioB84m/jOYdCAAUCwVQIARQIBDMFCGBhR98Alq+PuVqBihXMptlp2lqq1Tpne0Q1ECXKIES+rwkfipcDtzsRxqBSaBSzejSgmlaPBgx7QD3DJBtuA+3Fkqh8opKlI94RxoVjfYtnSF1UyrsKEfTAe0mWjlS83CIhTOabKiq19XNVNJnD8+L3ikqaYBY+fMqgC9RA2N324ghTyWW5ARQIBNMhBFAgEMwUtgJYS4dM+iIRjJ1ddO7VYm2DYvIMZBB3brivgzKGYEZQ16pfLdWkiqlfE9hASMMOUYA4IWwCC9ZraLUN4Q/c/+GeLyq1SejSuQPeF+L2EOEOrposHmoSaO4G8bywf5HohULpbmS0ou3fwdka8XGQQdsG9v2+WMACgeBMEAIoEAhmChDA1bUTVUuHDIBAxXI3c7u3umsUwe0RFzYQ7LBXM3xfBzFsIgQSFa+08pSvURBR4eKtZSRZSNkGdRMOMeXO8XKLSiRWQEDqUOkCApgsNLWCZ0IhuA9EgjheNl839S/xSivfKjZ7x/bKCKxfEEOGRIySifJoEGba2CYckl65q5y6EECBQDAdQgAFAsFMAQL4zNUuFT90/FWu6lULEDOvMWTSl9bvpn4MaqCdmEV3H+xjVL7ERRMGQdUKVDyzz0vr1KRuUbeC12fVi0n22vd+CI7EhWNNCk2iNyqfkASC4MH+he0buN28sPrKXd4MosIFU3K4I0SPISpfoGCSvIL8ul3VeO8nlbueqej8x4UACgSCqRACKBAIZgoQwHLaVtVdTf4a/+mPqc5Vd7St6WyPVPH5U1X84KmqhwNVuarrWKq7eirN3cwYjKDKVu1M1q6UT7Q6WDgmAXQ3M4Y3QO5g14LMwV4NPK3yQXmDygjrF2pfsnTE14aKF7g6fZxeuUubN1k64v0fJu3Of2akCWq1QyWvHur7Q6h5uHVEFQw+txXR0NEWttfQ9S/JI/9dpe95QUVP/F9CAAUCwVQIARQIBDOFfQOI3VqketHthwqUytUxt3MrV8fs64PyFVY7VAHtBC3WP9iPZ8IZCH+gIw/9glDg0ve8oHy/rxr/6Y9zYlnR7zOo96ge0l4uHNPWxS0gdn9hFSPUwcUQk9jFMkg9HGgV0FTI1MOBrr/xerSrcYMIUgmb2l3PqBbC/qVqGeiaHEkBCwSCs0AIoEAgmClAAJef7arKnraAV5875e1fdWdEOxNBDGd7pImUUfJg+9o9eKg+gWLmB31OtcFCRWLWXc9UsnREUmff/SH4gfs61MWAQGLuDWseuMdLFprKW8vYDUi1r6jtXiZ7H1gDSRaaWiU0ZNAP+hOzdiCAKHxG/QveI+4L7d8FwZV6NFBOTW4ABQLBdAgBFAgEMwUt4KStLV2T/vXWMpJBrzFU3pqeiLOtW866lU9UdUfbx/VwwE49rzFU8UqL+7gohYZVjPs6bPfW4rz8OXS6JGCofrHv6lDRErhdWrYgX1GprdIrd3lXyMeMNY17QKSBk/mmJojzTVbEoMcPRBG2c1Q+YQglKuvgDOprQGhBGBGKQRF0UO8JARQIBGeCEECBQDBTgAC63hGn3VDijPSvs6Xv/CpXx+zggw2LNCwUP4QkavGAqppdDQPLGKEKu54FJA0JWiqJJliBGz+8Nnr7QOTilRYXR5KFJm3cieSvsYeR/EWnXzp3wCQvHq+lQwY9UEkD0utu5sskuPXjFjB2g63pODxPOW4LARQIBFMhBFAgEMwUIICV6FiTP5PmdTczVdkbU72CCugHZtrM3O3V0qGqXB2TsLnrGQkRptV4J1fXpcyoYAncrnI3TAjE3NRxCcTtMsUbeD0GSCpXxySLsGSR5gWpAyH01jKtJprELhTBZKE5MQWH6hgQ0LjYZt0M3j8CHrVYE2K8DmbicPOH/+NvhL9Z4PV0x6J3JARQIBBMhRBAgUAwU9g9gJhcQxAEnXaYbPPWMk7E8X5vI6NFay9gONsjFReOVXppX1V3RlT8olKbxcycc6t2VLJ0pJO1hrDZCyG4M3Q3MypxIHPo5UONC+7xovJJXg9jlTyHTlf3A5pQCAghd4ox52YUTQRdcJcYldq0fZ8c3+PjIHxUNkEOQf6MZe4v7wsBFAgEUyEEUCAQzBS0gF1NwKDgQdnD7Zu3phXBeqT7/ao7I94MQqErPn/KYIW7qW3P9PId9usl802d8jXBDFjFKFNe+sN7E3NqmFhzNzKqfqiBQal06HRpu6LEOS4c82tI97JWptKhCpksNDn7hiJoqImwm7F6Yid8YUkz0GLew4NWMP6OqImp7o5UafNECKBAIJgKIYACgWCm4Bbw73Vo+TpbevHDWzMhBmsJw9nKQyIgjHGxrVVAQ3qwnoE0LJ4DgQuENjjRZrZ7cSfIIEWYk8Nk8ZDvx66QWf6De7z1SxYP9b2hUf/iYvsNCWFMxCULTd4Rppf2J+fkTGF0PRzQgrY3fm0l0F3PJqpe7OJqpH9x/+etZapWOhACKBAIpkIIoEAgmClAAEubJ1T/YOti9q2WDrWdCuJlbNjA63EHGJYpSB9WM7CDmywecg8Y93u460NIhJUyIF6WBez7ukcPlmtY0dvBduCDt3zmji8qtUkwfb+vbwQrnXxD2CySQKG0VUSogug3xF4xiB5KqHFnaKeaw2onn4gz1jAqbH7nT4+FAAoEgqkQAigQCGYK2wKG3epsjbSNu67/H5XaytnObVC7F9Dd0AQIVSkgZ6hMgeKGFQ/uAfv6cTukgX5AELt4uaWrU8wKCMqbvbWMd35htaPVPKtfELYulEGWPhuiBoKHsEeydETlL6xomxmkM6zm94juRsb36W7k7wEpYW4WWwQas3n1UD/uuhICEQgE0yEEUCAQzBQggMXtjnK2R5x/8xq5vYniY7vTDrdwztaICdiofELrF4lckrFimwQqLhznKVpzM5gsNKkg+n6fFjCqVEAs42KbO8NQFJEu5iRctUP1D0ERdPqRYJoACJTGWjpU6dxBviNslEiQWvw97LLpuHCsKntjzr1BPeVCiHl9e9O4EkkNjEAgmA4hgAKBYKYAAayGxzrssJmTPGz8ggQhAFLZG5McsZAZ3XjoCTQ1MFjOwF1fXDjOCSAWRNwuJ9xsOxWBESSFMTNXS4cqXtYqIoqf+fPVPOzhruvwCMgo1Ea7BzC9cpepXZBGPI7tX7weCG4t1b9zLR3q8mtLAQS5RH+hs50T5MDrqdpqUwigQCCYCiGAAoFgprB7AJ0tfe+H0EY91CQQqV4ocejrg0IHYoRQCPZ1SYhwl7fSYh8fFjyQmsX3oIsvqPeUH/TV0h/e47IGHnO2R1QcSRBNfQvXP0D2Vlpc6kACGMQRKyVx4VilcwcqvXxH+X6f94DYKUYVjr34AWKLvsLA7arqzmiiCgZrIKjBqcUDVU5EARQIBNMhBFAgEMwUNgGE0lfdHXG2DYsXgdfjogWCG7gZhDKIjV4EKKCcBW6Xadxk8ZBKXVjt6LoYU6XCsIl5DVi3UOjqkZ6ZQ1IY/X642YO6F3g9PQWHtLEhm1H5RL8XUw0TeD0GQ/A4yF283OJiibOlCWf52phKJP4utTS3vqH41SP9t0BqGneAq8+dShG0QCA4E4QACgSCmcIOgcCqRbIXCVcodKyFSbWdCcs2XmnxVhC2rbup62Gg9jF0UTgmEcMSR1w4nvheJozNPSFURBBQTMDhhg+1LghsIBwC1S+dO1DeWqb7/Yz1HBeOWenCsmiz/hGvtHiz6Af6zhGkE78nVEpnS6t7lavjCZs5dLoTRdL4uUokKWCBQDAdQgAFAsFMkSuAbQYVmOg1u7fot4O9ifs2qF4giVjIAIkDqfKDvoqXWzpkUe2o9PKdfO7NqG1QBFEqjbk4e1oNZNEP8kAHyFZY6VDZQ9Ezwih2aTPIJ34elnE9HOii6kh/BLkF6cM+cuB2mfCF7QuLmOGZDf057hB5S5kOxQIWCARnghBAgUAwU9gKoL3lC/XKDjBU9sZM3eIj7gKhtrHwGV17yy1asbCDQRihCIK8gXBipi2dO6DChuQt7FavMZzY/SVpLLZJOGupSS9vZlQhQVjR6wdLNy4cq/lP3GcHIWxvWMDV3VG+gWz+TiCnftDn93Mn2HQmghTj7yRLIAKB4CwQAigQCGYKbgE3Tjjt5q3l279Y/MBdG3ZtceMHIgXCCLuYm7imHgX3dbBvYdnaCh4qWrCiwZk3ExxBIAPBDSiBsJd5n2gqYwK3O1EqjXRuVGpz7g3F1CCPuCnEjaDv90n2kPq1q3C8tWxi0q4WD7ikUt3Rd3+w1J2tkdTACASCM0EIoEAgmClAAMuxtoCh6gVul0sXDxYhF58/zZWvoM8JNxA5P+gztQsbl/eCCIAY8sV+P3N3h0oVLoiYzeBk6UgT0kZuBfO2EK9h7GaGVjYy2rnJQpMpY5BUVMRAqQyrHZVeuKU/N2XV+F0Ct6uqu6OJBDT+LnZFDnsLw0Fe/WK2k2up3AAKBIKzQQigQCCYKeweQHcj43wbrFNb+cNCSODpNQw/6LMcGZZsLR7oXV6jsNnhj3glT+iCvIHccQvYKH5IE0OFg5qXLB3RorbXQFj0bBS9uNgmEaylumpm9dkxrWrf73M/GKQVBc54HLeQ7maWr6AYYgp795n/do8EEITPTkbDrnbXNZkWAigQCM4CIYACgWCmmOgBNLu/sHndjUzf/ZmaFHc9o8KG9G0tHnCdI3S67AWEigjCFjr6/yBsUARxhweyhyQxUrawcrFFDMsVn9v7vyiADtw8uWzXyECpTBasqThTG0M10qiUsJwDNw+CIAWN+z7M5XEPudoh2QOZxP2fu5mp6u5IlVOxgAUCwXQIARQIBDOFrQBizQNpYOz8QnHDLWAtHbJg2b7Vq4cDWsHc5jWkKHS62o4127t2zx/TucZOxaYvCCGm3kBQUdWCm8K4cKySpSOVLB7mP4/+P/QEVq2NYatuxg61wNKFOollEzynH/R5I4nbRpDC6u6IqqG7nrHXEH9PdzOTG0CBQHBmCAEUCAQzBW8A0zYJDcgZ7gGhykENRNgC94HY1cU6RlzMp9mS+Sbv+5gKNuphvNIiyYR6GNRzdS1ebvFzWMS4CQR5i0pt/jxu+gJXk037HjFeaTE4grtD/CzeW1RqaxJoFESUPXtrGYMdIHm4l4QqGtR7avW5U1bB2PU1sIdr6VCt7HaEAAoEgqkQAigQCGYKEECvcsiULVPAhrTUUq1q4QYQdi/sVYQkksVDkrV4paXc9YyLHMl8k71/SASD1MUruiPQ3tK1N4O5tWueGzeIUNmg7kFNxPti5Uu9N1ExkywdaWKKdRCjQMaFY31nCFvZ3DRC1UP3n72PjNtIZ3ukytfH/FuRPBvyiK9LD6BAIDgLhAAKBIKZYiIEYvryAq+nqjsjbVleHavF/3GPCyGoh0GKF2sdgdejchY6Xdqk6MRj1UrhmIoclcO6mWSz6mSSxUNWyeBmEGoarFqkeqEwwm6GGgnSaKt9IKG430uWjphkptpoZuD4u5rXgAJYDwdq/hP3NSk0xNjZHrEcG/8qe2NN+q6NaRMXt0QBFAgE0yEEUCAQzBT2Ekgy36T1GbjdiQk0JHNxewcL1O76Q0gDN3lhVc+wwc6FMojgRbJ4OEEUESAJ3C5DG7gHhOqI1K5dPs1AiTXDBjUSoRO8P1TF0Ca259tMICVebnFBBDd+XEcxdi7S0VhIARms7o70DaBZAalHAwZqnO2RWm1IEbRAIJgOIYACgWCmYBH02gln4KCigexA1YMCmCweThAzTqsZBQ8kDCQvdLoTPXzpxdu5/Wsm2ZDkBWEDMYPdi0LnuKgrZyp7Y9q0SPwiGYznedACrqVD/gxuEBFECSsdlSwesuoFSmN1Z6SKz58qZ3tEa7eyN6a1i+fFRjKsYjs1DCW1cnWsShtCAAUCwXQIARQIBDOFHQJZ/oN7vPsjGUQRNPr4TM8dQhfo36ulQxK/eEWrbHOfup8XQGP2rZovcUDpSxYPueMLAsbZuEqHm8IgZSBvsJ1B+GDjgvhBUUznDhgaYXLZvFc/6L8hKYw7Q9i92PaF6oeVD9v6vfzyfd0ZaAggiB9t4m2zGewdCQEUCARTIQRQIBDMFPYSCAgRrEukXEGmsPOLChXUvlD1M1vA6NmLyicqvbSvCZwpXY6LeZIXxCwuHKv0wq1cOXStMmdjQZOcmbWQuNjOq2ZM2hfzdCCHS394j0lckMXA69GipSLo5CSyHg74OlBDK3tj5WyPmARG0fODIQ9ne6Tq0YBzcQiPVK7mPy89gAKB4CwQAigQCGYKhkD8FkMW/3X/fl6JYpKzmDSrpUOSMNS+oNAZO74MfxhrGMXOE5u7Ky2dDDbEDIXRWPOIyif6jtDpqvf9yX39fPUef8ZbyzsKYf1yN7iYF0OTABobOFk81PeIxZzI4nmgSoLMYgHEa5gNYBPucLZHDIi46xkTxtWdkarujtibiC7FejggAayGsgQiEAimQwigQCCYKewUMBSuejhQlatjBh+Q1AWJqkcDdvmRdJl7OszGMYwx35zo6IO9ihtA3PYxjGHuCONiWytqhlwl802STgQ+sEISF47znd+gz6UQhD1QHA21z+76w/uuxdraRVk0lEdne8T3Zlu5IJbO9kiFlU5eBL2m7WGURtcj/bcsvf9UeWuZWl2TG0CBQDAdQgAFAsFMYSuAmDXDbBkUP9iruK+r7I1Z2wLFjbatIYaYS4uXW8pby/Q8XGPIdDB/BlUuRrUDGQNpxCYwAhpcDTHBENq/ZjkEKWZna8R5NljTJJrmNREwwXsH+cP3IKHsbmZcKQmdLhXAWjrk6yD9C1UQFjBKtKu7Wh30KodCAAUCwVQIARQIBDOFXQRt36zBAkXwwZ5EsxczvIbey0Xgwt3IWOUSVjrs1EsWD6m2JfPNiR3eZL7JChrbLo6XW7zPgzWcLB0pdz2b2A7G7SKUOjwGtRJ2MJ4byd9aOqS6CbUSKmDg5qlnWsFr+u+BXr96NGDII6x2GBZxNzIqgJWrY239GgL4zPWuEECBQDAVQgAFAsFMQQLoHJLw4ebP3vhFQhchB5Av3PzZnXtQ+9ADOLHAsXiokvmmSucOJsnXQpOvi+e0O/ziYpuWLGpbYAcHdT0NF5VP2BEI5Q6F07aKicCH/Z5ZYl3Ji6uh8CF97GyN1Opzp6qyN9Yp4O2RJoPGGgYBBDmupUO1+twpyaPXGMoSiEAgOBOEAAoEgpkiL4I+ngg14P6uluoewKh8Qju4ujOi2lePBro4eemIqx2oYwkrHZXMN5m2RRF0Mt9kFQzs2/TynVz9q+SLICCC8UqLZdEgdVAZ7QUSP+jzPeN54pVWThTRDWgCIFH5hJ/X4jwIkiw0uQVc3dV/C1jL1R1NQt2NTBU/eEpLuB4NeEcJcjj34n2trG5mqrI3lhSwQCA4E4QACgSCmcK+AUTnn7M1Uv+le4/Wb+h0J/oBYbHizg3EyrZc07kDhiwCt8sQRj0cqPTK3YnamMDtUimMSm2WPKOShmpgpcPnmSiONqGQwDWLI9Y0HGte7Ek687qYpkOQBCsneC3cMVIFNMQSpc/1aMDQjLuRqdL7T2kXu5uaBKJCpnx9rNzNTBW3ZQpOIBBMhxBAgUAwU4AAljZOdIIVYQZj78LydTfzOhRvLWOwAVNwlT19N4jJOHTuIbTBmbXCsU7nWvUstHMNSQP5s0McTAAbFbAemb4+0y8I0oblEewM+35fJQtNTfJM8KS6M+LzxistBjpQJg0rOr18R8XFtvrd/3us4mIeEIlXWvxdw2pHVfbG/P1rcX4zid8fZNH3+6oSSQ2MQCCYDiGAAoFgprCn4NBhV0uHLDmGmoVZOO7ablldeNbyRT3MgxHuZn77hmJpfMTtn7uecWGExMyagAPJsqteYEdH5RMdIDHF01QIyyf8fqiP8bLuOYwLx/r1jX3sNYbqic/lU3ZYIrHTxgiqIMCC6Tkoj1wMWc9IdvH+WE693NLF2rIEIhAIzgAhgAKBYKYAAVzZ6ypvLWONSuh0GWjAPaDv90kCsa4BCxcKHcIW3ppOE4PsodsPipjv96keoksQ5ckgg0jg0n42d324TWSa2JA6zrqZtHFUaitvLVPJQpO3hvFKi/eEeK++31fppX0VL7dUOneQB1u8Hi1nTMXx/ZqbQT/Qv0fl6piqIkIfCMpAWazFA1EABQLBmSAEUCAQzBR2ETRsX1SkVK6OWZAM27Zydcyeu/K1MZVAqHWwQFERg2AHEru+r+tk0K3nbmT5hnAxXx8pXxuzkxBJYFisvt9nATPCJUgpY3kEZdBcMqn3eO+XzDe5UgJLF+QU1TRR+UQlC03O1l1o38/7Cqu5EhkXjrn/i6/BosZ7xrRe6HTVakOKoAUCwXQIARQIBDOFfQPobmRUAUHSEHhAGKKWajVu9VlD0IzV6wealEXlE34fyJsf9JmOxVqG1xhSSUOIAqsfIJj4v7OV3yUihVvdHalk6YhpYvT/URF088k5rI8gZGKvjkDVw3Mg0IIN5Hi5pW8Il1sTgRFU3UBZhOWLx+qhJsLeWkb10w/6qlY6EAIoEAimQgigQCCYKfIamDarThDkAFmrhwNddIzbvvVsopMP03GoYIEF7GyPqAp6a1me+vVypRAfvcaQ93ZQDifuB828XD0cqKUX7il3PdNq3kJzIjyCtQ8QtrDSIVGEAgml0bZ3WTdj7OS4cMwwSTp3kAdczOwdNpFRRwNLPKx0aJUHniawUE/d9UwsYIFAcCYIARQIBDMFCKDrHtH+5eyZUe9Wnx2T5HhrWpEDucGtm7uhiSPuBREawS3dg8lYW23DPyRlUf+C545XWhNrJPFyi+sbduCjFg9IBuPllnK2R5okGhs3rHY4RYfXpvpXydO9WB9pPHVTE0NTX4MVEdwNIq0M1TMqtUmaA7dLdRPpZd/vSxG0QCA4E4QACgSCmQIEsBy3SVxAVrzGUPfYbY2YCEYRdD0yhMyoeOgPRHFydWc0qeC5Xd4SorCZgRDr/7gBDJ0u61Ow5OGu58EKrzHU1qwJdSAJHJXatH5B7JLFw/yuz0zSwSKOSm2GNOLCMVdPGGrx+yqZb3KOzi65htULMozpO5DZeqjv/uqhLpj21jLlL+8LARQIBFMhBFAg+A3BYDBQ586dU5/85Cf5tV/84hfq4x//uHrPe96j3vnOd6q9vT31ox/9aOLnvv/976v19XX18MMPq8cee0zdvHlT/epXvzrz69pLIFy4MBYvSJezPaKih71g3zd3fSYpjF1cZ3vEZQzcC0K5q+6OJupjQPzQ7UerGNu+powZz/1ggjhZOmK/H6bm4uUW7/ZsKzhZ0gpnstDMk7nlExUvtzg1B/sWd4TYIqY1bJRF1tIYBRJ1MSCASEMH9R4Ty1GprSt25AZQIBCcAUIABYLfAPzt3/6tevzxx9X73ve+CQL4sY99TL33ve9Vr776qnrttdfU6uqqqlQqfPzXv/61mpubU1EUqa997WvqlVdeUY8++qi6c+fOmV/bXgKBuocJNNwCIsUKFRD3beVrYyphsELroSZTCI/gbs+ua0EgAp2DqEgpXx/n4YuVFm3aorGFuwAAIABJREFU1WfHE1NvCGCgCDoqtXUBdCVP6QZej6QP94oIitibv+jqS5aOWB0DVTBebuUEs5orgEgMwy72gz6tYq+hbXKshEBZhIVeicQCFggE0yEEUCB4k+Pf/u3f1NNPP63+6q/+StVqNRLAn/70p+rtb3+7+vznP8/v/fa3v63OnTunvvKVryillHrllVfUW9/61glV8NOf/rR65JFH1C9/+cszvT4IYG21mSdxvR5DHLa6527mt22VvfHEoge6+vAPSWDYoej0Q8kyLGRUweDrUAXtZDAm2vAzsIYRwkDSF/1+IG1cCjFWMLeBjdqHiTcshFCRRF+gKW9GkAS3gfge9AzintFOFdfSIatv7ABK/Zk7QgAFAsFUCAEUCN7k+MhHPqJefPFFpZSaIICvvvqqOnfunPrJT34y8f3nz59X9+/fV0opdXh4qBYWFiYe/+53v6vOnTunvvrVr57p9UkASwdMAKP7z14ACeo9fo7kLlQu1KFgS7iWDiduAH0/L4fGz1d38/5ABEjsvV0oa0gDB16PBBJqJG1cU70CogYiGNR7vPmDoojHcJcXL7dIFLn+YUhtstCkYonqGBZNY9s4ym8W0SkI8gd10V3Pk9ViAQsEgrNACKBA8CbG5z73OTU3N6d+8YtfKKUmCeBnP/tZ9dBDD73hZwqFgrp165ZSSqkXXnhBJUky8fjPf/5zde7cOfXKK6/8u6/5+uuvq5/97Gf894Mf/EATwOIBAxZYtIASR+KWDpWzrTv40O2HihZ7GQSkz93MqJYF9R7n2OxiZ6iKodOd6CCECglFjRUrRgF01zMSP1i1qKSBDY1Ub7LQ1N9nVMFk6YjWM5K96dyBvv8zU3IghXgcRJG9gQtNppbxd6vFA87LgUhD+QPBLadiAQsEgukQAigQvEnxL//yL+q3f/u31d/93d/xa/9/EMBWq6XOnTv3hn/luM2bu7jYVs62VvCquyPe/E0sfhir114OAQmCfQsCWYu1hYy+P6hmsICpuhmbGHYsbgvZq2fm12rxQD3z3+6xmBlKIBQ3lDUjtBEX9Y0gbhJxK2iTVla8IIBiwh/1aDBpL5t7vno00FN0xj6GwmeTZm8t4++5+qxeVREFUCAQnAVCAAWCNyn+/M//XJ07d0697W1v479z586pt7zlLeptb3ub+uu//uuZWMD/KwXQqxwysQviElY7XAcJnW5O3EwKt5YOWdeCYAbu85AiRq0LalEQwECII6j3Jrr27O48dyMPncAGtmtkuPRhFTlDvQQJtG1eKHeoe8F9IUgh5tpgF6P7D+neuHCsksVD/dqGEOLnMD2HRDKWTKAYImEsBFAgEJwFQgAFgjcp/vVf/1V985vfnPi3srKiPvShD6lvfvObDIF84Qtf4M985zvf+XdDID/+8Y/5PZ/5zGfUI488ol5//fUzvQ/2ACZtrn+A3EFxg9WLuz8ogavPjnMlz1IGo5JW15CCxcQbyBGSwSia5s2fsVOR1EXxNBVBFDI7XeVuZpMdfkblS5aOVLJ4yDQvqlpY72Ju99DPh0UPbAAj2QsLGJ2BuA+EvczCaPM8KM4O3K5ytkZMHWMnGDaxLIEIBIKzQAigQPAbBNsCVkrXwJw/f159+ctfVq+99poql8uqXC7zcdTAJEmivv71r6svfelL6rHHHvsP1cA4tRY3bbHCkSweUgmLi21avCiERhADhMz3+5rsuHmJMxK/uNfDvR9WO7DGgcAHlkBCp8t7RNjKuEvk5Fylo9K5A50SDvoTqiDu72gNW+nduNhmNQ0USXzE12rxQKVzB7Sok8VDJo4RagGxROoZIRB3I2OyGf2F+B2L2x0hgAKBYCqEAAoEv0F4kACiCPrd7363esc73qF2d3fVD3/4w4mf+d73vqfW1tbUww8/rB599FF148aN/1ARtOsd5eoeljjiPAASVrVtGzrdiUJmEESQxnpoNoIDTQaruyPeyIHUsc7F3N7hde07QljDIGpMI3s9Vdkbs8w5nTug/YvOPZRBI9mbXrnLcAfUR5BM1Lkk802STNS74DlDp0tV0Q6JQBn0gz6T0OgghKrprme8NYzKJ6q22hQCKBAIpkIIoEAgmClAAL1yM98CNusc2OBFACMqn2hStzNi0MHdzPKZNus+EFUtcbE9YY/COkW/INS0WjpUceFYVa6OJ5RIKIVcADGly9j5BeFCDQuqWWDpghTi9/GDPsMjuB1EiXRUaut0r7X7i9AHUsR4v1AXoWhimxi2Of4+CNWgRqccSwpYIBBMhxBAgUAwU3AJJDxm9YpNvHCnZ6+C+H6++sH7N3PD525kTO/W0iHn2hCSAHlyN/R2LixS7uwaMuf7fRIo1LVAWQvqeV0NyZkpfIZyCNIXOl3awiBrfMzYwZydM3Yv7g0R4uCah3ldJIuxm1yLB6q6M6KiyJk7dP+ZtLS7malnrneFAAoEgqkQAigQCGYK3gDWW1rFsqbdoLrB2oUdzECG6fKDBQrig31gEDZYvSB+CJSA1DnbI97IgbTBBrZvBd3NbKJMGuQQKiNUPZBJTtAtt1gSnSwd6ZCJea1k6YiKJ0ghAjC4T0wWD/kc6eU7nJmzrV783aAysuDaFFjDMvYqh0IABQLBVAgBFAgEM4U9BQciU4sHeQefIXQkaOaOD+pcUO+RqOHWz+4ChDXqrWUklEzWPlCTAmKIz3FzGJVPWDDN7V2z6pEsHuap3Eo+AwerFiGRqHzCahYEPQKvxxm5sNLJN4GtjkDY1+gATJaONJEzvz/CK7SjTUcgVlFIErEbvLwvBFAgEEyFEECBQDBTgABWomP29bEqBcsbJqCBsAesTayDoOIEBdIgiSBAIHcIc6B8GerZBFFyuvnyh5lze/z/6fGeD99LMmeCHginwEaGhev7fZVeuavVRtM3yO839jErafy+SpaO9MeF5gSRRIgFN45IASOoUnr/KUkz6mWQmEZ4pR4OpAZGIBCcCUIABQLBTJETQF3zApvVXc9Yxuyt5X1+UMNArpCo5c2eZQHDTsX3czfX3M2hl49KoCGWKGd2NzISKhJD1MhYqx68L7RqXxj0MP2ACJLAYibZxM2huQNkv1+1o5L5JnsCQRYxK4cOQKh7+B1QC1NLh9xOhkLormfKK0sKWCAQTIcQQIFAMFMwBOLr7jwQKdis7oaVxI1zixY9gJxMCwcTti5CDyiH5sKH13uDtRo6XVrJds0MH8PPmu9B+TRn4EwhtJ0EhpLHQmirBxAqoN1vCEUPe8e+39dzc0YNhRoYuF1V3RmRaIIIh06XJdSoxkHKuR4N+K9WlCUQgUAwHUIABQLBTDFRBG2IGMmWUdbsihP03SH5Chs0qPd4Fwe7FSQSxA+3eHHhmM+BO0ISM7yu2fKlnevm1jDsZVqzVkgE1S28SfQmb/5AGFF5g4QyVDwQRxBMP+jz7s8OiyAEglLs6s6IdTjO9ki5mxnVVFjB7nqmCjtSBC0QCKZDCKBAIJgpQAAXP9hjxx5u3LDtS0tzPV/5QK8dSF51Z8RbQVifUO7Q1VfdHfG5YRujSoZE0ipXhtIHuxXhFNwCRqW2SucO+PPY9kVKF2QNCiGLpc0SiB/0J24A2e9nUsLxcovPifRwsnQ0sW+MPWRWyhjy6Af9iTAIVkFc90gIoEAgmAohgAKBYKZgCrh0wIAGyBJ3eP289gWLHLBfQc6SpSPOwSEAQSXRkDp3M6OKBvKFoAlIGAgV7v4wKReVT0jQ8DjURGz+Islrz81hwg0KI8go1EYonPidoSTi5g/ELnB1n2Ay39T3jibYgf9D5YxK5pbSLKPYd5JeYygWsEAgOBOEAAoEgpnCDoGA6NkpWXvajMsghhhWd/UiCG7sopKuT4HiBkIZOl1dt4J0MaxbY7uC7IHAQUVjGbV5jFatWduAZY3+PxRUg4DGKy3eNIJgghDi97Qn3LAEAuURBBfKpLM1omKJe8O42M4n70y6uXJ1zHtBBmqMRV7aPBECKBAIpkIIoEAgmCk4BeccMoCBezkQIa5u4DErBGJ/X1zUG7rsvDMkCupdsnREixY2K37eJpwslzbPhY49LHhE5ZO8tNoQyqU/vMfiZ9z/+b6efcPrc9fY6TLAwltAUyCNcms7EAPCR+vYJJ6ZaE6typtqh2spXEoxP1+PBnIDKBAIzgQhgAKBYKYgAawccpYN27+h02WQAXd3JE2G3NnzcfgI8gYCVYu1auhsjXg75zWGvL9DfQzSw3gNzMpRATSJYhQ/o8A5LhznlS4mrUzCCOXQugcMK52J3ePA66nSB06pRiIIEheOeTMICxiWNogiyKttLVd3RrTCWQht1EBZAhEIBGeBEECBQDBTgAC67hHJHGbTgromNFCv8DhqUpytER8nmXLzNRFb0aN6ZxQ7KIkgkcnSEdWy9NK+Cqsdvo59hwjljSETe5rOKIBI/uJOkL2D2CI2FjRUSNS1RCXdGehuZCSdtHthBRu1Ez+H91LdGbEKx93IdCgmHfK+EUGZ4pYogAKBYDqEAAoEgpnCXgKxAw9QujDDBqLnNYa0Pt3NjKlZqHK0i43iBYLHnVzTmedsjVgWjT497gCnQx2siHISiTs8EEIETkKnq+LlFsMiuLXjhJzpE0Q9DRPB9ZzsMkUc5eojgieB252wlTkRF+o9Yqiilb387g+qpruRUQXETWPh94QACgSC6RACKBAIZgr7BtC+nQOJqlwdkww526OJYIRdnlyLB1oRNPd57kY2kcz11jLapF5jSGvWVvfsZQ08DgXPD/q0kLHfi55C1LGgMgYVM7jLA7Fz17O8X9DYvVAmSd4MiWQy2LxHBEpQRM3OQvP+QfBALvGe6tGAfwt3PVPVUKbgBALBdAgBFAgEM8WDFjB2bGGPQpVLlo64dYtiZcyc4edw92bbniB9uAMEWUKnoE360EMIgvWGjj3z2rBcETzBfR6eJ15p5SlhVyuESAnDAsZ7RYgDVTVQ+UAakTzG74GVEhRY2xvJ8UprIiDjrmeqsjdW7nqmd4CvjmUKTiAQnAlCAAUCwUwxsQRS1fu7cbHNfr2g3uNuL9Q+eyaO93G2mmdqVkCKkAqOl1skiwhPQHmD4ofiZUy0YZ3D3vBFqTLCF7CKQbRg08JenlD3zCIJtoQ5X2esYKh6UAs592ZIXS3WARYQWTxnZW+sie2GDrt4a3oJxA7FuBuZWtnrCgEUCARTIQRQIBDMFLYCiJs3e9sXRAb9eCA8SALHyy1aryBiUN/cjYxVMSCKmHGLyidc18Br2tUwUNNwyxc6XVW+Ns7Ll9es+0NTLWNvCdOiLrXfoPpFpXZuEYPgGoUQ28esiUEJtSGLqILB+8aNn9cY0n5213UvIDeUsaSyKSlggUBwNggBFAgEMwUIYL1wVy3/wT2GPkDEsJcbL7dog2LLF8ocbWBT7+Kt6RQsewLNY3aBMutZDGmCbYsaFtwXomwZ5BN2rL3naxNSEtF6TgJZLm2qXWBJs9Ymym/3MHPnbI1ye9oQV9sSxt8G7wnrH3g/7nq+AQwy6G7KFJxAIDgbhAAKBIKZglNwxQOSNU6luXn/HggXbvJAEu20bXrlLm8FQajilRbv6VDNkiweUj1jn6C5wbOJHDZ0oQ4mi4e6o8/UsPCmD1ZwmHfzgaiRyJqPUAQREHHXM/YewurlJJ5ZC+E9oKlycdd1uhcpX9/va5Jn1MDK3phWMFRQfJQlEIFAcBYIARQIBDOFTQChXoVVrWjBuoQKR5ULBCzo56sfZkMXCxgIjOD7MZkW1HtU4+wKGGwN212CIJJYI4kLx3l3YL3Homd8DhKH8mZ3I6OdDIURpLIWD9gzyJtCQ2xB5JD4hcLpruv7SBBKZ2ukCaEpywaZrUda7XO2Rqoe6XS0H/SVsz1Sqw0hgAKBYDqEAAoEgpkCBLDqtyYm3bDiwVs5q3QZBAj3d7iZg+VauTpWtXTI2hZ27ZmqF9zreWsZK10QEkElDO7uoASCmIKwQRkE2QPxxF2gu5mpxuOfIlGEHYs7Qz/Qql1Q7+VzdU5e6QLlr7ozmlAjUfQMomgvoKDuJXC7qrozUs7WSFX2xlph9HRoppy0hQAKBIKpEAIoEAhmCnsKjolac+cHJRCzbejnQ10LiA3tWGtirR4NuL4RlXSqmKEPQ7rshQ0USMN6pr1rFD4QRySE8TqonAGpswme3QUI8oZSa7xHdyPj7+NuZAy+4PYRVTh2vYu3lvFWEJZx4UOneQgmHarK1bGq7o44gVeLdQ2MFEELBIKzQAigQCCYKR4kgLidA1HCKgaUNQQ7bAKGJDBUM6R3kYJFtQzu73Dzh7s6kEuQKaqPQZ/bv1AAbQsYpBD7vgh1ONsj9vOhEgaEzV41QTDF/v3qkbaGEXpBNYxtEfPG0GwluxuZSh7+EOthVp8dq/L1sXK2RwzEONsjVb42VoUdIYACgWA6hAAKBIKZgjeAq00mXnEL6K3pXj2oc+56RoIH9St08hJm3A3i5g29eVjJgG1rbwvb27x4PgRLaPuaW0OWOxtbFzd68XKLyxv2ZBym3qAYIsnrbuYJXTtJbNe6rD47ZioYSiBUQyif2BD2GkOGPHD/V90ZqdL7TxkGwf1hbVWKoAUCwXQIARQIBDOF3QOIPr16NGCB84NbwHbHHtKzUPtAlKDK1aMBAyR4PF5pTdjAVAKN7YxbQxA/EDp+v7kfZIWLUejwPu35ORY7I8iBLWHzOQiqPQ2HO0LaytZiCEIt+Dnc/bmbmSZ7pgbG3dTVL+56psrXxvwZZ3skRdACgeBMEAIoEAhmCi6B1Fskbe5GxsLmeKXFOzkoaSBcIEyoaXnw/g43e1FJ9wgmC02ue0DVC9yuKn7wNO8cRCCkmG/t4mtUBQ1Bg20cldoqmW/m/YDoHKx0SPhI5MxrIsQB9RF3gVg5QVl1PRrwX+h0czXPFDvX0qGq7I1V4UOnTE2Xr49V8flT5WzrlHB1d6S8hlZGn7kuBFAgEEyHEECBQDBT2BYwipe54Qur1++rZKGplcHC8cSUGgmUIUssU7asWLs3EGTRvjeMV1qawFlBD94KGsIXuF1u7pJAVjsqXp5UFFEijdBHvKKTxQv/5z2WNqOPEBUuIHd2gGXuU/dzgmje5/wn7rMSBiEV2L64O7Rn31afO1Xl62NVvjbWt4C7I+kBFAgEZ4IQQIFAMFOAAJbjNhOrICvuesa7OHcjYwEydoBR4QKVrpbqrr54uZWvcJhkMEgh7gGDeo9deb7fZ8EyVzkeUP7i5ZZKr9zVj2P+zbpF5HpISVfYBG5XJYuH+v2YRHNcOFbJQlOTwOVcmcQNY1xss1gaNniy0NTBk1JbpRdu8ffD7wTlkLa0Ic4op67FA/7tvDVZAhEIBGeDEECBQDBT0AKutVTl6piKGIIMzrZWydzNjEsYXMcwN4Lc713WnYB2orce5bd21Z0RwxoIUlR3R1TqYPlCNYwLx1QGQcpACG0yCoIXldoqvXKX72WCEJq6GnQBghxG5ROVLB6yDDoqn7BgOr20z55D3C/Gy/offiadO+A0HGxn2MSoi7GXQFbXRAEUCATTIQRQIBDMFFQAE12e7GyPWHSMPV+kgWHBoogZgQmoffVwwLQrql1AhJC4DZ0uq1HczYw3gQhpQIGLC8d6fWQtozXN3eDlFifhJvoJff1YXDjmcggUO6iSqJiBgohwS7zcyu8MTcVMMq+T0bCo0UGI2hn7H4gtLGN7NQW/u7uZKa8sKWCBQDAdQgAFAsFMAQJYiY6Vu56pylXdYec1huz8w70fbEy7qy/weiRN9mJHWO3on3PyahXUwID4QSF0tkb8PlioIGQIZoBo4oYQBBEkLl7RtixIXy0dapWv2OatIhLJJIVQGFE2bUgmbF1sD8dFs0O8eEhymsw3uRVsK4hQR2uxrovxg35OpBtD5VUOhQAKBIKpEAIoEAhmCtbAeEf5woVZ5kBy1l3XiiAUvriYV7zA/gyrHZUsHvLOL17RBA5VKShchpKIcAk6A2HvIsABVQ5qHEIXvP8zPx94PU3qllsMlDx42wflz9keTSyNgCyiBgYBFtjYcbGtkqUjlSw0+b3Jkv47JYuH2kpeOqJ1jak8vKazPWKVDW4BK5FMwQkEgukQAigQCGYKWsBpm9u17rpWq9xNHQJxNzWBc7ZGqnx9zBQsCB32fmHhclfXBD7q0UBVd0dMCbsbWV6jYoITdqEyyCDIJG4CQTTj5VauBBolD+odVD6WSldzUoiUcHr5DglqsnSUh1aM+odEMQgkbF6ogfGKtqCRfI6XW7SyYSnbE3DoLPQaQ+U5ogAKBILpEAIoEAhmChDA1bUTdv/BouWSh5VydTfzTkAka1HRUkuHTM/CUkXi19kacY0DE2kInCAUYncKJouHrIAJKx12A0KhBFkDUYQiZwc1UO0SF9s6/WvIabJ0xDtFKIC4JYRFHFY7Kp07INFLlo5UeuUua3CgCoLogtzalTfoBcTv6ft9VSsdCAEUCARTIQRQIBDMFPkNYFsHM0wAxFvTRK98bUxr09nWCiBWN9zNjJ1+UN6gHkJBc7ZGLJaGbQwyBLUNVTBY30C1S7yi07Z2/x+CGrglZGBj6Yh2LW76bFvYD/r5e0B4AxUzpisQqiZuB3E/GC+3VDp3wEQx3hcCIVA+YSGTSG/o9wc73ff7kgIWCARnghBAgUAwU7AIunSgavGAZCyo90jmYK+itmViws2QHhA+KH649QOZnFgOMeEJhEAmrF7znLjxS+cOaK1yhcQiXahyQUIXJDBZOqI6GNR7Kllocn0Eti+IJIMfQX5nCEKbzh3kCqJFJtO5AxJBrKBAxXQ3sgmii99H3wAeCwEUCARTIQRQIBDMFHYPoF1a7K7rMmjf18sWYbWjqjt67QKVLYHbZeWJfQcXuF2qcHY1DMgR61FMNx4StJW9MafkeFNY0WsbsIJxc8evG1sX9i/6A721jHeDeD6mfY2qh3QvrWwTBqHtC9IIMnj5Dq1ldB3i1rCWDhlI8f0+/5aof8FeshRBCwSCs0AIoEAgmClsAhjUtSqHBRCoVyB2uGmjCmdu3ry1jCqYszViNQpURBA+by2jIocbQax/sEgZO7/WbR+KnO37PCiG6P5DsTMUPChzeA2UR9sBEySaERCJyidq/hP3JzaI45WWSi/fycMh5jlhCfO9mE3iWjxQyUJTl2cb69trDFmFIzUwAoHgLBACKBAIZgpawMUD5Qd9VfrAKYkeVjxAZKDUgVRBcQOhSq/c1YTR9Aci9IG7Quzowh61p+HQr2eXQQf1HqtlqCwagoc7RFTSxEX9NdwWwmbmHaAplY5XWrz5C+o9lkpP7A6b7V+kjPE+8Dy+32cPYFjpkAijNgc3jO7G5N8hcLtSAyMQCM4EIYACgWCmsAmgszViDx4VO6/H9Q/YskG9xxs+dvVVOvr2zVijVAcbQ97H2dNo9WignO1R3gtoevNYKeP1WCGDdDBu6jANh+/DPSKeh2GOpSOmgkHUWAzt5ETT7hnE0ghDJKiRwUScuRfE9+B18ftBBQ2drrbQgz4/+n5f1Qt3hQAKBIKpEAIoEAhmCvYAxjoFDOJHgmYIGFQ7bPeilsXe7oWqR6JoburiwrFO7JpVEUzLoRrG9/u8l8PPIYWL506WjtgXGC+3aLdCfYxXWrRscc+HZK7d78ebQRNagfKIFHJQ7+W3hCZYgjtCBD9stRCWsj1rhwJodBtWro5VLdX1N6IACgSCs0AIoEAgmCnsLWAmf9eyCQWvujOiNQoLGFu68XKLaVj06/lBnylcKHzxSmtiJxehDG/N7A+bmhd7kg3Ezg6cxIVjTr7R0sUknFHtQPCg0GG5A1NzqHNBDUyy0GSyOfB6Ez1/CIog/IHpOKiBmJlDF+Li/7jHJDQCLk+O77GGphwLARQIBNMhBFAgEMwUIIBVv8XZNuzYoiyZVmykv47UK4ubTQoXpI31LCWtKkblE97G4RYwKrVpCduF0bR4kdo193xhpZP38xmlj/d6eF2T7g28HskiVUhzIwhyh5s+3vBVcyIHAgoFL1nQ934ok8ZjfJ3llnK2R1QTceuI3xnWdi0eSBG0QCA4E4QACgSCmcImgAh9oP6lFueWLKfaNjOSJRAjKnyYa3O6JGhI+FZ3R9oiNcQIVjMUQ6p8RnlMlo7yWz3c7xWOtVJoVLp4uUV7GrUusH5Dp5uviZjwRuD1+LwopYbCyEoXQ16h8kH5w+1gsnREBZEpYlN3AxsZs2+4hwSxDuq9/6+9c4uNqz63+FBEUm4hoEQlcJo2aknSOK7jxB57LnvP7Ln6XhJyOeFIIJACVUEcnSYEX8YzsR1fxhMiVa1aVWqrvqDSgmj74tIHCohLQY3qUqlAK24h4tYKxRAhgiB85+H/X9/ek6S1ew6DUWb9pFHsmfGebedl6ft/ay2J5DkBJITMDwUgIaSmQAC68WGtc8O+H/bsMOlCmDEmZZi6oSM3v3FIxV+uuajCL5k2+4SJrLkmponBGjWNZwnUsnnehMnes/uAcNfi2ngv4lk8b8I4kR3/+BjiD78TrpVtMeIx11yUXGNBhSLEI46sg9+rS9kKQriJMXXMhkdU5KLhJFgLl8xMUgASQhYEBSAhpKZoDmCyZHpru8uaBaguYFu5FqxeUxFkmzjgAsYEMCjMkCGIo9bYtdMaLwP3LSJcdJpnJ4g4asVuIPYONRImaOiwE0N1A6cmfGFnxWa29YBvFgmPSK6xoFO+YAOITiDtMXTK9TMAEQuDew5mCqILGIYQ5AAi9Dq5ZYACkBAyLxSAhJCaAgHouEVfmPWUdY8NR52ZyKjkNg1rSDScs3DkVhk1IMYCrt1437Qe8aJn2O2YMpEpVmglM5Nam4bpG3qI1X1rr6G7gHYSh4kgjCZOd1lFH46YtbM40BiSayxoi4fnTfjTRsc3fODYF2aQ/IYBDYPGVLJ9Z0UbP2Bsgak7HtguAAAWT0lEQVQFrSBux5TE0qyCI4TMDwUgIaSmBAWg21nWJg/Erzg9ZZ2kpZyD6rxNZCe1qxdOWkzVYJxIR8f0CDgTGdWcPC81UeXY9VJmdw5CLxj4jOPVfMOgRqtAICK2RSd83oSaT7ItJe0oTsfN1FCdxoEWk2BGYCI/5TeRRH1nb8o5qDuEeB8midj1w98M1Xkp56DErp2WeO+05h26nWUJ941RABJC5oUCkBBSUyAAk61+i4cex0bHtMsWkSYIOfa8CXXU4ng011hQoYdqNqe7rFPCZGZSJ33BI2HUqAV38PAZEJjB3UBMFhExE++dVmGIo1+NaYmNVbWJBJtD1Ahi6+DSsTEjAm0GII55cQ20jATDoXGfMM3A2YxjYHyPzMN4skQBSAiZFwpAQkhNCXYBJ7JGTMV7pzUTEOYKHPG6HVOaoQeBiCPcoFkiExmVXHNRp2FOT1kncnATux3GGIGWDz3+tZEv+YZBPV7ONRcl11z0jRu2vk2jXhw/guZ0cwjMLNoOYqeE+v7Az8EJnExPSr5h0J8SxsbM97GxKrczfl77k627GU5q7AC6nUZE8wiYELIQKAAJITVFq+DahnzjhBVOiDZB9RtCoeGEhQkDLuCONd/WKVuusWCmbIEQaDiLNVLFZvEFHb1qxrCiMr9h4Ax3bqZtRCd82dYDer8aIO36k0XsB2baRsTpKeseISJvsq0HdKIIw4nTXTa/Q1NBj481oxCRNPY5ZBoGDR84Kk/HD5rJX6D2LpKjC5gQMj8UgISQmqI7gE5RJ1XBft5kZtI4XG3mHqZoXmpCs/Yg7vLr7qqORrGTNbezrCILe3WojUPwc7b1gN8hbJ22yPsLTtpgQFFXsusfWwd3+/C1OoFtNp8GS8f9qV2mbUQ233y3n1OYndSJoNbFWREL8wuOjrGXiN1BmD281ISaadwOUwOXyLMJhBCyMCgACSE1RXMAo8N+Xh1MG8i0c8f9I9rAcSyMELlNw2bSZidj2c0lzddDPAqOlSGsgs5b7M9hGggnLvYLNZqlqWAezUXJr7tLRRcEmNsx5Td6wEmMnUNrWsG+Hz4X+4VwFMOUEpxC4ucx1UTtHJzSTrffoJJrKmjsi9NlHvG+afN6fkocp0gBSAiZFwpAQkhNCTaBJLLGnOH0GOGC41EIMkzzkAUIsRfM/dNj4UbTpQujhdsxZYRhk4ldgdDEtVCVpgaLQLUcrguHMVo/dBfPOoYhXGHMUOexzQkMxtRoPZ3d30MgNd4fNK9gly8btsIxNaGf73SVJddcNNM+a26BE9jpMqIQLSiR7RVx48MUgISQeaEAJITUFAjA1Nfv0o5fiD04bXUaaCNQcs1FFV1wyGbaTBNIfuOQhjWjUi0Y1YKdPN3Ps7t1aBjJtI1UhT7nNw75JhOb3QcBpgaS9KTGtMCwoZ289vqYAJ7uNNbA59iYxsQEzSFoO9Hv0f9r9xs1KgcRMAHDB8KfPW9CvnyPMdXEPLqACSHzQwFICKkpGgOzZUCFGKrZ0AWsOYAQRzBobBzyj4JttRq+zjUVdEoWrJTDDl0y4+/LofatStC1HjDizO7/5RsGVdxlIqOSbxisEnVo48D0L7qtort62NNDLZuKUETdZPxJJDIK0emr0TMwl1jhiKNi/ez8lDhd5TP7f91xieyoSCJv9ytbBykACSHzQgFICKkpegScPmBiYPqmffFnJ3cQfdmWkmm7sIIs5Y5rHAtEUq6poJ25+Y1D4nkTkts0rKYPjY2xx74wYUA45ZqLuksYPOJF84fuCFqzCe4TZhHEuwQncjjyxY6gRsHY4+LgtBNTTmQWBoUefi9EveBzs+ERY/DYXlEjiO79ZScldq0fBN3eOUoBSAiZFwpAQkhNCbqAk5nJM4wUieykHqd6KTMhzDcMqiDLr92vztz8+n41SOQ3DukOIISVRsDYa2MyCHcwPje6raJmDQ1xDnQMw3QS753W+8W0UuNg0MlrHciYOGKnUKvrrLhF/7HnTUhkR8X/WwREKN4f753Wo2N1GuOaSWMKifeaWr1kxuwAxnuNIGQOICFkIVAAEkJqSvAIGGImuNOGVhA9AoYhw7pmNafPTss0NgUdvXaah25eTBVhDsE1YZ5IOQe1c3fTrXebrzH9g8u4paQTP2T7IZYGrmC0fSCIGiIU0S0qQu0947MRVh087kVDCo6qYSjxvAl1M2PfLx0dM53KHVMS2zotieykRLdVjNmkmzuAhJCFQQFICKkpGgQdHjJTMNvYgTozdPGqU9f24OJIGE0ZGvliY2HQ5IGpGZo40jFjmkjH7XM2bxCZf+gIzjcMmukiDCT2kXLsMbPNJUzkp3QvEI0geD6ZMceveE2jYKx4xR7gV34+qi7glOsLVGQGQiCmo2N+hZy9F4hmhGSjTSW6raKu4Oh1FXVXR/LMASSEzA8FICHnKKWSmQQFH+vWrdPX33//ffnWt74lV1xxhVx88cWybds2efPNN6uucfToUenq6pILL7xQVq5cKfv27ZMPP/zw37qPoABEDAxy9XDsCZEGdyuCoHONBck1FnT6l1/f72cFNhYk21LSCRmiYILHptjRg/DKtI34O4TuuLl+wHGccserjCaIccFRMwwcmEDCuAGRiB7jYC7g2gOHfacyXsMU0B5To/EDrmGtobOCFaYP7Pm5nWVxesoSu9Ye/XaZr51uCkBCyMKgACTkHKVUKklDQ4O88cYb+vjHP/6hr3/zm9+UL37xi/LQQw/JkSNHpL29XaLRqL7+0UcfycaNGyWTycjs7KzMzMzIihUrZGBg4N+6DwhAr6lfRZMe+QZiTzDxQn0azA+Y8mVbStK+65AKQrwHMSzo+1VhGejp1X5d7Alag0a29YDZJbSuXewDYrrodJXVXAKxFwxqRgMHXL5Od1nFIgSl22EmmnDxuh1T2nOMIGpEvridZb8pxL4HkTbYMYQBBOIP/2IXMJqhACSEzA8FICHnKKVSSZqams762tzcnFxwwQVy33336XPPPfechEIh+f3vfy8iIjMzM/K5z32uair4gx/8QJYtWyYffPDBgu9Dm0AiBRMD0+OHIkO4qSPYZuV5qQnJNwyq0MMRK/L5si3mCDfXWDDPWdGFGBgcIyOWBQYQHCmno2OSX9+vzuB01Hfu4ggXjRvIJ0TDCO4DohW7fTjyRWWcmjqS4/o7pdxxifdNazg0+n1198/2/+LzEtlJdfo63WWJbDfRM9HrKuY5GwUDIRjZXpFohiYQQsj8UAASco5SKpXkoosuklWrVsmaNWvk+uuvl6NHj4qIyEMPPSShUEiOHz9e9TOrV6+Ww4cPi4jI8PDwGQLypZdeklAoJH/84x8XfB9BF3A2bI47c5uGVQRC/CFs2ekuS66poFEwOOqF6EOQdHZzSfIbBnyzB6aJVjzlGwZN5It9DiYOCLRMm7kGpnwIm85tGtYdRBxX4zg5ExlVAQvB53SVVfihjq5qamf3EZEBiOBm5BZqdI0VmIh50R1Cu/8HA0n7zorWv8W2Tkv7rkPSvuuQaVfpLktbD2NgCCHzQwFIyDnKzMyM/OIXv5BnnnlGHnzwQYlEIrJ69Wp599135Z577pElS5ac8TOtra2yf/9+ERHZs2eP5HK5qtffe+89CYVCMjMz808/9+TJk/LOO+/o49ixY2YHsG2oqi7N8ybU/QrRlmsumoo4G/AM0Qc3bX7DgO7g5df3m9o3hEl7/lQO10umJ6V91yGtcUvHD1a7fe0RcK65aI6Cw35LSK65KG5nWY0kXmpC3b34zHjftB7ZwsCibuPkuIpT5AA6XcZRHNs6rWIPfw9M+TxvQncJURkXrH6LbZ02Yq+nLNHrKiYPsKcs4f86JPHeaQpAQsiCoAAkpE44fvy4LFu2TH70ox/VVACezXwSCoUk0V6Q3KZh7bRFD2+2paR1bzBJZFsPmOq3hkHJr7tLhZoaNGxgMsKatcPXTgpxDRgxtLHDmzCTvxbjKtaquaaC3zoSHlEjBvqEE9lJabnxbklmTJA1xCAMHTCmwNwSbDfBLiACpCEmsQuoIdd24phyxzXb0O2YUuHavrMibocRl9gBhPM53mdiYdp3ViSS5Q4gIWR+KAAJqSNaWlqkv7+/pkfA/2wCiCq4RH5KOr78PyqGsJcHg4bTbaZk6v61gg3TPRwJ5xoLWgeH7D0vZdo24NiFSNN8QDR+tJQkf82dGsGS3VwyzSDWQJLbNKwCEaIMQhXH2DCCbLnpbhV0cPdiQog4F0TfqEvZikXsNuLYF0fJEHXBncHodRWt0XN6zDQQjuC23YcksqNi9gDpAiaELAAKQELqhBMnTsjll18u3/nOd9QEcv/99+vrzz///FlNIG+99Za+54c//KEsW7ZMTp48ueDPDcbA5BqN6zVz3nbJX7HHxKcExZmNZ8FUDG0Yueai5BoLkr/mTm3pgHs3GPOiZgo7JcxERrXvN9t6QOvfkOuX2zQs+fX9uvOHvUDEvJxu9PA8v0quaj/Pmjli107rvmDKOajTTkTFaJi0dQ3j98V1si0lyTUXJbK9YsSh42cjwtDi9JQlssPsAcJVHN1W0TaQtm4eARNC5ocCkJBzlL1798ojjzwiL7/8sjzxxBOSyWRkxYoV8ve//11ETAzM6tWr5Xe/+50cOXJEIpGIRCIR/XnEwORyOfnTn/4kDz74oKxcufL/HAOT2nCnmiA6/uOOqqYMdOyiui3lmDw8HANjZw+hzfkNA+a1DQN+V252Unf3kulJPTJOR8ek5Ya7tYsXx8u5Jt9cgkiZ4PPp2Jge42JnEQHOifyUVsDBSaxOZhxttx7QfEEvNaH/Bqvd8F6nq6wCFJNLuH/hlsa+XzJjgqDjveYIOLZ12hhDsBdIFzAhZAFQABJyjrJr1y5ZtWqVLFmyRK6++mrZtWuXvPDCC/o6gqAvv/xyueiii2Tr1q3yxhtvVF3jlVdekc7OTrnwwgtlxYoVsnfv3v9XEDQEFY6CE1kj1BCADPMEzB8IQs5tGtaWjOzmku7pwdCBUGVtFLFTNbiDs5uNoFt74HB1y4gVcJi84Xr5hkHp+Mo+3R9MZkxGn9bWWUduvHdanbxw9arxI35QdwgR7YL+36qjars36HSVdVqJ191OY/pAy4fTVdbmD6e7rFO/yHZz/Ot20gVMCFkYFICEkJqiXcCtgyqkkNeHPTkcBafjByXeO637dzjuVWNGU8HPArRCDlEywYBlCLt0dEz3+nC8i7gX7AJm2kb0yDnTNqJ7hpjUBR2+p9e2JdOTKspwzJtM2/o5GwJ9+vfBo+CgcHQ7pkyfsXUvZyKjajDBTqDTU9YauER2Utr+85CKweh1FYn3TkvL1jEKQELIvFAAEkJqCgRgzCtViRm4aWGaSMfG1NSAloxcU0HyGwZMLqBtxUBFWq7JuIoT2UkVbJtuvVvSsTGJXTut1wtmAyayk2oaya/dr5l/iIGB8MxvHNLPxJQOjuJ0/KAGRGfaRjSjD1M+7PNhEphpG9H7SSXHNVYmkTVtIcgZzERGTexLV1mPxCGOvdSERLZXdGoa2VGR6LaKRLabY+G23Yck3meEYXsHJ4CEkPmhACSE1JS5uTkJhUISDe8XxylKzCuJGx+W9Nf2SaK9IMnWQXHcoukKbi+IGzHPpRr3i7e53+wObu6X9Pq94rhFSX9tn6S+fpek1++V1NfvkkTbkCTCQxLJj4gbKUiivSDxZEkcpyiJtiFJtg5KIjwkbqQgMa8kifaCJNqGJL1+r3hbBiS5ZUDcSEHSX9snXlO/eE39kl73bfE294vXbB6OUzT3sWVA3OiwOE5R3PiwJNqGJJ4oSbJ1UDbcOiFec7+kNpr7dSPmc9z4sLjxYUm2Dko8WZJ40tzDuv+eMPcVHxZvc78kwkOSatwvibC5ZzdSMJ/lFsWNFKS9c1TaO0bFcYoS7huTcO+YtHWPSswryZbrDkpb96hE8iPSmhqQUCgkc3Nzi/1fTwj5DEMBSAipKS+++OJZcwH5qO3j2LFji/1fTwj5DEMBSAipKcePH5dQKCSvvvpqVT4gH9U5iceOHftErjc3NyfHjh2TU6dOLfZ/PSHkMwwFICGkpmAHkDtpZ4d/H0LIYkABSAipKRQ4/xr+fQghiwEFICGkplDg/Gv49yGELAYUgISQmnLy5EkplUr/Vn1cPcG/DyFkMaAAJIQQQgipMygACSGEEELqDApAQgghhJA6gwKQEEIIIaTOoAAkhBBCCKkzKAAJITXle9/7nnzpS1+SpUuXSjgclqeffnqxb+lT4dFHH5Wenh5ZtWqVhEIh+eUvf1n1+scffyzDw8Ny5ZVXyuc//3lJp9Pyt7/9reo9b7/9tlx//fVy6aWXymWXXSY333yznDhx4tP8NQgh5ygUgISQmnHvvffKkiVL5Cc/+Yn85S9/kT179sjy5cvlrbfeWuxbqzkzMzMyNDQkDzzwwFkF4NTUlFx22WXyq1/9Sp555hnp6+uTNWvWyPvvv6/v6ejokKamJnnqqafksccek69+9auye/fuT/tXIYScg1AAEkJqRjgclttuu02/P3XqlFx11VUyOTm5iHf16XO6APz444/lyiuvlEqlos/Nzc3J0qVL5Wc/+5mIiDz77LMSCoXkD3/4g77nN7/5jZx33nny2muvfXo3Twg5J6EAJITUhA8++EDOP//8MyZfN9xwg/T19S3SXS0OpwvAF198UUKhkMzOzla9z3VdueOOO0RE5Mc//rEsX7686vUPP/xQzj//fHnggQdqf9OEkHMaCkBCSE147bXXJBQKyZNPPln1/J133inhcHiR7mpxOF0APvHEExIKheT111+vet+OHTtk586dIiIyPj4ua9euPeNaK1eulO9///u1vWFCyDkPBSAhpCZQAPpQABJCPmtQABJCagKPgH14BEwI+axBAUgIqRnhcFhuv/12/f7UqVNy9dVX0wRiTSCHDh3S5955552zmkCOHDmi7/ntb39LEwgh5BOBApAQUjPuvfdeWbp0qfz0pz+VZ599Vm655RZZvny5vPnmm4t9azXnxIkTMjs7K7OzsxIKheTw4cMyOzsrR48eFRETA7N8+XL59a9/LX/+85/lG9/4xlljYJqbm+Xpp5+Wxx9/XK655hrGwBBCPhEoAAkhNeW73/2urF69WpYsWSLhcFieeuqpxb6lT4WHH35YQqHQGY8bb7xRRPwg6C984QuydOlSSafT8te//rXqGm+//bbs3r1bLrnkElm2bJncdNNNDIImhHwiUAASQgghhNQZFICEEEIIIXUGBSAhhBBCSJ1BAUgIIYQQUmdQABJCCCGE1BkUgIQQQgghdQYFICGEEEJInUEBSAghhBBSZ1AAEkIIIYTUGRSAhBBCCCF1BgUgIYQQQkidQQFICCGEEFJnUAASQgghhNQZFICEEEIIIXUGBSAhhBBCSJ1BAUgIIYQQUmdQABJCCCGE1BkUgIQQQgghdQYFICGEEEJInUEBSAghhBBSZ1AAEkIIIYTUGRSAhBBCCCF1BgUgIYQQQkidQQFICCGEEFJnUAASQgghhNQZFICEEEIIIXUGBSAhhBBCSJ1BAUgIIYQQUmdQABJCCCGE1BkUgIQQQgghdQYFICGEEEJInUEBSAghhBBSZ/wvn0KNYTMA6qYAAAAASUVORK5CYII=\" width=\"640\">"
      ],
      "text/plain": [
       "<IPython.core.display.HTML object>"
      ]
     },
     "metadata": {},
     "output_type": "display_data"
    },
    {
     "data": {
      "text/plain": [
       "<matplotlib.image.AxesImage at 0x2b3bb95efc50>"
      ]
     },
     "execution_count": 20,
     "metadata": {},
     "output_type": "execute_result"
    }
   ],
   "source": [
    "%matplotlib notebook\n",
    "\n",
    "fig, ax = plt.subplots(1,1)\n",
    "\n",
    "agipd_roi = [32, 64, 0, 128]\n",
    "x, y = agipd_roi[2], agipd_roi[0]\n",
    "dx, dy = agipd_roi[3] - agipd_roi[2], agipd_roi[1] - agipd_roi[0]\n",
    "\n",
    "rect = patches.Rectangle((x, y), dx, dy, linewidth=1, edgecolor='r', facecolor='gray')\n",
    "\n",
    "ax.add_patch(rect)\n",
    "\n",
    "ax.imshow(dark_data[15][2])"
   ]
  },
  {
   "cell_type": "markdown",
   "metadata": {},
   "source": [
    "# Write dark data to file"
   ]
  },
  {
   "cell_type": "code",
   "execution_count": 21,
   "metadata": {},
   "outputs": [],
   "source": [
    "dark_data_file = \"/home/kamile/Desktop/agipd_dark_data.h5\"\n",
    "\n",
    "with h5py.File(dark_data_file, \"w\") as f:\n",
    "    g = f.create_group(f\"entry_1/instrument\")\n",
    "    for modno, data in dark_data.items():\n",
    "        if data is not None:\n",
    "            h = g.create_group(f\"module_{modno}\")\n",
    "            h.create_dataset('data', data=data)"
   ]
  },
  {
   "cell_type": "markdown",
   "metadata": {},
   "source": [
    "# ROI intensities vs delay scan"
   ]
  },
  {
   "cell_type": "markdown",
   "metadata": {},
   "source": [
    "        def module_roi_intensity(module_number, proposal, run, *,\n",
    "                         pulse_ids=None, rois=None,\n",
    "                         dettype='AGIPD', dark_run=None,\n",
    "                         use_xgm=None):\n",
    "            \"\"\" Process Dark data\n",
    "\n",
    "            Parameters\n",
    "            ----------\n",
    "            module_number: str, int\n",
    "                Channel number between 0, 15\n",
    "            proposal: str, int\n",
    "                A proposal number, such as 2012, '2012', 'p002012', or a path such as\n",
    "                '/gpfs/exfel/exp/SPB/201701/p002012'.\n",
    "            run: str, int\n",
    "                A run number such as 243, '243' or 'r0243'.\n",
    "            pulse_ids: str\n",
    "                For eg. \":\" to select all pulses in a train\n",
    "                        \"start:stop:step\" to select indices with certain step size\n",
    "                        \"1,2,3\" comma separated pulse index to select specific pulses\n",
    "                        \"1,2,3, 5:10\" mix of above two\n",
    "                Default: all pulses \":\"\n",
    "            rois: list\n",
    "                [x0, x1, y0, y1]\n",
    "            dettype: str\n",
    "                \"AGIPD\", \"LPD\"\n",
    "            dark_run: (numpy.ndarray) or dict optional\n",
    "                dark_data shape (n_pulses, slow_scan, fast_scan)\n",
    "                dark_run[module_number] of shape (n_pulses, slow_scan, fast_scan)\n",
    "                Default: None,\n",
    "                If provided dark data will be subtracted from images\n",
    "            use_xgm: str\n",
    "                XGM source name to be used to normalize data.\n",
    "                For eg: \"SPB_XTD9_XGM/DOOCS/MAIN:output\"\n",
    "\n",
    "            Return\n",
    "            ------\n",
    "            out: xarray\n",
    "                The first axis of the returned data will be labelled with the trainId\n",
    "                Shape of numpy array: (n_trains, n_pulses)\n",
    "            \"\"\""
   ]
  },
  {
   "cell_type": "markdown",
   "metadata": {},
   "source": [
    "# Read dark data from files and store in dictionary dark_run"
   ]
  },
  {
   "cell_type": "code",
   "execution_count": 23,
   "metadata": {
    "scrolled": false
   },
   "outputs": [
    {
     "data": {
      "text/plain": [
       "dict_keys(['0', '1', '10', '11', '12', '13', '14', '15', '2', '3', '4', '5', '6', '7', '8', '9'])"
      ]
     },
     "execution_count": 23,
     "metadata": {},
     "output_type": "execute_result"
    }
   ],
   "source": [
    "dark_data_file = \"/home/kamile/Desktop/agipd_dark_data.h5\"\n",
    "\n",
    "dark_run = {}\n",
    "\n",
    "import re\n",
    "def iterate(name, node):\n",
    "    if isinstance(node, h5py.Dataset):\n",
    "        m = re.search(\"(.+)module_(.+)/data\", name)\n",
    "        if m is not None:\n",
    "            dark_run[m.group(2)] = node[:]\n",
    "\n",
    "with h5py.File(dark_data_file, 'r') as f:\n",
    "    f.visititems(iterate)\n",
    "\n",
    "dark_run.keys()"
   ]
  },
  {
   "cell_type": "markdown",
   "metadata": {},
   "source": [
    "# Evaluate dark subtracted ROI intensities"
   ]
  },
  {
   "cell_type": "code",
   "execution_count": 25,
   "metadata": {},
   "outputs": [
    {
     "name": "stdout",
     "output_type": "stream",
     "text": [
      "Time to evaluate roi intensities: 564.4757238766178\n"
     ]
    }
   ],
   "source": [
    "# Store roi intensities in roi_intensities dictionary\n",
    "\n",
    "roi_intensities = {}\n",
    "\n",
    "_roi_intensity_eval = partial(module_roi_intensity, \n",
    "                              proposal=proposal,\n",
    "                              run=timing_run_nr,\n",
    "                              pulse_ids=\"0:11\",\n",
    "                              rois=[0, 128, 0, 128],\n",
    "                              dettype='AGIPD',\n",
    "                              dark_run=dark_run,\n",
    "                              use_xgm=\"SPB_XTD9_XGM/XGM/DOOCS:output\")\n",
    "\n",
    "t0 = time.perf_counter()\n",
    "\n",
    "with ProcessPoolExecutor(max_workers=len(dark_run.keys())) as executor:\n",
    "    for modno, ret in zip(\n",
    "        dark_run.keys(), executor.map(\n",
    "            _roi_intensity_eval, dark_run.keys())):\n",
    "        roi_intensities[modno] = ret\n",
    "        \n",
    "print(f\"Time to evaluate roi intensities: {time.perf_counter() - t0}\")"
   ]
  },
  {
   "cell_type": "markdown",
   "metadata": {},
   "source": [
    "# Get delay data"
   ]
  },
  {
   "cell_type": "code",
   "execution_count": 28,
   "metadata": {},
   "outputs": [
    {
     "data": {
      "text/html": [
       "<pre>&lt;xarray.DataArray (trainId: 2241, dim_1: 1)&gt;\n",
       "array([[6381770],\n",
       "       [6381770],\n",
       "       [6381770],\n",
       "       ...,\n",
       "       [6381791],\n",
       "       [6381791],\n",
       "       [6381791]], dtype=int32)\n",
       "Coordinates:\n",
       "  * trainId  (trainId) uint64 673530356 673530357 ... 673532595 673532596\n",
       "Dimensions without coordinates: dim_1</pre>"
      ],
      "text/plain": [
       "<xarray.DataArray (trainId: 2241, dim_1: 1)>\n",
       "array([[6381770],\n",
       "       [6381770],\n",
       "       [6381770],\n",
       "       ...,\n",
       "       [6381791],\n",
       "       [6381791],\n",
       "       [6381791]], dtype=int32)\n",
       "Coordinates:\n",
       "  * trainId  (trainId) uint64 673530356 673530357 ... 673532595 673532596\n",
       "Dimensions without coordinates: dim_1"
      ]
     },
     "execution_count": 28,
     "metadata": {},
     "output_type": "execute_result"
    }
   ],
   "source": [
    "delay_src = \"SPB_EXP_SYS/TSYS/UTC_1_S3\"\n",
    "delay_prop = \"backTrg3.delay.value\"\n",
    "\n",
    "delay_data = {}\n",
    "\n",
    "run = open_run(proposal, timing_run_nr) # proposal, run\n",
    "# get delay data: xarray\n",
    "delay_data = run.get_array(delay_src, delay_prop)\n",
    "delay_data = delay_data.expand_dims('dim_1', axis=1)\n",
    "\n",
    "delay_data"
   ]
  },
  {
   "cell_type": "markdown",
   "metadata": {},
   "source": [
    "# Plot delay data and roi_intensities"
   ]
  },
  {
   "cell_type": "code",
   "execution_count": 41,
   "metadata": {
    "scrolled": false
   },
   "outputs": [
    {
     "data": {
      "application/vnd.plotly.v1+json": {
       "config": {
        "plotlyServerURL": "https://plot.ly"
       },
       "data": [
        {
         "mode": "lines+markers",
         "name": "Pulse index: 0",
         "type": "scatter",
         "x": [
          6381770,
          6381771,
          6381772,
          6381773,
          6381774,
          6381775,
          6381776,
          6381777,
          6381778,
          6381779,
          6381780,
          6381781,
          6381782,
          6381783,
          6381784,
          6381785,
          6381786,
          6381787,
          6381788,
          6381789,
          6381790,
          6381791
         ],
         "y": [
          0.10748255997896194,
          0.2019641101360321,
          -0.06423324346542358,
          -0.011473169550299644,
          0.5880666971206665,
          -0.40888214111328125,
          -0.022328853607177734,
          -0.011598125100135803,
          0.03711644560098648,
          -0.13783937692642212,
          0.11821937561035156,
          -0.013173402287065983,
          0.10936083644628525,
          -0.08201427757740021,
          0.08600315451622009,
          0.042679741978645325,
          -0.14228388667106628,
          0.10706266760826111,
          -0.041388705372810364,
          -0.3315792977809906,
          0.027937790378928185,
          0.14134082198143005
         ]
        },
        {
         "mode": "lines+markers",
         "name": "Pulse index: 1",
         "type": "scatter",
         "x": [
          6381770,
          6381771,
          6381772,
          6381773,
          6381774,
          6381775,
          6381776,
          6381777,
          6381778,
          6381779,
          6381780,
          6381781,
          6381782,
          6381783,
          6381784,
          6381785,
          6381786,
          6381787,
          6381788,
          6381789,
          6381790,
          6381791
         ],
         "y": [
          -0.09432446211576462,
          0.14273272454738617,
          0.0931873545050621,
          -0.0002094626397592947,
          -0.0856415182352066,
          0.017557382583618164,
          0.09545650333166122,
          -0.10791641473770142,
          -0.15461020171642303,
          -0.2246275693178177,
          0.12216237187385559,
          -0.040269311517477036,
          -0.004339130129665136,
          0.16471853852272034,
          0.08246088027954102,
          0.02737485058605671,
          0.05094701051712036,
          0.45861488580703735,
          0.06818030774593353,
          -0.13796129822731018,
          -0.571906328201294,
          -0.0034440229646861553
         ]
        },
        {
         "mode": "lines+markers",
         "name": "Pulse index: 2",
         "type": "scatter",
         "x": [
          6381770,
          6381771,
          6381772,
          6381773,
          6381774,
          6381775,
          6381776,
          6381777,
          6381778,
          6381779,
          6381780,
          6381781,
          6381782,
          6381783,
          6381784,
          6381785,
          6381786,
          6381787,
          6381788,
          6381789,
          6381790,
          6381791
         ],
         "y": [
          0.3886749744415283,
          0.0493234358727932,
          -0.005636462941765785,
          0.1562758833169937,
          0.27607473731040955,
          -0.23071517050266266,
          -0.07452902942895889,
          -0.3324292004108429,
          0.11623034626245499,
          0.006120764184743166,
          0.0717640072107315,
          0.10925300419330597,
          -0.34726324677467346,
          0.3621937930583954,
          0.4399423897266388,
          -0.02130098082125187,
          null,
          -0.001309471088461578,
          -0.02326088212430477,
          0.06527066975831985,
          0.1569533348083496,
          0.03760257735848427
         ]
        },
        {
         "mode": "lines+markers",
         "name": "Pulse index: 3",
         "type": "scatter",
         "x": [
          6381770,
          6381771,
          6381772,
          6381773,
          6381774,
          6381775,
          6381776,
          6381777,
          6381778,
          6381779,
          6381780,
          6381781,
          6381782,
          6381783,
          6381784,
          6381785,
          6381786,
          6381787,
          6381788,
          6381789,
          6381790,
          6381791
         ],
         "y": [
          -0.22396060824394226,
          -0.3459223806858063,
          -0.4117085337638855,
          -0.42952102422714233,
          -0.3887070417404175,
          0.2305247038602829,
          -0.40580275654792786,
          -0.8586702346801758,
          -0.2736750841140747,
          -0.37206557393074036,
          -0.13777579367160797,
          -0.49868056178092957,
          -0.08311587572097778,
          0.23128363490104675,
          -0.21749161183834076,
          0.2545645236968994,
          0.13013911247253418,
          -0.36540907621383667,
          0.06978198885917664,
          -0.2921968102455139,
          -0.7248669862747192,
          -0.4429345726966858
         ]
        },
        {
         "mode": "lines+markers",
         "name": "Pulse index: 4",
         "type": "scatter",
         "x": [
          6381770,
          6381771,
          6381772,
          6381773,
          6381774,
          6381775,
          6381776,
          6381777,
          6381778,
          6381779,
          6381780,
          6381781,
          6381782,
          6381783,
          6381784,
          6381785,
          6381786,
          6381787,
          6381788,
          6381789,
          6381790,
          6381791
         ],
         "y": [
          0.5779560804367065,
          0.37455543875694275,
          0.16996753215789795,
          -0.0733533501625061,
          -0.14434406161308289,
          0.428989440202713,
          0.2529124915599823,
          0.17484353482723236,
          0.44435158371925354,
          0.36670157313346863,
          0.0672248899936676,
          0.487211674451828,
          0.7060244083404541,
          0.3505612015724182,
          0.5514639019966125,
          0.7890180349349976,
          0.11417640000581741,
          -0.374420166015625,
          -0.1959814429283142,
          0.09780748188495636,
          -0.10239841789007187,
          -0.003847300074994564
         ]
        },
        {
         "mode": "lines+markers",
         "name": "Pulse index: 5",
         "type": "scatter",
         "x": [
          6381770,
          6381771,
          6381772,
          6381773,
          6381774,
          6381775,
          6381776,
          6381777,
          6381778,
          6381779,
          6381780,
          6381781,
          6381782,
          6381783,
          6381784,
          6381785,
          6381786,
          6381787,
          6381788,
          6381789,
          6381790,
          6381791
         ],
         "y": [
          0.019523080438375473,
          -0.0394621379673481,
          -0.24080586433410645,
          -0.15641283988952637,
          -0.27953284978866577,
          0.24348580837249756,
          -0.0015452360967174172,
          0.12549807131290436,
          0.32266074419021606,
          0.07097003608942032,
          0.06876285374164581,
          -0.04789048060774803,
          0.012097194790840149,
          0.2162875533103943,
          0.23358356952667236,
          -0.011946948245167732,
          0.07987769693136215,
          -0.149123415350914,
          -0.2689586281776428,
          -0.10645610839128494,
          -0.16652272641658783,
          -0.4309525489807129
         ]
        },
        {
         "mode": "lines+markers",
         "name": "Pulse index: 6",
         "type": "scatter",
         "x": [
          6381770,
          6381771,
          6381772,
          6381773,
          6381774,
          6381775,
          6381776,
          6381777,
          6381778,
          6381779,
          6381780,
          6381781,
          6381782,
          6381783,
          6381784,
          6381785,
          6381786,
          6381787,
          6381788,
          6381789,
          6381790,
          6381791
         ],
         "y": [
          0.17322510480880737,
          -0.04949177801609039,
          0.12765340507030487,
          0.6161796450614929,
          -0.08811816573143005,
          0.5097896456718445,
          0.31620290875434875,
          -0.3654804527759552,
          -0.22253990173339844,
          -0.14626188576221466,
          -0.05981362238526344,
          0.16265976428985596,
          -0.05183061957359314,
          0.19135446846485138,
          0.03587563335895538,
          0.13625819981098175,
          0.4097863435745239,
          -0.31491053104400635,
          -0.01488419994711876,
          -0.35287562012672424,
          -0.7325916290283203,
          -0.4913633167743683
         ]
        },
        {
         "mode": "lines+markers",
         "name": "Pulse index: 7",
         "type": "scatter",
         "x": [
          6381770,
          6381771,
          6381772,
          6381773,
          6381774,
          6381775,
          6381776,
          6381777,
          6381778,
          6381779,
          6381780,
          6381781,
          6381782,
          6381783,
          6381784,
          6381785,
          6381786,
          6381787,
          6381788,
          6381789,
          6381790,
          6381791
         ],
         "y": [
          0.21778921782970428,
          -0.1607806384563446,
          0.10262642800807953,
          0.07714599370956421,
          -0.23971587419509888,
          0.2927708625793457,
          -0.07402648776769638,
          -0.47827455401420593,
          0.10815674066543579,
          -0.2512384057044983,
          -0.07599662244319916,
          0.09057129174470901,
          0.07529272139072418,
          0.25228604674339294,
          -0.10324706882238388,
          0.4135877788066864,
          0.10359885543584824,
          -0.287689208984375,
          0.0043395995162427425,
          -0.624554455280304,
          -0.6109845638275146,
          -0.09279567748308182
         ]
        },
        {
         "mode": "lines+markers",
         "name": "Pulse index: 8",
         "type": "scatter",
         "x": [
          6381770,
          6381771,
          6381772,
          6381773,
          6381774,
          6381775,
          6381776,
          6381777,
          6381778,
          6381779,
          6381780,
          6381781,
          6381782,
          6381783,
          6381784,
          6381785,
          6381786,
          6381787,
          6381788,
          6381789,
          6381790,
          6381791
         ],
         "y": [
          0.4408055543899536,
          0.5622689723968506,
          0.052278146147727966,
          0.3252426087856293,
          -0.040639933198690414,
          0.09713751077651978,
          0.06733247637748718,
          0.1901199221611023,
          0.1389041244983673,
          0.09398588538169861,
          0.17686152458190918,
          0.354164719581604,
          0.5423605442047119,
          0.6950717568397522,
          0.30459079146385193,
          0.5330431461334229,
          0.6039197444915771,
          0.0968380719423294,
          -0.22701671719551086,
          -0.45510444045066833,
          0.46088436245918274,
          0.2763364613056183
         ]
        },
        {
         "mode": "lines+markers",
         "name": "Pulse index: 9",
         "type": "scatter",
         "x": [
          6381770,
          6381771,
          6381772,
          6381773,
          6381774,
          6381775,
          6381776,
          6381777,
          6381778,
          6381779,
          6381780,
          6381781,
          6381782,
          6381783,
          6381784,
          6381785,
          6381786,
          6381787,
          6381788,
          6381789,
          6381790,
          6381791
         ],
         "y": [
          -0.3567112982273102,
          -0.5079343914985657,
          -0.3729117214679718,
          -0.42085975408554077,
          -0.5166260600090027,
          0.10188914090394974,
          -0.24201278388500214,
          -0.6680579781532288,
          -0.4170670807361603,
          -0.8205827474594116,
          -0.4671977460384369,
          -0.17303459346294403,
          -0.09937267750501633,
          -0.30060243606567383,
          -0.3254826068878174,
          -0.39471185207366943,
          0.4135672450065613,
          -0.22453166544437408,
          -0.12210249900817871,
          -0.4151431918144226,
          -0.9751061797142029,
          -0.6645478010177612
         ]
        },
        {
         "mode": "lines+markers",
         "name": "Pulse index: 10",
         "type": "scatter",
         "x": [
          6381770,
          6381771,
          6381772,
          6381773,
          6381774,
          6381775,
          6381776,
          6381777,
          6381778,
          6381779,
          6381780,
          6381781,
          6381782,
          6381783,
          6381784,
          6381785,
          6381786,
          6381787,
          6381788,
          6381789,
          6381790,
          6381791
         ],
         "y": [
          -0.4656798243522644,
          0.18505701422691345,
          -0.33653146028518677,
          -0.31957074999809265,
          -0.20855790376663208,
          -0.25404196977615356,
          -0.1184476837515831,
          -0.32056155800819397,
          -0.07852146774530411,
          -0.49227097630500793,
          -0.44410163164138794,
          -0.06883154064416885,
          0.36454880237579346,
          0.3164099156856537,
          0.24503135681152344,
          0.07190621644258499,
          0.44213736057281494,
          -0.41456887125968933,
          -0.5486869812011719,
          -0.4124491810798645,
          -0.3955366909503937,
          -0.5827077031135559
         ]
        }
       ],
       "layout": {
        "template": {
         "data": {
          "bar": [
           {
            "error_x": {
             "color": "#2a3f5f"
            },
            "error_y": {
             "color": "#2a3f5f"
            },
            "marker": {
             "line": {
              "color": "#E5ECF6",
              "width": 0.5
             }
            },
            "type": "bar"
           }
          ],
          "barpolar": [
           {
            "marker": {
             "line": {
              "color": "#E5ECF6",
              "width": 0.5
             }
            },
            "type": "barpolar"
           }
          ],
          "carpet": [
           {
            "aaxis": {
             "endlinecolor": "#2a3f5f",
             "gridcolor": "white",
             "linecolor": "white",
             "minorgridcolor": "white",
             "startlinecolor": "#2a3f5f"
            },
            "baxis": {
             "endlinecolor": "#2a3f5f",
             "gridcolor": "white",
             "linecolor": "white",
             "minorgridcolor": "white",
             "startlinecolor": "#2a3f5f"
            },
            "type": "carpet"
           }
          ],
          "choropleth": [
           {
            "colorbar": {
             "outlinewidth": 0,
             "ticks": ""
            },
            "type": "choropleth"
           }
          ],
          "contour": [
           {
            "colorbar": {
             "outlinewidth": 0,
             "ticks": ""
            },
            "colorscale": [
             [
              0,
              "#0d0887"
             ],
             [
              0.1111111111111111,
              "#46039f"
             ],
             [
              0.2222222222222222,
              "#7201a8"
             ],
             [
              0.3333333333333333,
              "#9c179e"
             ],
             [
              0.4444444444444444,
              "#bd3786"
             ],
             [
              0.5555555555555556,
              "#d8576b"
             ],
             [
              0.6666666666666666,
              "#ed7953"
             ],
             [
              0.7777777777777778,
              "#fb9f3a"
             ],
             [
              0.8888888888888888,
              "#fdca26"
             ],
             [
              1,
              "#f0f921"
             ]
            ],
            "type": "contour"
           }
          ],
          "contourcarpet": [
           {
            "colorbar": {
             "outlinewidth": 0,
             "ticks": ""
            },
            "type": "contourcarpet"
           }
          ],
          "heatmap": [
           {
            "colorbar": {
             "outlinewidth": 0,
             "ticks": ""
            },
            "colorscale": [
             [
              0,
              "#0d0887"
             ],
             [
              0.1111111111111111,
              "#46039f"
             ],
             [
              0.2222222222222222,
              "#7201a8"
             ],
             [
              0.3333333333333333,
              "#9c179e"
             ],
             [
              0.4444444444444444,
              "#bd3786"
             ],
             [
              0.5555555555555556,
              "#d8576b"
             ],
             [
              0.6666666666666666,
              "#ed7953"
             ],
             [
              0.7777777777777778,
              "#fb9f3a"
             ],
             [
              0.8888888888888888,
              "#fdca26"
             ],
             [
              1,
              "#f0f921"
             ]
            ],
            "type": "heatmap"
           }
          ],
          "heatmapgl": [
           {
            "colorbar": {
             "outlinewidth": 0,
             "ticks": ""
            },
            "colorscale": [
             [
              0,
              "#0d0887"
             ],
             [
              0.1111111111111111,
              "#46039f"
             ],
             [
              0.2222222222222222,
              "#7201a8"
             ],
             [
              0.3333333333333333,
              "#9c179e"
             ],
             [
              0.4444444444444444,
              "#bd3786"
             ],
             [
              0.5555555555555556,
              "#d8576b"
             ],
             [
              0.6666666666666666,
              "#ed7953"
             ],
             [
              0.7777777777777778,
              "#fb9f3a"
             ],
             [
              0.8888888888888888,
              "#fdca26"
             ],
             [
              1,
              "#f0f921"
             ]
            ],
            "type": "heatmapgl"
           }
          ],
          "histogram": [
           {
            "marker": {
             "colorbar": {
              "outlinewidth": 0,
              "ticks": ""
             }
            },
            "type": "histogram"
           }
          ],
          "histogram2d": [
           {
            "colorbar": {
             "outlinewidth": 0,
             "ticks": ""
            },
            "colorscale": [
             [
              0,
              "#0d0887"
             ],
             [
              0.1111111111111111,
              "#46039f"
             ],
             [
              0.2222222222222222,
              "#7201a8"
             ],
             [
              0.3333333333333333,
              "#9c179e"
             ],
             [
              0.4444444444444444,
              "#bd3786"
             ],
             [
              0.5555555555555556,
              "#d8576b"
             ],
             [
              0.6666666666666666,
              "#ed7953"
             ],
             [
              0.7777777777777778,
              "#fb9f3a"
             ],
             [
              0.8888888888888888,
              "#fdca26"
             ],
             [
              1,
              "#f0f921"
             ]
            ],
            "type": "histogram2d"
           }
          ],
          "histogram2dcontour": [
           {
            "colorbar": {
             "outlinewidth": 0,
             "ticks": ""
            },
            "colorscale": [
             [
              0,
              "#0d0887"
             ],
             [
              0.1111111111111111,
              "#46039f"
             ],
             [
              0.2222222222222222,
              "#7201a8"
             ],
             [
              0.3333333333333333,
              "#9c179e"
             ],
             [
              0.4444444444444444,
              "#bd3786"
             ],
             [
              0.5555555555555556,
              "#d8576b"
             ],
             [
              0.6666666666666666,
              "#ed7953"
             ],
             [
              0.7777777777777778,
              "#fb9f3a"
             ],
             [
              0.8888888888888888,
              "#fdca26"
             ],
             [
              1,
              "#f0f921"
             ]
            ],
            "type": "histogram2dcontour"
           }
          ],
          "mesh3d": [
           {
            "colorbar": {
             "outlinewidth": 0,
             "ticks": ""
            },
            "type": "mesh3d"
           }
          ],
          "parcoords": [
           {
            "line": {
             "colorbar": {
              "outlinewidth": 0,
              "ticks": ""
             }
            },
            "type": "parcoords"
           }
          ],
          "pie": [
           {
            "automargin": true,
            "type": "pie"
           }
          ],
          "scatter": [
           {
            "marker": {
             "colorbar": {
              "outlinewidth": 0,
              "ticks": ""
             }
            },
            "type": "scatter"
           }
          ],
          "scatter3d": [
           {
            "line": {
             "colorbar": {
              "outlinewidth": 0,
              "ticks": ""
             }
            },
            "marker": {
             "colorbar": {
              "outlinewidth": 0,
              "ticks": ""
             }
            },
            "type": "scatter3d"
           }
          ],
          "scattercarpet": [
           {
            "marker": {
             "colorbar": {
              "outlinewidth": 0,
              "ticks": ""
             }
            },
            "type": "scattercarpet"
           }
          ],
          "scattergeo": [
           {
            "marker": {
             "colorbar": {
              "outlinewidth": 0,
              "ticks": ""
             }
            },
            "type": "scattergeo"
           }
          ],
          "scattergl": [
           {
            "marker": {
             "colorbar": {
              "outlinewidth": 0,
              "ticks": ""
             }
            },
            "type": "scattergl"
           }
          ],
          "scattermapbox": [
           {
            "marker": {
             "colorbar": {
              "outlinewidth": 0,
              "ticks": ""
             }
            },
            "type": "scattermapbox"
           }
          ],
          "scatterpolar": [
           {
            "marker": {
             "colorbar": {
              "outlinewidth": 0,
              "ticks": ""
             }
            },
            "type": "scatterpolar"
           }
          ],
          "scatterpolargl": [
           {
            "marker": {
             "colorbar": {
              "outlinewidth": 0,
              "ticks": ""
             }
            },
            "type": "scatterpolargl"
           }
          ],
          "scatterternary": [
           {
            "marker": {
             "colorbar": {
              "outlinewidth": 0,
              "ticks": ""
             }
            },
            "type": "scatterternary"
           }
          ],
          "surface": [
           {
            "colorbar": {
             "outlinewidth": 0,
             "ticks": ""
            },
            "colorscale": [
             [
              0,
              "#0d0887"
             ],
             [
              0.1111111111111111,
              "#46039f"
             ],
             [
              0.2222222222222222,
              "#7201a8"
             ],
             [
              0.3333333333333333,
              "#9c179e"
             ],
             [
              0.4444444444444444,
              "#bd3786"
             ],
             [
              0.5555555555555556,
              "#d8576b"
             ],
             [
              0.6666666666666666,
              "#ed7953"
             ],
             [
              0.7777777777777778,
              "#fb9f3a"
             ],
             [
              0.8888888888888888,
              "#fdca26"
             ],
             [
              1,
              "#f0f921"
             ]
            ],
            "type": "surface"
           }
          ],
          "table": [
           {
            "cells": {
             "fill": {
              "color": "#EBF0F8"
             },
             "line": {
              "color": "white"
             }
            },
            "header": {
             "fill": {
              "color": "#C8D4E3"
             },
             "line": {
              "color": "white"
             }
            },
            "type": "table"
           }
          ]
         },
         "layout": {
          "annotationdefaults": {
           "arrowcolor": "#2a3f5f",
           "arrowhead": 0,
           "arrowwidth": 1
          },
          "coloraxis": {
           "colorbar": {
            "outlinewidth": 0,
            "ticks": ""
           }
          },
          "colorscale": {
           "diverging": [
            [
             0,
             "#8e0152"
            ],
            [
             0.1,
             "#c51b7d"
            ],
            [
             0.2,
             "#de77ae"
            ],
            [
             0.3,
             "#f1b6da"
            ],
            [
             0.4,
             "#fde0ef"
            ],
            [
             0.5,
             "#f7f7f7"
            ],
            [
             0.6,
             "#e6f5d0"
            ],
            [
             0.7,
             "#b8e186"
            ],
            [
             0.8,
             "#7fbc41"
            ],
            [
             0.9,
             "#4d9221"
            ],
            [
             1,
             "#276419"
            ]
           ],
           "sequential": [
            [
             0,
             "#0d0887"
            ],
            [
             0.1111111111111111,
             "#46039f"
            ],
            [
             0.2222222222222222,
             "#7201a8"
            ],
            [
             0.3333333333333333,
             "#9c179e"
            ],
            [
             0.4444444444444444,
             "#bd3786"
            ],
            [
             0.5555555555555556,
             "#d8576b"
            ],
            [
             0.6666666666666666,
             "#ed7953"
            ],
            [
             0.7777777777777778,
             "#fb9f3a"
            ],
            [
             0.8888888888888888,
             "#fdca26"
            ],
            [
             1,
             "#f0f921"
            ]
           ],
           "sequentialminus": [
            [
             0,
             "#0d0887"
            ],
            [
             0.1111111111111111,
             "#46039f"
            ],
            [
             0.2222222222222222,
             "#7201a8"
            ],
            [
             0.3333333333333333,
             "#9c179e"
            ],
            [
             0.4444444444444444,
             "#bd3786"
            ],
            [
             0.5555555555555556,
             "#d8576b"
            ],
            [
             0.6666666666666666,
             "#ed7953"
            ],
            [
             0.7777777777777778,
             "#fb9f3a"
            ],
            [
             0.8888888888888888,
             "#fdca26"
            ],
            [
             1,
             "#f0f921"
            ]
           ]
          },
          "colorway": [
           "#636efa",
           "#EF553B",
           "#00cc96",
           "#ab63fa",
           "#FFA15A",
           "#19d3f3",
           "#FF6692",
           "#B6E880",
           "#FF97FF",
           "#FECB52"
          ],
          "font": {
           "color": "#2a3f5f"
          },
          "geo": {
           "bgcolor": "white",
           "lakecolor": "white",
           "landcolor": "#E5ECF6",
           "showlakes": true,
           "showland": true,
           "subunitcolor": "white"
          },
          "hoverlabel": {
           "align": "left"
          },
          "hovermode": "closest",
          "mapbox": {
           "style": "light"
          },
          "paper_bgcolor": "white",
          "plot_bgcolor": "#E5ECF6",
          "polar": {
           "angularaxis": {
            "gridcolor": "white",
            "linecolor": "white",
            "ticks": ""
           },
           "bgcolor": "#E5ECF6",
           "radialaxis": {
            "gridcolor": "white",
            "linecolor": "white",
            "ticks": ""
           }
          },
          "scene": {
           "xaxis": {
            "backgroundcolor": "#E5ECF6",
            "gridcolor": "white",
            "gridwidth": 2,
            "linecolor": "white",
            "showbackground": true,
            "ticks": "",
            "zerolinecolor": "white"
           },
           "yaxis": {
            "backgroundcolor": "#E5ECF6",
            "gridcolor": "white",
            "gridwidth": 2,
            "linecolor": "white",
            "showbackground": true,
            "ticks": "",
            "zerolinecolor": "white"
           },
           "zaxis": {
            "backgroundcolor": "#E5ECF6",
            "gridcolor": "white",
            "gridwidth": 2,
            "linecolor": "white",
            "showbackground": true,
            "ticks": "",
            "zerolinecolor": "white"
           }
          },
          "shapedefaults": {
           "line": {
            "color": "#2a3f5f"
           }
          },
          "ternary": {
           "aaxis": {
            "gridcolor": "white",
            "linecolor": "white",
            "ticks": ""
           },
           "baxis": {
            "gridcolor": "white",
            "linecolor": "white",
            "ticks": ""
           },
           "bgcolor": "#E5ECF6",
           "caxis": {
            "gridcolor": "white",
            "linecolor": "white",
            "ticks": ""
           }
          },
          "title": {
           "x": 0.05
          },
          "xaxis": {
           "automargin": true,
           "gridcolor": "white",
           "linecolor": "white",
           "ticks": "",
           "title": {
            "standoff": 15
           },
           "zerolinecolor": "white",
           "zerolinewidth": 2
          },
          "yaxis": {
           "automargin": true,
           "gridcolor": "white",
           "linecolor": "white",
           "ticks": "",
           "title": {
            "standoff": 15
           },
           "zerolinecolor": "white",
           "zerolinewidth": 2
          }
         }
        },
        "title": {
         "text": "Module number 0"
        }
       }
      },
      "text/html": [
       "<div>\n",
       "        \n",
       "        \n",
       "            <div id=\"b22617fc-1f60-401a-821c-ae30b663ea33\" class=\"plotly-graph-div\" style=\"height:525px; width:100%;\"></div>\n",
       "            <script type=\"text/javascript\">\n",
       "                require([\"plotly\"], function(Plotly) {\n",
       "                    window.PLOTLYENV=window.PLOTLYENV || {};\n",
       "                    \n",
       "                if (document.getElementById(\"b22617fc-1f60-401a-821c-ae30b663ea33\")) {\n",
       "                    Plotly.newPlot(\n",
       "                        'b22617fc-1f60-401a-821c-ae30b663ea33',\n",
       "                        [{\"mode\": \"lines+markers\", \"name\": \"Pulse index: 0\", \"type\": \"scatter\", \"x\": [6381770, 6381771, 6381772, 6381773, 6381774, 6381775, 6381776, 6381777, 6381778, 6381779, 6381780, 6381781, 6381782, 6381783, 6381784, 6381785, 6381786, 6381787, 6381788, 6381789, 6381790, 6381791], \"y\": [0.10748255997896194, 0.2019641101360321, -0.06423324346542358, -0.011473169550299644, 0.5880666971206665, -0.40888214111328125, -0.022328853607177734, -0.011598125100135803, 0.03711644560098648, -0.13783937692642212, 0.11821937561035156, -0.013173402287065983, 0.10936083644628525, -0.08201427757740021, 0.08600315451622009, 0.042679741978645325, -0.14228388667106628, 0.10706266760826111, -0.041388705372810364, -0.3315792977809906, 0.027937790378928185, 0.14134082198143005]}, {\"mode\": \"lines+markers\", \"name\": \"Pulse index: 1\", \"type\": \"scatter\", \"x\": [6381770, 6381771, 6381772, 6381773, 6381774, 6381775, 6381776, 6381777, 6381778, 6381779, 6381780, 6381781, 6381782, 6381783, 6381784, 6381785, 6381786, 6381787, 6381788, 6381789, 6381790, 6381791], \"y\": [-0.09432446211576462, 0.14273272454738617, 0.0931873545050621, -0.0002094626397592947, -0.0856415182352066, 0.017557382583618164, 0.09545650333166122, -0.10791641473770142, -0.15461020171642303, -0.2246275693178177, 0.12216237187385559, -0.040269311517477036, -0.004339130129665136, 0.16471853852272034, 0.08246088027954102, 0.02737485058605671, 0.05094701051712036, 0.45861488580703735, 0.06818030774593353, -0.13796129822731018, -0.571906328201294, -0.0034440229646861553]}, {\"mode\": \"lines+markers\", \"name\": \"Pulse index: 2\", \"type\": \"scatter\", \"x\": [6381770, 6381771, 6381772, 6381773, 6381774, 6381775, 6381776, 6381777, 6381778, 6381779, 6381780, 6381781, 6381782, 6381783, 6381784, 6381785, 6381786, 6381787, 6381788, 6381789, 6381790, 6381791], \"y\": [0.3886749744415283, 0.0493234358727932, -0.005636462941765785, 0.1562758833169937, 0.27607473731040955, -0.23071517050266266, -0.07452902942895889, -0.3324292004108429, 0.11623034626245499, 0.006120764184743166, 0.0717640072107315, 0.10925300419330597, -0.34726324677467346, 0.3621937930583954, 0.4399423897266388, -0.02130098082125187, null, -0.001309471088461578, -0.02326088212430477, 0.06527066975831985, 0.1569533348083496, 0.03760257735848427]}, {\"mode\": \"lines+markers\", \"name\": \"Pulse index: 3\", \"type\": \"scatter\", \"x\": [6381770, 6381771, 6381772, 6381773, 6381774, 6381775, 6381776, 6381777, 6381778, 6381779, 6381780, 6381781, 6381782, 6381783, 6381784, 6381785, 6381786, 6381787, 6381788, 6381789, 6381790, 6381791], \"y\": [-0.22396060824394226, -0.3459223806858063, -0.4117085337638855, -0.42952102422714233, -0.3887070417404175, 0.2305247038602829, -0.40580275654792786, -0.8586702346801758, -0.2736750841140747, -0.37206557393074036, -0.13777579367160797, -0.49868056178092957, -0.08311587572097778, 0.23128363490104675, -0.21749161183834076, 0.2545645236968994, 0.13013911247253418, -0.36540907621383667, 0.06978198885917664, -0.2921968102455139, -0.7248669862747192, -0.4429345726966858]}, {\"mode\": \"lines+markers\", \"name\": \"Pulse index: 4\", \"type\": \"scatter\", \"x\": [6381770, 6381771, 6381772, 6381773, 6381774, 6381775, 6381776, 6381777, 6381778, 6381779, 6381780, 6381781, 6381782, 6381783, 6381784, 6381785, 6381786, 6381787, 6381788, 6381789, 6381790, 6381791], \"y\": [0.5779560804367065, 0.37455543875694275, 0.16996753215789795, -0.0733533501625061, -0.14434406161308289, 0.428989440202713, 0.2529124915599823, 0.17484353482723236, 0.44435158371925354, 0.36670157313346863, 0.0672248899936676, 0.487211674451828, 0.7060244083404541, 0.3505612015724182, 0.5514639019966125, 0.7890180349349976, 0.11417640000581741, -0.374420166015625, -0.1959814429283142, 0.09780748188495636, -0.10239841789007187, -0.003847300074994564]}, {\"mode\": \"lines+markers\", \"name\": \"Pulse index: 5\", \"type\": \"scatter\", \"x\": [6381770, 6381771, 6381772, 6381773, 6381774, 6381775, 6381776, 6381777, 6381778, 6381779, 6381780, 6381781, 6381782, 6381783, 6381784, 6381785, 6381786, 6381787, 6381788, 6381789, 6381790, 6381791], \"y\": [0.019523080438375473, -0.0394621379673481, -0.24080586433410645, -0.15641283988952637, -0.27953284978866577, 0.24348580837249756, -0.0015452360967174172, 0.12549807131290436, 0.32266074419021606, 0.07097003608942032, 0.06876285374164581, -0.04789048060774803, 0.012097194790840149, 0.2162875533103943, 0.23358356952667236, -0.011946948245167732, 0.07987769693136215, -0.149123415350914, -0.2689586281776428, -0.10645610839128494, -0.16652272641658783, -0.4309525489807129]}, {\"mode\": \"lines+markers\", \"name\": \"Pulse index: 6\", \"type\": \"scatter\", \"x\": [6381770, 6381771, 6381772, 6381773, 6381774, 6381775, 6381776, 6381777, 6381778, 6381779, 6381780, 6381781, 6381782, 6381783, 6381784, 6381785, 6381786, 6381787, 6381788, 6381789, 6381790, 6381791], \"y\": [0.17322510480880737, -0.04949177801609039, 0.12765340507030487, 0.6161796450614929, -0.08811816573143005, 0.5097896456718445, 0.31620290875434875, -0.3654804527759552, -0.22253990173339844, -0.14626188576221466, -0.05981362238526344, 0.16265976428985596, -0.05183061957359314, 0.19135446846485138, 0.03587563335895538, 0.13625819981098175, 0.4097863435745239, -0.31491053104400635, -0.01488419994711876, -0.35287562012672424, -0.7325916290283203, -0.4913633167743683]}, {\"mode\": \"lines+markers\", \"name\": \"Pulse index: 7\", \"type\": \"scatter\", \"x\": [6381770, 6381771, 6381772, 6381773, 6381774, 6381775, 6381776, 6381777, 6381778, 6381779, 6381780, 6381781, 6381782, 6381783, 6381784, 6381785, 6381786, 6381787, 6381788, 6381789, 6381790, 6381791], \"y\": [0.21778921782970428, -0.1607806384563446, 0.10262642800807953, 0.07714599370956421, -0.23971587419509888, 0.2927708625793457, -0.07402648776769638, -0.47827455401420593, 0.10815674066543579, -0.2512384057044983, -0.07599662244319916, 0.09057129174470901, 0.07529272139072418, 0.25228604674339294, -0.10324706882238388, 0.4135877788066864, 0.10359885543584824, -0.287689208984375, 0.0043395995162427425, -0.624554455280304, -0.6109845638275146, -0.09279567748308182]}, {\"mode\": \"lines+markers\", \"name\": \"Pulse index: 8\", \"type\": \"scatter\", \"x\": [6381770, 6381771, 6381772, 6381773, 6381774, 6381775, 6381776, 6381777, 6381778, 6381779, 6381780, 6381781, 6381782, 6381783, 6381784, 6381785, 6381786, 6381787, 6381788, 6381789, 6381790, 6381791], \"y\": [0.4408055543899536, 0.5622689723968506, 0.052278146147727966, 0.3252426087856293, -0.040639933198690414, 0.09713751077651978, 0.06733247637748718, 0.1901199221611023, 0.1389041244983673, 0.09398588538169861, 0.17686152458190918, 0.354164719581604, 0.5423605442047119, 0.6950717568397522, 0.30459079146385193, 0.5330431461334229, 0.6039197444915771, 0.0968380719423294, -0.22701671719551086, -0.45510444045066833, 0.46088436245918274, 0.2763364613056183]}, {\"mode\": \"lines+markers\", \"name\": \"Pulse index: 9\", \"type\": \"scatter\", \"x\": [6381770, 6381771, 6381772, 6381773, 6381774, 6381775, 6381776, 6381777, 6381778, 6381779, 6381780, 6381781, 6381782, 6381783, 6381784, 6381785, 6381786, 6381787, 6381788, 6381789, 6381790, 6381791], \"y\": [-0.3567112982273102, -0.5079343914985657, -0.3729117214679718, -0.42085975408554077, -0.5166260600090027, 0.10188914090394974, -0.24201278388500214, -0.6680579781532288, -0.4170670807361603, -0.8205827474594116, -0.4671977460384369, -0.17303459346294403, -0.09937267750501633, -0.30060243606567383, -0.3254826068878174, -0.39471185207366943, 0.4135672450065613, -0.22453166544437408, -0.12210249900817871, -0.4151431918144226, -0.9751061797142029, -0.6645478010177612]}, {\"mode\": \"lines+markers\", \"name\": \"Pulse index: 10\", \"type\": \"scatter\", \"x\": [6381770, 6381771, 6381772, 6381773, 6381774, 6381775, 6381776, 6381777, 6381778, 6381779, 6381780, 6381781, 6381782, 6381783, 6381784, 6381785, 6381786, 6381787, 6381788, 6381789, 6381790, 6381791], \"y\": [-0.4656798243522644, 0.18505701422691345, -0.33653146028518677, -0.31957074999809265, -0.20855790376663208, -0.25404196977615356, -0.1184476837515831, -0.32056155800819397, -0.07852146774530411, -0.49227097630500793, -0.44410163164138794, -0.06883154064416885, 0.36454880237579346, 0.3164099156856537, 0.24503135681152344, 0.07190621644258499, 0.44213736057281494, -0.41456887125968933, -0.5486869812011719, -0.4124491810798645, -0.3955366909503937, -0.5827077031135559]}],\n",
       "                        {\"template\": {\"data\": {\"bar\": [{\"error_x\": {\"color\": \"#2a3f5f\"}, \"error_y\": {\"color\": \"#2a3f5f\"}, \"marker\": {\"line\": {\"color\": \"#E5ECF6\", \"width\": 0.5}}, \"type\": \"bar\"}], \"barpolar\": [{\"marker\": {\"line\": {\"color\": \"#E5ECF6\", \"width\": 0.5}}, \"type\": \"barpolar\"}], \"carpet\": [{\"aaxis\": {\"endlinecolor\": \"#2a3f5f\", \"gridcolor\": \"white\", \"linecolor\": \"white\", \"minorgridcolor\": \"white\", \"startlinecolor\": \"#2a3f5f\"}, \"baxis\": {\"endlinecolor\": \"#2a3f5f\", \"gridcolor\": \"white\", \"linecolor\": \"white\", \"minorgridcolor\": \"white\", \"startlinecolor\": \"#2a3f5f\"}, \"type\": \"carpet\"}], \"choropleth\": [{\"colorbar\": {\"outlinewidth\": 0, \"ticks\": \"\"}, \"type\": \"choropleth\"}], \"contour\": [{\"colorbar\": {\"outlinewidth\": 0, \"ticks\": \"\"}, \"colorscale\": [[0.0, \"#0d0887\"], [0.1111111111111111, \"#46039f\"], [0.2222222222222222, \"#7201a8\"], [0.3333333333333333, \"#9c179e\"], [0.4444444444444444, \"#bd3786\"], [0.5555555555555556, \"#d8576b\"], [0.6666666666666666, \"#ed7953\"], [0.7777777777777778, \"#fb9f3a\"], [0.8888888888888888, \"#fdca26\"], [1.0, \"#f0f921\"]], \"type\": \"contour\"}], \"contourcarpet\": [{\"colorbar\": {\"outlinewidth\": 0, \"ticks\": \"\"}, \"type\": \"contourcarpet\"}], \"heatmap\": [{\"colorbar\": {\"outlinewidth\": 0, \"ticks\": \"\"}, \"colorscale\": [[0.0, \"#0d0887\"], [0.1111111111111111, \"#46039f\"], [0.2222222222222222, \"#7201a8\"], [0.3333333333333333, \"#9c179e\"], [0.4444444444444444, \"#bd3786\"], [0.5555555555555556, \"#d8576b\"], [0.6666666666666666, \"#ed7953\"], [0.7777777777777778, \"#fb9f3a\"], [0.8888888888888888, \"#fdca26\"], [1.0, \"#f0f921\"]], \"type\": \"heatmap\"}], \"heatmapgl\": [{\"colorbar\": {\"outlinewidth\": 0, \"ticks\": \"\"}, \"colorscale\": [[0.0, \"#0d0887\"], [0.1111111111111111, \"#46039f\"], [0.2222222222222222, \"#7201a8\"], [0.3333333333333333, \"#9c179e\"], [0.4444444444444444, \"#bd3786\"], [0.5555555555555556, \"#d8576b\"], [0.6666666666666666, \"#ed7953\"], [0.7777777777777778, \"#fb9f3a\"], [0.8888888888888888, \"#fdca26\"], [1.0, \"#f0f921\"]], \"type\": \"heatmapgl\"}], \"histogram\": [{\"marker\": {\"colorbar\": {\"outlinewidth\": 0, \"ticks\": \"\"}}, \"type\": \"histogram\"}], \"histogram2d\": [{\"colorbar\": {\"outlinewidth\": 0, \"ticks\": \"\"}, \"colorscale\": [[0.0, \"#0d0887\"], [0.1111111111111111, \"#46039f\"], [0.2222222222222222, \"#7201a8\"], [0.3333333333333333, \"#9c179e\"], [0.4444444444444444, \"#bd3786\"], [0.5555555555555556, \"#d8576b\"], [0.6666666666666666, \"#ed7953\"], [0.7777777777777778, \"#fb9f3a\"], [0.8888888888888888, \"#fdca26\"], [1.0, \"#f0f921\"]], \"type\": \"histogram2d\"}], \"histogram2dcontour\": [{\"colorbar\": {\"outlinewidth\": 0, \"ticks\": \"\"}, \"colorscale\": [[0.0, \"#0d0887\"], [0.1111111111111111, \"#46039f\"], [0.2222222222222222, \"#7201a8\"], [0.3333333333333333, \"#9c179e\"], [0.4444444444444444, \"#bd3786\"], [0.5555555555555556, \"#d8576b\"], [0.6666666666666666, \"#ed7953\"], [0.7777777777777778, \"#fb9f3a\"], [0.8888888888888888, \"#fdca26\"], [1.0, \"#f0f921\"]], \"type\": \"histogram2dcontour\"}], \"mesh3d\": [{\"colorbar\": {\"outlinewidth\": 0, \"ticks\": \"\"}, \"type\": \"mesh3d\"}], \"parcoords\": [{\"line\": {\"colorbar\": {\"outlinewidth\": 0, \"ticks\": \"\"}}, \"type\": \"parcoords\"}], \"pie\": [{\"automargin\": true, \"type\": \"pie\"}], \"scatter\": [{\"marker\": {\"colorbar\": {\"outlinewidth\": 0, \"ticks\": \"\"}}, \"type\": \"scatter\"}], \"scatter3d\": [{\"line\": {\"colorbar\": {\"outlinewidth\": 0, \"ticks\": \"\"}}, \"marker\": {\"colorbar\": {\"outlinewidth\": 0, \"ticks\": \"\"}}, \"type\": \"scatter3d\"}], \"scattercarpet\": [{\"marker\": {\"colorbar\": {\"outlinewidth\": 0, \"ticks\": \"\"}}, \"type\": \"scattercarpet\"}], \"scattergeo\": [{\"marker\": {\"colorbar\": {\"outlinewidth\": 0, \"ticks\": \"\"}}, \"type\": \"scattergeo\"}], \"scattergl\": [{\"marker\": {\"colorbar\": {\"outlinewidth\": 0, \"ticks\": \"\"}}, \"type\": \"scattergl\"}], \"scattermapbox\": [{\"marker\": {\"colorbar\": {\"outlinewidth\": 0, \"ticks\": \"\"}}, \"type\": \"scattermapbox\"}], \"scatterpolar\": [{\"marker\": {\"colorbar\": {\"outlinewidth\": 0, \"ticks\": \"\"}}, \"type\": \"scatterpolar\"}], \"scatterpolargl\": [{\"marker\": {\"colorbar\": {\"outlinewidth\": 0, \"ticks\": \"\"}}, \"type\": \"scatterpolargl\"}], \"scatterternary\": [{\"marker\": {\"colorbar\": {\"outlinewidth\": 0, \"ticks\": \"\"}}, \"type\": \"scatterternary\"}], \"surface\": [{\"colorbar\": {\"outlinewidth\": 0, \"ticks\": \"\"}, \"colorscale\": [[0.0, \"#0d0887\"], [0.1111111111111111, \"#46039f\"], [0.2222222222222222, \"#7201a8\"], [0.3333333333333333, \"#9c179e\"], [0.4444444444444444, \"#bd3786\"], [0.5555555555555556, \"#d8576b\"], [0.6666666666666666, \"#ed7953\"], [0.7777777777777778, \"#fb9f3a\"], [0.8888888888888888, \"#fdca26\"], [1.0, \"#f0f921\"]], \"type\": \"surface\"}], \"table\": [{\"cells\": {\"fill\": {\"color\": \"#EBF0F8\"}, \"line\": {\"color\": \"white\"}}, \"header\": {\"fill\": {\"color\": \"#C8D4E3\"}, \"line\": {\"color\": \"white\"}}, \"type\": \"table\"}]}, \"layout\": {\"annotationdefaults\": {\"arrowcolor\": \"#2a3f5f\", \"arrowhead\": 0, \"arrowwidth\": 1}, \"coloraxis\": {\"colorbar\": {\"outlinewidth\": 0, \"ticks\": \"\"}}, \"colorscale\": {\"diverging\": [[0, \"#8e0152\"], [0.1, \"#c51b7d\"], [0.2, \"#de77ae\"], [0.3, \"#f1b6da\"], [0.4, \"#fde0ef\"], [0.5, \"#f7f7f7\"], [0.6, \"#e6f5d0\"], [0.7, \"#b8e186\"], [0.8, \"#7fbc41\"], [0.9, \"#4d9221\"], [1, \"#276419\"]], \"sequential\": [[0.0, \"#0d0887\"], [0.1111111111111111, \"#46039f\"], [0.2222222222222222, \"#7201a8\"], [0.3333333333333333, \"#9c179e\"], [0.4444444444444444, \"#bd3786\"], [0.5555555555555556, \"#d8576b\"], [0.6666666666666666, \"#ed7953\"], [0.7777777777777778, \"#fb9f3a\"], [0.8888888888888888, \"#fdca26\"], [1.0, \"#f0f921\"]], \"sequentialminus\": [[0.0, \"#0d0887\"], [0.1111111111111111, \"#46039f\"], [0.2222222222222222, \"#7201a8\"], [0.3333333333333333, \"#9c179e\"], [0.4444444444444444, \"#bd3786\"], [0.5555555555555556, \"#d8576b\"], [0.6666666666666666, \"#ed7953\"], [0.7777777777777778, \"#fb9f3a\"], [0.8888888888888888, \"#fdca26\"], [1.0, \"#f0f921\"]]}, \"colorway\": [\"#636efa\", \"#EF553B\", \"#00cc96\", \"#ab63fa\", \"#FFA15A\", \"#19d3f3\", \"#FF6692\", \"#B6E880\", \"#FF97FF\", \"#FECB52\"], \"font\": {\"color\": \"#2a3f5f\"}, \"geo\": {\"bgcolor\": \"white\", \"lakecolor\": \"white\", \"landcolor\": \"#E5ECF6\", \"showlakes\": true, \"showland\": true, \"subunitcolor\": \"white\"}, \"hoverlabel\": {\"align\": \"left\"}, \"hovermode\": \"closest\", \"mapbox\": {\"style\": \"light\"}, \"paper_bgcolor\": \"white\", \"plot_bgcolor\": \"#E5ECF6\", \"polar\": {\"angularaxis\": {\"gridcolor\": \"white\", \"linecolor\": \"white\", \"ticks\": \"\"}, \"bgcolor\": \"#E5ECF6\", \"radialaxis\": {\"gridcolor\": \"white\", \"linecolor\": \"white\", \"ticks\": \"\"}}, \"scene\": {\"xaxis\": {\"backgroundcolor\": \"#E5ECF6\", \"gridcolor\": \"white\", \"gridwidth\": 2, \"linecolor\": \"white\", \"showbackground\": true, \"ticks\": \"\", \"zerolinecolor\": \"white\"}, \"yaxis\": {\"backgroundcolor\": \"#E5ECF6\", \"gridcolor\": \"white\", \"gridwidth\": 2, \"linecolor\": \"white\", \"showbackground\": true, \"ticks\": \"\", \"zerolinecolor\": \"white\"}, \"zaxis\": {\"backgroundcolor\": \"#E5ECF6\", \"gridcolor\": \"white\", \"gridwidth\": 2, \"linecolor\": \"white\", \"showbackground\": true, \"ticks\": \"\", \"zerolinecolor\": \"white\"}}, \"shapedefaults\": {\"line\": {\"color\": \"#2a3f5f\"}}, \"ternary\": {\"aaxis\": {\"gridcolor\": \"white\", \"linecolor\": \"white\", \"ticks\": \"\"}, \"baxis\": {\"gridcolor\": \"white\", \"linecolor\": \"white\", \"ticks\": \"\"}, \"bgcolor\": \"#E5ECF6\", \"caxis\": {\"gridcolor\": \"white\", \"linecolor\": \"white\", \"ticks\": \"\"}}, \"title\": {\"x\": 0.05}, \"xaxis\": {\"automargin\": true, \"gridcolor\": \"white\", \"linecolor\": \"white\", \"ticks\": \"\", \"title\": {\"standoff\": 15}, \"zerolinecolor\": \"white\", \"zerolinewidth\": 2}, \"yaxis\": {\"automargin\": true, \"gridcolor\": \"white\", \"linecolor\": \"white\", \"ticks\": \"\", \"title\": {\"standoff\": 15}, \"zerolinecolor\": \"white\", \"zerolinewidth\": 2}}}, \"title\": {\"text\": \"Module number 0\"}},\n",
       "                        {\"responsive\": true}\n",
       "                    ).then(function(){\n",
       "                            \n",
       "var gd = document.getElementById('b22617fc-1f60-401a-821c-ae30b663ea33');\n",
       "var x = new MutationObserver(function (mutations, observer) {{\n",
       "        var display = window.getComputedStyle(gd).display;\n",
       "        if (!display || display === 'none') {{\n",
       "            console.log([gd, 'removed!']);\n",
       "            Plotly.purge(gd);\n",
       "            observer.disconnect();\n",
       "        }}\n",
       "}});\n",
       "\n",
       "// Listen for the removal of the full notebook cells\n",
       "var notebookContainer = gd.closest('#notebook-container');\n",
       "if (notebookContainer) {{\n",
       "    x.observe(notebookContainer, {childList: true});\n",
       "}}\n",
       "\n",
       "// Listen for the clearing of the current output cell\n",
       "var outputEl = gd.closest('.output');\n",
       "if (outputEl) {{\n",
       "    x.observe(outputEl, {childList: true});\n",
       "}}\n",
       "\n",
       "                        })\n",
       "                };\n",
       "                });\n",
       "            </script>\n",
       "        </div>"
      ]
     },
     "metadata": {},
     "output_type": "display_data"
    },
    {
     "data": {
      "application/vnd.plotly.v1+json": {
       "config": {
        "plotlyServerURL": "https://plot.ly"
       },
       "data": [
        {
         "mode": "lines+markers",
         "name": "Pulse index: 0",
         "type": "scatter",
         "x": [
          6381770,
          6381771,
          6381772,
          6381773,
          6381774,
          6381775,
          6381776,
          6381777,
          6381778,
          6381779,
          6381780,
          6381781,
          6381782,
          6381783,
          6381784,
          6381785,
          6381786,
          6381787,
          6381788,
          6381789,
          6381790,
          6381791
         ],
         "y": [
          -0.03764355555176735,
          0.19519978761672974,
          -0.0427229069173336,
          -0.05726267397403717,
          0.4441256821155548,
          0.4985819160938263,
          -0.007712170016020536,
          0.018348369747400284,
          -0.2605309784412384,
          -0.11439619213342667,
          -0.009376811794936657,
          -0.10965751856565475,
          -0.11625082790851593,
          -0.12771376967430115,
          -0.05434476211667061,
          -0.0461001843214035,
          0.009104008786380291,
          -0.01467340998351574,
          0.10606619715690613,
          -0.2573687434196472,
          0.01114440243691206,
          0.19853870570659637
         ]
        },
        {
         "mode": "lines+markers",
         "name": "Pulse index: 1",
         "type": "scatter",
         "x": [
          6381770,
          6381771,
          6381772,
          6381773,
          6381774,
          6381775,
          6381776,
          6381777,
          6381778,
          6381779,
          6381780,
          6381781,
          6381782,
          6381783,
          6381784,
          6381785,
          6381786,
          6381787,
          6381788,
          6381789,
          6381790,
          6381791
         ],
         "y": [
          -0.2929076552391052,
          -0.0010299253044649959,
          -0.06928490847349167,
          -0.14109660685062408,
          -0.005520829930901527,
          -0.021229684352874756,
          0.2635324001312256,
          -0.11045639961957932,
          0.08459902554750443,
          0.14852367341518402,
          0.08555334806442261,
          0.0007541560917161405,
          -0.09369713813066483,
          0.08381220698356628,
          -0.10746932029724121,
          0.00295164599083364,
          0.020517831668257713,
          0.4514857232570648,
          0.19799543917179108,
          0.04135295748710632,
          -0.4637121856212616,
          0.06124031916260719
         ]
        },
        {
         "mode": "lines+markers",
         "name": "Pulse index: 2",
         "type": "scatter",
         "x": [
          6381770,
          6381771,
          6381772,
          6381773,
          6381774,
          6381775,
          6381776,
          6381777,
          6381778,
          6381779,
          6381780,
          6381781,
          6381782,
          6381783,
          6381784,
          6381785,
          6381786,
          6381787,
          6381788,
          6381789,
          6381790,
          6381791
         ],
         "y": [
          0.3249051868915558,
          -0.00813180673867464,
          -0.07151027023792267,
          -0.03139961510896683,
          0.25333747267723083,
          0.06000392884016037,
          0.054700665175914764,
          -0.37719762325286865,
          0.1104971170425415,
          0.003481054911389947,
          -0.048085249960422516,
          -0.23201636970043182,
          -0.38506948947906494,
          0.034677088260650635,
          2.105985164642334,
          0.09412574768066406,
          null,
          0.02823943831026554,
          -0.13324439525604248,
          -0.018634337931871414,
          0.08356338739395142,
          0.025409283116459846
         ]
        },
        {
         "mode": "lines+markers",
         "name": "Pulse index: 3",
         "type": "scatter",
         "x": [
          6381770,
          6381771,
          6381772,
          6381773,
          6381774,
          6381775,
          6381776,
          6381777,
          6381778,
          6381779,
          6381780,
          6381781,
          6381782,
          6381783,
          6381784,
          6381785,
          6381786,
          6381787,
          6381788,
          6381789,
          6381790,
          6381791
         ],
         "y": [
          -1.0478577613830566,
          -0.7493094801902771,
          -0.7684731483459473,
          -0.32128432393074036,
          -0.00979161262512207,
          0.09662473946809769,
          0.2390289306640625,
          -0.02451159432530403,
          0.04457202926278114,
          0.3435857892036438,
          0.11632148921489716,
          -0.48653721809387207,
          -0.1270768791437149,
          -0.11149287968873978,
          -0.18225513398647308,
          -0.5570922493934631,
          -0.6041763424873352,
          0.3334023058414459,
          0.41460511088371277,
          0.1380395144224167,
          -0.5638840198516846,
          -0.059213895350694656
         ]
        },
        {
         "mode": "lines+markers",
         "name": "Pulse index: 4",
         "type": "scatter",
         "x": [
          6381770,
          6381771,
          6381772,
          6381773,
          6381774,
          6381775,
          6381776,
          6381777,
          6381778,
          6381779,
          6381780,
          6381781,
          6381782,
          6381783,
          6381784,
          6381785,
          6381786,
          6381787,
          6381788,
          6381789,
          6381790,
          6381791
         ],
         "y": [
          -0.33430618047714233,
          -0.42579564452171326,
          -0.3262013792991638,
          -0.35349002480506897,
          0.14112654328346252,
          0.13988058269023895,
          0.5921638607978821,
          0.44348952174186707,
          0.18915213644504547,
          0.6489179730415344,
          0.09415549039840698,
          -0.027947179973125458,
          -0.03127908706665039,
          0.011530092917382717,
          0.029325254261493683,
          -0.14213810861110687,
          -0.46001866459846497,
          -0.40688931941986084,
          -0.47980624437332153,
          -0.004477920476347208,
          0.07345661520957947,
          0.13165001571178436
         ]
        },
        {
         "mode": "lines+markers",
         "name": "Pulse index: 5",
         "type": "scatter",
         "x": [
          6381770,
          6381771,
          6381772,
          6381773,
          6381774,
          6381775,
          6381776,
          6381777,
          6381778,
          6381779,
          6381780,
          6381781,
          6381782,
          6381783,
          6381784,
          6381785,
          6381786,
          6381787,
          6381788,
          6381789,
          6381790,
          6381791
         ],
         "y": [
          -0.38162076473236084,
          -0.3487318754196167,
          -0.3902680575847626,
          0.16032849252223969,
          0.3416610062122345,
          0.5446486473083496,
          0.5969221591949463,
          0.8372554183006287,
          0.6749830842018127,
          0.7167616486549377,
          0.45113569498062134,
          0.004757395014166832,
          -0.22623077034950256,
          0.04704729840159416,
          0.22036784887313843,
          -0.5408942699432373,
          -0.012216534465551376,
          0.257098913192749,
          0.3146498203277588,
          0.2987300455570221,
          0.27770161628723145,
          -0.06476933509111404
         ]
        },
        {
         "mode": "lines+markers",
         "name": "Pulse index: 6",
         "type": "scatter",
         "x": [
          6381770,
          6381771,
          6381772,
          6381773,
          6381774,
          6381775,
          6381776,
          6381777,
          6381778,
          6381779,
          6381780,
          6381781,
          6381782,
          6381783,
          6381784,
          6381785,
          6381786,
          6381787,
          6381788,
          6381789,
          6381790,
          6381791
         ],
         "y": [
          -0.4150068163871765,
          -0.5990928411483765,
          -0.33332955837249756,
          0.1523279845714569,
          0.12559261918067932,
          0.5694218277931213,
          0.7930442690849304,
          0.0888938307762146,
          0.14829403162002563,
          0.22239485383033752,
          -0.11939229816198349,
          -0.10743436962366104,
          -0.530475914478302,
          -0.272128701210022,
          -0.22579173743724823,
          -0.5533537864685059,
          0.051006220281124115,
          0.10802478343248367,
          0.13914230465888977,
          0.010851201601326466,
          -0.32519447803497314,
          -0.04066626727581024
         ]
        },
        {
         "mode": "lines+markers",
         "name": "Pulse index: 7",
         "type": "scatter",
         "x": [
          6381770,
          6381771,
          6381772,
          6381773,
          6381774,
          6381775,
          6381776,
          6381777,
          6381778,
          6381779,
          6381780,
          6381781,
          6381782,
          6381783,
          6381784,
          6381785,
          6381786,
          6381787,
          6381788,
          6381789,
          6381790,
          6381791
         ],
         "y": [
          -0.20856307446956635,
          -0.47074538469314575,
          -0.40734830498695374,
          0.2453138381242752,
          0.27466514706611633,
          0.7395907640457153,
          0.5580209493637085,
          0.5299826860427856,
          0.0807432010769844,
          0.3957462012767792,
          0.014349651522934437,
          -0.17196246981620789,
          -0.20581379532814026,
          0.00701453723013401,
          -0.2751013934612274,
          -0.3166258931159973,
          -0.3423982560634613,
          0.0677500069141388,
          -0.0033382319379597902,
          -0.05445026233792305,
          -0.29583701491355896,
          0.5462586879730225
         ]
        },
        {
         "mode": "lines+markers",
         "name": "Pulse index: 8",
         "type": "scatter",
         "x": [
          6381770,
          6381771,
          6381772,
          6381773,
          6381774,
          6381775,
          6381776,
          6381777,
          6381778,
          6381779,
          6381780,
          6381781,
          6381782,
          6381783,
          6381784,
          6381785,
          6381786,
          6381787,
          6381788,
          6381789,
          6381790,
          6381791
         ],
         "y": [
          -0.20336823165416718,
          -0.15199211239814758,
          -0.23087181150913239,
          -0.20365822315216064,
          0.0514829121530056,
          0.39940667152404785,
          0.3617638349533081,
          0.3650915026664734,
          0.2724071741104126,
          0.2911071479320526,
          0.04024283215403557,
          0.09113703668117523,
          -0.03346434608101845,
          0.2719736397266388,
          -0.22572651505470276,
          -0.21387769281864166,
          -0.2108757197856903,
          0.01730320230126381,
          -0.2636174261569977,
          -0.40531787276268005,
          0.6450138688087463,
          0.4119689464569092
         ]
        },
        {
         "mode": "lines+markers",
         "name": "Pulse index: 9",
         "type": "scatter",
         "x": [
          6381770,
          6381771,
          6381772,
          6381773,
          6381774,
          6381775,
          6381776,
          6381777,
          6381778,
          6381779,
          6381780,
          6381781,
          6381782,
          6381783,
          6381784,
          6381785,
          6381786,
          6381787,
          6381788,
          6381789,
          6381790,
          6381791
         ],
         "y": [
          -0.9414775371551514,
          -0.647752046585083,
          -0.6726409196853638,
          -0.2706790268421173,
          -0.0033824844285845757,
          0.12151683866977692,
          0.02306772954761982,
          -0.26288628578186035,
          -0.21514248847961426,
          -0.14529289305210114,
          -0.035925738513469696,
          -0.3993096649646759,
          -0.5917840003967285,
          -0.7936002612113953,
          -0.5548201203346252,
          -0.9622990489006042,
          0.04000011831521988,
          0.29149043560028076,
          0.3427943289279938,
          0.22205208241939545,
          -0.614408552646637,
          -0.2251945436000824
         ]
        },
        {
         "mode": "lines+markers",
         "name": "Pulse index: 10",
         "type": "scatter",
         "x": [
          6381770,
          6381771,
          6381772,
          6381773,
          6381774,
          6381775,
          6381776,
          6381777,
          6381778,
          6381779,
          6381780,
          6381781,
          6381782,
          6381783,
          6381784,
          6381785,
          6381786,
          6381787,
          6381788,
          6381789,
          6381790,
          6381791
         ],
         "y": [
          -0.7047516107559204,
          -0.2072380781173706,
          -0.3147759437561035,
          0.12841840088367462,
          0.11832200735807419,
          0.1369519680738449,
          0.7388068437576294,
          0.1620258390903473,
          0.23701481521129608,
          0.19865547120571136,
          -0.2637810707092285,
          -0.02911367639899254,
          0.2681482434272766,
          0.181002676486969,
          -0.01284858025610447,
          -0.028290748596191406,
          -0.14256033301353455,
          -0.06125069782137871,
          0.02157294936478138,
          -0.041645411401987076,
          0.07296516746282578,
          0.07338017225265503
         ]
        }
       ],
       "layout": {
        "template": {
         "data": {
          "bar": [
           {
            "error_x": {
             "color": "#2a3f5f"
            },
            "error_y": {
             "color": "#2a3f5f"
            },
            "marker": {
             "line": {
              "color": "#E5ECF6",
              "width": 0.5
             }
            },
            "type": "bar"
           }
          ],
          "barpolar": [
           {
            "marker": {
             "line": {
              "color": "#E5ECF6",
              "width": 0.5
             }
            },
            "type": "barpolar"
           }
          ],
          "carpet": [
           {
            "aaxis": {
             "endlinecolor": "#2a3f5f",
             "gridcolor": "white",
             "linecolor": "white",
             "minorgridcolor": "white",
             "startlinecolor": "#2a3f5f"
            },
            "baxis": {
             "endlinecolor": "#2a3f5f",
             "gridcolor": "white",
             "linecolor": "white",
             "minorgridcolor": "white",
             "startlinecolor": "#2a3f5f"
            },
            "type": "carpet"
           }
          ],
          "choropleth": [
           {
            "colorbar": {
             "outlinewidth": 0,
             "ticks": ""
            },
            "type": "choropleth"
           }
          ],
          "contour": [
           {
            "colorbar": {
             "outlinewidth": 0,
             "ticks": ""
            },
            "colorscale": [
             [
              0,
              "#0d0887"
             ],
             [
              0.1111111111111111,
              "#46039f"
             ],
             [
              0.2222222222222222,
              "#7201a8"
             ],
             [
              0.3333333333333333,
              "#9c179e"
             ],
             [
              0.4444444444444444,
              "#bd3786"
             ],
             [
              0.5555555555555556,
              "#d8576b"
             ],
             [
              0.6666666666666666,
              "#ed7953"
             ],
             [
              0.7777777777777778,
              "#fb9f3a"
             ],
             [
              0.8888888888888888,
              "#fdca26"
             ],
             [
              1,
              "#f0f921"
             ]
            ],
            "type": "contour"
           }
          ],
          "contourcarpet": [
           {
            "colorbar": {
             "outlinewidth": 0,
             "ticks": ""
            },
            "type": "contourcarpet"
           }
          ],
          "heatmap": [
           {
            "colorbar": {
             "outlinewidth": 0,
             "ticks": ""
            },
            "colorscale": [
             [
              0,
              "#0d0887"
             ],
             [
              0.1111111111111111,
              "#46039f"
             ],
             [
              0.2222222222222222,
              "#7201a8"
             ],
             [
              0.3333333333333333,
              "#9c179e"
             ],
             [
              0.4444444444444444,
              "#bd3786"
             ],
             [
              0.5555555555555556,
              "#d8576b"
             ],
             [
              0.6666666666666666,
              "#ed7953"
             ],
             [
              0.7777777777777778,
              "#fb9f3a"
             ],
             [
              0.8888888888888888,
              "#fdca26"
             ],
             [
              1,
              "#f0f921"
             ]
            ],
            "type": "heatmap"
           }
          ],
          "heatmapgl": [
           {
            "colorbar": {
             "outlinewidth": 0,
             "ticks": ""
            },
            "colorscale": [
             [
              0,
              "#0d0887"
             ],
             [
              0.1111111111111111,
              "#46039f"
             ],
             [
              0.2222222222222222,
              "#7201a8"
             ],
             [
              0.3333333333333333,
              "#9c179e"
             ],
             [
              0.4444444444444444,
              "#bd3786"
             ],
             [
              0.5555555555555556,
              "#d8576b"
             ],
             [
              0.6666666666666666,
              "#ed7953"
             ],
             [
              0.7777777777777778,
              "#fb9f3a"
             ],
             [
              0.8888888888888888,
              "#fdca26"
             ],
             [
              1,
              "#f0f921"
             ]
            ],
            "type": "heatmapgl"
           }
          ],
          "histogram": [
           {
            "marker": {
             "colorbar": {
              "outlinewidth": 0,
              "ticks": ""
             }
            },
            "type": "histogram"
           }
          ],
          "histogram2d": [
           {
            "colorbar": {
             "outlinewidth": 0,
             "ticks": ""
            },
            "colorscale": [
             [
              0,
              "#0d0887"
             ],
             [
              0.1111111111111111,
              "#46039f"
             ],
             [
              0.2222222222222222,
              "#7201a8"
             ],
             [
              0.3333333333333333,
              "#9c179e"
             ],
             [
              0.4444444444444444,
              "#bd3786"
             ],
             [
              0.5555555555555556,
              "#d8576b"
             ],
             [
              0.6666666666666666,
              "#ed7953"
             ],
             [
              0.7777777777777778,
              "#fb9f3a"
             ],
             [
              0.8888888888888888,
              "#fdca26"
             ],
             [
              1,
              "#f0f921"
             ]
            ],
            "type": "histogram2d"
           }
          ],
          "histogram2dcontour": [
           {
            "colorbar": {
             "outlinewidth": 0,
             "ticks": ""
            },
            "colorscale": [
             [
              0,
              "#0d0887"
             ],
             [
              0.1111111111111111,
              "#46039f"
             ],
             [
              0.2222222222222222,
              "#7201a8"
             ],
             [
              0.3333333333333333,
              "#9c179e"
             ],
             [
              0.4444444444444444,
              "#bd3786"
             ],
             [
              0.5555555555555556,
              "#d8576b"
             ],
             [
              0.6666666666666666,
              "#ed7953"
             ],
             [
              0.7777777777777778,
              "#fb9f3a"
             ],
             [
              0.8888888888888888,
              "#fdca26"
             ],
             [
              1,
              "#f0f921"
             ]
            ],
            "type": "histogram2dcontour"
           }
          ],
          "mesh3d": [
           {
            "colorbar": {
             "outlinewidth": 0,
             "ticks": ""
            },
            "type": "mesh3d"
           }
          ],
          "parcoords": [
           {
            "line": {
             "colorbar": {
              "outlinewidth": 0,
              "ticks": ""
             }
            },
            "type": "parcoords"
           }
          ],
          "pie": [
           {
            "automargin": true,
            "type": "pie"
           }
          ],
          "scatter": [
           {
            "marker": {
             "colorbar": {
              "outlinewidth": 0,
              "ticks": ""
             }
            },
            "type": "scatter"
           }
          ],
          "scatter3d": [
           {
            "line": {
             "colorbar": {
              "outlinewidth": 0,
              "ticks": ""
             }
            },
            "marker": {
             "colorbar": {
              "outlinewidth": 0,
              "ticks": ""
             }
            },
            "type": "scatter3d"
           }
          ],
          "scattercarpet": [
           {
            "marker": {
             "colorbar": {
              "outlinewidth": 0,
              "ticks": ""
             }
            },
            "type": "scattercarpet"
           }
          ],
          "scattergeo": [
           {
            "marker": {
             "colorbar": {
              "outlinewidth": 0,
              "ticks": ""
             }
            },
            "type": "scattergeo"
           }
          ],
          "scattergl": [
           {
            "marker": {
             "colorbar": {
              "outlinewidth": 0,
              "ticks": ""
             }
            },
            "type": "scattergl"
           }
          ],
          "scattermapbox": [
           {
            "marker": {
             "colorbar": {
              "outlinewidth": 0,
              "ticks": ""
             }
            },
            "type": "scattermapbox"
           }
          ],
          "scatterpolar": [
           {
            "marker": {
             "colorbar": {
              "outlinewidth": 0,
              "ticks": ""
             }
            },
            "type": "scatterpolar"
           }
          ],
          "scatterpolargl": [
           {
            "marker": {
             "colorbar": {
              "outlinewidth": 0,
              "ticks": ""
             }
            },
            "type": "scatterpolargl"
           }
          ],
          "scatterternary": [
           {
            "marker": {
             "colorbar": {
              "outlinewidth": 0,
              "ticks": ""
             }
            },
            "type": "scatterternary"
           }
          ],
          "surface": [
           {
            "colorbar": {
             "outlinewidth": 0,
             "ticks": ""
            },
            "colorscale": [
             [
              0,
              "#0d0887"
             ],
             [
              0.1111111111111111,
              "#46039f"
             ],
             [
              0.2222222222222222,
              "#7201a8"
             ],
             [
              0.3333333333333333,
              "#9c179e"
             ],
             [
              0.4444444444444444,
              "#bd3786"
             ],
             [
              0.5555555555555556,
              "#d8576b"
             ],
             [
              0.6666666666666666,
              "#ed7953"
             ],
             [
              0.7777777777777778,
              "#fb9f3a"
             ],
             [
              0.8888888888888888,
              "#fdca26"
             ],
             [
              1,
              "#f0f921"
             ]
            ],
            "type": "surface"
           }
          ],
          "table": [
           {
            "cells": {
             "fill": {
              "color": "#EBF0F8"
             },
             "line": {
              "color": "white"
             }
            },
            "header": {
             "fill": {
              "color": "#C8D4E3"
             },
             "line": {
              "color": "white"
             }
            },
            "type": "table"
           }
          ]
         },
         "layout": {
          "annotationdefaults": {
           "arrowcolor": "#2a3f5f",
           "arrowhead": 0,
           "arrowwidth": 1
          },
          "coloraxis": {
           "colorbar": {
            "outlinewidth": 0,
            "ticks": ""
           }
          },
          "colorscale": {
           "diverging": [
            [
             0,
             "#8e0152"
            ],
            [
             0.1,
             "#c51b7d"
            ],
            [
             0.2,
             "#de77ae"
            ],
            [
             0.3,
             "#f1b6da"
            ],
            [
             0.4,
             "#fde0ef"
            ],
            [
             0.5,
             "#f7f7f7"
            ],
            [
             0.6,
             "#e6f5d0"
            ],
            [
             0.7,
             "#b8e186"
            ],
            [
             0.8,
             "#7fbc41"
            ],
            [
             0.9,
             "#4d9221"
            ],
            [
             1,
             "#276419"
            ]
           ],
           "sequential": [
            [
             0,
             "#0d0887"
            ],
            [
             0.1111111111111111,
             "#46039f"
            ],
            [
             0.2222222222222222,
             "#7201a8"
            ],
            [
             0.3333333333333333,
             "#9c179e"
            ],
            [
             0.4444444444444444,
             "#bd3786"
            ],
            [
             0.5555555555555556,
             "#d8576b"
            ],
            [
             0.6666666666666666,
             "#ed7953"
            ],
            [
             0.7777777777777778,
             "#fb9f3a"
            ],
            [
             0.8888888888888888,
             "#fdca26"
            ],
            [
             1,
             "#f0f921"
            ]
           ],
           "sequentialminus": [
            [
             0,
             "#0d0887"
            ],
            [
             0.1111111111111111,
             "#46039f"
            ],
            [
             0.2222222222222222,
             "#7201a8"
            ],
            [
             0.3333333333333333,
             "#9c179e"
            ],
            [
             0.4444444444444444,
             "#bd3786"
            ],
            [
             0.5555555555555556,
             "#d8576b"
            ],
            [
             0.6666666666666666,
             "#ed7953"
            ],
            [
             0.7777777777777778,
             "#fb9f3a"
            ],
            [
             0.8888888888888888,
             "#fdca26"
            ],
            [
             1,
             "#f0f921"
            ]
           ]
          },
          "colorway": [
           "#636efa",
           "#EF553B",
           "#00cc96",
           "#ab63fa",
           "#FFA15A",
           "#19d3f3",
           "#FF6692",
           "#B6E880",
           "#FF97FF",
           "#FECB52"
          ],
          "font": {
           "color": "#2a3f5f"
          },
          "geo": {
           "bgcolor": "white",
           "lakecolor": "white",
           "landcolor": "#E5ECF6",
           "showlakes": true,
           "showland": true,
           "subunitcolor": "white"
          },
          "hoverlabel": {
           "align": "left"
          },
          "hovermode": "closest",
          "mapbox": {
           "style": "light"
          },
          "paper_bgcolor": "white",
          "plot_bgcolor": "#E5ECF6",
          "polar": {
           "angularaxis": {
            "gridcolor": "white",
            "linecolor": "white",
            "ticks": ""
           },
           "bgcolor": "#E5ECF6",
           "radialaxis": {
            "gridcolor": "white",
            "linecolor": "white",
            "ticks": ""
           }
          },
          "scene": {
           "xaxis": {
            "backgroundcolor": "#E5ECF6",
            "gridcolor": "white",
            "gridwidth": 2,
            "linecolor": "white",
            "showbackground": true,
            "ticks": "",
            "zerolinecolor": "white"
           },
           "yaxis": {
            "backgroundcolor": "#E5ECF6",
            "gridcolor": "white",
            "gridwidth": 2,
            "linecolor": "white",
            "showbackground": true,
            "ticks": "",
            "zerolinecolor": "white"
           },
           "zaxis": {
            "backgroundcolor": "#E5ECF6",
            "gridcolor": "white",
            "gridwidth": 2,
            "linecolor": "white",
            "showbackground": true,
            "ticks": "",
            "zerolinecolor": "white"
           }
          },
          "shapedefaults": {
           "line": {
            "color": "#2a3f5f"
           }
          },
          "ternary": {
           "aaxis": {
            "gridcolor": "white",
            "linecolor": "white",
            "ticks": ""
           },
           "baxis": {
            "gridcolor": "white",
            "linecolor": "white",
            "ticks": ""
           },
           "bgcolor": "#E5ECF6",
           "caxis": {
            "gridcolor": "white",
            "linecolor": "white",
            "ticks": ""
           }
          },
          "title": {
           "x": 0.05
          },
          "xaxis": {
           "automargin": true,
           "gridcolor": "white",
           "linecolor": "white",
           "ticks": "",
           "title": {
            "standoff": 15
           },
           "zerolinecolor": "white",
           "zerolinewidth": 2
          },
          "yaxis": {
           "automargin": true,
           "gridcolor": "white",
           "linecolor": "white",
           "ticks": "",
           "title": {
            "standoff": 15
           },
           "zerolinecolor": "white",
           "zerolinewidth": 2
          }
         }
        },
        "title": {
         "text": "Module number 1"
        }
       }
      },
      "text/html": [
       "<div>\n",
       "        \n",
       "        \n",
       "            <div id=\"809d6bc3-80ff-4606-b9bb-904b80ef871f\" class=\"plotly-graph-div\" style=\"height:525px; width:100%;\"></div>\n",
       "            <script type=\"text/javascript\">\n",
       "                require([\"plotly\"], function(Plotly) {\n",
       "                    window.PLOTLYENV=window.PLOTLYENV || {};\n",
       "                    \n",
       "                if (document.getElementById(\"809d6bc3-80ff-4606-b9bb-904b80ef871f\")) {\n",
       "                    Plotly.newPlot(\n",
       "                        '809d6bc3-80ff-4606-b9bb-904b80ef871f',\n",
       "                        [{\"mode\": \"lines+markers\", \"name\": \"Pulse index: 0\", \"type\": \"scatter\", \"x\": [6381770, 6381771, 6381772, 6381773, 6381774, 6381775, 6381776, 6381777, 6381778, 6381779, 6381780, 6381781, 6381782, 6381783, 6381784, 6381785, 6381786, 6381787, 6381788, 6381789, 6381790, 6381791], \"y\": [-0.03764355555176735, 0.19519978761672974, -0.0427229069173336, -0.05726267397403717, 0.4441256821155548, 0.4985819160938263, -0.007712170016020536, 0.018348369747400284, -0.2605309784412384, -0.11439619213342667, -0.009376811794936657, -0.10965751856565475, -0.11625082790851593, -0.12771376967430115, -0.05434476211667061, -0.0461001843214035, 0.009104008786380291, -0.01467340998351574, 0.10606619715690613, -0.2573687434196472, 0.01114440243691206, 0.19853870570659637]}, {\"mode\": \"lines+markers\", \"name\": \"Pulse index: 1\", \"type\": \"scatter\", \"x\": [6381770, 6381771, 6381772, 6381773, 6381774, 6381775, 6381776, 6381777, 6381778, 6381779, 6381780, 6381781, 6381782, 6381783, 6381784, 6381785, 6381786, 6381787, 6381788, 6381789, 6381790, 6381791], \"y\": [-0.2929076552391052, -0.0010299253044649959, -0.06928490847349167, -0.14109660685062408, -0.005520829930901527, -0.021229684352874756, 0.2635324001312256, -0.11045639961957932, 0.08459902554750443, 0.14852367341518402, 0.08555334806442261, 0.0007541560917161405, -0.09369713813066483, 0.08381220698356628, -0.10746932029724121, 0.00295164599083364, 0.020517831668257713, 0.4514857232570648, 0.19799543917179108, 0.04135295748710632, -0.4637121856212616, 0.06124031916260719]}, {\"mode\": \"lines+markers\", \"name\": \"Pulse index: 2\", \"type\": \"scatter\", \"x\": [6381770, 6381771, 6381772, 6381773, 6381774, 6381775, 6381776, 6381777, 6381778, 6381779, 6381780, 6381781, 6381782, 6381783, 6381784, 6381785, 6381786, 6381787, 6381788, 6381789, 6381790, 6381791], \"y\": [0.3249051868915558, -0.00813180673867464, -0.07151027023792267, -0.03139961510896683, 0.25333747267723083, 0.06000392884016037, 0.054700665175914764, -0.37719762325286865, 0.1104971170425415, 0.003481054911389947, -0.048085249960422516, -0.23201636970043182, -0.38506948947906494, 0.034677088260650635, 2.105985164642334, 0.09412574768066406, null, 0.02823943831026554, -0.13324439525604248, -0.018634337931871414, 0.08356338739395142, 0.025409283116459846]}, {\"mode\": \"lines+markers\", \"name\": \"Pulse index: 3\", \"type\": \"scatter\", \"x\": [6381770, 6381771, 6381772, 6381773, 6381774, 6381775, 6381776, 6381777, 6381778, 6381779, 6381780, 6381781, 6381782, 6381783, 6381784, 6381785, 6381786, 6381787, 6381788, 6381789, 6381790, 6381791], \"y\": [-1.0478577613830566, -0.7493094801902771, -0.7684731483459473, -0.32128432393074036, -0.00979161262512207, 0.09662473946809769, 0.2390289306640625, -0.02451159432530403, 0.04457202926278114, 0.3435857892036438, 0.11632148921489716, -0.48653721809387207, -0.1270768791437149, -0.11149287968873978, -0.18225513398647308, -0.5570922493934631, -0.6041763424873352, 0.3334023058414459, 0.41460511088371277, 0.1380395144224167, -0.5638840198516846, -0.059213895350694656]}, {\"mode\": \"lines+markers\", \"name\": \"Pulse index: 4\", \"type\": \"scatter\", \"x\": [6381770, 6381771, 6381772, 6381773, 6381774, 6381775, 6381776, 6381777, 6381778, 6381779, 6381780, 6381781, 6381782, 6381783, 6381784, 6381785, 6381786, 6381787, 6381788, 6381789, 6381790, 6381791], \"y\": [-0.33430618047714233, -0.42579564452171326, -0.3262013792991638, -0.35349002480506897, 0.14112654328346252, 0.13988058269023895, 0.5921638607978821, 0.44348952174186707, 0.18915213644504547, 0.6489179730415344, 0.09415549039840698, -0.027947179973125458, -0.03127908706665039, 0.011530092917382717, 0.029325254261493683, -0.14213810861110687, -0.46001866459846497, -0.40688931941986084, -0.47980624437332153, -0.004477920476347208, 0.07345661520957947, 0.13165001571178436]}, {\"mode\": \"lines+markers\", \"name\": \"Pulse index: 5\", \"type\": \"scatter\", \"x\": [6381770, 6381771, 6381772, 6381773, 6381774, 6381775, 6381776, 6381777, 6381778, 6381779, 6381780, 6381781, 6381782, 6381783, 6381784, 6381785, 6381786, 6381787, 6381788, 6381789, 6381790, 6381791], \"y\": [-0.38162076473236084, -0.3487318754196167, -0.3902680575847626, 0.16032849252223969, 0.3416610062122345, 0.5446486473083496, 0.5969221591949463, 0.8372554183006287, 0.6749830842018127, 0.7167616486549377, 0.45113569498062134, 0.004757395014166832, -0.22623077034950256, 0.04704729840159416, 0.22036784887313843, -0.5408942699432373, -0.012216534465551376, 0.257098913192749, 0.3146498203277588, 0.2987300455570221, 0.27770161628723145, -0.06476933509111404]}, {\"mode\": \"lines+markers\", \"name\": \"Pulse index: 6\", \"type\": \"scatter\", \"x\": [6381770, 6381771, 6381772, 6381773, 6381774, 6381775, 6381776, 6381777, 6381778, 6381779, 6381780, 6381781, 6381782, 6381783, 6381784, 6381785, 6381786, 6381787, 6381788, 6381789, 6381790, 6381791], \"y\": [-0.4150068163871765, -0.5990928411483765, -0.33332955837249756, 0.1523279845714569, 0.12559261918067932, 0.5694218277931213, 0.7930442690849304, 0.0888938307762146, 0.14829403162002563, 0.22239485383033752, -0.11939229816198349, -0.10743436962366104, -0.530475914478302, -0.272128701210022, -0.22579173743724823, -0.5533537864685059, 0.051006220281124115, 0.10802478343248367, 0.13914230465888977, 0.010851201601326466, -0.32519447803497314, -0.04066626727581024]}, {\"mode\": \"lines+markers\", \"name\": \"Pulse index: 7\", \"type\": \"scatter\", \"x\": [6381770, 6381771, 6381772, 6381773, 6381774, 6381775, 6381776, 6381777, 6381778, 6381779, 6381780, 6381781, 6381782, 6381783, 6381784, 6381785, 6381786, 6381787, 6381788, 6381789, 6381790, 6381791], \"y\": [-0.20856307446956635, -0.47074538469314575, -0.40734830498695374, 0.2453138381242752, 0.27466514706611633, 0.7395907640457153, 0.5580209493637085, 0.5299826860427856, 0.0807432010769844, 0.3957462012767792, 0.014349651522934437, -0.17196246981620789, -0.20581379532814026, 0.00701453723013401, -0.2751013934612274, -0.3166258931159973, -0.3423982560634613, 0.0677500069141388, -0.0033382319379597902, -0.05445026233792305, -0.29583701491355896, 0.5462586879730225]}, {\"mode\": \"lines+markers\", \"name\": \"Pulse index: 8\", \"type\": \"scatter\", \"x\": [6381770, 6381771, 6381772, 6381773, 6381774, 6381775, 6381776, 6381777, 6381778, 6381779, 6381780, 6381781, 6381782, 6381783, 6381784, 6381785, 6381786, 6381787, 6381788, 6381789, 6381790, 6381791], \"y\": [-0.20336823165416718, -0.15199211239814758, -0.23087181150913239, -0.20365822315216064, 0.0514829121530056, 0.39940667152404785, 0.3617638349533081, 0.3650915026664734, 0.2724071741104126, 0.2911071479320526, 0.04024283215403557, 0.09113703668117523, -0.03346434608101845, 0.2719736397266388, -0.22572651505470276, -0.21387769281864166, -0.2108757197856903, 0.01730320230126381, -0.2636174261569977, -0.40531787276268005, 0.6450138688087463, 0.4119689464569092]}, {\"mode\": \"lines+markers\", \"name\": \"Pulse index: 9\", \"type\": \"scatter\", \"x\": [6381770, 6381771, 6381772, 6381773, 6381774, 6381775, 6381776, 6381777, 6381778, 6381779, 6381780, 6381781, 6381782, 6381783, 6381784, 6381785, 6381786, 6381787, 6381788, 6381789, 6381790, 6381791], \"y\": [-0.9414775371551514, -0.647752046585083, -0.6726409196853638, -0.2706790268421173, -0.0033824844285845757, 0.12151683866977692, 0.02306772954761982, -0.26288628578186035, -0.21514248847961426, -0.14529289305210114, -0.035925738513469696, -0.3993096649646759, -0.5917840003967285, -0.7936002612113953, -0.5548201203346252, -0.9622990489006042, 0.04000011831521988, 0.29149043560028076, 0.3427943289279938, 0.22205208241939545, -0.614408552646637, -0.2251945436000824]}, {\"mode\": \"lines+markers\", \"name\": \"Pulse index: 10\", \"type\": \"scatter\", \"x\": [6381770, 6381771, 6381772, 6381773, 6381774, 6381775, 6381776, 6381777, 6381778, 6381779, 6381780, 6381781, 6381782, 6381783, 6381784, 6381785, 6381786, 6381787, 6381788, 6381789, 6381790, 6381791], \"y\": [-0.7047516107559204, -0.2072380781173706, -0.3147759437561035, 0.12841840088367462, 0.11832200735807419, 0.1369519680738449, 0.7388068437576294, 0.1620258390903473, 0.23701481521129608, 0.19865547120571136, -0.2637810707092285, -0.02911367639899254, 0.2681482434272766, 0.181002676486969, -0.01284858025610447, -0.028290748596191406, -0.14256033301353455, -0.06125069782137871, 0.02157294936478138, -0.041645411401987076, 0.07296516746282578, 0.07338017225265503]}],\n",
       "                        {\"template\": {\"data\": {\"bar\": [{\"error_x\": {\"color\": \"#2a3f5f\"}, \"error_y\": {\"color\": \"#2a3f5f\"}, \"marker\": {\"line\": {\"color\": \"#E5ECF6\", \"width\": 0.5}}, \"type\": \"bar\"}], \"barpolar\": [{\"marker\": {\"line\": {\"color\": \"#E5ECF6\", \"width\": 0.5}}, \"type\": \"barpolar\"}], \"carpet\": [{\"aaxis\": {\"endlinecolor\": \"#2a3f5f\", \"gridcolor\": \"white\", \"linecolor\": \"white\", \"minorgridcolor\": \"white\", \"startlinecolor\": \"#2a3f5f\"}, \"baxis\": {\"endlinecolor\": \"#2a3f5f\", \"gridcolor\": \"white\", \"linecolor\": \"white\", \"minorgridcolor\": \"white\", \"startlinecolor\": \"#2a3f5f\"}, \"type\": \"carpet\"}], \"choropleth\": [{\"colorbar\": {\"outlinewidth\": 0, \"ticks\": \"\"}, \"type\": \"choropleth\"}], \"contour\": [{\"colorbar\": {\"outlinewidth\": 0, \"ticks\": \"\"}, \"colorscale\": [[0.0, \"#0d0887\"], [0.1111111111111111, \"#46039f\"], [0.2222222222222222, \"#7201a8\"], [0.3333333333333333, \"#9c179e\"], [0.4444444444444444, \"#bd3786\"], [0.5555555555555556, \"#d8576b\"], [0.6666666666666666, \"#ed7953\"], [0.7777777777777778, \"#fb9f3a\"], [0.8888888888888888, \"#fdca26\"], [1.0, \"#f0f921\"]], \"type\": \"contour\"}], \"contourcarpet\": [{\"colorbar\": {\"outlinewidth\": 0, \"ticks\": \"\"}, \"type\": \"contourcarpet\"}], \"heatmap\": [{\"colorbar\": {\"outlinewidth\": 0, \"ticks\": \"\"}, \"colorscale\": [[0.0, \"#0d0887\"], [0.1111111111111111, \"#46039f\"], [0.2222222222222222, \"#7201a8\"], [0.3333333333333333, \"#9c179e\"], [0.4444444444444444, \"#bd3786\"], [0.5555555555555556, \"#d8576b\"], [0.6666666666666666, \"#ed7953\"], [0.7777777777777778, \"#fb9f3a\"], [0.8888888888888888, \"#fdca26\"], [1.0, \"#f0f921\"]], \"type\": \"heatmap\"}], \"heatmapgl\": [{\"colorbar\": {\"outlinewidth\": 0, \"ticks\": \"\"}, \"colorscale\": [[0.0, \"#0d0887\"], [0.1111111111111111, \"#46039f\"], [0.2222222222222222, \"#7201a8\"], [0.3333333333333333, \"#9c179e\"], [0.4444444444444444, \"#bd3786\"], [0.5555555555555556, \"#d8576b\"], [0.6666666666666666, \"#ed7953\"], [0.7777777777777778, \"#fb9f3a\"], [0.8888888888888888, \"#fdca26\"], [1.0, \"#f0f921\"]], \"type\": \"heatmapgl\"}], \"histogram\": [{\"marker\": {\"colorbar\": {\"outlinewidth\": 0, \"ticks\": \"\"}}, \"type\": \"histogram\"}], \"histogram2d\": [{\"colorbar\": {\"outlinewidth\": 0, \"ticks\": \"\"}, \"colorscale\": [[0.0, \"#0d0887\"], [0.1111111111111111, \"#46039f\"], [0.2222222222222222, \"#7201a8\"], [0.3333333333333333, \"#9c179e\"], [0.4444444444444444, \"#bd3786\"], [0.5555555555555556, \"#d8576b\"], [0.6666666666666666, \"#ed7953\"], [0.7777777777777778, \"#fb9f3a\"], [0.8888888888888888, \"#fdca26\"], [1.0, \"#f0f921\"]], \"type\": \"histogram2d\"}], \"histogram2dcontour\": [{\"colorbar\": {\"outlinewidth\": 0, \"ticks\": \"\"}, \"colorscale\": [[0.0, \"#0d0887\"], [0.1111111111111111, \"#46039f\"], [0.2222222222222222, \"#7201a8\"], [0.3333333333333333, \"#9c179e\"], [0.4444444444444444, \"#bd3786\"], [0.5555555555555556, \"#d8576b\"], [0.6666666666666666, \"#ed7953\"], [0.7777777777777778, \"#fb9f3a\"], [0.8888888888888888, \"#fdca26\"], [1.0, \"#f0f921\"]], \"type\": \"histogram2dcontour\"}], \"mesh3d\": [{\"colorbar\": {\"outlinewidth\": 0, \"ticks\": \"\"}, \"type\": \"mesh3d\"}], \"parcoords\": [{\"line\": {\"colorbar\": {\"outlinewidth\": 0, \"ticks\": \"\"}}, \"type\": \"parcoords\"}], \"pie\": [{\"automargin\": true, \"type\": \"pie\"}], \"scatter\": [{\"marker\": {\"colorbar\": {\"outlinewidth\": 0, \"ticks\": \"\"}}, \"type\": \"scatter\"}], \"scatter3d\": [{\"line\": {\"colorbar\": {\"outlinewidth\": 0, \"ticks\": \"\"}}, \"marker\": {\"colorbar\": {\"outlinewidth\": 0, \"ticks\": \"\"}}, \"type\": \"scatter3d\"}], \"scattercarpet\": [{\"marker\": {\"colorbar\": {\"outlinewidth\": 0, \"ticks\": \"\"}}, \"type\": \"scattercarpet\"}], \"scattergeo\": [{\"marker\": {\"colorbar\": {\"outlinewidth\": 0, \"ticks\": \"\"}}, \"type\": \"scattergeo\"}], \"scattergl\": [{\"marker\": {\"colorbar\": {\"outlinewidth\": 0, \"ticks\": \"\"}}, \"type\": \"scattergl\"}], \"scattermapbox\": [{\"marker\": {\"colorbar\": {\"outlinewidth\": 0, \"ticks\": \"\"}}, \"type\": \"scattermapbox\"}], \"scatterpolar\": [{\"marker\": {\"colorbar\": {\"outlinewidth\": 0, \"ticks\": \"\"}}, \"type\": \"scatterpolar\"}], \"scatterpolargl\": [{\"marker\": {\"colorbar\": {\"outlinewidth\": 0, \"ticks\": \"\"}}, \"type\": \"scatterpolargl\"}], \"scatterternary\": [{\"marker\": {\"colorbar\": {\"outlinewidth\": 0, \"ticks\": \"\"}}, \"type\": \"scatterternary\"}], \"surface\": [{\"colorbar\": {\"outlinewidth\": 0, \"ticks\": \"\"}, \"colorscale\": [[0.0, \"#0d0887\"], [0.1111111111111111, \"#46039f\"], [0.2222222222222222, \"#7201a8\"], [0.3333333333333333, \"#9c179e\"], [0.4444444444444444, \"#bd3786\"], [0.5555555555555556, \"#d8576b\"], [0.6666666666666666, \"#ed7953\"], [0.7777777777777778, \"#fb9f3a\"], [0.8888888888888888, \"#fdca26\"], [1.0, \"#f0f921\"]], \"type\": \"surface\"}], \"table\": [{\"cells\": {\"fill\": {\"color\": \"#EBF0F8\"}, \"line\": {\"color\": \"white\"}}, \"header\": {\"fill\": {\"color\": \"#C8D4E3\"}, \"line\": {\"color\": \"white\"}}, \"type\": \"table\"}]}, \"layout\": {\"annotationdefaults\": {\"arrowcolor\": \"#2a3f5f\", \"arrowhead\": 0, \"arrowwidth\": 1}, \"coloraxis\": {\"colorbar\": {\"outlinewidth\": 0, \"ticks\": \"\"}}, \"colorscale\": {\"diverging\": [[0, \"#8e0152\"], [0.1, \"#c51b7d\"], [0.2, \"#de77ae\"], [0.3, \"#f1b6da\"], [0.4, \"#fde0ef\"], [0.5, \"#f7f7f7\"], [0.6, \"#e6f5d0\"], [0.7, \"#b8e186\"], [0.8, \"#7fbc41\"], [0.9, \"#4d9221\"], [1, \"#276419\"]], \"sequential\": [[0.0, \"#0d0887\"], [0.1111111111111111, \"#46039f\"], [0.2222222222222222, \"#7201a8\"], [0.3333333333333333, \"#9c179e\"], [0.4444444444444444, \"#bd3786\"], [0.5555555555555556, \"#d8576b\"], [0.6666666666666666, \"#ed7953\"], [0.7777777777777778, \"#fb9f3a\"], [0.8888888888888888, \"#fdca26\"], [1.0, \"#f0f921\"]], \"sequentialminus\": [[0.0, \"#0d0887\"], [0.1111111111111111, \"#46039f\"], [0.2222222222222222, \"#7201a8\"], [0.3333333333333333, \"#9c179e\"], [0.4444444444444444, \"#bd3786\"], [0.5555555555555556, \"#d8576b\"], [0.6666666666666666, \"#ed7953\"], [0.7777777777777778, \"#fb9f3a\"], [0.8888888888888888, \"#fdca26\"], [1.0, \"#f0f921\"]]}, \"colorway\": [\"#636efa\", \"#EF553B\", \"#00cc96\", \"#ab63fa\", \"#FFA15A\", \"#19d3f3\", \"#FF6692\", \"#B6E880\", \"#FF97FF\", \"#FECB52\"], \"font\": {\"color\": \"#2a3f5f\"}, \"geo\": {\"bgcolor\": \"white\", \"lakecolor\": \"white\", \"landcolor\": \"#E5ECF6\", \"showlakes\": true, \"showland\": true, \"subunitcolor\": \"white\"}, \"hoverlabel\": {\"align\": \"left\"}, \"hovermode\": \"closest\", \"mapbox\": {\"style\": \"light\"}, \"paper_bgcolor\": \"white\", \"plot_bgcolor\": \"#E5ECF6\", \"polar\": {\"angularaxis\": {\"gridcolor\": \"white\", \"linecolor\": \"white\", \"ticks\": \"\"}, \"bgcolor\": \"#E5ECF6\", \"radialaxis\": {\"gridcolor\": \"white\", \"linecolor\": \"white\", \"ticks\": \"\"}}, \"scene\": {\"xaxis\": {\"backgroundcolor\": \"#E5ECF6\", \"gridcolor\": \"white\", \"gridwidth\": 2, \"linecolor\": \"white\", \"showbackground\": true, \"ticks\": \"\", \"zerolinecolor\": \"white\"}, \"yaxis\": {\"backgroundcolor\": \"#E5ECF6\", \"gridcolor\": \"white\", \"gridwidth\": 2, \"linecolor\": \"white\", \"showbackground\": true, \"ticks\": \"\", \"zerolinecolor\": \"white\"}, \"zaxis\": {\"backgroundcolor\": \"#E5ECF6\", \"gridcolor\": \"white\", \"gridwidth\": 2, \"linecolor\": \"white\", \"showbackground\": true, \"ticks\": \"\", \"zerolinecolor\": \"white\"}}, \"shapedefaults\": {\"line\": {\"color\": \"#2a3f5f\"}}, \"ternary\": {\"aaxis\": {\"gridcolor\": \"white\", \"linecolor\": \"white\", \"ticks\": \"\"}, \"baxis\": {\"gridcolor\": \"white\", \"linecolor\": \"white\", \"ticks\": \"\"}, \"bgcolor\": \"#E5ECF6\", \"caxis\": {\"gridcolor\": \"white\", \"linecolor\": \"white\", \"ticks\": \"\"}}, \"title\": {\"x\": 0.05}, \"xaxis\": {\"automargin\": true, \"gridcolor\": \"white\", \"linecolor\": \"white\", \"ticks\": \"\", \"title\": {\"standoff\": 15}, \"zerolinecolor\": \"white\", \"zerolinewidth\": 2}, \"yaxis\": {\"automargin\": true, \"gridcolor\": \"white\", \"linecolor\": \"white\", \"ticks\": \"\", \"title\": {\"standoff\": 15}, \"zerolinecolor\": \"white\", \"zerolinewidth\": 2}}}, \"title\": {\"text\": \"Module number 1\"}},\n",
       "                        {\"responsive\": true}\n",
       "                    ).then(function(){\n",
       "                            \n",
       "var gd = document.getElementById('809d6bc3-80ff-4606-b9bb-904b80ef871f');\n",
       "var x = new MutationObserver(function (mutations, observer) {{\n",
       "        var display = window.getComputedStyle(gd).display;\n",
       "        if (!display || display === 'none') {{\n",
       "            console.log([gd, 'removed!']);\n",
       "            Plotly.purge(gd);\n",
       "            observer.disconnect();\n",
       "        }}\n",
       "}});\n",
       "\n",
       "// Listen for the removal of the full notebook cells\n",
       "var notebookContainer = gd.closest('#notebook-container');\n",
       "if (notebookContainer) {{\n",
       "    x.observe(notebookContainer, {childList: true});\n",
       "}}\n",
       "\n",
       "// Listen for the clearing of the current output cell\n",
       "var outputEl = gd.closest('.output');\n",
       "if (outputEl) {{\n",
       "    x.observe(outputEl, {childList: true});\n",
       "}}\n",
       "\n",
       "                        })\n",
       "                };\n",
       "                });\n",
       "            </script>\n",
       "        </div>"
      ]
     },
     "metadata": {},
     "output_type": "display_data"
    },
    {
     "data": {
      "application/vnd.plotly.v1+json": {
       "config": {
        "plotlyServerURL": "https://plot.ly"
       },
       "data": [
        {
         "mode": "lines+markers",
         "name": "Pulse index: 0",
         "type": "scatter",
         "x": [
          6381770,
          6381771,
          6381772,
          6381773,
          6381774,
          6381775,
          6381776,
          6381777,
          6381778,
          6381779,
          6381780,
          6381781,
          6381782,
          6381783,
          6381784,
          6381785,
          6381786,
          6381787,
          6381788,
          6381789,
          6381790,
          6381791
         ],
         "y": [
          -0.03997129946947098,
          0.0687083974480629,
          -0.15888500213623047,
          -0.0659094750881195,
          0.7919102907180786,
          0.23991630971431732,
          -0.23243385553359985,
          -0.01185200922191143,
          0.1537952423095703,
          -0.24522870779037476,
          -0.04975498467683792,
          -0.10203342139720917,
          -0.05273761600255966,
          -0.1392623633146286,
          -0.039992257952690125,
          -0.03913642838597298,
          -0.40017184615135193,
          0.0968167781829834,
          0.028968965634703636,
          0.02667170763015747,
          0.03482949733734131,
          0.056873567402362823
         ]
        },
        {
         "mode": "lines+markers",
         "name": "Pulse index: 1",
         "type": "scatter",
         "x": [
          6381770,
          6381771,
          6381772,
          6381773,
          6381774,
          6381775,
          6381776,
          6381777,
          6381778,
          6381779,
          6381780,
          6381781,
          6381782,
          6381783,
          6381784,
          6381785,
          6381786,
          6381787,
          6381788,
          6381789,
          6381790,
          6381791
         ],
         "y": [
          -0.1766636073589325,
          -0.27470284700393677,
          -0.010401931591331959,
          0.043985515832901,
          0.04094674438238144,
          -0.0404200479388237,
          0.23085996508598328,
          -0.14154182374477386,
          -0.1160174310207367,
          0.017209501937031746,
          -0.05175306275486946,
          -0.02552132122218609,
          0.03452792018651962,
          -0.04130345210433006,
          -0.11419677734375,
          -0.07208149135112762,
          0.08903183788061142,
          -0.6891760230064392,
          0.00022064073709771037,
          0.07777996361255646,
          -0.23094871640205383,
          -0.04816332086920738
         ]
        },
        {
         "mode": "lines+markers",
         "name": "Pulse index: 2",
         "type": "scatter",
         "x": [
          6381770,
          6381771,
          6381772,
          6381773,
          6381774,
          6381775,
          6381776,
          6381777,
          6381778,
          6381779,
          6381780,
          6381781,
          6381782,
          6381783,
          6381784,
          6381785,
          6381786,
          6381787,
          6381788,
          6381789,
          6381790,
          6381791
         ],
         "y": [
          0.6773791909217834,
          0.05782859027385712,
          -0.0618882030248642,
          0.27847054600715637,
          -0.1935082972049713,
          0.3318735659122467,
          -0.09357165545225143,
          0.07351702451705933,
          0.02127370610833168,
          -0.059872597455978394,
          -0.04135890677571297,
          0.07186976075172424,
          -0.3202100396156311,
          0.024415789172053337,
          1.0465798377990723,
          0.09728765487670898,
          null,
          0.03635811805725098,
          -0.09395106136798859,
          0.0035946140997111797,
          0.1458023190498352,
          -0.042240213602781296
         ]
        },
        {
         "mode": "lines+markers",
         "name": "Pulse index: 3",
         "type": "scatter",
         "x": [
          6381770,
          6381771,
          6381772,
          6381773,
          6381774,
          6381775,
          6381776,
          6381777,
          6381778,
          6381779,
          6381780,
          6381781,
          6381782,
          6381783,
          6381784,
          6381785,
          6381786,
          6381787,
          6381788,
          6381789,
          6381790,
          6381791
         ],
         "y": [
          -0.8177952170372009,
          -0.8215533494949341,
          -0.8540182709693909,
          -0.9163567423820496,
          -0.7932252883911133,
          -0.49974551796913147,
          -0.6683796644210815,
          -0.7889197468757629,
          -0.6227144002914429,
          -0.5270440578460693,
          -0.6135504245758057,
          -0.783304750919342,
          -0.7004212737083435,
          -0.35986441373825073,
          -0.6764693260192871,
          -0.9640217423439026,
          -0.7269147634506226,
          -0.18956977128982544,
          0.28289058804512024,
          -0.2847626507282257,
          -0.7949524521827698,
          -0.7774104475975037
         ]
        },
        {
         "mode": "lines+markers",
         "name": "Pulse index: 4",
         "type": "scatter",
         "x": [
          6381770,
          6381771,
          6381772,
          6381773,
          6381774,
          6381775,
          6381776,
          6381777,
          6381778,
          6381779,
          6381780,
          6381781,
          6381782,
          6381783,
          6381784,
          6381785,
          6381786,
          6381787,
          6381788,
          6381789,
          6381790,
          6381791
         ],
         "y": [
          -0.463003933429718,
          -0.39869004487991333,
          -0.2804686427116394,
          -0.6736375689506531,
          -0.5037479400634766,
          -0.3398720622062683,
          -0.13021226227283478,
          -0.20939478278160095,
          -0.1370440423488617,
          0.09052381664514542,
          -0.2491932064294815,
          -0.26517778635025024,
          -0.022374115884304047,
          -0.15294907987117767,
          -0.4087488055229187,
          -0.37693291902542114,
          -0.42262378334999084,
          -0.28036123514175415,
          -0.21857959032058716,
          -0.1863727569580078,
          -0.14728377759456635,
          -0.47380346059799194
         ]
        },
        {
         "mode": "lines+markers",
         "name": "Pulse index: 5",
         "type": "scatter",
         "x": [
          6381770,
          6381771,
          6381772,
          6381773,
          6381774,
          6381775,
          6381776,
          6381777,
          6381778,
          6381779,
          6381780,
          6381781,
          6381782,
          6381783,
          6381784,
          6381785,
          6381786,
          6381787,
          6381788,
          6381789,
          6381790,
          6381791
         ],
         "y": [
          -0.2564453184604645,
          -0.753790557384491,
          -0.5277684330940247,
          -0.20863381028175354,
          -0.5347779989242554,
          0.05402759462594986,
          -0.3109000325202942,
          -0.10873941332101822,
          0.027926262468099594,
          -0.09368812292814255,
          -0.05008591711521149,
          -0.43622809648513794,
          -0.24475811421871185,
          -0.30175819993019104,
          -0.09833572059869766,
          -0.8016952276229858,
          -0.4522470235824585,
          -0.05689741298556328,
          0.0822942927479744,
          -0.2704085409641266,
          0.07810132950544357,
          -0.5669826865196228
         ]
        },
        {
         "mode": "lines+markers",
         "name": "Pulse index: 6",
         "type": "scatter",
         "x": [
          6381770,
          6381771,
          6381772,
          6381773,
          6381774,
          6381775,
          6381776,
          6381777,
          6381778,
          6381779,
          6381780,
          6381781,
          6381782,
          6381783,
          6381784,
          6381785,
          6381786,
          6381787,
          6381788,
          6381789,
          6381790,
          6381791
         ],
         "y": [
          -0.14520643651485443,
          -0.43358561396598816,
          -0.21015459299087524,
          -0.15742602944374084,
          0.0802946463227272,
          -0.19079525768756866,
          0.13468272984027863,
          -0.7031475901603699,
          -0.6117304563522339,
          -0.2760997414588928,
          -0.1874127835035324,
          -0.3734389543533325,
          -0.7585391402244568,
          -0.3851524293422699,
          -0.7903916239738464,
          -0.9162551760673523,
          -0.3403404653072357,
          -0.042943574488162994,
          0.08752260357141495,
          -0.6205183267593384,
          -0.728385329246521,
          -0.506413996219635
         ]
        },
        {
         "mode": "lines+markers",
         "name": "Pulse index: 7",
         "type": "scatter",
         "x": [
          6381770,
          6381771,
          6381772,
          6381773,
          6381774,
          6381775,
          6381776,
          6381777,
          6381778,
          6381779,
          6381780,
          6381781,
          6381782,
          6381783,
          6381784,
          6381785,
          6381786,
          6381787,
          6381788,
          6381789,
          6381790,
          6381791
         ],
         "y": [
          -0.28210556507110596,
          -0.5443070530891418,
          -0.2640734910964966,
          0.01290271244943142,
          -0.18959909677505493,
          0.17169633507728577,
          0.05323785915970802,
          -0.24881601333618164,
          -0.3211192190647125,
          -0.11740542203187943,
          -0.2753438353538513,
          -0.29900097846984863,
          -0.04937504231929779,
          -0.11669191718101501,
          -0.3199804425239563,
          -0.335357666015625,
          -0.3585790991783142,
          0.05382688343524933,
          0.2597055435180664,
          -0.02982800453901291,
          -0.6222803592681885,
          -0.3064759373664856
         ]
        },
        {
         "mode": "lines+markers",
         "name": "Pulse index: 8",
         "type": "scatter",
         "x": [
          6381770,
          6381771,
          6381772,
          6381773,
          6381774,
          6381775,
          6381776,
          6381777,
          6381778,
          6381779,
          6381780,
          6381781,
          6381782,
          6381783,
          6381784,
          6381785,
          6381786,
          6381787,
          6381788,
          6381789,
          6381790,
          6381791
         ],
         "y": [
          0.03185661509633064,
          0.1406213790178299,
          0.35894957184791565,
          -0.012543132528662682,
          -0.4319363832473755,
          -0.10362152010202408,
          -0.12973730266094208,
          -0.051851700991392136,
          -0.33338627219200134,
          0.06605925410985947,
          0.08515055477619171,
          -0.10961898416280746,
          -0.23129495978355408,
          0.5126695036888123,
          -0.23150119185447693,
          -0.4037785232067108,
          -0.10731180012226105,
          0.021188709884881973,
          -0.09079241752624512,
          -0.2925315201282501,
          0.376789927482605,
          0.26117005944252014
         ]
        },
        {
         "mode": "lines+markers",
         "name": "Pulse index: 9",
         "type": "scatter",
         "x": [
          6381770,
          6381771,
          6381772,
          6381773,
          6381774,
          6381775,
          6381776,
          6381777,
          6381778,
          6381779,
          6381780,
          6381781,
          6381782,
          6381783,
          6381784,
          6381785,
          6381786,
          6381787,
          6381788,
          6381789,
          6381790,
          6381791
         ],
         "y": [
          -0.7923605442047119,
          -0.6065943837165833,
          -0.5907788872718811,
          -0.3118499517440796,
          -0.3072773516178131,
          -0.3923655152320862,
          -0.3019067049026489,
          -0.5808053612709045,
          -0.7856888175010681,
          -0.5752060413360596,
          -0.4266487658023834,
          -0.6796035766601562,
          -0.3457208275794983,
          -0.5772411227226257,
          -0.803318202495575,
          -1.2517656087875366,
          0.028763990849256516,
          -0.07056095451116562,
          0.4943850040435791,
          -0.1981930434703827,
          -0.8103037476539612,
          -0.635330319404602
         ]
        },
        {
         "mode": "lines+markers",
         "name": "Pulse index: 10",
         "type": "scatter",
         "x": [
          6381770,
          6381771,
          6381772,
          6381773,
          6381774,
          6381775,
          6381776,
          6381777,
          6381778,
          6381779,
          6381780,
          6381781,
          6381782,
          6381783,
          6381784,
          6381785,
          6381786,
          6381787,
          6381788,
          6381789,
          6381790,
          6381791
         ],
         "y": [
          -0.67916339635849,
          -0.15940473973751068,
          -0.4825977683067322,
          -0.3125511109828949,
          -0.36693844199180603,
          -0.6634413003921509,
          -0.19649265706539154,
          -0.47651737928390503,
          -0.46370169520378113,
          -0.42446213960647583,
          -0.5578202605247498,
          -0.3971283733844757,
          0.10923194140195847,
          -0.13853667676448822,
          -0.3453766703605652,
          -0.41565293073654175,
          -0.3618077039718628,
          -0.222382590174675,
          -0.11689794808626175,
          -0.3348004221916199,
          -0.2992624342441559,
          -0.8022443652153015
         ]
        }
       ],
       "layout": {
        "template": {
         "data": {
          "bar": [
           {
            "error_x": {
             "color": "#2a3f5f"
            },
            "error_y": {
             "color": "#2a3f5f"
            },
            "marker": {
             "line": {
              "color": "#E5ECF6",
              "width": 0.5
             }
            },
            "type": "bar"
           }
          ],
          "barpolar": [
           {
            "marker": {
             "line": {
              "color": "#E5ECF6",
              "width": 0.5
             }
            },
            "type": "barpolar"
           }
          ],
          "carpet": [
           {
            "aaxis": {
             "endlinecolor": "#2a3f5f",
             "gridcolor": "white",
             "linecolor": "white",
             "minorgridcolor": "white",
             "startlinecolor": "#2a3f5f"
            },
            "baxis": {
             "endlinecolor": "#2a3f5f",
             "gridcolor": "white",
             "linecolor": "white",
             "minorgridcolor": "white",
             "startlinecolor": "#2a3f5f"
            },
            "type": "carpet"
           }
          ],
          "choropleth": [
           {
            "colorbar": {
             "outlinewidth": 0,
             "ticks": ""
            },
            "type": "choropleth"
           }
          ],
          "contour": [
           {
            "colorbar": {
             "outlinewidth": 0,
             "ticks": ""
            },
            "colorscale": [
             [
              0,
              "#0d0887"
             ],
             [
              0.1111111111111111,
              "#46039f"
             ],
             [
              0.2222222222222222,
              "#7201a8"
             ],
             [
              0.3333333333333333,
              "#9c179e"
             ],
             [
              0.4444444444444444,
              "#bd3786"
             ],
             [
              0.5555555555555556,
              "#d8576b"
             ],
             [
              0.6666666666666666,
              "#ed7953"
             ],
             [
              0.7777777777777778,
              "#fb9f3a"
             ],
             [
              0.8888888888888888,
              "#fdca26"
             ],
             [
              1,
              "#f0f921"
             ]
            ],
            "type": "contour"
           }
          ],
          "contourcarpet": [
           {
            "colorbar": {
             "outlinewidth": 0,
             "ticks": ""
            },
            "type": "contourcarpet"
           }
          ],
          "heatmap": [
           {
            "colorbar": {
             "outlinewidth": 0,
             "ticks": ""
            },
            "colorscale": [
             [
              0,
              "#0d0887"
             ],
             [
              0.1111111111111111,
              "#46039f"
             ],
             [
              0.2222222222222222,
              "#7201a8"
             ],
             [
              0.3333333333333333,
              "#9c179e"
             ],
             [
              0.4444444444444444,
              "#bd3786"
             ],
             [
              0.5555555555555556,
              "#d8576b"
             ],
             [
              0.6666666666666666,
              "#ed7953"
             ],
             [
              0.7777777777777778,
              "#fb9f3a"
             ],
             [
              0.8888888888888888,
              "#fdca26"
             ],
             [
              1,
              "#f0f921"
             ]
            ],
            "type": "heatmap"
           }
          ],
          "heatmapgl": [
           {
            "colorbar": {
             "outlinewidth": 0,
             "ticks": ""
            },
            "colorscale": [
             [
              0,
              "#0d0887"
             ],
             [
              0.1111111111111111,
              "#46039f"
             ],
             [
              0.2222222222222222,
              "#7201a8"
             ],
             [
              0.3333333333333333,
              "#9c179e"
             ],
             [
              0.4444444444444444,
              "#bd3786"
             ],
             [
              0.5555555555555556,
              "#d8576b"
             ],
             [
              0.6666666666666666,
              "#ed7953"
             ],
             [
              0.7777777777777778,
              "#fb9f3a"
             ],
             [
              0.8888888888888888,
              "#fdca26"
             ],
             [
              1,
              "#f0f921"
             ]
            ],
            "type": "heatmapgl"
           }
          ],
          "histogram": [
           {
            "marker": {
             "colorbar": {
              "outlinewidth": 0,
              "ticks": ""
             }
            },
            "type": "histogram"
           }
          ],
          "histogram2d": [
           {
            "colorbar": {
             "outlinewidth": 0,
             "ticks": ""
            },
            "colorscale": [
             [
              0,
              "#0d0887"
             ],
             [
              0.1111111111111111,
              "#46039f"
             ],
             [
              0.2222222222222222,
              "#7201a8"
             ],
             [
              0.3333333333333333,
              "#9c179e"
             ],
             [
              0.4444444444444444,
              "#bd3786"
             ],
             [
              0.5555555555555556,
              "#d8576b"
             ],
             [
              0.6666666666666666,
              "#ed7953"
             ],
             [
              0.7777777777777778,
              "#fb9f3a"
             ],
             [
              0.8888888888888888,
              "#fdca26"
             ],
             [
              1,
              "#f0f921"
             ]
            ],
            "type": "histogram2d"
           }
          ],
          "histogram2dcontour": [
           {
            "colorbar": {
             "outlinewidth": 0,
             "ticks": ""
            },
            "colorscale": [
             [
              0,
              "#0d0887"
             ],
             [
              0.1111111111111111,
              "#46039f"
             ],
             [
              0.2222222222222222,
              "#7201a8"
             ],
             [
              0.3333333333333333,
              "#9c179e"
             ],
             [
              0.4444444444444444,
              "#bd3786"
             ],
             [
              0.5555555555555556,
              "#d8576b"
             ],
             [
              0.6666666666666666,
              "#ed7953"
             ],
             [
              0.7777777777777778,
              "#fb9f3a"
             ],
             [
              0.8888888888888888,
              "#fdca26"
             ],
             [
              1,
              "#f0f921"
             ]
            ],
            "type": "histogram2dcontour"
           }
          ],
          "mesh3d": [
           {
            "colorbar": {
             "outlinewidth": 0,
             "ticks": ""
            },
            "type": "mesh3d"
           }
          ],
          "parcoords": [
           {
            "line": {
             "colorbar": {
              "outlinewidth": 0,
              "ticks": ""
             }
            },
            "type": "parcoords"
           }
          ],
          "pie": [
           {
            "automargin": true,
            "type": "pie"
           }
          ],
          "scatter": [
           {
            "marker": {
             "colorbar": {
              "outlinewidth": 0,
              "ticks": ""
             }
            },
            "type": "scatter"
           }
          ],
          "scatter3d": [
           {
            "line": {
             "colorbar": {
              "outlinewidth": 0,
              "ticks": ""
             }
            },
            "marker": {
             "colorbar": {
              "outlinewidth": 0,
              "ticks": ""
             }
            },
            "type": "scatter3d"
           }
          ],
          "scattercarpet": [
           {
            "marker": {
             "colorbar": {
              "outlinewidth": 0,
              "ticks": ""
             }
            },
            "type": "scattercarpet"
           }
          ],
          "scattergeo": [
           {
            "marker": {
             "colorbar": {
              "outlinewidth": 0,
              "ticks": ""
             }
            },
            "type": "scattergeo"
           }
          ],
          "scattergl": [
           {
            "marker": {
             "colorbar": {
              "outlinewidth": 0,
              "ticks": ""
             }
            },
            "type": "scattergl"
           }
          ],
          "scattermapbox": [
           {
            "marker": {
             "colorbar": {
              "outlinewidth": 0,
              "ticks": ""
             }
            },
            "type": "scattermapbox"
           }
          ],
          "scatterpolar": [
           {
            "marker": {
             "colorbar": {
              "outlinewidth": 0,
              "ticks": ""
             }
            },
            "type": "scatterpolar"
           }
          ],
          "scatterpolargl": [
           {
            "marker": {
             "colorbar": {
              "outlinewidth": 0,
              "ticks": ""
             }
            },
            "type": "scatterpolargl"
           }
          ],
          "scatterternary": [
           {
            "marker": {
             "colorbar": {
              "outlinewidth": 0,
              "ticks": ""
             }
            },
            "type": "scatterternary"
           }
          ],
          "surface": [
           {
            "colorbar": {
             "outlinewidth": 0,
             "ticks": ""
            },
            "colorscale": [
             [
              0,
              "#0d0887"
             ],
             [
              0.1111111111111111,
              "#46039f"
             ],
             [
              0.2222222222222222,
              "#7201a8"
             ],
             [
              0.3333333333333333,
              "#9c179e"
             ],
             [
              0.4444444444444444,
              "#bd3786"
             ],
             [
              0.5555555555555556,
              "#d8576b"
             ],
             [
              0.6666666666666666,
              "#ed7953"
             ],
             [
              0.7777777777777778,
              "#fb9f3a"
             ],
             [
              0.8888888888888888,
              "#fdca26"
             ],
             [
              1,
              "#f0f921"
             ]
            ],
            "type": "surface"
           }
          ],
          "table": [
           {
            "cells": {
             "fill": {
              "color": "#EBF0F8"
             },
             "line": {
              "color": "white"
             }
            },
            "header": {
             "fill": {
              "color": "#C8D4E3"
             },
             "line": {
              "color": "white"
             }
            },
            "type": "table"
           }
          ]
         },
         "layout": {
          "annotationdefaults": {
           "arrowcolor": "#2a3f5f",
           "arrowhead": 0,
           "arrowwidth": 1
          },
          "coloraxis": {
           "colorbar": {
            "outlinewidth": 0,
            "ticks": ""
           }
          },
          "colorscale": {
           "diverging": [
            [
             0,
             "#8e0152"
            ],
            [
             0.1,
             "#c51b7d"
            ],
            [
             0.2,
             "#de77ae"
            ],
            [
             0.3,
             "#f1b6da"
            ],
            [
             0.4,
             "#fde0ef"
            ],
            [
             0.5,
             "#f7f7f7"
            ],
            [
             0.6,
             "#e6f5d0"
            ],
            [
             0.7,
             "#b8e186"
            ],
            [
             0.8,
             "#7fbc41"
            ],
            [
             0.9,
             "#4d9221"
            ],
            [
             1,
             "#276419"
            ]
           ],
           "sequential": [
            [
             0,
             "#0d0887"
            ],
            [
             0.1111111111111111,
             "#46039f"
            ],
            [
             0.2222222222222222,
             "#7201a8"
            ],
            [
             0.3333333333333333,
             "#9c179e"
            ],
            [
             0.4444444444444444,
             "#bd3786"
            ],
            [
             0.5555555555555556,
             "#d8576b"
            ],
            [
             0.6666666666666666,
             "#ed7953"
            ],
            [
             0.7777777777777778,
             "#fb9f3a"
            ],
            [
             0.8888888888888888,
             "#fdca26"
            ],
            [
             1,
             "#f0f921"
            ]
           ],
           "sequentialminus": [
            [
             0,
             "#0d0887"
            ],
            [
             0.1111111111111111,
             "#46039f"
            ],
            [
             0.2222222222222222,
             "#7201a8"
            ],
            [
             0.3333333333333333,
             "#9c179e"
            ],
            [
             0.4444444444444444,
             "#bd3786"
            ],
            [
             0.5555555555555556,
             "#d8576b"
            ],
            [
             0.6666666666666666,
             "#ed7953"
            ],
            [
             0.7777777777777778,
             "#fb9f3a"
            ],
            [
             0.8888888888888888,
             "#fdca26"
            ],
            [
             1,
             "#f0f921"
            ]
           ]
          },
          "colorway": [
           "#636efa",
           "#EF553B",
           "#00cc96",
           "#ab63fa",
           "#FFA15A",
           "#19d3f3",
           "#FF6692",
           "#B6E880",
           "#FF97FF",
           "#FECB52"
          ],
          "font": {
           "color": "#2a3f5f"
          },
          "geo": {
           "bgcolor": "white",
           "lakecolor": "white",
           "landcolor": "#E5ECF6",
           "showlakes": true,
           "showland": true,
           "subunitcolor": "white"
          },
          "hoverlabel": {
           "align": "left"
          },
          "hovermode": "closest",
          "mapbox": {
           "style": "light"
          },
          "paper_bgcolor": "white",
          "plot_bgcolor": "#E5ECF6",
          "polar": {
           "angularaxis": {
            "gridcolor": "white",
            "linecolor": "white",
            "ticks": ""
           },
           "bgcolor": "#E5ECF6",
           "radialaxis": {
            "gridcolor": "white",
            "linecolor": "white",
            "ticks": ""
           }
          },
          "scene": {
           "xaxis": {
            "backgroundcolor": "#E5ECF6",
            "gridcolor": "white",
            "gridwidth": 2,
            "linecolor": "white",
            "showbackground": true,
            "ticks": "",
            "zerolinecolor": "white"
           },
           "yaxis": {
            "backgroundcolor": "#E5ECF6",
            "gridcolor": "white",
            "gridwidth": 2,
            "linecolor": "white",
            "showbackground": true,
            "ticks": "",
            "zerolinecolor": "white"
           },
           "zaxis": {
            "backgroundcolor": "#E5ECF6",
            "gridcolor": "white",
            "gridwidth": 2,
            "linecolor": "white",
            "showbackground": true,
            "ticks": "",
            "zerolinecolor": "white"
           }
          },
          "shapedefaults": {
           "line": {
            "color": "#2a3f5f"
           }
          },
          "ternary": {
           "aaxis": {
            "gridcolor": "white",
            "linecolor": "white",
            "ticks": ""
           },
           "baxis": {
            "gridcolor": "white",
            "linecolor": "white",
            "ticks": ""
           },
           "bgcolor": "#E5ECF6",
           "caxis": {
            "gridcolor": "white",
            "linecolor": "white",
            "ticks": ""
           }
          },
          "title": {
           "x": 0.05
          },
          "xaxis": {
           "automargin": true,
           "gridcolor": "white",
           "linecolor": "white",
           "ticks": "",
           "title": {
            "standoff": 15
           },
           "zerolinecolor": "white",
           "zerolinewidth": 2
          },
          "yaxis": {
           "automargin": true,
           "gridcolor": "white",
           "linecolor": "white",
           "ticks": "",
           "title": {
            "standoff": 15
           },
           "zerolinecolor": "white",
           "zerolinewidth": 2
          }
         }
        },
        "title": {
         "text": "Module number 2"
        }
       }
      },
      "text/html": [
       "<div>\n",
       "        \n",
       "        \n",
       "            <div id=\"6ec9ae9b-043b-4df9-bede-4164533f0d13\" class=\"plotly-graph-div\" style=\"height:525px; width:100%;\"></div>\n",
       "            <script type=\"text/javascript\">\n",
       "                require([\"plotly\"], function(Plotly) {\n",
       "                    window.PLOTLYENV=window.PLOTLYENV || {};\n",
       "                    \n",
       "                if (document.getElementById(\"6ec9ae9b-043b-4df9-bede-4164533f0d13\")) {\n",
       "                    Plotly.newPlot(\n",
       "                        '6ec9ae9b-043b-4df9-bede-4164533f0d13',\n",
       "                        [{\"mode\": \"lines+markers\", \"name\": \"Pulse index: 0\", \"type\": \"scatter\", \"x\": [6381770, 6381771, 6381772, 6381773, 6381774, 6381775, 6381776, 6381777, 6381778, 6381779, 6381780, 6381781, 6381782, 6381783, 6381784, 6381785, 6381786, 6381787, 6381788, 6381789, 6381790, 6381791], \"y\": [-0.03997129946947098, 0.0687083974480629, -0.15888500213623047, -0.0659094750881195, 0.7919102907180786, 0.23991630971431732, -0.23243385553359985, -0.01185200922191143, 0.1537952423095703, -0.24522870779037476, -0.04975498467683792, -0.10203342139720917, -0.05273761600255966, -0.1392623633146286, -0.039992257952690125, -0.03913642838597298, -0.40017184615135193, 0.0968167781829834, 0.028968965634703636, 0.02667170763015747, 0.03482949733734131, 0.056873567402362823]}, {\"mode\": \"lines+markers\", \"name\": \"Pulse index: 1\", \"type\": \"scatter\", \"x\": [6381770, 6381771, 6381772, 6381773, 6381774, 6381775, 6381776, 6381777, 6381778, 6381779, 6381780, 6381781, 6381782, 6381783, 6381784, 6381785, 6381786, 6381787, 6381788, 6381789, 6381790, 6381791], \"y\": [-0.1766636073589325, -0.27470284700393677, -0.010401931591331959, 0.043985515832901, 0.04094674438238144, -0.0404200479388237, 0.23085996508598328, -0.14154182374477386, -0.1160174310207367, 0.017209501937031746, -0.05175306275486946, -0.02552132122218609, 0.03452792018651962, -0.04130345210433006, -0.11419677734375, -0.07208149135112762, 0.08903183788061142, -0.6891760230064392, 0.00022064073709771037, 0.07777996361255646, -0.23094871640205383, -0.04816332086920738]}, {\"mode\": \"lines+markers\", \"name\": \"Pulse index: 2\", \"type\": \"scatter\", \"x\": [6381770, 6381771, 6381772, 6381773, 6381774, 6381775, 6381776, 6381777, 6381778, 6381779, 6381780, 6381781, 6381782, 6381783, 6381784, 6381785, 6381786, 6381787, 6381788, 6381789, 6381790, 6381791], \"y\": [0.6773791909217834, 0.05782859027385712, -0.0618882030248642, 0.27847054600715637, -0.1935082972049713, 0.3318735659122467, -0.09357165545225143, 0.07351702451705933, 0.02127370610833168, -0.059872597455978394, -0.04135890677571297, 0.07186976075172424, -0.3202100396156311, 0.024415789172053337, 1.0465798377990723, 0.09728765487670898, null, 0.03635811805725098, -0.09395106136798859, 0.0035946140997111797, 0.1458023190498352, -0.042240213602781296]}, {\"mode\": \"lines+markers\", \"name\": \"Pulse index: 3\", \"type\": \"scatter\", \"x\": [6381770, 6381771, 6381772, 6381773, 6381774, 6381775, 6381776, 6381777, 6381778, 6381779, 6381780, 6381781, 6381782, 6381783, 6381784, 6381785, 6381786, 6381787, 6381788, 6381789, 6381790, 6381791], \"y\": [-0.8177952170372009, -0.8215533494949341, -0.8540182709693909, -0.9163567423820496, -0.7932252883911133, -0.49974551796913147, -0.6683796644210815, -0.7889197468757629, -0.6227144002914429, -0.5270440578460693, -0.6135504245758057, -0.783304750919342, -0.7004212737083435, -0.35986441373825073, -0.6764693260192871, -0.9640217423439026, -0.7269147634506226, -0.18956977128982544, 0.28289058804512024, -0.2847626507282257, -0.7949524521827698, -0.7774104475975037]}, {\"mode\": \"lines+markers\", \"name\": \"Pulse index: 4\", \"type\": \"scatter\", \"x\": [6381770, 6381771, 6381772, 6381773, 6381774, 6381775, 6381776, 6381777, 6381778, 6381779, 6381780, 6381781, 6381782, 6381783, 6381784, 6381785, 6381786, 6381787, 6381788, 6381789, 6381790, 6381791], \"y\": [-0.463003933429718, -0.39869004487991333, -0.2804686427116394, -0.6736375689506531, -0.5037479400634766, -0.3398720622062683, -0.13021226227283478, -0.20939478278160095, -0.1370440423488617, 0.09052381664514542, -0.2491932064294815, -0.26517778635025024, -0.022374115884304047, -0.15294907987117767, -0.4087488055229187, -0.37693291902542114, -0.42262378334999084, -0.28036123514175415, -0.21857959032058716, -0.1863727569580078, -0.14728377759456635, -0.47380346059799194]}, {\"mode\": \"lines+markers\", \"name\": \"Pulse index: 5\", \"type\": \"scatter\", \"x\": [6381770, 6381771, 6381772, 6381773, 6381774, 6381775, 6381776, 6381777, 6381778, 6381779, 6381780, 6381781, 6381782, 6381783, 6381784, 6381785, 6381786, 6381787, 6381788, 6381789, 6381790, 6381791], \"y\": [-0.2564453184604645, -0.753790557384491, -0.5277684330940247, -0.20863381028175354, -0.5347779989242554, 0.05402759462594986, -0.3109000325202942, -0.10873941332101822, 0.027926262468099594, -0.09368812292814255, -0.05008591711521149, -0.43622809648513794, -0.24475811421871185, -0.30175819993019104, -0.09833572059869766, -0.8016952276229858, -0.4522470235824585, -0.05689741298556328, 0.0822942927479744, -0.2704085409641266, 0.07810132950544357, -0.5669826865196228]}, {\"mode\": \"lines+markers\", \"name\": \"Pulse index: 6\", \"type\": \"scatter\", \"x\": [6381770, 6381771, 6381772, 6381773, 6381774, 6381775, 6381776, 6381777, 6381778, 6381779, 6381780, 6381781, 6381782, 6381783, 6381784, 6381785, 6381786, 6381787, 6381788, 6381789, 6381790, 6381791], \"y\": [-0.14520643651485443, -0.43358561396598816, -0.21015459299087524, -0.15742602944374084, 0.0802946463227272, -0.19079525768756866, 0.13468272984027863, -0.7031475901603699, -0.6117304563522339, -0.2760997414588928, -0.1874127835035324, -0.3734389543533325, -0.7585391402244568, -0.3851524293422699, -0.7903916239738464, -0.9162551760673523, -0.3403404653072357, -0.042943574488162994, 0.08752260357141495, -0.6205183267593384, -0.728385329246521, -0.506413996219635]}, {\"mode\": \"lines+markers\", \"name\": \"Pulse index: 7\", \"type\": \"scatter\", \"x\": [6381770, 6381771, 6381772, 6381773, 6381774, 6381775, 6381776, 6381777, 6381778, 6381779, 6381780, 6381781, 6381782, 6381783, 6381784, 6381785, 6381786, 6381787, 6381788, 6381789, 6381790, 6381791], \"y\": [-0.28210556507110596, -0.5443070530891418, -0.2640734910964966, 0.01290271244943142, -0.18959909677505493, 0.17169633507728577, 0.05323785915970802, -0.24881601333618164, -0.3211192190647125, -0.11740542203187943, -0.2753438353538513, -0.29900097846984863, -0.04937504231929779, -0.11669191718101501, -0.3199804425239563, -0.335357666015625, -0.3585790991783142, 0.05382688343524933, 0.2597055435180664, -0.02982800453901291, -0.6222803592681885, -0.3064759373664856]}, {\"mode\": \"lines+markers\", \"name\": \"Pulse index: 8\", \"type\": \"scatter\", \"x\": [6381770, 6381771, 6381772, 6381773, 6381774, 6381775, 6381776, 6381777, 6381778, 6381779, 6381780, 6381781, 6381782, 6381783, 6381784, 6381785, 6381786, 6381787, 6381788, 6381789, 6381790, 6381791], \"y\": [0.03185661509633064, 0.1406213790178299, 0.35894957184791565, -0.012543132528662682, -0.4319363832473755, -0.10362152010202408, -0.12973730266094208, -0.051851700991392136, -0.33338627219200134, 0.06605925410985947, 0.08515055477619171, -0.10961898416280746, -0.23129495978355408, 0.5126695036888123, -0.23150119185447693, -0.4037785232067108, -0.10731180012226105, 0.021188709884881973, -0.09079241752624512, -0.2925315201282501, 0.376789927482605, 0.26117005944252014]}, {\"mode\": \"lines+markers\", \"name\": \"Pulse index: 9\", \"type\": \"scatter\", \"x\": [6381770, 6381771, 6381772, 6381773, 6381774, 6381775, 6381776, 6381777, 6381778, 6381779, 6381780, 6381781, 6381782, 6381783, 6381784, 6381785, 6381786, 6381787, 6381788, 6381789, 6381790, 6381791], \"y\": [-0.7923605442047119, -0.6065943837165833, -0.5907788872718811, -0.3118499517440796, -0.3072773516178131, -0.3923655152320862, -0.3019067049026489, -0.5808053612709045, -0.7856888175010681, -0.5752060413360596, -0.4266487658023834, -0.6796035766601562, -0.3457208275794983, -0.5772411227226257, -0.803318202495575, -1.2517656087875366, 0.028763990849256516, -0.07056095451116562, 0.4943850040435791, -0.1981930434703827, -0.8103037476539612, -0.635330319404602]}, {\"mode\": \"lines+markers\", \"name\": \"Pulse index: 10\", \"type\": \"scatter\", \"x\": [6381770, 6381771, 6381772, 6381773, 6381774, 6381775, 6381776, 6381777, 6381778, 6381779, 6381780, 6381781, 6381782, 6381783, 6381784, 6381785, 6381786, 6381787, 6381788, 6381789, 6381790, 6381791], \"y\": [-0.67916339635849, -0.15940473973751068, -0.4825977683067322, -0.3125511109828949, -0.36693844199180603, -0.6634413003921509, -0.19649265706539154, -0.47651737928390503, -0.46370169520378113, -0.42446213960647583, -0.5578202605247498, -0.3971283733844757, 0.10923194140195847, -0.13853667676448822, -0.3453766703605652, -0.41565293073654175, -0.3618077039718628, -0.222382590174675, -0.11689794808626175, -0.3348004221916199, -0.2992624342441559, -0.8022443652153015]}],\n",
       "                        {\"template\": {\"data\": {\"bar\": [{\"error_x\": {\"color\": \"#2a3f5f\"}, \"error_y\": {\"color\": \"#2a3f5f\"}, \"marker\": {\"line\": {\"color\": \"#E5ECF6\", \"width\": 0.5}}, \"type\": \"bar\"}], \"barpolar\": [{\"marker\": {\"line\": {\"color\": \"#E5ECF6\", \"width\": 0.5}}, \"type\": \"barpolar\"}], \"carpet\": [{\"aaxis\": {\"endlinecolor\": \"#2a3f5f\", \"gridcolor\": \"white\", \"linecolor\": \"white\", \"minorgridcolor\": \"white\", \"startlinecolor\": \"#2a3f5f\"}, \"baxis\": {\"endlinecolor\": \"#2a3f5f\", \"gridcolor\": \"white\", \"linecolor\": \"white\", \"minorgridcolor\": \"white\", \"startlinecolor\": \"#2a3f5f\"}, \"type\": \"carpet\"}], \"choropleth\": [{\"colorbar\": {\"outlinewidth\": 0, \"ticks\": \"\"}, \"type\": \"choropleth\"}], \"contour\": [{\"colorbar\": {\"outlinewidth\": 0, \"ticks\": \"\"}, \"colorscale\": [[0.0, \"#0d0887\"], [0.1111111111111111, \"#46039f\"], [0.2222222222222222, \"#7201a8\"], [0.3333333333333333, \"#9c179e\"], [0.4444444444444444, \"#bd3786\"], [0.5555555555555556, \"#d8576b\"], [0.6666666666666666, \"#ed7953\"], [0.7777777777777778, \"#fb9f3a\"], [0.8888888888888888, \"#fdca26\"], [1.0, \"#f0f921\"]], \"type\": \"contour\"}], \"contourcarpet\": [{\"colorbar\": {\"outlinewidth\": 0, \"ticks\": \"\"}, \"type\": \"contourcarpet\"}], \"heatmap\": [{\"colorbar\": {\"outlinewidth\": 0, \"ticks\": \"\"}, \"colorscale\": [[0.0, \"#0d0887\"], [0.1111111111111111, \"#46039f\"], [0.2222222222222222, \"#7201a8\"], [0.3333333333333333, \"#9c179e\"], [0.4444444444444444, \"#bd3786\"], [0.5555555555555556, \"#d8576b\"], [0.6666666666666666, \"#ed7953\"], [0.7777777777777778, \"#fb9f3a\"], [0.8888888888888888, \"#fdca26\"], [1.0, \"#f0f921\"]], \"type\": \"heatmap\"}], \"heatmapgl\": [{\"colorbar\": {\"outlinewidth\": 0, \"ticks\": \"\"}, \"colorscale\": [[0.0, \"#0d0887\"], [0.1111111111111111, \"#46039f\"], [0.2222222222222222, \"#7201a8\"], [0.3333333333333333, \"#9c179e\"], [0.4444444444444444, \"#bd3786\"], [0.5555555555555556, \"#d8576b\"], [0.6666666666666666, \"#ed7953\"], [0.7777777777777778, \"#fb9f3a\"], [0.8888888888888888, \"#fdca26\"], [1.0, \"#f0f921\"]], \"type\": \"heatmapgl\"}], \"histogram\": [{\"marker\": {\"colorbar\": {\"outlinewidth\": 0, \"ticks\": \"\"}}, \"type\": \"histogram\"}], \"histogram2d\": [{\"colorbar\": {\"outlinewidth\": 0, \"ticks\": \"\"}, \"colorscale\": [[0.0, \"#0d0887\"], [0.1111111111111111, \"#46039f\"], [0.2222222222222222, \"#7201a8\"], [0.3333333333333333, \"#9c179e\"], [0.4444444444444444, \"#bd3786\"], [0.5555555555555556, \"#d8576b\"], [0.6666666666666666, \"#ed7953\"], [0.7777777777777778, \"#fb9f3a\"], [0.8888888888888888, \"#fdca26\"], [1.0, \"#f0f921\"]], \"type\": \"histogram2d\"}], \"histogram2dcontour\": [{\"colorbar\": {\"outlinewidth\": 0, \"ticks\": \"\"}, \"colorscale\": [[0.0, \"#0d0887\"], [0.1111111111111111, \"#46039f\"], [0.2222222222222222, \"#7201a8\"], [0.3333333333333333, \"#9c179e\"], [0.4444444444444444, \"#bd3786\"], [0.5555555555555556, \"#d8576b\"], [0.6666666666666666, \"#ed7953\"], [0.7777777777777778, \"#fb9f3a\"], [0.8888888888888888, \"#fdca26\"], [1.0, \"#f0f921\"]], \"type\": \"histogram2dcontour\"}], \"mesh3d\": [{\"colorbar\": {\"outlinewidth\": 0, \"ticks\": \"\"}, \"type\": \"mesh3d\"}], \"parcoords\": [{\"line\": {\"colorbar\": {\"outlinewidth\": 0, \"ticks\": \"\"}}, \"type\": \"parcoords\"}], \"pie\": [{\"automargin\": true, \"type\": \"pie\"}], \"scatter\": [{\"marker\": {\"colorbar\": {\"outlinewidth\": 0, \"ticks\": \"\"}}, \"type\": \"scatter\"}], \"scatter3d\": [{\"line\": {\"colorbar\": {\"outlinewidth\": 0, \"ticks\": \"\"}}, \"marker\": {\"colorbar\": {\"outlinewidth\": 0, \"ticks\": \"\"}}, \"type\": \"scatter3d\"}], \"scattercarpet\": [{\"marker\": {\"colorbar\": {\"outlinewidth\": 0, \"ticks\": \"\"}}, \"type\": \"scattercarpet\"}], \"scattergeo\": [{\"marker\": {\"colorbar\": {\"outlinewidth\": 0, \"ticks\": \"\"}}, \"type\": \"scattergeo\"}], \"scattergl\": [{\"marker\": {\"colorbar\": {\"outlinewidth\": 0, \"ticks\": \"\"}}, \"type\": \"scattergl\"}], \"scattermapbox\": [{\"marker\": {\"colorbar\": {\"outlinewidth\": 0, \"ticks\": \"\"}}, \"type\": \"scattermapbox\"}], \"scatterpolar\": [{\"marker\": {\"colorbar\": {\"outlinewidth\": 0, \"ticks\": \"\"}}, \"type\": \"scatterpolar\"}], \"scatterpolargl\": [{\"marker\": {\"colorbar\": {\"outlinewidth\": 0, \"ticks\": \"\"}}, \"type\": \"scatterpolargl\"}], \"scatterternary\": [{\"marker\": {\"colorbar\": {\"outlinewidth\": 0, \"ticks\": \"\"}}, \"type\": \"scatterternary\"}], \"surface\": [{\"colorbar\": {\"outlinewidth\": 0, \"ticks\": \"\"}, \"colorscale\": [[0.0, \"#0d0887\"], [0.1111111111111111, \"#46039f\"], [0.2222222222222222, \"#7201a8\"], [0.3333333333333333, \"#9c179e\"], [0.4444444444444444, \"#bd3786\"], [0.5555555555555556, \"#d8576b\"], [0.6666666666666666, \"#ed7953\"], [0.7777777777777778, \"#fb9f3a\"], [0.8888888888888888, \"#fdca26\"], [1.0, \"#f0f921\"]], \"type\": \"surface\"}], \"table\": [{\"cells\": {\"fill\": {\"color\": \"#EBF0F8\"}, \"line\": {\"color\": \"white\"}}, \"header\": {\"fill\": {\"color\": \"#C8D4E3\"}, \"line\": {\"color\": \"white\"}}, \"type\": \"table\"}]}, \"layout\": {\"annotationdefaults\": {\"arrowcolor\": \"#2a3f5f\", \"arrowhead\": 0, \"arrowwidth\": 1}, \"coloraxis\": {\"colorbar\": {\"outlinewidth\": 0, \"ticks\": \"\"}}, \"colorscale\": {\"diverging\": [[0, \"#8e0152\"], [0.1, \"#c51b7d\"], [0.2, \"#de77ae\"], [0.3, \"#f1b6da\"], [0.4, \"#fde0ef\"], [0.5, \"#f7f7f7\"], [0.6, \"#e6f5d0\"], [0.7, \"#b8e186\"], [0.8, \"#7fbc41\"], [0.9, \"#4d9221\"], [1, \"#276419\"]], \"sequential\": [[0.0, \"#0d0887\"], [0.1111111111111111, \"#46039f\"], [0.2222222222222222, \"#7201a8\"], [0.3333333333333333, \"#9c179e\"], [0.4444444444444444, \"#bd3786\"], [0.5555555555555556, \"#d8576b\"], [0.6666666666666666, \"#ed7953\"], [0.7777777777777778, \"#fb9f3a\"], [0.8888888888888888, \"#fdca26\"], [1.0, \"#f0f921\"]], \"sequentialminus\": [[0.0, \"#0d0887\"], [0.1111111111111111, \"#46039f\"], [0.2222222222222222, \"#7201a8\"], [0.3333333333333333, \"#9c179e\"], [0.4444444444444444, \"#bd3786\"], [0.5555555555555556, \"#d8576b\"], [0.6666666666666666, \"#ed7953\"], [0.7777777777777778, \"#fb9f3a\"], [0.8888888888888888, \"#fdca26\"], [1.0, \"#f0f921\"]]}, \"colorway\": [\"#636efa\", \"#EF553B\", \"#00cc96\", \"#ab63fa\", \"#FFA15A\", \"#19d3f3\", \"#FF6692\", \"#B6E880\", \"#FF97FF\", \"#FECB52\"], \"font\": {\"color\": \"#2a3f5f\"}, \"geo\": {\"bgcolor\": \"white\", \"lakecolor\": \"white\", \"landcolor\": \"#E5ECF6\", \"showlakes\": true, \"showland\": true, \"subunitcolor\": \"white\"}, \"hoverlabel\": {\"align\": \"left\"}, \"hovermode\": \"closest\", \"mapbox\": {\"style\": \"light\"}, \"paper_bgcolor\": \"white\", \"plot_bgcolor\": \"#E5ECF6\", \"polar\": {\"angularaxis\": {\"gridcolor\": \"white\", \"linecolor\": \"white\", \"ticks\": \"\"}, \"bgcolor\": \"#E5ECF6\", \"radialaxis\": {\"gridcolor\": \"white\", \"linecolor\": \"white\", \"ticks\": \"\"}}, \"scene\": {\"xaxis\": {\"backgroundcolor\": \"#E5ECF6\", \"gridcolor\": \"white\", \"gridwidth\": 2, \"linecolor\": \"white\", \"showbackground\": true, \"ticks\": \"\", \"zerolinecolor\": \"white\"}, \"yaxis\": {\"backgroundcolor\": \"#E5ECF6\", \"gridcolor\": \"white\", \"gridwidth\": 2, \"linecolor\": \"white\", \"showbackground\": true, \"ticks\": \"\", \"zerolinecolor\": \"white\"}, \"zaxis\": {\"backgroundcolor\": \"#E5ECF6\", \"gridcolor\": \"white\", \"gridwidth\": 2, \"linecolor\": \"white\", \"showbackground\": true, \"ticks\": \"\", \"zerolinecolor\": \"white\"}}, \"shapedefaults\": {\"line\": {\"color\": \"#2a3f5f\"}}, \"ternary\": {\"aaxis\": {\"gridcolor\": \"white\", \"linecolor\": \"white\", \"ticks\": \"\"}, \"baxis\": {\"gridcolor\": \"white\", \"linecolor\": \"white\", \"ticks\": \"\"}, \"bgcolor\": \"#E5ECF6\", \"caxis\": {\"gridcolor\": \"white\", \"linecolor\": \"white\", \"ticks\": \"\"}}, \"title\": {\"x\": 0.05}, \"xaxis\": {\"automargin\": true, \"gridcolor\": \"white\", \"linecolor\": \"white\", \"ticks\": \"\", \"title\": {\"standoff\": 15}, \"zerolinecolor\": \"white\", \"zerolinewidth\": 2}, \"yaxis\": {\"automargin\": true, \"gridcolor\": \"white\", \"linecolor\": \"white\", \"ticks\": \"\", \"title\": {\"standoff\": 15}, \"zerolinecolor\": \"white\", \"zerolinewidth\": 2}}}, \"title\": {\"text\": \"Module number 2\"}},\n",
       "                        {\"responsive\": true}\n",
       "                    ).then(function(){\n",
       "                            \n",
       "var gd = document.getElementById('6ec9ae9b-043b-4df9-bede-4164533f0d13');\n",
       "var x = new MutationObserver(function (mutations, observer) {{\n",
       "        var display = window.getComputedStyle(gd).display;\n",
       "        if (!display || display === 'none') {{\n",
       "            console.log([gd, 'removed!']);\n",
       "            Plotly.purge(gd);\n",
       "            observer.disconnect();\n",
       "        }}\n",
       "}});\n",
       "\n",
       "// Listen for the removal of the full notebook cells\n",
       "var notebookContainer = gd.closest('#notebook-container');\n",
       "if (notebookContainer) {{\n",
       "    x.observe(notebookContainer, {childList: true});\n",
       "}}\n",
       "\n",
       "// Listen for the clearing of the current output cell\n",
       "var outputEl = gd.closest('.output');\n",
       "if (outputEl) {{\n",
       "    x.observe(outputEl, {childList: true});\n",
       "}}\n",
       "\n",
       "                        })\n",
       "                };\n",
       "                });\n",
       "            </script>\n",
       "        </div>"
      ]
     },
     "metadata": {},
     "output_type": "display_data"
    },
    {
     "data": {
      "application/vnd.plotly.v1+json": {
       "config": {
        "plotlyServerURL": "https://plot.ly"
       },
       "data": [
        {
         "mode": "lines+markers",
         "name": "Pulse index: 0",
         "type": "scatter",
         "x": [
          6381770,
          6381771,
          6381772,
          6381773,
          6381774,
          6381775,
          6381776,
          6381777,
          6381778,
          6381779,
          6381780,
          6381781,
          6381782,
          6381783,
          6381784,
          6381785,
          6381786,
          6381787,
          6381788,
          6381789,
          6381790,
          6381791
         ],
         "y": [
          0.008224890567362309,
          0.2696489095687866,
          -0.0921967625617981,
          -0.09622398018836975,
          0.0862935334444046,
          0.40428778529167175,
          -0.36313700675964355,
          0.009996357373893261,
          -0.0292774997651577,
          -0.19296495616436005,
          -0.012147868052124977,
          -0.12372598052024841,
          -0.011168360710144043,
          0.07909714430570602,
          0.04396667331457138,
          -0.1047617718577385,
          -0.13015326857566833,
          0.009337925352156162,
          -0.1071924939751625,
          -0.40289410948753357,
          -0.0212307907640934,
          0.0593251995742321
         ]
        },
        {
         "mode": "lines+markers",
         "name": "Pulse index: 1",
         "type": "scatter",
         "x": [
          6381770,
          6381771,
          6381772,
          6381773,
          6381774,
          6381775,
          6381776,
          6381777,
          6381778,
          6381779,
          6381780,
          6381781,
          6381782,
          6381783,
          6381784,
          6381785,
          6381786,
          6381787,
          6381788,
          6381789,
          6381790,
          6381791
         ],
         "y": [
          -0.026614682748913765,
          -0.2794853150844574,
          -0.010854683816432953,
          0.012715509161353111,
          -0.01782955974340439,
          -0.035335589200258255,
          0.04690468683838844,
          -0.18847006559371948,
          -0.09966330230236053,
          -0.0845530703663826,
          -0.029513273388147354,
          -0.07938987761735916,
          -0.06587228924036026,
          -0.12517473101615906,
          -0.031106065958738327,
          0.13364306092262268,
          0.0442274771630764,
          1.0014805793762207,
          -0.06276247650384903,
          -0.3713369071483612,
          -0.06613019853830338,
          -0.05968699976801872
         ]
        },
        {
         "mode": "lines+markers",
         "name": "Pulse index: 2",
         "type": "scatter",
         "x": [
          6381770,
          6381771,
          6381772,
          6381773,
          6381774,
          6381775,
          6381776,
          6381777,
          6381778,
          6381779,
          6381780,
          6381781,
          6381782,
          6381783,
          6381784,
          6381785,
          6381786,
          6381787,
          6381788,
          6381789,
          6381790,
          6381791
         ],
         "y": [
          0.24302925169467926,
          -0.1364189237356186,
          0.024431906640529633,
          -0.22040437161922455,
          -0.38422691822052,
          0.5861900448799133,
          -0.09966304898262024,
          0.15093137323856354,
          -0.02226930297911167,
          -0.08469258248806,
          -0.34452110528945923,
          -0.03741395100951195,
          0.054163649678230286,
          -0.11418655514717102,
          1.018808126449585,
          -0.11950710415840149,
          null,
          -0.04442630335688591,
          -0.26072344183921814,
          -0.0897958055138588,
          0.09443937242031097,
          -0.04186360165476799
         ]
        },
        {
         "mode": "lines+markers",
         "name": "Pulse index: 3",
         "type": "scatter",
         "x": [
          6381770,
          6381771,
          6381772,
          6381773,
          6381774,
          6381775,
          6381776,
          6381777,
          6381778,
          6381779,
          6381780,
          6381781,
          6381782,
          6381783,
          6381784,
          6381785,
          6381786,
          6381787,
          6381788,
          6381789,
          6381790,
          6381791
         ],
         "y": [
          -0.298099547624588,
          -0.5494927763938904,
          -0.9346392750740051,
          -1.2627520561218262,
          -1.0188014507293701,
          -0.3276183605194092,
          -1.0326857566833496,
          -0.9564979672431946,
          -1.3161494731903076,
          -1.388086199760437,
          -1.5687543153762817,
          -1.4192314147949219,
          -1.2032995223999023,
          -1.1628718376159668,
          -1.077387809753418,
          -1.238336205482483,
          -1.22612726688385,
          -1.1344648599624634,
          -1.0316542387008667,
          -1.335178256034851,
          -1.898536205291748,
          -1.5408157110214233
         ]
        },
        {
         "mode": "lines+markers",
         "name": "Pulse index: 4",
         "type": "scatter",
         "x": [
          6381770,
          6381771,
          6381772,
          6381773,
          6381774,
          6381775,
          6381776,
          6381777,
          6381778,
          6381779,
          6381780,
          6381781,
          6381782,
          6381783,
          6381784,
          6381785,
          6381786,
          6381787,
          6381788,
          6381789,
          6381790,
          6381791
         ],
         "y": [
          0.14765021204948425,
          -0.24384763836860657,
          -0.5428077578544617,
          -0.8654744029045105,
          -0.5978952646255493,
          -0.2574499249458313,
          -0.6707855463027954,
          -0.5561589002609253,
          -0.8397208452224731,
          -1.0794062614440918,
          -1.314370036125183,
          -0.9316449165344238,
          -0.583300769329071,
          -0.9564283490180969,
          -0.8160632252693176,
          -1.0230647325515747,
          -1.1112550497055054,
          -1.5237408876419067,
          -1.5823360681533813,
          -1.3235186338424683,
          -1.1238652467727661,
          -1.373191237449646
         ]
        },
        {
         "mode": "lines+markers",
         "name": "Pulse index: 5",
         "type": "scatter",
         "x": [
          6381770,
          6381771,
          6381772,
          6381773,
          6381774,
          6381775,
          6381776,
          6381777,
          6381778,
          6381779,
          6381780,
          6381781,
          6381782,
          6381783,
          6381784,
          6381785,
          6381786,
          6381787,
          6381788,
          6381789,
          6381790,
          6381791
         ],
         "y": [
          -0.055319834500551224,
          -0.48274001479148865,
          -0.8336763381958008,
          -0.6903616189956665,
          -0.7428385615348816,
          -0.12191608548164368,
          -0.48634231090545654,
          -0.45749950408935547,
          -0.597022533416748,
          -0.898642897605896,
          -0.9633289575576782,
          -1.20762300491333,
          -1.254698634147644,
          -1.1366074085235596,
          -0.79009610414505,
          -1.3030072450637817,
          -1.1943801641464233,
          -1.0163226127624512,
          -1.0681064128875732,
          -1.0751644372940063,
          -0.9962617754936218,
          -1.1322156190872192
         ]
        },
        {
         "mode": "lines+markers",
         "name": "Pulse index: 6",
         "type": "scatter",
         "x": [
          6381770,
          6381771,
          6381772,
          6381773,
          6381774,
          6381775,
          6381776,
          6381777,
          6381778,
          6381779,
          6381780,
          6381781,
          6381782,
          6381783,
          6381784,
          6381785,
          6381786,
          6381787,
          6381788,
          6381789,
          6381790,
          6381791
         ],
         "y": [
          0.06855155527591705,
          -0.34082549810409546,
          -0.657009482383728,
          -0.5978273153305054,
          -0.5720325112342834,
          -0.27431055903434753,
          -0.4060848355293274,
          -1.0106374025344849,
          -1.2047736644744873,
          -1.1592525243759155,
          -1.215509295463562,
          -0.96360182762146,
          -1.2619929313659668,
          -1.4868104457855225,
          -1.0557289123535156,
          -1.0732612609863281,
          -1.079627275466919,
          -1.4380754232406616,
          -1.1341053247451782,
          -1.4909199476242065,
          -1.772885799407959,
          -1.4328159093856812
         ]
        },
        {
         "mode": "lines+markers",
         "name": "Pulse index: 7",
         "type": "scatter",
         "x": [
          6381770,
          6381771,
          6381772,
          6381773,
          6381774,
          6381775,
          6381776,
          6381777,
          6381778,
          6381779,
          6381780,
          6381781,
          6381782,
          6381783,
          6381784,
          6381785,
          6381786,
          6381787,
          6381788,
          6381789,
          6381790,
          6381791
         ],
         "y": [
          0.17938371002674103,
          -0.3788885474205017,
          -0.36620399355888367,
          -0.45200806856155396,
          -0.6996893286705017,
          -0.10041618347167969,
          -0.6134350299835205,
          -0.7446905374526978,
          -0.8357947468757629,
          -1.207482933998108,
          -1.2509963512420654,
          -1.0569097995758057,
          -0.9528149366378784,
          -1.0739599466323853,
          -0.7567956447601318,
          -0.8534796237945557,
          -1.297562837600708,
          -1.2845977544784546,
          -1.4138787984848022,
          -1.2127496004104614,
          -1.5893203020095825,
          -0.9965540766716003
         ]
        },
        {
         "mode": "lines+markers",
         "name": "Pulse index: 8",
         "type": "scatter",
         "x": [
          6381770,
          6381771,
          6381772,
          6381773,
          6381774,
          6381775,
          6381776,
          6381777,
          6381778,
          6381779,
          6381780,
          6381781,
          6381782,
          6381783,
          6381784,
          6381785,
          6381786,
          6381787,
          6381788,
          6381789,
          6381790,
          6381791
         ],
         "y": [
          0.4792168140411377,
          0.07518421113491058,
          -0.3654067814350128,
          -0.7231210470199585,
          -0.8624019622802734,
          -0.3237709105014801,
          -0.8534109592437744,
          -0.817482590675354,
          -0.869022786617279,
          -1.2077479362487793,
          -1.2813377380371094,
          -0.9582033753395081,
          -0.8840284943580627,
          -0.7664865255355835,
          -0.7024606466293335,
          -0.8518600463867188,
          -1.1993352174758911,
          -1.3298288583755493,
          -1.8181076049804688,
          -1.5173513889312744,
          -0.7040894031524658,
          -0.8213099837303162
         ]
        },
        {
         "mode": "lines+markers",
         "name": "Pulse index: 9",
         "type": "scatter",
         "x": [
          6381770,
          6381771,
          6381772,
          6381773,
          6381774,
          6381775,
          6381776,
          6381777,
          6381778,
          6381779,
          6381780,
          6381781,
          6381782,
          6381783,
          6381784,
          6381785,
          6381786,
          6381787,
          6381788,
          6381789,
          6381790,
          6381791
         ],
         "y": [
          -0.362640380859375,
          -0.7179132103919983,
          -0.9316301345825195,
          -1.245219111442566,
          -0.9863874912261963,
          -0.811735212802887,
          -1.0773004293441772,
          -1.2513318061828613,
          -1.4525619745254517,
          -1.5785882472991943,
          -1.8533930778503418,
          -1.5441577434539795,
          -1.7002508640289307,
          -1.8232409954071045,
          -1.2400481700897217,
          -1.5279961824417114,
          -1.012514591217041,
          -1.4530109167099,
          -1.2373089790344238,
          -1.4573718309402466,
          -1.9151060581207275,
          -1.5310149192810059
         ]
        },
        {
         "mode": "lines+markers",
         "name": "Pulse index: 10",
         "type": "scatter",
         "x": [
          6381770,
          6381771,
          6381772,
          6381773,
          6381774,
          6381775,
          6381776,
          6381777,
          6381778,
          6381779,
          6381780,
          6381781,
          6381782,
          6381783,
          6381784,
          6381785,
          6381786,
          6381787,
          6381788,
          6381789,
          6381790,
          6381791
         ],
         "y": [
          0.004036257974803448,
          -0.25029394030570984,
          -0.7523274421691895,
          -0.9893043637275696,
          -0.9832331538200378,
          -0.5476741194725037,
          -0.8243971467018127,
          -1.074836015701294,
          -1.0316358804702759,
          -1.3910622596740723,
          -1.7638132572174072,
          -0.7904542684555054,
          -0.7997749447822571,
          -0.9875180125236511,
          -0.5766975283622742,
          -0.6995008587837219,
          -1.115433692932129,
          -1.3035277128219604,
          -1.5610848665237427,
          -1.5439858436584473,
          -1.312484860420227,
          -1.2183804512023926
         ]
        }
       ],
       "layout": {
        "template": {
         "data": {
          "bar": [
           {
            "error_x": {
             "color": "#2a3f5f"
            },
            "error_y": {
             "color": "#2a3f5f"
            },
            "marker": {
             "line": {
              "color": "#E5ECF6",
              "width": 0.5
             }
            },
            "type": "bar"
           }
          ],
          "barpolar": [
           {
            "marker": {
             "line": {
              "color": "#E5ECF6",
              "width": 0.5
             }
            },
            "type": "barpolar"
           }
          ],
          "carpet": [
           {
            "aaxis": {
             "endlinecolor": "#2a3f5f",
             "gridcolor": "white",
             "linecolor": "white",
             "minorgridcolor": "white",
             "startlinecolor": "#2a3f5f"
            },
            "baxis": {
             "endlinecolor": "#2a3f5f",
             "gridcolor": "white",
             "linecolor": "white",
             "minorgridcolor": "white",
             "startlinecolor": "#2a3f5f"
            },
            "type": "carpet"
           }
          ],
          "choropleth": [
           {
            "colorbar": {
             "outlinewidth": 0,
             "ticks": ""
            },
            "type": "choropleth"
           }
          ],
          "contour": [
           {
            "colorbar": {
             "outlinewidth": 0,
             "ticks": ""
            },
            "colorscale": [
             [
              0,
              "#0d0887"
             ],
             [
              0.1111111111111111,
              "#46039f"
             ],
             [
              0.2222222222222222,
              "#7201a8"
             ],
             [
              0.3333333333333333,
              "#9c179e"
             ],
             [
              0.4444444444444444,
              "#bd3786"
             ],
             [
              0.5555555555555556,
              "#d8576b"
             ],
             [
              0.6666666666666666,
              "#ed7953"
             ],
             [
              0.7777777777777778,
              "#fb9f3a"
             ],
             [
              0.8888888888888888,
              "#fdca26"
             ],
             [
              1,
              "#f0f921"
             ]
            ],
            "type": "contour"
           }
          ],
          "contourcarpet": [
           {
            "colorbar": {
             "outlinewidth": 0,
             "ticks": ""
            },
            "type": "contourcarpet"
           }
          ],
          "heatmap": [
           {
            "colorbar": {
             "outlinewidth": 0,
             "ticks": ""
            },
            "colorscale": [
             [
              0,
              "#0d0887"
             ],
             [
              0.1111111111111111,
              "#46039f"
             ],
             [
              0.2222222222222222,
              "#7201a8"
             ],
             [
              0.3333333333333333,
              "#9c179e"
             ],
             [
              0.4444444444444444,
              "#bd3786"
             ],
             [
              0.5555555555555556,
              "#d8576b"
             ],
             [
              0.6666666666666666,
              "#ed7953"
             ],
             [
              0.7777777777777778,
              "#fb9f3a"
             ],
             [
              0.8888888888888888,
              "#fdca26"
             ],
             [
              1,
              "#f0f921"
             ]
            ],
            "type": "heatmap"
           }
          ],
          "heatmapgl": [
           {
            "colorbar": {
             "outlinewidth": 0,
             "ticks": ""
            },
            "colorscale": [
             [
              0,
              "#0d0887"
             ],
             [
              0.1111111111111111,
              "#46039f"
             ],
             [
              0.2222222222222222,
              "#7201a8"
             ],
             [
              0.3333333333333333,
              "#9c179e"
             ],
             [
              0.4444444444444444,
              "#bd3786"
             ],
             [
              0.5555555555555556,
              "#d8576b"
             ],
             [
              0.6666666666666666,
              "#ed7953"
             ],
             [
              0.7777777777777778,
              "#fb9f3a"
             ],
             [
              0.8888888888888888,
              "#fdca26"
             ],
             [
              1,
              "#f0f921"
             ]
            ],
            "type": "heatmapgl"
           }
          ],
          "histogram": [
           {
            "marker": {
             "colorbar": {
              "outlinewidth": 0,
              "ticks": ""
             }
            },
            "type": "histogram"
           }
          ],
          "histogram2d": [
           {
            "colorbar": {
             "outlinewidth": 0,
             "ticks": ""
            },
            "colorscale": [
             [
              0,
              "#0d0887"
             ],
             [
              0.1111111111111111,
              "#46039f"
             ],
             [
              0.2222222222222222,
              "#7201a8"
             ],
             [
              0.3333333333333333,
              "#9c179e"
             ],
             [
              0.4444444444444444,
              "#bd3786"
             ],
             [
              0.5555555555555556,
              "#d8576b"
             ],
             [
              0.6666666666666666,
              "#ed7953"
             ],
             [
              0.7777777777777778,
              "#fb9f3a"
             ],
             [
              0.8888888888888888,
              "#fdca26"
             ],
             [
              1,
              "#f0f921"
             ]
            ],
            "type": "histogram2d"
           }
          ],
          "histogram2dcontour": [
           {
            "colorbar": {
             "outlinewidth": 0,
             "ticks": ""
            },
            "colorscale": [
             [
              0,
              "#0d0887"
             ],
             [
              0.1111111111111111,
              "#46039f"
             ],
             [
              0.2222222222222222,
              "#7201a8"
             ],
             [
              0.3333333333333333,
              "#9c179e"
             ],
             [
              0.4444444444444444,
              "#bd3786"
             ],
             [
              0.5555555555555556,
              "#d8576b"
             ],
             [
              0.6666666666666666,
              "#ed7953"
             ],
             [
              0.7777777777777778,
              "#fb9f3a"
             ],
             [
              0.8888888888888888,
              "#fdca26"
             ],
             [
              1,
              "#f0f921"
             ]
            ],
            "type": "histogram2dcontour"
           }
          ],
          "mesh3d": [
           {
            "colorbar": {
             "outlinewidth": 0,
             "ticks": ""
            },
            "type": "mesh3d"
           }
          ],
          "parcoords": [
           {
            "line": {
             "colorbar": {
              "outlinewidth": 0,
              "ticks": ""
             }
            },
            "type": "parcoords"
           }
          ],
          "pie": [
           {
            "automargin": true,
            "type": "pie"
           }
          ],
          "scatter": [
           {
            "marker": {
             "colorbar": {
              "outlinewidth": 0,
              "ticks": ""
             }
            },
            "type": "scatter"
           }
          ],
          "scatter3d": [
           {
            "line": {
             "colorbar": {
              "outlinewidth": 0,
              "ticks": ""
             }
            },
            "marker": {
             "colorbar": {
              "outlinewidth": 0,
              "ticks": ""
             }
            },
            "type": "scatter3d"
           }
          ],
          "scattercarpet": [
           {
            "marker": {
             "colorbar": {
              "outlinewidth": 0,
              "ticks": ""
             }
            },
            "type": "scattercarpet"
           }
          ],
          "scattergeo": [
           {
            "marker": {
             "colorbar": {
              "outlinewidth": 0,
              "ticks": ""
             }
            },
            "type": "scattergeo"
           }
          ],
          "scattergl": [
           {
            "marker": {
             "colorbar": {
              "outlinewidth": 0,
              "ticks": ""
             }
            },
            "type": "scattergl"
           }
          ],
          "scattermapbox": [
           {
            "marker": {
             "colorbar": {
              "outlinewidth": 0,
              "ticks": ""
             }
            },
            "type": "scattermapbox"
           }
          ],
          "scatterpolar": [
           {
            "marker": {
             "colorbar": {
              "outlinewidth": 0,
              "ticks": ""
             }
            },
            "type": "scatterpolar"
           }
          ],
          "scatterpolargl": [
           {
            "marker": {
             "colorbar": {
              "outlinewidth": 0,
              "ticks": ""
             }
            },
            "type": "scatterpolargl"
           }
          ],
          "scatterternary": [
           {
            "marker": {
             "colorbar": {
              "outlinewidth": 0,
              "ticks": ""
             }
            },
            "type": "scatterternary"
           }
          ],
          "surface": [
           {
            "colorbar": {
             "outlinewidth": 0,
             "ticks": ""
            },
            "colorscale": [
             [
              0,
              "#0d0887"
             ],
             [
              0.1111111111111111,
              "#46039f"
             ],
             [
              0.2222222222222222,
              "#7201a8"
             ],
             [
              0.3333333333333333,
              "#9c179e"
             ],
             [
              0.4444444444444444,
              "#bd3786"
             ],
             [
              0.5555555555555556,
              "#d8576b"
             ],
             [
              0.6666666666666666,
              "#ed7953"
             ],
             [
              0.7777777777777778,
              "#fb9f3a"
             ],
             [
              0.8888888888888888,
              "#fdca26"
             ],
             [
              1,
              "#f0f921"
             ]
            ],
            "type": "surface"
           }
          ],
          "table": [
           {
            "cells": {
             "fill": {
              "color": "#EBF0F8"
             },
             "line": {
              "color": "white"
             }
            },
            "header": {
             "fill": {
              "color": "#C8D4E3"
             },
             "line": {
              "color": "white"
             }
            },
            "type": "table"
           }
          ]
         },
         "layout": {
          "annotationdefaults": {
           "arrowcolor": "#2a3f5f",
           "arrowhead": 0,
           "arrowwidth": 1
          },
          "coloraxis": {
           "colorbar": {
            "outlinewidth": 0,
            "ticks": ""
           }
          },
          "colorscale": {
           "diverging": [
            [
             0,
             "#8e0152"
            ],
            [
             0.1,
             "#c51b7d"
            ],
            [
             0.2,
             "#de77ae"
            ],
            [
             0.3,
             "#f1b6da"
            ],
            [
             0.4,
             "#fde0ef"
            ],
            [
             0.5,
             "#f7f7f7"
            ],
            [
             0.6,
             "#e6f5d0"
            ],
            [
             0.7,
             "#b8e186"
            ],
            [
             0.8,
             "#7fbc41"
            ],
            [
             0.9,
             "#4d9221"
            ],
            [
             1,
             "#276419"
            ]
           ],
           "sequential": [
            [
             0,
             "#0d0887"
            ],
            [
             0.1111111111111111,
             "#46039f"
            ],
            [
             0.2222222222222222,
             "#7201a8"
            ],
            [
             0.3333333333333333,
             "#9c179e"
            ],
            [
             0.4444444444444444,
             "#bd3786"
            ],
            [
             0.5555555555555556,
             "#d8576b"
            ],
            [
             0.6666666666666666,
             "#ed7953"
            ],
            [
             0.7777777777777778,
             "#fb9f3a"
            ],
            [
             0.8888888888888888,
             "#fdca26"
            ],
            [
             1,
             "#f0f921"
            ]
           ],
           "sequentialminus": [
            [
             0,
             "#0d0887"
            ],
            [
             0.1111111111111111,
             "#46039f"
            ],
            [
             0.2222222222222222,
             "#7201a8"
            ],
            [
             0.3333333333333333,
             "#9c179e"
            ],
            [
             0.4444444444444444,
             "#bd3786"
            ],
            [
             0.5555555555555556,
             "#d8576b"
            ],
            [
             0.6666666666666666,
             "#ed7953"
            ],
            [
             0.7777777777777778,
             "#fb9f3a"
            ],
            [
             0.8888888888888888,
             "#fdca26"
            ],
            [
             1,
             "#f0f921"
            ]
           ]
          },
          "colorway": [
           "#636efa",
           "#EF553B",
           "#00cc96",
           "#ab63fa",
           "#FFA15A",
           "#19d3f3",
           "#FF6692",
           "#B6E880",
           "#FF97FF",
           "#FECB52"
          ],
          "font": {
           "color": "#2a3f5f"
          },
          "geo": {
           "bgcolor": "white",
           "lakecolor": "white",
           "landcolor": "#E5ECF6",
           "showlakes": true,
           "showland": true,
           "subunitcolor": "white"
          },
          "hoverlabel": {
           "align": "left"
          },
          "hovermode": "closest",
          "mapbox": {
           "style": "light"
          },
          "paper_bgcolor": "white",
          "plot_bgcolor": "#E5ECF6",
          "polar": {
           "angularaxis": {
            "gridcolor": "white",
            "linecolor": "white",
            "ticks": ""
           },
           "bgcolor": "#E5ECF6",
           "radialaxis": {
            "gridcolor": "white",
            "linecolor": "white",
            "ticks": ""
           }
          },
          "scene": {
           "xaxis": {
            "backgroundcolor": "#E5ECF6",
            "gridcolor": "white",
            "gridwidth": 2,
            "linecolor": "white",
            "showbackground": true,
            "ticks": "",
            "zerolinecolor": "white"
           },
           "yaxis": {
            "backgroundcolor": "#E5ECF6",
            "gridcolor": "white",
            "gridwidth": 2,
            "linecolor": "white",
            "showbackground": true,
            "ticks": "",
            "zerolinecolor": "white"
           },
           "zaxis": {
            "backgroundcolor": "#E5ECF6",
            "gridcolor": "white",
            "gridwidth": 2,
            "linecolor": "white",
            "showbackground": true,
            "ticks": "",
            "zerolinecolor": "white"
           }
          },
          "shapedefaults": {
           "line": {
            "color": "#2a3f5f"
           }
          },
          "ternary": {
           "aaxis": {
            "gridcolor": "white",
            "linecolor": "white",
            "ticks": ""
           },
           "baxis": {
            "gridcolor": "white",
            "linecolor": "white",
            "ticks": ""
           },
           "bgcolor": "#E5ECF6",
           "caxis": {
            "gridcolor": "white",
            "linecolor": "white",
            "ticks": ""
           }
          },
          "title": {
           "x": 0.05
          },
          "xaxis": {
           "automargin": true,
           "gridcolor": "white",
           "linecolor": "white",
           "ticks": "",
           "title": {
            "standoff": 15
           },
           "zerolinecolor": "white",
           "zerolinewidth": 2
          },
          "yaxis": {
           "automargin": true,
           "gridcolor": "white",
           "linecolor": "white",
           "ticks": "",
           "title": {
            "standoff": 15
           },
           "zerolinecolor": "white",
           "zerolinewidth": 2
          }
         }
        },
        "title": {
         "text": "Module number 3"
        }
       }
      },
      "text/html": [
       "<div>\n",
       "        \n",
       "        \n",
       "            <div id=\"78c15d24-b029-4623-90d7-ed2cacba829f\" class=\"plotly-graph-div\" style=\"height:525px; width:100%;\"></div>\n",
       "            <script type=\"text/javascript\">\n",
       "                require([\"plotly\"], function(Plotly) {\n",
       "                    window.PLOTLYENV=window.PLOTLYENV || {};\n",
       "                    \n",
       "                if (document.getElementById(\"78c15d24-b029-4623-90d7-ed2cacba829f\")) {\n",
       "                    Plotly.newPlot(\n",
       "                        '78c15d24-b029-4623-90d7-ed2cacba829f',\n",
       "                        [{\"mode\": \"lines+markers\", \"name\": \"Pulse index: 0\", \"type\": \"scatter\", \"x\": [6381770, 6381771, 6381772, 6381773, 6381774, 6381775, 6381776, 6381777, 6381778, 6381779, 6381780, 6381781, 6381782, 6381783, 6381784, 6381785, 6381786, 6381787, 6381788, 6381789, 6381790, 6381791], \"y\": [0.008224890567362309, 0.2696489095687866, -0.0921967625617981, -0.09622398018836975, 0.0862935334444046, 0.40428778529167175, -0.36313700675964355, 0.009996357373893261, -0.0292774997651577, -0.19296495616436005, -0.012147868052124977, -0.12372598052024841, -0.011168360710144043, 0.07909714430570602, 0.04396667331457138, -0.1047617718577385, -0.13015326857566833, 0.009337925352156162, -0.1071924939751625, -0.40289410948753357, -0.0212307907640934, 0.0593251995742321]}, {\"mode\": \"lines+markers\", \"name\": \"Pulse index: 1\", \"type\": \"scatter\", \"x\": [6381770, 6381771, 6381772, 6381773, 6381774, 6381775, 6381776, 6381777, 6381778, 6381779, 6381780, 6381781, 6381782, 6381783, 6381784, 6381785, 6381786, 6381787, 6381788, 6381789, 6381790, 6381791], \"y\": [-0.026614682748913765, -0.2794853150844574, -0.010854683816432953, 0.012715509161353111, -0.01782955974340439, -0.035335589200258255, 0.04690468683838844, -0.18847006559371948, -0.09966330230236053, -0.0845530703663826, -0.029513273388147354, -0.07938987761735916, -0.06587228924036026, -0.12517473101615906, -0.031106065958738327, 0.13364306092262268, 0.0442274771630764, 1.0014805793762207, -0.06276247650384903, -0.3713369071483612, -0.06613019853830338, -0.05968699976801872]}, {\"mode\": \"lines+markers\", \"name\": \"Pulse index: 2\", \"type\": \"scatter\", \"x\": [6381770, 6381771, 6381772, 6381773, 6381774, 6381775, 6381776, 6381777, 6381778, 6381779, 6381780, 6381781, 6381782, 6381783, 6381784, 6381785, 6381786, 6381787, 6381788, 6381789, 6381790, 6381791], \"y\": [0.24302925169467926, -0.1364189237356186, 0.024431906640529633, -0.22040437161922455, -0.38422691822052, 0.5861900448799133, -0.09966304898262024, 0.15093137323856354, -0.02226930297911167, -0.08469258248806, -0.34452110528945923, -0.03741395100951195, 0.054163649678230286, -0.11418655514717102, 1.018808126449585, -0.11950710415840149, null, -0.04442630335688591, -0.26072344183921814, -0.0897958055138588, 0.09443937242031097, -0.04186360165476799]}, {\"mode\": \"lines+markers\", \"name\": \"Pulse index: 3\", \"type\": \"scatter\", \"x\": [6381770, 6381771, 6381772, 6381773, 6381774, 6381775, 6381776, 6381777, 6381778, 6381779, 6381780, 6381781, 6381782, 6381783, 6381784, 6381785, 6381786, 6381787, 6381788, 6381789, 6381790, 6381791], \"y\": [-0.298099547624588, -0.5494927763938904, -0.9346392750740051, -1.2627520561218262, -1.0188014507293701, -0.3276183605194092, -1.0326857566833496, -0.9564979672431946, -1.3161494731903076, -1.388086199760437, -1.5687543153762817, -1.4192314147949219, -1.2032995223999023, -1.1628718376159668, -1.077387809753418, -1.238336205482483, -1.22612726688385, -1.1344648599624634, -1.0316542387008667, -1.335178256034851, -1.898536205291748, -1.5408157110214233]}, {\"mode\": \"lines+markers\", \"name\": \"Pulse index: 4\", \"type\": \"scatter\", \"x\": [6381770, 6381771, 6381772, 6381773, 6381774, 6381775, 6381776, 6381777, 6381778, 6381779, 6381780, 6381781, 6381782, 6381783, 6381784, 6381785, 6381786, 6381787, 6381788, 6381789, 6381790, 6381791], \"y\": [0.14765021204948425, -0.24384763836860657, -0.5428077578544617, -0.8654744029045105, -0.5978952646255493, -0.2574499249458313, -0.6707855463027954, -0.5561589002609253, -0.8397208452224731, -1.0794062614440918, -1.314370036125183, -0.9316449165344238, -0.583300769329071, -0.9564283490180969, -0.8160632252693176, -1.0230647325515747, -1.1112550497055054, -1.5237408876419067, -1.5823360681533813, -1.3235186338424683, -1.1238652467727661, -1.373191237449646]}, {\"mode\": \"lines+markers\", \"name\": \"Pulse index: 5\", \"type\": \"scatter\", \"x\": [6381770, 6381771, 6381772, 6381773, 6381774, 6381775, 6381776, 6381777, 6381778, 6381779, 6381780, 6381781, 6381782, 6381783, 6381784, 6381785, 6381786, 6381787, 6381788, 6381789, 6381790, 6381791], \"y\": [-0.055319834500551224, -0.48274001479148865, -0.8336763381958008, -0.6903616189956665, -0.7428385615348816, -0.12191608548164368, -0.48634231090545654, -0.45749950408935547, -0.597022533416748, -0.898642897605896, -0.9633289575576782, -1.20762300491333, -1.254698634147644, -1.1366074085235596, -0.79009610414505, -1.3030072450637817, -1.1943801641464233, -1.0163226127624512, -1.0681064128875732, -1.0751644372940063, -0.9962617754936218, -1.1322156190872192]}, {\"mode\": \"lines+markers\", \"name\": \"Pulse index: 6\", \"type\": \"scatter\", \"x\": [6381770, 6381771, 6381772, 6381773, 6381774, 6381775, 6381776, 6381777, 6381778, 6381779, 6381780, 6381781, 6381782, 6381783, 6381784, 6381785, 6381786, 6381787, 6381788, 6381789, 6381790, 6381791], \"y\": [0.06855155527591705, -0.34082549810409546, -0.657009482383728, -0.5978273153305054, -0.5720325112342834, -0.27431055903434753, -0.4060848355293274, -1.0106374025344849, -1.2047736644744873, -1.1592525243759155, -1.215509295463562, -0.96360182762146, -1.2619929313659668, -1.4868104457855225, -1.0557289123535156, -1.0732612609863281, -1.079627275466919, -1.4380754232406616, -1.1341053247451782, -1.4909199476242065, -1.772885799407959, -1.4328159093856812]}, {\"mode\": \"lines+markers\", \"name\": \"Pulse index: 7\", \"type\": \"scatter\", \"x\": [6381770, 6381771, 6381772, 6381773, 6381774, 6381775, 6381776, 6381777, 6381778, 6381779, 6381780, 6381781, 6381782, 6381783, 6381784, 6381785, 6381786, 6381787, 6381788, 6381789, 6381790, 6381791], \"y\": [0.17938371002674103, -0.3788885474205017, -0.36620399355888367, -0.45200806856155396, -0.6996893286705017, -0.10041618347167969, -0.6134350299835205, -0.7446905374526978, -0.8357947468757629, -1.207482933998108, -1.2509963512420654, -1.0569097995758057, -0.9528149366378784, -1.0739599466323853, -0.7567956447601318, -0.8534796237945557, -1.297562837600708, -1.2845977544784546, -1.4138787984848022, -1.2127496004104614, -1.5893203020095825, -0.9965540766716003]}, {\"mode\": \"lines+markers\", \"name\": \"Pulse index: 8\", \"type\": \"scatter\", \"x\": [6381770, 6381771, 6381772, 6381773, 6381774, 6381775, 6381776, 6381777, 6381778, 6381779, 6381780, 6381781, 6381782, 6381783, 6381784, 6381785, 6381786, 6381787, 6381788, 6381789, 6381790, 6381791], \"y\": [0.4792168140411377, 0.07518421113491058, -0.3654067814350128, -0.7231210470199585, -0.8624019622802734, -0.3237709105014801, -0.8534109592437744, -0.817482590675354, -0.869022786617279, -1.2077479362487793, -1.2813377380371094, -0.9582033753395081, -0.8840284943580627, -0.7664865255355835, -0.7024606466293335, -0.8518600463867188, -1.1993352174758911, -1.3298288583755493, -1.8181076049804688, -1.5173513889312744, -0.7040894031524658, -0.8213099837303162]}, {\"mode\": \"lines+markers\", \"name\": \"Pulse index: 9\", \"type\": \"scatter\", \"x\": [6381770, 6381771, 6381772, 6381773, 6381774, 6381775, 6381776, 6381777, 6381778, 6381779, 6381780, 6381781, 6381782, 6381783, 6381784, 6381785, 6381786, 6381787, 6381788, 6381789, 6381790, 6381791], \"y\": [-0.362640380859375, -0.7179132103919983, -0.9316301345825195, -1.245219111442566, -0.9863874912261963, -0.811735212802887, -1.0773004293441772, -1.2513318061828613, -1.4525619745254517, -1.5785882472991943, -1.8533930778503418, -1.5441577434539795, -1.7002508640289307, -1.8232409954071045, -1.2400481700897217, -1.5279961824417114, -1.012514591217041, -1.4530109167099, -1.2373089790344238, -1.4573718309402466, -1.9151060581207275, -1.5310149192810059]}, {\"mode\": \"lines+markers\", \"name\": \"Pulse index: 10\", \"type\": \"scatter\", \"x\": [6381770, 6381771, 6381772, 6381773, 6381774, 6381775, 6381776, 6381777, 6381778, 6381779, 6381780, 6381781, 6381782, 6381783, 6381784, 6381785, 6381786, 6381787, 6381788, 6381789, 6381790, 6381791], \"y\": [0.004036257974803448, -0.25029394030570984, -0.7523274421691895, -0.9893043637275696, -0.9832331538200378, -0.5476741194725037, -0.8243971467018127, -1.074836015701294, -1.0316358804702759, -1.3910622596740723, -1.7638132572174072, -0.7904542684555054, -0.7997749447822571, -0.9875180125236511, -0.5766975283622742, -0.6995008587837219, -1.115433692932129, -1.3035277128219604, -1.5610848665237427, -1.5439858436584473, -1.312484860420227, -1.2183804512023926]}],\n",
       "                        {\"template\": {\"data\": {\"bar\": [{\"error_x\": {\"color\": \"#2a3f5f\"}, \"error_y\": {\"color\": \"#2a3f5f\"}, \"marker\": {\"line\": {\"color\": \"#E5ECF6\", \"width\": 0.5}}, \"type\": \"bar\"}], \"barpolar\": [{\"marker\": {\"line\": {\"color\": \"#E5ECF6\", \"width\": 0.5}}, \"type\": \"barpolar\"}], \"carpet\": [{\"aaxis\": {\"endlinecolor\": \"#2a3f5f\", \"gridcolor\": \"white\", \"linecolor\": \"white\", \"minorgridcolor\": \"white\", \"startlinecolor\": \"#2a3f5f\"}, \"baxis\": {\"endlinecolor\": \"#2a3f5f\", \"gridcolor\": \"white\", \"linecolor\": \"white\", \"minorgridcolor\": \"white\", \"startlinecolor\": \"#2a3f5f\"}, \"type\": \"carpet\"}], \"choropleth\": [{\"colorbar\": {\"outlinewidth\": 0, \"ticks\": \"\"}, \"type\": \"choropleth\"}], \"contour\": [{\"colorbar\": {\"outlinewidth\": 0, \"ticks\": \"\"}, \"colorscale\": [[0.0, \"#0d0887\"], [0.1111111111111111, \"#46039f\"], [0.2222222222222222, \"#7201a8\"], [0.3333333333333333, \"#9c179e\"], [0.4444444444444444, \"#bd3786\"], [0.5555555555555556, \"#d8576b\"], [0.6666666666666666, \"#ed7953\"], [0.7777777777777778, \"#fb9f3a\"], [0.8888888888888888, \"#fdca26\"], [1.0, \"#f0f921\"]], \"type\": \"contour\"}], \"contourcarpet\": [{\"colorbar\": {\"outlinewidth\": 0, \"ticks\": \"\"}, \"type\": \"contourcarpet\"}], \"heatmap\": [{\"colorbar\": {\"outlinewidth\": 0, \"ticks\": \"\"}, \"colorscale\": [[0.0, \"#0d0887\"], [0.1111111111111111, \"#46039f\"], [0.2222222222222222, \"#7201a8\"], [0.3333333333333333, \"#9c179e\"], [0.4444444444444444, \"#bd3786\"], [0.5555555555555556, \"#d8576b\"], [0.6666666666666666, \"#ed7953\"], [0.7777777777777778, \"#fb9f3a\"], [0.8888888888888888, \"#fdca26\"], [1.0, \"#f0f921\"]], \"type\": \"heatmap\"}], \"heatmapgl\": [{\"colorbar\": {\"outlinewidth\": 0, \"ticks\": \"\"}, \"colorscale\": [[0.0, \"#0d0887\"], [0.1111111111111111, \"#46039f\"], [0.2222222222222222, \"#7201a8\"], [0.3333333333333333, \"#9c179e\"], [0.4444444444444444, \"#bd3786\"], [0.5555555555555556, \"#d8576b\"], [0.6666666666666666, \"#ed7953\"], [0.7777777777777778, \"#fb9f3a\"], [0.8888888888888888, \"#fdca26\"], [1.0, \"#f0f921\"]], \"type\": \"heatmapgl\"}], \"histogram\": [{\"marker\": {\"colorbar\": {\"outlinewidth\": 0, \"ticks\": \"\"}}, \"type\": \"histogram\"}], \"histogram2d\": [{\"colorbar\": {\"outlinewidth\": 0, \"ticks\": \"\"}, \"colorscale\": [[0.0, \"#0d0887\"], [0.1111111111111111, \"#46039f\"], [0.2222222222222222, \"#7201a8\"], [0.3333333333333333, \"#9c179e\"], [0.4444444444444444, \"#bd3786\"], [0.5555555555555556, \"#d8576b\"], [0.6666666666666666, \"#ed7953\"], [0.7777777777777778, \"#fb9f3a\"], [0.8888888888888888, \"#fdca26\"], [1.0, \"#f0f921\"]], \"type\": \"histogram2d\"}], \"histogram2dcontour\": [{\"colorbar\": {\"outlinewidth\": 0, \"ticks\": \"\"}, \"colorscale\": [[0.0, \"#0d0887\"], [0.1111111111111111, \"#46039f\"], [0.2222222222222222, \"#7201a8\"], [0.3333333333333333, \"#9c179e\"], [0.4444444444444444, \"#bd3786\"], [0.5555555555555556, \"#d8576b\"], [0.6666666666666666, \"#ed7953\"], [0.7777777777777778, \"#fb9f3a\"], [0.8888888888888888, \"#fdca26\"], [1.0, \"#f0f921\"]], \"type\": \"histogram2dcontour\"}], \"mesh3d\": [{\"colorbar\": {\"outlinewidth\": 0, \"ticks\": \"\"}, \"type\": \"mesh3d\"}], \"parcoords\": [{\"line\": {\"colorbar\": {\"outlinewidth\": 0, \"ticks\": \"\"}}, \"type\": \"parcoords\"}], \"pie\": [{\"automargin\": true, \"type\": \"pie\"}], \"scatter\": [{\"marker\": {\"colorbar\": {\"outlinewidth\": 0, \"ticks\": \"\"}}, \"type\": \"scatter\"}], \"scatter3d\": [{\"line\": {\"colorbar\": {\"outlinewidth\": 0, \"ticks\": \"\"}}, \"marker\": {\"colorbar\": {\"outlinewidth\": 0, \"ticks\": \"\"}}, \"type\": \"scatter3d\"}], \"scattercarpet\": [{\"marker\": {\"colorbar\": {\"outlinewidth\": 0, \"ticks\": \"\"}}, \"type\": \"scattercarpet\"}], \"scattergeo\": [{\"marker\": {\"colorbar\": {\"outlinewidth\": 0, \"ticks\": \"\"}}, \"type\": \"scattergeo\"}], \"scattergl\": [{\"marker\": {\"colorbar\": {\"outlinewidth\": 0, \"ticks\": \"\"}}, \"type\": \"scattergl\"}], \"scattermapbox\": [{\"marker\": {\"colorbar\": {\"outlinewidth\": 0, \"ticks\": \"\"}}, \"type\": \"scattermapbox\"}], \"scatterpolar\": [{\"marker\": {\"colorbar\": {\"outlinewidth\": 0, \"ticks\": \"\"}}, \"type\": \"scatterpolar\"}], \"scatterpolargl\": [{\"marker\": {\"colorbar\": {\"outlinewidth\": 0, \"ticks\": \"\"}}, \"type\": \"scatterpolargl\"}], \"scatterternary\": [{\"marker\": {\"colorbar\": {\"outlinewidth\": 0, \"ticks\": \"\"}}, \"type\": \"scatterternary\"}], \"surface\": [{\"colorbar\": {\"outlinewidth\": 0, \"ticks\": \"\"}, \"colorscale\": [[0.0, \"#0d0887\"], [0.1111111111111111, \"#46039f\"], [0.2222222222222222, \"#7201a8\"], [0.3333333333333333, \"#9c179e\"], [0.4444444444444444, \"#bd3786\"], [0.5555555555555556, \"#d8576b\"], [0.6666666666666666, \"#ed7953\"], [0.7777777777777778, \"#fb9f3a\"], [0.8888888888888888, \"#fdca26\"], [1.0, \"#f0f921\"]], \"type\": \"surface\"}], \"table\": [{\"cells\": {\"fill\": {\"color\": \"#EBF0F8\"}, \"line\": {\"color\": \"white\"}}, \"header\": {\"fill\": {\"color\": \"#C8D4E3\"}, \"line\": {\"color\": \"white\"}}, \"type\": \"table\"}]}, \"layout\": {\"annotationdefaults\": {\"arrowcolor\": \"#2a3f5f\", \"arrowhead\": 0, \"arrowwidth\": 1}, \"coloraxis\": {\"colorbar\": {\"outlinewidth\": 0, \"ticks\": \"\"}}, \"colorscale\": {\"diverging\": [[0, \"#8e0152\"], [0.1, \"#c51b7d\"], [0.2, \"#de77ae\"], [0.3, \"#f1b6da\"], [0.4, \"#fde0ef\"], [0.5, \"#f7f7f7\"], [0.6, \"#e6f5d0\"], [0.7, \"#b8e186\"], [0.8, \"#7fbc41\"], [0.9, \"#4d9221\"], [1, \"#276419\"]], \"sequential\": [[0.0, \"#0d0887\"], [0.1111111111111111, \"#46039f\"], [0.2222222222222222, \"#7201a8\"], [0.3333333333333333, \"#9c179e\"], [0.4444444444444444, \"#bd3786\"], [0.5555555555555556, \"#d8576b\"], [0.6666666666666666, \"#ed7953\"], [0.7777777777777778, \"#fb9f3a\"], [0.8888888888888888, \"#fdca26\"], [1.0, \"#f0f921\"]], \"sequentialminus\": [[0.0, \"#0d0887\"], [0.1111111111111111, \"#46039f\"], [0.2222222222222222, \"#7201a8\"], [0.3333333333333333, \"#9c179e\"], [0.4444444444444444, \"#bd3786\"], [0.5555555555555556, \"#d8576b\"], [0.6666666666666666, \"#ed7953\"], [0.7777777777777778, \"#fb9f3a\"], [0.8888888888888888, \"#fdca26\"], [1.0, \"#f0f921\"]]}, \"colorway\": [\"#636efa\", \"#EF553B\", \"#00cc96\", \"#ab63fa\", \"#FFA15A\", \"#19d3f3\", \"#FF6692\", \"#B6E880\", \"#FF97FF\", \"#FECB52\"], \"font\": {\"color\": \"#2a3f5f\"}, \"geo\": {\"bgcolor\": \"white\", \"lakecolor\": \"white\", \"landcolor\": \"#E5ECF6\", \"showlakes\": true, \"showland\": true, \"subunitcolor\": \"white\"}, \"hoverlabel\": {\"align\": \"left\"}, \"hovermode\": \"closest\", \"mapbox\": {\"style\": \"light\"}, \"paper_bgcolor\": \"white\", \"plot_bgcolor\": \"#E5ECF6\", \"polar\": {\"angularaxis\": {\"gridcolor\": \"white\", \"linecolor\": \"white\", \"ticks\": \"\"}, \"bgcolor\": \"#E5ECF6\", \"radialaxis\": {\"gridcolor\": \"white\", \"linecolor\": \"white\", \"ticks\": \"\"}}, \"scene\": {\"xaxis\": {\"backgroundcolor\": \"#E5ECF6\", \"gridcolor\": \"white\", \"gridwidth\": 2, \"linecolor\": \"white\", \"showbackground\": true, \"ticks\": \"\", \"zerolinecolor\": \"white\"}, \"yaxis\": {\"backgroundcolor\": \"#E5ECF6\", \"gridcolor\": \"white\", \"gridwidth\": 2, \"linecolor\": \"white\", \"showbackground\": true, \"ticks\": \"\", \"zerolinecolor\": \"white\"}, \"zaxis\": {\"backgroundcolor\": \"#E5ECF6\", \"gridcolor\": \"white\", \"gridwidth\": 2, \"linecolor\": \"white\", \"showbackground\": true, \"ticks\": \"\", \"zerolinecolor\": \"white\"}}, \"shapedefaults\": {\"line\": {\"color\": \"#2a3f5f\"}}, \"ternary\": {\"aaxis\": {\"gridcolor\": \"white\", \"linecolor\": \"white\", \"ticks\": \"\"}, \"baxis\": {\"gridcolor\": \"white\", \"linecolor\": \"white\", \"ticks\": \"\"}, \"bgcolor\": \"#E5ECF6\", \"caxis\": {\"gridcolor\": \"white\", \"linecolor\": \"white\", \"ticks\": \"\"}}, \"title\": {\"x\": 0.05}, \"xaxis\": {\"automargin\": true, \"gridcolor\": \"white\", \"linecolor\": \"white\", \"ticks\": \"\", \"title\": {\"standoff\": 15}, \"zerolinecolor\": \"white\", \"zerolinewidth\": 2}, \"yaxis\": {\"automargin\": true, \"gridcolor\": \"white\", \"linecolor\": \"white\", \"ticks\": \"\", \"title\": {\"standoff\": 15}, \"zerolinecolor\": \"white\", \"zerolinewidth\": 2}}}, \"title\": {\"text\": \"Module number 3\"}},\n",
       "                        {\"responsive\": true}\n",
       "                    ).then(function(){\n",
       "                            \n",
       "var gd = document.getElementById('78c15d24-b029-4623-90d7-ed2cacba829f');\n",
       "var x = new MutationObserver(function (mutations, observer) {{\n",
       "        var display = window.getComputedStyle(gd).display;\n",
       "        if (!display || display === 'none') {{\n",
       "            console.log([gd, 'removed!']);\n",
       "            Plotly.purge(gd);\n",
       "            observer.disconnect();\n",
       "        }}\n",
       "}});\n",
       "\n",
       "// Listen for the removal of the full notebook cells\n",
       "var notebookContainer = gd.closest('#notebook-container');\n",
       "if (notebookContainer) {{\n",
       "    x.observe(notebookContainer, {childList: true});\n",
       "}}\n",
       "\n",
       "// Listen for the clearing of the current output cell\n",
       "var outputEl = gd.closest('.output');\n",
       "if (outputEl) {{\n",
       "    x.observe(outputEl, {childList: true});\n",
       "}}\n",
       "\n",
       "                        })\n",
       "                };\n",
       "                });\n",
       "            </script>\n",
       "        </div>"
      ]
     },
     "metadata": {},
     "output_type": "display_data"
    },
    {
     "data": {
      "application/vnd.plotly.v1+json": {
       "config": {
        "plotlyServerURL": "https://plot.ly"
       },
       "data": [
        {
         "mode": "lines+markers",
         "name": "Pulse index: 0",
         "type": "scatter",
         "x": [
          6381770,
          6381771,
          6381772,
          6381773,
          6381774,
          6381775,
          6381776,
          6381777,
          6381778,
          6381779,
          6381780,
          6381781,
          6381782,
          6381783,
          6381784,
          6381785,
          6381786,
          6381787,
          6381788,
          6381789,
          6381790,
          6381791
         ],
         "y": [
          0.14973586797714233,
          0.18829402327537537,
          -0.05670899897813797,
          0.0009355235379189253,
          0.15743781626224518,
          0.9872639179229736,
          -0.09070944786071777,
          0.13088937103748322,
          0.16286608576774597,
          -0.22470024228096008,
          0.10509748011827469,
          -0.11148419231176376,
          0.021526627242565155,
          0.06484562158584595,
          0.05218061804771423,
          -0.02867407351732254,
          -0.28319284319877625,
          0.0817246213555336,
          0.07229768484830856,
          -0.2687947154045105,
          0.09475066512823105,
          0.11168830096721649
         ]
        },
        {
         "mode": "lines+markers",
         "name": "Pulse index: 1",
         "type": "scatter",
         "x": [
          6381770,
          6381771,
          6381772,
          6381773,
          6381774,
          6381775,
          6381776,
          6381777,
          6381778,
          6381779,
          6381780,
          6381781,
          6381782,
          6381783,
          6381784,
          6381785,
          6381786,
          6381787,
          6381788,
          6381789,
          6381790,
          6381791
         ],
         "y": [
          -0.1398361772298813,
          -0.3008711040019989,
          -0.4256115257740021,
          0.14327020943164825,
          -0.040257297456264496,
          0.017599040642380714,
          0.1278429478406906,
          0.008547620847821236,
          -0.19378012418746948,
          0.03844095394015312,
          -0.026579275727272034,
          -0.056396715342998505,
          -0.08045696467161179,
          -0.1083054170012474,
          -0.04550653323531151,
          -0.2052609622478485,
          0.026799721643328667,
          0.7555037140846252,
          0.07622278481721878,
          -0.06645305454730988,
          -0.413635790348053,
          -0.034088294953107834
         ]
        },
        {
         "mode": "lines+markers",
         "name": "Pulse index: 2",
         "type": "scatter",
         "x": [
          6381770,
          6381771,
          6381772,
          6381773,
          6381774,
          6381775,
          6381776,
          6381777,
          6381778,
          6381779,
          6381780,
          6381781,
          6381782,
          6381783,
          6381784,
          6381785,
          6381786,
          6381787,
          6381788,
          6381789,
          6381790,
          6381791
         ],
         "y": [
          0.44245752692222595,
          -0.0008142995648086071,
          -0.09486036002635956,
          -0.14681917428970337,
          0.18037676811218262,
          0.5327821373939514,
          0.042906828224658966,
          0.25696125626564026,
          0.07361384481191635,
          0.043916668742895126,
          0.04929225891828537,
          -0.0568678118288517,
          -0.2993999123573303,
          -0.04150302708148956,
          0.7572451233863831,
          0.12447574734687805,
          null,
          0.04142771661281586,
          -0.20723716914653778,
          0.008920499123632908,
          0.21868067979812622,
          0.044699911028146744
         ]
        },
        {
         "mode": "lines+markers",
         "name": "Pulse index: 3",
         "type": "scatter",
         "x": [
          6381770,
          6381771,
          6381772,
          6381773,
          6381774,
          6381775,
          6381776,
          6381777,
          6381778,
          6381779,
          6381780,
          6381781,
          6381782,
          6381783,
          6381784,
          6381785,
          6381786,
          6381787,
          6381788,
          6381789,
          6381790,
          6381791
         ],
         "y": [
          -0.9043338298797607,
          -0.4114202857017517,
          -0.658293604850769,
          -0.505479097366333,
          -0.30985018610954285,
          -0.16894347965717316,
          -0.2944525182247162,
          -0.4215673804283142,
          -0.23580728471279144,
          -0.3377319276332855,
          -0.45406657457351685,
          -1.2144758701324463,
          -0.762925386428833,
          -0.49194154143333435,
          -1.1316391229629517,
          -1.380333423614502,
          -1.0085227489471436,
          -0.30124181509017944,
          0.07887332886457443,
          0.042772237211465836,
          -0.5804760456085205,
          -0.7521002888679504
         ]
        },
        {
         "mode": "lines+markers",
         "name": "Pulse index: 4",
         "type": "scatter",
         "x": [
          6381770,
          6381771,
          6381772,
          6381773,
          6381774,
          6381775,
          6381776,
          6381777,
          6381778,
          6381779,
          6381780,
          6381781,
          6381782,
          6381783,
          6381784,
          6381785,
          6381786,
          6381787,
          6381788,
          6381789,
          6381790,
          6381791
         ],
         "y": [
          -0.20067639648914337,
          -0.1811697781085968,
          -0.1538367122411728,
          -0.31013524532318115,
          -0.2147466093301773,
          -0.12760409712791443,
          0.3700239956378937,
          0.2723720669746399,
          0.08272604644298553,
          0.16514797508716583,
          -0.3177461624145508,
          -0.6898764967918396,
          -0.13357576727867126,
          -0.3330606520175934,
          -0.6535146832466125,
          -0.7029257416725159,
          -0.771841824054718,
          -0.6399869918823242,
          -0.6217642426490784,
          0.02891446091234684,
          -0.13313204050064087,
          -0.6332752704620361
         ]
        },
        {
         "mode": "lines+markers",
         "name": "Pulse index: 5",
         "type": "scatter",
         "x": [
          6381770,
          6381771,
          6381772,
          6381773,
          6381774,
          6381775,
          6381776,
          6381777,
          6381778,
          6381779,
          6381780,
          6381781,
          6381782,
          6381783,
          6381784,
          6381785,
          6381786,
          6381787,
          6381788,
          6381789,
          6381790,
          6381791
         ],
         "y": [
          -0.18591971695423126,
          0.08279655128717422,
          -0.23996184766292572,
          0.09315849095582962,
          0.030420945957303047,
          0.2697277069091797,
          0.36230337619781494,
          0.4287700653076172,
          0.34547901153564453,
          0.36797723174095154,
          0.2132272869348526,
          -0.48988187313079834,
          -0.3840557932853699,
          -0.55316162109375,
          -0.6046527028083801,
          -0.6525506377220154,
          -0.2780017554759979,
          -0.08550415188074112,
          0.04971306025981903,
          0.1562609076499939,
          -0.3835791349411011,
          -0.6604234576225281
         ]
        },
        {
         "mode": "lines+markers",
         "name": "Pulse index: 6",
         "type": "scatter",
         "x": [
          6381770,
          6381771,
          6381772,
          6381773,
          6381774,
          6381775,
          6381776,
          6381777,
          6381778,
          6381779,
          6381780,
          6381781,
          6381782,
          6381783,
          6381784,
          6381785,
          6381786,
          6381787,
          6381788,
          6381789,
          6381790,
          6381791
         ],
         "y": [
          -0.1273389309644699,
          -0.09494474530220032,
          -0.04129025340080261,
          0.5204513669013977,
          0.16644668579101562,
          0.29284027218818665,
          0.3738265931606293,
          -0.19545134902000427,
          -0.11050732433795929,
          -0.07808926701545715,
          -0.538823664188385,
          -0.5829197764396667,
          -0.5484384298324585,
          -0.6656857132911682,
          -0.8533174395561218,
          -0.7022647261619568,
          -0.5751739144325256,
          -0.2858468294143677,
          -0.11359037458896637,
          -0.207966610789299,
          -0.838507890701294,
          -0.7309128046035767
         ]
        },
        {
         "mode": "lines+markers",
         "name": "Pulse index: 7",
         "type": "scatter",
         "x": [
          6381770,
          6381771,
          6381772,
          6381773,
          6381774,
          6381775,
          6381776,
          6381777,
          6381778,
          6381779,
          6381780,
          6381781,
          6381782,
          6381783,
          6381784,
          6381785,
          6381786,
          6381787,
          6381788,
          6381789,
          6381790,
          6381791
         ],
         "y": [
          0.15279050171375275,
          0.024956470355391502,
          -0.0034577567130327225,
          0.1811765879392624,
          -0.017534812912344933,
          0.2393723875284195,
          0.5396816730499268,
          0.15783792734146118,
          0.2821773290634155,
          0.09557531028985977,
          -0.05694053694605827,
          -0.3833383619785309,
          -0.1898168921470642,
          -0.550793468952179,
          -0.5441681146621704,
          -0.16761229932308197,
          -0.6674370765686035,
          -0.25875598192214966,
          0.011041741818189621,
          0.061783887445926666,
          -0.6358116269111633,
          -0.096613809466362
         ]
        },
        {
         "mode": "lines+markers",
         "name": "Pulse index: 8",
         "type": "scatter",
         "x": [
          6381770,
          6381771,
          6381772,
          6381773,
          6381774,
          6381775,
          6381776,
          6381777,
          6381778,
          6381779,
          6381780,
          6381781,
          6381782,
          6381783,
          6381784,
          6381785,
          6381786,
          6381787,
          6381788,
          6381789,
          6381790,
          6381791
         ],
         "y": [
          0.012542946264147758,
          0.3730683922767639,
          0.16843779385089874,
          0.20317338407039642,
          -0.1345696747303009,
          0.03251059353351593,
          0.11182638257741928,
          0.343282014131546,
          0.21771240234375,
          0.11612387746572495,
          -0.3483763337135315,
          -0.43619734048843384,
          0.016596918925642967,
          0.12485431879758835,
          -0.3991518020629883,
          -0.21877098083496094,
          -0.42182448506355286,
          -0.19444036483764648,
          -0.4648585915565491,
          -0.45395222306251526,
          0.4185542166233063,
          0.10316414386034012
         ]
        },
        {
         "mode": "lines+markers",
         "name": "Pulse index: 9",
         "type": "scatter",
         "x": [
          6381770,
          6381771,
          6381772,
          6381773,
          6381774,
          6381775,
          6381776,
          6381777,
          6381778,
          6381779,
          6381780,
          6381781,
          6381782,
          6381783,
          6381784,
          6381785,
          6381786,
          6381787,
          6381788,
          6381789,
          6381790,
          6381791
         ],
         "y": [
          -0.7268211841583252,
          -0.42819127440452576,
          -0.6401111483573914,
          -0.4463546872138977,
          -0.5781702399253845,
          -0.005722460802644491,
          -0.3745596706867218,
          -0.5690590143203735,
          -0.43482905626296997,
          -0.3873574733734131,
          -0.8291617631912231,
          -0.9881004691123962,
          -0.7330262660980225,
          -1.257069706916809,
          -1.1303035020828247,
          -1.3861138820648193,
          -0.44796043634414673,
          -0.3931111693382263,
          -0.23652562499046326,
          -0.15119360387325287,
          -0.7672511339187622,
          -0.8073731660842896
         ]
        },
        {
         "mode": "lines+markers",
         "name": "Pulse index: 10",
         "type": "scatter",
         "x": [
          6381770,
          6381771,
          6381772,
          6381773,
          6381774,
          6381775,
          6381776,
          6381777,
          6381778,
          6381779,
          6381780,
          6381781,
          6381782,
          6381783,
          6381784,
          6381785,
          6381786,
          6381787,
          6381788,
          6381789,
          6381790,
          6381791
         ],
         "y": [
          -0.32321903109550476,
          0.050502318888902664,
          -0.3955039083957672,
          -0.05318359285593033,
          -0.28284311294555664,
          -0.22666320204734802,
          0.27243712544441223,
          -0.10150695592164993,
          -0.03959263116121292,
          -0.17155517637729645,
          -0.5147773027420044,
          -0.5270581245422363,
          -0.31693848967552185,
          -0.3283068835735321,
          -0.27571165561676025,
          -0.641190767288208,
          -0.675112783908844,
          -0.5291471481323242,
          -0.28476133942604065,
          -0.1301916539669037,
          -0.2409326136112213,
          -0.7078911066055298
         ]
        }
       ],
       "layout": {
        "template": {
         "data": {
          "bar": [
           {
            "error_x": {
             "color": "#2a3f5f"
            },
            "error_y": {
             "color": "#2a3f5f"
            },
            "marker": {
             "line": {
              "color": "#E5ECF6",
              "width": 0.5
             }
            },
            "type": "bar"
           }
          ],
          "barpolar": [
           {
            "marker": {
             "line": {
              "color": "#E5ECF6",
              "width": 0.5
             }
            },
            "type": "barpolar"
           }
          ],
          "carpet": [
           {
            "aaxis": {
             "endlinecolor": "#2a3f5f",
             "gridcolor": "white",
             "linecolor": "white",
             "minorgridcolor": "white",
             "startlinecolor": "#2a3f5f"
            },
            "baxis": {
             "endlinecolor": "#2a3f5f",
             "gridcolor": "white",
             "linecolor": "white",
             "minorgridcolor": "white",
             "startlinecolor": "#2a3f5f"
            },
            "type": "carpet"
           }
          ],
          "choropleth": [
           {
            "colorbar": {
             "outlinewidth": 0,
             "ticks": ""
            },
            "type": "choropleth"
           }
          ],
          "contour": [
           {
            "colorbar": {
             "outlinewidth": 0,
             "ticks": ""
            },
            "colorscale": [
             [
              0,
              "#0d0887"
             ],
             [
              0.1111111111111111,
              "#46039f"
             ],
             [
              0.2222222222222222,
              "#7201a8"
             ],
             [
              0.3333333333333333,
              "#9c179e"
             ],
             [
              0.4444444444444444,
              "#bd3786"
             ],
             [
              0.5555555555555556,
              "#d8576b"
             ],
             [
              0.6666666666666666,
              "#ed7953"
             ],
             [
              0.7777777777777778,
              "#fb9f3a"
             ],
             [
              0.8888888888888888,
              "#fdca26"
             ],
             [
              1,
              "#f0f921"
             ]
            ],
            "type": "contour"
           }
          ],
          "contourcarpet": [
           {
            "colorbar": {
             "outlinewidth": 0,
             "ticks": ""
            },
            "type": "contourcarpet"
           }
          ],
          "heatmap": [
           {
            "colorbar": {
             "outlinewidth": 0,
             "ticks": ""
            },
            "colorscale": [
             [
              0,
              "#0d0887"
             ],
             [
              0.1111111111111111,
              "#46039f"
             ],
             [
              0.2222222222222222,
              "#7201a8"
             ],
             [
              0.3333333333333333,
              "#9c179e"
             ],
             [
              0.4444444444444444,
              "#bd3786"
             ],
             [
              0.5555555555555556,
              "#d8576b"
             ],
             [
              0.6666666666666666,
              "#ed7953"
             ],
             [
              0.7777777777777778,
              "#fb9f3a"
             ],
             [
              0.8888888888888888,
              "#fdca26"
             ],
             [
              1,
              "#f0f921"
             ]
            ],
            "type": "heatmap"
           }
          ],
          "heatmapgl": [
           {
            "colorbar": {
             "outlinewidth": 0,
             "ticks": ""
            },
            "colorscale": [
             [
              0,
              "#0d0887"
             ],
             [
              0.1111111111111111,
              "#46039f"
             ],
             [
              0.2222222222222222,
              "#7201a8"
             ],
             [
              0.3333333333333333,
              "#9c179e"
             ],
             [
              0.4444444444444444,
              "#bd3786"
             ],
             [
              0.5555555555555556,
              "#d8576b"
             ],
             [
              0.6666666666666666,
              "#ed7953"
             ],
             [
              0.7777777777777778,
              "#fb9f3a"
             ],
             [
              0.8888888888888888,
              "#fdca26"
             ],
             [
              1,
              "#f0f921"
             ]
            ],
            "type": "heatmapgl"
           }
          ],
          "histogram": [
           {
            "marker": {
             "colorbar": {
              "outlinewidth": 0,
              "ticks": ""
             }
            },
            "type": "histogram"
           }
          ],
          "histogram2d": [
           {
            "colorbar": {
             "outlinewidth": 0,
             "ticks": ""
            },
            "colorscale": [
             [
              0,
              "#0d0887"
             ],
             [
              0.1111111111111111,
              "#46039f"
             ],
             [
              0.2222222222222222,
              "#7201a8"
             ],
             [
              0.3333333333333333,
              "#9c179e"
             ],
             [
              0.4444444444444444,
              "#bd3786"
             ],
             [
              0.5555555555555556,
              "#d8576b"
             ],
             [
              0.6666666666666666,
              "#ed7953"
             ],
             [
              0.7777777777777778,
              "#fb9f3a"
             ],
             [
              0.8888888888888888,
              "#fdca26"
             ],
             [
              1,
              "#f0f921"
             ]
            ],
            "type": "histogram2d"
           }
          ],
          "histogram2dcontour": [
           {
            "colorbar": {
             "outlinewidth": 0,
             "ticks": ""
            },
            "colorscale": [
             [
              0,
              "#0d0887"
             ],
             [
              0.1111111111111111,
              "#46039f"
             ],
             [
              0.2222222222222222,
              "#7201a8"
             ],
             [
              0.3333333333333333,
              "#9c179e"
             ],
             [
              0.4444444444444444,
              "#bd3786"
             ],
             [
              0.5555555555555556,
              "#d8576b"
             ],
             [
              0.6666666666666666,
              "#ed7953"
             ],
             [
              0.7777777777777778,
              "#fb9f3a"
             ],
             [
              0.8888888888888888,
              "#fdca26"
             ],
             [
              1,
              "#f0f921"
             ]
            ],
            "type": "histogram2dcontour"
           }
          ],
          "mesh3d": [
           {
            "colorbar": {
             "outlinewidth": 0,
             "ticks": ""
            },
            "type": "mesh3d"
           }
          ],
          "parcoords": [
           {
            "line": {
             "colorbar": {
              "outlinewidth": 0,
              "ticks": ""
             }
            },
            "type": "parcoords"
           }
          ],
          "pie": [
           {
            "automargin": true,
            "type": "pie"
           }
          ],
          "scatter": [
           {
            "marker": {
             "colorbar": {
              "outlinewidth": 0,
              "ticks": ""
             }
            },
            "type": "scatter"
           }
          ],
          "scatter3d": [
           {
            "line": {
             "colorbar": {
              "outlinewidth": 0,
              "ticks": ""
             }
            },
            "marker": {
             "colorbar": {
              "outlinewidth": 0,
              "ticks": ""
             }
            },
            "type": "scatter3d"
           }
          ],
          "scattercarpet": [
           {
            "marker": {
             "colorbar": {
              "outlinewidth": 0,
              "ticks": ""
             }
            },
            "type": "scattercarpet"
           }
          ],
          "scattergeo": [
           {
            "marker": {
             "colorbar": {
              "outlinewidth": 0,
              "ticks": ""
             }
            },
            "type": "scattergeo"
           }
          ],
          "scattergl": [
           {
            "marker": {
             "colorbar": {
              "outlinewidth": 0,
              "ticks": ""
             }
            },
            "type": "scattergl"
           }
          ],
          "scattermapbox": [
           {
            "marker": {
             "colorbar": {
              "outlinewidth": 0,
              "ticks": ""
             }
            },
            "type": "scattermapbox"
           }
          ],
          "scatterpolar": [
           {
            "marker": {
             "colorbar": {
              "outlinewidth": 0,
              "ticks": ""
             }
            },
            "type": "scatterpolar"
           }
          ],
          "scatterpolargl": [
           {
            "marker": {
             "colorbar": {
              "outlinewidth": 0,
              "ticks": ""
             }
            },
            "type": "scatterpolargl"
           }
          ],
          "scatterternary": [
           {
            "marker": {
             "colorbar": {
              "outlinewidth": 0,
              "ticks": ""
             }
            },
            "type": "scatterternary"
           }
          ],
          "surface": [
           {
            "colorbar": {
             "outlinewidth": 0,
             "ticks": ""
            },
            "colorscale": [
             [
              0,
              "#0d0887"
             ],
             [
              0.1111111111111111,
              "#46039f"
             ],
             [
              0.2222222222222222,
              "#7201a8"
             ],
             [
              0.3333333333333333,
              "#9c179e"
             ],
             [
              0.4444444444444444,
              "#bd3786"
             ],
             [
              0.5555555555555556,
              "#d8576b"
             ],
             [
              0.6666666666666666,
              "#ed7953"
             ],
             [
              0.7777777777777778,
              "#fb9f3a"
             ],
             [
              0.8888888888888888,
              "#fdca26"
             ],
             [
              1,
              "#f0f921"
             ]
            ],
            "type": "surface"
           }
          ],
          "table": [
           {
            "cells": {
             "fill": {
              "color": "#EBF0F8"
             },
             "line": {
              "color": "white"
             }
            },
            "header": {
             "fill": {
              "color": "#C8D4E3"
             },
             "line": {
              "color": "white"
             }
            },
            "type": "table"
           }
          ]
         },
         "layout": {
          "annotationdefaults": {
           "arrowcolor": "#2a3f5f",
           "arrowhead": 0,
           "arrowwidth": 1
          },
          "coloraxis": {
           "colorbar": {
            "outlinewidth": 0,
            "ticks": ""
           }
          },
          "colorscale": {
           "diverging": [
            [
             0,
             "#8e0152"
            ],
            [
             0.1,
             "#c51b7d"
            ],
            [
             0.2,
             "#de77ae"
            ],
            [
             0.3,
             "#f1b6da"
            ],
            [
             0.4,
             "#fde0ef"
            ],
            [
             0.5,
             "#f7f7f7"
            ],
            [
             0.6,
             "#e6f5d0"
            ],
            [
             0.7,
             "#b8e186"
            ],
            [
             0.8,
             "#7fbc41"
            ],
            [
             0.9,
             "#4d9221"
            ],
            [
             1,
             "#276419"
            ]
           ],
           "sequential": [
            [
             0,
             "#0d0887"
            ],
            [
             0.1111111111111111,
             "#46039f"
            ],
            [
             0.2222222222222222,
             "#7201a8"
            ],
            [
             0.3333333333333333,
             "#9c179e"
            ],
            [
             0.4444444444444444,
             "#bd3786"
            ],
            [
             0.5555555555555556,
             "#d8576b"
            ],
            [
             0.6666666666666666,
             "#ed7953"
            ],
            [
             0.7777777777777778,
             "#fb9f3a"
            ],
            [
             0.8888888888888888,
             "#fdca26"
            ],
            [
             1,
             "#f0f921"
            ]
           ],
           "sequentialminus": [
            [
             0,
             "#0d0887"
            ],
            [
             0.1111111111111111,
             "#46039f"
            ],
            [
             0.2222222222222222,
             "#7201a8"
            ],
            [
             0.3333333333333333,
             "#9c179e"
            ],
            [
             0.4444444444444444,
             "#bd3786"
            ],
            [
             0.5555555555555556,
             "#d8576b"
            ],
            [
             0.6666666666666666,
             "#ed7953"
            ],
            [
             0.7777777777777778,
             "#fb9f3a"
            ],
            [
             0.8888888888888888,
             "#fdca26"
            ],
            [
             1,
             "#f0f921"
            ]
           ]
          },
          "colorway": [
           "#636efa",
           "#EF553B",
           "#00cc96",
           "#ab63fa",
           "#FFA15A",
           "#19d3f3",
           "#FF6692",
           "#B6E880",
           "#FF97FF",
           "#FECB52"
          ],
          "font": {
           "color": "#2a3f5f"
          },
          "geo": {
           "bgcolor": "white",
           "lakecolor": "white",
           "landcolor": "#E5ECF6",
           "showlakes": true,
           "showland": true,
           "subunitcolor": "white"
          },
          "hoverlabel": {
           "align": "left"
          },
          "hovermode": "closest",
          "mapbox": {
           "style": "light"
          },
          "paper_bgcolor": "white",
          "plot_bgcolor": "#E5ECF6",
          "polar": {
           "angularaxis": {
            "gridcolor": "white",
            "linecolor": "white",
            "ticks": ""
           },
           "bgcolor": "#E5ECF6",
           "radialaxis": {
            "gridcolor": "white",
            "linecolor": "white",
            "ticks": ""
           }
          },
          "scene": {
           "xaxis": {
            "backgroundcolor": "#E5ECF6",
            "gridcolor": "white",
            "gridwidth": 2,
            "linecolor": "white",
            "showbackground": true,
            "ticks": "",
            "zerolinecolor": "white"
           },
           "yaxis": {
            "backgroundcolor": "#E5ECF6",
            "gridcolor": "white",
            "gridwidth": 2,
            "linecolor": "white",
            "showbackground": true,
            "ticks": "",
            "zerolinecolor": "white"
           },
           "zaxis": {
            "backgroundcolor": "#E5ECF6",
            "gridcolor": "white",
            "gridwidth": 2,
            "linecolor": "white",
            "showbackground": true,
            "ticks": "",
            "zerolinecolor": "white"
           }
          },
          "shapedefaults": {
           "line": {
            "color": "#2a3f5f"
           }
          },
          "ternary": {
           "aaxis": {
            "gridcolor": "white",
            "linecolor": "white",
            "ticks": ""
           },
           "baxis": {
            "gridcolor": "white",
            "linecolor": "white",
            "ticks": ""
           },
           "bgcolor": "#E5ECF6",
           "caxis": {
            "gridcolor": "white",
            "linecolor": "white",
            "ticks": ""
           }
          },
          "title": {
           "x": 0.05
          },
          "xaxis": {
           "automargin": true,
           "gridcolor": "white",
           "linecolor": "white",
           "ticks": "",
           "title": {
            "standoff": 15
           },
           "zerolinecolor": "white",
           "zerolinewidth": 2
          },
          "yaxis": {
           "automargin": true,
           "gridcolor": "white",
           "linecolor": "white",
           "ticks": "",
           "title": {
            "standoff": 15
           },
           "zerolinecolor": "white",
           "zerolinewidth": 2
          }
         }
        },
        "title": {
         "text": "Module number 4"
        }
       }
      },
      "text/html": [
       "<div>\n",
       "        \n",
       "        \n",
       "            <div id=\"607814c2-f30b-420f-91a6-4667e6687bc6\" class=\"plotly-graph-div\" style=\"height:525px; width:100%;\"></div>\n",
       "            <script type=\"text/javascript\">\n",
       "                require([\"plotly\"], function(Plotly) {\n",
       "                    window.PLOTLYENV=window.PLOTLYENV || {};\n",
       "                    \n",
       "                if (document.getElementById(\"607814c2-f30b-420f-91a6-4667e6687bc6\")) {\n",
       "                    Plotly.newPlot(\n",
       "                        '607814c2-f30b-420f-91a6-4667e6687bc6',\n",
       "                        [{\"mode\": \"lines+markers\", \"name\": \"Pulse index: 0\", \"type\": \"scatter\", \"x\": [6381770, 6381771, 6381772, 6381773, 6381774, 6381775, 6381776, 6381777, 6381778, 6381779, 6381780, 6381781, 6381782, 6381783, 6381784, 6381785, 6381786, 6381787, 6381788, 6381789, 6381790, 6381791], \"y\": [0.14973586797714233, 0.18829402327537537, -0.05670899897813797, 0.0009355235379189253, 0.15743781626224518, 0.9872639179229736, -0.09070944786071777, 0.13088937103748322, 0.16286608576774597, -0.22470024228096008, 0.10509748011827469, -0.11148419231176376, 0.021526627242565155, 0.06484562158584595, 0.05218061804771423, -0.02867407351732254, -0.28319284319877625, 0.0817246213555336, 0.07229768484830856, -0.2687947154045105, 0.09475066512823105, 0.11168830096721649]}, {\"mode\": \"lines+markers\", \"name\": \"Pulse index: 1\", \"type\": \"scatter\", \"x\": [6381770, 6381771, 6381772, 6381773, 6381774, 6381775, 6381776, 6381777, 6381778, 6381779, 6381780, 6381781, 6381782, 6381783, 6381784, 6381785, 6381786, 6381787, 6381788, 6381789, 6381790, 6381791], \"y\": [-0.1398361772298813, -0.3008711040019989, -0.4256115257740021, 0.14327020943164825, -0.040257297456264496, 0.017599040642380714, 0.1278429478406906, 0.008547620847821236, -0.19378012418746948, 0.03844095394015312, -0.026579275727272034, -0.056396715342998505, -0.08045696467161179, -0.1083054170012474, -0.04550653323531151, -0.2052609622478485, 0.026799721643328667, 0.7555037140846252, 0.07622278481721878, -0.06645305454730988, -0.413635790348053, -0.034088294953107834]}, {\"mode\": \"lines+markers\", \"name\": \"Pulse index: 2\", \"type\": \"scatter\", \"x\": [6381770, 6381771, 6381772, 6381773, 6381774, 6381775, 6381776, 6381777, 6381778, 6381779, 6381780, 6381781, 6381782, 6381783, 6381784, 6381785, 6381786, 6381787, 6381788, 6381789, 6381790, 6381791], \"y\": [0.44245752692222595, -0.0008142995648086071, -0.09486036002635956, -0.14681917428970337, 0.18037676811218262, 0.5327821373939514, 0.042906828224658966, 0.25696125626564026, 0.07361384481191635, 0.043916668742895126, 0.04929225891828537, -0.0568678118288517, -0.2993999123573303, -0.04150302708148956, 0.7572451233863831, 0.12447574734687805, null, 0.04142771661281586, -0.20723716914653778, 0.008920499123632908, 0.21868067979812622, 0.044699911028146744]}, {\"mode\": \"lines+markers\", \"name\": \"Pulse index: 3\", \"type\": \"scatter\", \"x\": [6381770, 6381771, 6381772, 6381773, 6381774, 6381775, 6381776, 6381777, 6381778, 6381779, 6381780, 6381781, 6381782, 6381783, 6381784, 6381785, 6381786, 6381787, 6381788, 6381789, 6381790, 6381791], \"y\": [-0.9043338298797607, -0.4114202857017517, -0.658293604850769, -0.505479097366333, -0.30985018610954285, -0.16894347965717316, -0.2944525182247162, -0.4215673804283142, -0.23580728471279144, -0.3377319276332855, -0.45406657457351685, -1.2144758701324463, -0.762925386428833, -0.49194154143333435, -1.1316391229629517, -1.380333423614502, -1.0085227489471436, -0.30124181509017944, 0.07887332886457443, 0.042772237211465836, -0.5804760456085205, -0.7521002888679504]}, {\"mode\": \"lines+markers\", \"name\": \"Pulse index: 4\", \"type\": \"scatter\", \"x\": [6381770, 6381771, 6381772, 6381773, 6381774, 6381775, 6381776, 6381777, 6381778, 6381779, 6381780, 6381781, 6381782, 6381783, 6381784, 6381785, 6381786, 6381787, 6381788, 6381789, 6381790, 6381791], \"y\": [-0.20067639648914337, -0.1811697781085968, -0.1538367122411728, -0.31013524532318115, -0.2147466093301773, -0.12760409712791443, 0.3700239956378937, 0.2723720669746399, 0.08272604644298553, 0.16514797508716583, -0.3177461624145508, -0.6898764967918396, -0.13357576727867126, -0.3330606520175934, -0.6535146832466125, -0.7029257416725159, -0.771841824054718, -0.6399869918823242, -0.6217642426490784, 0.02891446091234684, -0.13313204050064087, -0.6332752704620361]}, {\"mode\": \"lines+markers\", \"name\": \"Pulse index: 5\", \"type\": \"scatter\", \"x\": [6381770, 6381771, 6381772, 6381773, 6381774, 6381775, 6381776, 6381777, 6381778, 6381779, 6381780, 6381781, 6381782, 6381783, 6381784, 6381785, 6381786, 6381787, 6381788, 6381789, 6381790, 6381791], \"y\": [-0.18591971695423126, 0.08279655128717422, -0.23996184766292572, 0.09315849095582962, 0.030420945957303047, 0.2697277069091797, 0.36230337619781494, 0.4287700653076172, 0.34547901153564453, 0.36797723174095154, 0.2132272869348526, -0.48988187313079834, -0.3840557932853699, -0.55316162109375, -0.6046527028083801, -0.6525506377220154, -0.2780017554759979, -0.08550415188074112, 0.04971306025981903, 0.1562609076499939, -0.3835791349411011, -0.6604234576225281]}, {\"mode\": \"lines+markers\", \"name\": \"Pulse index: 6\", \"type\": \"scatter\", \"x\": [6381770, 6381771, 6381772, 6381773, 6381774, 6381775, 6381776, 6381777, 6381778, 6381779, 6381780, 6381781, 6381782, 6381783, 6381784, 6381785, 6381786, 6381787, 6381788, 6381789, 6381790, 6381791], \"y\": [-0.1273389309644699, -0.09494474530220032, -0.04129025340080261, 0.5204513669013977, 0.16644668579101562, 0.29284027218818665, 0.3738265931606293, -0.19545134902000427, -0.11050732433795929, -0.07808926701545715, -0.538823664188385, -0.5829197764396667, -0.5484384298324585, -0.6656857132911682, -0.8533174395561218, -0.7022647261619568, -0.5751739144325256, -0.2858468294143677, -0.11359037458896637, -0.207966610789299, -0.838507890701294, -0.7309128046035767]}, {\"mode\": \"lines+markers\", \"name\": \"Pulse index: 7\", \"type\": \"scatter\", \"x\": [6381770, 6381771, 6381772, 6381773, 6381774, 6381775, 6381776, 6381777, 6381778, 6381779, 6381780, 6381781, 6381782, 6381783, 6381784, 6381785, 6381786, 6381787, 6381788, 6381789, 6381790, 6381791], \"y\": [0.15279050171375275, 0.024956470355391502, -0.0034577567130327225, 0.1811765879392624, -0.017534812912344933, 0.2393723875284195, 0.5396816730499268, 0.15783792734146118, 0.2821773290634155, 0.09557531028985977, -0.05694053694605827, -0.3833383619785309, -0.1898168921470642, -0.550793468952179, -0.5441681146621704, -0.16761229932308197, -0.6674370765686035, -0.25875598192214966, 0.011041741818189621, 0.061783887445926666, -0.6358116269111633, -0.096613809466362]}, {\"mode\": \"lines+markers\", \"name\": \"Pulse index: 8\", \"type\": \"scatter\", \"x\": [6381770, 6381771, 6381772, 6381773, 6381774, 6381775, 6381776, 6381777, 6381778, 6381779, 6381780, 6381781, 6381782, 6381783, 6381784, 6381785, 6381786, 6381787, 6381788, 6381789, 6381790, 6381791], \"y\": [0.012542946264147758, 0.3730683922767639, 0.16843779385089874, 0.20317338407039642, -0.1345696747303009, 0.03251059353351593, 0.11182638257741928, 0.343282014131546, 0.21771240234375, 0.11612387746572495, -0.3483763337135315, -0.43619734048843384, 0.016596918925642967, 0.12485431879758835, -0.3991518020629883, -0.21877098083496094, -0.42182448506355286, -0.19444036483764648, -0.4648585915565491, -0.45395222306251526, 0.4185542166233063, 0.10316414386034012]}, {\"mode\": \"lines+markers\", \"name\": \"Pulse index: 9\", \"type\": \"scatter\", \"x\": [6381770, 6381771, 6381772, 6381773, 6381774, 6381775, 6381776, 6381777, 6381778, 6381779, 6381780, 6381781, 6381782, 6381783, 6381784, 6381785, 6381786, 6381787, 6381788, 6381789, 6381790, 6381791], \"y\": [-0.7268211841583252, -0.42819127440452576, -0.6401111483573914, -0.4463546872138977, -0.5781702399253845, -0.005722460802644491, -0.3745596706867218, -0.5690590143203735, -0.43482905626296997, -0.3873574733734131, -0.8291617631912231, -0.9881004691123962, -0.7330262660980225, -1.257069706916809, -1.1303035020828247, -1.3861138820648193, -0.44796043634414673, -0.3931111693382263, -0.23652562499046326, -0.15119360387325287, -0.7672511339187622, -0.8073731660842896]}, {\"mode\": \"lines+markers\", \"name\": \"Pulse index: 10\", \"type\": \"scatter\", \"x\": [6381770, 6381771, 6381772, 6381773, 6381774, 6381775, 6381776, 6381777, 6381778, 6381779, 6381780, 6381781, 6381782, 6381783, 6381784, 6381785, 6381786, 6381787, 6381788, 6381789, 6381790, 6381791], \"y\": [-0.32321903109550476, 0.050502318888902664, -0.3955039083957672, -0.05318359285593033, -0.28284311294555664, -0.22666320204734802, 0.27243712544441223, -0.10150695592164993, -0.03959263116121292, -0.17155517637729645, -0.5147773027420044, -0.5270581245422363, -0.31693848967552185, -0.3283068835735321, -0.27571165561676025, -0.641190767288208, -0.675112783908844, -0.5291471481323242, -0.28476133942604065, -0.1301916539669037, -0.2409326136112213, -0.7078911066055298]}],\n",
       "                        {\"template\": {\"data\": {\"bar\": [{\"error_x\": {\"color\": \"#2a3f5f\"}, \"error_y\": {\"color\": \"#2a3f5f\"}, \"marker\": {\"line\": {\"color\": \"#E5ECF6\", \"width\": 0.5}}, \"type\": \"bar\"}], \"barpolar\": [{\"marker\": {\"line\": {\"color\": \"#E5ECF6\", \"width\": 0.5}}, \"type\": \"barpolar\"}], \"carpet\": [{\"aaxis\": {\"endlinecolor\": \"#2a3f5f\", \"gridcolor\": \"white\", \"linecolor\": \"white\", \"minorgridcolor\": \"white\", \"startlinecolor\": \"#2a3f5f\"}, \"baxis\": {\"endlinecolor\": \"#2a3f5f\", \"gridcolor\": \"white\", \"linecolor\": \"white\", \"minorgridcolor\": \"white\", \"startlinecolor\": \"#2a3f5f\"}, \"type\": \"carpet\"}], \"choropleth\": [{\"colorbar\": {\"outlinewidth\": 0, \"ticks\": \"\"}, \"type\": \"choropleth\"}], \"contour\": [{\"colorbar\": {\"outlinewidth\": 0, \"ticks\": \"\"}, \"colorscale\": [[0.0, \"#0d0887\"], [0.1111111111111111, \"#46039f\"], [0.2222222222222222, \"#7201a8\"], [0.3333333333333333, \"#9c179e\"], [0.4444444444444444, \"#bd3786\"], [0.5555555555555556, \"#d8576b\"], [0.6666666666666666, \"#ed7953\"], [0.7777777777777778, \"#fb9f3a\"], [0.8888888888888888, \"#fdca26\"], [1.0, \"#f0f921\"]], \"type\": \"contour\"}], \"contourcarpet\": [{\"colorbar\": {\"outlinewidth\": 0, \"ticks\": \"\"}, \"type\": \"contourcarpet\"}], \"heatmap\": [{\"colorbar\": {\"outlinewidth\": 0, \"ticks\": \"\"}, \"colorscale\": [[0.0, \"#0d0887\"], [0.1111111111111111, \"#46039f\"], [0.2222222222222222, \"#7201a8\"], [0.3333333333333333, \"#9c179e\"], [0.4444444444444444, \"#bd3786\"], [0.5555555555555556, \"#d8576b\"], [0.6666666666666666, \"#ed7953\"], [0.7777777777777778, \"#fb9f3a\"], [0.8888888888888888, \"#fdca26\"], [1.0, \"#f0f921\"]], \"type\": \"heatmap\"}], \"heatmapgl\": [{\"colorbar\": {\"outlinewidth\": 0, \"ticks\": \"\"}, \"colorscale\": [[0.0, \"#0d0887\"], [0.1111111111111111, \"#46039f\"], [0.2222222222222222, \"#7201a8\"], [0.3333333333333333, \"#9c179e\"], [0.4444444444444444, \"#bd3786\"], [0.5555555555555556, \"#d8576b\"], [0.6666666666666666, \"#ed7953\"], [0.7777777777777778, \"#fb9f3a\"], [0.8888888888888888, \"#fdca26\"], [1.0, \"#f0f921\"]], \"type\": \"heatmapgl\"}], \"histogram\": [{\"marker\": {\"colorbar\": {\"outlinewidth\": 0, \"ticks\": \"\"}}, \"type\": \"histogram\"}], \"histogram2d\": [{\"colorbar\": {\"outlinewidth\": 0, \"ticks\": \"\"}, \"colorscale\": [[0.0, \"#0d0887\"], [0.1111111111111111, \"#46039f\"], [0.2222222222222222, \"#7201a8\"], [0.3333333333333333, \"#9c179e\"], [0.4444444444444444, \"#bd3786\"], [0.5555555555555556, \"#d8576b\"], [0.6666666666666666, \"#ed7953\"], [0.7777777777777778, \"#fb9f3a\"], [0.8888888888888888, \"#fdca26\"], [1.0, \"#f0f921\"]], \"type\": \"histogram2d\"}], \"histogram2dcontour\": [{\"colorbar\": {\"outlinewidth\": 0, \"ticks\": \"\"}, \"colorscale\": [[0.0, \"#0d0887\"], [0.1111111111111111, \"#46039f\"], [0.2222222222222222, \"#7201a8\"], [0.3333333333333333, \"#9c179e\"], [0.4444444444444444, \"#bd3786\"], [0.5555555555555556, \"#d8576b\"], [0.6666666666666666, \"#ed7953\"], [0.7777777777777778, \"#fb9f3a\"], [0.8888888888888888, \"#fdca26\"], [1.0, \"#f0f921\"]], \"type\": \"histogram2dcontour\"}], \"mesh3d\": [{\"colorbar\": {\"outlinewidth\": 0, \"ticks\": \"\"}, \"type\": \"mesh3d\"}], \"parcoords\": [{\"line\": {\"colorbar\": {\"outlinewidth\": 0, \"ticks\": \"\"}}, \"type\": \"parcoords\"}], \"pie\": [{\"automargin\": true, \"type\": \"pie\"}], \"scatter\": [{\"marker\": {\"colorbar\": {\"outlinewidth\": 0, \"ticks\": \"\"}}, \"type\": \"scatter\"}], \"scatter3d\": [{\"line\": {\"colorbar\": {\"outlinewidth\": 0, \"ticks\": \"\"}}, \"marker\": {\"colorbar\": {\"outlinewidth\": 0, \"ticks\": \"\"}}, \"type\": \"scatter3d\"}], \"scattercarpet\": [{\"marker\": {\"colorbar\": {\"outlinewidth\": 0, \"ticks\": \"\"}}, \"type\": \"scattercarpet\"}], \"scattergeo\": [{\"marker\": {\"colorbar\": {\"outlinewidth\": 0, \"ticks\": \"\"}}, \"type\": \"scattergeo\"}], \"scattergl\": [{\"marker\": {\"colorbar\": {\"outlinewidth\": 0, \"ticks\": \"\"}}, \"type\": \"scattergl\"}], \"scattermapbox\": [{\"marker\": {\"colorbar\": {\"outlinewidth\": 0, \"ticks\": \"\"}}, \"type\": \"scattermapbox\"}], \"scatterpolar\": [{\"marker\": {\"colorbar\": {\"outlinewidth\": 0, \"ticks\": \"\"}}, \"type\": \"scatterpolar\"}], \"scatterpolargl\": [{\"marker\": {\"colorbar\": {\"outlinewidth\": 0, \"ticks\": \"\"}}, \"type\": \"scatterpolargl\"}], \"scatterternary\": [{\"marker\": {\"colorbar\": {\"outlinewidth\": 0, \"ticks\": \"\"}}, \"type\": \"scatterternary\"}], \"surface\": [{\"colorbar\": {\"outlinewidth\": 0, \"ticks\": \"\"}, \"colorscale\": [[0.0, \"#0d0887\"], [0.1111111111111111, \"#46039f\"], [0.2222222222222222, \"#7201a8\"], [0.3333333333333333, \"#9c179e\"], [0.4444444444444444, \"#bd3786\"], [0.5555555555555556, \"#d8576b\"], [0.6666666666666666, \"#ed7953\"], [0.7777777777777778, \"#fb9f3a\"], [0.8888888888888888, \"#fdca26\"], [1.0, \"#f0f921\"]], \"type\": \"surface\"}], \"table\": [{\"cells\": {\"fill\": {\"color\": \"#EBF0F8\"}, \"line\": {\"color\": \"white\"}}, \"header\": {\"fill\": {\"color\": \"#C8D4E3\"}, \"line\": {\"color\": \"white\"}}, \"type\": \"table\"}]}, \"layout\": {\"annotationdefaults\": {\"arrowcolor\": \"#2a3f5f\", \"arrowhead\": 0, \"arrowwidth\": 1}, \"coloraxis\": {\"colorbar\": {\"outlinewidth\": 0, \"ticks\": \"\"}}, \"colorscale\": {\"diverging\": [[0, \"#8e0152\"], [0.1, \"#c51b7d\"], [0.2, \"#de77ae\"], [0.3, \"#f1b6da\"], [0.4, \"#fde0ef\"], [0.5, \"#f7f7f7\"], [0.6, \"#e6f5d0\"], [0.7, \"#b8e186\"], [0.8, \"#7fbc41\"], [0.9, \"#4d9221\"], [1, \"#276419\"]], \"sequential\": [[0.0, \"#0d0887\"], [0.1111111111111111, \"#46039f\"], [0.2222222222222222, \"#7201a8\"], [0.3333333333333333, \"#9c179e\"], [0.4444444444444444, \"#bd3786\"], [0.5555555555555556, \"#d8576b\"], [0.6666666666666666, \"#ed7953\"], [0.7777777777777778, \"#fb9f3a\"], [0.8888888888888888, \"#fdca26\"], [1.0, \"#f0f921\"]], \"sequentialminus\": [[0.0, \"#0d0887\"], [0.1111111111111111, \"#46039f\"], [0.2222222222222222, \"#7201a8\"], [0.3333333333333333, \"#9c179e\"], [0.4444444444444444, \"#bd3786\"], [0.5555555555555556, \"#d8576b\"], [0.6666666666666666, \"#ed7953\"], [0.7777777777777778, \"#fb9f3a\"], [0.8888888888888888, \"#fdca26\"], [1.0, \"#f0f921\"]]}, \"colorway\": [\"#636efa\", \"#EF553B\", \"#00cc96\", \"#ab63fa\", \"#FFA15A\", \"#19d3f3\", \"#FF6692\", \"#B6E880\", \"#FF97FF\", \"#FECB52\"], \"font\": {\"color\": \"#2a3f5f\"}, \"geo\": {\"bgcolor\": \"white\", \"lakecolor\": \"white\", \"landcolor\": \"#E5ECF6\", \"showlakes\": true, \"showland\": true, \"subunitcolor\": \"white\"}, \"hoverlabel\": {\"align\": \"left\"}, \"hovermode\": \"closest\", \"mapbox\": {\"style\": \"light\"}, \"paper_bgcolor\": \"white\", \"plot_bgcolor\": \"#E5ECF6\", \"polar\": {\"angularaxis\": {\"gridcolor\": \"white\", \"linecolor\": \"white\", \"ticks\": \"\"}, \"bgcolor\": \"#E5ECF6\", \"radialaxis\": {\"gridcolor\": \"white\", \"linecolor\": \"white\", \"ticks\": \"\"}}, \"scene\": {\"xaxis\": {\"backgroundcolor\": \"#E5ECF6\", \"gridcolor\": \"white\", \"gridwidth\": 2, \"linecolor\": \"white\", \"showbackground\": true, \"ticks\": \"\", \"zerolinecolor\": \"white\"}, \"yaxis\": {\"backgroundcolor\": \"#E5ECF6\", \"gridcolor\": \"white\", \"gridwidth\": 2, \"linecolor\": \"white\", \"showbackground\": true, \"ticks\": \"\", \"zerolinecolor\": \"white\"}, \"zaxis\": {\"backgroundcolor\": \"#E5ECF6\", \"gridcolor\": \"white\", \"gridwidth\": 2, \"linecolor\": \"white\", \"showbackground\": true, \"ticks\": \"\", \"zerolinecolor\": \"white\"}}, \"shapedefaults\": {\"line\": {\"color\": \"#2a3f5f\"}}, \"ternary\": {\"aaxis\": {\"gridcolor\": \"white\", \"linecolor\": \"white\", \"ticks\": \"\"}, \"baxis\": {\"gridcolor\": \"white\", \"linecolor\": \"white\", \"ticks\": \"\"}, \"bgcolor\": \"#E5ECF6\", \"caxis\": {\"gridcolor\": \"white\", \"linecolor\": \"white\", \"ticks\": \"\"}}, \"title\": {\"x\": 0.05}, \"xaxis\": {\"automargin\": true, \"gridcolor\": \"white\", \"linecolor\": \"white\", \"ticks\": \"\", \"title\": {\"standoff\": 15}, \"zerolinecolor\": \"white\", \"zerolinewidth\": 2}, \"yaxis\": {\"automargin\": true, \"gridcolor\": \"white\", \"linecolor\": \"white\", \"ticks\": \"\", \"title\": {\"standoff\": 15}, \"zerolinecolor\": \"white\", \"zerolinewidth\": 2}}}, \"title\": {\"text\": \"Module number 4\"}},\n",
       "                        {\"responsive\": true}\n",
       "                    ).then(function(){\n",
       "                            \n",
       "var gd = document.getElementById('607814c2-f30b-420f-91a6-4667e6687bc6');\n",
       "var x = new MutationObserver(function (mutations, observer) {{\n",
       "        var display = window.getComputedStyle(gd).display;\n",
       "        if (!display || display === 'none') {{\n",
       "            console.log([gd, 'removed!']);\n",
       "            Plotly.purge(gd);\n",
       "            observer.disconnect();\n",
       "        }}\n",
       "}});\n",
       "\n",
       "// Listen for the removal of the full notebook cells\n",
       "var notebookContainer = gd.closest('#notebook-container');\n",
       "if (notebookContainer) {{\n",
       "    x.observe(notebookContainer, {childList: true});\n",
       "}}\n",
       "\n",
       "// Listen for the clearing of the current output cell\n",
       "var outputEl = gd.closest('.output');\n",
       "if (outputEl) {{\n",
       "    x.observe(outputEl, {childList: true});\n",
       "}}\n",
       "\n",
       "                        })\n",
       "                };\n",
       "                });\n",
       "            </script>\n",
       "        </div>"
      ]
     },
     "metadata": {},
     "output_type": "display_data"
    },
    {
     "data": {
      "application/vnd.plotly.v1+json": {
       "config": {
        "plotlyServerURL": "https://plot.ly"
       },
       "data": [
        {
         "mode": "lines+markers",
         "name": "Pulse index: 0",
         "type": "scatter",
         "x": [
          6381770,
          6381771,
          6381772,
          6381773,
          6381774,
          6381775,
          6381776,
          6381777,
          6381778,
          6381779,
          6381780,
          6381781,
          6381782,
          6381783,
          6381784,
          6381785,
          6381786,
          6381787,
          6381788,
          6381789,
          6381790,
          6381791
         ],
         "y": [
          0.07851577550172806,
          0.5084336400032043,
          0.019780907779932022,
          -0.06469923257827759,
          -0.3283666670322418,
          0.2663131356239319,
          -0.035146504640579224,
          0.1288704127073288,
          -0.05357826128602028,
          -0.028402280062437057,
          0.0705006942152977,
          0.056296154856681824,
          0.05989499390125275,
          0.017415940761566162,
          0.08971167355775833,
          0.0922636166214943,
          -0.10974622517824173,
          0.14616499841213226,
          -0.09917814284563065,
          -0.4797256588935852,
          0.11615681648254395,
          0.08905365318059921
         ]
        },
        {
         "mode": "lines+markers",
         "name": "Pulse index: 1",
         "type": "scatter",
         "x": [
          6381770,
          6381771,
          6381772,
          6381773,
          6381774,
          6381775,
          6381776,
          6381777,
          6381778,
          6381779,
          6381780,
          6381781,
          6381782,
          6381783,
          6381784,
          6381785,
          6381786,
          6381787,
          6381788,
          6381789,
          6381790,
          6381791
         ],
         "y": [
          0.039498623460531235,
          0.17474377155303955,
          0.3380354642868042,
          -0.1812589466571808,
          -0.10026082396507263,
          -0.009422222152352333,
          -0.023051435127854347,
          0.2649388611316681,
          -0.12978783249855042,
          -0.2504965662956238,
          0.0255450252443552,
          0.03287680447101593,
          0.034742917865514755,
          0.2706851661205292,
          0.047051168978214264,
          -0.11180178076028824,
          0.07607900351285934,
          -0.04074753820896149,
          0.023637447506189346,
          0.25776514410972595,
          -0.4535459280014038,
          -0.06739923357963562
         ]
        },
        {
         "mode": "lines+markers",
         "name": "Pulse index: 2",
         "type": "scatter",
         "x": [
          6381770,
          6381771,
          6381772,
          6381773,
          6381774,
          6381775,
          6381776,
          6381777,
          6381778,
          6381779,
          6381780,
          6381781,
          6381782,
          6381783,
          6381784,
          6381785,
          6381786,
          6381787,
          6381788,
          6381789,
          6381790,
          6381791
         ],
         "y": [
          0.5370790958404541,
          0.060370493680238724,
          0.030566221103072166,
          -0.5219606161117554,
          0.15121440589427948,
          0.09211697429418564,
          -0.05731926113367081,
          0.17172643542289734,
          -0.10301236808300018,
          -0.0003436839615460485,
          -0.04257820546627045,
          0.08219530433416367,
          -0.38847342133522034,
          0.18946786224842072,
          0.6436488032341003,
          0.2456246167421341,
          null,
          -0.07264534384012222,
          -0.136910080909729,
          0.029104823246598244,
          0.012976122088730335,
          -0.03893304616212845
         ]
        },
        {
         "mode": "lines+markers",
         "name": "Pulse index: 3",
         "type": "scatter",
         "x": [
          6381770,
          6381771,
          6381772,
          6381773,
          6381774,
          6381775,
          6381776,
          6381777,
          6381778,
          6381779,
          6381780,
          6381781,
          6381782,
          6381783,
          6381784,
          6381785,
          6381786,
          6381787,
          6381788,
          6381789,
          6381790,
          6381791
         ],
         "y": [
          0.3682423233985901,
          0.3628431260585785,
          0.023313140496611595,
          -0.3285931348800659,
          -0.10207521170377731,
          -0.23593445122241974,
          -0.6184289455413818,
          -0.728956937789917,
          -0.23605163395404816,
          -0.3625360131263733,
          -0.45453447103500366,
          -0.08995058387517929,
          0.7142447233200073,
          0.7621172666549683,
          0.541895866394043,
          0.36589181423187256,
          0.6525067090988159,
          -0.00690629705786705,
          0.18975399434566498,
          0.056088246405124664,
          -0.8884465098381042,
          -0.6429871320724487
         ]
        },
        {
         "mode": "lines+markers",
         "name": "Pulse index: 4",
         "type": "scatter",
         "x": [
          6381770,
          6381771,
          6381772,
          6381773,
          6381774,
          6381775,
          6381776,
          6381777,
          6381778,
          6381779,
          6381780,
          6381781,
          6381782,
          6381783,
          6381784,
          6381785,
          6381786,
          6381787,
          6381788,
          6381789,
          6381790,
          6381791
         ],
         "y": [
          0.6187986731529236,
          0.4544347822666168,
          0.11477397382259369,
          -0.38005584478378296,
          -0.07970495522022247,
          -0.3017239570617676,
          -0.13328026235103607,
          -0.17794287204742432,
          -0.14510473608970642,
          0.0881502702832222,
          -0.22050701081752777,
          0.17142239212989807,
          1.0577512979507446,
          0.5831825733184814,
          0.6641221642494202,
          0.7408149242401123,
          0.6010099649429321,
          -0.633068323135376,
          -0.5282791256904602,
          -0.5884146094322205,
          -0.31740695238113403,
          -0.4404233396053314
         ]
        },
        {
         "mode": "lines+markers",
         "name": "Pulse index: 5",
         "type": "scatter",
         "x": [
          6381770,
          6381771,
          6381772,
          6381773,
          6381774,
          6381775,
          6381776,
          6381777,
          6381778,
          6381779,
          6381780,
          6381781,
          6381782,
          6381783,
          6381784,
          6381785,
          6381786,
          6381787,
          6381788,
          6381789,
          6381790,
          6381791
         ],
         "y": [
          0.15765903890132904,
          0.11011876910924911,
          -0.2269698530435562,
          -0.06600171327590942,
          0.12285743653774261,
          0.21345071494579315,
          0.02942286804318428,
          -0.09306658059358597,
          0.3075217008590698,
          -0.19072593748569489,
          0.1238330602645874,
          0.08872358500957489,
          0.27427616715431213,
          0.19406241178512573,
          0.21627533435821533,
          0.15456035733222961,
          0.658437192440033,
          -0.28100529313087463,
          -0.2814619839191437,
          -0.37381911277770996,
          -0.06540913879871368,
          -0.4972395896911621
         ]
        },
        {
         "mode": "lines+markers",
         "name": "Pulse index: 6",
         "type": "scatter",
         "x": [
          6381770,
          6381771,
          6381772,
          6381773,
          6381774,
          6381775,
          6381776,
          6381777,
          6381778,
          6381779,
          6381780,
          6381781,
          6381782,
          6381783,
          6381784,
          6381785,
          6381786,
          6381787,
          6381788,
          6381789,
          6381790,
          6381791
         ],
         "y": [
          0.1963481605052948,
          0.26867052912712097,
          0.1426675021648407,
          0.2446686178445816,
          0.10060001164674759,
          0.05492130666971207,
          0.05100253224372864,
          -0.46395018696784973,
          -0.09018674492835999,
          -0.3097003102302551,
          -0.29902565479278564,
          0.07028446346521378,
          0.19836607575416565,
          0.33176180720329285,
          0.44897106289863586,
          0.4307897984981537,
          0.6023810505867004,
          -0.27533072233200073,
          -0.2515869140625,
          -0.6997991800308228,
          -0.727006196975708,
          -0.2911384701728821
         ]
        },
        {
         "mode": "lines+markers",
         "name": "Pulse index: 7",
         "type": "scatter",
         "x": [
          6381770,
          6381771,
          6381772,
          6381773,
          6381774,
          6381775,
          6381776,
          6381777,
          6381778,
          6381779,
          6381780,
          6381781,
          6381782,
          6381783,
          6381784,
          6381785,
          6381786,
          6381787,
          6381788,
          6381789,
          6381790,
          6381791
         ],
         "y": [
          0.5320613384246826,
          0.3390829265117645,
          0.13133835792541504,
          0.20157092809677124,
          0.014646491967141628,
          0.11660511046648026,
          -0.28413286805152893,
          -0.35547134280204773,
          -0.12200270593166351,
          -0.3929719626903534,
          -0.1321510374546051,
          0.04214771091938019,
          0.4533567726612091,
          0.49141496419906616,
          0.27368563413619995,
          0.42542919516563416,
          0.19938038289546967,
          -0.18162578344345093,
          -0.09229444712400436,
          -0.36457961797714233,
          -0.6592767238616943,
          0.057106003165245056
         ]
        },
        {
         "mode": "lines+markers",
         "name": "Pulse index: 8",
         "type": "scatter",
         "x": [
          6381770,
          6381771,
          6381772,
          6381773,
          6381774,
          6381775,
          6381776,
          6381777,
          6381778,
          6381779,
          6381780,
          6381781,
          6381782,
          6381783,
          6381784,
          6381785,
          6381786,
          6381787,
          6381788,
          6381789,
          6381790,
          6381791
         ],
         "y": [
          0.6882374286651611,
          1.002070665359497,
          0.7096858024597168,
          0.2713470160961151,
          0.06368701905012131,
          -0.26121845841407776,
          -0.19908654689788818,
          -0.044274382293224335,
          0.3456573188304901,
          -0.1465705931186676,
          0.07432747632265091,
          0.4164983630180359,
          1.0109076499938965,
          0.783805251121521,
          0.5055385828018188,
          1.109248399734497,
          0.7949211001396179,
          0.1183653250336647,
          -0.19705826044082642,
          -0.4885842502117157,
          0.6066881418228149,
          0.8061858415603638
         ]
        },
        {
         "mode": "lines+markers",
         "name": "Pulse index: 9",
         "type": "scatter",
         "x": [
          6381770,
          6381771,
          6381772,
          6381773,
          6381774,
          6381775,
          6381776,
          6381777,
          6381778,
          6381779,
          6381780,
          6381781,
          6381782,
          6381783,
          6381784,
          6381785,
          6381786,
          6381787,
          6381788,
          6381789,
          6381790,
          6381791
         ],
         "y": [
          -0.22896943986415863,
          0.037871457636356354,
          0.014456178992986679,
          -0.3109526038169861,
          -0.3271946609020233,
          -0.48328903317451477,
          -0.2515949010848999,
          -0.8077486157417297,
          -0.30415084958076477,
          -0.566120982170105,
          -0.5372504591941833,
          -0.5858365893363953,
          -0.01257564127445221,
          -0.17126275599002838,
          -0.10085880011320114,
          0.06930209696292877,
          0.7919930815696716,
          -0.3267517387866974,
          -0.06596051901578903,
          -0.4933262765407562,
          -0.8879318237304688,
          -0.6035124063491821
         ]
        },
        {
         "mode": "lines+markers",
         "name": "Pulse index: 10",
         "type": "scatter",
         "x": [
          6381770,
          6381771,
          6381772,
          6381773,
          6381774,
          6381775,
          6381776,
          6381777,
          6381778,
          6381779,
          6381780,
          6381781,
          6381782,
          6381783,
          6381784,
          6381785,
          6381786,
          6381787,
          6381788,
          6381789,
          6381790,
          6381791
         ],
         "y": [
          0.14927765727043152,
          0.593344509601593,
          -0.13641619682312012,
          -0.09067520499229431,
          -0.16686904430389404,
          -0.16032974421977997,
          0.006836132612079382,
          -0.3248133957386017,
          0.08298508822917938,
          -0.30205824971199036,
          -0.6306294798851013,
          0.2003520131111145,
          0.6902152895927429,
          0.49701687693595886,
          0.7274461388587952,
          0.5631839036941528,
          0.6541087627410889,
          -0.30249494314193726,
          -0.37944838404655457,
          -0.3671308755874634,
          -0.19510696828365326,
          -0.2583392560482025
         ]
        }
       ],
       "layout": {
        "template": {
         "data": {
          "bar": [
           {
            "error_x": {
             "color": "#2a3f5f"
            },
            "error_y": {
             "color": "#2a3f5f"
            },
            "marker": {
             "line": {
              "color": "#E5ECF6",
              "width": 0.5
             }
            },
            "type": "bar"
           }
          ],
          "barpolar": [
           {
            "marker": {
             "line": {
              "color": "#E5ECF6",
              "width": 0.5
             }
            },
            "type": "barpolar"
           }
          ],
          "carpet": [
           {
            "aaxis": {
             "endlinecolor": "#2a3f5f",
             "gridcolor": "white",
             "linecolor": "white",
             "minorgridcolor": "white",
             "startlinecolor": "#2a3f5f"
            },
            "baxis": {
             "endlinecolor": "#2a3f5f",
             "gridcolor": "white",
             "linecolor": "white",
             "minorgridcolor": "white",
             "startlinecolor": "#2a3f5f"
            },
            "type": "carpet"
           }
          ],
          "choropleth": [
           {
            "colorbar": {
             "outlinewidth": 0,
             "ticks": ""
            },
            "type": "choropleth"
           }
          ],
          "contour": [
           {
            "colorbar": {
             "outlinewidth": 0,
             "ticks": ""
            },
            "colorscale": [
             [
              0,
              "#0d0887"
             ],
             [
              0.1111111111111111,
              "#46039f"
             ],
             [
              0.2222222222222222,
              "#7201a8"
             ],
             [
              0.3333333333333333,
              "#9c179e"
             ],
             [
              0.4444444444444444,
              "#bd3786"
             ],
             [
              0.5555555555555556,
              "#d8576b"
             ],
             [
              0.6666666666666666,
              "#ed7953"
             ],
             [
              0.7777777777777778,
              "#fb9f3a"
             ],
             [
              0.8888888888888888,
              "#fdca26"
             ],
             [
              1,
              "#f0f921"
             ]
            ],
            "type": "contour"
           }
          ],
          "contourcarpet": [
           {
            "colorbar": {
             "outlinewidth": 0,
             "ticks": ""
            },
            "type": "contourcarpet"
           }
          ],
          "heatmap": [
           {
            "colorbar": {
             "outlinewidth": 0,
             "ticks": ""
            },
            "colorscale": [
             [
              0,
              "#0d0887"
             ],
             [
              0.1111111111111111,
              "#46039f"
             ],
             [
              0.2222222222222222,
              "#7201a8"
             ],
             [
              0.3333333333333333,
              "#9c179e"
             ],
             [
              0.4444444444444444,
              "#bd3786"
             ],
             [
              0.5555555555555556,
              "#d8576b"
             ],
             [
              0.6666666666666666,
              "#ed7953"
             ],
             [
              0.7777777777777778,
              "#fb9f3a"
             ],
             [
              0.8888888888888888,
              "#fdca26"
             ],
             [
              1,
              "#f0f921"
             ]
            ],
            "type": "heatmap"
           }
          ],
          "heatmapgl": [
           {
            "colorbar": {
             "outlinewidth": 0,
             "ticks": ""
            },
            "colorscale": [
             [
              0,
              "#0d0887"
             ],
             [
              0.1111111111111111,
              "#46039f"
             ],
             [
              0.2222222222222222,
              "#7201a8"
             ],
             [
              0.3333333333333333,
              "#9c179e"
             ],
             [
              0.4444444444444444,
              "#bd3786"
             ],
             [
              0.5555555555555556,
              "#d8576b"
             ],
             [
              0.6666666666666666,
              "#ed7953"
             ],
             [
              0.7777777777777778,
              "#fb9f3a"
             ],
             [
              0.8888888888888888,
              "#fdca26"
             ],
             [
              1,
              "#f0f921"
             ]
            ],
            "type": "heatmapgl"
           }
          ],
          "histogram": [
           {
            "marker": {
             "colorbar": {
              "outlinewidth": 0,
              "ticks": ""
             }
            },
            "type": "histogram"
           }
          ],
          "histogram2d": [
           {
            "colorbar": {
             "outlinewidth": 0,
             "ticks": ""
            },
            "colorscale": [
             [
              0,
              "#0d0887"
             ],
             [
              0.1111111111111111,
              "#46039f"
             ],
             [
              0.2222222222222222,
              "#7201a8"
             ],
             [
              0.3333333333333333,
              "#9c179e"
             ],
             [
              0.4444444444444444,
              "#bd3786"
             ],
             [
              0.5555555555555556,
              "#d8576b"
             ],
             [
              0.6666666666666666,
              "#ed7953"
             ],
             [
              0.7777777777777778,
              "#fb9f3a"
             ],
             [
              0.8888888888888888,
              "#fdca26"
             ],
             [
              1,
              "#f0f921"
             ]
            ],
            "type": "histogram2d"
           }
          ],
          "histogram2dcontour": [
           {
            "colorbar": {
             "outlinewidth": 0,
             "ticks": ""
            },
            "colorscale": [
             [
              0,
              "#0d0887"
             ],
             [
              0.1111111111111111,
              "#46039f"
             ],
             [
              0.2222222222222222,
              "#7201a8"
             ],
             [
              0.3333333333333333,
              "#9c179e"
             ],
             [
              0.4444444444444444,
              "#bd3786"
             ],
             [
              0.5555555555555556,
              "#d8576b"
             ],
             [
              0.6666666666666666,
              "#ed7953"
             ],
             [
              0.7777777777777778,
              "#fb9f3a"
             ],
             [
              0.8888888888888888,
              "#fdca26"
             ],
             [
              1,
              "#f0f921"
             ]
            ],
            "type": "histogram2dcontour"
           }
          ],
          "mesh3d": [
           {
            "colorbar": {
             "outlinewidth": 0,
             "ticks": ""
            },
            "type": "mesh3d"
           }
          ],
          "parcoords": [
           {
            "line": {
             "colorbar": {
              "outlinewidth": 0,
              "ticks": ""
             }
            },
            "type": "parcoords"
           }
          ],
          "pie": [
           {
            "automargin": true,
            "type": "pie"
           }
          ],
          "scatter": [
           {
            "marker": {
             "colorbar": {
              "outlinewidth": 0,
              "ticks": ""
             }
            },
            "type": "scatter"
           }
          ],
          "scatter3d": [
           {
            "line": {
             "colorbar": {
              "outlinewidth": 0,
              "ticks": ""
             }
            },
            "marker": {
             "colorbar": {
              "outlinewidth": 0,
              "ticks": ""
             }
            },
            "type": "scatter3d"
           }
          ],
          "scattercarpet": [
           {
            "marker": {
             "colorbar": {
              "outlinewidth": 0,
              "ticks": ""
             }
            },
            "type": "scattercarpet"
           }
          ],
          "scattergeo": [
           {
            "marker": {
             "colorbar": {
              "outlinewidth": 0,
              "ticks": ""
             }
            },
            "type": "scattergeo"
           }
          ],
          "scattergl": [
           {
            "marker": {
             "colorbar": {
              "outlinewidth": 0,
              "ticks": ""
             }
            },
            "type": "scattergl"
           }
          ],
          "scattermapbox": [
           {
            "marker": {
             "colorbar": {
              "outlinewidth": 0,
              "ticks": ""
             }
            },
            "type": "scattermapbox"
           }
          ],
          "scatterpolar": [
           {
            "marker": {
             "colorbar": {
              "outlinewidth": 0,
              "ticks": ""
             }
            },
            "type": "scatterpolar"
           }
          ],
          "scatterpolargl": [
           {
            "marker": {
             "colorbar": {
              "outlinewidth": 0,
              "ticks": ""
             }
            },
            "type": "scatterpolargl"
           }
          ],
          "scatterternary": [
           {
            "marker": {
             "colorbar": {
              "outlinewidth": 0,
              "ticks": ""
             }
            },
            "type": "scatterternary"
           }
          ],
          "surface": [
           {
            "colorbar": {
             "outlinewidth": 0,
             "ticks": ""
            },
            "colorscale": [
             [
              0,
              "#0d0887"
             ],
             [
              0.1111111111111111,
              "#46039f"
             ],
             [
              0.2222222222222222,
              "#7201a8"
             ],
             [
              0.3333333333333333,
              "#9c179e"
             ],
             [
              0.4444444444444444,
              "#bd3786"
             ],
             [
              0.5555555555555556,
              "#d8576b"
             ],
             [
              0.6666666666666666,
              "#ed7953"
             ],
             [
              0.7777777777777778,
              "#fb9f3a"
             ],
             [
              0.8888888888888888,
              "#fdca26"
             ],
             [
              1,
              "#f0f921"
             ]
            ],
            "type": "surface"
           }
          ],
          "table": [
           {
            "cells": {
             "fill": {
              "color": "#EBF0F8"
             },
             "line": {
              "color": "white"
             }
            },
            "header": {
             "fill": {
              "color": "#C8D4E3"
             },
             "line": {
              "color": "white"
             }
            },
            "type": "table"
           }
          ]
         },
         "layout": {
          "annotationdefaults": {
           "arrowcolor": "#2a3f5f",
           "arrowhead": 0,
           "arrowwidth": 1
          },
          "coloraxis": {
           "colorbar": {
            "outlinewidth": 0,
            "ticks": ""
           }
          },
          "colorscale": {
           "diverging": [
            [
             0,
             "#8e0152"
            ],
            [
             0.1,
             "#c51b7d"
            ],
            [
             0.2,
             "#de77ae"
            ],
            [
             0.3,
             "#f1b6da"
            ],
            [
             0.4,
             "#fde0ef"
            ],
            [
             0.5,
             "#f7f7f7"
            ],
            [
             0.6,
             "#e6f5d0"
            ],
            [
             0.7,
             "#b8e186"
            ],
            [
             0.8,
             "#7fbc41"
            ],
            [
             0.9,
             "#4d9221"
            ],
            [
             1,
             "#276419"
            ]
           ],
           "sequential": [
            [
             0,
             "#0d0887"
            ],
            [
             0.1111111111111111,
             "#46039f"
            ],
            [
             0.2222222222222222,
             "#7201a8"
            ],
            [
             0.3333333333333333,
             "#9c179e"
            ],
            [
             0.4444444444444444,
             "#bd3786"
            ],
            [
             0.5555555555555556,
             "#d8576b"
            ],
            [
             0.6666666666666666,
             "#ed7953"
            ],
            [
             0.7777777777777778,
             "#fb9f3a"
            ],
            [
             0.8888888888888888,
             "#fdca26"
            ],
            [
             1,
             "#f0f921"
            ]
           ],
           "sequentialminus": [
            [
             0,
             "#0d0887"
            ],
            [
             0.1111111111111111,
             "#46039f"
            ],
            [
             0.2222222222222222,
             "#7201a8"
            ],
            [
             0.3333333333333333,
             "#9c179e"
            ],
            [
             0.4444444444444444,
             "#bd3786"
            ],
            [
             0.5555555555555556,
             "#d8576b"
            ],
            [
             0.6666666666666666,
             "#ed7953"
            ],
            [
             0.7777777777777778,
             "#fb9f3a"
            ],
            [
             0.8888888888888888,
             "#fdca26"
            ],
            [
             1,
             "#f0f921"
            ]
           ]
          },
          "colorway": [
           "#636efa",
           "#EF553B",
           "#00cc96",
           "#ab63fa",
           "#FFA15A",
           "#19d3f3",
           "#FF6692",
           "#B6E880",
           "#FF97FF",
           "#FECB52"
          ],
          "font": {
           "color": "#2a3f5f"
          },
          "geo": {
           "bgcolor": "white",
           "lakecolor": "white",
           "landcolor": "#E5ECF6",
           "showlakes": true,
           "showland": true,
           "subunitcolor": "white"
          },
          "hoverlabel": {
           "align": "left"
          },
          "hovermode": "closest",
          "mapbox": {
           "style": "light"
          },
          "paper_bgcolor": "white",
          "plot_bgcolor": "#E5ECF6",
          "polar": {
           "angularaxis": {
            "gridcolor": "white",
            "linecolor": "white",
            "ticks": ""
           },
           "bgcolor": "#E5ECF6",
           "radialaxis": {
            "gridcolor": "white",
            "linecolor": "white",
            "ticks": ""
           }
          },
          "scene": {
           "xaxis": {
            "backgroundcolor": "#E5ECF6",
            "gridcolor": "white",
            "gridwidth": 2,
            "linecolor": "white",
            "showbackground": true,
            "ticks": "",
            "zerolinecolor": "white"
           },
           "yaxis": {
            "backgroundcolor": "#E5ECF6",
            "gridcolor": "white",
            "gridwidth": 2,
            "linecolor": "white",
            "showbackground": true,
            "ticks": "",
            "zerolinecolor": "white"
           },
           "zaxis": {
            "backgroundcolor": "#E5ECF6",
            "gridcolor": "white",
            "gridwidth": 2,
            "linecolor": "white",
            "showbackground": true,
            "ticks": "",
            "zerolinecolor": "white"
           }
          },
          "shapedefaults": {
           "line": {
            "color": "#2a3f5f"
           }
          },
          "ternary": {
           "aaxis": {
            "gridcolor": "white",
            "linecolor": "white",
            "ticks": ""
           },
           "baxis": {
            "gridcolor": "white",
            "linecolor": "white",
            "ticks": ""
           },
           "bgcolor": "#E5ECF6",
           "caxis": {
            "gridcolor": "white",
            "linecolor": "white",
            "ticks": ""
           }
          },
          "title": {
           "x": 0.05
          },
          "xaxis": {
           "automargin": true,
           "gridcolor": "white",
           "linecolor": "white",
           "ticks": "",
           "title": {
            "standoff": 15
           },
           "zerolinecolor": "white",
           "zerolinewidth": 2
          },
          "yaxis": {
           "automargin": true,
           "gridcolor": "white",
           "linecolor": "white",
           "ticks": "",
           "title": {
            "standoff": 15
           },
           "zerolinecolor": "white",
           "zerolinewidth": 2
          }
         }
        },
        "title": {
         "text": "Module number 5"
        }
       }
      },
      "text/html": [
       "<div>\n",
       "        \n",
       "        \n",
       "            <div id=\"b4b7a759-661b-4c89-9a0c-5f597c6d6334\" class=\"plotly-graph-div\" style=\"height:525px; width:100%;\"></div>\n",
       "            <script type=\"text/javascript\">\n",
       "                require([\"plotly\"], function(Plotly) {\n",
       "                    window.PLOTLYENV=window.PLOTLYENV || {};\n",
       "                    \n",
       "                if (document.getElementById(\"b4b7a759-661b-4c89-9a0c-5f597c6d6334\")) {\n",
       "                    Plotly.newPlot(\n",
       "                        'b4b7a759-661b-4c89-9a0c-5f597c6d6334',\n",
       "                        [{\"mode\": \"lines+markers\", \"name\": \"Pulse index: 0\", \"type\": \"scatter\", \"x\": [6381770, 6381771, 6381772, 6381773, 6381774, 6381775, 6381776, 6381777, 6381778, 6381779, 6381780, 6381781, 6381782, 6381783, 6381784, 6381785, 6381786, 6381787, 6381788, 6381789, 6381790, 6381791], \"y\": [0.07851577550172806, 0.5084336400032043, 0.019780907779932022, -0.06469923257827759, -0.3283666670322418, 0.2663131356239319, -0.035146504640579224, 0.1288704127073288, -0.05357826128602028, -0.028402280062437057, 0.0705006942152977, 0.056296154856681824, 0.05989499390125275, 0.017415940761566162, 0.08971167355775833, 0.0922636166214943, -0.10974622517824173, 0.14616499841213226, -0.09917814284563065, -0.4797256588935852, 0.11615681648254395, 0.08905365318059921]}, {\"mode\": \"lines+markers\", \"name\": \"Pulse index: 1\", \"type\": \"scatter\", \"x\": [6381770, 6381771, 6381772, 6381773, 6381774, 6381775, 6381776, 6381777, 6381778, 6381779, 6381780, 6381781, 6381782, 6381783, 6381784, 6381785, 6381786, 6381787, 6381788, 6381789, 6381790, 6381791], \"y\": [0.039498623460531235, 0.17474377155303955, 0.3380354642868042, -0.1812589466571808, -0.10026082396507263, -0.009422222152352333, -0.023051435127854347, 0.2649388611316681, -0.12978783249855042, -0.2504965662956238, 0.0255450252443552, 0.03287680447101593, 0.034742917865514755, 0.2706851661205292, 0.047051168978214264, -0.11180178076028824, 0.07607900351285934, -0.04074753820896149, 0.023637447506189346, 0.25776514410972595, -0.4535459280014038, -0.06739923357963562]}, {\"mode\": \"lines+markers\", \"name\": \"Pulse index: 2\", \"type\": \"scatter\", \"x\": [6381770, 6381771, 6381772, 6381773, 6381774, 6381775, 6381776, 6381777, 6381778, 6381779, 6381780, 6381781, 6381782, 6381783, 6381784, 6381785, 6381786, 6381787, 6381788, 6381789, 6381790, 6381791], \"y\": [0.5370790958404541, 0.060370493680238724, 0.030566221103072166, -0.5219606161117554, 0.15121440589427948, 0.09211697429418564, -0.05731926113367081, 0.17172643542289734, -0.10301236808300018, -0.0003436839615460485, -0.04257820546627045, 0.08219530433416367, -0.38847342133522034, 0.18946786224842072, 0.6436488032341003, 0.2456246167421341, null, -0.07264534384012222, -0.136910080909729, 0.029104823246598244, 0.012976122088730335, -0.03893304616212845]}, {\"mode\": \"lines+markers\", \"name\": \"Pulse index: 3\", \"type\": \"scatter\", \"x\": [6381770, 6381771, 6381772, 6381773, 6381774, 6381775, 6381776, 6381777, 6381778, 6381779, 6381780, 6381781, 6381782, 6381783, 6381784, 6381785, 6381786, 6381787, 6381788, 6381789, 6381790, 6381791], \"y\": [0.3682423233985901, 0.3628431260585785, 0.023313140496611595, -0.3285931348800659, -0.10207521170377731, -0.23593445122241974, -0.6184289455413818, -0.728956937789917, -0.23605163395404816, -0.3625360131263733, -0.45453447103500366, -0.08995058387517929, 0.7142447233200073, 0.7621172666549683, 0.541895866394043, 0.36589181423187256, 0.6525067090988159, -0.00690629705786705, 0.18975399434566498, 0.056088246405124664, -0.8884465098381042, -0.6429871320724487]}, {\"mode\": \"lines+markers\", \"name\": \"Pulse index: 4\", \"type\": \"scatter\", \"x\": [6381770, 6381771, 6381772, 6381773, 6381774, 6381775, 6381776, 6381777, 6381778, 6381779, 6381780, 6381781, 6381782, 6381783, 6381784, 6381785, 6381786, 6381787, 6381788, 6381789, 6381790, 6381791], \"y\": [0.6187986731529236, 0.4544347822666168, 0.11477397382259369, -0.38005584478378296, -0.07970495522022247, -0.3017239570617676, -0.13328026235103607, -0.17794287204742432, -0.14510473608970642, 0.0881502702832222, -0.22050701081752777, 0.17142239212989807, 1.0577512979507446, 0.5831825733184814, 0.6641221642494202, 0.7408149242401123, 0.6010099649429321, -0.633068323135376, -0.5282791256904602, -0.5884146094322205, -0.31740695238113403, -0.4404233396053314]}, {\"mode\": \"lines+markers\", \"name\": \"Pulse index: 5\", \"type\": \"scatter\", \"x\": [6381770, 6381771, 6381772, 6381773, 6381774, 6381775, 6381776, 6381777, 6381778, 6381779, 6381780, 6381781, 6381782, 6381783, 6381784, 6381785, 6381786, 6381787, 6381788, 6381789, 6381790, 6381791], \"y\": [0.15765903890132904, 0.11011876910924911, -0.2269698530435562, -0.06600171327590942, 0.12285743653774261, 0.21345071494579315, 0.02942286804318428, -0.09306658059358597, 0.3075217008590698, -0.19072593748569489, 0.1238330602645874, 0.08872358500957489, 0.27427616715431213, 0.19406241178512573, 0.21627533435821533, 0.15456035733222961, 0.658437192440033, -0.28100529313087463, -0.2814619839191437, -0.37381911277770996, -0.06540913879871368, -0.4972395896911621]}, {\"mode\": \"lines+markers\", \"name\": \"Pulse index: 6\", \"type\": \"scatter\", \"x\": [6381770, 6381771, 6381772, 6381773, 6381774, 6381775, 6381776, 6381777, 6381778, 6381779, 6381780, 6381781, 6381782, 6381783, 6381784, 6381785, 6381786, 6381787, 6381788, 6381789, 6381790, 6381791], \"y\": [0.1963481605052948, 0.26867052912712097, 0.1426675021648407, 0.2446686178445816, 0.10060001164674759, 0.05492130666971207, 0.05100253224372864, -0.46395018696784973, -0.09018674492835999, -0.3097003102302551, -0.29902565479278564, 0.07028446346521378, 0.19836607575416565, 0.33176180720329285, 0.44897106289863586, 0.4307897984981537, 0.6023810505867004, -0.27533072233200073, -0.2515869140625, -0.6997991800308228, -0.727006196975708, -0.2911384701728821]}, {\"mode\": \"lines+markers\", \"name\": \"Pulse index: 7\", \"type\": \"scatter\", \"x\": [6381770, 6381771, 6381772, 6381773, 6381774, 6381775, 6381776, 6381777, 6381778, 6381779, 6381780, 6381781, 6381782, 6381783, 6381784, 6381785, 6381786, 6381787, 6381788, 6381789, 6381790, 6381791], \"y\": [0.5320613384246826, 0.3390829265117645, 0.13133835792541504, 0.20157092809677124, 0.014646491967141628, 0.11660511046648026, -0.28413286805152893, -0.35547134280204773, -0.12200270593166351, -0.3929719626903534, -0.1321510374546051, 0.04214771091938019, 0.4533567726612091, 0.49141496419906616, 0.27368563413619995, 0.42542919516563416, 0.19938038289546967, -0.18162578344345093, -0.09229444712400436, -0.36457961797714233, -0.6592767238616943, 0.057106003165245056]}, {\"mode\": \"lines+markers\", \"name\": \"Pulse index: 8\", \"type\": \"scatter\", \"x\": [6381770, 6381771, 6381772, 6381773, 6381774, 6381775, 6381776, 6381777, 6381778, 6381779, 6381780, 6381781, 6381782, 6381783, 6381784, 6381785, 6381786, 6381787, 6381788, 6381789, 6381790, 6381791], \"y\": [0.6882374286651611, 1.002070665359497, 0.7096858024597168, 0.2713470160961151, 0.06368701905012131, -0.26121845841407776, -0.19908654689788818, -0.044274382293224335, 0.3456573188304901, -0.1465705931186676, 0.07432747632265091, 0.4164983630180359, 1.0109076499938965, 0.783805251121521, 0.5055385828018188, 1.109248399734497, 0.7949211001396179, 0.1183653250336647, -0.19705826044082642, -0.4885842502117157, 0.6066881418228149, 0.8061858415603638]}, {\"mode\": \"lines+markers\", \"name\": \"Pulse index: 9\", \"type\": \"scatter\", \"x\": [6381770, 6381771, 6381772, 6381773, 6381774, 6381775, 6381776, 6381777, 6381778, 6381779, 6381780, 6381781, 6381782, 6381783, 6381784, 6381785, 6381786, 6381787, 6381788, 6381789, 6381790, 6381791], \"y\": [-0.22896943986415863, 0.037871457636356354, 0.014456178992986679, -0.3109526038169861, -0.3271946609020233, -0.48328903317451477, -0.2515949010848999, -0.8077486157417297, -0.30415084958076477, -0.566120982170105, -0.5372504591941833, -0.5858365893363953, -0.01257564127445221, -0.17126275599002838, -0.10085880011320114, 0.06930209696292877, 0.7919930815696716, -0.3267517387866974, -0.06596051901578903, -0.4933262765407562, -0.8879318237304688, -0.6035124063491821]}, {\"mode\": \"lines+markers\", \"name\": \"Pulse index: 10\", \"type\": \"scatter\", \"x\": [6381770, 6381771, 6381772, 6381773, 6381774, 6381775, 6381776, 6381777, 6381778, 6381779, 6381780, 6381781, 6381782, 6381783, 6381784, 6381785, 6381786, 6381787, 6381788, 6381789, 6381790, 6381791], \"y\": [0.14927765727043152, 0.593344509601593, -0.13641619682312012, -0.09067520499229431, -0.16686904430389404, -0.16032974421977997, 0.006836132612079382, -0.3248133957386017, 0.08298508822917938, -0.30205824971199036, -0.6306294798851013, 0.2003520131111145, 0.6902152895927429, 0.49701687693595886, 0.7274461388587952, 0.5631839036941528, 0.6541087627410889, -0.30249494314193726, -0.37944838404655457, -0.3671308755874634, -0.19510696828365326, -0.2583392560482025]}],\n",
       "                        {\"template\": {\"data\": {\"bar\": [{\"error_x\": {\"color\": \"#2a3f5f\"}, \"error_y\": {\"color\": \"#2a3f5f\"}, \"marker\": {\"line\": {\"color\": \"#E5ECF6\", \"width\": 0.5}}, \"type\": \"bar\"}], \"barpolar\": [{\"marker\": {\"line\": {\"color\": \"#E5ECF6\", \"width\": 0.5}}, \"type\": \"barpolar\"}], \"carpet\": [{\"aaxis\": {\"endlinecolor\": \"#2a3f5f\", \"gridcolor\": \"white\", \"linecolor\": \"white\", \"minorgridcolor\": \"white\", \"startlinecolor\": \"#2a3f5f\"}, \"baxis\": {\"endlinecolor\": \"#2a3f5f\", \"gridcolor\": \"white\", \"linecolor\": \"white\", \"minorgridcolor\": \"white\", \"startlinecolor\": \"#2a3f5f\"}, \"type\": \"carpet\"}], \"choropleth\": [{\"colorbar\": {\"outlinewidth\": 0, \"ticks\": \"\"}, \"type\": \"choropleth\"}], \"contour\": [{\"colorbar\": {\"outlinewidth\": 0, \"ticks\": \"\"}, \"colorscale\": [[0.0, \"#0d0887\"], [0.1111111111111111, \"#46039f\"], [0.2222222222222222, \"#7201a8\"], [0.3333333333333333, \"#9c179e\"], [0.4444444444444444, \"#bd3786\"], [0.5555555555555556, \"#d8576b\"], [0.6666666666666666, \"#ed7953\"], [0.7777777777777778, \"#fb9f3a\"], [0.8888888888888888, \"#fdca26\"], [1.0, \"#f0f921\"]], \"type\": \"contour\"}], \"contourcarpet\": [{\"colorbar\": {\"outlinewidth\": 0, \"ticks\": \"\"}, \"type\": \"contourcarpet\"}], \"heatmap\": [{\"colorbar\": {\"outlinewidth\": 0, \"ticks\": \"\"}, \"colorscale\": [[0.0, \"#0d0887\"], [0.1111111111111111, \"#46039f\"], [0.2222222222222222, \"#7201a8\"], [0.3333333333333333, \"#9c179e\"], [0.4444444444444444, \"#bd3786\"], [0.5555555555555556, \"#d8576b\"], [0.6666666666666666, \"#ed7953\"], [0.7777777777777778, \"#fb9f3a\"], [0.8888888888888888, \"#fdca26\"], [1.0, \"#f0f921\"]], \"type\": \"heatmap\"}], \"heatmapgl\": [{\"colorbar\": {\"outlinewidth\": 0, \"ticks\": \"\"}, \"colorscale\": [[0.0, \"#0d0887\"], [0.1111111111111111, \"#46039f\"], [0.2222222222222222, \"#7201a8\"], [0.3333333333333333, \"#9c179e\"], [0.4444444444444444, \"#bd3786\"], [0.5555555555555556, \"#d8576b\"], [0.6666666666666666, \"#ed7953\"], [0.7777777777777778, \"#fb9f3a\"], [0.8888888888888888, \"#fdca26\"], [1.0, \"#f0f921\"]], \"type\": \"heatmapgl\"}], \"histogram\": [{\"marker\": {\"colorbar\": {\"outlinewidth\": 0, \"ticks\": \"\"}}, \"type\": \"histogram\"}], \"histogram2d\": [{\"colorbar\": {\"outlinewidth\": 0, \"ticks\": \"\"}, \"colorscale\": [[0.0, \"#0d0887\"], [0.1111111111111111, \"#46039f\"], [0.2222222222222222, \"#7201a8\"], [0.3333333333333333, \"#9c179e\"], [0.4444444444444444, \"#bd3786\"], [0.5555555555555556, \"#d8576b\"], [0.6666666666666666, \"#ed7953\"], [0.7777777777777778, \"#fb9f3a\"], [0.8888888888888888, \"#fdca26\"], [1.0, \"#f0f921\"]], \"type\": \"histogram2d\"}], \"histogram2dcontour\": [{\"colorbar\": {\"outlinewidth\": 0, \"ticks\": \"\"}, \"colorscale\": [[0.0, \"#0d0887\"], [0.1111111111111111, \"#46039f\"], [0.2222222222222222, \"#7201a8\"], [0.3333333333333333, \"#9c179e\"], [0.4444444444444444, \"#bd3786\"], [0.5555555555555556, \"#d8576b\"], [0.6666666666666666, \"#ed7953\"], [0.7777777777777778, \"#fb9f3a\"], [0.8888888888888888, \"#fdca26\"], [1.0, \"#f0f921\"]], \"type\": \"histogram2dcontour\"}], \"mesh3d\": [{\"colorbar\": {\"outlinewidth\": 0, \"ticks\": \"\"}, \"type\": \"mesh3d\"}], \"parcoords\": [{\"line\": {\"colorbar\": {\"outlinewidth\": 0, \"ticks\": \"\"}}, \"type\": \"parcoords\"}], \"pie\": [{\"automargin\": true, \"type\": \"pie\"}], \"scatter\": [{\"marker\": {\"colorbar\": {\"outlinewidth\": 0, \"ticks\": \"\"}}, \"type\": \"scatter\"}], \"scatter3d\": [{\"line\": {\"colorbar\": {\"outlinewidth\": 0, \"ticks\": \"\"}}, \"marker\": {\"colorbar\": {\"outlinewidth\": 0, \"ticks\": \"\"}}, \"type\": \"scatter3d\"}], \"scattercarpet\": [{\"marker\": {\"colorbar\": {\"outlinewidth\": 0, \"ticks\": \"\"}}, \"type\": \"scattercarpet\"}], \"scattergeo\": [{\"marker\": {\"colorbar\": {\"outlinewidth\": 0, \"ticks\": \"\"}}, \"type\": \"scattergeo\"}], \"scattergl\": [{\"marker\": {\"colorbar\": {\"outlinewidth\": 0, \"ticks\": \"\"}}, \"type\": \"scattergl\"}], \"scattermapbox\": [{\"marker\": {\"colorbar\": {\"outlinewidth\": 0, \"ticks\": \"\"}}, \"type\": \"scattermapbox\"}], \"scatterpolar\": [{\"marker\": {\"colorbar\": {\"outlinewidth\": 0, \"ticks\": \"\"}}, \"type\": \"scatterpolar\"}], \"scatterpolargl\": [{\"marker\": {\"colorbar\": {\"outlinewidth\": 0, \"ticks\": \"\"}}, \"type\": \"scatterpolargl\"}], \"scatterternary\": [{\"marker\": {\"colorbar\": {\"outlinewidth\": 0, \"ticks\": \"\"}}, \"type\": \"scatterternary\"}], \"surface\": [{\"colorbar\": {\"outlinewidth\": 0, \"ticks\": \"\"}, \"colorscale\": [[0.0, \"#0d0887\"], [0.1111111111111111, \"#46039f\"], [0.2222222222222222, \"#7201a8\"], [0.3333333333333333, \"#9c179e\"], [0.4444444444444444, \"#bd3786\"], [0.5555555555555556, \"#d8576b\"], [0.6666666666666666, \"#ed7953\"], [0.7777777777777778, \"#fb9f3a\"], [0.8888888888888888, \"#fdca26\"], [1.0, \"#f0f921\"]], \"type\": \"surface\"}], \"table\": [{\"cells\": {\"fill\": {\"color\": \"#EBF0F8\"}, \"line\": {\"color\": \"white\"}}, \"header\": {\"fill\": {\"color\": \"#C8D4E3\"}, \"line\": {\"color\": \"white\"}}, \"type\": \"table\"}]}, \"layout\": {\"annotationdefaults\": {\"arrowcolor\": \"#2a3f5f\", \"arrowhead\": 0, \"arrowwidth\": 1}, \"coloraxis\": {\"colorbar\": {\"outlinewidth\": 0, \"ticks\": \"\"}}, \"colorscale\": {\"diverging\": [[0, \"#8e0152\"], [0.1, \"#c51b7d\"], [0.2, \"#de77ae\"], [0.3, \"#f1b6da\"], [0.4, \"#fde0ef\"], [0.5, \"#f7f7f7\"], [0.6, \"#e6f5d0\"], [0.7, \"#b8e186\"], [0.8, \"#7fbc41\"], [0.9, \"#4d9221\"], [1, \"#276419\"]], \"sequential\": [[0.0, \"#0d0887\"], [0.1111111111111111, \"#46039f\"], [0.2222222222222222, \"#7201a8\"], [0.3333333333333333, \"#9c179e\"], [0.4444444444444444, \"#bd3786\"], [0.5555555555555556, \"#d8576b\"], [0.6666666666666666, \"#ed7953\"], [0.7777777777777778, \"#fb9f3a\"], [0.8888888888888888, \"#fdca26\"], [1.0, \"#f0f921\"]], \"sequentialminus\": [[0.0, \"#0d0887\"], [0.1111111111111111, \"#46039f\"], [0.2222222222222222, \"#7201a8\"], [0.3333333333333333, \"#9c179e\"], [0.4444444444444444, \"#bd3786\"], [0.5555555555555556, \"#d8576b\"], [0.6666666666666666, \"#ed7953\"], [0.7777777777777778, \"#fb9f3a\"], [0.8888888888888888, \"#fdca26\"], [1.0, \"#f0f921\"]]}, \"colorway\": [\"#636efa\", \"#EF553B\", \"#00cc96\", \"#ab63fa\", \"#FFA15A\", \"#19d3f3\", \"#FF6692\", \"#B6E880\", \"#FF97FF\", \"#FECB52\"], \"font\": {\"color\": \"#2a3f5f\"}, \"geo\": {\"bgcolor\": \"white\", \"lakecolor\": \"white\", \"landcolor\": \"#E5ECF6\", \"showlakes\": true, \"showland\": true, \"subunitcolor\": \"white\"}, \"hoverlabel\": {\"align\": \"left\"}, \"hovermode\": \"closest\", \"mapbox\": {\"style\": \"light\"}, \"paper_bgcolor\": \"white\", \"plot_bgcolor\": \"#E5ECF6\", \"polar\": {\"angularaxis\": {\"gridcolor\": \"white\", \"linecolor\": \"white\", \"ticks\": \"\"}, \"bgcolor\": \"#E5ECF6\", \"radialaxis\": {\"gridcolor\": \"white\", \"linecolor\": \"white\", \"ticks\": \"\"}}, \"scene\": {\"xaxis\": {\"backgroundcolor\": \"#E5ECF6\", \"gridcolor\": \"white\", \"gridwidth\": 2, \"linecolor\": \"white\", \"showbackground\": true, \"ticks\": \"\", \"zerolinecolor\": \"white\"}, \"yaxis\": {\"backgroundcolor\": \"#E5ECF6\", \"gridcolor\": \"white\", \"gridwidth\": 2, \"linecolor\": \"white\", \"showbackground\": true, \"ticks\": \"\", \"zerolinecolor\": \"white\"}, \"zaxis\": {\"backgroundcolor\": \"#E5ECF6\", \"gridcolor\": \"white\", \"gridwidth\": 2, \"linecolor\": \"white\", \"showbackground\": true, \"ticks\": \"\", \"zerolinecolor\": \"white\"}}, \"shapedefaults\": {\"line\": {\"color\": \"#2a3f5f\"}}, \"ternary\": {\"aaxis\": {\"gridcolor\": \"white\", \"linecolor\": \"white\", \"ticks\": \"\"}, \"baxis\": {\"gridcolor\": \"white\", \"linecolor\": \"white\", \"ticks\": \"\"}, \"bgcolor\": \"#E5ECF6\", \"caxis\": {\"gridcolor\": \"white\", \"linecolor\": \"white\", \"ticks\": \"\"}}, \"title\": {\"x\": 0.05}, \"xaxis\": {\"automargin\": true, \"gridcolor\": \"white\", \"linecolor\": \"white\", \"ticks\": \"\", \"title\": {\"standoff\": 15}, \"zerolinecolor\": \"white\", \"zerolinewidth\": 2}, \"yaxis\": {\"automargin\": true, \"gridcolor\": \"white\", \"linecolor\": \"white\", \"ticks\": \"\", \"title\": {\"standoff\": 15}, \"zerolinecolor\": \"white\", \"zerolinewidth\": 2}}}, \"title\": {\"text\": \"Module number 5\"}},\n",
       "                        {\"responsive\": true}\n",
       "                    ).then(function(){\n",
       "                            \n",
       "var gd = document.getElementById('b4b7a759-661b-4c89-9a0c-5f597c6d6334');\n",
       "var x = new MutationObserver(function (mutations, observer) {{\n",
       "        var display = window.getComputedStyle(gd).display;\n",
       "        if (!display || display === 'none') {{\n",
       "            console.log([gd, 'removed!']);\n",
       "            Plotly.purge(gd);\n",
       "            observer.disconnect();\n",
       "        }}\n",
       "}});\n",
       "\n",
       "// Listen for the removal of the full notebook cells\n",
       "var notebookContainer = gd.closest('#notebook-container');\n",
       "if (notebookContainer) {{\n",
       "    x.observe(notebookContainer, {childList: true});\n",
       "}}\n",
       "\n",
       "// Listen for the clearing of the current output cell\n",
       "var outputEl = gd.closest('.output');\n",
       "if (outputEl) {{\n",
       "    x.observe(outputEl, {childList: true});\n",
       "}}\n",
       "\n",
       "                        })\n",
       "                };\n",
       "                });\n",
       "            </script>\n",
       "        </div>"
      ]
     },
     "metadata": {},
     "output_type": "display_data"
    },
    {
     "data": {
      "application/vnd.plotly.v1+json": {
       "config": {
        "plotlyServerURL": "https://plot.ly"
       },
       "data": [
        {
         "mode": "lines+markers",
         "name": "Pulse index: 0",
         "type": "scatter",
         "x": [
          6381770,
          6381771,
          6381772,
          6381773,
          6381774,
          6381775,
          6381776,
          6381777,
          6381778,
          6381779,
          6381780,
          6381781,
          6381782,
          6381783,
          6381784,
          6381785,
          6381786,
          6381787,
          6381788,
          6381789,
          6381790,
          6381791
         ],
         "y": [
          0.033788181841373444,
          0.2895829379558563,
          -0.016689827665686607,
          -0.01043226383626461,
          0.39666488766670227,
          0.06188413128256798,
          -0.07533252984285355,
          0.28775325417518616,
          -0.06865205615758896,
          -0.02642754465341568,
          0.07256324589252472,
          -0.023094065487384796,
          -0.05266634747385979,
          0.031118666753172874,
          0.07185087352991104,
          0.010166450403630733,
          0.18236452341079712,
          0.09186628460884094,
          0.02073950320482254,
          -0.007385749835520983,
          -0.042745441198349,
          0.08724479377269745
         ]
        },
        {
         "mode": "lines+markers",
         "name": "Pulse index: 1",
         "type": "scatter",
         "x": [
          6381770,
          6381771,
          6381772,
          6381773,
          6381774,
          6381775,
          6381776,
          6381777,
          6381778,
          6381779,
          6381780,
          6381781,
          6381782,
          6381783,
          6381784,
          6381785,
          6381786,
          6381787,
          6381788,
          6381789,
          6381790,
          6381791
         ],
         "y": [
          0.002346694003790617,
          -0.2655644714832306,
          -0.31689882278442383,
          -0.0478811077773571,
          -0.005819384474307299,
          0.006929789669811726,
          0.17863714694976807,
          -0.1632819026708603,
          0.08824295550584793,
          -0.034152060747146606,
          -0.14469604194164276,
          0.0540604293346405,
          -0.11061786115169525,
          -0.005341682583093643,
          -0.05551757290959358,
          -0.16648946702480316,
          0.029421651735901833,
          0.08640836924314499,
          0.04026741907000542,
          -0.04894416406750679,
          0.0057341428473591805,
          0.0005114987725391984
         ]
        },
        {
         "mode": "lines+markers",
         "name": "Pulse index: 2",
         "type": "scatter",
         "x": [
          6381770,
          6381771,
          6381772,
          6381773,
          6381774,
          6381775,
          6381776,
          6381777,
          6381778,
          6381779,
          6381780,
          6381781,
          6381782,
          6381783,
          6381784,
          6381785,
          6381786,
          6381787,
          6381788,
          6381789,
          6381790,
          6381791
         ],
         "y": [
          0.3041765093803406,
          -0.017837053164839745,
          -0.08835316449403763,
          -0.09248216450214386,
          0.03226103261113167,
          0.6625105142593384,
          0.09552169591188431,
          0.12450209259986877,
          0.09214860945940018,
          0.012585660442709923,
          0.08007928729057312,
          -0.11194102466106415,
          -0.11067093908786774,
          -0.2067120373249054,
          0.2579556405544281,
          0.13033810257911682,
          null,
          0.06268156319856644,
          -0.008187523111701012,
          0.10185829550027847,
          0.29015880823135376,
          -0.05119120329618454
         ]
        },
        {
         "mode": "lines+markers",
         "name": "Pulse index: 3",
         "type": "scatter",
         "x": [
          6381770,
          6381771,
          6381772,
          6381773,
          6381774,
          6381775,
          6381776,
          6381777,
          6381778,
          6381779,
          6381780,
          6381781,
          6381782,
          6381783,
          6381784,
          6381785,
          6381786,
          6381787,
          6381788,
          6381789,
          6381790,
          6381791
         ],
         "y": [
          -0.7870472073554993,
          -1.0363876819610596,
          -0.8091314435005188,
          -0.8969236612319946,
          -0.560367226600647,
          0.07798975706100464,
          -0.06228793039917946,
          -0.3686704635620117,
          -0.23244993388652802,
          -0.10608738660812378,
          -0.730661928653717,
          -0.7930480241775513,
          -0.41185152530670166,
          -0.410727322101593,
          -0.2393312007188797,
          -0.1792130321264267,
          -0.3778672516345978,
          -0.1442873626947403,
          0.5667036771774292,
          0.1188676729798317,
          -0.04949260503053665,
          -0.05794487148523331
         ]
        },
        {
         "mode": "lines+markers",
         "name": "Pulse index: 4",
         "type": "scatter",
         "x": [
          6381770,
          6381771,
          6381772,
          6381773,
          6381774,
          6381775,
          6381776,
          6381777,
          6381778,
          6381779,
          6381780,
          6381781,
          6381782,
          6381783,
          6381784,
          6381785,
          6381786,
          6381787,
          6381788,
          6381789,
          6381790,
          6381791
         ],
         "y": [
          -0.327965646982193,
          -0.2458680272102356,
          -0.32358497381210327,
          -0.5005476474761963,
          -0.25662919878959656,
          0.08839667588472366,
          0.3919697701931,
          0.4298853278160095,
          0.13456271588802338,
          0.31361037492752075,
          -0.10024131089448929,
          -0.01866268180310726,
          -0.012275072745978832,
          -0.028513159602880478,
          0.28443068265914917,
          0.19977004826068878,
          -0.053944703191518784,
          -0.2741093933582306,
          -0.02650841884315014,
          0.25398576259613037,
          0.6032770276069641,
          0.3676788806915283
         ]
        },
        {
         "mode": "lines+markers",
         "name": "Pulse index: 5",
         "type": "scatter",
         "x": [
          6381770,
          6381771,
          6381772,
          6381773,
          6381774,
          6381775,
          6381776,
          6381777,
          6381778,
          6381779,
          6381780,
          6381781,
          6381782,
          6381783,
          6381784,
          6381785,
          6381786,
          6381787,
          6381788,
          6381789,
          6381790,
          6381791
         ],
         "y": [
          -0.4718949794769287,
          -0.3223417401313782,
          -0.35992535948753357,
          -0.38023117184638977,
          -0.3279693126678467,
          0.3678252100944519,
          0.38585802912712097,
          0.5011974573135376,
          0.5224865674972534,
          0.428521066904068,
          0.1383463442325592,
          -0.38361313939094543,
          0.056549616158008575,
          0.04730098694562912,
          0.1836954802274704,
          0.009956679306924343,
          0.17108571529388428,
          0.04897643253207207,
          0.5062363147735596,
          0.5683170557022095,
          0.6975210905075073,
          0.29652607440948486
         ]
        },
        {
         "mode": "lines+markers",
         "name": "Pulse index: 6",
         "type": "scatter",
         "x": [
          6381770,
          6381771,
          6381772,
          6381773,
          6381774,
          6381775,
          6381776,
          6381777,
          6381778,
          6381779,
          6381780,
          6381781,
          6381782,
          6381783,
          6381784,
          6381785,
          6381786,
          6381787,
          6381788,
          6381789,
          6381790,
          6381791
         ],
         "y": [
          -0.28025397658348083,
          -0.51491379737854,
          -0.439344584941864,
          -0.1632835417985916,
          -0.16381604969501495,
          0.3468714654445648,
          0.44609877467155457,
          0.015931544825434685,
          -0.27855974435806274,
          0.012315826490521431,
          -0.07922737300395966,
          -0.5181168913841248,
          -0.5709763169288635,
          -0.3076658546924591,
          -0.3313364088535309,
          -0.24427413940429688,
          -0.06429672241210938,
          -0.03488021343946457,
          0.21239660680294037,
          0.17170588672161102,
          0.29597219824790955,
          -0.09074718505144119
         ]
        },
        {
         "mode": "lines+markers",
         "name": "Pulse index: 7",
         "type": "scatter",
         "x": [
          6381770,
          6381771,
          6381772,
          6381773,
          6381774,
          6381775,
          6381776,
          6381777,
          6381778,
          6381779,
          6381780,
          6381781,
          6381782,
          6381783,
          6381784,
          6381785,
          6381786,
          6381787,
          6381788,
          6381789,
          6381790,
          6381791
         ],
         "y": [
          -0.34308531880378723,
          -0.4118439853191376,
          -0.22965770959854126,
          -0.07443356513977051,
          -0.09982074797153473,
          0.2607269585132599,
          0.1664966195821762,
          0.12992314994335175,
          0.1125810444355011,
          0.18853768706321716,
          -0.11601922661066055,
          -0.25245362520217896,
          0.24359357357025146,
          0.016407513990998268,
          -0.2883989214897156,
          0.3924170732498169,
          -0.45223090052604675,
          -0.11632862687110901,
          0.32498690485954285,
          0.2894218862056732,
          0.2318423092365265,
          0.3265807032585144
         ]
        },
        {
         "mode": "lines+markers",
         "name": "Pulse index: 8",
         "type": "scatter",
         "x": [
          6381770,
          6381771,
          6381772,
          6381773,
          6381774,
          6381775,
          6381776,
          6381777,
          6381778,
          6381779,
          6381780,
          6381781,
          6381782,
          6381783,
          6381784,
          6381785,
          6381786,
          6381787,
          6381788,
          6381789,
          6381790,
          6381791
         ],
         "y": [
          -0.3443257510662079,
          -0.12465712428092957,
          -0.1463925838470459,
          -0.3202424645423889,
          -0.4448123872280121,
          0.0011601638980209827,
          -0.02850414253771305,
          0.35332992672920227,
          0.5487716794013977,
          0.0504283532500267,
          -0.09889592975378036,
          0.0017009354196488857,
          -0.02200058475136757,
          0.28151294589042664,
          -0.3158608376979828,
          0.15610645711421967,
          -0.1372242569923401,
          0.10559543967247009,
          -0.2259158194065094,
          0.07424648106098175,
          0.8000926971435547,
          0.5561904311180115
         ]
        },
        {
         "mode": "lines+markers",
         "name": "Pulse index: 9",
         "type": "scatter",
         "x": [
          6381770,
          6381771,
          6381772,
          6381773,
          6381774,
          6381775,
          6381776,
          6381777,
          6381778,
          6381779,
          6381780,
          6381781,
          6381782,
          6381783,
          6381784,
          6381785,
          6381786,
          6381787,
          6381788,
          6381789,
          6381790,
          6381791
         ],
         "y": [
          -0.9377228617668152,
          -0.6414764523506165,
          -0.7593621611595154,
          -0.6604894995689392,
          -0.4905261695384979,
          -0.15303528308868408,
          -0.137864351272583,
          -0.07116148620843887,
          0.03252996504306793,
          -0.2880352735519409,
          -0.47115567326545715,
          -0.9109459519386292,
          -0.449078768491745,
          -0.6772857904434204,
          -0.6541674733161926,
          -0.6238348484039307,
          -0.07879149168729782,
          -0.07625944167375565,
          0.3891668915748596,
          -0.05103842541575432,
          -0.16950395703315735,
          -0.4069213271141052
         ]
        },
        {
         "mode": "lines+markers",
         "name": "Pulse index: 10",
         "type": "scatter",
         "x": [
          6381770,
          6381771,
          6381772,
          6381773,
          6381774,
          6381775,
          6381776,
          6381777,
          6381778,
          6381779,
          6381780,
          6381781,
          6381782,
          6381783,
          6381784,
          6381785,
          6381786,
          6381787,
          6381788,
          6381789,
          6381790,
          6381791
         ],
         "y": [
          -1.0959209203720093,
          -0.41326436400413513,
          -0.48565027117729187,
          -0.3803682327270508,
          -0.51114821434021,
          -0.10463285446166992,
          0.40114346146583557,
          0.1808236688375473,
          0.12382949143648148,
          -0.15375393629074097,
          -0.7279078364372253,
          -0.35623008012771606,
          -0.029058702290058136,
          0.31338343024253845,
          -0.22131523489952087,
          -0.0915750116109848,
          -0.3009774088859558,
          -0.3045918643474579,
          -0.06212761253118515,
          0.24083605408668518,
          0.32373717427253723,
          -0.31564095616340637
         ]
        }
       ],
       "layout": {
        "template": {
         "data": {
          "bar": [
           {
            "error_x": {
             "color": "#2a3f5f"
            },
            "error_y": {
             "color": "#2a3f5f"
            },
            "marker": {
             "line": {
              "color": "#E5ECF6",
              "width": 0.5
             }
            },
            "type": "bar"
           }
          ],
          "barpolar": [
           {
            "marker": {
             "line": {
              "color": "#E5ECF6",
              "width": 0.5
             }
            },
            "type": "barpolar"
           }
          ],
          "carpet": [
           {
            "aaxis": {
             "endlinecolor": "#2a3f5f",
             "gridcolor": "white",
             "linecolor": "white",
             "minorgridcolor": "white",
             "startlinecolor": "#2a3f5f"
            },
            "baxis": {
             "endlinecolor": "#2a3f5f",
             "gridcolor": "white",
             "linecolor": "white",
             "minorgridcolor": "white",
             "startlinecolor": "#2a3f5f"
            },
            "type": "carpet"
           }
          ],
          "choropleth": [
           {
            "colorbar": {
             "outlinewidth": 0,
             "ticks": ""
            },
            "type": "choropleth"
           }
          ],
          "contour": [
           {
            "colorbar": {
             "outlinewidth": 0,
             "ticks": ""
            },
            "colorscale": [
             [
              0,
              "#0d0887"
             ],
             [
              0.1111111111111111,
              "#46039f"
             ],
             [
              0.2222222222222222,
              "#7201a8"
             ],
             [
              0.3333333333333333,
              "#9c179e"
             ],
             [
              0.4444444444444444,
              "#bd3786"
             ],
             [
              0.5555555555555556,
              "#d8576b"
             ],
             [
              0.6666666666666666,
              "#ed7953"
             ],
             [
              0.7777777777777778,
              "#fb9f3a"
             ],
             [
              0.8888888888888888,
              "#fdca26"
             ],
             [
              1,
              "#f0f921"
             ]
            ],
            "type": "contour"
           }
          ],
          "contourcarpet": [
           {
            "colorbar": {
             "outlinewidth": 0,
             "ticks": ""
            },
            "type": "contourcarpet"
           }
          ],
          "heatmap": [
           {
            "colorbar": {
             "outlinewidth": 0,
             "ticks": ""
            },
            "colorscale": [
             [
              0,
              "#0d0887"
             ],
             [
              0.1111111111111111,
              "#46039f"
             ],
             [
              0.2222222222222222,
              "#7201a8"
             ],
             [
              0.3333333333333333,
              "#9c179e"
             ],
             [
              0.4444444444444444,
              "#bd3786"
             ],
             [
              0.5555555555555556,
              "#d8576b"
             ],
             [
              0.6666666666666666,
              "#ed7953"
             ],
             [
              0.7777777777777778,
              "#fb9f3a"
             ],
             [
              0.8888888888888888,
              "#fdca26"
             ],
             [
              1,
              "#f0f921"
             ]
            ],
            "type": "heatmap"
           }
          ],
          "heatmapgl": [
           {
            "colorbar": {
             "outlinewidth": 0,
             "ticks": ""
            },
            "colorscale": [
             [
              0,
              "#0d0887"
             ],
             [
              0.1111111111111111,
              "#46039f"
             ],
             [
              0.2222222222222222,
              "#7201a8"
             ],
             [
              0.3333333333333333,
              "#9c179e"
             ],
             [
              0.4444444444444444,
              "#bd3786"
             ],
             [
              0.5555555555555556,
              "#d8576b"
             ],
             [
              0.6666666666666666,
              "#ed7953"
             ],
             [
              0.7777777777777778,
              "#fb9f3a"
             ],
             [
              0.8888888888888888,
              "#fdca26"
             ],
             [
              1,
              "#f0f921"
             ]
            ],
            "type": "heatmapgl"
           }
          ],
          "histogram": [
           {
            "marker": {
             "colorbar": {
              "outlinewidth": 0,
              "ticks": ""
             }
            },
            "type": "histogram"
           }
          ],
          "histogram2d": [
           {
            "colorbar": {
             "outlinewidth": 0,
             "ticks": ""
            },
            "colorscale": [
             [
              0,
              "#0d0887"
             ],
             [
              0.1111111111111111,
              "#46039f"
             ],
             [
              0.2222222222222222,
              "#7201a8"
             ],
             [
              0.3333333333333333,
              "#9c179e"
             ],
             [
              0.4444444444444444,
              "#bd3786"
             ],
             [
              0.5555555555555556,
              "#d8576b"
             ],
             [
              0.6666666666666666,
              "#ed7953"
             ],
             [
              0.7777777777777778,
              "#fb9f3a"
             ],
             [
              0.8888888888888888,
              "#fdca26"
             ],
             [
              1,
              "#f0f921"
             ]
            ],
            "type": "histogram2d"
           }
          ],
          "histogram2dcontour": [
           {
            "colorbar": {
             "outlinewidth": 0,
             "ticks": ""
            },
            "colorscale": [
             [
              0,
              "#0d0887"
             ],
             [
              0.1111111111111111,
              "#46039f"
             ],
             [
              0.2222222222222222,
              "#7201a8"
             ],
             [
              0.3333333333333333,
              "#9c179e"
             ],
             [
              0.4444444444444444,
              "#bd3786"
             ],
             [
              0.5555555555555556,
              "#d8576b"
             ],
             [
              0.6666666666666666,
              "#ed7953"
             ],
             [
              0.7777777777777778,
              "#fb9f3a"
             ],
             [
              0.8888888888888888,
              "#fdca26"
             ],
             [
              1,
              "#f0f921"
             ]
            ],
            "type": "histogram2dcontour"
           }
          ],
          "mesh3d": [
           {
            "colorbar": {
             "outlinewidth": 0,
             "ticks": ""
            },
            "type": "mesh3d"
           }
          ],
          "parcoords": [
           {
            "line": {
             "colorbar": {
              "outlinewidth": 0,
              "ticks": ""
             }
            },
            "type": "parcoords"
           }
          ],
          "pie": [
           {
            "automargin": true,
            "type": "pie"
           }
          ],
          "scatter": [
           {
            "marker": {
             "colorbar": {
              "outlinewidth": 0,
              "ticks": ""
             }
            },
            "type": "scatter"
           }
          ],
          "scatter3d": [
           {
            "line": {
             "colorbar": {
              "outlinewidth": 0,
              "ticks": ""
             }
            },
            "marker": {
             "colorbar": {
              "outlinewidth": 0,
              "ticks": ""
             }
            },
            "type": "scatter3d"
           }
          ],
          "scattercarpet": [
           {
            "marker": {
             "colorbar": {
              "outlinewidth": 0,
              "ticks": ""
             }
            },
            "type": "scattercarpet"
           }
          ],
          "scattergeo": [
           {
            "marker": {
             "colorbar": {
              "outlinewidth": 0,
              "ticks": ""
             }
            },
            "type": "scattergeo"
           }
          ],
          "scattergl": [
           {
            "marker": {
             "colorbar": {
              "outlinewidth": 0,
              "ticks": ""
             }
            },
            "type": "scattergl"
           }
          ],
          "scattermapbox": [
           {
            "marker": {
             "colorbar": {
              "outlinewidth": 0,
              "ticks": ""
             }
            },
            "type": "scattermapbox"
           }
          ],
          "scatterpolar": [
           {
            "marker": {
             "colorbar": {
              "outlinewidth": 0,
              "ticks": ""
             }
            },
            "type": "scatterpolar"
           }
          ],
          "scatterpolargl": [
           {
            "marker": {
             "colorbar": {
              "outlinewidth": 0,
              "ticks": ""
             }
            },
            "type": "scatterpolargl"
           }
          ],
          "scatterternary": [
           {
            "marker": {
             "colorbar": {
              "outlinewidth": 0,
              "ticks": ""
             }
            },
            "type": "scatterternary"
           }
          ],
          "surface": [
           {
            "colorbar": {
             "outlinewidth": 0,
             "ticks": ""
            },
            "colorscale": [
             [
              0,
              "#0d0887"
             ],
             [
              0.1111111111111111,
              "#46039f"
             ],
             [
              0.2222222222222222,
              "#7201a8"
             ],
             [
              0.3333333333333333,
              "#9c179e"
             ],
             [
              0.4444444444444444,
              "#bd3786"
             ],
             [
              0.5555555555555556,
              "#d8576b"
             ],
             [
              0.6666666666666666,
              "#ed7953"
             ],
             [
              0.7777777777777778,
              "#fb9f3a"
             ],
             [
              0.8888888888888888,
              "#fdca26"
             ],
             [
              1,
              "#f0f921"
             ]
            ],
            "type": "surface"
           }
          ],
          "table": [
           {
            "cells": {
             "fill": {
              "color": "#EBF0F8"
             },
             "line": {
              "color": "white"
             }
            },
            "header": {
             "fill": {
              "color": "#C8D4E3"
             },
             "line": {
              "color": "white"
             }
            },
            "type": "table"
           }
          ]
         },
         "layout": {
          "annotationdefaults": {
           "arrowcolor": "#2a3f5f",
           "arrowhead": 0,
           "arrowwidth": 1
          },
          "coloraxis": {
           "colorbar": {
            "outlinewidth": 0,
            "ticks": ""
           }
          },
          "colorscale": {
           "diverging": [
            [
             0,
             "#8e0152"
            ],
            [
             0.1,
             "#c51b7d"
            ],
            [
             0.2,
             "#de77ae"
            ],
            [
             0.3,
             "#f1b6da"
            ],
            [
             0.4,
             "#fde0ef"
            ],
            [
             0.5,
             "#f7f7f7"
            ],
            [
             0.6,
             "#e6f5d0"
            ],
            [
             0.7,
             "#b8e186"
            ],
            [
             0.8,
             "#7fbc41"
            ],
            [
             0.9,
             "#4d9221"
            ],
            [
             1,
             "#276419"
            ]
           ],
           "sequential": [
            [
             0,
             "#0d0887"
            ],
            [
             0.1111111111111111,
             "#46039f"
            ],
            [
             0.2222222222222222,
             "#7201a8"
            ],
            [
             0.3333333333333333,
             "#9c179e"
            ],
            [
             0.4444444444444444,
             "#bd3786"
            ],
            [
             0.5555555555555556,
             "#d8576b"
            ],
            [
             0.6666666666666666,
             "#ed7953"
            ],
            [
             0.7777777777777778,
             "#fb9f3a"
            ],
            [
             0.8888888888888888,
             "#fdca26"
            ],
            [
             1,
             "#f0f921"
            ]
           ],
           "sequentialminus": [
            [
             0,
             "#0d0887"
            ],
            [
             0.1111111111111111,
             "#46039f"
            ],
            [
             0.2222222222222222,
             "#7201a8"
            ],
            [
             0.3333333333333333,
             "#9c179e"
            ],
            [
             0.4444444444444444,
             "#bd3786"
            ],
            [
             0.5555555555555556,
             "#d8576b"
            ],
            [
             0.6666666666666666,
             "#ed7953"
            ],
            [
             0.7777777777777778,
             "#fb9f3a"
            ],
            [
             0.8888888888888888,
             "#fdca26"
            ],
            [
             1,
             "#f0f921"
            ]
           ]
          },
          "colorway": [
           "#636efa",
           "#EF553B",
           "#00cc96",
           "#ab63fa",
           "#FFA15A",
           "#19d3f3",
           "#FF6692",
           "#B6E880",
           "#FF97FF",
           "#FECB52"
          ],
          "font": {
           "color": "#2a3f5f"
          },
          "geo": {
           "bgcolor": "white",
           "lakecolor": "white",
           "landcolor": "#E5ECF6",
           "showlakes": true,
           "showland": true,
           "subunitcolor": "white"
          },
          "hoverlabel": {
           "align": "left"
          },
          "hovermode": "closest",
          "mapbox": {
           "style": "light"
          },
          "paper_bgcolor": "white",
          "plot_bgcolor": "#E5ECF6",
          "polar": {
           "angularaxis": {
            "gridcolor": "white",
            "linecolor": "white",
            "ticks": ""
           },
           "bgcolor": "#E5ECF6",
           "radialaxis": {
            "gridcolor": "white",
            "linecolor": "white",
            "ticks": ""
           }
          },
          "scene": {
           "xaxis": {
            "backgroundcolor": "#E5ECF6",
            "gridcolor": "white",
            "gridwidth": 2,
            "linecolor": "white",
            "showbackground": true,
            "ticks": "",
            "zerolinecolor": "white"
           },
           "yaxis": {
            "backgroundcolor": "#E5ECF6",
            "gridcolor": "white",
            "gridwidth": 2,
            "linecolor": "white",
            "showbackground": true,
            "ticks": "",
            "zerolinecolor": "white"
           },
           "zaxis": {
            "backgroundcolor": "#E5ECF6",
            "gridcolor": "white",
            "gridwidth": 2,
            "linecolor": "white",
            "showbackground": true,
            "ticks": "",
            "zerolinecolor": "white"
           }
          },
          "shapedefaults": {
           "line": {
            "color": "#2a3f5f"
           }
          },
          "ternary": {
           "aaxis": {
            "gridcolor": "white",
            "linecolor": "white",
            "ticks": ""
           },
           "baxis": {
            "gridcolor": "white",
            "linecolor": "white",
            "ticks": ""
           },
           "bgcolor": "#E5ECF6",
           "caxis": {
            "gridcolor": "white",
            "linecolor": "white",
            "ticks": ""
           }
          },
          "title": {
           "x": 0.05
          },
          "xaxis": {
           "automargin": true,
           "gridcolor": "white",
           "linecolor": "white",
           "ticks": "",
           "title": {
            "standoff": 15
           },
           "zerolinecolor": "white",
           "zerolinewidth": 2
          },
          "yaxis": {
           "automargin": true,
           "gridcolor": "white",
           "linecolor": "white",
           "ticks": "",
           "title": {
            "standoff": 15
           },
           "zerolinecolor": "white",
           "zerolinewidth": 2
          }
         }
        },
        "title": {
         "text": "Module number 6"
        }
       }
      },
      "text/html": [
       "<div>\n",
       "        \n",
       "        \n",
       "            <div id=\"7025c71b-668d-4b41-9c69-ec235daf935e\" class=\"plotly-graph-div\" style=\"height:525px; width:100%;\"></div>\n",
       "            <script type=\"text/javascript\">\n",
       "                require([\"plotly\"], function(Plotly) {\n",
       "                    window.PLOTLYENV=window.PLOTLYENV || {};\n",
       "                    \n",
       "                if (document.getElementById(\"7025c71b-668d-4b41-9c69-ec235daf935e\")) {\n",
       "                    Plotly.newPlot(\n",
       "                        '7025c71b-668d-4b41-9c69-ec235daf935e',\n",
       "                        [{\"mode\": \"lines+markers\", \"name\": \"Pulse index: 0\", \"type\": \"scatter\", \"x\": [6381770, 6381771, 6381772, 6381773, 6381774, 6381775, 6381776, 6381777, 6381778, 6381779, 6381780, 6381781, 6381782, 6381783, 6381784, 6381785, 6381786, 6381787, 6381788, 6381789, 6381790, 6381791], \"y\": [0.033788181841373444, 0.2895829379558563, -0.016689827665686607, -0.01043226383626461, 0.39666488766670227, 0.06188413128256798, -0.07533252984285355, 0.28775325417518616, -0.06865205615758896, -0.02642754465341568, 0.07256324589252472, -0.023094065487384796, -0.05266634747385979, 0.031118666753172874, 0.07185087352991104, 0.010166450403630733, 0.18236452341079712, 0.09186628460884094, 0.02073950320482254, -0.007385749835520983, -0.042745441198349, 0.08724479377269745]}, {\"mode\": \"lines+markers\", \"name\": \"Pulse index: 1\", \"type\": \"scatter\", \"x\": [6381770, 6381771, 6381772, 6381773, 6381774, 6381775, 6381776, 6381777, 6381778, 6381779, 6381780, 6381781, 6381782, 6381783, 6381784, 6381785, 6381786, 6381787, 6381788, 6381789, 6381790, 6381791], \"y\": [0.002346694003790617, -0.2655644714832306, -0.31689882278442383, -0.0478811077773571, -0.005819384474307299, 0.006929789669811726, 0.17863714694976807, -0.1632819026708603, 0.08824295550584793, -0.034152060747146606, -0.14469604194164276, 0.0540604293346405, -0.11061786115169525, -0.005341682583093643, -0.05551757290959358, -0.16648946702480316, 0.029421651735901833, 0.08640836924314499, 0.04026741907000542, -0.04894416406750679, 0.0057341428473591805, 0.0005114987725391984]}, {\"mode\": \"lines+markers\", \"name\": \"Pulse index: 2\", \"type\": \"scatter\", \"x\": [6381770, 6381771, 6381772, 6381773, 6381774, 6381775, 6381776, 6381777, 6381778, 6381779, 6381780, 6381781, 6381782, 6381783, 6381784, 6381785, 6381786, 6381787, 6381788, 6381789, 6381790, 6381791], \"y\": [0.3041765093803406, -0.017837053164839745, -0.08835316449403763, -0.09248216450214386, 0.03226103261113167, 0.6625105142593384, 0.09552169591188431, 0.12450209259986877, 0.09214860945940018, 0.012585660442709923, 0.08007928729057312, -0.11194102466106415, -0.11067093908786774, -0.2067120373249054, 0.2579556405544281, 0.13033810257911682, null, 0.06268156319856644, -0.008187523111701012, 0.10185829550027847, 0.29015880823135376, -0.05119120329618454]}, {\"mode\": \"lines+markers\", \"name\": \"Pulse index: 3\", \"type\": \"scatter\", \"x\": [6381770, 6381771, 6381772, 6381773, 6381774, 6381775, 6381776, 6381777, 6381778, 6381779, 6381780, 6381781, 6381782, 6381783, 6381784, 6381785, 6381786, 6381787, 6381788, 6381789, 6381790, 6381791], \"y\": [-0.7870472073554993, -1.0363876819610596, -0.8091314435005188, -0.8969236612319946, -0.560367226600647, 0.07798975706100464, -0.06228793039917946, -0.3686704635620117, -0.23244993388652802, -0.10608738660812378, -0.730661928653717, -0.7930480241775513, -0.41185152530670166, -0.410727322101593, -0.2393312007188797, -0.1792130321264267, -0.3778672516345978, -0.1442873626947403, 0.5667036771774292, 0.1188676729798317, -0.04949260503053665, -0.05794487148523331]}, {\"mode\": \"lines+markers\", \"name\": \"Pulse index: 4\", \"type\": \"scatter\", \"x\": [6381770, 6381771, 6381772, 6381773, 6381774, 6381775, 6381776, 6381777, 6381778, 6381779, 6381780, 6381781, 6381782, 6381783, 6381784, 6381785, 6381786, 6381787, 6381788, 6381789, 6381790, 6381791], \"y\": [-0.327965646982193, -0.2458680272102356, -0.32358497381210327, -0.5005476474761963, -0.25662919878959656, 0.08839667588472366, 0.3919697701931, 0.4298853278160095, 0.13456271588802338, 0.31361037492752075, -0.10024131089448929, -0.01866268180310726, -0.012275072745978832, -0.028513159602880478, 0.28443068265914917, 0.19977004826068878, -0.053944703191518784, -0.2741093933582306, -0.02650841884315014, 0.25398576259613037, 0.6032770276069641, 0.3676788806915283]}, {\"mode\": \"lines+markers\", \"name\": \"Pulse index: 5\", \"type\": \"scatter\", \"x\": [6381770, 6381771, 6381772, 6381773, 6381774, 6381775, 6381776, 6381777, 6381778, 6381779, 6381780, 6381781, 6381782, 6381783, 6381784, 6381785, 6381786, 6381787, 6381788, 6381789, 6381790, 6381791], \"y\": [-0.4718949794769287, -0.3223417401313782, -0.35992535948753357, -0.38023117184638977, -0.3279693126678467, 0.3678252100944519, 0.38585802912712097, 0.5011974573135376, 0.5224865674972534, 0.428521066904068, 0.1383463442325592, -0.38361313939094543, 0.056549616158008575, 0.04730098694562912, 0.1836954802274704, 0.009956679306924343, 0.17108571529388428, 0.04897643253207207, 0.5062363147735596, 0.5683170557022095, 0.6975210905075073, 0.29652607440948486]}, {\"mode\": \"lines+markers\", \"name\": \"Pulse index: 6\", \"type\": \"scatter\", \"x\": [6381770, 6381771, 6381772, 6381773, 6381774, 6381775, 6381776, 6381777, 6381778, 6381779, 6381780, 6381781, 6381782, 6381783, 6381784, 6381785, 6381786, 6381787, 6381788, 6381789, 6381790, 6381791], \"y\": [-0.28025397658348083, -0.51491379737854, -0.439344584941864, -0.1632835417985916, -0.16381604969501495, 0.3468714654445648, 0.44609877467155457, 0.015931544825434685, -0.27855974435806274, 0.012315826490521431, -0.07922737300395966, -0.5181168913841248, -0.5709763169288635, -0.3076658546924591, -0.3313364088535309, -0.24427413940429688, -0.06429672241210938, -0.03488021343946457, 0.21239660680294037, 0.17170588672161102, 0.29597219824790955, -0.09074718505144119]}, {\"mode\": \"lines+markers\", \"name\": \"Pulse index: 7\", \"type\": \"scatter\", \"x\": [6381770, 6381771, 6381772, 6381773, 6381774, 6381775, 6381776, 6381777, 6381778, 6381779, 6381780, 6381781, 6381782, 6381783, 6381784, 6381785, 6381786, 6381787, 6381788, 6381789, 6381790, 6381791], \"y\": [-0.34308531880378723, -0.4118439853191376, -0.22965770959854126, -0.07443356513977051, -0.09982074797153473, 0.2607269585132599, 0.1664966195821762, 0.12992314994335175, 0.1125810444355011, 0.18853768706321716, -0.11601922661066055, -0.25245362520217896, 0.24359357357025146, 0.016407513990998268, -0.2883989214897156, 0.3924170732498169, -0.45223090052604675, -0.11632862687110901, 0.32498690485954285, 0.2894218862056732, 0.2318423092365265, 0.3265807032585144]}, {\"mode\": \"lines+markers\", \"name\": \"Pulse index: 8\", \"type\": \"scatter\", \"x\": [6381770, 6381771, 6381772, 6381773, 6381774, 6381775, 6381776, 6381777, 6381778, 6381779, 6381780, 6381781, 6381782, 6381783, 6381784, 6381785, 6381786, 6381787, 6381788, 6381789, 6381790, 6381791], \"y\": [-0.3443257510662079, -0.12465712428092957, -0.1463925838470459, -0.3202424645423889, -0.4448123872280121, 0.0011601638980209827, -0.02850414253771305, 0.35332992672920227, 0.5487716794013977, 0.0504283532500267, -0.09889592975378036, 0.0017009354196488857, -0.02200058475136757, 0.28151294589042664, -0.3158608376979828, 0.15610645711421967, -0.1372242569923401, 0.10559543967247009, -0.2259158194065094, 0.07424648106098175, 0.8000926971435547, 0.5561904311180115]}, {\"mode\": \"lines+markers\", \"name\": \"Pulse index: 9\", \"type\": \"scatter\", \"x\": [6381770, 6381771, 6381772, 6381773, 6381774, 6381775, 6381776, 6381777, 6381778, 6381779, 6381780, 6381781, 6381782, 6381783, 6381784, 6381785, 6381786, 6381787, 6381788, 6381789, 6381790, 6381791], \"y\": [-0.9377228617668152, -0.6414764523506165, -0.7593621611595154, -0.6604894995689392, -0.4905261695384979, -0.15303528308868408, -0.137864351272583, -0.07116148620843887, 0.03252996504306793, -0.2880352735519409, -0.47115567326545715, -0.9109459519386292, -0.449078768491745, -0.6772857904434204, -0.6541674733161926, -0.6238348484039307, -0.07879149168729782, -0.07625944167375565, 0.3891668915748596, -0.05103842541575432, -0.16950395703315735, -0.4069213271141052]}, {\"mode\": \"lines+markers\", \"name\": \"Pulse index: 10\", \"type\": \"scatter\", \"x\": [6381770, 6381771, 6381772, 6381773, 6381774, 6381775, 6381776, 6381777, 6381778, 6381779, 6381780, 6381781, 6381782, 6381783, 6381784, 6381785, 6381786, 6381787, 6381788, 6381789, 6381790, 6381791], \"y\": [-1.0959209203720093, -0.41326436400413513, -0.48565027117729187, -0.3803682327270508, -0.51114821434021, -0.10463285446166992, 0.40114346146583557, 0.1808236688375473, 0.12382949143648148, -0.15375393629074097, -0.7279078364372253, -0.35623008012771606, -0.029058702290058136, 0.31338343024253845, -0.22131523489952087, -0.0915750116109848, -0.3009774088859558, -0.3045918643474579, -0.06212761253118515, 0.24083605408668518, 0.32373717427253723, -0.31564095616340637]}],\n",
       "                        {\"template\": {\"data\": {\"bar\": [{\"error_x\": {\"color\": \"#2a3f5f\"}, \"error_y\": {\"color\": \"#2a3f5f\"}, \"marker\": {\"line\": {\"color\": \"#E5ECF6\", \"width\": 0.5}}, \"type\": \"bar\"}], \"barpolar\": [{\"marker\": {\"line\": {\"color\": \"#E5ECF6\", \"width\": 0.5}}, \"type\": \"barpolar\"}], \"carpet\": [{\"aaxis\": {\"endlinecolor\": \"#2a3f5f\", \"gridcolor\": \"white\", \"linecolor\": \"white\", \"minorgridcolor\": \"white\", \"startlinecolor\": \"#2a3f5f\"}, \"baxis\": {\"endlinecolor\": \"#2a3f5f\", \"gridcolor\": \"white\", \"linecolor\": \"white\", \"minorgridcolor\": \"white\", \"startlinecolor\": \"#2a3f5f\"}, \"type\": \"carpet\"}], \"choropleth\": [{\"colorbar\": {\"outlinewidth\": 0, \"ticks\": \"\"}, \"type\": \"choropleth\"}], \"contour\": [{\"colorbar\": {\"outlinewidth\": 0, \"ticks\": \"\"}, \"colorscale\": [[0.0, \"#0d0887\"], [0.1111111111111111, \"#46039f\"], [0.2222222222222222, \"#7201a8\"], [0.3333333333333333, \"#9c179e\"], [0.4444444444444444, \"#bd3786\"], [0.5555555555555556, \"#d8576b\"], [0.6666666666666666, \"#ed7953\"], [0.7777777777777778, \"#fb9f3a\"], [0.8888888888888888, \"#fdca26\"], [1.0, \"#f0f921\"]], \"type\": \"contour\"}], \"contourcarpet\": [{\"colorbar\": {\"outlinewidth\": 0, \"ticks\": \"\"}, \"type\": \"contourcarpet\"}], \"heatmap\": [{\"colorbar\": {\"outlinewidth\": 0, \"ticks\": \"\"}, \"colorscale\": [[0.0, \"#0d0887\"], [0.1111111111111111, \"#46039f\"], [0.2222222222222222, \"#7201a8\"], [0.3333333333333333, \"#9c179e\"], [0.4444444444444444, \"#bd3786\"], [0.5555555555555556, \"#d8576b\"], [0.6666666666666666, \"#ed7953\"], [0.7777777777777778, \"#fb9f3a\"], [0.8888888888888888, \"#fdca26\"], [1.0, \"#f0f921\"]], \"type\": \"heatmap\"}], \"heatmapgl\": [{\"colorbar\": {\"outlinewidth\": 0, \"ticks\": \"\"}, \"colorscale\": [[0.0, \"#0d0887\"], [0.1111111111111111, \"#46039f\"], [0.2222222222222222, \"#7201a8\"], [0.3333333333333333, \"#9c179e\"], [0.4444444444444444, \"#bd3786\"], [0.5555555555555556, \"#d8576b\"], [0.6666666666666666, \"#ed7953\"], [0.7777777777777778, \"#fb9f3a\"], [0.8888888888888888, \"#fdca26\"], [1.0, \"#f0f921\"]], \"type\": \"heatmapgl\"}], \"histogram\": [{\"marker\": {\"colorbar\": {\"outlinewidth\": 0, \"ticks\": \"\"}}, \"type\": \"histogram\"}], \"histogram2d\": [{\"colorbar\": {\"outlinewidth\": 0, \"ticks\": \"\"}, \"colorscale\": [[0.0, \"#0d0887\"], [0.1111111111111111, \"#46039f\"], [0.2222222222222222, \"#7201a8\"], [0.3333333333333333, \"#9c179e\"], [0.4444444444444444, \"#bd3786\"], [0.5555555555555556, \"#d8576b\"], [0.6666666666666666, \"#ed7953\"], [0.7777777777777778, \"#fb9f3a\"], [0.8888888888888888, \"#fdca26\"], [1.0, \"#f0f921\"]], \"type\": \"histogram2d\"}], \"histogram2dcontour\": [{\"colorbar\": {\"outlinewidth\": 0, \"ticks\": \"\"}, \"colorscale\": [[0.0, \"#0d0887\"], [0.1111111111111111, \"#46039f\"], [0.2222222222222222, \"#7201a8\"], [0.3333333333333333, \"#9c179e\"], [0.4444444444444444, \"#bd3786\"], [0.5555555555555556, \"#d8576b\"], [0.6666666666666666, \"#ed7953\"], [0.7777777777777778, \"#fb9f3a\"], [0.8888888888888888, \"#fdca26\"], [1.0, \"#f0f921\"]], \"type\": \"histogram2dcontour\"}], \"mesh3d\": [{\"colorbar\": {\"outlinewidth\": 0, \"ticks\": \"\"}, \"type\": \"mesh3d\"}], \"parcoords\": [{\"line\": {\"colorbar\": {\"outlinewidth\": 0, \"ticks\": \"\"}}, \"type\": \"parcoords\"}], \"pie\": [{\"automargin\": true, \"type\": \"pie\"}], \"scatter\": [{\"marker\": {\"colorbar\": {\"outlinewidth\": 0, \"ticks\": \"\"}}, \"type\": \"scatter\"}], \"scatter3d\": [{\"line\": {\"colorbar\": {\"outlinewidth\": 0, \"ticks\": \"\"}}, \"marker\": {\"colorbar\": {\"outlinewidth\": 0, \"ticks\": \"\"}}, \"type\": \"scatter3d\"}], \"scattercarpet\": [{\"marker\": {\"colorbar\": {\"outlinewidth\": 0, \"ticks\": \"\"}}, \"type\": \"scattercarpet\"}], \"scattergeo\": [{\"marker\": {\"colorbar\": {\"outlinewidth\": 0, \"ticks\": \"\"}}, \"type\": \"scattergeo\"}], \"scattergl\": [{\"marker\": {\"colorbar\": {\"outlinewidth\": 0, \"ticks\": \"\"}}, \"type\": \"scattergl\"}], \"scattermapbox\": [{\"marker\": {\"colorbar\": {\"outlinewidth\": 0, \"ticks\": \"\"}}, \"type\": \"scattermapbox\"}], \"scatterpolar\": [{\"marker\": {\"colorbar\": {\"outlinewidth\": 0, \"ticks\": \"\"}}, \"type\": \"scatterpolar\"}], \"scatterpolargl\": [{\"marker\": {\"colorbar\": {\"outlinewidth\": 0, \"ticks\": \"\"}}, \"type\": \"scatterpolargl\"}], \"scatterternary\": [{\"marker\": {\"colorbar\": {\"outlinewidth\": 0, \"ticks\": \"\"}}, \"type\": \"scatterternary\"}], \"surface\": [{\"colorbar\": {\"outlinewidth\": 0, \"ticks\": \"\"}, \"colorscale\": [[0.0, \"#0d0887\"], [0.1111111111111111, \"#46039f\"], [0.2222222222222222, \"#7201a8\"], [0.3333333333333333, \"#9c179e\"], [0.4444444444444444, \"#bd3786\"], [0.5555555555555556, \"#d8576b\"], [0.6666666666666666, \"#ed7953\"], [0.7777777777777778, \"#fb9f3a\"], [0.8888888888888888, \"#fdca26\"], [1.0, \"#f0f921\"]], \"type\": \"surface\"}], \"table\": [{\"cells\": {\"fill\": {\"color\": \"#EBF0F8\"}, \"line\": {\"color\": \"white\"}}, \"header\": {\"fill\": {\"color\": \"#C8D4E3\"}, \"line\": {\"color\": \"white\"}}, \"type\": \"table\"}]}, \"layout\": {\"annotationdefaults\": {\"arrowcolor\": \"#2a3f5f\", \"arrowhead\": 0, \"arrowwidth\": 1}, \"coloraxis\": {\"colorbar\": {\"outlinewidth\": 0, \"ticks\": \"\"}}, \"colorscale\": {\"diverging\": [[0, \"#8e0152\"], [0.1, \"#c51b7d\"], [0.2, \"#de77ae\"], [0.3, \"#f1b6da\"], [0.4, \"#fde0ef\"], [0.5, \"#f7f7f7\"], [0.6, \"#e6f5d0\"], [0.7, \"#b8e186\"], [0.8, \"#7fbc41\"], [0.9, \"#4d9221\"], [1, \"#276419\"]], \"sequential\": [[0.0, \"#0d0887\"], [0.1111111111111111, \"#46039f\"], [0.2222222222222222, \"#7201a8\"], [0.3333333333333333, \"#9c179e\"], [0.4444444444444444, \"#bd3786\"], [0.5555555555555556, \"#d8576b\"], [0.6666666666666666, \"#ed7953\"], [0.7777777777777778, \"#fb9f3a\"], [0.8888888888888888, \"#fdca26\"], [1.0, \"#f0f921\"]], \"sequentialminus\": [[0.0, \"#0d0887\"], [0.1111111111111111, \"#46039f\"], [0.2222222222222222, \"#7201a8\"], [0.3333333333333333, \"#9c179e\"], [0.4444444444444444, \"#bd3786\"], [0.5555555555555556, \"#d8576b\"], [0.6666666666666666, \"#ed7953\"], [0.7777777777777778, \"#fb9f3a\"], [0.8888888888888888, \"#fdca26\"], [1.0, \"#f0f921\"]]}, \"colorway\": [\"#636efa\", \"#EF553B\", \"#00cc96\", \"#ab63fa\", \"#FFA15A\", \"#19d3f3\", \"#FF6692\", \"#B6E880\", \"#FF97FF\", \"#FECB52\"], \"font\": {\"color\": \"#2a3f5f\"}, \"geo\": {\"bgcolor\": \"white\", \"lakecolor\": \"white\", \"landcolor\": \"#E5ECF6\", \"showlakes\": true, \"showland\": true, \"subunitcolor\": \"white\"}, \"hoverlabel\": {\"align\": \"left\"}, \"hovermode\": \"closest\", \"mapbox\": {\"style\": \"light\"}, \"paper_bgcolor\": \"white\", \"plot_bgcolor\": \"#E5ECF6\", \"polar\": {\"angularaxis\": {\"gridcolor\": \"white\", \"linecolor\": \"white\", \"ticks\": \"\"}, \"bgcolor\": \"#E5ECF6\", \"radialaxis\": {\"gridcolor\": \"white\", \"linecolor\": \"white\", \"ticks\": \"\"}}, \"scene\": {\"xaxis\": {\"backgroundcolor\": \"#E5ECF6\", \"gridcolor\": \"white\", \"gridwidth\": 2, \"linecolor\": \"white\", \"showbackground\": true, \"ticks\": \"\", \"zerolinecolor\": \"white\"}, \"yaxis\": {\"backgroundcolor\": \"#E5ECF6\", \"gridcolor\": \"white\", \"gridwidth\": 2, \"linecolor\": \"white\", \"showbackground\": true, \"ticks\": \"\", \"zerolinecolor\": \"white\"}, \"zaxis\": {\"backgroundcolor\": \"#E5ECF6\", \"gridcolor\": \"white\", \"gridwidth\": 2, \"linecolor\": \"white\", \"showbackground\": true, \"ticks\": \"\", \"zerolinecolor\": \"white\"}}, \"shapedefaults\": {\"line\": {\"color\": \"#2a3f5f\"}}, \"ternary\": {\"aaxis\": {\"gridcolor\": \"white\", \"linecolor\": \"white\", \"ticks\": \"\"}, \"baxis\": {\"gridcolor\": \"white\", \"linecolor\": \"white\", \"ticks\": \"\"}, \"bgcolor\": \"#E5ECF6\", \"caxis\": {\"gridcolor\": \"white\", \"linecolor\": \"white\", \"ticks\": \"\"}}, \"title\": {\"x\": 0.05}, \"xaxis\": {\"automargin\": true, \"gridcolor\": \"white\", \"linecolor\": \"white\", \"ticks\": \"\", \"title\": {\"standoff\": 15}, \"zerolinecolor\": \"white\", \"zerolinewidth\": 2}, \"yaxis\": {\"automargin\": true, \"gridcolor\": \"white\", \"linecolor\": \"white\", \"ticks\": \"\", \"title\": {\"standoff\": 15}, \"zerolinecolor\": \"white\", \"zerolinewidth\": 2}}}, \"title\": {\"text\": \"Module number 6\"}},\n",
       "                        {\"responsive\": true}\n",
       "                    ).then(function(){\n",
       "                            \n",
       "var gd = document.getElementById('7025c71b-668d-4b41-9c69-ec235daf935e');\n",
       "var x = new MutationObserver(function (mutations, observer) {{\n",
       "        var display = window.getComputedStyle(gd).display;\n",
       "        if (!display || display === 'none') {{\n",
       "            console.log([gd, 'removed!']);\n",
       "            Plotly.purge(gd);\n",
       "            observer.disconnect();\n",
       "        }}\n",
       "}});\n",
       "\n",
       "// Listen for the removal of the full notebook cells\n",
       "var notebookContainer = gd.closest('#notebook-container');\n",
       "if (notebookContainer) {{\n",
       "    x.observe(notebookContainer, {childList: true});\n",
       "}}\n",
       "\n",
       "// Listen for the clearing of the current output cell\n",
       "var outputEl = gd.closest('.output');\n",
       "if (outputEl) {{\n",
       "    x.observe(outputEl, {childList: true});\n",
       "}}\n",
       "\n",
       "                        })\n",
       "                };\n",
       "                });\n",
       "            </script>\n",
       "        </div>"
      ]
     },
     "metadata": {},
     "output_type": "display_data"
    },
    {
     "data": {
      "application/vnd.plotly.v1+json": {
       "config": {
        "plotlyServerURL": "https://plot.ly"
       },
       "data": [
        {
         "mode": "lines+markers",
         "name": "Pulse index: 0",
         "type": "scatter",
         "x": [
          6381770,
          6381771,
          6381772,
          6381773,
          6381774,
          6381775,
          6381776,
          6381777,
          6381778,
          6381779,
          6381780,
          6381781,
          6381782,
          6381783,
          6381784,
          6381785,
          6381786,
          6381787,
          6381788,
          6381789,
          6381790,
          6381791
         ],
         "y": [
          0.196022167801857,
          0.20762251317501068,
          -0.12373674660921097,
          -0.018216289579868317,
          -0.208211287856102,
          0.18008676171302795,
          -0.09345697611570358,
          -0.11254027485847473,
          -0.12010259181261063,
          -0.20854607224464417,
          -0.009023192338645458,
          0.027859022840857506,
          -0.015592680312693119,
          0.039015647023916245,
          -0.2607899308204651,
          -0.030766991898417473,
          0.13812074065208435,
          0.0723009929060936,
          0.09499113261699677,
          -0.01495562307536602,
          0.07241538912057877,
          0.12142124772071838
         ]
        },
        {
         "mode": "lines+markers",
         "name": "Pulse index: 1",
         "type": "scatter",
         "x": [
          6381770,
          6381771,
          6381772,
          6381773,
          6381774,
          6381775,
          6381776,
          6381777,
          6381778,
          6381779,
          6381780,
          6381781,
          6381782,
          6381783,
          6381784,
          6381785,
          6381786,
          6381787,
          6381788,
          6381789,
          6381790,
          6381791
         ],
         "y": [
          0.01730799302458763,
          0.0812893882393837,
          0.08048337697982788,
          -0.03922189772129059,
          -0.12790969014167786,
          0.0019827347714453936,
          0.1834098994731903,
          -0.5970994234085083,
          -0.27850642800331116,
          -0.23435422778129578,
          0.13151870667934418,
          -0.02368982508778572,
          -0.08825486898422241,
          -0.012955320067703724,
          -0.19107826054096222,
          -0.01703115925192833,
          0.047598838806152344,
          0.25194138288497925,
          0.0623759850859642,
          -0.043500468134880066,
          -0.02648105099797249,
          0.019686836749315262
         ]
        },
        {
         "mode": "lines+markers",
         "name": "Pulse index: 2",
         "type": "scatter",
         "x": [
          6381770,
          6381771,
          6381772,
          6381773,
          6381774,
          6381775,
          6381776,
          6381777,
          6381778,
          6381779,
          6381780,
          6381781,
          6381782,
          6381783,
          6381784,
          6381785,
          6381786,
          6381787,
          6381788,
          6381789,
          6381790,
          6381791
         ],
         "y": [
          0.18050965666770935,
          -0.00032690048101358116,
          0.1376865804195404,
          0.07424937933683395,
          -0.06531818956136703,
          -0.1625816524028778,
          -0.01482201088219881,
          0.1715846210718155,
          -0.04973333328962326,
          -0.04567373916506767,
          0.047264087945222855,
          -0.07844111323356628,
          -0.43085211515426636,
          0.016896476969122887,
          1.4548701047897339,
          0.14298304915428162,
          null,
          0.05470283329486847,
          -0.094447061419487,
          0.03439890593290329,
          -0.036341309547424316,
          -0.024159302935004234
         ]
        },
        {
         "mode": "lines+markers",
         "name": "Pulse index: 3",
         "type": "scatter",
         "x": [
          6381770,
          6381771,
          6381772,
          6381773,
          6381774,
          6381775,
          6381776,
          6381777,
          6381778,
          6381779,
          6381780,
          6381781,
          6381782,
          6381783,
          6381784,
          6381785,
          6381786,
          6381787,
          6381788,
          6381789,
          6381790,
          6381791
         ],
         "y": [
          -0.30683621764183044,
          -0.6731106638908386,
          -0.930867075920105,
          -1.123439908027649,
          -0.6273757815361023,
          -0.2670041024684906,
          -0.4664871096611023,
          -0.38308483362197876,
          -0.24020794034004211,
          -0.6272354125976562,
          -0.631547212600708,
          -0.8383755683898926,
          -0.9742301106452942,
          -0.29007232189178467,
          -0.4065365791320801,
          -1.0895975828170776,
          -0.8192204833030701,
          -0.04259910061955452,
          0.44104334712028503,
          -0.32248735427856445,
          -0.6897723078727722,
          -0.6726784706115723
         ]
        },
        {
         "mode": "lines+markers",
         "name": "Pulse index: 4",
         "type": "scatter",
         "x": [
          6381770,
          6381771,
          6381772,
          6381773,
          6381774,
          6381775,
          6381776,
          6381777,
          6381778,
          6381779,
          6381780,
          6381781,
          6381782,
          6381783,
          6381784,
          6381785,
          6381786,
          6381787,
          6381788,
          6381789,
          6381790,
          6381791
         ],
         "y": [
          0.021029239520430565,
          -0.3706689476966858,
          -0.4041960537433624,
          -0.8712573051452637,
          -0.2529461681842804,
          -0.11518371850252151,
          0.14781248569488525,
          0.18808214366436005,
          -0.08071400970220566,
          0.1940319836139679,
          -0.46459493041038513,
          -0.09675292670726776,
          -0.6041156053543091,
          -0.07736450433731079,
          -0.018805626779794693,
          -0.39620301127433777,
          -0.42442476749420166,
          -0.35503560304641724,
          -0.06166137754917145,
          -0.25647687911987305,
          -0.04684710130095482,
          -0.20454458892345428
         ]
        },
        {
         "mode": "lines+markers",
         "name": "Pulse index: 5",
         "type": "scatter",
         "x": [
          6381770,
          6381771,
          6381772,
          6381773,
          6381774,
          6381775,
          6381776,
          6381777,
          6381778,
          6381779,
          6381780,
          6381781,
          6381782,
          6381783,
          6381784,
          6381785,
          6381786,
          6381787,
          6381788,
          6381789,
          6381790,
          6381791
         ],
         "y": [
          -0.02074277773499489,
          -0.30977553129196167,
          -0.46740850806236267,
          -0.4296577572822571,
          -0.4293031394481659,
          0.10378644615411758,
          0.1326359659433365,
          0.34492865204811096,
          0.3806200325489044,
          0.20334884524345398,
          0.19113841652870178,
          -0.22002273797988892,
          -0.5445509552955627,
          -0.138530433177948,
          0.11525657027959824,
          -0.9150521755218506,
          -0.3886246085166931,
          0.013610698282718658,
          0.32790088653564453,
          -0.09025316685438156,
          0.08725541830062866,
          -0.2751052975654602
         ]
        },
        {
         "mode": "lines+markers",
         "name": "Pulse index: 6",
         "type": "scatter",
         "x": [
          6381770,
          6381771,
          6381772,
          6381773,
          6381774,
          6381775,
          6381776,
          6381777,
          6381778,
          6381779,
          6381780,
          6381781,
          6381782,
          6381783,
          6381784,
          6381785,
          6381786,
          6381787,
          6381788,
          6381789,
          6381790,
          6381791
         ],
         "y": [
          -0.2049953192472458,
          0.03183380514383316,
          -0.3591311573982239,
          -0.10648475587368011,
          -0.07916904240846634,
          0.2186264842748642,
          0.34384623169898987,
          0.0073701925575733185,
          -0.21827173233032227,
          -0.05262542888522148,
          -0.14631786942481995,
          -0.2923795282840729,
          -0.6257272958755493,
          -0.15390227735042572,
          -0.22974814474582672,
          -0.508855402469635,
          -0.12397384643554688,
          -0.1918538212776184,
          0.40112772583961487,
          -0.23568333685398102,
          -0.41196680068969727,
          -0.523625910282135
         ]
        },
        {
         "mode": "lines+markers",
         "name": "Pulse index: 7",
         "type": "scatter",
         "x": [
          6381770,
          6381771,
          6381772,
          6381773,
          6381774,
          6381775,
          6381776,
          6381777,
          6381778,
          6381779,
          6381780,
          6381781,
          6381782,
          6381783,
          6381784,
          6381785,
          6381786,
          6381787,
          6381788,
          6381789,
          6381790,
          6381791
         ],
         "y": [
          0.34498119354248047,
          -0.09627246856689453,
          -0.3783959746360779,
          -0.5249021649360657,
          -0.20665088295936584,
          0.15170471370220184,
          0.02065557986497879,
          0.08552554994821548,
          0.06615497916936874,
          0.33370667695999146,
          -0.237134650349617,
          -0.30889633297920227,
          -0.6623759269714355,
          0.076446533203125,
          -0.12346970289945602,
          -0.4268668293952942,
          -0.44411197304725647,
          -0.10880190879106522,
          0.052531756460666656,
          -0.13610854744911194,
          0.03932012990117073,
          -0.1944204419851303
         ]
        },
        {
         "mode": "lines+markers",
         "name": "Pulse index: 8",
         "type": "scatter",
         "x": [
          6381770,
          6381771,
          6381772,
          6381773,
          6381774,
          6381775,
          6381776,
          6381777,
          6381778,
          6381779,
          6381780,
          6381781,
          6381782,
          6381783,
          6381784,
          6381785,
          6381786,
          6381787,
          6381788,
          6381789,
          6381790,
          6381791
         ],
         "y": [
          0.15347597002983093,
          0.5008363127708435,
          -0.20428788661956787,
          -0.32150784134864807,
          -0.22134174406528473,
          -0.2795279026031494,
          -0.09291835874319077,
          0.3311794698238373,
          0.21427050232887268,
          -0.1755031943321228,
          -0.28673914074897766,
          -0.18846341967582703,
          -0.10322906821966171,
          0.277925044298172,
          0.049061115831136703,
          -0.21179592609405518,
          -0.26649636030197144,
          -0.14190812408924103,
          -0.20621177554130554,
          -0.5395198464393616,
          0.5626512169837952,
          0.18672522902488708
         ]
        },
        {
         "mode": "lines+markers",
         "name": "Pulse index: 9",
         "type": "scatter",
         "x": [
          6381770,
          6381771,
          6381772,
          6381773,
          6381774,
          6381775,
          6381776,
          6381777,
          6381778,
          6381779,
          6381780,
          6381781,
          6381782,
          6381783,
          6381784,
          6381785,
          6381786,
          6381787,
          6381788,
          6381789,
          6381790,
          6381791
         ],
         "y": [
          -0.4925755560398102,
          -0.3199011981487274,
          -0.8104722499847412,
          -0.7415218949317932,
          -0.5065460801124573,
          -0.3369971513748169,
          -0.4684302806854248,
          -0.5398715138435364,
          -0.5927833318710327,
          -0.27746713161468506,
          -0.49913594126701355,
          -0.6225295662879944,
          -0.6947323679924011,
          -0.5506953597068787,
          -0.4728587567806244,
          -1.0191529989242554,
          -0.1681050956249237,
          -0.27039363980293274,
          0.18262749910354614,
          -0.33256208896636963,
          -0.7361884713172913,
          -0.7573906183242798
         ]
        },
        {
         "mode": "lines+markers",
         "name": "Pulse index: 10",
         "type": "scatter",
         "x": [
          6381770,
          6381771,
          6381772,
          6381773,
          6381774,
          6381775,
          6381776,
          6381777,
          6381778,
          6381779,
          6381780,
          6381781,
          6381782,
          6381783,
          6381784,
          6381785,
          6381786,
          6381787,
          6381788,
          6381789,
          6381790,
          6381791
         ],
         "y": [
          -0.34904250502586365,
          0.08640548586845398,
          -0.4180934429168701,
          -0.46513137221336365,
          -0.5221737623214722,
          -0.2672297954559326,
          -0.14319531619548798,
          0.03329021856188774,
          -0.0898333415389061,
          -0.18868301808834076,
          -0.5172257423400879,
          -0.18894973397254944,
          -0.22736282646656036,
          0.3621538281440735,
          0.15827399492263794,
          -0.24576979875564575,
          -0.14439736306667328,
          -0.22128859162330627,
          0.013657727278769016,
          -0.3904496133327484,
          -0.2119077891111374,
          -0.5863711833953857
         ]
        }
       ],
       "layout": {
        "template": {
         "data": {
          "bar": [
           {
            "error_x": {
             "color": "#2a3f5f"
            },
            "error_y": {
             "color": "#2a3f5f"
            },
            "marker": {
             "line": {
              "color": "#E5ECF6",
              "width": 0.5
             }
            },
            "type": "bar"
           }
          ],
          "barpolar": [
           {
            "marker": {
             "line": {
              "color": "#E5ECF6",
              "width": 0.5
             }
            },
            "type": "barpolar"
           }
          ],
          "carpet": [
           {
            "aaxis": {
             "endlinecolor": "#2a3f5f",
             "gridcolor": "white",
             "linecolor": "white",
             "minorgridcolor": "white",
             "startlinecolor": "#2a3f5f"
            },
            "baxis": {
             "endlinecolor": "#2a3f5f",
             "gridcolor": "white",
             "linecolor": "white",
             "minorgridcolor": "white",
             "startlinecolor": "#2a3f5f"
            },
            "type": "carpet"
           }
          ],
          "choropleth": [
           {
            "colorbar": {
             "outlinewidth": 0,
             "ticks": ""
            },
            "type": "choropleth"
           }
          ],
          "contour": [
           {
            "colorbar": {
             "outlinewidth": 0,
             "ticks": ""
            },
            "colorscale": [
             [
              0,
              "#0d0887"
             ],
             [
              0.1111111111111111,
              "#46039f"
             ],
             [
              0.2222222222222222,
              "#7201a8"
             ],
             [
              0.3333333333333333,
              "#9c179e"
             ],
             [
              0.4444444444444444,
              "#bd3786"
             ],
             [
              0.5555555555555556,
              "#d8576b"
             ],
             [
              0.6666666666666666,
              "#ed7953"
             ],
             [
              0.7777777777777778,
              "#fb9f3a"
             ],
             [
              0.8888888888888888,
              "#fdca26"
             ],
             [
              1,
              "#f0f921"
             ]
            ],
            "type": "contour"
           }
          ],
          "contourcarpet": [
           {
            "colorbar": {
             "outlinewidth": 0,
             "ticks": ""
            },
            "type": "contourcarpet"
           }
          ],
          "heatmap": [
           {
            "colorbar": {
             "outlinewidth": 0,
             "ticks": ""
            },
            "colorscale": [
             [
              0,
              "#0d0887"
             ],
             [
              0.1111111111111111,
              "#46039f"
             ],
             [
              0.2222222222222222,
              "#7201a8"
             ],
             [
              0.3333333333333333,
              "#9c179e"
             ],
             [
              0.4444444444444444,
              "#bd3786"
             ],
             [
              0.5555555555555556,
              "#d8576b"
             ],
             [
              0.6666666666666666,
              "#ed7953"
             ],
             [
              0.7777777777777778,
              "#fb9f3a"
             ],
             [
              0.8888888888888888,
              "#fdca26"
             ],
             [
              1,
              "#f0f921"
             ]
            ],
            "type": "heatmap"
           }
          ],
          "heatmapgl": [
           {
            "colorbar": {
             "outlinewidth": 0,
             "ticks": ""
            },
            "colorscale": [
             [
              0,
              "#0d0887"
             ],
             [
              0.1111111111111111,
              "#46039f"
             ],
             [
              0.2222222222222222,
              "#7201a8"
             ],
             [
              0.3333333333333333,
              "#9c179e"
             ],
             [
              0.4444444444444444,
              "#bd3786"
             ],
             [
              0.5555555555555556,
              "#d8576b"
             ],
             [
              0.6666666666666666,
              "#ed7953"
             ],
             [
              0.7777777777777778,
              "#fb9f3a"
             ],
             [
              0.8888888888888888,
              "#fdca26"
             ],
             [
              1,
              "#f0f921"
             ]
            ],
            "type": "heatmapgl"
           }
          ],
          "histogram": [
           {
            "marker": {
             "colorbar": {
              "outlinewidth": 0,
              "ticks": ""
             }
            },
            "type": "histogram"
           }
          ],
          "histogram2d": [
           {
            "colorbar": {
             "outlinewidth": 0,
             "ticks": ""
            },
            "colorscale": [
             [
              0,
              "#0d0887"
             ],
             [
              0.1111111111111111,
              "#46039f"
             ],
             [
              0.2222222222222222,
              "#7201a8"
             ],
             [
              0.3333333333333333,
              "#9c179e"
             ],
             [
              0.4444444444444444,
              "#bd3786"
             ],
             [
              0.5555555555555556,
              "#d8576b"
             ],
             [
              0.6666666666666666,
              "#ed7953"
             ],
             [
              0.7777777777777778,
              "#fb9f3a"
             ],
             [
              0.8888888888888888,
              "#fdca26"
             ],
             [
              1,
              "#f0f921"
             ]
            ],
            "type": "histogram2d"
           }
          ],
          "histogram2dcontour": [
           {
            "colorbar": {
             "outlinewidth": 0,
             "ticks": ""
            },
            "colorscale": [
             [
              0,
              "#0d0887"
             ],
             [
              0.1111111111111111,
              "#46039f"
             ],
             [
              0.2222222222222222,
              "#7201a8"
             ],
             [
              0.3333333333333333,
              "#9c179e"
             ],
             [
              0.4444444444444444,
              "#bd3786"
             ],
             [
              0.5555555555555556,
              "#d8576b"
             ],
             [
              0.6666666666666666,
              "#ed7953"
             ],
             [
              0.7777777777777778,
              "#fb9f3a"
             ],
             [
              0.8888888888888888,
              "#fdca26"
             ],
             [
              1,
              "#f0f921"
             ]
            ],
            "type": "histogram2dcontour"
           }
          ],
          "mesh3d": [
           {
            "colorbar": {
             "outlinewidth": 0,
             "ticks": ""
            },
            "type": "mesh3d"
           }
          ],
          "parcoords": [
           {
            "line": {
             "colorbar": {
              "outlinewidth": 0,
              "ticks": ""
             }
            },
            "type": "parcoords"
           }
          ],
          "pie": [
           {
            "automargin": true,
            "type": "pie"
           }
          ],
          "scatter": [
           {
            "marker": {
             "colorbar": {
              "outlinewidth": 0,
              "ticks": ""
             }
            },
            "type": "scatter"
           }
          ],
          "scatter3d": [
           {
            "line": {
             "colorbar": {
              "outlinewidth": 0,
              "ticks": ""
             }
            },
            "marker": {
             "colorbar": {
              "outlinewidth": 0,
              "ticks": ""
             }
            },
            "type": "scatter3d"
           }
          ],
          "scattercarpet": [
           {
            "marker": {
             "colorbar": {
              "outlinewidth": 0,
              "ticks": ""
             }
            },
            "type": "scattercarpet"
           }
          ],
          "scattergeo": [
           {
            "marker": {
             "colorbar": {
              "outlinewidth": 0,
              "ticks": ""
             }
            },
            "type": "scattergeo"
           }
          ],
          "scattergl": [
           {
            "marker": {
             "colorbar": {
              "outlinewidth": 0,
              "ticks": ""
             }
            },
            "type": "scattergl"
           }
          ],
          "scattermapbox": [
           {
            "marker": {
             "colorbar": {
              "outlinewidth": 0,
              "ticks": ""
             }
            },
            "type": "scattermapbox"
           }
          ],
          "scatterpolar": [
           {
            "marker": {
             "colorbar": {
              "outlinewidth": 0,
              "ticks": ""
             }
            },
            "type": "scatterpolar"
           }
          ],
          "scatterpolargl": [
           {
            "marker": {
             "colorbar": {
              "outlinewidth": 0,
              "ticks": ""
             }
            },
            "type": "scatterpolargl"
           }
          ],
          "scatterternary": [
           {
            "marker": {
             "colorbar": {
              "outlinewidth": 0,
              "ticks": ""
             }
            },
            "type": "scatterternary"
           }
          ],
          "surface": [
           {
            "colorbar": {
             "outlinewidth": 0,
             "ticks": ""
            },
            "colorscale": [
             [
              0,
              "#0d0887"
             ],
             [
              0.1111111111111111,
              "#46039f"
             ],
             [
              0.2222222222222222,
              "#7201a8"
             ],
             [
              0.3333333333333333,
              "#9c179e"
             ],
             [
              0.4444444444444444,
              "#bd3786"
             ],
             [
              0.5555555555555556,
              "#d8576b"
             ],
             [
              0.6666666666666666,
              "#ed7953"
             ],
             [
              0.7777777777777778,
              "#fb9f3a"
             ],
             [
              0.8888888888888888,
              "#fdca26"
             ],
             [
              1,
              "#f0f921"
             ]
            ],
            "type": "surface"
           }
          ],
          "table": [
           {
            "cells": {
             "fill": {
              "color": "#EBF0F8"
             },
             "line": {
              "color": "white"
             }
            },
            "header": {
             "fill": {
              "color": "#C8D4E3"
             },
             "line": {
              "color": "white"
             }
            },
            "type": "table"
           }
          ]
         },
         "layout": {
          "annotationdefaults": {
           "arrowcolor": "#2a3f5f",
           "arrowhead": 0,
           "arrowwidth": 1
          },
          "coloraxis": {
           "colorbar": {
            "outlinewidth": 0,
            "ticks": ""
           }
          },
          "colorscale": {
           "diverging": [
            [
             0,
             "#8e0152"
            ],
            [
             0.1,
             "#c51b7d"
            ],
            [
             0.2,
             "#de77ae"
            ],
            [
             0.3,
             "#f1b6da"
            ],
            [
             0.4,
             "#fde0ef"
            ],
            [
             0.5,
             "#f7f7f7"
            ],
            [
             0.6,
             "#e6f5d0"
            ],
            [
             0.7,
             "#b8e186"
            ],
            [
             0.8,
             "#7fbc41"
            ],
            [
             0.9,
             "#4d9221"
            ],
            [
             1,
             "#276419"
            ]
           ],
           "sequential": [
            [
             0,
             "#0d0887"
            ],
            [
             0.1111111111111111,
             "#46039f"
            ],
            [
             0.2222222222222222,
             "#7201a8"
            ],
            [
             0.3333333333333333,
             "#9c179e"
            ],
            [
             0.4444444444444444,
             "#bd3786"
            ],
            [
             0.5555555555555556,
             "#d8576b"
            ],
            [
             0.6666666666666666,
             "#ed7953"
            ],
            [
             0.7777777777777778,
             "#fb9f3a"
            ],
            [
             0.8888888888888888,
             "#fdca26"
            ],
            [
             1,
             "#f0f921"
            ]
           ],
           "sequentialminus": [
            [
             0,
             "#0d0887"
            ],
            [
             0.1111111111111111,
             "#46039f"
            ],
            [
             0.2222222222222222,
             "#7201a8"
            ],
            [
             0.3333333333333333,
             "#9c179e"
            ],
            [
             0.4444444444444444,
             "#bd3786"
            ],
            [
             0.5555555555555556,
             "#d8576b"
            ],
            [
             0.6666666666666666,
             "#ed7953"
            ],
            [
             0.7777777777777778,
             "#fb9f3a"
            ],
            [
             0.8888888888888888,
             "#fdca26"
            ],
            [
             1,
             "#f0f921"
            ]
           ]
          },
          "colorway": [
           "#636efa",
           "#EF553B",
           "#00cc96",
           "#ab63fa",
           "#FFA15A",
           "#19d3f3",
           "#FF6692",
           "#B6E880",
           "#FF97FF",
           "#FECB52"
          ],
          "font": {
           "color": "#2a3f5f"
          },
          "geo": {
           "bgcolor": "white",
           "lakecolor": "white",
           "landcolor": "#E5ECF6",
           "showlakes": true,
           "showland": true,
           "subunitcolor": "white"
          },
          "hoverlabel": {
           "align": "left"
          },
          "hovermode": "closest",
          "mapbox": {
           "style": "light"
          },
          "paper_bgcolor": "white",
          "plot_bgcolor": "#E5ECF6",
          "polar": {
           "angularaxis": {
            "gridcolor": "white",
            "linecolor": "white",
            "ticks": ""
           },
           "bgcolor": "#E5ECF6",
           "radialaxis": {
            "gridcolor": "white",
            "linecolor": "white",
            "ticks": ""
           }
          },
          "scene": {
           "xaxis": {
            "backgroundcolor": "#E5ECF6",
            "gridcolor": "white",
            "gridwidth": 2,
            "linecolor": "white",
            "showbackground": true,
            "ticks": "",
            "zerolinecolor": "white"
           },
           "yaxis": {
            "backgroundcolor": "#E5ECF6",
            "gridcolor": "white",
            "gridwidth": 2,
            "linecolor": "white",
            "showbackground": true,
            "ticks": "",
            "zerolinecolor": "white"
           },
           "zaxis": {
            "backgroundcolor": "#E5ECF6",
            "gridcolor": "white",
            "gridwidth": 2,
            "linecolor": "white",
            "showbackground": true,
            "ticks": "",
            "zerolinecolor": "white"
           }
          },
          "shapedefaults": {
           "line": {
            "color": "#2a3f5f"
           }
          },
          "ternary": {
           "aaxis": {
            "gridcolor": "white",
            "linecolor": "white",
            "ticks": ""
           },
           "baxis": {
            "gridcolor": "white",
            "linecolor": "white",
            "ticks": ""
           },
           "bgcolor": "#E5ECF6",
           "caxis": {
            "gridcolor": "white",
            "linecolor": "white",
            "ticks": ""
           }
          },
          "title": {
           "x": 0.05
          },
          "xaxis": {
           "automargin": true,
           "gridcolor": "white",
           "linecolor": "white",
           "ticks": "",
           "title": {
            "standoff": 15
           },
           "zerolinecolor": "white",
           "zerolinewidth": 2
          },
          "yaxis": {
           "automargin": true,
           "gridcolor": "white",
           "linecolor": "white",
           "ticks": "",
           "title": {
            "standoff": 15
           },
           "zerolinecolor": "white",
           "zerolinewidth": 2
          }
         }
        },
        "title": {
         "text": "Module number 7"
        }
       }
      },
      "text/html": [
       "<div>\n",
       "        \n",
       "        \n",
       "            <div id=\"9c3117ba-13a3-4701-975d-166d4472dddc\" class=\"plotly-graph-div\" style=\"height:525px; width:100%;\"></div>\n",
       "            <script type=\"text/javascript\">\n",
       "                require([\"plotly\"], function(Plotly) {\n",
       "                    window.PLOTLYENV=window.PLOTLYENV || {};\n",
       "                    \n",
       "                if (document.getElementById(\"9c3117ba-13a3-4701-975d-166d4472dddc\")) {\n",
       "                    Plotly.newPlot(\n",
       "                        '9c3117ba-13a3-4701-975d-166d4472dddc',\n",
       "                        [{\"mode\": \"lines+markers\", \"name\": \"Pulse index: 0\", \"type\": \"scatter\", \"x\": [6381770, 6381771, 6381772, 6381773, 6381774, 6381775, 6381776, 6381777, 6381778, 6381779, 6381780, 6381781, 6381782, 6381783, 6381784, 6381785, 6381786, 6381787, 6381788, 6381789, 6381790, 6381791], \"y\": [0.196022167801857, 0.20762251317501068, -0.12373674660921097, -0.018216289579868317, -0.208211287856102, 0.18008676171302795, -0.09345697611570358, -0.11254027485847473, -0.12010259181261063, -0.20854607224464417, -0.009023192338645458, 0.027859022840857506, -0.015592680312693119, 0.039015647023916245, -0.2607899308204651, -0.030766991898417473, 0.13812074065208435, 0.0723009929060936, 0.09499113261699677, -0.01495562307536602, 0.07241538912057877, 0.12142124772071838]}, {\"mode\": \"lines+markers\", \"name\": \"Pulse index: 1\", \"type\": \"scatter\", \"x\": [6381770, 6381771, 6381772, 6381773, 6381774, 6381775, 6381776, 6381777, 6381778, 6381779, 6381780, 6381781, 6381782, 6381783, 6381784, 6381785, 6381786, 6381787, 6381788, 6381789, 6381790, 6381791], \"y\": [0.01730799302458763, 0.0812893882393837, 0.08048337697982788, -0.03922189772129059, -0.12790969014167786, 0.0019827347714453936, 0.1834098994731903, -0.5970994234085083, -0.27850642800331116, -0.23435422778129578, 0.13151870667934418, -0.02368982508778572, -0.08825486898422241, -0.012955320067703724, -0.19107826054096222, -0.01703115925192833, 0.047598838806152344, 0.25194138288497925, 0.0623759850859642, -0.043500468134880066, -0.02648105099797249, 0.019686836749315262]}, {\"mode\": \"lines+markers\", \"name\": \"Pulse index: 2\", \"type\": \"scatter\", \"x\": [6381770, 6381771, 6381772, 6381773, 6381774, 6381775, 6381776, 6381777, 6381778, 6381779, 6381780, 6381781, 6381782, 6381783, 6381784, 6381785, 6381786, 6381787, 6381788, 6381789, 6381790, 6381791], \"y\": [0.18050965666770935, -0.00032690048101358116, 0.1376865804195404, 0.07424937933683395, -0.06531818956136703, -0.1625816524028778, -0.01482201088219881, 0.1715846210718155, -0.04973333328962326, -0.04567373916506767, 0.047264087945222855, -0.07844111323356628, -0.43085211515426636, 0.016896476969122887, 1.4548701047897339, 0.14298304915428162, null, 0.05470283329486847, -0.094447061419487, 0.03439890593290329, -0.036341309547424316, -0.024159302935004234]}, {\"mode\": \"lines+markers\", \"name\": \"Pulse index: 3\", \"type\": \"scatter\", \"x\": [6381770, 6381771, 6381772, 6381773, 6381774, 6381775, 6381776, 6381777, 6381778, 6381779, 6381780, 6381781, 6381782, 6381783, 6381784, 6381785, 6381786, 6381787, 6381788, 6381789, 6381790, 6381791], \"y\": [-0.30683621764183044, -0.6731106638908386, -0.930867075920105, -1.123439908027649, -0.6273757815361023, -0.2670041024684906, -0.4664871096611023, -0.38308483362197876, -0.24020794034004211, -0.6272354125976562, -0.631547212600708, -0.8383755683898926, -0.9742301106452942, -0.29007232189178467, -0.4065365791320801, -1.0895975828170776, -0.8192204833030701, -0.04259910061955452, 0.44104334712028503, -0.32248735427856445, -0.6897723078727722, -0.6726784706115723]}, {\"mode\": \"lines+markers\", \"name\": \"Pulse index: 4\", \"type\": \"scatter\", \"x\": [6381770, 6381771, 6381772, 6381773, 6381774, 6381775, 6381776, 6381777, 6381778, 6381779, 6381780, 6381781, 6381782, 6381783, 6381784, 6381785, 6381786, 6381787, 6381788, 6381789, 6381790, 6381791], \"y\": [0.021029239520430565, -0.3706689476966858, -0.4041960537433624, -0.8712573051452637, -0.2529461681842804, -0.11518371850252151, 0.14781248569488525, 0.18808214366436005, -0.08071400970220566, 0.1940319836139679, -0.46459493041038513, -0.09675292670726776, -0.6041156053543091, -0.07736450433731079, -0.018805626779794693, -0.39620301127433777, -0.42442476749420166, -0.35503560304641724, -0.06166137754917145, -0.25647687911987305, -0.04684710130095482, -0.20454458892345428]}, {\"mode\": \"lines+markers\", \"name\": \"Pulse index: 5\", \"type\": \"scatter\", \"x\": [6381770, 6381771, 6381772, 6381773, 6381774, 6381775, 6381776, 6381777, 6381778, 6381779, 6381780, 6381781, 6381782, 6381783, 6381784, 6381785, 6381786, 6381787, 6381788, 6381789, 6381790, 6381791], \"y\": [-0.02074277773499489, -0.30977553129196167, -0.46740850806236267, -0.4296577572822571, -0.4293031394481659, 0.10378644615411758, 0.1326359659433365, 0.34492865204811096, 0.3806200325489044, 0.20334884524345398, 0.19113841652870178, -0.22002273797988892, -0.5445509552955627, -0.138530433177948, 0.11525657027959824, -0.9150521755218506, -0.3886246085166931, 0.013610698282718658, 0.32790088653564453, -0.09025316685438156, 0.08725541830062866, -0.2751052975654602]}, {\"mode\": \"lines+markers\", \"name\": \"Pulse index: 6\", \"type\": \"scatter\", \"x\": [6381770, 6381771, 6381772, 6381773, 6381774, 6381775, 6381776, 6381777, 6381778, 6381779, 6381780, 6381781, 6381782, 6381783, 6381784, 6381785, 6381786, 6381787, 6381788, 6381789, 6381790, 6381791], \"y\": [-0.2049953192472458, 0.03183380514383316, -0.3591311573982239, -0.10648475587368011, -0.07916904240846634, 0.2186264842748642, 0.34384623169898987, 0.0073701925575733185, -0.21827173233032227, -0.05262542888522148, -0.14631786942481995, -0.2923795282840729, -0.6257272958755493, -0.15390227735042572, -0.22974814474582672, -0.508855402469635, -0.12397384643554688, -0.1918538212776184, 0.40112772583961487, -0.23568333685398102, -0.41196680068969727, -0.523625910282135]}, {\"mode\": \"lines+markers\", \"name\": \"Pulse index: 7\", \"type\": \"scatter\", \"x\": [6381770, 6381771, 6381772, 6381773, 6381774, 6381775, 6381776, 6381777, 6381778, 6381779, 6381780, 6381781, 6381782, 6381783, 6381784, 6381785, 6381786, 6381787, 6381788, 6381789, 6381790, 6381791], \"y\": [0.34498119354248047, -0.09627246856689453, -0.3783959746360779, -0.5249021649360657, -0.20665088295936584, 0.15170471370220184, 0.02065557986497879, 0.08552554994821548, 0.06615497916936874, 0.33370667695999146, -0.237134650349617, -0.30889633297920227, -0.6623759269714355, 0.076446533203125, -0.12346970289945602, -0.4268668293952942, -0.44411197304725647, -0.10880190879106522, 0.052531756460666656, -0.13610854744911194, 0.03932012990117073, -0.1944204419851303]}, {\"mode\": \"lines+markers\", \"name\": \"Pulse index: 8\", \"type\": \"scatter\", \"x\": [6381770, 6381771, 6381772, 6381773, 6381774, 6381775, 6381776, 6381777, 6381778, 6381779, 6381780, 6381781, 6381782, 6381783, 6381784, 6381785, 6381786, 6381787, 6381788, 6381789, 6381790, 6381791], \"y\": [0.15347597002983093, 0.5008363127708435, -0.20428788661956787, -0.32150784134864807, -0.22134174406528473, -0.2795279026031494, -0.09291835874319077, 0.3311794698238373, 0.21427050232887268, -0.1755031943321228, -0.28673914074897766, -0.18846341967582703, -0.10322906821966171, 0.277925044298172, 0.049061115831136703, -0.21179592609405518, -0.26649636030197144, -0.14190812408924103, -0.20621177554130554, -0.5395198464393616, 0.5626512169837952, 0.18672522902488708]}, {\"mode\": \"lines+markers\", \"name\": \"Pulse index: 9\", \"type\": \"scatter\", \"x\": [6381770, 6381771, 6381772, 6381773, 6381774, 6381775, 6381776, 6381777, 6381778, 6381779, 6381780, 6381781, 6381782, 6381783, 6381784, 6381785, 6381786, 6381787, 6381788, 6381789, 6381790, 6381791], \"y\": [-0.4925755560398102, -0.3199011981487274, -0.8104722499847412, -0.7415218949317932, -0.5065460801124573, -0.3369971513748169, -0.4684302806854248, -0.5398715138435364, -0.5927833318710327, -0.27746713161468506, -0.49913594126701355, -0.6225295662879944, -0.6947323679924011, -0.5506953597068787, -0.4728587567806244, -1.0191529989242554, -0.1681050956249237, -0.27039363980293274, 0.18262749910354614, -0.33256208896636963, -0.7361884713172913, -0.7573906183242798]}, {\"mode\": \"lines+markers\", \"name\": \"Pulse index: 10\", \"type\": \"scatter\", \"x\": [6381770, 6381771, 6381772, 6381773, 6381774, 6381775, 6381776, 6381777, 6381778, 6381779, 6381780, 6381781, 6381782, 6381783, 6381784, 6381785, 6381786, 6381787, 6381788, 6381789, 6381790, 6381791], \"y\": [-0.34904250502586365, 0.08640548586845398, -0.4180934429168701, -0.46513137221336365, -0.5221737623214722, -0.2672297954559326, -0.14319531619548798, 0.03329021856188774, -0.0898333415389061, -0.18868301808834076, -0.5172257423400879, -0.18894973397254944, -0.22736282646656036, 0.3621538281440735, 0.15827399492263794, -0.24576979875564575, -0.14439736306667328, -0.22128859162330627, 0.013657727278769016, -0.3904496133327484, -0.2119077891111374, -0.5863711833953857]}],\n",
       "                        {\"template\": {\"data\": {\"bar\": [{\"error_x\": {\"color\": \"#2a3f5f\"}, \"error_y\": {\"color\": \"#2a3f5f\"}, \"marker\": {\"line\": {\"color\": \"#E5ECF6\", \"width\": 0.5}}, \"type\": \"bar\"}], \"barpolar\": [{\"marker\": {\"line\": {\"color\": \"#E5ECF6\", \"width\": 0.5}}, \"type\": \"barpolar\"}], \"carpet\": [{\"aaxis\": {\"endlinecolor\": \"#2a3f5f\", \"gridcolor\": \"white\", \"linecolor\": \"white\", \"minorgridcolor\": \"white\", \"startlinecolor\": \"#2a3f5f\"}, \"baxis\": {\"endlinecolor\": \"#2a3f5f\", \"gridcolor\": \"white\", \"linecolor\": \"white\", \"minorgridcolor\": \"white\", \"startlinecolor\": \"#2a3f5f\"}, \"type\": \"carpet\"}], \"choropleth\": [{\"colorbar\": {\"outlinewidth\": 0, \"ticks\": \"\"}, \"type\": \"choropleth\"}], \"contour\": [{\"colorbar\": {\"outlinewidth\": 0, \"ticks\": \"\"}, \"colorscale\": [[0.0, \"#0d0887\"], [0.1111111111111111, \"#46039f\"], [0.2222222222222222, \"#7201a8\"], [0.3333333333333333, \"#9c179e\"], [0.4444444444444444, \"#bd3786\"], [0.5555555555555556, \"#d8576b\"], [0.6666666666666666, \"#ed7953\"], [0.7777777777777778, \"#fb9f3a\"], [0.8888888888888888, \"#fdca26\"], [1.0, \"#f0f921\"]], \"type\": \"contour\"}], \"contourcarpet\": [{\"colorbar\": {\"outlinewidth\": 0, \"ticks\": \"\"}, \"type\": \"contourcarpet\"}], \"heatmap\": [{\"colorbar\": {\"outlinewidth\": 0, \"ticks\": \"\"}, \"colorscale\": [[0.0, \"#0d0887\"], [0.1111111111111111, \"#46039f\"], [0.2222222222222222, \"#7201a8\"], [0.3333333333333333, \"#9c179e\"], [0.4444444444444444, \"#bd3786\"], [0.5555555555555556, \"#d8576b\"], [0.6666666666666666, \"#ed7953\"], [0.7777777777777778, \"#fb9f3a\"], [0.8888888888888888, \"#fdca26\"], [1.0, \"#f0f921\"]], \"type\": \"heatmap\"}], \"heatmapgl\": [{\"colorbar\": {\"outlinewidth\": 0, \"ticks\": \"\"}, \"colorscale\": [[0.0, \"#0d0887\"], [0.1111111111111111, \"#46039f\"], [0.2222222222222222, \"#7201a8\"], [0.3333333333333333, \"#9c179e\"], [0.4444444444444444, \"#bd3786\"], [0.5555555555555556, \"#d8576b\"], [0.6666666666666666, \"#ed7953\"], [0.7777777777777778, \"#fb9f3a\"], [0.8888888888888888, \"#fdca26\"], [1.0, \"#f0f921\"]], \"type\": \"heatmapgl\"}], \"histogram\": [{\"marker\": {\"colorbar\": {\"outlinewidth\": 0, \"ticks\": \"\"}}, \"type\": \"histogram\"}], \"histogram2d\": [{\"colorbar\": {\"outlinewidth\": 0, \"ticks\": \"\"}, \"colorscale\": [[0.0, \"#0d0887\"], [0.1111111111111111, \"#46039f\"], [0.2222222222222222, \"#7201a8\"], [0.3333333333333333, \"#9c179e\"], [0.4444444444444444, \"#bd3786\"], [0.5555555555555556, \"#d8576b\"], [0.6666666666666666, \"#ed7953\"], [0.7777777777777778, \"#fb9f3a\"], [0.8888888888888888, \"#fdca26\"], [1.0, \"#f0f921\"]], \"type\": \"histogram2d\"}], \"histogram2dcontour\": [{\"colorbar\": {\"outlinewidth\": 0, \"ticks\": \"\"}, \"colorscale\": [[0.0, \"#0d0887\"], [0.1111111111111111, \"#46039f\"], [0.2222222222222222, \"#7201a8\"], [0.3333333333333333, \"#9c179e\"], [0.4444444444444444, \"#bd3786\"], [0.5555555555555556, \"#d8576b\"], [0.6666666666666666, \"#ed7953\"], [0.7777777777777778, \"#fb9f3a\"], [0.8888888888888888, \"#fdca26\"], [1.0, \"#f0f921\"]], \"type\": \"histogram2dcontour\"}], \"mesh3d\": [{\"colorbar\": {\"outlinewidth\": 0, \"ticks\": \"\"}, \"type\": \"mesh3d\"}], \"parcoords\": [{\"line\": {\"colorbar\": {\"outlinewidth\": 0, \"ticks\": \"\"}}, \"type\": \"parcoords\"}], \"pie\": [{\"automargin\": true, \"type\": \"pie\"}], \"scatter\": [{\"marker\": {\"colorbar\": {\"outlinewidth\": 0, \"ticks\": \"\"}}, \"type\": \"scatter\"}], \"scatter3d\": [{\"line\": {\"colorbar\": {\"outlinewidth\": 0, \"ticks\": \"\"}}, \"marker\": {\"colorbar\": {\"outlinewidth\": 0, \"ticks\": \"\"}}, \"type\": \"scatter3d\"}], \"scattercarpet\": [{\"marker\": {\"colorbar\": {\"outlinewidth\": 0, \"ticks\": \"\"}}, \"type\": \"scattercarpet\"}], \"scattergeo\": [{\"marker\": {\"colorbar\": {\"outlinewidth\": 0, \"ticks\": \"\"}}, \"type\": \"scattergeo\"}], \"scattergl\": [{\"marker\": {\"colorbar\": {\"outlinewidth\": 0, \"ticks\": \"\"}}, \"type\": \"scattergl\"}], \"scattermapbox\": [{\"marker\": {\"colorbar\": {\"outlinewidth\": 0, \"ticks\": \"\"}}, \"type\": \"scattermapbox\"}], \"scatterpolar\": [{\"marker\": {\"colorbar\": {\"outlinewidth\": 0, \"ticks\": \"\"}}, \"type\": \"scatterpolar\"}], \"scatterpolargl\": [{\"marker\": {\"colorbar\": {\"outlinewidth\": 0, \"ticks\": \"\"}}, \"type\": \"scatterpolargl\"}], \"scatterternary\": [{\"marker\": {\"colorbar\": {\"outlinewidth\": 0, \"ticks\": \"\"}}, \"type\": \"scatterternary\"}], \"surface\": [{\"colorbar\": {\"outlinewidth\": 0, \"ticks\": \"\"}, \"colorscale\": [[0.0, \"#0d0887\"], [0.1111111111111111, \"#46039f\"], [0.2222222222222222, \"#7201a8\"], [0.3333333333333333, \"#9c179e\"], [0.4444444444444444, \"#bd3786\"], [0.5555555555555556, \"#d8576b\"], [0.6666666666666666, \"#ed7953\"], [0.7777777777777778, \"#fb9f3a\"], [0.8888888888888888, \"#fdca26\"], [1.0, \"#f0f921\"]], \"type\": \"surface\"}], \"table\": [{\"cells\": {\"fill\": {\"color\": \"#EBF0F8\"}, \"line\": {\"color\": \"white\"}}, \"header\": {\"fill\": {\"color\": \"#C8D4E3\"}, \"line\": {\"color\": \"white\"}}, \"type\": \"table\"}]}, \"layout\": {\"annotationdefaults\": {\"arrowcolor\": \"#2a3f5f\", \"arrowhead\": 0, \"arrowwidth\": 1}, \"coloraxis\": {\"colorbar\": {\"outlinewidth\": 0, \"ticks\": \"\"}}, \"colorscale\": {\"diverging\": [[0, \"#8e0152\"], [0.1, \"#c51b7d\"], [0.2, \"#de77ae\"], [0.3, \"#f1b6da\"], [0.4, \"#fde0ef\"], [0.5, \"#f7f7f7\"], [0.6, \"#e6f5d0\"], [0.7, \"#b8e186\"], [0.8, \"#7fbc41\"], [0.9, \"#4d9221\"], [1, \"#276419\"]], \"sequential\": [[0.0, \"#0d0887\"], [0.1111111111111111, \"#46039f\"], [0.2222222222222222, \"#7201a8\"], [0.3333333333333333, \"#9c179e\"], [0.4444444444444444, \"#bd3786\"], [0.5555555555555556, \"#d8576b\"], [0.6666666666666666, \"#ed7953\"], [0.7777777777777778, \"#fb9f3a\"], [0.8888888888888888, \"#fdca26\"], [1.0, \"#f0f921\"]], \"sequentialminus\": [[0.0, \"#0d0887\"], [0.1111111111111111, \"#46039f\"], [0.2222222222222222, \"#7201a8\"], [0.3333333333333333, \"#9c179e\"], [0.4444444444444444, \"#bd3786\"], [0.5555555555555556, \"#d8576b\"], [0.6666666666666666, \"#ed7953\"], [0.7777777777777778, \"#fb9f3a\"], [0.8888888888888888, \"#fdca26\"], [1.0, \"#f0f921\"]]}, \"colorway\": [\"#636efa\", \"#EF553B\", \"#00cc96\", \"#ab63fa\", \"#FFA15A\", \"#19d3f3\", \"#FF6692\", \"#B6E880\", \"#FF97FF\", \"#FECB52\"], \"font\": {\"color\": \"#2a3f5f\"}, \"geo\": {\"bgcolor\": \"white\", \"lakecolor\": \"white\", \"landcolor\": \"#E5ECF6\", \"showlakes\": true, \"showland\": true, \"subunitcolor\": \"white\"}, \"hoverlabel\": {\"align\": \"left\"}, \"hovermode\": \"closest\", \"mapbox\": {\"style\": \"light\"}, \"paper_bgcolor\": \"white\", \"plot_bgcolor\": \"#E5ECF6\", \"polar\": {\"angularaxis\": {\"gridcolor\": \"white\", \"linecolor\": \"white\", \"ticks\": \"\"}, \"bgcolor\": \"#E5ECF6\", \"radialaxis\": {\"gridcolor\": \"white\", \"linecolor\": \"white\", \"ticks\": \"\"}}, \"scene\": {\"xaxis\": {\"backgroundcolor\": \"#E5ECF6\", \"gridcolor\": \"white\", \"gridwidth\": 2, \"linecolor\": \"white\", \"showbackground\": true, \"ticks\": \"\", \"zerolinecolor\": \"white\"}, \"yaxis\": {\"backgroundcolor\": \"#E5ECF6\", \"gridcolor\": \"white\", \"gridwidth\": 2, \"linecolor\": \"white\", \"showbackground\": true, \"ticks\": \"\", \"zerolinecolor\": \"white\"}, \"zaxis\": {\"backgroundcolor\": \"#E5ECF6\", \"gridcolor\": \"white\", \"gridwidth\": 2, \"linecolor\": \"white\", \"showbackground\": true, \"ticks\": \"\", \"zerolinecolor\": \"white\"}}, \"shapedefaults\": {\"line\": {\"color\": \"#2a3f5f\"}}, \"ternary\": {\"aaxis\": {\"gridcolor\": \"white\", \"linecolor\": \"white\", \"ticks\": \"\"}, \"baxis\": {\"gridcolor\": \"white\", \"linecolor\": \"white\", \"ticks\": \"\"}, \"bgcolor\": \"#E5ECF6\", \"caxis\": {\"gridcolor\": \"white\", \"linecolor\": \"white\", \"ticks\": \"\"}}, \"title\": {\"x\": 0.05}, \"xaxis\": {\"automargin\": true, \"gridcolor\": \"white\", \"linecolor\": \"white\", \"ticks\": \"\", \"title\": {\"standoff\": 15}, \"zerolinecolor\": \"white\", \"zerolinewidth\": 2}, \"yaxis\": {\"automargin\": true, \"gridcolor\": \"white\", \"linecolor\": \"white\", \"ticks\": \"\", \"title\": {\"standoff\": 15}, \"zerolinecolor\": \"white\", \"zerolinewidth\": 2}}}, \"title\": {\"text\": \"Module number 7\"}},\n",
       "                        {\"responsive\": true}\n",
       "                    ).then(function(){\n",
       "                            \n",
       "var gd = document.getElementById('9c3117ba-13a3-4701-975d-166d4472dddc');\n",
       "var x = new MutationObserver(function (mutations, observer) {{\n",
       "        var display = window.getComputedStyle(gd).display;\n",
       "        if (!display || display === 'none') {{\n",
       "            console.log([gd, 'removed!']);\n",
       "            Plotly.purge(gd);\n",
       "            observer.disconnect();\n",
       "        }}\n",
       "}});\n",
       "\n",
       "// Listen for the removal of the full notebook cells\n",
       "var notebookContainer = gd.closest('#notebook-container');\n",
       "if (notebookContainer) {{\n",
       "    x.observe(notebookContainer, {childList: true});\n",
       "}}\n",
       "\n",
       "// Listen for the clearing of the current output cell\n",
       "var outputEl = gd.closest('.output');\n",
       "if (outputEl) {{\n",
       "    x.observe(outputEl, {childList: true});\n",
       "}}\n",
       "\n",
       "                        })\n",
       "                };\n",
       "                });\n",
       "            </script>\n",
       "        </div>"
      ]
     },
     "metadata": {},
     "output_type": "display_data"
    },
    {
     "data": {
      "application/vnd.plotly.v1+json": {
       "config": {
        "plotlyServerURL": "https://plot.ly"
       },
       "data": [
        {
         "mode": "lines+markers",
         "name": "Pulse index: 0",
         "type": "scatter",
         "x": [
          6381770,
          6381771,
          6381772,
          6381773,
          6381774,
          6381775,
          6381776,
          6381777,
          6381778,
          6381779,
          6381780,
          6381781,
          6381782,
          6381783,
          6381784,
          6381785,
          6381786,
          6381787,
          6381788,
          6381789,
          6381790,
          6381791
         ],
         "y": [
          0.25406041741371155,
          -0.07706823945045471,
          -0.050362445414066315,
          0.013159411028027534,
          -0.4721658229827881,
          -0.31717798113822937,
          0.14757761359214783,
          0.06289339810609818,
          -0.07864496856927872,
          -0.15451914072036743,
          -0.061499081552028656,
          0.06702166050672531,
          -0.07068239897489548,
          -0.10641706734895706,
          0.04986969381570816,
          0.05657251924276352,
          0.2640749514102936,
          0.07024218142032623,
          -0.15133889019489288,
          -0.09429723769426346,
          0.04758228361606598,
          -0.026069600135087967
         ]
        },
        {
         "mode": "lines+markers",
         "name": "Pulse index: 1",
         "type": "scatter",
         "x": [
          6381770,
          6381771,
          6381772,
          6381773,
          6381774,
          6381775,
          6381776,
          6381777,
          6381778,
          6381779,
          6381780,
          6381781,
          6381782,
          6381783,
          6381784,
          6381785,
          6381786,
          6381787,
          6381788,
          6381789,
          6381790,
          6381791
         ],
         "y": [
          -0.29899725317955017,
          -0.5098817348480225,
          0.6300680041313171,
          0.43853482604026794,
          -0.0647471696138382,
          -0.07554091513156891,
          -0.04041367024183273,
          0.5670900344848633,
          -0.18225803971290588,
          0.20002023875713348,
          0.03532547503709793,
          -0.19122354686260223,
          -0.02954731695353985,
          0.08972063660621643,
          0.1326843649148941,
          0.07753799110651016,
          -0.1686793863773346,
          -1.552546739578247,
          -0.09404242038726807,
          0.07883347570896149,
          -0.42442771792411804,
          0.12996095418930054
         ]
        },
        {
         "mode": "lines+markers",
         "name": "Pulse index: 2",
         "type": "scatter",
         "x": [
          6381770,
          6381771,
          6381772,
          6381773,
          6381774,
          6381775,
          6381776,
          6381777,
          6381778,
          6381779,
          6381780,
          6381781,
          6381782,
          6381783,
          6381784,
          6381785,
          6381786,
          6381787,
          6381788,
          6381789,
          6381790,
          6381791
         ],
         "y": [
          -0.03964769467711449,
          -0.2226829081773758,
          -0.03338063135743141,
          0.5432335138320923,
          -0.426354318857193,
          1.8426618576049805,
          -0.06957937031984329,
          0.08003696799278259,
          -0.015557222068309784,
          -0.06508783996105194,
          -0.03241303935647011,
          0.20012348890304565,
          0.4054948091506958,
          -0.15015511214733124,
          -1.3043016195297241,
          -0.23433303833007812,
          null,
          -0.09028114378452301,
          -0.12110742926597595,
          -0.10501694679260254,
          0.09709367901086807,
          0.06767519563436508
         ]
        },
        {
         "mode": "lines+markers",
         "name": "Pulse index: 3",
         "type": "scatter",
         "x": [
          6381770,
          6381771,
          6381772,
          6381773,
          6381774,
          6381775,
          6381776,
          6381777,
          6381778,
          6381779,
          6381780,
          6381781,
          6381782,
          6381783,
          6381784,
          6381785,
          6381786,
          6381787,
          6381788,
          6381789,
          6381790,
          6381791
         ],
         "y": [
          -0.06430988013744354,
          -0.9977640509605408,
          -1.096260666847229,
          -0.9213578701019287,
          -1.0448088645935059,
          -0.1909819096326828,
          -0.9120004773139954,
          -0.39778855443000793,
          -0.9467544555664062,
          -0.3102494776248932,
          -0.8678199052810669,
          -0.7229619026184082,
          -0.7115824818611145,
          -0.47945114970207214,
          -0.677459716796875,
          -0.7391455173492432,
          -0.7041749358177185,
          0.002377557335421443,
          0.22364838421344757,
          0.6125166416168213,
          -0.5705657005310059,
          0.040429793298244476
         ]
        },
        {
         "mode": "lines+markers",
         "name": "Pulse index: 4",
         "type": "scatter",
         "x": [
          6381770,
          6381771,
          6381772,
          6381773,
          6381774,
          6381775,
          6381776,
          6381777,
          6381778,
          6381779,
          6381780,
          6381781,
          6381782,
          6381783,
          6381784,
          6381785,
          6381786,
          6381787,
          6381788,
          6381789,
          6381790,
          6381791
         ],
         "y": [
          0.21190659701824188,
          -0.6111365556716919,
          -0.7319948077201843,
          -0.9422298669815063,
          -1.204667329788208,
          -0.7210505604743958,
          -0.8177357316017151,
          -0.44306737184524536,
          -0.5439339280128479,
          0.020050907507538795,
          -0.6354770660400391,
          -0.5086816549301147,
          -0.3410300314426422,
          -0.22069987654685974,
          -0.5770537257194519,
          -0.46510958671569824,
          -0.6772117018699646,
          -0.13299180567264557,
          -0.49330127239227295,
          0.3174610435962677,
          0.2701600193977356,
          0.26056358218193054
         ]
        },
        {
         "mode": "lines+markers",
         "name": "Pulse index: 5",
         "type": "scatter",
         "x": [
          6381770,
          6381771,
          6381772,
          6381773,
          6381774,
          6381775,
          6381776,
          6381777,
          6381778,
          6381779,
          6381780,
          6381781,
          6381782,
          6381783,
          6381784,
          6381785,
          6381786,
          6381787,
          6381788,
          6381789,
          6381790,
          6381791
         ],
         "y": [
          -0.3489767014980316,
          -0.8294797539710999,
          -0.7485772371292114,
          -1.161471962928772,
          -0.8521066308021545,
          -0.4850296080112457,
          -0.08207069337368011,
          0.09279747307300568,
          -0.0657791718840599,
          -0.30358433723449707,
          -0.08714351058006287,
          -0.4394426941871643,
          -0.5744949579238892,
          -0.5866641998291016,
          -0.7465938925743103,
          -0.8182144165039062,
          -0.5658423900604248,
          -0.49675706028938293,
          -0.19589969515800476,
          0.6632264852523804,
          0.28817832469940186,
          0.07001102715730667
         ]
        },
        {
         "mode": "lines+markers",
         "name": "Pulse index: 6",
         "type": "scatter",
         "x": [
          6381770,
          6381771,
          6381772,
          6381773,
          6381774,
          6381775,
          6381776,
          6381777,
          6381778,
          6381779,
          6381780,
          6381781,
          6381782,
          6381783,
          6381784,
          6381785,
          6381786,
          6381787,
          6381788,
          6381789,
          6381790,
          6381791
         ],
         "y": [
          -0.16858120262622833,
          -0.34203168749809265,
          -0.6307337880134583,
          -0.7206633687019348,
          -0.16879744827747345,
          -0.36637187004089355,
          0.13812023401260376,
          -0.5178037881851196,
          -0.3321574330329895,
          -0.3654038906097412,
          -0.9129740595817566,
          -0.9483970999717712,
          -1.0080417394638062,
          -0.4335026443004608,
          -0.6886210441589355,
          -0.44324934482574463,
          -0.9336679577827454,
          -0.43853759765625,
          -0.4406284689903259,
          0.30677443742752075,
          0.15250132977962494,
          -0.1697918176651001
         ]
        },
        {
         "mode": "lines+markers",
         "name": "Pulse index: 7",
         "type": "scatter",
         "x": [
          6381770,
          6381771,
          6381772,
          6381773,
          6381774,
          6381775,
          6381776,
          6381777,
          6381778,
          6381779,
          6381780,
          6381781,
          6381782,
          6381783,
          6381784,
          6381785,
          6381786,
          6381787,
          6381788,
          6381789,
          6381790,
          6381791
         ],
         "y": [
          0.23919084668159485,
          -0.00628615403547883,
          -0.39253655076026917,
          -0.8495686054229736,
          -0.8109309673309326,
          -0.5060908198356628,
          0.07917281985282898,
          -0.3996680974960327,
          -0.03498242050409317,
          -0.1453504115343094,
          -0.8002077341079712,
          -0.6041161417961121,
          -0.281890332698822,
          -0.3956586420536041,
          -0.5674656629562378,
          -0.5400129556655884,
          -0.685240626335144,
          0.12744365632534027,
          0.049348942935466766,
          0.36381208896636963,
          0.24713610112667084,
          0.2560485601425171
         ]
        },
        {
         "mode": "lines+markers",
         "name": "Pulse index: 8",
         "type": "scatter",
         "x": [
          6381770,
          6381771,
          6381772,
          6381773,
          6381774,
          6381775,
          6381776,
          6381777,
          6381778,
          6381779,
          6381780,
          6381781,
          6381782,
          6381783,
          6381784,
          6381785,
          6381786,
          6381787,
          6381788,
          6381789,
          6381790,
          6381791
         ],
         "y": [
          -0.02835874632000923,
          -0.023183364421129227,
          -0.4537383019924164,
          -1.0668740272521973,
          -1.2040841579437256,
          -0.7754271626472473,
          -0.8949726223945618,
          -0.22081512212753296,
          -0.657996654510498,
          -0.07380781322717667,
          -0.37736520171165466,
          -0.5403265953063965,
          -0.33492034673690796,
          -0.8458478450775146,
          -0.5226961374282837,
          -0.6455156207084656,
          -0.6073949337005615,
          -0.4248415231704712,
          -0.7126743793487549,
          0.23908759653568268,
          0.44653090834617615,
          0.4966549873352051
         ]
        },
        {
         "mode": "lines+markers",
         "name": "Pulse index: 9",
         "type": "scatter",
         "x": [
          6381770,
          6381771,
          6381772,
          6381773,
          6381774,
          6381775,
          6381776,
          6381777,
          6381778,
          6381779,
          6381780,
          6381781,
          6381782,
          6381783,
          6381784,
          6381785,
          6381786,
          6381787,
          6381788,
          6381789,
          6381790,
          6381791
         ],
         "y": [
          -0.3297000229358673,
          -0.555878221988678,
          -0.7313340306282043,
          -1.1047519445419312,
          -0.944729745388031,
          -0.700238823890686,
          -0.6386634707450867,
          -0.6520503163337708,
          -0.7654194831848145,
          -0.5009021162986755,
          -0.9359933733940125,
          -0.8431888222694397,
          -0.7322004437446594,
          -0.7421724200248718,
          -0.48945629596710205,
          -0.38153502345085144,
          -0.2703261375427246,
          -0.33085858821868896,
          -0.20009692013263702,
          -0.027110474184155464,
          0.043811097741127014,
          0.3942244052886963
         ]
        },
        {
         "mode": "lines+markers",
         "name": "Pulse index: 10",
         "type": "scatter",
         "x": [
          6381770,
          6381771,
          6381772,
          6381773,
          6381774,
          6381775,
          6381776,
          6381777,
          6381778,
          6381779,
          6381780,
          6381781,
          6381782,
          6381783,
          6381784,
          6381785,
          6381786,
          6381787,
          6381788,
          6381789,
          6381790,
          6381791
         ],
         "y": [
          0.2586837708950043,
          -0.15668758749961853,
          -0.8039491176605225,
          -1.2944731712341309,
          -1.0138131380081177,
          -0.6778379082679749,
          -0.8387728929519653,
          -0.4680345058441162,
          -0.8473349809646606,
          -0.5926841497421265,
          -0.7859739661216736,
          -0.32238683104515076,
          -0.22895869612693787,
          -0.3139720857143402,
          -0.3957763910293579,
          0.03740239143371582,
          -0.46539750695228577,
          -0.776482105255127,
          -0.6508482098579407,
          0.24639959633350372,
          0.13555485010147095,
          0.10600077360868454
         ]
        }
       ],
       "layout": {
        "template": {
         "data": {
          "bar": [
           {
            "error_x": {
             "color": "#2a3f5f"
            },
            "error_y": {
             "color": "#2a3f5f"
            },
            "marker": {
             "line": {
              "color": "#E5ECF6",
              "width": 0.5
             }
            },
            "type": "bar"
           }
          ],
          "barpolar": [
           {
            "marker": {
             "line": {
              "color": "#E5ECF6",
              "width": 0.5
             }
            },
            "type": "barpolar"
           }
          ],
          "carpet": [
           {
            "aaxis": {
             "endlinecolor": "#2a3f5f",
             "gridcolor": "white",
             "linecolor": "white",
             "minorgridcolor": "white",
             "startlinecolor": "#2a3f5f"
            },
            "baxis": {
             "endlinecolor": "#2a3f5f",
             "gridcolor": "white",
             "linecolor": "white",
             "minorgridcolor": "white",
             "startlinecolor": "#2a3f5f"
            },
            "type": "carpet"
           }
          ],
          "choropleth": [
           {
            "colorbar": {
             "outlinewidth": 0,
             "ticks": ""
            },
            "type": "choropleth"
           }
          ],
          "contour": [
           {
            "colorbar": {
             "outlinewidth": 0,
             "ticks": ""
            },
            "colorscale": [
             [
              0,
              "#0d0887"
             ],
             [
              0.1111111111111111,
              "#46039f"
             ],
             [
              0.2222222222222222,
              "#7201a8"
             ],
             [
              0.3333333333333333,
              "#9c179e"
             ],
             [
              0.4444444444444444,
              "#bd3786"
             ],
             [
              0.5555555555555556,
              "#d8576b"
             ],
             [
              0.6666666666666666,
              "#ed7953"
             ],
             [
              0.7777777777777778,
              "#fb9f3a"
             ],
             [
              0.8888888888888888,
              "#fdca26"
             ],
             [
              1,
              "#f0f921"
             ]
            ],
            "type": "contour"
           }
          ],
          "contourcarpet": [
           {
            "colorbar": {
             "outlinewidth": 0,
             "ticks": ""
            },
            "type": "contourcarpet"
           }
          ],
          "heatmap": [
           {
            "colorbar": {
             "outlinewidth": 0,
             "ticks": ""
            },
            "colorscale": [
             [
              0,
              "#0d0887"
             ],
             [
              0.1111111111111111,
              "#46039f"
             ],
             [
              0.2222222222222222,
              "#7201a8"
             ],
             [
              0.3333333333333333,
              "#9c179e"
             ],
             [
              0.4444444444444444,
              "#bd3786"
             ],
             [
              0.5555555555555556,
              "#d8576b"
             ],
             [
              0.6666666666666666,
              "#ed7953"
             ],
             [
              0.7777777777777778,
              "#fb9f3a"
             ],
             [
              0.8888888888888888,
              "#fdca26"
             ],
             [
              1,
              "#f0f921"
             ]
            ],
            "type": "heatmap"
           }
          ],
          "heatmapgl": [
           {
            "colorbar": {
             "outlinewidth": 0,
             "ticks": ""
            },
            "colorscale": [
             [
              0,
              "#0d0887"
             ],
             [
              0.1111111111111111,
              "#46039f"
             ],
             [
              0.2222222222222222,
              "#7201a8"
             ],
             [
              0.3333333333333333,
              "#9c179e"
             ],
             [
              0.4444444444444444,
              "#bd3786"
             ],
             [
              0.5555555555555556,
              "#d8576b"
             ],
             [
              0.6666666666666666,
              "#ed7953"
             ],
             [
              0.7777777777777778,
              "#fb9f3a"
             ],
             [
              0.8888888888888888,
              "#fdca26"
             ],
             [
              1,
              "#f0f921"
             ]
            ],
            "type": "heatmapgl"
           }
          ],
          "histogram": [
           {
            "marker": {
             "colorbar": {
              "outlinewidth": 0,
              "ticks": ""
             }
            },
            "type": "histogram"
           }
          ],
          "histogram2d": [
           {
            "colorbar": {
             "outlinewidth": 0,
             "ticks": ""
            },
            "colorscale": [
             [
              0,
              "#0d0887"
             ],
             [
              0.1111111111111111,
              "#46039f"
             ],
             [
              0.2222222222222222,
              "#7201a8"
             ],
             [
              0.3333333333333333,
              "#9c179e"
             ],
             [
              0.4444444444444444,
              "#bd3786"
             ],
             [
              0.5555555555555556,
              "#d8576b"
             ],
             [
              0.6666666666666666,
              "#ed7953"
             ],
             [
              0.7777777777777778,
              "#fb9f3a"
             ],
             [
              0.8888888888888888,
              "#fdca26"
             ],
             [
              1,
              "#f0f921"
             ]
            ],
            "type": "histogram2d"
           }
          ],
          "histogram2dcontour": [
           {
            "colorbar": {
             "outlinewidth": 0,
             "ticks": ""
            },
            "colorscale": [
             [
              0,
              "#0d0887"
             ],
             [
              0.1111111111111111,
              "#46039f"
             ],
             [
              0.2222222222222222,
              "#7201a8"
             ],
             [
              0.3333333333333333,
              "#9c179e"
             ],
             [
              0.4444444444444444,
              "#bd3786"
             ],
             [
              0.5555555555555556,
              "#d8576b"
             ],
             [
              0.6666666666666666,
              "#ed7953"
             ],
             [
              0.7777777777777778,
              "#fb9f3a"
             ],
             [
              0.8888888888888888,
              "#fdca26"
             ],
             [
              1,
              "#f0f921"
             ]
            ],
            "type": "histogram2dcontour"
           }
          ],
          "mesh3d": [
           {
            "colorbar": {
             "outlinewidth": 0,
             "ticks": ""
            },
            "type": "mesh3d"
           }
          ],
          "parcoords": [
           {
            "line": {
             "colorbar": {
              "outlinewidth": 0,
              "ticks": ""
             }
            },
            "type": "parcoords"
           }
          ],
          "pie": [
           {
            "automargin": true,
            "type": "pie"
           }
          ],
          "scatter": [
           {
            "marker": {
             "colorbar": {
              "outlinewidth": 0,
              "ticks": ""
             }
            },
            "type": "scatter"
           }
          ],
          "scatter3d": [
           {
            "line": {
             "colorbar": {
              "outlinewidth": 0,
              "ticks": ""
             }
            },
            "marker": {
             "colorbar": {
              "outlinewidth": 0,
              "ticks": ""
             }
            },
            "type": "scatter3d"
           }
          ],
          "scattercarpet": [
           {
            "marker": {
             "colorbar": {
              "outlinewidth": 0,
              "ticks": ""
             }
            },
            "type": "scattercarpet"
           }
          ],
          "scattergeo": [
           {
            "marker": {
             "colorbar": {
              "outlinewidth": 0,
              "ticks": ""
             }
            },
            "type": "scattergeo"
           }
          ],
          "scattergl": [
           {
            "marker": {
             "colorbar": {
              "outlinewidth": 0,
              "ticks": ""
             }
            },
            "type": "scattergl"
           }
          ],
          "scattermapbox": [
           {
            "marker": {
             "colorbar": {
              "outlinewidth": 0,
              "ticks": ""
             }
            },
            "type": "scattermapbox"
           }
          ],
          "scatterpolar": [
           {
            "marker": {
             "colorbar": {
              "outlinewidth": 0,
              "ticks": ""
             }
            },
            "type": "scatterpolar"
           }
          ],
          "scatterpolargl": [
           {
            "marker": {
             "colorbar": {
              "outlinewidth": 0,
              "ticks": ""
             }
            },
            "type": "scatterpolargl"
           }
          ],
          "scatterternary": [
           {
            "marker": {
             "colorbar": {
              "outlinewidth": 0,
              "ticks": ""
             }
            },
            "type": "scatterternary"
           }
          ],
          "surface": [
           {
            "colorbar": {
             "outlinewidth": 0,
             "ticks": ""
            },
            "colorscale": [
             [
              0,
              "#0d0887"
             ],
             [
              0.1111111111111111,
              "#46039f"
             ],
             [
              0.2222222222222222,
              "#7201a8"
             ],
             [
              0.3333333333333333,
              "#9c179e"
             ],
             [
              0.4444444444444444,
              "#bd3786"
             ],
             [
              0.5555555555555556,
              "#d8576b"
             ],
             [
              0.6666666666666666,
              "#ed7953"
             ],
             [
              0.7777777777777778,
              "#fb9f3a"
             ],
             [
              0.8888888888888888,
              "#fdca26"
             ],
             [
              1,
              "#f0f921"
             ]
            ],
            "type": "surface"
           }
          ],
          "table": [
           {
            "cells": {
             "fill": {
              "color": "#EBF0F8"
             },
             "line": {
              "color": "white"
             }
            },
            "header": {
             "fill": {
              "color": "#C8D4E3"
             },
             "line": {
              "color": "white"
             }
            },
            "type": "table"
           }
          ]
         },
         "layout": {
          "annotationdefaults": {
           "arrowcolor": "#2a3f5f",
           "arrowhead": 0,
           "arrowwidth": 1
          },
          "coloraxis": {
           "colorbar": {
            "outlinewidth": 0,
            "ticks": ""
           }
          },
          "colorscale": {
           "diverging": [
            [
             0,
             "#8e0152"
            ],
            [
             0.1,
             "#c51b7d"
            ],
            [
             0.2,
             "#de77ae"
            ],
            [
             0.3,
             "#f1b6da"
            ],
            [
             0.4,
             "#fde0ef"
            ],
            [
             0.5,
             "#f7f7f7"
            ],
            [
             0.6,
             "#e6f5d0"
            ],
            [
             0.7,
             "#b8e186"
            ],
            [
             0.8,
             "#7fbc41"
            ],
            [
             0.9,
             "#4d9221"
            ],
            [
             1,
             "#276419"
            ]
           ],
           "sequential": [
            [
             0,
             "#0d0887"
            ],
            [
             0.1111111111111111,
             "#46039f"
            ],
            [
             0.2222222222222222,
             "#7201a8"
            ],
            [
             0.3333333333333333,
             "#9c179e"
            ],
            [
             0.4444444444444444,
             "#bd3786"
            ],
            [
             0.5555555555555556,
             "#d8576b"
            ],
            [
             0.6666666666666666,
             "#ed7953"
            ],
            [
             0.7777777777777778,
             "#fb9f3a"
            ],
            [
             0.8888888888888888,
             "#fdca26"
            ],
            [
             1,
             "#f0f921"
            ]
           ],
           "sequentialminus": [
            [
             0,
             "#0d0887"
            ],
            [
             0.1111111111111111,
             "#46039f"
            ],
            [
             0.2222222222222222,
             "#7201a8"
            ],
            [
             0.3333333333333333,
             "#9c179e"
            ],
            [
             0.4444444444444444,
             "#bd3786"
            ],
            [
             0.5555555555555556,
             "#d8576b"
            ],
            [
             0.6666666666666666,
             "#ed7953"
            ],
            [
             0.7777777777777778,
             "#fb9f3a"
            ],
            [
             0.8888888888888888,
             "#fdca26"
            ],
            [
             1,
             "#f0f921"
            ]
           ]
          },
          "colorway": [
           "#636efa",
           "#EF553B",
           "#00cc96",
           "#ab63fa",
           "#FFA15A",
           "#19d3f3",
           "#FF6692",
           "#B6E880",
           "#FF97FF",
           "#FECB52"
          ],
          "font": {
           "color": "#2a3f5f"
          },
          "geo": {
           "bgcolor": "white",
           "lakecolor": "white",
           "landcolor": "#E5ECF6",
           "showlakes": true,
           "showland": true,
           "subunitcolor": "white"
          },
          "hoverlabel": {
           "align": "left"
          },
          "hovermode": "closest",
          "mapbox": {
           "style": "light"
          },
          "paper_bgcolor": "white",
          "plot_bgcolor": "#E5ECF6",
          "polar": {
           "angularaxis": {
            "gridcolor": "white",
            "linecolor": "white",
            "ticks": ""
           },
           "bgcolor": "#E5ECF6",
           "radialaxis": {
            "gridcolor": "white",
            "linecolor": "white",
            "ticks": ""
           }
          },
          "scene": {
           "xaxis": {
            "backgroundcolor": "#E5ECF6",
            "gridcolor": "white",
            "gridwidth": 2,
            "linecolor": "white",
            "showbackground": true,
            "ticks": "",
            "zerolinecolor": "white"
           },
           "yaxis": {
            "backgroundcolor": "#E5ECF6",
            "gridcolor": "white",
            "gridwidth": 2,
            "linecolor": "white",
            "showbackground": true,
            "ticks": "",
            "zerolinecolor": "white"
           },
           "zaxis": {
            "backgroundcolor": "#E5ECF6",
            "gridcolor": "white",
            "gridwidth": 2,
            "linecolor": "white",
            "showbackground": true,
            "ticks": "",
            "zerolinecolor": "white"
           }
          },
          "shapedefaults": {
           "line": {
            "color": "#2a3f5f"
           }
          },
          "ternary": {
           "aaxis": {
            "gridcolor": "white",
            "linecolor": "white",
            "ticks": ""
           },
           "baxis": {
            "gridcolor": "white",
            "linecolor": "white",
            "ticks": ""
           },
           "bgcolor": "#E5ECF6",
           "caxis": {
            "gridcolor": "white",
            "linecolor": "white",
            "ticks": ""
           }
          },
          "title": {
           "x": 0.05
          },
          "xaxis": {
           "automargin": true,
           "gridcolor": "white",
           "linecolor": "white",
           "ticks": "",
           "title": {
            "standoff": 15
           },
           "zerolinecolor": "white",
           "zerolinewidth": 2
          },
          "yaxis": {
           "automargin": true,
           "gridcolor": "white",
           "linecolor": "white",
           "ticks": "",
           "title": {
            "standoff": 15
           },
           "zerolinecolor": "white",
           "zerolinewidth": 2
          }
         }
        },
        "title": {
         "text": "Module number 8"
        }
       }
      },
      "text/html": [
       "<div>\n",
       "        \n",
       "        \n",
       "            <div id=\"b5df8ffe-c062-4a91-bc3d-8e39ac88d3c0\" class=\"plotly-graph-div\" style=\"height:525px; width:100%;\"></div>\n",
       "            <script type=\"text/javascript\">\n",
       "                require([\"plotly\"], function(Plotly) {\n",
       "                    window.PLOTLYENV=window.PLOTLYENV || {};\n",
       "                    \n",
       "                if (document.getElementById(\"b5df8ffe-c062-4a91-bc3d-8e39ac88d3c0\")) {\n",
       "                    Plotly.newPlot(\n",
       "                        'b5df8ffe-c062-4a91-bc3d-8e39ac88d3c0',\n",
       "                        [{\"mode\": \"lines+markers\", \"name\": \"Pulse index: 0\", \"type\": \"scatter\", \"x\": [6381770, 6381771, 6381772, 6381773, 6381774, 6381775, 6381776, 6381777, 6381778, 6381779, 6381780, 6381781, 6381782, 6381783, 6381784, 6381785, 6381786, 6381787, 6381788, 6381789, 6381790, 6381791], \"y\": [0.25406041741371155, -0.07706823945045471, -0.050362445414066315, 0.013159411028027534, -0.4721658229827881, -0.31717798113822937, 0.14757761359214783, 0.06289339810609818, -0.07864496856927872, -0.15451914072036743, -0.061499081552028656, 0.06702166050672531, -0.07068239897489548, -0.10641706734895706, 0.04986969381570816, 0.05657251924276352, 0.2640749514102936, 0.07024218142032623, -0.15133889019489288, -0.09429723769426346, 0.04758228361606598, -0.026069600135087967]}, {\"mode\": \"lines+markers\", \"name\": \"Pulse index: 1\", \"type\": \"scatter\", \"x\": [6381770, 6381771, 6381772, 6381773, 6381774, 6381775, 6381776, 6381777, 6381778, 6381779, 6381780, 6381781, 6381782, 6381783, 6381784, 6381785, 6381786, 6381787, 6381788, 6381789, 6381790, 6381791], \"y\": [-0.29899725317955017, -0.5098817348480225, 0.6300680041313171, 0.43853482604026794, -0.0647471696138382, -0.07554091513156891, -0.04041367024183273, 0.5670900344848633, -0.18225803971290588, 0.20002023875713348, 0.03532547503709793, -0.19122354686260223, -0.02954731695353985, 0.08972063660621643, 0.1326843649148941, 0.07753799110651016, -0.1686793863773346, -1.552546739578247, -0.09404242038726807, 0.07883347570896149, -0.42442771792411804, 0.12996095418930054]}, {\"mode\": \"lines+markers\", \"name\": \"Pulse index: 2\", \"type\": \"scatter\", \"x\": [6381770, 6381771, 6381772, 6381773, 6381774, 6381775, 6381776, 6381777, 6381778, 6381779, 6381780, 6381781, 6381782, 6381783, 6381784, 6381785, 6381786, 6381787, 6381788, 6381789, 6381790, 6381791], \"y\": [-0.03964769467711449, -0.2226829081773758, -0.03338063135743141, 0.5432335138320923, -0.426354318857193, 1.8426618576049805, -0.06957937031984329, 0.08003696799278259, -0.015557222068309784, -0.06508783996105194, -0.03241303935647011, 0.20012348890304565, 0.4054948091506958, -0.15015511214733124, -1.3043016195297241, -0.23433303833007812, null, -0.09028114378452301, -0.12110742926597595, -0.10501694679260254, 0.09709367901086807, 0.06767519563436508]}, {\"mode\": \"lines+markers\", \"name\": \"Pulse index: 3\", \"type\": \"scatter\", \"x\": [6381770, 6381771, 6381772, 6381773, 6381774, 6381775, 6381776, 6381777, 6381778, 6381779, 6381780, 6381781, 6381782, 6381783, 6381784, 6381785, 6381786, 6381787, 6381788, 6381789, 6381790, 6381791], \"y\": [-0.06430988013744354, -0.9977640509605408, -1.096260666847229, -0.9213578701019287, -1.0448088645935059, -0.1909819096326828, -0.9120004773139954, -0.39778855443000793, -0.9467544555664062, -0.3102494776248932, -0.8678199052810669, -0.7229619026184082, -0.7115824818611145, -0.47945114970207214, -0.677459716796875, -0.7391455173492432, -0.7041749358177185, 0.002377557335421443, 0.22364838421344757, 0.6125166416168213, -0.5705657005310059, 0.040429793298244476]}, {\"mode\": \"lines+markers\", \"name\": \"Pulse index: 4\", \"type\": \"scatter\", \"x\": [6381770, 6381771, 6381772, 6381773, 6381774, 6381775, 6381776, 6381777, 6381778, 6381779, 6381780, 6381781, 6381782, 6381783, 6381784, 6381785, 6381786, 6381787, 6381788, 6381789, 6381790, 6381791], \"y\": [0.21190659701824188, -0.6111365556716919, -0.7319948077201843, -0.9422298669815063, -1.204667329788208, -0.7210505604743958, -0.8177357316017151, -0.44306737184524536, -0.5439339280128479, 0.020050907507538795, -0.6354770660400391, -0.5086816549301147, -0.3410300314426422, -0.22069987654685974, -0.5770537257194519, -0.46510958671569824, -0.6772117018699646, -0.13299180567264557, -0.49330127239227295, 0.3174610435962677, 0.2701600193977356, 0.26056358218193054]}, {\"mode\": \"lines+markers\", \"name\": \"Pulse index: 5\", \"type\": \"scatter\", \"x\": [6381770, 6381771, 6381772, 6381773, 6381774, 6381775, 6381776, 6381777, 6381778, 6381779, 6381780, 6381781, 6381782, 6381783, 6381784, 6381785, 6381786, 6381787, 6381788, 6381789, 6381790, 6381791], \"y\": [-0.3489767014980316, -0.8294797539710999, -0.7485772371292114, -1.161471962928772, -0.8521066308021545, -0.4850296080112457, -0.08207069337368011, 0.09279747307300568, -0.0657791718840599, -0.30358433723449707, -0.08714351058006287, -0.4394426941871643, -0.5744949579238892, -0.5866641998291016, -0.7465938925743103, -0.8182144165039062, -0.5658423900604248, -0.49675706028938293, -0.19589969515800476, 0.6632264852523804, 0.28817832469940186, 0.07001102715730667]}, {\"mode\": \"lines+markers\", \"name\": \"Pulse index: 6\", \"type\": \"scatter\", \"x\": [6381770, 6381771, 6381772, 6381773, 6381774, 6381775, 6381776, 6381777, 6381778, 6381779, 6381780, 6381781, 6381782, 6381783, 6381784, 6381785, 6381786, 6381787, 6381788, 6381789, 6381790, 6381791], \"y\": [-0.16858120262622833, -0.34203168749809265, -0.6307337880134583, -0.7206633687019348, -0.16879744827747345, -0.36637187004089355, 0.13812023401260376, -0.5178037881851196, -0.3321574330329895, -0.3654038906097412, -0.9129740595817566, -0.9483970999717712, -1.0080417394638062, -0.4335026443004608, -0.6886210441589355, -0.44324934482574463, -0.9336679577827454, -0.43853759765625, -0.4406284689903259, 0.30677443742752075, 0.15250132977962494, -0.1697918176651001]}, {\"mode\": \"lines+markers\", \"name\": \"Pulse index: 7\", \"type\": \"scatter\", \"x\": [6381770, 6381771, 6381772, 6381773, 6381774, 6381775, 6381776, 6381777, 6381778, 6381779, 6381780, 6381781, 6381782, 6381783, 6381784, 6381785, 6381786, 6381787, 6381788, 6381789, 6381790, 6381791], \"y\": [0.23919084668159485, -0.00628615403547883, -0.39253655076026917, -0.8495686054229736, -0.8109309673309326, -0.5060908198356628, 0.07917281985282898, -0.3996680974960327, -0.03498242050409317, -0.1453504115343094, -0.8002077341079712, -0.6041161417961121, -0.281890332698822, -0.3956586420536041, -0.5674656629562378, -0.5400129556655884, -0.685240626335144, 0.12744365632534027, 0.049348942935466766, 0.36381208896636963, 0.24713610112667084, 0.2560485601425171]}, {\"mode\": \"lines+markers\", \"name\": \"Pulse index: 8\", \"type\": \"scatter\", \"x\": [6381770, 6381771, 6381772, 6381773, 6381774, 6381775, 6381776, 6381777, 6381778, 6381779, 6381780, 6381781, 6381782, 6381783, 6381784, 6381785, 6381786, 6381787, 6381788, 6381789, 6381790, 6381791], \"y\": [-0.02835874632000923, -0.023183364421129227, -0.4537383019924164, -1.0668740272521973, -1.2040841579437256, -0.7754271626472473, -0.8949726223945618, -0.22081512212753296, -0.657996654510498, -0.07380781322717667, -0.37736520171165466, -0.5403265953063965, -0.33492034673690796, -0.8458478450775146, -0.5226961374282837, -0.6455156207084656, -0.6073949337005615, -0.4248415231704712, -0.7126743793487549, 0.23908759653568268, 0.44653090834617615, 0.4966549873352051]}, {\"mode\": \"lines+markers\", \"name\": \"Pulse index: 9\", \"type\": \"scatter\", \"x\": [6381770, 6381771, 6381772, 6381773, 6381774, 6381775, 6381776, 6381777, 6381778, 6381779, 6381780, 6381781, 6381782, 6381783, 6381784, 6381785, 6381786, 6381787, 6381788, 6381789, 6381790, 6381791], \"y\": [-0.3297000229358673, -0.555878221988678, -0.7313340306282043, -1.1047519445419312, -0.944729745388031, -0.700238823890686, -0.6386634707450867, -0.6520503163337708, -0.7654194831848145, -0.5009021162986755, -0.9359933733940125, -0.8431888222694397, -0.7322004437446594, -0.7421724200248718, -0.48945629596710205, -0.38153502345085144, -0.2703261375427246, -0.33085858821868896, -0.20009692013263702, -0.027110474184155464, 0.043811097741127014, 0.3942244052886963]}, {\"mode\": \"lines+markers\", \"name\": \"Pulse index: 10\", \"type\": \"scatter\", \"x\": [6381770, 6381771, 6381772, 6381773, 6381774, 6381775, 6381776, 6381777, 6381778, 6381779, 6381780, 6381781, 6381782, 6381783, 6381784, 6381785, 6381786, 6381787, 6381788, 6381789, 6381790, 6381791], \"y\": [0.2586837708950043, -0.15668758749961853, -0.8039491176605225, -1.2944731712341309, -1.0138131380081177, -0.6778379082679749, -0.8387728929519653, -0.4680345058441162, -0.8473349809646606, -0.5926841497421265, -0.7859739661216736, -0.32238683104515076, -0.22895869612693787, -0.3139720857143402, -0.3957763910293579, 0.03740239143371582, -0.46539750695228577, -0.776482105255127, -0.6508482098579407, 0.24639959633350372, 0.13555485010147095, 0.10600077360868454]}],\n",
       "                        {\"template\": {\"data\": {\"bar\": [{\"error_x\": {\"color\": \"#2a3f5f\"}, \"error_y\": {\"color\": \"#2a3f5f\"}, \"marker\": {\"line\": {\"color\": \"#E5ECF6\", \"width\": 0.5}}, \"type\": \"bar\"}], \"barpolar\": [{\"marker\": {\"line\": {\"color\": \"#E5ECF6\", \"width\": 0.5}}, \"type\": \"barpolar\"}], \"carpet\": [{\"aaxis\": {\"endlinecolor\": \"#2a3f5f\", \"gridcolor\": \"white\", \"linecolor\": \"white\", \"minorgridcolor\": \"white\", \"startlinecolor\": \"#2a3f5f\"}, \"baxis\": {\"endlinecolor\": \"#2a3f5f\", \"gridcolor\": \"white\", \"linecolor\": \"white\", \"minorgridcolor\": \"white\", \"startlinecolor\": \"#2a3f5f\"}, \"type\": \"carpet\"}], \"choropleth\": [{\"colorbar\": {\"outlinewidth\": 0, \"ticks\": \"\"}, \"type\": \"choropleth\"}], \"contour\": [{\"colorbar\": {\"outlinewidth\": 0, \"ticks\": \"\"}, \"colorscale\": [[0.0, \"#0d0887\"], [0.1111111111111111, \"#46039f\"], [0.2222222222222222, \"#7201a8\"], [0.3333333333333333, \"#9c179e\"], [0.4444444444444444, \"#bd3786\"], [0.5555555555555556, \"#d8576b\"], [0.6666666666666666, \"#ed7953\"], [0.7777777777777778, \"#fb9f3a\"], [0.8888888888888888, \"#fdca26\"], [1.0, \"#f0f921\"]], \"type\": \"contour\"}], \"contourcarpet\": [{\"colorbar\": {\"outlinewidth\": 0, \"ticks\": \"\"}, \"type\": \"contourcarpet\"}], \"heatmap\": [{\"colorbar\": {\"outlinewidth\": 0, \"ticks\": \"\"}, \"colorscale\": [[0.0, \"#0d0887\"], [0.1111111111111111, \"#46039f\"], [0.2222222222222222, \"#7201a8\"], [0.3333333333333333, \"#9c179e\"], [0.4444444444444444, \"#bd3786\"], [0.5555555555555556, \"#d8576b\"], [0.6666666666666666, \"#ed7953\"], [0.7777777777777778, \"#fb9f3a\"], [0.8888888888888888, \"#fdca26\"], [1.0, \"#f0f921\"]], \"type\": \"heatmap\"}], \"heatmapgl\": [{\"colorbar\": {\"outlinewidth\": 0, \"ticks\": \"\"}, \"colorscale\": [[0.0, \"#0d0887\"], [0.1111111111111111, \"#46039f\"], [0.2222222222222222, \"#7201a8\"], [0.3333333333333333, \"#9c179e\"], [0.4444444444444444, \"#bd3786\"], [0.5555555555555556, \"#d8576b\"], [0.6666666666666666, \"#ed7953\"], [0.7777777777777778, \"#fb9f3a\"], [0.8888888888888888, \"#fdca26\"], [1.0, \"#f0f921\"]], \"type\": \"heatmapgl\"}], \"histogram\": [{\"marker\": {\"colorbar\": {\"outlinewidth\": 0, \"ticks\": \"\"}}, \"type\": \"histogram\"}], \"histogram2d\": [{\"colorbar\": {\"outlinewidth\": 0, \"ticks\": \"\"}, \"colorscale\": [[0.0, \"#0d0887\"], [0.1111111111111111, \"#46039f\"], [0.2222222222222222, \"#7201a8\"], [0.3333333333333333, \"#9c179e\"], [0.4444444444444444, \"#bd3786\"], [0.5555555555555556, \"#d8576b\"], [0.6666666666666666, \"#ed7953\"], [0.7777777777777778, \"#fb9f3a\"], [0.8888888888888888, \"#fdca26\"], [1.0, \"#f0f921\"]], \"type\": \"histogram2d\"}], \"histogram2dcontour\": [{\"colorbar\": {\"outlinewidth\": 0, \"ticks\": \"\"}, \"colorscale\": [[0.0, \"#0d0887\"], [0.1111111111111111, \"#46039f\"], [0.2222222222222222, \"#7201a8\"], [0.3333333333333333, \"#9c179e\"], [0.4444444444444444, \"#bd3786\"], [0.5555555555555556, \"#d8576b\"], [0.6666666666666666, \"#ed7953\"], [0.7777777777777778, \"#fb9f3a\"], [0.8888888888888888, \"#fdca26\"], [1.0, \"#f0f921\"]], \"type\": \"histogram2dcontour\"}], \"mesh3d\": [{\"colorbar\": {\"outlinewidth\": 0, \"ticks\": \"\"}, \"type\": \"mesh3d\"}], \"parcoords\": [{\"line\": {\"colorbar\": {\"outlinewidth\": 0, \"ticks\": \"\"}}, \"type\": \"parcoords\"}], \"pie\": [{\"automargin\": true, \"type\": \"pie\"}], \"scatter\": [{\"marker\": {\"colorbar\": {\"outlinewidth\": 0, \"ticks\": \"\"}}, \"type\": \"scatter\"}], \"scatter3d\": [{\"line\": {\"colorbar\": {\"outlinewidth\": 0, \"ticks\": \"\"}}, \"marker\": {\"colorbar\": {\"outlinewidth\": 0, \"ticks\": \"\"}}, \"type\": \"scatter3d\"}], \"scattercarpet\": [{\"marker\": {\"colorbar\": {\"outlinewidth\": 0, \"ticks\": \"\"}}, \"type\": \"scattercarpet\"}], \"scattergeo\": [{\"marker\": {\"colorbar\": {\"outlinewidth\": 0, \"ticks\": \"\"}}, \"type\": \"scattergeo\"}], \"scattergl\": [{\"marker\": {\"colorbar\": {\"outlinewidth\": 0, \"ticks\": \"\"}}, \"type\": \"scattergl\"}], \"scattermapbox\": [{\"marker\": {\"colorbar\": {\"outlinewidth\": 0, \"ticks\": \"\"}}, \"type\": \"scattermapbox\"}], \"scatterpolar\": [{\"marker\": {\"colorbar\": {\"outlinewidth\": 0, \"ticks\": \"\"}}, \"type\": \"scatterpolar\"}], \"scatterpolargl\": [{\"marker\": {\"colorbar\": {\"outlinewidth\": 0, \"ticks\": \"\"}}, \"type\": \"scatterpolargl\"}], \"scatterternary\": [{\"marker\": {\"colorbar\": {\"outlinewidth\": 0, \"ticks\": \"\"}}, \"type\": \"scatterternary\"}], \"surface\": [{\"colorbar\": {\"outlinewidth\": 0, \"ticks\": \"\"}, \"colorscale\": [[0.0, \"#0d0887\"], [0.1111111111111111, \"#46039f\"], [0.2222222222222222, \"#7201a8\"], [0.3333333333333333, \"#9c179e\"], [0.4444444444444444, \"#bd3786\"], [0.5555555555555556, \"#d8576b\"], [0.6666666666666666, \"#ed7953\"], [0.7777777777777778, \"#fb9f3a\"], [0.8888888888888888, \"#fdca26\"], [1.0, \"#f0f921\"]], \"type\": \"surface\"}], \"table\": [{\"cells\": {\"fill\": {\"color\": \"#EBF0F8\"}, \"line\": {\"color\": \"white\"}}, \"header\": {\"fill\": {\"color\": \"#C8D4E3\"}, \"line\": {\"color\": \"white\"}}, \"type\": \"table\"}]}, \"layout\": {\"annotationdefaults\": {\"arrowcolor\": \"#2a3f5f\", \"arrowhead\": 0, \"arrowwidth\": 1}, \"coloraxis\": {\"colorbar\": {\"outlinewidth\": 0, \"ticks\": \"\"}}, \"colorscale\": {\"diverging\": [[0, \"#8e0152\"], [0.1, \"#c51b7d\"], [0.2, \"#de77ae\"], [0.3, \"#f1b6da\"], [0.4, \"#fde0ef\"], [0.5, \"#f7f7f7\"], [0.6, \"#e6f5d0\"], [0.7, \"#b8e186\"], [0.8, \"#7fbc41\"], [0.9, \"#4d9221\"], [1, \"#276419\"]], \"sequential\": [[0.0, \"#0d0887\"], [0.1111111111111111, \"#46039f\"], [0.2222222222222222, \"#7201a8\"], [0.3333333333333333, \"#9c179e\"], [0.4444444444444444, \"#bd3786\"], [0.5555555555555556, \"#d8576b\"], [0.6666666666666666, \"#ed7953\"], [0.7777777777777778, \"#fb9f3a\"], [0.8888888888888888, \"#fdca26\"], [1.0, \"#f0f921\"]], \"sequentialminus\": [[0.0, \"#0d0887\"], [0.1111111111111111, \"#46039f\"], [0.2222222222222222, \"#7201a8\"], [0.3333333333333333, \"#9c179e\"], [0.4444444444444444, \"#bd3786\"], [0.5555555555555556, \"#d8576b\"], [0.6666666666666666, \"#ed7953\"], [0.7777777777777778, \"#fb9f3a\"], [0.8888888888888888, \"#fdca26\"], [1.0, \"#f0f921\"]]}, \"colorway\": [\"#636efa\", \"#EF553B\", \"#00cc96\", \"#ab63fa\", \"#FFA15A\", \"#19d3f3\", \"#FF6692\", \"#B6E880\", \"#FF97FF\", \"#FECB52\"], \"font\": {\"color\": \"#2a3f5f\"}, \"geo\": {\"bgcolor\": \"white\", \"lakecolor\": \"white\", \"landcolor\": \"#E5ECF6\", \"showlakes\": true, \"showland\": true, \"subunitcolor\": \"white\"}, \"hoverlabel\": {\"align\": \"left\"}, \"hovermode\": \"closest\", \"mapbox\": {\"style\": \"light\"}, \"paper_bgcolor\": \"white\", \"plot_bgcolor\": \"#E5ECF6\", \"polar\": {\"angularaxis\": {\"gridcolor\": \"white\", \"linecolor\": \"white\", \"ticks\": \"\"}, \"bgcolor\": \"#E5ECF6\", \"radialaxis\": {\"gridcolor\": \"white\", \"linecolor\": \"white\", \"ticks\": \"\"}}, \"scene\": {\"xaxis\": {\"backgroundcolor\": \"#E5ECF6\", \"gridcolor\": \"white\", \"gridwidth\": 2, \"linecolor\": \"white\", \"showbackground\": true, \"ticks\": \"\", \"zerolinecolor\": \"white\"}, \"yaxis\": {\"backgroundcolor\": \"#E5ECF6\", \"gridcolor\": \"white\", \"gridwidth\": 2, \"linecolor\": \"white\", \"showbackground\": true, \"ticks\": \"\", \"zerolinecolor\": \"white\"}, \"zaxis\": {\"backgroundcolor\": \"#E5ECF6\", \"gridcolor\": \"white\", \"gridwidth\": 2, \"linecolor\": \"white\", \"showbackground\": true, \"ticks\": \"\", \"zerolinecolor\": \"white\"}}, \"shapedefaults\": {\"line\": {\"color\": \"#2a3f5f\"}}, \"ternary\": {\"aaxis\": {\"gridcolor\": \"white\", \"linecolor\": \"white\", \"ticks\": \"\"}, \"baxis\": {\"gridcolor\": \"white\", \"linecolor\": \"white\", \"ticks\": \"\"}, \"bgcolor\": \"#E5ECF6\", \"caxis\": {\"gridcolor\": \"white\", \"linecolor\": \"white\", \"ticks\": \"\"}}, \"title\": {\"x\": 0.05}, \"xaxis\": {\"automargin\": true, \"gridcolor\": \"white\", \"linecolor\": \"white\", \"ticks\": \"\", \"title\": {\"standoff\": 15}, \"zerolinecolor\": \"white\", \"zerolinewidth\": 2}, \"yaxis\": {\"automargin\": true, \"gridcolor\": \"white\", \"linecolor\": \"white\", \"ticks\": \"\", \"title\": {\"standoff\": 15}, \"zerolinecolor\": \"white\", \"zerolinewidth\": 2}}}, \"title\": {\"text\": \"Module number 8\"}},\n",
       "                        {\"responsive\": true}\n",
       "                    ).then(function(){\n",
       "                            \n",
       "var gd = document.getElementById('b5df8ffe-c062-4a91-bc3d-8e39ac88d3c0');\n",
       "var x = new MutationObserver(function (mutations, observer) {{\n",
       "        var display = window.getComputedStyle(gd).display;\n",
       "        if (!display || display === 'none') {{\n",
       "            console.log([gd, 'removed!']);\n",
       "            Plotly.purge(gd);\n",
       "            observer.disconnect();\n",
       "        }}\n",
       "}});\n",
       "\n",
       "// Listen for the removal of the full notebook cells\n",
       "var notebookContainer = gd.closest('#notebook-container');\n",
       "if (notebookContainer) {{\n",
       "    x.observe(notebookContainer, {childList: true});\n",
       "}}\n",
       "\n",
       "// Listen for the clearing of the current output cell\n",
       "var outputEl = gd.closest('.output');\n",
       "if (outputEl) {{\n",
       "    x.observe(outputEl, {childList: true});\n",
       "}}\n",
       "\n",
       "                        })\n",
       "                };\n",
       "                });\n",
       "            </script>\n",
       "        </div>"
      ]
     },
     "metadata": {},
     "output_type": "display_data"
    },
    {
     "data": {
      "application/vnd.plotly.v1+json": {
       "config": {
        "plotlyServerURL": "https://plot.ly"
       },
       "data": [
        {
         "mode": "lines+markers",
         "name": "Pulse index: 0",
         "type": "scatter",
         "x": [
          6381770,
          6381771,
          6381772,
          6381773,
          6381774,
          6381775,
          6381776,
          6381777,
          6381778,
          6381779,
          6381780,
          6381781,
          6381782,
          6381783,
          6381784,
          6381785,
          6381786,
          6381787,
          6381788,
          6381789,
          6381790,
          6381791
         ],
         "y": [
          0.08341823518276215,
          -0.010426151566207409,
          0.054586559534072876,
          -0.07473963499069214,
          -0.4022124111652374,
          0.18123197555541992,
          0.18593312799930573,
          -0.02140194922685623,
          -0.2641901671886444,
          -0.0035454940516501665,
          0.025963006541132927,
          -0.09974122792482376,
          -0.06022978201508522,
          -0.07678784430027008,
          -0.15052653849124908,
          -0.025629615411162376,
          0.548945963382721,
          -0.04413873329758644,
          -0.08131755888462067,
          0.1546790599822998,
          0.04421548172831535,
          -0.06411927193403244
         ]
        },
        {
         "mode": "lines+markers",
         "name": "Pulse index: 1",
         "type": "scatter",
         "x": [
          6381770,
          6381771,
          6381772,
          6381773,
          6381774,
          6381775,
          6381776,
          6381777,
          6381778,
          6381779,
          6381780,
          6381781,
          6381782,
          6381783,
          6381784,
          6381785,
          6381786,
          6381787,
          6381788,
          6381789,
          6381790,
          6381791
         ],
         "y": [
          -0.109086774289608,
          -0.3897489309310913,
          -0.31579604744911194,
          -0.012361116707324982,
          -0.03844156861305237,
          -0.018377060070633888,
          -0.38099968433380127,
          0.48816534876823425,
          -0.16696350276470184,
          -0.02749616652727127,
          -0.14160239696502686,
          -0.12323877960443497,
          0.0440475195646286,
          -0.13770541548728943,
          -0.028137553483247757,
          -0.12662126123905182,
          -0.049250077456235886,
          -0.31724998354911804,
          -0.013260254636406898,
          0.03902988135814667,
          -0.27568477392196655,
          0.14514049887657166
         ]
        },
        {
         "mode": "lines+markers",
         "name": "Pulse index: 2",
         "type": "scatter",
         "x": [
          6381770,
          6381771,
          6381772,
          6381773,
          6381774,
          6381775,
          6381776,
          6381777,
          6381778,
          6381779,
          6381780,
          6381781,
          6381782,
          6381783,
          6381784,
          6381785,
          6381786,
          6381787,
          6381788,
          6381789,
          6381790,
          6381791
         ],
         "y": [
          0.22434790432453156,
          -0.20966356992721558,
          -0.07434357702732086,
          -0.3707719147205353,
          -0.20086652040481567,
          -0.7988570332527161,
          0.048154573887586594,
          0.07289424538612366,
          0.00649323919788003,
          -0.012682843022048473,
          -0.05417504161596298,
          0.4403091371059418,
          0.0715513676404953,
          -0.2726140320301056,
          -2.042497158050537,
          -0.06953952461481094,
          null,
          0.07242865115404129,
          -0.012605275958776474,
          -0.027476590126752853,
          -0.05233190953731537,
          -0.0030876589007675648
         ]
        },
        {
         "mode": "lines+markers",
         "name": "Pulse index: 3",
         "type": "scatter",
         "x": [
          6381770,
          6381771,
          6381772,
          6381773,
          6381774,
          6381775,
          6381776,
          6381777,
          6381778,
          6381779,
          6381780,
          6381781,
          6381782,
          6381783,
          6381784,
          6381785,
          6381786,
          6381787,
          6381788,
          6381789,
          6381790,
          6381791
         ],
         "y": [
          -0.7211135625839233,
          -1.0115137100219727,
          -0.5703078508377075,
          -0.8447864055633545,
          -0.47653454542160034,
          -0.3515600562095642,
          -0.7614759206771851,
          -0.42128485441207886,
          -0.42500317096710205,
          -0.25770941376686096,
          -0.7872466444969177,
          -1.061659336090088,
          -1.0178921222686768,
          -0.692058265209198,
          -0.758369505405426,
          -0.8837597370147705,
          -0.6055171489715576,
          -0.16977593302726746,
          0.3659473657608032,
          0.23326325416564941,
          -0.8600805401802063,
          -0.19836755096912384
         ]
        },
        {
         "mode": "lines+markers",
         "name": "Pulse index: 4",
         "type": "scatter",
         "x": [
          6381770,
          6381771,
          6381772,
          6381773,
          6381774,
          6381775,
          6381776,
          6381777,
          6381778,
          6381779,
          6381780,
          6381781,
          6381782,
          6381783,
          6381784,
          6381785,
          6381786,
          6381787,
          6381788,
          6381789,
          6381790,
          6381791
         ],
         "y": [
          -0.3945762813091278,
          -0.3060777187347412,
          -0.22837425768375397,
          -0.6507066488265991,
          -0.45105820894241333,
          -0.31988999247550964,
          -0.20348194241523743,
          -0.08051081001758575,
          0.3067241609096527,
          0.16855651140213013,
          -0.21754932403564453,
          -0.3018205165863037,
          -0.5694390535354614,
          -0.2397555708885193,
          -0.5167727470397949,
          -0.3137267231941223,
          -0.35839489102363586,
          -0.47293680906295776,
          0.030692126601934433,
          0.04938635230064392,
          -0.22949238121509552,
          -0.16092617809772491
         ]
        },
        {
         "mode": "lines+markers",
         "name": "Pulse index: 5",
         "type": "scatter",
         "x": [
          6381770,
          6381771,
          6381772,
          6381773,
          6381774,
          6381775,
          6381776,
          6381777,
          6381778,
          6381779,
          6381780,
          6381781,
          6381782,
          6381783,
          6381784,
          6381785,
          6381786,
          6381787,
          6381788,
          6381789,
          6381790,
          6381791
         ],
         "y": [
          -0.35510095953941345,
          -0.4710371494293213,
          -0.06921570003032684,
          -0.08930738270282745,
          -0.16707351803779602,
          0.13053272664546967,
          0.09113941341638565,
          0.0615825280547142,
          0.1410503089427948,
          -0.187168687582016,
          0.2458665817975998,
          -0.5152974128723145,
          -0.331496924161911,
          -0.6179853677749634,
          -0.6186734437942505,
          -0.12105055898427963,
          -0.2840738296508789,
          -0.17579345405101776,
          0.3358311355113983,
          0.5746094584465027,
          -0.4003088176250458,
          0.09158232808113098
         ]
        },
        {
         "mode": "lines+markers",
         "name": "Pulse index: 6",
         "type": "scatter",
         "x": [
          6381770,
          6381771,
          6381772,
          6381773,
          6381774,
          6381775,
          6381776,
          6381777,
          6381778,
          6381779,
          6381780,
          6381781,
          6381782,
          6381783,
          6381784,
          6381785,
          6381786,
          6381787,
          6381788,
          6381789,
          6381790,
          6381791
         ],
         "y": [
          -0.32835257053375244,
          -0.39665770530700684,
          -0.09509339183568954,
          -0.4989855885505676,
          -0.06329777091741562,
          0.23712648451328278,
          -0.11888980865478516,
          -0.31627076864242554,
          -0.5709649920463562,
          -0.4141845703125,
          -0.5294646620750427,
          -0.7281494140625,
          -0.8887205719947815,
          -1.0643858909606934,
          -0.8710169792175293,
          -0.5365533232688904,
          -0.8506352305412292,
          -0.17729927599430084,
          -0.4522906541824341,
          0.3640384078025818,
          -0.6096093058586121,
          -0.4711151123046875
         ]
        },
        {
         "mode": "lines+markers",
         "name": "Pulse index: 7",
         "type": "scatter",
         "x": [
          6381770,
          6381771,
          6381772,
          6381773,
          6381774,
          6381775,
          6381776,
          6381777,
          6381778,
          6381779,
          6381780,
          6381781,
          6381782,
          6381783,
          6381784,
          6381785,
          6381786,
          6381787,
          6381788,
          6381789,
          6381790,
          6381791
         ],
         "y": [
          -0.17256733775138855,
          -0.2676681578159332,
          0.1636914312839508,
          -0.38907501101493835,
          -0.26369598507881165,
          0.002076053526252508,
          0.4605105519294739,
          -0.19739536941051483,
          0.008675801567733288,
          -0.14956212043762207,
          -0.2653445303440094,
          -0.8623124957084656,
          -0.45157554745674133,
          -0.6035481691360474,
          -0.5908282995223999,
          -0.39980804920196533,
          -0.5883960127830505,
          -0.32449084520339966,
          0.09839565306901932,
          -0.002827220596373081,
          -0.38746151328086853,
          -0.18020956218242645
         ]
        },
        {
         "mode": "lines+markers",
         "name": "Pulse index: 8",
         "type": "scatter",
         "x": [
          6381770,
          6381771,
          6381772,
          6381773,
          6381774,
          6381775,
          6381776,
          6381777,
          6381778,
          6381779,
          6381780,
          6381781,
          6381782,
          6381783,
          6381784,
          6381785,
          6381786,
          6381787,
          6381788,
          6381789,
          6381790,
          6381791
         ],
         "y": [
          0.015551809221506119,
          -0.1857749968767166,
          -0.17902521789073944,
          -0.8391563296318054,
          -0.5595676898956299,
          -0.5543162822723389,
          -0.17067678272724152,
          -0.4884403347969055,
          -0.3141111135482788,
          -0.3411606550216675,
          -0.795886218547821,
          -0.7487927079200745,
          -0.8099194169044495,
          -0.6554960012435913,
          -1.150680661201477,
          -0.3863413333892822,
          -0.7575575113296509,
          -0.368299663066864,
          -0.4365293085575104,
          0.08764014393091202,
          -0.17931029200553894,
          0.33998769521713257
         ]
        },
        {
         "mode": "lines+markers",
         "name": "Pulse index: 9",
         "type": "scatter",
         "x": [
          6381770,
          6381771,
          6381772,
          6381773,
          6381774,
          6381775,
          6381776,
          6381777,
          6381778,
          6381779,
          6381780,
          6381781,
          6381782,
          6381783,
          6381784,
          6381785,
          6381786,
          6381787,
          6381788,
          6381789,
          6381790,
          6381791
         ],
         "y": [
          -0.5707167387008667,
          -0.48995035886764526,
          -0.7361987233161926,
          -0.7548875212669373,
          -0.5146543383598328,
          -0.283084511756897,
          -0.5312492251396179,
          -0.5014872550964355,
          -0.29022133350372314,
          -0.44920268654823303,
          -0.32395118474960327,
          -1.1941605806350708,
          -0.9199334383010864,
          -0.9885542392730713,
          -1.0328724384307861,
          -0.5629929900169373,
          -0.4393986761569977,
          -0.20216941833496094,
          0.4035959541797638,
          0.04173855483531952,
          -0.33868569135665894,
          -0.22110515832901
         ]
        },
        {
         "mode": "lines+markers",
         "name": "Pulse index: 10",
         "type": "scatter",
         "x": [
          6381770,
          6381771,
          6381772,
          6381773,
          6381774,
          6381775,
          6381776,
          6381777,
          6381778,
          6381779,
          6381780,
          6381781,
          6381782,
          6381783,
          6381784,
          6381785,
          6381786,
          6381787,
          6381788,
          6381789,
          6381790,
          6381791
         ],
         "y": [
          -0.055750466883182526,
          -0.21197982132434845,
          -0.6855618357658386,
          -0.4133225679397583,
          -0.3551340401172638,
          -0.035329438745975494,
          -0.28002116084098816,
          -0.23046432435512543,
          -0.24398298561573029,
          -0.20298324525356293,
          -0.4116196930408478,
          -0.4200913906097412,
          -0.4607822895050049,
          -0.3762929439544678,
          -0.7807075381278992,
          -0.07977340370416641,
          -0.05647308751940727,
          -0.182414248585701,
          0.23874716460704803,
          0.10757587850093842,
          -0.6096107959747314,
          -0.24417994916439056
         ]
        }
       ],
       "layout": {
        "template": {
         "data": {
          "bar": [
           {
            "error_x": {
             "color": "#2a3f5f"
            },
            "error_y": {
             "color": "#2a3f5f"
            },
            "marker": {
             "line": {
              "color": "#E5ECF6",
              "width": 0.5
             }
            },
            "type": "bar"
           }
          ],
          "barpolar": [
           {
            "marker": {
             "line": {
              "color": "#E5ECF6",
              "width": 0.5
             }
            },
            "type": "barpolar"
           }
          ],
          "carpet": [
           {
            "aaxis": {
             "endlinecolor": "#2a3f5f",
             "gridcolor": "white",
             "linecolor": "white",
             "minorgridcolor": "white",
             "startlinecolor": "#2a3f5f"
            },
            "baxis": {
             "endlinecolor": "#2a3f5f",
             "gridcolor": "white",
             "linecolor": "white",
             "minorgridcolor": "white",
             "startlinecolor": "#2a3f5f"
            },
            "type": "carpet"
           }
          ],
          "choropleth": [
           {
            "colorbar": {
             "outlinewidth": 0,
             "ticks": ""
            },
            "type": "choropleth"
           }
          ],
          "contour": [
           {
            "colorbar": {
             "outlinewidth": 0,
             "ticks": ""
            },
            "colorscale": [
             [
              0,
              "#0d0887"
             ],
             [
              0.1111111111111111,
              "#46039f"
             ],
             [
              0.2222222222222222,
              "#7201a8"
             ],
             [
              0.3333333333333333,
              "#9c179e"
             ],
             [
              0.4444444444444444,
              "#bd3786"
             ],
             [
              0.5555555555555556,
              "#d8576b"
             ],
             [
              0.6666666666666666,
              "#ed7953"
             ],
             [
              0.7777777777777778,
              "#fb9f3a"
             ],
             [
              0.8888888888888888,
              "#fdca26"
             ],
             [
              1,
              "#f0f921"
             ]
            ],
            "type": "contour"
           }
          ],
          "contourcarpet": [
           {
            "colorbar": {
             "outlinewidth": 0,
             "ticks": ""
            },
            "type": "contourcarpet"
           }
          ],
          "heatmap": [
           {
            "colorbar": {
             "outlinewidth": 0,
             "ticks": ""
            },
            "colorscale": [
             [
              0,
              "#0d0887"
             ],
             [
              0.1111111111111111,
              "#46039f"
             ],
             [
              0.2222222222222222,
              "#7201a8"
             ],
             [
              0.3333333333333333,
              "#9c179e"
             ],
             [
              0.4444444444444444,
              "#bd3786"
             ],
             [
              0.5555555555555556,
              "#d8576b"
             ],
             [
              0.6666666666666666,
              "#ed7953"
             ],
             [
              0.7777777777777778,
              "#fb9f3a"
             ],
             [
              0.8888888888888888,
              "#fdca26"
             ],
             [
              1,
              "#f0f921"
             ]
            ],
            "type": "heatmap"
           }
          ],
          "heatmapgl": [
           {
            "colorbar": {
             "outlinewidth": 0,
             "ticks": ""
            },
            "colorscale": [
             [
              0,
              "#0d0887"
             ],
             [
              0.1111111111111111,
              "#46039f"
             ],
             [
              0.2222222222222222,
              "#7201a8"
             ],
             [
              0.3333333333333333,
              "#9c179e"
             ],
             [
              0.4444444444444444,
              "#bd3786"
             ],
             [
              0.5555555555555556,
              "#d8576b"
             ],
             [
              0.6666666666666666,
              "#ed7953"
             ],
             [
              0.7777777777777778,
              "#fb9f3a"
             ],
             [
              0.8888888888888888,
              "#fdca26"
             ],
             [
              1,
              "#f0f921"
             ]
            ],
            "type": "heatmapgl"
           }
          ],
          "histogram": [
           {
            "marker": {
             "colorbar": {
              "outlinewidth": 0,
              "ticks": ""
             }
            },
            "type": "histogram"
           }
          ],
          "histogram2d": [
           {
            "colorbar": {
             "outlinewidth": 0,
             "ticks": ""
            },
            "colorscale": [
             [
              0,
              "#0d0887"
             ],
             [
              0.1111111111111111,
              "#46039f"
             ],
             [
              0.2222222222222222,
              "#7201a8"
             ],
             [
              0.3333333333333333,
              "#9c179e"
             ],
             [
              0.4444444444444444,
              "#bd3786"
             ],
             [
              0.5555555555555556,
              "#d8576b"
             ],
             [
              0.6666666666666666,
              "#ed7953"
             ],
             [
              0.7777777777777778,
              "#fb9f3a"
             ],
             [
              0.8888888888888888,
              "#fdca26"
             ],
             [
              1,
              "#f0f921"
             ]
            ],
            "type": "histogram2d"
           }
          ],
          "histogram2dcontour": [
           {
            "colorbar": {
             "outlinewidth": 0,
             "ticks": ""
            },
            "colorscale": [
             [
              0,
              "#0d0887"
             ],
             [
              0.1111111111111111,
              "#46039f"
             ],
             [
              0.2222222222222222,
              "#7201a8"
             ],
             [
              0.3333333333333333,
              "#9c179e"
             ],
             [
              0.4444444444444444,
              "#bd3786"
             ],
             [
              0.5555555555555556,
              "#d8576b"
             ],
             [
              0.6666666666666666,
              "#ed7953"
             ],
             [
              0.7777777777777778,
              "#fb9f3a"
             ],
             [
              0.8888888888888888,
              "#fdca26"
             ],
             [
              1,
              "#f0f921"
             ]
            ],
            "type": "histogram2dcontour"
           }
          ],
          "mesh3d": [
           {
            "colorbar": {
             "outlinewidth": 0,
             "ticks": ""
            },
            "type": "mesh3d"
           }
          ],
          "parcoords": [
           {
            "line": {
             "colorbar": {
              "outlinewidth": 0,
              "ticks": ""
             }
            },
            "type": "parcoords"
           }
          ],
          "pie": [
           {
            "automargin": true,
            "type": "pie"
           }
          ],
          "scatter": [
           {
            "marker": {
             "colorbar": {
              "outlinewidth": 0,
              "ticks": ""
             }
            },
            "type": "scatter"
           }
          ],
          "scatter3d": [
           {
            "line": {
             "colorbar": {
              "outlinewidth": 0,
              "ticks": ""
             }
            },
            "marker": {
             "colorbar": {
              "outlinewidth": 0,
              "ticks": ""
             }
            },
            "type": "scatter3d"
           }
          ],
          "scattercarpet": [
           {
            "marker": {
             "colorbar": {
              "outlinewidth": 0,
              "ticks": ""
             }
            },
            "type": "scattercarpet"
           }
          ],
          "scattergeo": [
           {
            "marker": {
             "colorbar": {
              "outlinewidth": 0,
              "ticks": ""
             }
            },
            "type": "scattergeo"
           }
          ],
          "scattergl": [
           {
            "marker": {
             "colorbar": {
              "outlinewidth": 0,
              "ticks": ""
             }
            },
            "type": "scattergl"
           }
          ],
          "scattermapbox": [
           {
            "marker": {
             "colorbar": {
              "outlinewidth": 0,
              "ticks": ""
             }
            },
            "type": "scattermapbox"
           }
          ],
          "scatterpolar": [
           {
            "marker": {
             "colorbar": {
              "outlinewidth": 0,
              "ticks": ""
             }
            },
            "type": "scatterpolar"
           }
          ],
          "scatterpolargl": [
           {
            "marker": {
             "colorbar": {
              "outlinewidth": 0,
              "ticks": ""
             }
            },
            "type": "scatterpolargl"
           }
          ],
          "scatterternary": [
           {
            "marker": {
             "colorbar": {
              "outlinewidth": 0,
              "ticks": ""
             }
            },
            "type": "scatterternary"
           }
          ],
          "surface": [
           {
            "colorbar": {
             "outlinewidth": 0,
             "ticks": ""
            },
            "colorscale": [
             [
              0,
              "#0d0887"
             ],
             [
              0.1111111111111111,
              "#46039f"
             ],
             [
              0.2222222222222222,
              "#7201a8"
             ],
             [
              0.3333333333333333,
              "#9c179e"
             ],
             [
              0.4444444444444444,
              "#bd3786"
             ],
             [
              0.5555555555555556,
              "#d8576b"
             ],
             [
              0.6666666666666666,
              "#ed7953"
             ],
             [
              0.7777777777777778,
              "#fb9f3a"
             ],
             [
              0.8888888888888888,
              "#fdca26"
             ],
             [
              1,
              "#f0f921"
             ]
            ],
            "type": "surface"
           }
          ],
          "table": [
           {
            "cells": {
             "fill": {
              "color": "#EBF0F8"
             },
             "line": {
              "color": "white"
             }
            },
            "header": {
             "fill": {
              "color": "#C8D4E3"
             },
             "line": {
              "color": "white"
             }
            },
            "type": "table"
           }
          ]
         },
         "layout": {
          "annotationdefaults": {
           "arrowcolor": "#2a3f5f",
           "arrowhead": 0,
           "arrowwidth": 1
          },
          "coloraxis": {
           "colorbar": {
            "outlinewidth": 0,
            "ticks": ""
           }
          },
          "colorscale": {
           "diverging": [
            [
             0,
             "#8e0152"
            ],
            [
             0.1,
             "#c51b7d"
            ],
            [
             0.2,
             "#de77ae"
            ],
            [
             0.3,
             "#f1b6da"
            ],
            [
             0.4,
             "#fde0ef"
            ],
            [
             0.5,
             "#f7f7f7"
            ],
            [
             0.6,
             "#e6f5d0"
            ],
            [
             0.7,
             "#b8e186"
            ],
            [
             0.8,
             "#7fbc41"
            ],
            [
             0.9,
             "#4d9221"
            ],
            [
             1,
             "#276419"
            ]
           ],
           "sequential": [
            [
             0,
             "#0d0887"
            ],
            [
             0.1111111111111111,
             "#46039f"
            ],
            [
             0.2222222222222222,
             "#7201a8"
            ],
            [
             0.3333333333333333,
             "#9c179e"
            ],
            [
             0.4444444444444444,
             "#bd3786"
            ],
            [
             0.5555555555555556,
             "#d8576b"
            ],
            [
             0.6666666666666666,
             "#ed7953"
            ],
            [
             0.7777777777777778,
             "#fb9f3a"
            ],
            [
             0.8888888888888888,
             "#fdca26"
            ],
            [
             1,
             "#f0f921"
            ]
           ],
           "sequentialminus": [
            [
             0,
             "#0d0887"
            ],
            [
             0.1111111111111111,
             "#46039f"
            ],
            [
             0.2222222222222222,
             "#7201a8"
            ],
            [
             0.3333333333333333,
             "#9c179e"
            ],
            [
             0.4444444444444444,
             "#bd3786"
            ],
            [
             0.5555555555555556,
             "#d8576b"
            ],
            [
             0.6666666666666666,
             "#ed7953"
            ],
            [
             0.7777777777777778,
             "#fb9f3a"
            ],
            [
             0.8888888888888888,
             "#fdca26"
            ],
            [
             1,
             "#f0f921"
            ]
           ]
          },
          "colorway": [
           "#636efa",
           "#EF553B",
           "#00cc96",
           "#ab63fa",
           "#FFA15A",
           "#19d3f3",
           "#FF6692",
           "#B6E880",
           "#FF97FF",
           "#FECB52"
          ],
          "font": {
           "color": "#2a3f5f"
          },
          "geo": {
           "bgcolor": "white",
           "lakecolor": "white",
           "landcolor": "#E5ECF6",
           "showlakes": true,
           "showland": true,
           "subunitcolor": "white"
          },
          "hoverlabel": {
           "align": "left"
          },
          "hovermode": "closest",
          "mapbox": {
           "style": "light"
          },
          "paper_bgcolor": "white",
          "plot_bgcolor": "#E5ECF6",
          "polar": {
           "angularaxis": {
            "gridcolor": "white",
            "linecolor": "white",
            "ticks": ""
           },
           "bgcolor": "#E5ECF6",
           "radialaxis": {
            "gridcolor": "white",
            "linecolor": "white",
            "ticks": ""
           }
          },
          "scene": {
           "xaxis": {
            "backgroundcolor": "#E5ECF6",
            "gridcolor": "white",
            "gridwidth": 2,
            "linecolor": "white",
            "showbackground": true,
            "ticks": "",
            "zerolinecolor": "white"
           },
           "yaxis": {
            "backgroundcolor": "#E5ECF6",
            "gridcolor": "white",
            "gridwidth": 2,
            "linecolor": "white",
            "showbackground": true,
            "ticks": "",
            "zerolinecolor": "white"
           },
           "zaxis": {
            "backgroundcolor": "#E5ECF6",
            "gridcolor": "white",
            "gridwidth": 2,
            "linecolor": "white",
            "showbackground": true,
            "ticks": "",
            "zerolinecolor": "white"
           }
          },
          "shapedefaults": {
           "line": {
            "color": "#2a3f5f"
           }
          },
          "ternary": {
           "aaxis": {
            "gridcolor": "white",
            "linecolor": "white",
            "ticks": ""
           },
           "baxis": {
            "gridcolor": "white",
            "linecolor": "white",
            "ticks": ""
           },
           "bgcolor": "#E5ECF6",
           "caxis": {
            "gridcolor": "white",
            "linecolor": "white",
            "ticks": ""
           }
          },
          "title": {
           "x": 0.05
          },
          "xaxis": {
           "automargin": true,
           "gridcolor": "white",
           "linecolor": "white",
           "ticks": "",
           "title": {
            "standoff": 15
           },
           "zerolinecolor": "white",
           "zerolinewidth": 2
          },
          "yaxis": {
           "automargin": true,
           "gridcolor": "white",
           "linecolor": "white",
           "ticks": "",
           "title": {
            "standoff": 15
           },
           "zerolinecolor": "white",
           "zerolinewidth": 2
          }
         }
        },
        "title": {
         "text": "Module number 9"
        }
       }
      },
      "text/html": [
       "<div>\n",
       "        \n",
       "        \n",
       "            <div id=\"4e4da2be-5264-4f21-9d69-1a660d7c213f\" class=\"plotly-graph-div\" style=\"height:525px; width:100%;\"></div>\n",
       "            <script type=\"text/javascript\">\n",
       "                require([\"plotly\"], function(Plotly) {\n",
       "                    window.PLOTLYENV=window.PLOTLYENV || {};\n",
       "                    \n",
       "                if (document.getElementById(\"4e4da2be-5264-4f21-9d69-1a660d7c213f\")) {\n",
       "                    Plotly.newPlot(\n",
       "                        '4e4da2be-5264-4f21-9d69-1a660d7c213f',\n",
       "                        [{\"mode\": \"lines+markers\", \"name\": \"Pulse index: 0\", \"type\": \"scatter\", \"x\": [6381770, 6381771, 6381772, 6381773, 6381774, 6381775, 6381776, 6381777, 6381778, 6381779, 6381780, 6381781, 6381782, 6381783, 6381784, 6381785, 6381786, 6381787, 6381788, 6381789, 6381790, 6381791], \"y\": [0.08341823518276215, -0.010426151566207409, 0.054586559534072876, -0.07473963499069214, -0.4022124111652374, 0.18123197555541992, 0.18593312799930573, -0.02140194922685623, -0.2641901671886444, -0.0035454940516501665, 0.025963006541132927, -0.09974122792482376, -0.06022978201508522, -0.07678784430027008, -0.15052653849124908, -0.025629615411162376, 0.548945963382721, -0.04413873329758644, -0.08131755888462067, 0.1546790599822998, 0.04421548172831535, -0.06411927193403244]}, {\"mode\": \"lines+markers\", \"name\": \"Pulse index: 1\", \"type\": \"scatter\", \"x\": [6381770, 6381771, 6381772, 6381773, 6381774, 6381775, 6381776, 6381777, 6381778, 6381779, 6381780, 6381781, 6381782, 6381783, 6381784, 6381785, 6381786, 6381787, 6381788, 6381789, 6381790, 6381791], \"y\": [-0.109086774289608, -0.3897489309310913, -0.31579604744911194, -0.012361116707324982, -0.03844156861305237, -0.018377060070633888, -0.38099968433380127, 0.48816534876823425, -0.16696350276470184, -0.02749616652727127, -0.14160239696502686, -0.12323877960443497, 0.0440475195646286, -0.13770541548728943, -0.028137553483247757, -0.12662126123905182, -0.049250077456235886, -0.31724998354911804, -0.013260254636406898, 0.03902988135814667, -0.27568477392196655, 0.14514049887657166]}, {\"mode\": \"lines+markers\", \"name\": \"Pulse index: 2\", \"type\": \"scatter\", \"x\": [6381770, 6381771, 6381772, 6381773, 6381774, 6381775, 6381776, 6381777, 6381778, 6381779, 6381780, 6381781, 6381782, 6381783, 6381784, 6381785, 6381786, 6381787, 6381788, 6381789, 6381790, 6381791], \"y\": [0.22434790432453156, -0.20966356992721558, -0.07434357702732086, -0.3707719147205353, -0.20086652040481567, -0.7988570332527161, 0.048154573887586594, 0.07289424538612366, 0.00649323919788003, -0.012682843022048473, -0.05417504161596298, 0.4403091371059418, 0.0715513676404953, -0.2726140320301056, -2.042497158050537, -0.06953952461481094, null, 0.07242865115404129, -0.012605275958776474, -0.027476590126752853, -0.05233190953731537, -0.0030876589007675648]}, {\"mode\": \"lines+markers\", \"name\": \"Pulse index: 3\", \"type\": \"scatter\", \"x\": [6381770, 6381771, 6381772, 6381773, 6381774, 6381775, 6381776, 6381777, 6381778, 6381779, 6381780, 6381781, 6381782, 6381783, 6381784, 6381785, 6381786, 6381787, 6381788, 6381789, 6381790, 6381791], \"y\": [-0.7211135625839233, -1.0115137100219727, -0.5703078508377075, -0.8447864055633545, -0.47653454542160034, -0.3515600562095642, -0.7614759206771851, -0.42128485441207886, -0.42500317096710205, -0.25770941376686096, -0.7872466444969177, -1.061659336090088, -1.0178921222686768, -0.692058265209198, -0.758369505405426, -0.8837597370147705, -0.6055171489715576, -0.16977593302726746, 0.3659473657608032, 0.23326325416564941, -0.8600805401802063, -0.19836755096912384]}, {\"mode\": \"lines+markers\", \"name\": \"Pulse index: 4\", \"type\": \"scatter\", \"x\": [6381770, 6381771, 6381772, 6381773, 6381774, 6381775, 6381776, 6381777, 6381778, 6381779, 6381780, 6381781, 6381782, 6381783, 6381784, 6381785, 6381786, 6381787, 6381788, 6381789, 6381790, 6381791], \"y\": [-0.3945762813091278, -0.3060777187347412, -0.22837425768375397, -0.6507066488265991, -0.45105820894241333, -0.31988999247550964, -0.20348194241523743, -0.08051081001758575, 0.3067241609096527, 0.16855651140213013, -0.21754932403564453, -0.3018205165863037, -0.5694390535354614, -0.2397555708885193, -0.5167727470397949, -0.3137267231941223, -0.35839489102363586, -0.47293680906295776, 0.030692126601934433, 0.04938635230064392, -0.22949238121509552, -0.16092617809772491]}, {\"mode\": \"lines+markers\", \"name\": \"Pulse index: 5\", \"type\": \"scatter\", \"x\": [6381770, 6381771, 6381772, 6381773, 6381774, 6381775, 6381776, 6381777, 6381778, 6381779, 6381780, 6381781, 6381782, 6381783, 6381784, 6381785, 6381786, 6381787, 6381788, 6381789, 6381790, 6381791], \"y\": [-0.35510095953941345, -0.4710371494293213, -0.06921570003032684, -0.08930738270282745, -0.16707351803779602, 0.13053272664546967, 0.09113941341638565, 0.0615825280547142, 0.1410503089427948, -0.187168687582016, 0.2458665817975998, -0.5152974128723145, -0.331496924161911, -0.6179853677749634, -0.6186734437942505, -0.12105055898427963, -0.2840738296508789, -0.17579345405101776, 0.3358311355113983, 0.5746094584465027, -0.4003088176250458, 0.09158232808113098]}, {\"mode\": \"lines+markers\", \"name\": \"Pulse index: 6\", \"type\": \"scatter\", \"x\": [6381770, 6381771, 6381772, 6381773, 6381774, 6381775, 6381776, 6381777, 6381778, 6381779, 6381780, 6381781, 6381782, 6381783, 6381784, 6381785, 6381786, 6381787, 6381788, 6381789, 6381790, 6381791], \"y\": [-0.32835257053375244, -0.39665770530700684, -0.09509339183568954, -0.4989855885505676, -0.06329777091741562, 0.23712648451328278, -0.11888980865478516, -0.31627076864242554, -0.5709649920463562, -0.4141845703125, -0.5294646620750427, -0.7281494140625, -0.8887205719947815, -1.0643858909606934, -0.8710169792175293, -0.5365533232688904, -0.8506352305412292, -0.17729927599430084, -0.4522906541824341, 0.3640384078025818, -0.6096093058586121, -0.4711151123046875]}, {\"mode\": \"lines+markers\", \"name\": \"Pulse index: 7\", \"type\": \"scatter\", \"x\": [6381770, 6381771, 6381772, 6381773, 6381774, 6381775, 6381776, 6381777, 6381778, 6381779, 6381780, 6381781, 6381782, 6381783, 6381784, 6381785, 6381786, 6381787, 6381788, 6381789, 6381790, 6381791], \"y\": [-0.17256733775138855, -0.2676681578159332, 0.1636914312839508, -0.38907501101493835, -0.26369598507881165, 0.002076053526252508, 0.4605105519294739, -0.19739536941051483, 0.008675801567733288, -0.14956212043762207, -0.2653445303440094, -0.8623124957084656, -0.45157554745674133, -0.6035481691360474, -0.5908282995223999, -0.39980804920196533, -0.5883960127830505, -0.32449084520339966, 0.09839565306901932, -0.002827220596373081, -0.38746151328086853, -0.18020956218242645]}, {\"mode\": \"lines+markers\", \"name\": \"Pulse index: 8\", \"type\": \"scatter\", \"x\": [6381770, 6381771, 6381772, 6381773, 6381774, 6381775, 6381776, 6381777, 6381778, 6381779, 6381780, 6381781, 6381782, 6381783, 6381784, 6381785, 6381786, 6381787, 6381788, 6381789, 6381790, 6381791], \"y\": [0.015551809221506119, -0.1857749968767166, -0.17902521789073944, -0.8391563296318054, -0.5595676898956299, -0.5543162822723389, -0.17067678272724152, -0.4884403347969055, -0.3141111135482788, -0.3411606550216675, -0.795886218547821, -0.7487927079200745, -0.8099194169044495, -0.6554960012435913, -1.150680661201477, -0.3863413333892822, -0.7575575113296509, -0.368299663066864, -0.4365293085575104, 0.08764014393091202, -0.17931029200553894, 0.33998769521713257]}, {\"mode\": \"lines+markers\", \"name\": \"Pulse index: 9\", \"type\": \"scatter\", \"x\": [6381770, 6381771, 6381772, 6381773, 6381774, 6381775, 6381776, 6381777, 6381778, 6381779, 6381780, 6381781, 6381782, 6381783, 6381784, 6381785, 6381786, 6381787, 6381788, 6381789, 6381790, 6381791], \"y\": [-0.5707167387008667, -0.48995035886764526, -0.7361987233161926, -0.7548875212669373, -0.5146543383598328, -0.283084511756897, -0.5312492251396179, -0.5014872550964355, -0.29022133350372314, -0.44920268654823303, -0.32395118474960327, -1.1941605806350708, -0.9199334383010864, -0.9885542392730713, -1.0328724384307861, -0.5629929900169373, -0.4393986761569977, -0.20216941833496094, 0.4035959541797638, 0.04173855483531952, -0.33868569135665894, -0.22110515832901]}, {\"mode\": \"lines+markers\", \"name\": \"Pulse index: 10\", \"type\": \"scatter\", \"x\": [6381770, 6381771, 6381772, 6381773, 6381774, 6381775, 6381776, 6381777, 6381778, 6381779, 6381780, 6381781, 6381782, 6381783, 6381784, 6381785, 6381786, 6381787, 6381788, 6381789, 6381790, 6381791], \"y\": [-0.055750466883182526, -0.21197982132434845, -0.6855618357658386, -0.4133225679397583, -0.3551340401172638, -0.035329438745975494, -0.28002116084098816, -0.23046432435512543, -0.24398298561573029, -0.20298324525356293, -0.4116196930408478, -0.4200913906097412, -0.4607822895050049, -0.3762929439544678, -0.7807075381278992, -0.07977340370416641, -0.05647308751940727, -0.182414248585701, 0.23874716460704803, 0.10757587850093842, -0.6096107959747314, -0.24417994916439056]}],\n",
       "                        {\"template\": {\"data\": {\"bar\": [{\"error_x\": {\"color\": \"#2a3f5f\"}, \"error_y\": {\"color\": \"#2a3f5f\"}, \"marker\": {\"line\": {\"color\": \"#E5ECF6\", \"width\": 0.5}}, \"type\": \"bar\"}], \"barpolar\": [{\"marker\": {\"line\": {\"color\": \"#E5ECF6\", \"width\": 0.5}}, \"type\": \"barpolar\"}], \"carpet\": [{\"aaxis\": {\"endlinecolor\": \"#2a3f5f\", \"gridcolor\": \"white\", \"linecolor\": \"white\", \"minorgridcolor\": \"white\", \"startlinecolor\": \"#2a3f5f\"}, \"baxis\": {\"endlinecolor\": \"#2a3f5f\", \"gridcolor\": \"white\", \"linecolor\": \"white\", \"minorgridcolor\": \"white\", \"startlinecolor\": \"#2a3f5f\"}, \"type\": \"carpet\"}], \"choropleth\": [{\"colorbar\": {\"outlinewidth\": 0, \"ticks\": \"\"}, \"type\": \"choropleth\"}], \"contour\": [{\"colorbar\": {\"outlinewidth\": 0, \"ticks\": \"\"}, \"colorscale\": [[0.0, \"#0d0887\"], [0.1111111111111111, \"#46039f\"], [0.2222222222222222, \"#7201a8\"], [0.3333333333333333, \"#9c179e\"], [0.4444444444444444, \"#bd3786\"], [0.5555555555555556, \"#d8576b\"], [0.6666666666666666, \"#ed7953\"], [0.7777777777777778, \"#fb9f3a\"], [0.8888888888888888, \"#fdca26\"], [1.0, \"#f0f921\"]], \"type\": \"contour\"}], \"contourcarpet\": [{\"colorbar\": {\"outlinewidth\": 0, \"ticks\": \"\"}, \"type\": \"contourcarpet\"}], \"heatmap\": [{\"colorbar\": {\"outlinewidth\": 0, \"ticks\": \"\"}, \"colorscale\": [[0.0, \"#0d0887\"], [0.1111111111111111, \"#46039f\"], [0.2222222222222222, \"#7201a8\"], [0.3333333333333333, \"#9c179e\"], [0.4444444444444444, \"#bd3786\"], [0.5555555555555556, \"#d8576b\"], [0.6666666666666666, \"#ed7953\"], [0.7777777777777778, \"#fb9f3a\"], [0.8888888888888888, \"#fdca26\"], [1.0, \"#f0f921\"]], \"type\": \"heatmap\"}], \"heatmapgl\": [{\"colorbar\": {\"outlinewidth\": 0, \"ticks\": \"\"}, \"colorscale\": [[0.0, \"#0d0887\"], [0.1111111111111111, \"#46039f\"], [0.2222222222222222, \"#7201a8\"], [0.3333333333333333, \"#9c179e\"], [0.4444444444444444, \"#bd3786\"], [0.5555555555555556, \"#d8576b\"], [0.6666666666666666, \"#ed7953\"], [0.7777777777777778, \"#fb9f3a\"], [0.8888888888888888, \"#fdca26\"], [1.0, \"#f0f921\"]], \"type\": \"heatmapgl\"}], \"histogram\": [{\"marker\": {\"colorbar\": {\"outlinewidth\": 0, \"ticks\": \"\"}}, \"type\": \"histogram\"}], \"histogram2d\": [{\"colorbar\": {\"outlinewidth\": 0, \"ticks\": \"\"}, \"colorscale\": [[0.0, \"#0d0887\"], [0.1111111111111111, \"#46039f\"], [0.2222222222222222, \"#7201a8\"], [0.3333333333333333, \"#9c179e\"], [0.4444444444444444, \"#bd3786\"], [0.5555555555555556, \"#d8576b\"], [0.6666666666666666, \"#ed7953\"], [0.7777777777777778, \"#fb9f3a\"], [0.8888888888888888, \"#fdca26\"], [1.0, \"#f0f921\"]], \"type\": \"histogram2d\"}], \"histogram2dcontour\": [{\"colorbar\": {\"outlinewidth\": 0, \"ticks\": \"\"}, \"colorscale\": [[0.0, \"#0d0887\"], [0.1111111111111111, \"#46039f\"], [0.2222222222222222, \"#7201a8\"], [0.3333333333333333, \"#9c179e\"], [0.4444444444444444, \"#bd3786\"], [0.5555555555555556, \"#d8576b\"], [0.6666666666666666, \"#ed7953\"], [0.7777777777777778, \"#fb9f3a\"], [0.8888888888888888, \"#fdca26\"], [1.0, \"#f0f921\"]], \"type\": \"histogram2dcontour\"}], \"mesh3d\": [{\"colorbar\": {\"outlinewidth\": 0, \"ticks\": \"\"}, \"type\": \"mesh3d\"}], \"parcoords\": [{\"line\": {\"colorbar\": {\"outlinewidth\": 0, \"ticks\": \"\"}}, \"type\": \"parcoords\"}], \"pie\": [{\"automargin\": true, \"type\": \"pie\"}], \"scatter\": [{\"marker\": {\"colorbar\": {\"outlinewidth\": 0, \"ticks\": \"\"}}, \"type\": \"scatter\"}], \"scatter3d\": [{\"line\": {\"colorbar\": {\"outlinewidth\": 0, \"ticks\": \"\"}}, \"marker\": {\"colorbar\": {\"outlinewidth\": 0, \"ticks\": \"\"}}, \"type\": \"scatter3d\"}], \"scattercarpet\": [{\"marker\": {\"colorbar\": {\"outlinewidth\": 0, \"ticks\": \"\"}}, \"type\": \"scattercarpet\"}], \"scattergeo\": [{\"marker\": {\"colorbar\": {\"outlinewidth\": 0, \"ticks\": \"\"}}, \"type\": \"scattergeo\"}], \"scattergl\": [{\"marker\": {\"colorbar\": {\"outlinewidth\": 0, \"ticks\": \"\"}}, \"type\": \"scattergl\"}], \"scattermapbox\": [{\"marker\": {\"colorbar\": {\"outlinewidth\": 0, \"ticks\": \"\"}}, \"type\": \"scattermapbox\"}], \"scatterpolar\": [{\"marker\": {\"colorbar\": {\"outlinewidth\": 0, \"ticks\": \"\"}}, \"type\": \"scatterpolar\"}], \"scatterpolargl\": [{\"marker\": {\"colorbar\": {\"outlinewidth\": 0, \"ticks\": \"\"}}, \"type\": \"scatterpolargl\"}], \"scatterternary\": [{\"marker\": {\"colorbar\": {\"outlinewidth\": 0, \"ticks\": \"\"}}, \"type\": \"scatterternary\"}], \"surface\": [{\"colorbar\": {\"outlinewidth\": 0, \"ticks\": \"\"}, \"colorscale\": [[0.0, \"#0d0887\"], [0.1111111111111111, \"#46039f\"], [0.2222222222222222, \"#7201a8\"], [0.3333333333333333, \"#9c179e\"], [0.4444444444444444, \"#bd3786\"], [0.5555555555555556, \"#d8576b\"], [0.6666666666666666, \"#ed7953\"], [0.7777777777777778, \"#fb9f3a\"], [0.8888888888888888, \"#fdca26\"], [1.0, \"#f0f921\"]], \"type\": \"surface\"}], \"table\": [{\"cells\": {\"fill\": {\"color\": \"#EBF0F8\"}, \"line\": {\"color\": \"white\"}}, \"header\": {\"fill\": {\"color\": \"#C8D4E3\"}, \"line\": {\"color\": \"white\"}}, \"type\": \"table\"}]}, \"layout\": {\"annotationdefaults\": {\"arrowcolor\": \"#2a3f5f\", \"arrowhead\": 0, \"arrowwidth\": 1}, \"coloraxis\": {\"colorbar\": {\"outlinewidth\": 0, \"ticks\": \"\"}}, \"colorscale\": {\"diverging\": [[0, \"#8e0152\"], [0.1, \"#c51b7d\"], [0.2, \"#de77ae\"], [0.3, \"#f1b6da\"], [0.4, \"#fde0ef\"], [0.5, \"#f7f7f7\"], [0.6, \"#e6f5d0\"], [0.7, \"#b8e186\"], [0.8, \"#7fbc41\"], [0.9, \"#4d9221\"], [1, \"#276419\"]], \"sequential\": [[0.0, \"#0d0887\"], [0.1111111111111111, \"#46039f\"], [0.2222222222222222, \"#7201a8\"], [0.3333333333333333, \"#9c179e\"], [0.4444444444444444, \"#bd3786\"], [0.5555555555555556, \"#d8576b\"], [0.6666666666666666, \"#ed7953\"], [0.7777777777777778, \"#fb9f3a\"], [0.8888888888888888, \"#fdca26\"], [1.0, \"#f0f921\"]], \"sequentialminus\": [[0.0, \"#0d0887\"], [0.1111111111111111, \"#46039f\"], [0.2222222222222222, \"#7201a8\"], [0.3333333333333333, \"#9c179e\"], [0.4444444444444444, \"#bd3786\"], [0.5555555555555556, \"#d8576b\"], [0.6666666666666666, \"#ed7953\"], [0.7777777777777778, \"#fb9f3a\"], [0.8888888888888888, \"#fdca26\"], [1.0, \"#f0f921\"]]}, \"colorway\": [\"#636efa\", \"#EF553B\", \"#00cc96\", \"#ab63fa\", \"#FFA15A\", \"#19d3f3\", \"#FF6692\", \"#B6E880\", \"#FF97FF\", \"#FECB52\"], \"font\": {\"color\": \"#2a3f5f\"}, \"geo\": {\"bgcolor\": \"white\", \"lakecolor\": \"white\", \"landcolor\": \"#E5ECF6\", \"showlakes\": true, \"showland\": true, \"subunitcolor\": \"white\"}, \"hoverlabel\": {\"align\": \"left\"}, \"hovermode\": \"closest\", \"mapbox\": {\"style\": \"light\"}, \"paper_bgcolor\": \"white\", \"plot_bgcolor\": \"#E5ECF6\", \"polar\": {\"angularaxis\": {\"gridcolor\": \"white\", \"linecolor\": \"white\", \"ticks\": \"\"}, \"bgcolor\": \"#E5ECF6\", \"radialaxis\": {\"gridcolor\": \"white\", \"linecolor\": \"white\", \"ticks\": \"\"}}, \"scene\": {\"xaxis\": {\"backgroundcolor\": \"#E5ECF6\", \"gridcolor\": \"white\", \"gridwidth\": 2, \"linecolor\": \"white\", \"showbackground\": true, \"ticks\": \"\", \"zerolinecolor\": \"white\"}, \"yaxis\": {\"backgroundcolor\": \"#E5ECF6\", \"gridcolor\": \"white\", \"gridwidth\": 2, \"linecolor\": \"white\", \"showbackground\": true, \"ticks\": \"\", \"zerolinecolor\": \"white\"}, \"zaxis\": {\"backgroundcolor\": \"#E5ECF6\", \"gridcolor\": \"white\", \"gridwidth\": 2, \"linecolor\": \"white\", \"showbackground\": true, \"ticks\": \"\", \"zerolinecolor\": \"white\"}}, \"shapedefaults\": {\"line\": {\"color\": \"#2a3f5f\"}}, \"ternary\": {\"aaxis\": {\"gridcolor\": \"white\", \"linecolor\": \"white\", \"ticks\": \"\"}, \"baxis\": {\"gridcolor\": \"white\", \"linecolor\": \"white\", \"ticks\": \"\"}, \"bgcolor\": \"#E5ECF6\", \"caxis\": {\"gridcolor\": \"white\", \"linecolor\": \"white\", \"ticks\": \"\"}}, \"title\": {\"x\": 0.05}, \"xaxis\": {\"automargin\": true, \"gridcolor\": \"white\", \"linecolor\": \"white\", \"ticks\": \"\", \"title\": {\"standoff\": 15}, \"zerolinecolor\": \"white\", \"zerolinewidth\": 2}, \"yaxis\": {\"automargin\": true, \"gridcolor\": \"white\", \"linecolor\": \"white\", \"ticks\": \"\", \"title\": {\"standoff\": 15}, \"zerolinecolor\": \"white\", \"zerolinewidth\": 2}}}, \"title\": {\"text\": \"Module number 9\"}},\n",
       "                        {\"responsive\": true}\n",
       "                    ).then(function(){\n",
       "                            \n",
       "var gd = document.getElementById('4e4da2be-5264-4f21-9d69-1a660d7c213f');\n",
       "var x = new MutationObserver(function (mutations, observer) {{\n",
       "        var display = window.getComputedStyle(gd).display;\n",
       "        if (!display || display === 'none') {{\n",
       "            console.log([gd, 'removed!']);\n",
       "            Plotly.purge(gd);\n",
       "            observer.disconnect();\n",
       "        }}\n",
       "}});\n",
       "\n",
       "// Listen for the removal of the full notebook cells\n",
       "var notebookContainer = gd.closest('#notebook-container');\n",
       "if (notebookContainer) {{\n",
       "    x.observe(notebookContainer, {childList: true});\n",
       "}}\n",
       "\n",
       "// Listen for the clearing of the current output cell\n",
       "var outputEl = gd.closest('.output');\n",
       "if (outputEl) {{\n",
       "    x.observe(outputEl, {childList: true});\n",
       "}}\n",
       "\n",
       "                        })\n",
       "                };\n",
       "                });\n",
       "            </script>\n",
       "        </div>"
      ]
     },
     "metadata": {},
     "output_type": "display_data"
    },
    {
     "data": {
      "application/vnd.plotly.v1+json": {
       "config": {
        "plotlyServerURL": "https://plot.ly"
       },
       "data": [
        {
         "mode": "lines+markers",
         "name": "Pulse index: 0",
         "type": "scatter",
         "x": [
          6381770,
          6381771,
          6381772,
          6381773,
          6381774,
          6381775,
          6381776,
          6381777,
          6381778,
          6381779,
          6381780,
          6381781,
          6381782,
          6381783,
          6381784,
          6381785,
          6381786,
          6381787,
          6381788,
          6381789,
          6381790,
          6381791
         ],
         "y": [
          -0.0895739421248436,
          -0.12246241420507431,
          -0.06867828220129013,
          -0.14891019463539124,
          -0.3745674788951874,
          0.6253852248191833,
          0.1869601309299469,
          -0.12860292196273804,
          0.6108149290084839,
          -0.1863427758216858,
          0.023826410993933678,
          -0.15107786655426025,
          -0.14928078651428223,
          0.12376517057418823,
          0.09268330782651901,
          -0.09859605133533478,
          0.005610523279756308,
          -0.05884085223078728,
          -0.23685340583324432,
          -0.31814634799957275,
          0.013016624376177788,
          -0.029472747817635536
         ]
        },
        {
         "mode": "lines+markers",
         "name": "Pulse index: 1",
         "type": "scatter",
         "x": [
          6381770,
          6381771,
          6381772,
          6381773,
          6381774,
          6381775,
          6381776,
          6381777,
          6381778,
          6381779,
          6381780,
          6381781,
          6381782,
          6381783,
          6381784,
          6381785,
          6381786,
          6381787,
          6381788,
          6381789,
          6381790,
          6381791
         ],
         "y": [
          -0.2828235924243927,
          -0.4120688736438751,
          -1.0852504968643188,
          -0.10228058695793152,
          0.046950798481702805,
          -0.019808275625109673,
          -0.7859610915184021,
          0.28400754928588867,
          0.05842481926083565,
          0.32034310698509216,
          -0.08581815659999847,
          -0.167236328125,
          0.026870043948292732,
          -0.0727478638291359,
          -0.1067935973405838,
          -0.013367538340389729,
          -0.01138739101588726,
          -1.5374711751937866,
          -0.20623034238815308,
          -0.12280045449733734,
          0.3625534474849701,
          0.24947981536388397
         ]
        },
        {
         "mode": "lines+markers",
         "name": "Pulse index: 2",
         "type": "scatter",
         "x": [
          6381770,
          6381771,
          6381772,
          6381773,
          6381774,
          6381775,
          6381776,
          6381777,
          6381778,
          6381779,
          6381780,
          6381781,
          6381782,
          6381783,
          6381784,
          6381785,
          6381786,
          6381787,
          6381788,
          6381789,
          6381790,
          6381791
         ],
         "y": [
          0.8682452440261841,
          -0.14877928793430328,
          -0.18591871857643127,
          -1.026810646057129,
          -0.2485990673303604,
          -0.19029396772384644,
          -0.035738468170166016,
          -0.5519298911094666,
          -0.1068534180521965,
          0.009849642403423786,
          -0.09584830701351166,
          0.10278991609811783,
          -0.14150077104568481,
          0.14065219461917877,
          -0.6688422560691833,
          -0.2598015069961548,
          null,
          -0.214377298951149,
          0.08638260513544083,
          -0.03425386920571327,
          -0.0328868106007576,
          -0.07625383138656616
         ]
        },
        {
         "mode": "lines+markers",
         "name": "Pulse index: 3",
         "type": "scatter",
         "x": [
          6381770,
          6381771,
          6381772,
          6381773,
          6381774,
          6381775,
          6381776,
          6381777,
          6381778,
          6381779,
          6381780,
          6381781,
          6381782,
          6381783,
          6381784,
          6381785,
          6381786,
          6381787,
          6381788,
          6381789,
          6381790,
          6381791
         ],
         "y": [
          -1.0183029174804688,
          -1.3612854480743408,
          -0.8843913078308105,
          -1.0142500400543213,
          -0.7251366972923279,
          -0.37731385231018066,
          -0.7441308498382568,
          -0.5767408013343811,
          -0.9362413883209229,
          -0.24118411540985107,
          -0.8032342791557312,
          -0.6420361399650574,
          -0.26305249333381653,
          -0.01821422576904297,
          -0.39390143752098083,
          -0.7104681134223938,
          -0.7279516458511353,
          -0.39282792806625366,
          -0.23930972814559937,
          0.17280258238315582,
          -0.798689603805542,
          -0.33205413818359375
         ]
        },
        {
         "mode": "lines+markers",
         "name": "Pulse index: 4",
         "type": "scatter",
         "x": [
          6381770,
          6381771,
          6381772,
          6381773,
          6381774,
          6381775,
          6381776,
          6381777,
          6381778,
          6381779,
          6381780,
          6381781,
          6381782,
          6381783,
          6381784,
          6381785,
          6381786,
          6381787,
          6381788,
          6381789,
          6381790,
          6381791
         ],
         "y": [
          -0.5923690795898438,
          -0.7042462229728699,
          -0.1680932343006134,
          -0.7688202261924744,
          -0.8486308455467224,
          -0.42816162109375,
          -0.37498724460601807,
          -0.031372737139463425,
          -0.13212910294532776,
          0.25710949301719666,
          -0.01680159755051136,
          -0.02866337262094021,
          -0.3766450583934784,
          -0.2143537402153015,
          -0.07770023494958878,
          -0.417327344417572,
          -0.3296809494495392,
          -0.7963438034057617,
          -0.3739234507083893,
          -0.17463502287864685,
          0.036978114396333694,
          -0.8515826463699341
         ]
        },
        {
         "mode": "lines+markers",
         "name": "Pulse index: 5",
         "type": "scatter",
         "x": [
          6381770,
          6381771,
          6381772,
          6381773,
          6381774,
          6381775,
          6381776,
          6381777,
          6381778,
          6381779,
          6381780,
          6381781,
          6381782,
          6381783,
          6381784,
          6381785,
          6381786,
          6381787,
          6381788,
          6381789,
          6381790,
          6381791
         ],
         "y": [
          -0.7409641146659851,
          -0.4480011761188507,
          -0.35489311814308167,
          -0.6503868699073792,
          -0.4242982566356659,
          -0.00012647152470890433,
          -0.3496321141719818,
          -0.2739627957344055,
          -0.18402260541915894,
          0.05856553465127945,
          -0.22495536506175995,
          -0.4756782650947571,
          -0.47047126293182373,
          -0.1549385040998459,
          -0.6958540081977844,
          -0.9074176549911499,
          -0.36192938685417175,
          -0.6024282574653625,
          -0.3601905107498169,
          -0.29232919216156006,
          -0.41293594241142273,
          -0.4777110517024994
         ]
        },
        {
         "mode": "lines+markers",
         "name": "Pulse index: 6",
         "type": "scatter",
         "x": [
          6381770,
          6381771,
          6381772,
          6381773,
          6381774,
          6381775,
          6381776,
          6381777,
          6381778,
          6381779,
          6381780,
          6381781,
          6381782,
          6381783,
          6381784,
          6381785,
          6381786,
          6381787,
          6381788,
          6381789,
          6381790,
          6381791
         ],
         "y": [
          -1.0871312618255615,
          -0.0023308086674660444,
          -0.3056080937385559,
          -0.8447486758232117,
          -0.40431079268455505,
          -0.07447189837694168,
          -0.19859236478805542,
          -0.2351205050945282,
          -0.4078874886035919,
          -0.583346426486969,
          -0.27908942103385925,
          -0.7264420986175537,
          -0.646033763885498,
          -0.6556437611579895,
          -0.6303318738937378,
          -0.4730747938156128,
          -0.5917723178863525,
          -1.0779550075531006,
          -0.8580455183982849,
          -0.3877885341644287,
          -0.7482340931892395,
          -0.9881719946861267
         ]
        },
        {
         "mode": "lines+markers",
         "name": "Pulse index: 7",
         "type": "scatter",
         "x": [
          6381770,
          6381771,
          6381772,
          6381773,
          6381774,
          6381775,
          6381776,
          6381777,
          6381778,
          6381779,
          6381780,
          6381781,
          6381782,
          6381783,
          6381784,
          6381785,
          6381786,
          6381787,
          6381788,
          6381789,
          6381790,
          6381791
         ],
         "y": [
          -0.1860431283712387,
          -0.5434854626655579,
          0.22955629229545593,
          -0.3654353618621826,
          0.03863360360264778,
          -0.04637851566076279,
          -0.03217080980539322,
          -0.06745541095733643,
          -0.33665624260902405,
          0.3617018163204193,
          -0.2529836595058441,
          -0.2508816421031952,
          0.19804273545742035,
          0.0008705854415893555,
          -0.3909110128879547,
          -0.26286718249320984,
          -0.18692418932914734,
          -0.32724103331565857,
          -0.02477083168923855,
          -0.28485020995140076,
          -0.23013836145401,
          -0.2599365711212158
         ]
        },
        {
         "mode": "lines+markers",
         "name": "Pulse index: 8",
         "type": "scatter",
         "x": [
          6381770,
          6381771,
          6381772,
          6381773,
          6381774,
          6381775,
          6381776,
          6381777,
          6381778,
          6381779,
          6381780,
          6381781,
          6381782,
          6381783,
          6381784,
          6381785,
          6381786,
          6381787,
          6381788,
          6381789,
          6381790,
          6381791
         ],
         "y": [
          -0.2948533296585083,
          -0.5049954652786255,
          -0.20754870772361755,
          -0.8440083861351013,
          -0.6872318983078003,
          -0.7036411762237549,
          -0.6428850293159485,
          -0.45471784472465515,
          -0.594598114490509,
          -0.45887240767478943,
          -0.31677255034446716,
          -0.6487705707550049,
          -0.4621182978153229,
          0.02884170599281788,
          -0.7365599870681763,
          -0.42919471859931946,
          -0.5233255624771118,
          -0.6264505386352539,
          -0.8004417419433594,
          -0.5571048855781555,
          -0.3389652371406555,
          -0.3700700104236603
         ]
        },
        {
         "mode": "lines+markers",
         "name": "Pulse index: 9",
         "type": "scatter",
         "x": [
          6381770,
          6381771,
          6381772,
          6381773,
          6381774,
          6381775,
          6381776,
          6381777,
          6381778,
          6381779,
          6381780,
          6381781,
          6381782,
          6381783,
          6381784,
          6381785,
          6381786,
          6381787,
          6381788,
          6381789,
          6381790,
          6381791
         ],
         "y": [
          -0.6101550459861755,
          -0.33609727025032043,
          -0.7152379155158997,
          -0.7620922923088074,
          -0.2953703701496124,
          -0.578219473361969,
          -0.8331173062324524,
          -0.6644850969314575,
          -0.260894775390625,
          -0.18524223566055298,
          -0.4543907344341278,
          -0.8504807949066162,
          -0.958081841468811,
          -0.9435763359069824,
          -1.1843219995498657,
          -0.7818368673324585,
          -0.3219175338745117,
          -0.2493494600057602,
          -0.37559258937835693,
          -0.41909295320510864,
          -0.8023220300674438,
          -0.585343599319458
         ]
        },
        {
         "mode": "lines+markers",
         "name": "Pulse index: 10",
         "type": "scatter",
         "x": [
          6381770,
          6381771,
          6381772,
          6381773,
          6381774,
          6381775,
          6381776,
          6381777,
          6381778,
          6381779,
          6381780,
          6381781,
          6381782,
          6381783,
          6381784,
          6381785,
          6381786,
          6381787,
          6381788,
          6381789,
          6381790,
          6381791
         ],
         "y": [
          -0.4348423182964325,
          -0.17098380625247955,
          -0.45740827918052673,
          -0.4330326318740845,
          -0.7387426495552063,
          -0.37018486857414246,
          -0.6406266093254089,
          -0.5106194019317627,
          -0.7597147226333618,
          -0.40199515223503113,
          -0.16947521269321442,
          -0.7201011776924133,
          -0.39021414518356323,
          0.20557445287704468,
          -0.5061059594154358,
          -0.2205382138490677,
          -0.13161002099514008,
          -0.6851587295532227,
          -0.3884788751602173,
          -0.2524876892566681,
          -0.7947955131530762,
          -0.6868783235549927
         ]
        }
       ],
       "layout": {
        "template": {
         "data": {
          "bar": [
           {
            "error_x": {
             "color": "#2a3f5f"
            },
            "error_y": {
             "color": "#2a3f5f"
            },
            "marker": {
             "line": {
              "color": "#E5ECF6",
              "width": 0.5
             }
            },
            "type": "bar"
           }
          ],
          "barpolar": [
           {
            "marker": {
             "line": {
              "color": "#E5ECF6",
              "width": 0.5
             }
            },
            "type": "barpolar"
           }
          ],
          "carpet": [
           {
            "aaxis": {
             "endlinecolor": "#2a3f5f",
             "gridcolor": "white",
             "linecolor": "white",
             "minorgridcolor": "white",
             "startlinecolor": "#2a3f5f"
            },
            "baxis": {
             "endlinecolor": "#2a3f5f",
             "gridcolor": "white",
             "linecolor": "white",
             "minorgridcolor": "white",
             "startlinecolor": "#2a3f5f"
            },
            "type": "carpet"
           }
          ],
          "choropleth": [
           {
            "colorbar": {
             "outlinewidth": 0,
             "ticks": ""
            },
            "type": "choropleth"
           }
          ],
          "contour": [
           {
            "colorbar": {
             "outlinewidth": 0,
             "ticks": ""
            },
            "colorscale": [
             [
              0,
              "#0d0887"
             ],
             [
              0.1111111111111111,
              "#46039f"
             ],
             [
              0.2222222222222222,
              "#7201a8"
             ],
             [
              0.3333333333333333,
              "#9c179e"
             ],
             [
              0.4444444444444444,
              "#bd3786"
             ],
             [
              0.5555555555555556,
              "#d8576b"
             ],
             [
              0.6666666666666666,
              "#ed7953"
             ],
             [
              0.7777777777777778,
              "#fb9f3a"
             ],
             [
              0.8888888888888888,
              "#fdca26"
             ],
             [
              1,
              "#f0f921"
             ]
            ],
            "type": "contour"
           }
          ],
          "contourcarpet": [
           {
            "colorbar": {
             "outlinewidth": 0,
             "ticks": ""
            },
            "type": "contourcarpet"
           }
          ],
          "heatmap": [
           {
            "colorbar": {
             "outlinewidth": 0,
             "ticks": ""
            },
            "colorscale": [
             [
              0,
              "#0d0887"
             ],
             [
              0.1111111111111111,
              "#46039f"
             ],
             [
              0.2222222222222222,
              "#7201a8"
             ],
             [
              0.3333333333333333,
              "#9c179e"
             ],
             [
              0.4444444444444444,
              "#bd3786"
             ],
             [
              0.5555555555555556,
              "#d8576b"
             ],
             [
              0.6666666666666666,
              "#ed7953"
             ],
             [
              0.7777777777777778,
              "#fb9f3a"
             ],
             [
              0.8888888888888888,
              "#fdca26"
             ],
             [
              1,
              "#f0f921"
             ]
            ],
            "type": "heatmap"
           }
          ],
          "heatmapgl": [
           {
            "colorbar": {
             "outlinewidth": 0,
             "ticks": ""
            },
            "colorscale": [
             [
              0,
              "#0d0887"
             ],
             [
              0.1111111111111111,
              "#46039f"
             ],
             [
              0.2222222222222222,
              "#7201a8"
             ],
             [
              0.3333333333333333,
              "#9c179e"
             ],
             [
              0.4444444444444444,
              "#bd3786"
             ],
             [
              0.5555555555555556,
              "#d8576b"
             ],
             [
              0.6666666666666666,
              "#ed7953"
             ],
             [
              0.7777777777777778,
              "#fb9f3a"
             ],
             [
              0.8888888888888888,
              "#fdca26"
             ],
             [
              1,
              "#f0f921"
             ]
            ],
            "type": "heatmapgl"
           }
          ],
          "histogram": [
           {
            "marker": {
             "colorbar": {
              "outlinewidth": 0,
              "ticks": ""
             }
            },
            "type": "histogram"
           }
          ],
          "histogram2d": [
           {
            "colorbar": {
             "outlinewidth": 0,
             "ticks": ""
            },
            "colorscale": [
             [
              0,
              "#0d0887"
             ],
             [
              0.1111111111111111,
              "#46039f"
             ],
             [
              0.2222222222222222,
              "#7201a8"
             ],
             [
              0.3333333333333333,
              "#9c179e"
             ],
             [
              0.4444444444444444,
              "#bd3786"
             ],
             [
              0.5555555555555556,
              "#d8576b"
             ],
             [
              0.6666666666666666,
              "#ed7953"
             ],
             [
              0.7777777777777778,
              "#fb9f3a"
             ],
             [
              0.8888888888888888,
              "#fdca26"
             ],
             [
              1,
              "#f0f921"
             ]
            ],
            "type": "histogram2d"
           }
          ],
          "histogram2dcontour": [
           {
            "colorbar": {
             "outlinewidth": 0,
             "ticks": ""
            },
            "colorscale": [
             [
              0,
              "#0d0887"
             ],
             [
              0.1111111111111111,
              "#46039f"
             ],
             [
              0.2222222222222222,
              "#7201a8"
             ],
             [
              0.3333333333333333,
              "#9c179e"
             ],
             [
              0.4444444444444444,
              "#bd3786"
             ],
             [
              0.5555555555555556,
              "#d8576b"
             ],
             [
              0.6666666666666666,
              "#ed7953"
             ],
             [
              0.7777777777777778,
              "#fb9f3a"
             ],
             [
              0.8888888888888888,
              "#fdca26"
             ],
             [
              1,
              "#f0f921"
             ]
            ],
            "type": "histogram2dcontour"
           }
          ],
          "mesh3d": [
           {
            "colorbar": {
             "outlinewidth": 0,
             "ticks": ""
            },
            "type": "mesh3d"
           }
          ],
          "parcoords": [
           {
            "line": {
             "colorbar": {
              "outlinewidth": 0,
              "ticks": ""
             }
            },
            "type": "parcoords"
           }
          ],
          "pie": [
           {
            "automargin": true,
            "type": "pie"
           }
          ],
          "scatter": [
           {
            "marker": {
             "colorbar": {
              "outlinewidth": 0,
              "ticks": ""
             }
            },
            "type": "scatter"
           }
          ],
          "scatter3d": [
           {
            "line": {
             "colorbar": {
              "outlinewidth": 0,
              "ticks": ""
             }
            },
            "marker": {
             "colorbar": {
              "outlinewidth": 0,
              "ticks": ""
             }
            },
            "type": "scatter3d"
           }
          ],
          "scattercarpet": [
           {
            "marker": {
             "colorbar": {
              "outlinewidth": 0,
              "ticks": ""
             }
            },
            "type": "scattercarpet"
           }
          ],
          "scattergeo": [
           {
            "marker": {
             "colorbar": {
              "outlinewidth": 0,
              "ticks": ""
             }
            },
            "type": "scattergeo"
           }
          ],
          "scattergl": [
           {
            "marker": {
             "colorbar": {
              "outlinewidth": 0,
              "ticks": ""
             }
            },
            "type": "scattergl"
           }
          ],
          "scattermapbox": [
           {
            "marker": {
             "colorbar": {
              "outlinewidth": 0,
              "ticks": ""
             }
            },
            "type": "scattermapbox"
           }
          ],
          "scatterpolar": [
           {
            "marker": {
             "colorbar": {
              "outlinewidth": 0,
              "ticks": ""
             }
            },
            "type": "scatterpolar"
           }
          ],
          "scatterpolargl": [
           {
            "marker": {
             "colorbar": {
              "outlinewidth": 0,
              "ticks": ""
             }
            },
            "type": "scatterpolargl"
           }
          ],
          "scatterternary": [
           {
            "marker": {
             "colorbar": {
              "outlinewidth": 0,
              "ticks": ""
             }
            },
            "type": "scatterternary"
           }
          ],
          "surface": [
           {
            "colorbar": {
             "outlinewidth": 0,
             "ticks": ""
            },
            "colorscale": [
             [
              0,
              "#0d0887"
             ],
             [
              0.1111111111111111,
              "#46039f"
             ],
             [
              0.2222222222222222,
              "#7201a8"
             ],
             [
              0.3333333333333333,
              "#9c179e"
             ],
             [
              0.4444444444444444,
              "#bd3786"
             ],
             [
              0.5555555555555556,
              "#d8576b"
             ],
             [
              0.6666666666666666,
              "#ed7953"
             ],
             [
              0.7777777777777778,
              "#fb9f3a"
             ],
             [
              0.8888888888888888,
              "#fdca26"
             ],
             [
              1,
              "#f0f921"
             ]
            ],
            "type": "surface"
           }
          ],
          "table": [
           {
            "cells": {
             "fill": {
              "color": "#EBF0F8"
             },
             "line": {
              "color": "white"
             }
            },
            "header": {
             "fill": {
              "color": "#C8D4E3"
             },
             "line": {
              "color": "white"
             }
            },
            "type": "table"
           }
          ]
         },
         "layout": {
          "annotationdefaults": {
           "arrowcolor": "#2a3f5f",
           "arrowhead": 0,
           "arrowwidth": 1
          },
          "coloraxis": {
           "colorbar": {
            "outlinewidth": 0,
            "ticks": ""
           }
          },
          "colorscale": {
           "diverging": [
            [
             0,
             "#8e0152"
            ],
            [
             0.1,
             "#c51b7d"
            ],
            [
             0.2,
             "#de77ae"
            ],
            [
             0.3,
             "#f1b6da"
            ],
            [
             0.4,
             "#fde0ef"
            ],
            [
             0.5,
             "#f7f7f7"
            ],
            [
             0.6,
             "#e6f5d0"
            ],
            [
             0.7,
             "#b8e186"
            ],
            [
             0.8,
             "#7fbc41"
            ],
            [
             0.9,
             "#4d9221"
            ],
            [
             1,
             "#276419"
            ]
           ],
           "sequential": [
            [
             0,
             "#0d0887"
            ],
            [
             0.1111111111111111,
             "#46039f"
            ],
            [
             0.2222222222222222,
             "#7201a8"
            ],
            [
             0.3333333333333333,
             "#9c179e"
            ],
            [
             0.4444444444444444,
             "#bd3786"
            ],
            [
             0.5555555555555556,
             "#d8576b"
            ],
            [
             0.6666666666666666,
             "#ed7953"
            ],
            [
             0.7777777777777778,
             "#fb9f3a"
            ],
            [
             0.8888888888888888,
             "#fdca26"
            ],
            [
             1,
             "#f0f921"
            ]
           ],
           "sequentialminus": [
            [
             0,
             "#0d0887"
            ],
            [
             0.1111111111111111,
             "#46039f"
            ],
            [
             0.2222222222222222,
             "#7201a8"
            ],
            [
             0.3333333333333333,
             "#9c179e"
            ],
            [
             0.4444444444444444,
             "#bd3786"
            ],
            [
             0.5555555555555556,
             "#d8576b"
            ],
            [
             0.6666666666666666,
             "#ed7953"
            ],
            [
             0.7777777777777778,
             "#fb9f3a"
            ],
            [
             0.8888888888888888,
             "#fdca26"
            ],
            [
             1,
             "#f0f921"
            ]
           ]
          },
          "colorway": [
           "#636efa",
           "#EF553B",
           "#00cc96",
           "#ab63fa",
           "#FFA15A",
           "#19d3f3",
           "#FF6692",
           "#B6E880",
           "#FF97FF",
           "#FECB52"
          ],
          "font": {
           "color": "#2a3f5f"
          },
          "geo": {
           "bgcolor": "white",
           "lakecolor": "white",
           "landcolor": "#E5ECF6",
           "showlakes": true,
           "showland": true,
           "subunitcolor": "white"
          },
          "hoverlabel": {
           "align": "left"
          },
          "hovermode": "closest",
          "mapbox": {
           "style": "light"
          },
          "paper_bgcolor": "white",
          "plot_bgcolor": "#E5ECF6",
          "polar": {
           "angularaxis": {
            "gridcolor": "white",
            "linecolor": "white",
            "ticks": ""
           },
           "bgcolor": "#E5ECF6",
           "radialaxis": {
            "gridcolor": "white",
            "linecolor": "white",
            "ticks": ""
           }
          },
          "scene": {
           "xaxis": {
            "backgroundcolor": "#E5ECF6",
            "gridcolor": "white",
            "gridwidth": 2,
            "linecolor": "white",
            "showbackground": true,
            "ticks": "",
            "zerolinecolor": "white"
           },
           "yaxis": {
            "backgroundcolor": "#E5ECF6",
            "gridcolor": "white",
            "gridwidth": 2,
            "linecolor": "white",
            "showbackground": true,
            "ticks": "",
            "zerolinecolor": "white"
           },
           "zaxis": {
            "backgroundcolor": "#E5ECF6",
            "gridcolor": "white",
            "gridwidth": 2,
            "linecolor": "white",
            "showbackground": true,
            "ticks": "",
            "zerolinecolor": "white"
           }
          },
          "shapedefaults": {
           "line": {
            "color": "#2a3f5f"
           }
          },
          "ternary": {
           "aaxis": {
            "gridcolor": "white",
            "linecolor": "white",
            "ticks": ""
           },
           "baxis": {
            "gridcolor": "white",
            "linecolor": "white",
            "ticks": ""
           },
           "bgcolor": "#E5ECF6",
           "caxis": {
            "gridcolor": "white",
            "linecolor": "white",
            "ticks": ""
           }
          },
          "title": {
           "x": 0.05
          },
          "xaxis": {
           "automargin": true,
           "gridcolor": "white",
           "linecolor": "white",
           "ticks": "",
           "title": {
            "standoff": 15
           },
           "zerolinecolor": "white",
           "zerolinewidth": 2
          },
          "yaxis": {
           "automargin": true,
           "gridcolor": "white",
           "linecolor": "white",
           "ticks": "",
           "title": {
            "standoff": 15
           },
           "zerolinecolor": "white",
           "zerolinewidth": 2
          }
         }
        },
        "title": {
         "text": "Module number 10"
        }
       }
      },
      "text/html": [
       "<div>\n",
       "        \n",
       "        \n",
       "            <div id=\"53fe8b34-9a46-4627-8cc7-ea90452d42b5\" class=\"plotly-graph-div\" style=\"height:525px; width:100%;\"></div>\n",
       "            <script type=\"text/javascript\">\n",
       "                require([\"plotly\"], function(Plotly) {\n",
       "                    window.PLOTLYENV=window.PLOTLYENV || {};\n",
       "                    \n",
       "                if (document.getElementById(\"53fe8b34-9a46-4627-8cc7-ea90452d42b5\")) {\n",
       "                    Plotly.newPlot(\n",
       "                        '53fe8b34-9a46-4627-8cc7-ea90452d42b5',\n",
       "                        [{\"mode\": \"lines+markers\", \"name\": \"Pulse index: 0\", \"type\": \"scatter\", \"x\": [6381770, 6381771, 6381772, 6381773, 6381774, 6381775, 6381776, 6381777, 6381778, 6381779, 6381780, 6381781, 6381782, 6381783, 6381784, 6381785, 6381786, 6381787, 6381788, 6381789, 6381790, 6381791], \"y\": [-0.0895739421248436, -0.12246241420507431, -0.06867828220129013, -0.14891019463539124, -0.3745674788951874, 0.6253852248191833, 0.1869601309299469, -0.12860292196273804, 0.6108149290084839, -0.1863427758216858, 0.023826410993933678, -0.15107786655426025, -0.14928078651428223, 0.12376517057418823, 0.09268330782651901, -0.09859605133533478, 0.005610523279756308, -0.05884085223078728, -0.23685340583324432, -0.31814634799957275, 0.013016624376177788, -0.029472747817635536]}, {\"mode\": \"lines+markers\", \"name\": \"Pulse index: 1\", \"type\": \"scatter\", \"x\": [6381770, 6381771, 6381772, 6381773, 6381774, 6381775, 6381776, 6381777, 6381778, 6381779, 6381780, 6381781, 6381782, 6381783, 6381784, 6381785, 6381786, 6381787, 6381788, 6381789, 6381790, 6381791], \"y\": [-0.2828235924243927, -0.4120688736438751, -1.0852504968643188, -0.10228058695793152, 0.046950798481702805, -0.019808275625109673, -0.7859610915184021, 0.28400754928588867, 0.05842481926083565, 0.32034310698509216, -0.08581815659999847, -0.167236328125, 0.026870043948292732, -0.0727478638291359, -0.1067935973405838, -0.013367538340389729, -0.01138739101588726, -1.5374711751937866, -0.20623034238815308, -0.12280045449733734, 0.3625534474849701, 0.24947981536388397]}, {\"mode\": \"lines+markers\", \"name\": \"Pulse index: 2\", \"type\": \"scatter\", \"x\": [6381770, 6381771, 6381772, 6381773, 6381774, 6381775, 6381776, 6381777, 6381778, 6381779, 6381780, 6381781, 6381782, 6381783, 6381784, 6381785, 6381786, 6381787, 6381788, 6381789, 6381790, 6381791], \"y\": [0.8682452440261841, -0.14877928793430328, -0.18591871857643127, -1.026810646057129, -0.2485990673303604, -0.19029396772384644, -0.035738468170166016, -0.5519298911094666, -0.1068534180521965, 0.009849642403423786, -0.09584830701351166, 0.10278991609811783, -0.14150077104568481, 0.14065219461917877, -0.6688422560691833, -0.2598015069961548, null, -0.214377298951149, 0.08638260513544083, -0.03425386920571327, -0.0328868106007576, -0.07625383138656616]}, {\"mode\": \"lines+markers\", \"name\": \"Pulse index: 3\", \"type\": \"scatter\", \"x\": [6381770, 6381771, 6381772, 6381773, 6381774, 6381775, 6381776, 6381777, 6381778, 6381779, 6381780, 6381781, 6381782, 6381783, 6381784, 6381785, 6381786, 6381787, 6381788, 6381789, 6381790, 6381791], \"y\": [-1.0183029174804688, -1.3612854480743408, -0.8843913078308105, -1.0142500400543213, -0.7251366972923279, -0.37731385231018066, -0.7441308498382568, -0.5767408013343811, -0.9362413883209229, -0.24118411540985107, -0.8032342791557312, -0.6420361399650574, -0.26305249333381653, -0.01821422576904297, -0.39390143752098083, -0.7104681134223938, -0.7279516458511353, -0.39282792806625366, -0.23930972814559937, 0.17280258238315582, -0.798689603805542, -0.33205413818359375]}, {\"mode\": \"lines+markers\", \"name\": \"Pulse index: 4\", \"type\": \"scatter\", \"x\": [6381770, 6381771, 6381772, 6381773, 6381774, 6381775, 6381776, 6381777, 6381778, 6381779, 6381780, 6381781, 6381782, 6381783, 6381784, 6381785, 6381786, 6381787, 6381788, 6381789, 6381790, 6381791], \"y\": [-0.5923690795898438, -0.7042462229728699, -0.1680932343006134, -0.7688202261924744, -0.8486308455467224, -0.42816162109375, -0.37498724460601807, -0.031372737139463425, -0.13212910294532776, 0.25710949301719666, -0.01680159755051136, -0.02866337262094021, -0.3766450583934784, -0.2143537402153015, -0.07770023494958878, -0.417327344417572, -0.3296809494495392, -0.7963438034057617, -0.3739234507083893, -0.17463502287864685, 0.036978114396333694, -0.8515826463699341]}, {\"mode\": \"lines+markers\", \"name\": \"Pulse index: 5\", \"type\": \"scatter\", \"x\": [6381770, 6381771, 6381772, 6381773, 6381774, 6381775, 6381776, 6381777, 6381778, 6381779, 6381780, 6381781, 6381782, 6381783, 6381784, 6381785, 6381786, 6381787, 6381788, 6381789, 6381790, 6381791], \"y\": [-0.7409641146659851, -0.4480011761188507, -0.35489311814308167, -0.6503868699073792, -0.4242982566356659, -0.00012647152470890433, -0.3496321141719818, -0.2739627957344055, -0.18402260541915894, 0.05856553465127945, -0.22495536506175995, -0.4756782650947571, -0.47047126293182373, -0.1549385040998459, -0.6958540081977844, -0.9074176549911499, -0.36192938685417175, -0.6024282574653625, -0.3601905107498169, -0.29232919216156006, -0.41293594241142273, -0.4777110517024994]}, {\"mode\": \"lines+markers\", \"name\": \"Pulse index: 6\", \"type\": \"scatter\", \"x\": [6381770, 6381771, 6381772, 6381773, 6381774, 6381775, 6381776, 6381777, 6381778, 6381779, 6381780, 6381781, 6381782, 6381783, 6381784, 6381785, 6381786, 6381787, 6381788, 6381789, 6381790, 6381791], \"y\": [-1.0871312618255615, -0.0023308086674660444, -0.3056080937385559, -0.8447486758232117, -0.40431079268455505, -0.07447189837694168, -0.19859236478805542, -0.2351205050945282, -0.4078874886035919, -0.583346426486969, -0.27908942103385925, -0.7264420986175537, -0.646033763885498, -0.6556437611579895, -0.6303318738937378, -0.4730747938156128, -0.5917723178863525, -1.0779550075531006, -0.8580455183982849, -0.3877885341644287, -0.7482340931892395, -0.9881719946861267]}, {\"mode\": \"lines+markers\", \"name\": \"Pulse index: 7\", \"type\": \"scatter\", \"x\": [6381770, 6381771, 6381772, 6381773, 6381774, 6381775, 6381776, 6381777, 6381778, 6381779, 6381780, 6381781, 6381782, 6381783, 6381784, 6381785, 6381786, 6381787, 6381788, 6381789, 6381790, 6381791], \"y\": [-0.1860431283712387, -0.5434854626655579, 0.22955629229545593, -0.3654353618621826, 0.03863360360264778, -0.04637851566076279, -0.03217080980539322, -0.06745541095733643, -0.33665624260902405, 0.3617018163204193, -0.2529836595058441, -0.2508816421031952, 0.19804273545742035, 0.0008705854415893555, -0.3909110128879547, -0.26286718249320984, -0.18692418932914734, -0.32724103331565857, -0.02477083168923855, -0.28485020995140076, -0.23013836145401, -0.2599365711212158]}, {\"mode\": \"lines+markers\", \"name\": \"Pulse index: 8\", \"type\": \"scatter\", \"x\": [6381770, 6381771, 6381772, 6381773, 6381774, 6381775, 6381776, 6381777, 6381778, 6381779, 6381780, 6381781, 6381782, 6381783, 6381784, 6381785, 6381786, 6381787, 6381788, 6381789, 6381790, 6381791], \"y\": [-0.2948533296585083, -0.5049954652786255, -0.20754870772361755, -0.8440083861351013, -0.6872318983078003, -0.7036411762237549, -0.6428850293159485, -0.45471784472465515, -0.594598114490509, -0.45887240767478943, -0.31677255034446716, -0.6487705707550049, -0.4621182978153229, 0.02884170599281788, -0.7365599870681763, -0.42919471859931946, -0.5233255624771118, -0.6264505386352539, -0.8004417419433594, -0.5571048855781555, -0.3389652371406555, -0.3700700104236603]}, {\"mode\": \"lines+markers\", \"name\": \"Pulse index: 9\", \"type\": \"scatter\", \"x\": [6381770, 6381771, 6381772, 6381773, 6381774, 6381775, 6381776, 6381777, 6381778, 6381779, 6381780, 6381781, 6381782, 6381783, 6381784, 6381785, 6381786, 6381787, 6381788, 6381789, 6381790, 6381791], \"y\": [-0.6101550459861755, -0.33609727025032043, -0.7152379155158997, -0.7620922923088074, -0.2953703701496124, -0.578219473361969, -0.8331173062324524, -0.6644850969314575, -0.260894775390625, -0.18524223566055298, -0.4543907344341278, -0.8504807949066162, -0.958081841468811, -0.9435763359069824, -1.1843219995498657, -0.7818368673324585, -0.3219175338745117, -0.2493494600057602, -0.37559258937835693, -0.41909295320510864, -0.8023220300674438, -0.585343599319458]}, {\"mode\": \"lines+markers\", \"name\": \"Pulse index: 10\", \"type\": \"scatter\", \"x\": [6381770, 6381771, 6381772, 6381773, 6381774, 6381775, 6381776, 6381777, 6381778, 6381779, 6381780, 6381781, 6381782, 6381783, 6381784, 6381785, 6381786, 6381787, 6381788, 6381789, 6381790, 6381791], \"y\": [-0.4348423182964325, -0.17098380625247955, -0.45740827918052673, -0.4330326318740845, -0.7387426495552063, -0.37018486857414246, -0.6406266093254089, -0.5106194019317627, -0.7597147226333618, -0.40199515223503113, -0.16947521269321442, -0.7201011776924133, -0.39021414518356323, 0.20557445287704468, -0.5061059594154358, -0.2205382138490677, -0.13161002099514008, -0.6851587295532227, -0.3884788751602173, -0.2524876892566681, -0.7947955131530762, -0.6868783235549927]}],\n",
       "                        {\"template\": {\"data\": {\"bar\": [{\"error_x\": {\"color\": \"#2a3f5f\"}, \"error_y\": {\"color\": \"#2a3f5f\"}, \"marker\": {\"line\": {\"color\": \"#E5ECF6\", \"width\": 0.5}}, \"type\": \"bar\"}], \"barpolar\": [{\"marker\": {\"line\": {\"color\": \"#E5ECF6\", \"width\": 0.5}}, \"type\": \"barpolar\"}], \"carpet\": [{\"aaxis\": {\"endlinecolor\": \"#2a3f5f\", \"gridcolor\": \"white\", \"linecolor\": \"white\", \"minorgridcolor\": \"white\", \"startlinecolor\": \"#2a3f5f\"}, \"baxis\": {\"endlinecolor\": \"#2a3f5f\", \"gridcolor\": \"white\", \"linecolor\": \"white\", \"minorgridcolor\": \"white\", \"startlinecolor\": \"#2a3f5f\"}, \"type\": \"carpet\"}], \"choropleth\": [{\"colorbar\": {\"outlinewidth\": 0, \"ticks\": \"\"}, \"type\": \"choropleth\"}], \"contour\": [{\"colorbar\": {\"outlinewidth\": 0, \"ticks\": \"\"}, \"colorscale\": [[0.0, \"#0d0887\"], [0.1111111111111111, \"#46039f\"], [0.2222222222222222, \"#7201a8\"], [0.3333333333333333, \"#9c179e\"], [0.4444444444444444, \"#bd3786\"], [0.5555555555555556, \"#d8576b\"], [0.6666666666666666, \"#ed7953\"], [0.7777777777777778, \"#fb9f3a\"], [0.8888888888888888, \"#fdca26\"], [1.0, \"#f0f921\"]], \"type\": \"contour\"}], \"contourcarpet\": [{\"colorbar\": {\"outlinewidth\": 0, \"ticks\": \"\"}, \"type\": \"contourcarpet\"}], \"heatmap\": [{\"colorbar\": {\"outlinewidth\": 0, \"ticks\": \"\"}, \"colorscale\": [[0.0, \"#0d0887\"], [0.1111111111111111, \"#46039f\"], [0.2222222222222222, \"#7201a8\"], [0.3333333333333333, \"#9c179e\"], [0.4444444444444444, \"#bd3786\"], [0.5555555555555556, \"#d8576b\"], [0.6666666666666666, \"#ed7953\"], [0.7777777777777778, \"#fb9f3a\"], [0.8888888888888888, \"#fdca26\"], [1.0, \"#f0f921\"]], \"type\": \"heatmap\"}], \"heatmapgl\": [{\"colorbar\": {\"outlinewidth\": 0, \"ticks\": \"\"}, \"colorscale\": [[0.0, \"#0d0887\"], [0.1111111111111111, \"#46039f\"], [0.2222222222222222, \"#7201a8\"], [0.3333333333333333, \"#9c179e\"], [0.4444444444444444, \"#bd3786\"], [0.5555555555555556, \"#d8576b\"], [0.6666666666666666, \"#ed7953\"], [0.7777777777777778, \"#fb9f3a\"], [0.8888888888888888, \"#fdca26\"], [1.0, \"#f0f921\"]], \"type\": \"heatmapgl\"}], \"histogram\": [{\"marker\": {\"colorbar\": {\"outlinewidth\": 0, \"ticks\": \"\"}}, \"type\": \"histogram\"}], \"histogram2d\": [{\"colorbar\": {\"outlinewidth\": 0, \"ticks\": \"\"}, \"colorscale\": [[0.0, \"#0d0887\"], [0.1111111111111111, \"#46039f\"], [0.2222222222222222, \"#7201a8\"], [0.3333333333333333, \"#9c179e\"], [0.4444444444444444, \"#bd3786\"], [0.5555555555555556, \"#d8576b\"], [0.6666666666666666, \"#ed7953\"], [0.7777777777777778, \"#fb9f3a\"], [0.8888888888888888, \"#fdca26\"], [1.0, \"#f0f921\"]], \"type\": \"histogram2d\"}], \"histogram2dcontour\": [{\"colorbar\": {\"outlinewidth\": 0, \"ticks\": \"\"}, \"colorscale\": [[0.0, \"#0d0887\"], [0.1111111111111111, \"#46039f\"], [0.2222222222222222, \"#7201a8\"], [0.3333333333333333, \"#9c179e\"], [0.4444444444444444, \"#bd3786\"], [0.5555555555555556, \"#d8576b\"], [0.6666666666666666, \"#ed7953\"], [0.7777777777777778, \"#fb9f3a\"], [0.8888888888888888, \"#fdca26\"], [1.0, \"#f0f921\"]], \"type\": \"histogram2dcontour\"}], \"mesh3d\": [{\"colorbar\": {\"outlinewidth\": 0, \"ticks\": \"\"}, \"type\": \"mesh3d\"}], \"parcoords\": [{\"line\": {\"colorbar\": {\"outlinewidth\": 0, \"ticks\": \"\"}}, \"type\": \"parcoords\"}], \"pie\": [{\"automargin\": true, \"type\": \"pie\"}], \"scatter\": [{\"marker\": {\"colorbar\": {\"outlinewidth\": 0, \"ticks\": \"\"}}, \"type\": \"scatter\"}], \"scatter3d\": [{\"line\": {\"colorbar\": {\"outlinewidth\": 0, \"ticks\": \"\"}}, \"marker\": {\"colorbar\": {\"outlinewidth\": 0, \"ticks\": \"\"}}, \"type\": \"scatter3d\"}], \"scattercarpet\": [{\"marker\": {\"colorbar\": {\"outlinewidth\": 0, \"ticks\": \"\"}}, \"type\": \"scattercarpet\"}], \"scattergeo\": [{\"marker\": {\"colorbar\": {\"outlinewidth\": 0, \"ticks\": \"\"}}, \"type\": \"scattergeo\"}], \"scattergl\": [{\"marker\": {\"colorbar\": {\"outlinewidth\": 0, \"ticks\": \"\"}}, \"type\": \"scattergl\"}], \"scattermapbox\": [{\"marker\": {\"colorbar\": {\"outlinewidth\": 0, \"ticks\": \"\"}}, \"type\": \"scattermapbox\"}], \"scatterpolar\": [{\"marker\": {\"colorbar\": {\"outlinewidth\": 0, \"ticks\": \"\"}}, \"type\": \"scatterpolar\"}], \"scatterpolargl\": [{\"marker\": {\"colorbar\": {\"outlinewidth\": 0, \"ticks\": \"\"}}, \"type\": \"scatterpolargl\"}], \"scatterternary\": [{\"marker\": {\"colorbar\": {\"outlinewidth\": 0, \"ticks\": \"\"}}, \"type\": \"scatterternary\"}], \"surface\": [{\"colorbar\": {\"outlinewidth\": 0, \"ticks\": \"\"}, \"colorscale\": [[0.0, \"#0d0887\"], [0.1111111111111111, \"#46039f\"], [0.2222222222222222, \"#7201a8\"], [0.3333333333333333, \"#9c179e\"], [0.4444444444444444, \"#bd3786\"], [0.5555555555555556, \"#d8576b\"], [0.6666666666666666, \"#ed7953\"], [0.7777777777777778, \"#fb9f3a\"], [0.8888888888888888, \"#fdca26\"], [1.0, \"#f0f921\"]], \"type\": \"surface\"}], \"table\": [{\"cells\": {\"fill\": {\"color\": \"#EBF0F8\"}, \"line\": {\"color\": \"white\"}}, \"header\": {\"fill\": {\"color\": \"#C8D4E3\"}, \"line\": {\"color\": \"white\"}}, \"type\": \"table\"}]}, \"layout\": {\"annotationdefaults\": {\"arrowcolor\": \"#2a3f5f\", \"arrowhead\": 0, \"arrowwidth\": 1}, \"coloraxis\": {\"colorbar\": {\"outlinewidth\": 0, \"ticks\": \"\"}}, \"colorscale\": {\"diverging\": [[0, \"#8e0152\"], [0.1, \"#c51b7d\"], [0.2, \"#de77ae\"], [0.3, \"#f1b6da\"], [0.4, \"#fde0ef\"], [0.5, \"#f7f7f7\"], [0.6, \"#e6f5d0\"], [0.7, \"#b8e186\"], [0.8, \"#7fbc41\"], [0.9, \"#4d9221\"], [1, \"#276419\"]], \"sequential\": [[0.0, \"#0d0887\"], [0.1111111111111111, \"#46039f\"], [0.2222222222222222, \"#7201a8\"], [0.3333333333333333, \"#9c179e\"], [0.4444444444444444, \"#bd3786\"], [0.5555555555555556, \"#d8576b\"], [0.6666666666666666, \"#ed7953\"], [0.7777777777777778, \"#fb9f3a\"], [0.8888888888888888, \"#fdca26\"], [1.0, \"#f0f921\"]], \"sequentialminus\": [[0.0, \"#0d0887\"], [0.1111111111111111, \"#46039f\"], [0.2222222222222222, \"#7201a8\"], [0.3333333333333333, \"#9c179e\"], [0.4444444444444444, \"#bd3786\"], [0.5555555555555556, \"#d8576b\"], [0.6666666666666666, \"#ed7953\"], [0.7777777777777778, \"#fb9f3a\"], [0.8888888888888888, \"#fdca26\"], [1.0, \"#f0f921\"]]}, \"colorway\": [\"#636efa\", \"#EF553B\", \"#00cc96\", \"#ab63fa\", \"#FFA15A\", \"#19d3f3\", \"#FF6692\", \"#B6E880\", \"#FF97FF\", \"#FECB52\"], \"font\": {\"color\": \"#2a3f5f\"}, \"geo\": {\"bgcolor\": \"white\", \"lakecolor\": \"white\", \"landcolor\": \"#E5ECF6\", \"showlakes\": true, \"showland\": true, \"subunitcolor\": \"white\"}, \"hoverlabel\": {\"align\": \"left\"}, \"hovermode\": \"closest\", \"mapbox\": {\"style\": \"light\"}, \"paper_bgcolor\": \"white\", \"plot_bgcolor\": \"#E5ECF6\", \"polar\": {\"angularaxis\": {\"gridcolor\": \"white\", \"linecolor\": \"white\", \"ticks\": \"\"}, \"bgcolor\": \"#E5ECF6\", \"radialaxis\": {\"gridcolor\": \"white\", \"linecolor\": \"white\", \"ticks\": \"\"}}, \"scene\": {\"xaxis\": {\"backgroundcolor\": \"#E5ECF6\", \"gridcolor\": \"white\", \"gridwidth\": 2, \"linecolor\": \"white\", \"showbackground\": true, \"ticks\": \"\", \"zerolinecolor\": \"white\"}, \"yaxis\": {\"backgroundcolor\": \"#E5ECF6\", \"gridcolor\": \"white\", \"gridwidth\": 2, \"linecolor\": \"white\", \"showbackground\": true, \"ticks\": \"\", \"zerolinecolor\": \"white\"}, \"zaxis\": {\"backgroundcolor\": \"#E5ECF6\", \"gridcolor\": \"white\", \"gridwidth\": 2, \"linecolor\": \"white\", \"showbackground\": true, \"ticks\": \"\", \"zerolinecolor\": \"white\"}}, \"shapedefaults\": {\"line\": {\"color\": \"#2a3f5f\"}}, \"ternary\": {\"aaxis\": {\"gridcolor\": \"white\", \"linecolor\": \"white\", \"ticks\": \"\"}, \"baxis\": {\"gridcolor\": \"white\", \"linecolor\": \"white\", \"ticks\": \"\"}, \"bgcolor\": \"#E5ECF6\", \"caxis\": {\"gridcolor\": \"white\", \"linecolor\": \"white\", \"ticks\": \"\"}}, \"title\": {\"x\": 0.05}, \"xaxis\": {\"automargin\": true, \"gridcolor\": \"white\", \"linecolor\": \"white\", \"ticks\": \"\", \"title\": {\"standoff\": 15}, \"zerolinecolor\": \"white\", \"zerolinewidth\": 2}, \"yaxis\": {\"automargin\": true, \"gridcolor\": \"white\", \"linecolor\": \"white\", \"ticks\": \"\", \"title\": {\"standoff\": 15}, \"zerolinecolor\": \"white\", \"zerolinewidth\": 2}}}, \"title\": {\"text\": \"Module number 10\"}},\n",
       "                        {\"responsive\": true}\n",
       "                    ).then(function(){\n",
       "                            \n",
       "var gd = document.getElementById('53fe8b34-9a46-4627-8cc7-ea90452d42b5');\n",
       "var x = new MutationObserver(function (mutations, observer) {{\n",
       "        var display = window.getComputedStyle(gd).display;\n",
       "        if (!display || display === 'none') {{\n",
       "            console.log([gd, 'removed!']);\n",
       "            Plotly.purge(gd);\n",
       "            observer.disconnect();\n",
       "        }}\n",
       "}});\n",
       "\n",
       "// Listen for the removal of the full notebook cells\n",
       "var notebookContainer = gd.closest('#notebook-container');\n",
       "if (notebookContainer) {{\n",
       "    x.observe(notebookContainer, {childList: true});\n",
       "}}\n",
       "\n",
       "// Listen for the clearing of the current output cell\n",
       "var outputEl = gd.closest('.output');\n",
       "if (outputEl) {{\n",
       "    x.observe(outputEl, {childList: true});\n",
       "}}\n",
       "\n",
       "                        })\n",
       "                };\n",
       "                });\n",
       "            </script>\n",
       "        </div>"
      ]
     },
     "metadata": {},
     "output_type": "display_data"
    },
    {
     "data": {
      "application/vnd.plotly.v1+json": {
       "config": {
        "plotlyServerURL": "https://plot.ly"
       },
       "data": [
        {
         "mode": "lines+markers",
         "name": "Pulse index: 0",
         "type": "scatter",
         "x": [
          6381770,
          6381771,
          6381772,
          6381773,
          6381774,
          6381775,
          6381776,
          6381777,
          6381778,
          6381779,
          6381780,
          6381781,
          6381782,
          6381783,
          6381784,
          6381785,
          6381786,
          6381787,
          6381788,
          6381789,
          6381790,
          6381791
         ],
         "y": [
          0.261656790971756,
          0.1338900476694107,
          0.007224959321320057,
          0.0009098792215809226,
          -0.06288525462150574,
          0.21719133853912354,
          0.12020577490329742,
          0.38306331634521484,
          -0.06819122284650803,
          0.3411221206188202,
          -0.029214102774858475,
          0.013462386094033718,
          -0.1062103882431984,
          -0.27772846817970276,
          -0.2550613284111023,
          0.04641520604491234,
          0.09581779688596725,
          -0.11930892616510391,
          -0.06982879340648651,
          0.13758857548236847,
          0.08394230157136917,
          0.0012540292227640748
         ]
        },
        {
         "mode": "lines+markers",
         "name": "Pulse index: 1",
         "type": "scatter",
         "x": [
          6381770,
          6381771,
          6381772,
          6381773,
          6381774,
          6381775,
          6381776,
          6381777,
          6381778,
          6381779,
          6381780,
          6381781,
          6381782,
          6381783,
          6381784,
          6381785,
          6381786,
          6381787,
          6381788,
          6381789,
          6381790,
          6381791
         ],
         "y": [
          -0.06735692918300629,
          0.29741668701171875,
          0.301946222782135,
          -0.15255309641361237,
          0.09205653518438339,
          0.0033222807105630636,
          0.0018892288208007812,
          0.017223741859197617,
          -0.06702753901481628,
          -0.164903923869133,
          0.019633911550045013,
          0.0798710286617279,
          0.08402533829212189,
          -0.11587172001600266,
          0.09005468338727951,
          -0.12670499086380005,
          -0.04731700196862221,
          3.5542023181915283,
          0.0009026241023093462,
          0.10260622948408127,
          0.09191885590553284,
          0.07181138545274734
         ]
        },
        {
         "mode": "lines+markers",
         "name": "Pulse index: 2",
         "type": "scatter",
         "x": [
          6381770,
          6381771,
          6381772,
          6381773,
          6381774,
          6381775,
          6381776,
          6381777,
          6381778,
          6381779,
          6381780,
          6381781,
          6381782,
          6381783,
          6381784,
          6381785,
          6381786,
          6381787,
          6381788,
          6381789,
          6381790,
          6381791
         ],
         "y": [
          -0.7076009511947632,
          -0.04847171902656555,
          0.15765249729156494,
          -0.5549113750457764,
          0.19973716139793396,
          0.8974087238311768,
          0.14991125464439392,
          -0.7589146494865417,
          0.09428126364946365,
          0.11187011748552322,
          0.24836651980876923,
          0.8778949975967407,
          -0.00743559654802084,
          -0.21037174761295319,
          -1.8151291608810425,
          -0.11892051994800568,
          null,
          -0.04029788821935654,
          -0.08837026357650757,
          -0.066492959856987,
          0.037667881697416306,
          0.046686574816703796
         ]
        },
        {
         "mode": "lines+markers",
         "name": "Pulse index: 3",
         "type": "scatter",
         "x": [
          6381770,
          6381771,
          6381772,
          6381773,
          6381774,
          6381775,
          6381776,
          6381777,
          6381778,
          6381779,
          6381780,
          6381781,
          6381782,
          6381783,
          6381784,
          6381785,
          6381786,
          6381787,
          6381788,
          6381789,
          6381790,
          6381791
         ],
         "y": [
          -0.07666195183992386,
          -0.020916318520903587,
          -0.040322791785001755,
          -0.4561731815338135,
          0.4364122152328491,
          0.05369487777352333,
          -0.04645708203315735,
          0.1831321269273758,
          -0.029923079535365105,
          0.25850382447242737,
          0.12994852662086487,
          -0.1886720210313797,
          0.19677773118019104,
          0.31379571557044983,
          0.4034108519554138,
          -0.2654743492603302,
          0.036139409989118576,
          0.2515092194080353,
          0.13911601901054382,
          0.3906266689300537,
          -0.27743545174598694,
          0.05671539157629013
         ]
        },
        {
         "mode": "lines+markers",
         "name": "Pulse index: 4",
         "type": "scatter",
         "x": [
          6381770,
          6381771,
          6381772,
          6381773,
          6381774,
          6381775,
          6381776,
          6381777,
          6381778,
          6381779,
          6381780,
          6381781,
          6381782,
          6381783,
          6381784,
          6381785,
          6381786,
          6381787,
          6381788,
          6381789,
          6381790,
          6381791
         ],
         "y": [
          0.316135972738266,
          0.3165411651134491,
          0.18371492624282837,
          -0.00708254799246788,
          -0.14597417414188385,
          -0.11489387601613998,
          0.47932925820350647,
          0.43531617522239685,
          0.724660336971283,
          0.36535343527793884,
          0.6993706822395325,
          0.1308312565088272,
          0.4795370399951935,
          0.5075521469116211,
          0.5816754102706909,
          0.4118274450302124,
          0.03891639783978462,
          0.09734489768743515,
          -0.02147652581334114,
          -0.45613524317741394,
          0.6224133372306824,
          0.46943217515945435
         ]
        },
        {
         "mode": "lines+markers",
         "name": "Pulse index: 5",
         "type": "scatter",
         "x": [
          6381770,
          6381771,
          6381772,
          6381773,
          6381774,
          6381775,
          6381776,
          6381777,
          6381778,
          6381779,
          6381780,
          6381781,
          6381782,
          6381783,
          6381784,
          6381785,
          6381786,
          6381787,
          6381788,
          6381789,
          6381790,
          6381791
         ],
         "y": [
          -0.036973003298044205,
          -0.07556717097759247,
          -0.14190718531608582,
          -0.08255935460329056,
          0.602387547492981,
          0.2708989083766937,
          0.8047147989273071,
          0.39170214533805847,
          0.7241355180740356,
          0.863760232925415,
          0.5858135223388672,
          0.35799920558929443,
          0.20245777070522308,
          0.4614989161491394,
          0.48787689208984375,
          0.010065832175314426,
          0.022020962089300156,
          0.3390880227088928,
          0.28828781843185425,
          0.27073967456817627,
          0.03930595889687538,
          0.38892608880996704
         ]
        },
        {
         "mode": "lines+markers",
         "name": "Pulse index: 6",
         "type": "scatter",
         "x": [
          6381770,
          6381771,
          6381772,
          6381773,
          6381774,
          6381775,
          6381776,
          6381777,
          6381778,
          6381779,
          6381780,
          6381781,
          6381782,
          6381783,
          6381784,
          6381785,
          6381786,
          6381787,
          6381788,
          6381789,
          6381790,
          6381791
         ],
         "y": [
          0.0037176196929067373,
          -0.27649933099746704,
          0.23278853297233582,
          0.057748109102249146,
          0.20310944318771362,
          0.3282644748687744,
          0.4201236069202423,
          -0.16140595078468323,
          -0.24073375761508942,
          -0.13879485428333282,
          -0.2768103778362274,
          -0.4643753170967102,
          -0.49973589181900024,
          0.15223917365074158,
          -0.16811400651931763,
          0.026783142238855362,
          -0.41742175817489624,
          -0.10399627685546875,
          -0.316109299659729,
          -0.3755526840686798,
          -0.2986166477203369,
          -0.39044925570487976
         ]
        },
        {
         "mode": "lines+markers",
         "name": "Pulse index: 7",
         "type": "scatter",
         "x": [
          6381770,
          6381771,
          6381772,
          6381773,
          6381774,
          6381775,
          6381776,
          6381777,
          6381778,
          6381779,
          6381780,
          6381781,
          6381782,
          6381783,
          6381784,
          6381785,
          6381786,
          6381787,
          6381788,
          6381789,
          6381790,
          6381791
         ],
         "y": [
          0.15180066227912903,
          -0.1147426962852478,
          0.13655832409858704,
          -0.34918004274368286,
          -0.042336054146289825,
          0.052597418427467346,
          0.5927766561508179,
          0.42039573192596436,
          0.3248107135295868,
          -0.07210657745599747,
          0.29470953345298767,
          -0.31048378348350525,
          0.13249093294143677,
          0.16217128932476044,
          0.08136270195245743,
          -0.3905179500579834,
          -0.2789895832538605,
          0.30401092767715454,
          -0.00576921459287405,
          -0.48914283514022827,
          0.020979346707463264,
          0.20997852087020874
         ]
        },
        {
         "mode": "lines+markers",
         "name": "Pulse index: 8",
         "type": "scatter",
         "x": [
          6381770,
          6381771,
          6381772,
          6381773,
          6381774,
          6381775,
          6381776,
          6381777,
          6381778,
          6381779,
          6381780,
          6381781,
          6381782,
          6381783,
          6381784,
          6381785,
          6381786,
          6381787,
          6381788,
          6381789,
          6381790,
          6381791
         ],
         "y": [
          0.33631566166877747,
          0.28787970542907715,
          -0.1630629152059555,
          -0.49719834327697754,
          0.052384667098522186,
          -0.19152459502220154,
          0.2113599330186844,
          0.4189612865447998,
          0.3363906145095825,
          0.17203985154628754,
          -0.08189905434846878,
          -0.17961913347244263,
          0.13553158938884735,
          0.20614247024059296,
          -0.17227278649806976,
          0.052723441272974014,
          -0.5339637398719788,
          0.08226325362920761,
          -0.2373504489660263,
          -0.4572502374649048,
          -0.10726132988929749,
          0.31408384442329407
         ]
        },
        {
         "mode": "lines+markers",
         "name": "Pulse index: 9",
         "type": "scatter",
         "x": [
          6381770,
          6381771,
          6381772,
          6381773,
          6381774,
          6381775,
          6381776,
          6381777,
          6381778,
          6381779,
          6381780,
          6381781,
          6381782,
          6381783,
          6381784,
          6381785,
          6381786,
          6381787,
          6381788,
          6381789,
          6381790,
          6381791
         ],
         "y": [
          0.21812984347343445,
          -0.16280585527420044,
          0.32727038860321045,
          -0.11598579585552216,
          0.17024101316928864,
          -0.1656983196735382,
          -0.007682571187615395,
          0.022094039246439934,
          0.30271434783935547,
          -0.5257885456085205,
          -0.06621961295604706,
          -0.4731292724609375,
          0.026832599192857742,
          -0.19654004275798798,
          -0.29128333926200867,
          -0.29649293422698975,
          -0.03200986608862877,
          -0.07325996458530426,
          -0.03717903047800064,
          0.07279045134782791,
          -0.16847723722457886,
          -0.014677241444587708
         ]
        },
        {
         "mode": "lines+markers",
         "name": "Pulse index: 10",
         "type": "scatter",
         "x": [
          6381770,
          6381771,
          6381772,
          6381773,
          6381774,
          6381775,
          6381776,
          6381777,
          6381778,
          6381779,
          6381780,
          6381781,
          6381782,
          6381783,
          6381784,
          6381785,
          6381786,
          6381787,
          6381788,
          6381789,
          6381790,
          6381791
         ],
         "y": [
          0.07921312749385834,
          0.2148539423942566,
          -0.13450337946414948,
          0.020707817748188972,
          0.14701150357723236,
          -0.5519765615463257,
          0.24743320047855377,
          0.4712265133857727,
          0.25999215245246887,
          0.15216344594955444,
          0.20446164906024933,
          -0.11469382047653198,
          0.3561680316925049,
          0.438869446516037,
          0.1746777445077896,
          0.5862246751785278,
          0.1875,
          -0.20004969835281372,
          -0.12974871695041656,
          0.33790743350982666,
          0.11128826439380646,
          0.006219192873686552
         ]
        }
       ],
       "layout": {
        "template": {
         "data": {
          "bar": [
           {
            "error_x": {
             "color": "#2a3f5f"
            },
            "error_y": {
             "color": "#2a3f5f"
            },
            "marker": {
             "line": {
              "color": "#E5ECF6",
              "width": 0.5
             }
            },
            "type": "bar"
           }
          ],
          "barpolar": [
           {
            "marker": {
             "line": {
              "color": "#E5ECF6",
              "width": 0.5
             }
            },
            "type": "barpolar"
           }
          ],
          "carpet": [
           {
            "aaxis": {
             "endlinecolor": "#2a3f5f",
             "gridcolor": "white",
             "linecolor": "white",
             "minorgridcolor": "white",
             "startlinecolor": "#2a3f5f"
            },
            "baxis": {
             "endlinecolor": "#2a3f5f",
             "gridcolor": "white",
             "linecolor": "white",
             "minorgridcolor": "white",
             "startlinecolor": "#2a3f5f"
            },
            "type": "carpet"
           }
          ],
          "choropleth": [
           {
            "colorbar": {
             "outlinewidth": 0,
             "ticks": ""
            },
            "type": "choropleth"
           }
          ],
          "contour": [
           {
            "colorbar": {
             "outlinewidth": 0,
             "ticks": ""
            },
            "colorscale": [
             [
              0,
              "#0d0887"
             ],
             [
              0.1111111111111111,
              "#46039f"
             ],
             [
              0.2222222222222222,
              "#7201a8"
             ],
             [
              0.3333333333333333,
              "#9c179e"
             ],
             [
              0.4444444444444444,
              "#bd3786"
             ],
             [
              0.5555555555555556,
              "#d8576b"
             ],
             [
              0.6666666666666666,
              "#ed7953"
             ],
             [
              0.7777777777777778,
              "#fb9f3a"
             ],
             [
              0.8888888888888888,
              "#fdca26"
             ],
             [
              1,
              "#f0f921"
             ]
            ],
            "type": "contour"
           }
          ],
          "contourcarpet": [
           {
            "colorbar": {
             "outlinewidth": 0,
             "ticks": ""
            },
            "type": "contourcarpet"
           }
          ],
          "heatmap": [
           {
            "colorbar": {
             "outlinewidth": 0,
             "ticks": ""
            },
            "colorscale": [
             [
              0,
              "#0d0887"
             ],
             [
              0.1111111111111111,
              "#46039f"
             ],
             [
              0.2222222222222222,
              "#7201a8"
             ],
             [
              0.3333333333333333,
              "#9c179e"
             ],
             [
              0.4444444444444444,
              "#bd3786"
             ],
             [
              0.5555555555555556,
              "#d8576b"
             ],
             [
              0.6666666666666666,
              "#ed7953"
             ],
             [
              0.7777777777777778,
              "#fb9f3a"
             ],
             [
              0.8888888888888888,
              "#fdca26"
             ],
             [
              1,
              "#f0f921"
             ]
            ],
            "type": "heatmap"
           }
          ],
          "heatmapgl": [
           {
            "colorbar": {
             "outlinewidth": 0,
             "ticks": ""
            },
            "colorscale": [
             [
              0,
              "#0d0887"
             ],
             [
              0.1111111111111111,
              "#46039f"
             ],
             [
              0.2222222222222222,
              "#7201a8"
             ],
             [
              0.3333333333333333,
              "#9c179e"
             ],
             [
              0.4444444444444444,
              "#bd3786"
             ],
             [
              0.5555555555555556,
              "#d8576b"
             ],
             [
              0.6666666666666666,
              "#ed7953"
             ],
             [
              0.7777777777777778,
              "#fb9f3a"
             ],
             [
              0.8888888888888888,
              "#fdca26"
             ],
             [
              1,
              "#f0f921"
             ]
            ],
            "type": "heatmapgl"
           }
          ],
          "histogram": [
           {
            "marker": {
             "colorbar": {
              "outlinewidth": 0,
              "ticks": ""
             }
            },
            "type": "histogram"
           }
          ],
          "histogram2d": [
           {
            "colorbar": {
             "outlinewidth": 0,
             "ticks": ""
            },
            "colorscale": [
             [
              0,
              "#0d0887"
             ],
             [
              0.1111111111111111,
              "#46039f"
             ],
             [
              0.2222222222222222,
              "#7201a8"
             ],
             [
              0.3333333333333333,
              "#9c179e"
             ],
             [
              0.4444444444444444,
              "#bd3786"
             ],
             [
              0.5555555555555556,
              "#d8576b"
             ],
             [
              0.6666666666666666,
              "#ed7953"
             ],
             [
              0.7777777777777778,
              "#fb9f3a"
             ],
             [
              0.8888888888888888,
              "#fdca26"
             ],
             [
              1,
              "#f0f921"
             ]
            ],
            "type": "histogram2d"
           }
          ],
          "histogram2dcontour": [
           {
            "colorbar": {
             "outlinewidth": 0,
             "ticks": ""
            },
            "colorscale": [
             [
              0,
              "#0d0887"
             ],
             [
              0.1111111111111111,
              "#46039f"
             ],
             [
              0.2222222222222222,
              "#7201a8"
             ],
             [
              0.3333333333333333,
              "#9c179e"
             ],
             [
              0.4444444444444444,
              "#bd3786"
             ],
             [
              0.5555555555555556,
              "#d8576b"
             ],
             [
              0.6666666666666666,
              "#ed7953"
             ],
             [
              0.7777777777777778,
              "#fb9f3a"
             ],
             [
              0.8888888888888888,
              "#fdca26"
             ],
             [
              1,
              "#f0f921"
             ]
            ],
            "type": "histogram2dcontour"
           }
          ],
          "mesh3d": [
           {
            "colorbar": {
             "outlinewidth": 0,
             "ticks": ""
            },
            "type": "mesh3d"
           }
          ],
          "parcoords": [
           {
            "line": {
             "colorbar": {
              "outlinewidth": 0,
              "ticks": ""
             }
            },
            "type": "parcoords"
           }
          ],
          "pie": [
           {
            "automargin": true,
            "type": "pie"
           }
          ],
          "scatter": [
           {
            "marker": {
             "colorbar": {
              "outlinewidth": 0,
              "ticks": ""
             }
            },
            "type": "scatter"
           }
          ],
          "scatter3d": [
           {
            "line": {
             "colorbar": {
              "outlinewidth": 0,
              "ticks": ""
             }
            },
            "marker": {
             "colorbar": {
              "outlinewidth": 0,
              "ticks": ""
             }
            },
            "type": "scatter3d"
           }
          ],
          "scattercarpet": [
           {
            "marker": {
             "colorbar": {
              "outlinewidth": 0,
              "ticks": ""
             }
            },
            "type": "scattercarpet"
           }
          ],
          "scattergeo": [
           {
            "marker": {
             "colorbar": {
              "outlinewidth": 0,
              "ticks": ""
             }
            },
            "type": "scattergeo"
           }
          ],
          "scattergl": [
           {
            "marker": {
             "colorbar": {
              "outlinewidth": 0,
              "ticks": ""
             }
            },
            "type": "scattergl"
           }
          ],
          "scattermapbox": [
           {
            "marker": {
             "colorbar": {
              "outlinewidth": 0,
              "ticks": ""
             }
            },
            "type": "scattermapbox"
           }
          ],
          "scatterpolar": [
           {
            "marker": {
             "colorbar": {
              "outlinewidth": 0,
              "ticks": ""
             }
            },
            "type": "scatterpolar"
           }
          ],
          "scatterpolargl": [
           {
            "marker": {
             "colorbar": {
              "outlinewidth": 0,
              "ticks": ""
             }
            },
            "type": "scatterpolargl"
           }
          ],
          "scatterternary": [
           {
            "marker": {
             "colorbar": {
              "outlinewidth": 0,
              "ticks": ""
             }
            },
            "type": "scatterternary"
           }
          ],
          "surface": [
           {
            "colorbar": {
             "outlinewidth": 0,
             "ticks": ""
            },
            "colorscale": [
             [
              0,
              "#0d0887"
             ],
             [
              0.1111111111111111,
              "#46039f"
             ],
             [
              0.2222222222222222,
              "#7201a8"
             ],
             [
              0.3333333333333333,
              "#9c179e"
             ],
             [
              0.4444444444444444,
              "#bd3786"
             ],
             [
              0.5555555555555556,
              "#d8576b"
             ],
             [
              0.6666666666666666,
              "#ed7953"
             ],
             [
              0.7777777777777778,
              "#fb9f3a"
             ],
             [
              0.8888888888888888,
              "#fdca26"
             ],
             [
              1,
              "#f0f921"
             ]
            ],
            "type": "surface"
           }
          ],
          "table": [
           {
            "cells": {
             "fill": {
              "color": "#EBF0F8"
             },
             "line": {
              "color": "white"
             }
            },
            "header": {
             "fill": {
              "color": "#C8D4E3"
             },
             "line": {
              "color": "white"
             }
            },
            "type": "table"
           }
          ]
         },
         "layout": {
          "annotationdefaults": {
           "arrowcolor": "#2a3f5f",
           "arrowhead": 0,
           "arrowwidth": 1
          },
          "coloraxis": {
           "colorbar": {
            "outlinewidth": 0,
            "ticks": ""
           }
          },
          "colorscale": {
           "diverging": [
            [
             0,
             "#8e0152"
            ],
            [
             0.1,
             "#c51b7d"
            ],
            [
             0.2,
             "#de77ae"
            ],
            [
             0.3,
             "#f1b6da"
            ],
            [
             0.4,
             "#fde0ef"
            ],
            [
             0.5,
             "#f7f7f7"
            ],
            [
             0.6,
             "#e6f5d0"
            ],
            [
             0.7,
             "#b8e186"
            ],
            [
             0.8,
             "#7fbc41"
            ],
            [
             0.9,
             "#4d9221"
            ],
            [
             1,
             "#276419"
            ]
           ],
           "sequential": [
            [
             0,
             "#0d0887"
            ],
            [
             0.1111111111111111,
             "#46039f"
            ],
            [
             0.2222222222222222,
             "#7201a8"
            ],
            [
             0.3333333333333333,
             "#9c179e"
            ],
            [
             0.4444444444444444,
             "#bd3786"
            ],
            [
             0.5555555555555556,
             "#d8576b"
            ],
            [
             0.6666666666666666,
             "#ed7953"
            ],
            [
             0.7777777777777778,
             "#fb9f3a"
            ],
            [
             0.8888888888888888,
             "#fdca26"
            ],
            [
             1,
             "#f0f921"
            ]
           ],
           "sequentialminus": [
            [
             0,
             "#0d0887"
            ],
            [
             0.1111111111111111,
             "#46039f"
            ],
            [
             0.2222222222222222,
             "#7201a8"
            ],
            [
             0.3333333333333333,
             "#9c179e"
            ],
            [
             0.4444444444444444,
             "#bd3786"
            ],
            [
             0.5555555555555556,
             "#d8576b"
            ],
            [
             0.6666666666666666,
             "#ed7953"
            ],
            [
             0.7777777777777778,
             "#fb9f3a"
            ],
            [
             0.8888888888888888,
             "#fdca26"
            ],
            [
             1,
             "#f0f921"
            ]
           ]
          },
          "colorway": [
           "#636efa",
           "#EF553B",
           "#00cc96",
           "#ab63fa",
           "#FFA15A",
           "#19d3f3",
           "#FF6692",
           "#B6E880",
           "#FF97FF",
           "#FECB52"
          ],
          "font": {
           "color": "#2a3f5f"
          },
          "geo": {
           "bgcolor": "white",
           "lakecolor": "white",
           "landcolor": "#E5ECF6",
           "showlakes": true,
           "showland": true,
           "subunitcolor": "white"
          },
          "hoverlabel": {
           "align": "left"
          },
          "hovermode": "closest",
          "mapbox": {
           "style": "light"
          },
          "paper_bgcolor": "white",
          "plot_bgcolor": "#E5ECF6",
          "polar": {
           "angularaxis": {
            "gridcolor": "white",
            "linecolor": "white",
            "ticks": ""
           },
           "bgcolor": "#E5ECF6",
           "radialaxis": {
            "gridcolor": "white",
            "linecolor": "white",
            "ticks": ""
           }
          },
          "scene": {
           "xaxis": {
            "backgroundcolor": "#E5ECF6",
            "gridcolor": "white",
            "gridwidth": 2,
            "linecolor": "white",
            "showbackground": true,
            "ticks": "",
            "zerolinecolor": "white"
           },
           "yaxis": {
            "backgroundcolor": "#E5ECF6",
            "gridcolor": "white",
            "gridwidth": 2,
            "linecolor": "white",
            "showbackground": true,
            "ticks": "",
            "zerolinecolor": "white"
           },
           "zaxis": {
            "backgroundcolor": "#E5ECF6",
            "gridcolor": "white",
            "gridwidth": 2,
            "linecolor": "white",
            "showbackground": true,
            "ticks": "",
            "zerolinecolor": "white"
           }
          },
          "shapedefaults": {
           "line": {
            "color": "#2a3f5f"
           }
          },
          "ternary": {
           "aaxis": {
            "gridcolor": "white",
            "linecolor": "white",
            "ticks": ""
           },
           "baxis": {
            "gridcolor": "white",
            "linecolor": "white",
            "ticks": ""
           },
           "bgcolor": "#E5ECF6",
           "caxis": {
            "gridcolor": "white",
            "linecolor": "white",
            "ticks": ""
           }
          },
          "title": {
           "x": 0.05
          },
          "xaxis": {
           "automargin": true,
           "gridcolor": "white",
           "linecolor": "white",
           "ticks": "",
           "title": {
            "standoff": 15
           },
           "zerolinecolor": "white",
           "zerolinewidth": 2
          },
          "yaxis": {
           "automargin": true,
           "gridcolor": "white",
           "linecolor": "white",
           "ticks": "",
           "title": {
            "standoff": 15
           },
           "zerolinecolor": "white",
           "zerolinewidth": 2
          }
         }
        },
        "title": {
         "text": "Module number 11"
        }
       }
      },
      "text/html": [
       "<div>\n",
       "        \n",
       "        \n",
       "            <div id=\"7452c693-670f-419d-a4e6-75339b522fc8\" class=\"plotly-graph-div\" style=\"height:525px; width:100%;\"></div>\n",
       "            <script type=\"text/javascript\">\n",
       "                require([\"plotly\"], function(Plotly) {\n",
       "                    window.PLOTLYENV=window.PLOTLYENV || {};\n",
       "                    \n",
       "                if (document.getElementById(\"7452c693-670f-419d-a4e6-75339b522fc8\")) {\n",
       "                    Plotly.newPlot(\n",
       "                        '7452c693-670f-419d-a4e6-75339b522fc8',\n",
       "                        [{\"mode\": \"lines+markers\", \"name\": \"Pulse index: 0\", \"type\": \"scatter\", \"x\": [6381770, 6381771, 6381772, 6381773, 6381774, 6381775, 6381776, 6381777, 6381778, 6381779, 6381780, 6381781, 6381782, 6381783, 6381784, 6381785, 6381786, 6381787, 6381788, 6381789, 6381790, 6381791], \"y\": [0.261656790971756, 0.1338900476694107, 0.007224959321320057, 0.0009098792215809226, -0.06288525462150574, 0.21719133853912354, 0.12020577490329742, 0.38306331634521484, -0.06819122284650803, 0.3411221206188202, -0.029214102774858475, 0.013462386094033718, -0.1062103882431984, -0.27772846817970276, -0.2550613284111023, 0.04641520604491234, 0.09581779688596725, -0.11930892616510391, -0.06982879340648651, 0.13758857548236847, 0.08394230157136917, 0.0012540292227640748]}, {\"mode\": \"lines+markers\", \"name\": \"Pulse index: 1\", \"type\": \"scatter\", \"x\": [6381770, 6381771, 6381772, 6381773, 6381774, 6381775, 6381776, 6381777, 6381778, 6381779, 6381780, 6381781, 6381782, 6381783, 6381784, 6381785, 6381786, 6381787, 6381788, 6381789, 6381790, 6381791], \"y\": [-0.06735692918300629, 0.29741668701171875, 0.301946222782135, -0.15255309641361237, 0.09205653518438339, 0.0033222807105630636, 0.0018892288208007812, 0.017223741859197617, -0.06702753901481628, -0.164903923869133, 0.019633911550045013, 0.0798710286617279, 0.08402533829212189, -0.11587172001600266, 0.09005468338727951, -0.12670499086380005, -0.04731700196862221, 3.5542023181915283, 0.0009026241023093462, 0.10260622948408127, 0.09191885590553284, 0.07181138545274734]}, {\"mode\": \"lines+markers\", \"name\": \"Pulse index: 2\", \"type\": \"scatter\", \"x\": [6381770, 6381771, 6381772, 6381773, 6381774, 6381775, 6381776, 6381777, 6381778, 6381779, 6381780, 6381781, 6381782, 6381783, 6381784, 6381785, 6381786, 6381787, 6381788, 6381789, 6381790, 6381791], \"y\": [-0.7076009511947632, -0.04847171902656555, 0.15765249729156494, -0.5549113750457764, 0.19973716139793396, 0.8974087238311768, 0.14991125464439392, -0.7589146494865417, 0.09428126364946365, 0.11187011748552322, 0.24836651980876923, 0.8778949975967407, -0.00743559654802084, -0.21037174761295319, -1.8151291608810425, -0.11892051994800568, null, -0.04029788821935654, -0.08837026357650757, -0.066492959856987, 0.037667881697416306, 0.046686574816703796]}, {\"mode\": \"lines+markers\", \"name\": \"Pulse index: 3\", \"type\": \"scatter\", \"x\": [6381770, 6381771, 6381772, 6381773, 6381774, 6381775, 6381776, 6381777, 6381778, 6381779, 6381780, 6381781, 6381782, 6381783, 6381784, 6381785, 6381786, 6381787, 6381788, 6381789, 6381790, 6381791], \"y\": [-0.07666195183992386, -0.020916318520903587, -0.040322791785001755, -0.4561731815338135, 0.4364122152328491, 0.05369487777352333, -0.04645708203315735, 0.1831321269273758, -0.029923079535365105, 0.25850382447242737, 0.12994852662086487, -0.1886720210313797, 0.19677773118019104, 0.31379571557044983, 0.4034108519554138, -0.2654743492603302, 0.036139409989118576, 0.2515092194080353, 0.13911601901054382, 0.3906266689300537, -0.27743545174598694, 0.05671539157629013]}, {\"mode\": \"lines+markers\", \"name\": \"Pulse index: 4\", \"type\": \"scatter\", \"x\": [6381770, 6381771, 6381772, 6381773, 6381774, 6381775, 6381776, 6381777, 6381778, 6381779, 6381780, 6381781, 6381782, 6381783, 6381784, 6381785, 6381786, 6381787, 6381788, 6381789, 6381790, 6381791], \"y\": [0.316135972738266, 0.3165411651134491, 0.18371492624282837, -0.00708254799246788, -0.14597417414188385, -0.11489387601613998, 0.47932925820350647, 0.43531617522239685, 0.724660336971283, 0.36535343527793884, 0.6993706822395325, 0.1308312565088272, 0.4795370399951935, 0.5075521469116211, 0.5816754102706909, 0.4118274450302124, 0.03891639783978462, 0.09734489768743515, -0.02147652581334114, -0.45613524317741394, 0.6224133372306824, 0.46943217515945435]}, {\"mode\": \"lines+markers\", \"name\": \"Pulse index: 5\", \"type\": \"scatter\", \"x\": [6381770, 6381771, 6381772, 6381773, 6381774, 6381775, 6381776, 6381777, 6381778, 6381779, 6381780, 6381781, 6381782, 6381783, 6381784, 6381785, 6381786, 6381787, 6381788, 6381789, 6381790, 6381791], \"y\": [-0.036973003298044205, -0.07556717097759247, -0.14190718531608582, -0.08255935460329056, 0.602387547492981, 0.2708989083766937, 0.8047147989273071, 0.39170214533805847, 0.7241355180740356, 0.863760232925415, 0.5858135223388672, 0.35799920558929443, 0.20245777070522308, 0.4614989161491394, 0.48787689208984375, 0.010065832175314426, 0.022020962089300156, 0.3390880227088928, 0.28828781843185425, 0.27073967456817627, 0.03930595889687538, 0.38892608880996704]}, {\"mode\": \"lines+markers\", \"name\": \"Pulse index: 6\", \"type\": \"scatter\", \"x\": [6381770, 6381771, 6381772, 6381773, 6381774, 6381775, 6381776, 6381777, 6381778, 6381779, 6381780, 6381781, 6381782, 6381783, 6381784, 6381785, 6381786, 6381787, 6381788, 6381789, 6381790, 6381791], \"y\": [0.0037176196929067373, -0.27649933099746704, 0.23278853297233582, 0.057748109102249146, 0.20310944318771362, 0.3282644748687744, 0.4201236069202423, -0.16140595078468323, -0.24073375761508942, -0.13879485428333282, -0.2768103778362274, -0.4643753170967102, -0.49973589181900024, 0.15223917365074158, -0.16811400651931763, 0.026783142238855362, -0.41742175817489624, -0.10399627685546875, -0.316109299659729, -0.3755526840686798, -0.2986166477203369, -0.39044925570487976]}, {\"mode\": \"lines+markers\", \"name\": \"Pulse index: 7\", \"type\": \"scatter\", \"x\": [6381770, 6381771, 6381772, 6381773, 6381774, 6381775, 6381776, 6381777, 6381778, 6381779, 6381780, 6381781, 6381782, 6381783, 6381784, 6381785, 6381786, 6381787, 6381788, 6381789, 6381790, 6381791], \"y\": [0.15180066227912903, -0.1147426962852478, 0.13655832409858704, -0.34918004274368286, -0.042336054146289825, 0.052597418427467346, 0.5927766561508179, 0.42039573192596436, 0.3248107135295868, -0.07210657745599747, 0.29470953345298767, -0.31048378348350525, 0.13249093294143677, 0.16217128932476044, 0.08136270195245743, -0.3905179500579834, -0.2789895832538605, 0.30401092767715454, -0.00576921459287405, -0.48914283514022827, 0.020979346707463264, 0.20997852087020874]}, {\"mode\": \"lines+markers\", \"name\": \"Pulse index: 8\", \"type\": \"scatter\", \"x\": [6381770, 6381771, 6381772, 6381773, 6381774, 6381775, 6381776, 6381777, 6381778, 6381779, 6381780, 6381781, 6381782, 6381783, 6381784, 6381785, 6381786, 6381787, 6381788, 6381789, 6381790, 6381791], \"y\": [0.33631566166877747, 0.28787970542907715, -0.1630629152059555, -0.49719834327697754, 0.052384667098522186, -0.19152459502220154, 0.2113599330186844, 0.4189612865447998, 0.3363906145095825, 0.17203985154628754, -0.08189905434846878, -0.17961913347244263, 0.13553158938884735, 0.20614247024059296, -0.17227278649806976, 0.052723441272974014, -0.5339637398719788, 0.08226325362920761, -0.2373504489660263, -0.4572502374649048, -0.10726132988929749, 0.31408384442329407]}, {\"mode\": \"lines+markers\", \"name\": \"Pulse index: 9\", \"type\": \"scatter\", \"x\": [6381770, 6381771, 6381772, 6381773, 6381774, 6381775, 6381776, 6381777, 6381778, 6381779, 6381780, 6381781, 6381782, 6381783, 6381784, 6381785, 6381786, 6381787, 6381788, 6381789, 6381790, 6381791], \"y\": [0.21812984347343445, -0.16280585527420044, 0.32727038860321045, -0.11598579585552216, 0.17024101316928864, -0.1656983196735382, -0.007682571187615395, 0.022094039246439934, 0.30271434783935547, -0.5257885456085205, -0.06621961295604706, -0.4731292724609375, 0.026832599192857742, -0.19654004275798798, -0.29128333926200867, -0.29649293422698975, -0.03200986608862877, -0.07325996458530426, -0.03717903047800064, 0.07279045134782791, -0.16847723722457886, -0.014677241444587708]}, {\"mode\": \"lines+markers\", \"name\": \"Pulse index: 10\", \"type\": \"scatter\", \"x\": [6381770, 6381771, 6381772, 6381773, 6381774, 6381775, 6381776, 6381777, 6381778, 6381779, 6381780, 6381781, 6381782, 6381783, 6381784, 6381785, 6381786, 6381787, 6381788, 6381789, 6381790, 6381791], \"y\": [0.07921312749385834, 0.2148539423942566, -0.13450337946414948, 0.020707817748188972, 0.14701150357723236, -0.5519765615463257, 0.24743320047855377, 0.4712265133857727, 0.25999215245246887, 0.15216344594955444, 0.20446164906024933, -0.11469382047653198, 0.3561680316925049, 0.438869446516037, 0.1746777445077896, 0.5862246751785278, 0.1875, -0.20004969835281372, -0.12974871695041656, 0.33790743350982666, 0.11128826439380646, 0.006219192873686552]}],\n",
       "                        {\"template\": {\"data\": {\"bar\": [{\"error_x\": {\"color\": \"#2a3f5f\"}, \"error_y\": {\"color\": \"#2a3f5f\"}, \"marker\": {\"line\": {\"color\": \"#E5ECF6\", \"width\": 0.5}}, \"type\": \"bar\"}], \"barpolar\": [{\"marker\": {\"line\": {\"color\": \"#E5ECF6\", \"width\": 0.5}}, \"type\": \"barpolar\"}], \"carpet\": [{\"aaxis\": {\"endlinecolor\": \"#2a3f5f\", \"gridcolor\": \"white\", \"linecolor\": \"white\", \"minorgridcolor\": \"white\", \"startlinecolor\": \"#2a3f5f\"}, \"baxis\": {\"endlinecolor\": \"#2a3f5f\", \"gridcolor\": \"white\", \"linecolor\": \"white\", \"minorgridcolor\": \"white\", \"startlinecolor\": \"#2a3f5f\"}, \"type\": \"carpet\"}], \"choropleth\": [{\"colorbar\": {\"outlinewidth\": 0, \"ticks\": \"\"}, \"type\": \"choropleth\"}], \"contour\": [{\"colorbar\": {\"outlinewidth\": 0, \"ticks\": \"\"}, \"colorscale\": [[0.0, \"#0d0887\"], [0.1111111111111111, \"#46039f\"], [0.2222222222222222, \"#7201a8\"], [0.3333333333333333, \"#9c179e\"], [0.4444444444444444, \"#bd3786\"], [0.5555555555555556, \"#d8576b\"], [0.6666666666666666, \"#ed7953\"], [0.7777777777777778, \"#fb9f3a\"], [0.8888888888888888, \"#fdca26\"], [1.0, \"#f0f921\"]], \"type\": \"contour\"}], \"contourcarpet\": [{\"colorbar\": {\"outlinewidth\": 0, \"ticks\": \"\"}, \"type\": \"contourcarpet\"}], \"heatmap\": [{\"colorbar\": {\"outlinewidth\": 0, \"ticks\": \"\"}, \"colorscale\": [[0.0, \"#0d0887\"], [0.1111111111111111, \"#46039f\"], [0.2222222222222222, \"#7201a8\"], [0.3333333333333333, \"#9c179e\"], [0.4444444444444444, \"#bd3786\"], [0.5555555555555556, \"#d8576b\"], [0.6666666666666666, \"#ed7953\"], [0.7777777777777778, \"#fb9f3a\"], [0.8888888888888888, \"#fdca26\"], [1.0, \"#f0f921\"]], \"type\": \"heatmap\"}], \"heatmapgl\": [{\"colorbar\": {\"outlinewidth\": 0, \"ticks\": \"\"}, \"colorscale\": [[0.0, \"#0d0887\"], [0.1111111111111111, \"#46039f\"], [0.2222222222222222, \"#7201a8\"], [0.3333333333333333, \"#9c179e\"], [0.4444444444444444, \"#bd3786\"], [0.5555555555555556, \"#d8576b\"], [0.6666666666666666, \"#ed7953\"], [0.7777777777777778, \"#fb9f3a\"], [0.8888888888888888, \"#fdca26\"], [1.0, \"#f0f921\"]], \"type\": \"heatmapgl\"}], \"histogram\": [{\"marker\": {\"colorbar\": {\"outlinewidth\": 0, \"ticks\": \"\"}}, \"type\": \"histogram\"}], \"histogram2d\": [{\"colorbar\": {\"outlinewidth\": 0, \"ticks\": \"\"}, \"colorscale\": [[0.0, \"#0d0887\"], [0.1111111111111111, \"#46039f\"], [0.2222222222222222, \"#7201a8\"], [0.3333333333333333, \"#9c179e\"], [0.4444444444444444, \"#bd3786\"], [0.5555555555555556, \"#d8576b\"], [0.6666666666666666, \"#ed7953\"], [0.7777777777777778, \"#fb9f3a\"], [0.8888888888888888, \"#fdca26\"], [1.0, \"#f0f921\"]], \"type\": \"histogram2d\"}], \"histogram2dcontour\": [{\"colorbar\": {\"outlinewidth\": 0, \"ticks\": \"\"}, \"colorscale\": [[0.0, \"#0d0887\"], [0.1111111111111111, \"#46039f\"], [0.2222222222222222, \"#7201a8\"], [0.3333333333333333, \"#9c179e\"], [0.4444444444444444, \"#bd3786\"], [0.5555555555555556, \"#d8576b\"], [0.6666666666666666, \"#ed7953\"], [0.7777777777777778, \"#fb9f3a\"], [0.8888888888888888, \"#fdca26\"], [1.0, \"#f0f921\"]], \"type\": \"histogram2dcontour\"}], \"mesh3d\": [{\"colorbar\": {\"outlinewidth\": 0, \"ticks\": \"\"}, \"type\": \"mesh3d\"}], \"parcoords\": [{\"line\": {\"colorbar\": {\"outlinewidth\": 0, \"ticks\": \"\"}}, \"type\": \"parcoords\"}], \"pie\": [{\"automargin\": true, \"type\": \"pie\"}], \"scatter\": [{\"marker\": {\"colorbar\": {\"outlinewidth\": 0, \"ticks\": \"\"}}, \"type\": \"scatter\"}], \"scatter3d\": [{\"line\": {\"colorbar\": {\"outlinewidth\": 0, \"ticks\": \"\"}}, \"marker\": {\"colorbar\": {\"outlinewidth\": 0, \"ticks\": \"\"}}, \"type\": \"scatter3d\"}], \"scattercarpet\": [{\"marker\": {\"colorbar\": {\"outlinewidth\": 0, \"ticks\": \"\"}}, \"type\": \"scattercarpet\"}], \"scattergeo\": [{\"marker\": {\"colorbar\": {\"outlinewidth\": 0, \"ticks\": \"\"}}, \"type\": \"scattergeo\"}], \"scattergl\": [{\"marker\": {\"colorbar\": {\"outlinewidth\": 0, \"ticks\": \"\"}}, \"type\": \"scattergl\"}], \"scattermapbox\": [{\"marker\": {\"colorbar\": {\"outlinewidth\": 0, \"ticks\": \"\"}}, \"type\": \"scattermapbox\"}], \"scatterpolar\": [{\"marker\": {\"colorbar\": {\"outlinewidth\": 0, \"ticks\": \"\"}}, \"type\": \"scatterpolar\"}], \"scatterpolargl\": [{\"marker\": {\"colorbar\": {\"outlinewidth\": 0, \"ticks\": \"\"}}, \"type\": \"scatterpolargl\"}], \"scatterternary\": [{\"marker\": {\"colorbar\": {\"outlinewidth\": 0, \"ticks\": \"\"}}, \"type\": \"scatterternary\"}], \"surface\": [{\"colorbar\": {\"outlinewidth\": 0, \"ticks\": \"\"}, \"colorscale\": [[0.0, \"#0d0887\"], [0.1111111111111111, \"#46039f\"], [0.2222222222222222, \"#7201a8\"], [0.3333333333333333, \"#9c179e\"], [0.4444444444444444, \"#bd3786\"], [0.5555555555555556, \"#d8576b\"], [0.6666666666666666, \"#ed7953\"], [0.7777777777777778, \"#fb9f3a\"], [0.8888888888888888, \"#fdca26\"], [1.0, \"#f0f921\"]], \"type\": \"surface\"}], \"table\": [{\"cells\": {\"fill\": {\"color\": \"#EBF0F8\"}, \"line\": {\"color\": \"white\"}}, \"header\": {\"fill\": {\"color\": \"#C8D4E3\"}, \"line\": {\"color\": \"white\"}}, \"type\": \"table\"}]}, \"layout\": {\"annotationdefaults\": {\"arrowcolor\": \"#2a3f5f\", \"arrowhead\": 0, \"arrowwidth\": 1}, \"coloraxis\": {\"colorbar\": {\"outlinewidth\": 0, \"ticks\": \"\"}}, \"colorscale\": {\"diverging\": [[0, \"#8e0152\"], [0.1, \"#c51b7d\"], [0.2, \"#de77ae\"], [0.3, \"#f1b6da\"], [0.4, \"#fde0ef\"], [0.5, \"#f7f7f7\"], [0.6, \"#e6f5d0\"], [0.7, \"#b8e186\"], [0.8, \"#7fbc41\"], [0.9, \"#4d9221\"], [1, \"#276419\"]], \"sequential\": [[0.0, \"#0d0887\"], [0.1111111111111111, \"#46039f\"], [0.2222222222222222, \"#7201a8\"], [0.3333333333333333, \"#9c179e\"], [0.4444444444444444, \"#bd3786\"], [0.5555555555555556, \"#d8576b\"], [0.6666666666666666, \"#ed7953\"], [0.7777777777777778, \"#fb9f3a\"], [0.8888888888888888, \"#fdca26\"], [1.0, \"#f0f921\"]], \"sequentialminus\": [[0.0, \"#0d0887\"], [0.1111111111111111, \"#46039f\"], [0.2222222222222222, \"#7201a8\"], [0.3333333333333333, \"#9c179e\"], [0.4444444444444444, \"#bd3786\"], [0.5555555555555556, \"#d8576b\"], [0.6666666666666666, \"#ed7953\"], [0.7777777777777778, \"#fb9f3a\"], [0.8888888888888888, \"#fdca26\"], [1.0, \"#f0f921\"]]}, \"colorway\": [\"#636efa\", \"#EF553B\", \"#00cc96\", \"#ab63fa\", \"#FFA15A\", \"#19d3f3\", \"#FF6692\", \"#B6E880\", \"#FF97FF\", \"#FECB52\"], \"font\": {\"color\": \"#2a3f5f\"}, \"geo\": {\"bgcolor\": \"white\", \"lakecolor\": \"white\", \"landcolor\": \"#E5ECF6\", \"showlakes\": true, \"showland\": true, \"subunitcolor\": \"white\"}, \"hoverlabel\": {\"align\": \"left\"}, \"hovermode\": \"closest\", \"mapbox\": {\"style\": \"light\"}, \"paper_bgcolor\": \"white\", \"plot_bgcolor\": \"#E5ECF6\", \"polar\": {\"angularaxis\": {\"gridcolor\": \"white\", \"linecolor\": \"white\", \"ticks\": \"\"}, \"bgcolor\": \"#E5ECF6\", \"radialaxis\": {\"gridcolor\": \"white\", \"linecolor\": \"white\", \"ticks\": \"\"}}, \"scene\": {\"xaxis\": {\"backgroundcolor\": \"#E5ECF6\", \"gridcolor\": \"white\", \"gridwidth\": 2, \"linecolor\": \"white\", \"showbackground\": true, \"ticks\": \"\", \"zerolinecolor\": \"white\"}, \"yaxis\": {\"backgroundcolor\": \"#E5ECF6\", \"gridcolor\": \"white\", \"gridwidth\": 2, \"linecolor\": \"white\", \"showbackground\": true, \"ticks\": \"\", \"zerolinecolor\": \"white\"}, \"zaxis\": {\"backgroundcolor\": \"#E5ECF6\", \"gridcolor\": \"white\", \"gridwidth\": 2, \"linecolor\": \"white\", \"showbackground\": true, \"ticks\": \"\", \"zerolinecolor\": \"white\"}}, \"shapedefaults\": {\"line\": {\"color\": \"#2a3f5f\"}}, \"ternary\": {\"aaxis\": {\"gridcolor\": \"white\", \"linecolor\": \"white\", \"ticks\": \"\"}, \"baxis\": {\"gridcolor\": \"white\", \"linecolor\": \"white\", \"ticks\": \"\"}, \"bgcolor\": \"#E5ECF6\", \"caxis\": {\"gridcolor\": \"white\", \"linecolor\": \"white\", \"ticks\": \"\"}}, \"title\": {\"x\": 0.05}, \"xaxis\": {\"automargin\": true, \"gridcolor\": \"white\", \"linecolor\": \"white\", \"ticks\": \"\", \"title\": {\"standoff\": 15}, \"zerolinecolor\": \"white\", \"zerolinewidth\": 2}, \"yaxis\": {\"automargin\": true, \"gridcolor\": \"white\", \"linecolor\": \"white\", \"ticks\": \"\", \"title\": {\"standoff\": 15}, \"zerolinecolor\": \"white\", \"zerolinewidth\": 2}}}, \"title\": {\"text\": \"Module number 11\"}},\n",
       "                        {\"responsive\": true}\n",
       "                    ).then(function(){\n",
       "                            \n",
       "var gd = document.getElementById('7452c693-670f-419d-a4e6-75339b522fc8');\n",
       "var x = new MutationObserver(function (mutations, observer) {{\n",
       "        var display = window.getComputedStyle(gd).display;\n",
       "        if (!display || display === 'none') {{\n",
       "            console.log([gd, 'removed!']);\n",
       "            Plotly.purge(gd);\n",
       "            observer.disconnect();\n",
       "        }}\n",
       "}});\n",
       "\n",
       "// Listen for the removal of the full notebook cells\n",
       "var notebookContainer = gd.closest('#notebook-container');\n",
       "if (notebookContainer) {{\n",
       "    x.observe(notebookContainer, {childList: true});\n",
       "}}\n",
       "\n",
       "// Listen for the clearing of the current output cell\n",
       "var outputEl = gd.closest('.output');\n",
       "if (outputEl) {{\n",
       "    x.observe(outputEl, {childList: true});\n",
       "}}\n",
       "\n",
       "                        })\n",
       "                };\n",
       "                });\n",
       "            </script>\n",
       "        </div>"
      ]
     },
     "metadata": {},
     "output_type": "display_data"
    },
    {
     "data": {
      "application/vnd.plotly.v1+json": {
       "config": {
        "plotlyServerURL": "https://plot.ly"
       },
       "data": [
        {
         "mode": "lines+markers",
         "name": "Pulse index: 0",
         "type": "scatter",
         "x": [
          6381770,
          6381771,
          6381772,
          6381773,
          6381774,
          6381775,
          6381776,
          6381777,
          6381778,
          6381779,
          6381780,
          6381781,
          6381782,
          6381783,
          6381784,
          6381785,
          6381786,
          6381787,
          6381788,
          6381789,
          6381790,
          6381791
         ],
         "y": [
          0.05948604270815849,
          -0.00010378837760072201,
          -0.032159507274627686,
          -0.022484974935650826,
          -0.035098105669021606,
          -0.6705523133277893,
          0.3766247034072876,
          0.08035585284233093,
          -0.3776302635669708,
          0.23073101043701172,
          -0.027032578364014626,
          -0.04406265914440155,
          -0.10838223248720169,
          0.09932675957679749,
          -0.14133387804031372,
          -0.033866073936223984,
          -0.03421454131603241,
          0.005653646774590015,
          0.04270376265048981,
          -0.18012477457523346,
          -0.041792042553424835,
          0.0521995984017849
         ]
        },
        {
         "mode": "lines+markers",
         "name": "Pulse index: 1",
         "type": "scatter",
         "x": [
          6381770,
          6381771,
          6381772,
          6381773,
          6381774,
          6381775,
          6381776,
          6381777,
          6381778,
          6381779,
          6381780,
          6381781,
          6381782,
          6381783,
          6381784,
          6381785,
          6381786,
          6381787,
          6381788,
          6381789,
          6381790,
          6381791
         ],
         "y": [
          -0.00018590071704238653,
          0.33955711126327515,
          0.698829710483551,
          0.013987839221954346,
          -0.06331825256347656,
          0.013871360570192337,
          0.011882096529006958,
          0.1350478231906891,
          -0.020991723984479904,
          0.047778788954019547,
          0.034337688237428665,
          -0.11901960521936417,
          0.07020213454961777,
          -0.043535709381103516,
          -0.007130736019462347,
          0.1903042495250702,
          -0.11335697025060654,
          -0.1316894292831421,
          -0.07845138758420944,
          -0.1369926482439041,
          0.17338763177394867,
          0.05313262715935707
         ]
        },
        {
         "mode": "lines+markers",
         "name": "Pulse index: 2",
         "type": "scatter",
         "x": [
          6381770,
          6381771,
          6381772,
          6381773,
          6381774,
          6381775,
          6381776,
          6381777,
          6381778,
          6381779,
          6381780,
          6381781,
          6381782,
          6381783,
          6381784,
          6381785,
          6381786,
          6381787,
          6381788,
          6381789,
          6381790,
          6381791
         ],
         "y": [
          -0.025936685502529144,
          -0.01007039099931717,
          0.055162522941827774,
          -0.07725626230239868,
          -0.0442039780318737,
          1.2655376195907593,
          0.07656574249267578,
          0.08285417407751083,
          -0.029521122574806213,
          0.0020869148429483175,
          -0.1269901990890503,
          0.4534262716770172,
          -0.027734432369470596,
          0.07075385004281998,
          -1.2453311681747437,
          -0.07807424664497375,
          null,
          0.04450668767094612,
          -0.04016134887933731,
          0.01759309321641922,
          0.015415471978485584,
          -0.004076183773577213
         ]
        },
        {
         "mode": "lines+markers",
         "name": "Pulse index: 3",
         "type": "scatter",
         "x": [
          6381770,
          6381771,
          6381772,
          6381773,
          6381774,
          6381775,
          6381776,
          6381777,
          6381778,
          6381779,
          6381780,
          6381781,
          6381782,
          6381783,
          6381784,
          6381785,
          6381786,
          6381787,
          6381788,
          6381789,
          6381790,
          6381791
         ],
         "y": [
          -0.05492911487817764,
          -0.3651474118232727,
          -0.06755991280078888,
          -0.011326560750603676,
          -0.2797378599643707,
          -0.07544645667076111,
          -0.44914764165878296,
          -0.3833010792732239,
          -0.3365386426448822,
          -0.46352386474609375,
          -0.42433562874794006,
          -0.3897799551486969,
          -0.5559945702552795,
          -0.28426238894462585,
          -0.23428721725940704,
          -0.8785805106163025,
          -0.1992245465517044,
          -0.15610964596271515,
          -0.2887985110282898,
          -0.23509857058525085,
          -0.8925012946128845,
          -0.5768293142318726
         ]
        },
        {
         "mode": "lines+markers",
         "name": "Pulse index: 4",
         "type": "scatter",
         "x": [
          6381770,
          6381771,
          6381772,
          6381773,
          6381774,
          6381775,
          6381776,
          6381777,
          6381778,
          6381779,
          6381780,
          6381781,
          6381782,
          6381783,
          6381784,
          6381785,
          6381786,
          6381787,
          6381788,
          6381789,
          6381790,
          6381791
         ],
         "y": [
          0.29638850688934326,
          0.23801617324352264,
          0.0603606142103672,
          -0.07438294589519501,
          -0.34268665313720703,
          -0.1647479236125946,
          -0.07835093885660172,
          0.05459163337945938,
          0.12240742146968842,
          -0.019303007051348686,
          -0.10271494090557098,
          0.198184072971344,
          -0.20821112394332886,
          -0.051726166158914566,
          -0.009085886180400848,
          -0.5877777338027954,
          -0.38874316215515137,
          -0.38143280148506165,
          -0.4441765248775482,
          -0.46232104301452637,
          -0.24074029922485352,
          -0.47641366720199585
         ]
        },
        {
         "mode": "lines+markers",
         "name": "Pulse index: 5",
         "type": "scatter",
         "x": [
          6381770,
          6381771,
          6381772,
          6381773,
          6381774,
          6381775,
          6381776,
          6381777,
          6381778,
          6381779,
          6381780,
          6381781,
          6381782,
          6381783,
          6381784,
          6381785,
          6381786,
          6381787,
          6381788,
          6381789,
          6381790,
          6381791
         ],
         "y": [
          -0.06700654327869415,
          -0.08217921853065491,
          -0.21258322894573212,
          -0.35204556584358215,
          -0.2807350754737854,
          -0.10570209473371506,
          0.43951985239982605,
          -0.09347431361675262,
          0.0011784440139308572,
          -0.2793482840061188,
          -0.12728053331375122,
          -0.5712007284164429,
          -0.4413948357105255,
          -0.5026112198829651,
          -0.2368815541267395,
          -0.6274415850639343,
          -0.34273582696914673,
          -0.44696396589279175,
          -0.5437971353530884,
          -0.3602956533432007,
          -0.9821725487709045,
          -0.454203337430954
         ]
        },
        {
         "mode": "lines+markers",
         "name": "Pulse index: 6",
         "type": "scatter",
         "x": [
          6381770,
          6381771,
          6381772,
          6381773,
          6381774,
          6381775,
          6381776,
          6381777,
          6381778,
          6381779,
          6381780,
          6381781,
          6381782,
          6381783,
          6381784,
          6381785,
          6381786,
          6381787,
          6381788,
          6381789,
          6381790,
          6381791
         ],
         "y": [
          0.022658921778202057,
          0.03055785968899727,
          0.037223249673843384,
          -0.18328551948070526,
          -0.006492900662124157,
          0.15720339119434357,
          0.052389517426490784,
          -0.2591131627559662,
          -0.21708565950393677,
          -0.5021429657936096,
          -0.5718157887458801,
          -0.5833349823951721,
          -0.7114154100418091,
          -0.48704224824905396,
          -0.3995656669139862,
          -0.6301707625389099,
          -0.551745593547821,
          -0.46151816844940186,
          -0.7034631371498108,
          -0.48147523403167725,
          -0.869937539100647,
          -0.8479253649711609
         ]
        },
        {
         "mode": "lines+markers",
         "name": "Pulse index: 7",
         "type": "scatter",
         "x": [
          6381770,
          6381771,
          6381772,
          6381773,
          6381774,
          6381775,
          6381776,
          6381777,
          6381778,
          6381779,
          6381780,
          6381781,
          6381782,
          6381783,
          6381784,
          6381785,
          6381786,
          6381787,
          6381788,
          6381789,
          6381790,
          6381791
         ],
         "y": [
          0.05695178732275963,
          0.015880050137639046,
          0.21952928602695465,
          -0.2935388386249542,
          -0.08875861763954163,
          -0.06477241218090057,
          -0.3145178556442261,
          -0.13135993480682373,
          -0.1558816134929657,
          0.0023833466693758965,
          -0.5814917087554932,
          -0.47571778297424316,
          -0.2820318937301636,
          -0.02842048555612564,
          -0.47105860710144043,
          -0.6320785284042358,
          -0.3655926585197449,
          -0.29852494597435,
          -0.35849425196647644,
          -0.5826281905174255,
          -0.9624415040016174,
          -0.6502840518951416
         ]
        },
        {
         "mode": "lines+markers",
         "name": "Pulse index: 8",
         "type": "scatter",
         "x": [
          6381770,
          6381771,
          6381772,
          6381773,
          6381774,
          6381775,
          6381776,
          6381777,
          6381778,
          6381779,
          6381780,
          6381781,
          6381782,
          6381783,
          6381784,
          6381785,
          6381786,
          6381787,
          6381788,
          6381789,
          6381790,
          6381791
         ],
         "y": [
          -0.057407643646001816,
          0.2098061442375183,
          0.0701880007982254,
          -0.39142268896102905,
          -0.6041387915611267,
          -0.30807000398635864,
          -0.42244866490364075,
          -0.5658746361732483,
          -0.564379870891571,
          -0.40038812160491943,
          -0.46073657274246216,
          -0.5544927716255188,
          -0.6401440501213074,
          -0.4298528730869293,
          -0.7196527123451233,
          -0.6981515884399414,
          -0.5425761938095093,
          -0.6701374650001526,
          -0.5962902903556824,
          -0.674318253993988,
          -0.652836263179779,
          -0.4970819652080536
         ]
        },
        {
         "mode": "lines+markers",
         "name": "Pulse index: 9",
         "type": "scatter",
         "x": [
          6381770,
          6381771,
          6381772,
          6381773,
          6381774,
          6381775,
          6381776,
          6381777,
          6381778,
          6381779,
          6381780,
          6381781,
          6381782,
          6381783,
          6381784,
          6381785,
          6381786,
          6381787,
          6381788,
          6381789,
          6381790,
          6381791
         ],
         "y": [
          -0.08761144429445267,
          -0.24469448626041412,
          -0.44416630268096924,
          -0.5156899094581604,
          -0.3335115909576416,
          -0.4760781228542328,
          -0.6319937705993652,
          -0.3078713119029999,
          -0.00036050306516699493,
          -0.6626664996147156,
          -0.8525499105453491,
          -1.028506875038147,
          -0.7938034534454346,
          -0.6599833965301514,
          -0.4257948100566864,
          -1.011456847190857,
          -0.5959940552711487,
          -0.5433335900306702,
          -0.48781338334083557,
          -0.589576005935669,
          -0.9875968098640442,
          -0.5562232136726379
         ]
        },
        {
         "mode": "lines+markers",
         "name": "Pulse index: 10",
         "type": "scatter",
         "x": [
          6381770,
          6381771,
          6381772,
          6381773,
          6381774,
          6381775,
          6381776,
          6381777,
          6381778,
          6381779,
          6381780,
          6381781,
          6381782,
          6381783,
          6381784,
          6381785,
          6381786,
          6381787,
          6381788,
          6381789,
          6381790,
          6381791
         ],
         "y": [
          0.02210390567779541,
          -0.20297977328300476,
          -0.34124666452407837,
          -0.31839966773986816,
          -0.6614453196525574,
          -0.2677038908004761,
          -0.337310791015625,
          -0.37905943393707275,
          -0.49007558822631836,
          -0.7694342136383057,
          -0.3081890940666199,
          -0.3962017893791199,
          -0.6791192889213562,
          -0.24220281839370728,
          -0.3456023633480072,
          -0.23401908576488495,
          -0.39377257227897644,
          -0.5768083333969116,
          -0.6027618646621704,
          -0.7968371510505676,
          -1.0747002363204956,
          -0.6416087746620178
         ]
        }
       ],
       "layout": {
        "template": {
         "data": {
          "bar": [
           {
            "error_x": {
             "color": "#2a3f5f"
            },
            "error_y": {
             "color": "#2a3f5f"
            },
            "marker": {
             "line": {
              "color": "#E5ECF6",
              "width": 0.5
             }
            },
            "type": "bar"
           }
          ],
          "barpolar": [
           {
            "marker": {
             "line": {
              "color": "#E5ECF6",
              "width": 0.5
             }
            },
            "type": "barpolar"
           }
          ],
          "carpet": [
           {
            "aaxis": {
             "endlinecolor": "#2a3f5f",
             "gridcolor": "white",
             "linecolor": "white",
             "minorgridcolor": "white",
             "startlinecolor": "#2a3f5f"
            },
            "baxis": {
             "endlinecolor": "#2a3f5f",
             "gridcolor": "white",
             "linecolor": "white",
             "minorgridcolor": "white",
             "startlinecolor": "#2a3f5f"
            },
            "type": "carpet"
           }
          ],
          "choropleth": [
           {
            "colorbar": {
             "outlinewidth": 0,
             "ticks": ""
            },
            "type": "choropleth"
           }
          ],
          "contour": [
           {
            "colorbar": {
             "outlinewidth": 0,
             "ticks": ""
            },
            "colorscale": [
             [
              0,
              "#0d0887"
             ],
             [
              0.1111111111111111,
              "#46039f"
             ],
             [
              0.2222222222222222,
              "#7201a8"
             ],
             [
              0.3333333333333333,
              "#9c179e"
             ],
             [
              0.4444444444444444,
              "#bd3786"
             ],
             [
              0.5555555555555556,
              "#d8576b"
             ],
             [
              0.6666666666666666,
              "#ed7953"
             ],
             [
              0.7777777777777778,
              "#fb9f3a"
             ],
             [
              0.8888888888888888,
              "#fdca26"
             ],
             [
              1,
              "#f0f921"
             ]
            ],
            "type": "contour"
           }
          ],
          "contourcarpet": [
           {
            "colorbar": {
             "outlinewidth": 0,
             "ticks": ""
            },
            "type": "contourcarpet"
           }
          ],
          "heatmap": [
           {
            "colorbar": {
             "outlinewidth": 0,
             "ticks": ""
            },
            "colorscale": [
             [
              0,
              "#0d0887"
             ],
             [
              0.1111111111111111,
              "#46039f"
             ],
             [
              0.2222222222222222,
              "#7201a8"
             ],
             [
              0.3333333333333333,
              "#9c179e"
             ],
             [
              0.4444444444444444,
              "#bd3786"
             ],
             [
              0.5555555555555556,
              "#d8576b"
             ],
             [
              0.6666666666666666,
              "#ed7953"
             ],
             [
              0.7777777777777778,
              "#fb9f3a"
             ],
             [
              0.8888888888888888,
              "#fdca26"
             ],
             [
              1,
              "#f0f921"
             ]
            ],
            "type": "heatmap"
           }
          ],
          "heatmapgl": [
           {
            "colorbar": {
             "outlinewidth": 0,
             "ticks": ""
            },
            "colorscale": [
             [
              0,
              "#0d0887"
             ],
             [
              0.1111111111111111,
              "#46039f"
             ],
             [
              0.2222222222222222,
              "#7201a8"
             ],
             [
              0.3333333333333333,
              "#9c179e"
             ],
             [
              0.4444444444444444,
              "#bd3786"
             ],
             [
              0.5555555555555556,
              "#d8576b"
             ],
             [
              0.6666666666666666,
              "#ed7953"
             ],
             [
              0.7777777777777778,
              "#fb9f3a"
             ],
             [
              0.8888888888888888,
              "#fdca26"
             ],
             [
              1,
              "#f0f921"
             ]
            ],
            "type": "heatmapgl"
           }
          ],
          "histogram": [
           {
            "marker": {
             "colorbar": {
              "outlinewidth": 0,
              "ticks": ""
             }
            },
            "type": "histogram"
           }
          ],
          "histogram2d": [
           {
            "colorbar": {
             "outlinewidth": 0,
             "ticks": ""
            },
            "colorscale": [
             [
              0,
              "#0d0887"
             ],
             [
              0.1111111111111111,
              "#46039f"
             ],
             [
              0.2222222222222222,
              "#7201a8"
             ],
             [
              0.3333333333333333,
              "#9c179e"
             ],
             [
              0.4444444444444444,
              "#bd3786"
             ],
             [
              0.5555555555555556,
              "#d8576b"
             ],
             [
              0.6666666666666666,
              "#ed7953"
             ],
             [
              0.7777777777777778,
              "#fb9f3a"
             ],
             [
              0.8888888888888888,
              "#fdca26"
             ],
             [
              1,
              "#f0f921"
             ]
            ],
            "type": "histogram2d"
           }
          ],
          "histogram2dcontour": [
           {
            "colorbar": {
             "outlinewidth": 0,
             "ticks": ""
            },
            "colorscale": [
             [
              0,
              "#0d0887"
             ],
             [
              0.1111111111111111,
              "#46039f"
             ],
             [
              0.2222222222222222,
              "#7201a8"
             ],
             [
              0.3333333333333333,
              "#9c179e"
             ],
             [
              0.4444444444444444,
              "#bd3786"
             ],
             [
              0.5555555555555556,
              "#d8576b"
             ],
             [
              0.6666666666666666,
              "#ed7953"
             ],
             [
              0.7777777777777778,
              "#fb9f3a"
             ],
             [
              0.8888888888888888,
              "#fdca26"
             ],
             [
              1,
              "#f0f921"
             ]
            ],
            "type": "histogram2dcontour"
           }
          ],
          "mesh3d": [
           {
            "colorbar": {
             "outlinewidth": 0,
             "ticks": ""
            },
            "type": "mesh3d"
           }
          ],
          "parcoords": [
           {
            "line": {
             "colorbar": {
              "outlinewidth": 0,
              "ticks": ""
             }
            },
            "type": "parcoords"
           }
          ],
          "pie": [
           {
            "automargin": true,
            "type": "pie"
           }
          ],
          "scatter": [
           {
            "marker": {
             "colorbar": {
              "outlinewidth": 0,
              "ticks": ""
             }
            },
            "type": "scatter"
           }
          ],
          "scatter3d": [
           {
            "line": {
             "colorbar": {
              "outlinewidth": 0,
              "ticks": ""
             }
            },
            "marker": {
             "colorbar": {
              "outlinewidth": 0,
              "ticks": ""
             }
            },
            "type": "scatter3d"
           }
          ],
          "scattercarpet": [
           {
            "marker": {
             "colorbar": {
              "outlinewidth": 0,
              "ticks": ""
             }
            },
            "type": "scattercarpet"
           }
          ],
          "scattergeo": [
           {
            "marker": {
             "colorbar": {
              "outlinewidth": 0,
              "ticks": ""
             }
            },
            "type": "scattergeo"
           }
          ],
          "scattergl": [
           {
            "marker": {
             "colorbar": {
              "outlinewidth": 0,
              "ticks": ""
             }
            },
            "type": "scattergl"
           }
          ],
          "scattermapbox": [
           {
            "marker": {
             "colorbar": {
              "outlinewidth": 0,
              "ticks": ""
             }
            },
            "type": "scattermapbox"
           }
          ],
          "scatterpolar": [
           {
            "marker": {
             "colorbar": {
              "outlinewidth": 0,
              "ticks": ""
             }
            },
            "type": "scatterpolar"
           }
          ],
          "scatterpolargl": [
           {
            "marker": {
             "colorbar": {
              "outlinewidth": 0,
              "ticks": ""
             }
            },
            "type": "scatterpolargl"
           }
          ],
          "scatterternary": [
           {
            "marker": {
             "colorbar": {
              "outlinewidth": 0,
              "ticks": ""
             }
            },
            "type": "scatterternary"
           }
          ],
          "surface": [
           {
            "colorbar": {
             "outlinewidth": 0,
             "ticks": ""
            },
            "colorscale": [
             [
              0,
              "#0d0887"
             ],
             [
              0.1111111111111111,
              "#46039f"
             ],
             [
              0.2222222222222222,
              "#7201a8"
             ],
             [
              0.3333333333333333,
              "#9c179e"
             ],
             [
              0.4444444444444444,
              "#bd3786"
             ],
             [
              0.5555555555555556,
              "#d8576b"
             ],
             [
              0.6666666666666666,
              "#ed7953"
             ],
             [
              0.7777777777777778,
              "#fb9f3a"
             ],
             [
              0.8888888888888888,
              "#fdca26"
             ],
             [
              1,
              "#f0f921"
             ]
            ],
            "type": "surface"
           }
          ],
          "table": [
           {
            "cells": {
             "fill": {
              "color": "#EBF0F8"
             },
             "line": {
              "color": "white"
             }
            },
            "header": {
             "fill": {
              "color": "#C8D4E3"
             },
             "line": {
              "color": "white"
             }
            },
            "type": "table"
           }
          ]
         },
         "layout": {
          "annotationdefaults": {
           "arrowcolor": "#2a3f5f",
           "arrowhead": 0,
           "arrowwidth": 1
          },
          "coloraxis": {
           "colorbar": {
            "outlinewidth": 0,
            "ticks": ""
           }
          },
          "colorscale": {
           "diverging": [
            [
             0,
             "#8e0152"
            ],
            [
             0.1,
             "#c51b7d"
            ],
            [
             0.2,
             "#de77ae"
            ],
            [
             0.3,
             "#f1b6da"
            ],
            [
             0.4,
             "#fde0ef"
            ],
            [
             0.5,
             "#f7f7f7"
            ],
            [
             0.6,
             "#e6f5d0"
            ],
            [
             0.7,
             "#b8e186"
            ],
            [
             0.8,
             "#7fbc41"
            ],
            [
             0.9,
             "#4d9221"
            ],
            [
             1,
             "#276419"
            ]
           ],
           "sequential": [
            [
             0,
             "#0d0887"
            ],
            [
             0.1111111111111111,
             "#46039f"
            ],
            [
             0.2222222222222222,
             "#7201a8"
            ],
            [
             0.3333333333333333,
             "#9c179e"
            ],
            [
             0.4444444444444444,
             "#bd3786"
            ],
            [
             0.5555555555555556,
             "#d8576b"
            ],
            [
             0.6666666666666666,
             "#ed7953"
            ],
            [
             0.7777777777777778,
             "#fb9f3a"
            ],
            [
             0.8888888888888888,
             "#fdca26"
            ],
            [
             1,
             "#f0f921"
            ]
           ],
           "sequentialminus": [
            [
             0,
             "#0d0887"
            ],
            [
             0.1111111111111111,
             "#46039f"
            ],
            [
             0.2222222222222222,
             "#7201a8"
            ],
            [
             0.3333333333333333,
             "#9c179e"
            ],
            [
             0.4444444444444444,
             "#bd3786"
            ],
            [
             0.5555555555555556,
             "#d8576b"
            ],
            [
             0.6666666666666666,
             "#ed7953"
            ],
            [
             0.7777777777777778,
             "#fb9f3a"
            ],
            [
             0.8888888888888888,
             "#fdca26"
            ],
            [
             1,
             "#f0f921"
            ]
           ]
          },
          "colorway": [
           "#636efa",
           "#EF553B",
           "#00cc96",
           "#ab63fa",
           "#FFA15A",
           "#19d3f3",
           "#FF6692",
           "#B6E880",
           "#FF97FF",
           "#FECB52"
          ],
          "font": {
           "color": "#2a3f5f"
          },
          "geo": {
           "bgcolor": "white",
           "lakecolor": "white",
           "landcolor": "#E5ECF6",
           "showlakes": true,
           "showland": true,
           "subunitcolor": "white"
          },
          "hoverlabel": {
           "align": "left"
          },
          "hovermode": "closest",
          "mapbox": {
           "style": "light"
          },
          "paper_bgcolor": "white",
          "plot_bgcolor": "#E5ECF6",
          "polar": {
           "angularaxis": {
            "gridcolor": "white",
            "linecolor": "white",
            "ticks": ""
           },
           "bgcolor": "#E5ECF6",
           "radialaxis": {
            "gridcolor": "white",
            "linecolor": "white",
            "ticks": ""
           }
          },
          "scene": {
           "xaxis": {
            "backgroundcolor": "#E5ECF6",
            "gridcolor": "white",
            "gridwidth": 2,
            "linecolor": "white",
            "showbackground": true,
            "ticks": "",
            "zerolinecolor": "white"
           },
           "yaxis": {
            "backgroundcolor": "#E5ECF6",
            "gridcolor": "white",
            "gridwidth": 2,
            "linecolor": "white",
            "showbackground": true,
            "ticks": "",
            "zerolinecolor": "white"
           },
           "zaxis": {
            "backgroundcolor": "#E5ECF6",
            "gridcolor": "white",
            "gridwidth": 2,
            "linecolor": "white",
            "showbackground": true,
            "ticks": "",
            "zerolinecolor": "white"
           }
          },
          "shapedefaults": {
           "line": {
            "color": "#2a3f5f"
           }
          },
          "ternary": {
           "aaxis": {
            "gridcolor": "white",
            "linecolor": "white",
            "ticks": ""
           },
           "baxis": {
            "gridcolor": "white",
            "linecolor": "white",
            "ticks": ""
           },
           "bgcolor": "#E5ECF6",
           "caxis": {
            "gridcolor": "white",
            "linecolor": "white",
            "ticks": ""
           }
          },
          "title": {
           "x": 0.05
          },
          "xaxis": {
           "automargin": true,
           "gridcolor": "white",
           "linecolor": "white",
           "ticks": "",
           "title": {
            "standoff": 15
           },
           "zerolinecolor": "white",
           "zerolinewidth": 2
          },
          "yaxis": {
           "automargin": true,
           "gridcolor": "white",
           "linecolor": "white",
           "ticks": "",
           "title": {
            "standoff": 15
           },
           "zerolinecolor": "white",
           "zerolinewidth": 2
          }
         }
        },
        "title": {
         "text": "Module number 12"
        }
       }
      },
      "text/html": [
       "<div>\n",
       "        \n",
       "        \n",
       "            <div id=\"972961f0-62d6-4469-80ba-d1b93d183813\" class=\"plotly-graph-div\" style=\"height:525px; width:100%;\"></div>\n",
       "            <script type=\"text/javascript\">\n",
       "                require([\"plotly\"], function(Plotly) {\n",
       "                    window.PLOTLYENV=window.PLOTLYENV || {};\n",
       "                    \n",
       "                if (document.getElementById(\"972961f0-62d6-4469-80ba-d1b93d183813\")) {\n",
       "                    Plotly.newPlot(\n",
       "                        '972961f0-62d6-4469-80ba-d1b93d183813',\n",
       "                        [{\"mode\": \"lines+markers\", \"name\": \"Pulse index: 0\", \"type\": \"scatter\", \"x\": [6381770, 6381771, 6381772, 6381773, 6381774, 6381775, 6381776, 6381777, 6381778, 6381779, 6381780, 6381781, 6381782, 6381783, 6381784, 6381785, 6381786, 6381787, 6381788, 6381789, 6381790, 6381791], \"y\": [0.05948604270815849, -0.00010378837760072201, -0.032159507274627686, -0.022484974935650826, -0.035098105669021606, -0.6705523133277893, 0.3766247034072876, 0.08035585284233093, -0.3776302635669708, 0.23073101043701172, -0.027032578364014626, -0.04406265914440155, -0.10838223248720169, 0.09932675957679749, -0.14133387804031372, -0.033866073936223984, -0.03421454131603241, 0.005653646774590015, 0.04270376265048981, -0.18012477457523346, -0.041792042553424835, 0.0521995984017849]}, {\"mode\": \"lines+markers\", \"name\": \"Pulse index: 1\", \"type\": \"scatter\", \"x\": [6381770, 6381771, 6381772, 6381773, 6381774, 6381775, 6381776, 6381777, 6381778, 6381779, 6381780, 6381781, 6381782, 6381783, 6381784, 6381785, 6381786, 6381787, 6381788, 6381789, 6381790, 6381791], \"y\": [-0.00018590071704238653, 0.33955711126327515, 0.698829710483551, 0.013987839221954346, -0.06331825256347656, 0.013871360570192337, 0.011882096529006958, 0.1350478231906891, -0.020991723984479904, 0.047778788954019547, 0.034337688237428665, -0.11901960521936417, 0.07020213454961777, -0.043535709381103516, -0.007130736019462347, 0.1903042495250702, -0.11335697025060654, -0.1316894292831421, -0.07845138758420944, -0.1369926482439041, 0.17338763177394867, 0.05313262715935707]}, {\"mode\": \"lines+markers\", \"name\": \"Pulse index: 2\", \"type\": \"scatter\", \"x\": [6381770, 6381771, 6381772, 6381773, 6381774, 6381775, 6381776, 6381777, 6381778, 6381779, 6381780, 6381781, 6381782, 6381783, 6381784, 6381785, 6381786, 6381787, 6381788, 6381789, 6381790, 6381791], \"y\": [-0.025936685502529144, -0.01007039099931717, 0.055162522941827774, -0.07725626230239868, -0.0442039780318737, 1.2655376195907593, 0.07656574249267578, 0.08285417407751083, -0.029521122574806213, 0.0020869148429483175, -0.1269901990890503, 0.4534262716770172, -0.027734432369470596, 0.07075385004281998, -1.2453311681747437, -0.07807424664497375, null, 0.04450668767094612, -0.04016134887933731, 0.01759309321641922, 0.015415471978485584, -0.004076183773577213]}, {\"mode\": \"lines+markers\", \"name\": \"Pulse index: 3\", \"type\": \"scatter\", \"x\": [6381770, 6381771, 6381772, 6381773, 6381774, 6381775, 6381776, 6381777, 6381778, 6381779, 6381780, 6381781, 6381782, 6381783, 6381784, 6381785, 6381786, 6381787, 6381788, 6381789, 6381790, 6381791], \"y\": [-0.05492911487817764, -0.3651474118232727, -0.06755991280078888, -0.011326560750603676, -0.2797378599643707, -0.07544645667076111, -0.44914764165878296, -0.3833010792732239, -0.3365386426448822, -0.46352386474609375, -0.42433562874794006, -0.3897799551486969, -0.5559945702552795, -0.28426238894462585, -0.23428721725940704, -0.8785805106163025, -0.1992245465517044, -0.15610964596271515, -0.2887985110282898, -0.23509857058525085, -0.8925012946128845, -0.5768293142318726]}, {\"mode\": \"lines+markers\", \"name\": \"Pulse index: 4\", \"type\": \"scatter\", \"x\": [6381770, 6381771, 6381772, 6381773, 6381774, 6381775, 6381776, 6381777, 6381778, 6381779, 6381780, 6381781, 6381782, 6381783, 6381784, 6381785, 6381786, 6381787, 6381788, 6381789, 6381790, 6381791], \"y\": [0.29638850688934326, 0.23801617324352264, 0.0603606142103672, -0.07438294589519501, -0.34268665313720703, -0.1647479236125946, -0.07835093885660172, 0.05459163337945938, 0.12240742146968842, -0.019303007051348686, -0.10271494090557098, 0.198184072971344, -0.20821112394332886, -0.051726166158914566, -0.009085886180400848, -0.5877777338027954, -0.38874316215515137, -0.38143280148506165, -0.4441765248775482, -0.46232104301452637, -0.24074029922485352, -0.47641366720199585]}, {\"mode\": \"lines+markers\", \"name\": \"Pulse index: 5\", \"type\": \"scatter\", \"x\": [6381770, 6381771, 6381772, 6381773, 6381774, 6381775, 6381776, 6381777, 6381778, 6381779, 6381780, 6381781, 6381782, 6381783, 6381784, 6381785, 6381786, 6381787, 6381788, 6381789, 6381790, 6381791], \"y\": [-0.06700654327869415, -0.08217921853065491, -0.21258322894573212, -0.35204556584358215, -0.2807350754737854, -0.10570209473371506, 0.43951985239982605, -0.09347431361675262, 0.0011784440139308572, -0.2793482840061188, -0.12728053331375122, -0.5712007284164429, -0.4413948357105255, -0.5026112198829651, -0.2368815541267395, -0.6274415850639343, -0.34273582696914673, -0.44696396589279175, -0.5437971353530884, -0.3602956533432007, -0.9821725487709045, -0.454203337430954]}, {\"mode\": \"lines+markers\", \"name\": \"Pulse index: 6\", \"type\": \"scatter\", \"x\": [6381770, 6381771, 6381772, 6381773, 6381774, 6381775, 6381776, 6381777, 6381778, 6381779, 6381780, 6381781, 6381782, 6381783, 6381784, 6381785, 6381786, 6381787, 6381788, 6381789, 6381790, 6381791], \"y\": [0.022658921778202057, 0.03055785968899727, 0.037223249673843384, -0.18328551948070526, -0.006492900662124157, 0.15720339119434357, 0.052389517426490784, -0.2591131627559662, -0.21708565950393677, -0.5021429657936096, -0.5718157887458801, -0.5833349823951721, -0.7114154100418091, -0.48704224824905396, -0.3995656669139862, -0.6301707625389099, -0.551745593547821, -0.46151816844940186, -0.7034631371498108, -0.48147523403167725, -0.869937539100647, -0.8479253649711609]}, {\"mode\": \"lines+markers\", \"name\": \"Pulse index: 7\", \"type\": \"scatter\", \"x\": [6381770, 6381771, 6381772, 6381773, 6381774, 6381775, 6381776, 6381777, 6381778, 6381779, 6381780, 6381781, 6381782, 6381783, 6381784, 6381785, 6381786, 6381787, 6381788, 6381789, 6381790, 6381791], \"y\": [0.05695178732275963, 0.015880050137639046, 0.21952928602695465, -0.2935388386249542, -0.08875861763954163, -0.06477241218090057, -0.3145178556442261, -0.13135993480682373, -0.1558816134929657, 0.0023833466693758965, -0.5814917087554932, -0.47571778297424316, -0.2820318937301636, -0.02842048555612564, -0.47105860710144043, -0.6320785284042358, -0.3655926585197449, -0.29852494597435, -0.35849425196647644, -0.5826281905174255, -0.9624415040016174, -0.6502840518951416]}, {\"mode\": \"lines+markers\", \"name\": \"Pulse index: 8\", \"type\": \"scatter\", \"x\": [6381770, 6381771, 6381772, 6381773, 6381774, 6381775, 6381776, 6381777, 6381778, 6381779, 6381780, 6381781, 6381782, 6381783, 6381784, 6381785, 6381786, 6381787, 6381788, 6381789, 6381790, 6381791], \"y\": [-0.057407643646001816, 0.2098061442375183, 0.0701880007982254, -0.39142268896102905, -0.6041387915611267, -0.30807000398635864, -0.42244866490364075, -0.5658746361732483, -0.564379870891571, -0.40038812160491943, -0.46073657274246216, -0.5544927716255188, -0.6401440501213074, -0.4298528730869293, -0.7196527123451233, -0.6981515884399414, -0.5425761938095093, -0.6701374650001526, -0.5962902903556824, -0.674318253993988, -0.652836263179779, -0.4970819652080536]}, {\"mode\": \"lines+markers\", \"name\": \"Pulse index: 9\", \"type\": \"scatter\", \"x\": [6381770, 6381771, 6381772, 6381773, 6381774, 6381775, 6381776, 6381777, 6381778, 6381779, 6381780, 6381781, 6381782, 6381783, 6381784, 6381785, 6381786, 6381787, 6381788, 6381789, 6381790, 6381791], \"y\": [-0.08761144429445267, -0.24469448626041412, -0.44416630268096924, -0.5156899094581604, -0.3335115909576416, -0.4760781228542328, -0.6319937705993652, -0.3078713119029999, -0.00036050306516699493, -0.6626664996147156, -0.8525499105453491, -1.028506875038147, -0.7938034534454346, -0.6599833965301514, -0.4257948100566864, -1.011456847190857, -0.5959940552711487, -0.5433335900306702, -0.48781338334083557, -0.589576005935669, -0.9875968098640442, -0.5562232136726379]}, {\"mode\": \"lines+markers\", \"name\": \"Pulse index: 10\", \"type\": \"scatter\", \"x\": [6381770, 6381771, 6381772, 6381773, 6381774, 6381775, 6381776, 6381777, 6381778, 6381779, 6381780, 6381781, 6381782, 6381783, 6381784, 6381785, 6381786, 6381787, 6381788, 6381789, 6381790, 6381791], \"y\": [0.02210390567779541, -0.20297977328300476, -0.34124666452407837, -0.31839966773986816, -0.6614453196525574, -0.2677038908004761, -0.337310791015625, -0.37905943393707275, -0.49007558822631836, -0.7694342136383057, -0.3081890940666199, -0.3962017893791199, -0.6791192889213562, -0.24220281839370728, -0.3456023633480072, -0.23401908576488495, -0.39377257227897644, -0.5768083333969116, -0.6027618646621704, -0.7968371510505676, -1.0747002363204956, -0.6416087746620178]}],\n",
       "                        {\"template\": {\"data\": {\"bar\": [{\"error_x\": {\"color\": \"#2a3f5f\"}, \"error_y\": {\"color\": \"#2a3f5f\"}, \"marker\": {\"line\": {\"color\": \"#E5ECF6\", \"width\": 0.5}}, \"type\": \"bar\"}], \"barpolar\": [{\"marker\": {\"line\": {\"color\": \"#E5ECF6\", \"width\": 0.5}}, \"type\": \"barpolar\"}], \"carpet\": [{\"aaxis\": {\"endlinecolor\": \"#2a3f5f\", \"gridcolor\": \"white\", \"linecolor\": \"white\", \"minorgridcolor\": \"white\", \"startlinecolor\": \"#2a3f5f\"}, \"baxis\": {\"endlinecolor\": \"#2a3f5f\", \"gridcolor\": \"white\", \"linecolor\": \"white\", \"minorgridcolor\": \"white\", \"startlinecolor\": \"#2a3f5f\"}, \"type\": \"carpet\"}], \"choropleth\": [{\"colorbar\": {\"outlinewidth\": 0, \"ticks\": \"\"}, \"type\": \"choropleth\"}], \"contour\": [{\"colorbar\": {\"outlinewidth\": 0, \"ticks\": \"\"}, \"colorscale\": [[0.0, \"#0d0887\"], [0.1111111111111111, \"#46039f\"], [0.2222222222222222, \"#7201a8\"], [0.3333333333333333, \"#9c179e\"], [0.4444444444444444, \"#bd3786\"], [0.5555555555555556, \"#d8576b\"], [0.6666666666666666, \"#ed7953\"], [0.7777777777777778, \"#fb9f3a\"], [0.8888888888888888, \"#fdca26\"], [1.0, \"#f0f921\"]], \"type\": \"contour\"}], \"contourcarpet\": [{\"colorbar\": {\"outlinewidth\": 0, \"ticks\": \"\"}, \"type\": \"contourcarpet\"}], \"heatmap\": [{\"colorbar\": {\"outlinewidth\": 0, \"ticks\": \"\"}, \"colorscale\": [[0.0, \"#0d0887\"], [0.1111111111111111, \"#46039f\"], [0.2222222222222222, \"#7201a8\"], [0.3333333333333333, \"#9c179e\"], [0.4444444444444444, \"#bd3786\"], [0.5555555555555556, \"#d8576b\"], [0.6666666666666666, \"#ed7953\"], [0.7777777777777778, \"#fb9f3a\"], [0.8888888888888888, \"#fdca26\"], [1.0, \"#f0f921\"]], \"type\": \"heatmap\"}], \"heatmapgl\": [{\"colorbar\": {\"outlinewidth\": 0, \"ticks\": \"\"}, \"colorscale\": [[0.0, \"#0d0887\"], [0.1111111111111111, \"#46039f\"], [0.2222222222222222, \"#7201a8\"], [0.3333333333333333, \"#9c179e\"], [0.4444444444444444, \"#bd3786\"], [0.5555555555555556, \"#d8576b\"], [0.6666666666666666, \"#ed7953\"], [0.7777777777777778, \"#fb9f3a\"], [0.8888888888888888, \"#fdca26\"], [1.0, \"#f0f921\"]], \"type\": \"heatmapgl\"}], \"histogram\": [{\"marker\": {\"colorbar\": {\"outlinewidth\": 0, \"ticks\": \"\"}}, \"type\": \"histogram\"}], \"histogram2d\": [{\"colorbar\": {\"outlinewidth\": 0, \"ticks\": \"\"}, \"colorscale\": [[0.0, \"#0d0887\"], [0.1111111111111111, \"#46039f\"], [0.2222222222222222, \"#7201a8\"], [0.3333333333333333, \"#9c179e\"], [0.4444444444444444, \"#bd3786\"], [0.5555555555555556, \"#d8576b\"], [0.6666666666666666, \"#ed7953\"], [0.7777777777777778, \"#fb9f3a\"], [0.8888888888888888, \"#fdca26\"], [1.0, \"#f0f921\"]], \"type\": \"histogram2d\"}], \"histogram2dcontour\": [{\"colorbar\": {\"outlinewidth\": 0, \"ticks\": \"\"}, \"colorscale\": [[0.0, \"#0d0887\"], [0.1111111111111111, \"#46039f\"], [0.2222222222222222, \"#7201a8\"], [0.3333333333333333, \"#9c179e\"], [0.4444444444444444, \"#bd3786\"], [0.5555555555555556, \"#d8576b\"], [0.6666666666666666, \"#ed7953\"], [0.7777777777777778, \"#fb9f3a\"], [0.8888888888888888, \"#fdca26\"], [1.0, \"#f0f921\"]], \"type\": \"histogram2dcontour\"}], \"mesh3d\": [{\"colorbar\": {\"outlinewidth\": 0, \"ticks\": \"\"}, \"type\": \"mesh3d\"}], \"parcoords\": [{\"line\": {\"colorbar\": {\"outlinewidth\": 0, \"ticks\": \"\"}}, \"type\": \"parcoords\"}], \"pie\": [{\"automargin\": true, \"type\": \"pie\"}], \"scatter\": [{\"marker\": {\"colorbar\": {\"outlinewidth\": 0, \"ticks\": \"\"}}, \"type\": \"scatter\"}], \"scatter3d\": [{\"line\": {\"colorbar\": {\"outlinewidth\": 0, \"ticks\": \"\"}}, \"marker\": {\"colorbar\": {\"outlinewidth\": 0, \"ticks\": \"\"}}, \"type\": \"scatter3d\"}], \"scattercarpet\": [{\"marker\": {\"colorbar\": {\"outlinewidth\": 0, \"ticks\": \"\"}}, \"type\": \"scattercarpet\"}], \"scattergeo\": [{\"marker\": {\"colorbar\": {\"outlinewidth\": 0, \"ticks\": \"\"}}, \"type\": \"scattergeo\"}], \"scattergl\": [{\"marker\": {\"colorbar\": {\"outlinewidth\": 0, \"ticks\": \"\"}}, \"type\": \"scattergl\"}], \"scattermapbox\": [{\"marker\": {\"colorbar\": {\"outlinewidth\": 0, \"ticks\": \"\"}}, \"type\": \"scattermapbox\"}], \"scatterpolar\": [{\"marker\": {\"colorbar\": {\"outlinewidth\": 0, \"ticks\": \"\"}}, \"type\": \"scatterpolar\"}], \"scatterpolargl\": [{\"marker\": {\"colorbar\": {\"outlinewidth\": 0, \"ticks\": \"\"}}, \"type\": \"scatterpolargl\"}], \"scatterternary\": [{\"marker\": {\"colorbar\": {\"outlinewidth\": 0, \"ticks\": \"\"}}, \"type\": \"scatterternary\"}], \"surface\": [{\"colorbar\": {\"outlinewidth\": 0, \"ticks\": \"\"}, \"colorscale\": [[0.0, \"#0d0887\"], [0.1111111111111111, \"#46039f\"], [0.2222222222222222, \"#7201a8\"], [0.3333333333333333, \"#9c179e\"], [0.4444444444444444, \"#bd3786\"], [0.5555555555555556, \"#d8576b\"], [0.6666666666666666, \"#ed7953\"], [0.7777777777777778, \"#fb9f3a\"], [0.8888888888888888, \"#fdca26\"], [1.0, \"#f0f921\"]], \"type\": \"surface\"}], \"table\": [{\"cells\": {\"fill\": {\"color\": \"#EBF0F8\"}, \"line\": {\"color\": \"white\"}}, \"header\": {\"fill\": {\"color\": \"#C8D4E3\"}, \"line\": {\"color\": \"white\"}}, \"type\": \"table\"}]}, \"layout\": {\"annotationdefaults\": {\"arrowcolor\": \"#2a3f5f\", \"arrowhead\": 0, \"arrowwidth\": 1}, \"coloraxis\": {\"colorbar\": {\"outlinewidth\": 0, \"ticks\": \"\"}}, \"colorscale\": {\"diverging\": [[0, \"#8e0152\"], [0.1, \"#c51b7d\"], [0.2, \"#de77ae\"], [0.3, \"#f1b6da\"], [0.4, \"#fde0ef\"], [0.5, \"#f7f7f7\"], [0.6, \"#e6f5d0\"], [0.7, \"#b8e186\"], [0.8, \"#7fbc41\"], [0.9, \"#4d9221\"], [1, \"#276419\"]], \"sequential\": [[0.0, \"#0d0887\"], [0.1111111111111111, \"#46039f\"], [0.2222222222222222, \"#7201a8\"], [0.3333333333333333, \"#9c179e\"], [0.4444444444444444, \"#bd3786\"], [0.5555555555555556, \"#d8576b\"], [0.6666666666666666, \"#ed7953\"], [0.7777777777777778, \"#fb9f3a\"], [0.8888888888888888, \"#fdca26\"], [1.0, \"#f0f921\"]], \"sequentialminus\": [[0.0, \"#0d0887\"], [0.1111111111111111, \"#46039f\"], [0.2222222222222222, \"#7201a8\"], [0.3333333333333333, \"#9c179e\"], [0.4444444444444444, \"#bd3786\"], [0.5555555555555556, \"#d8576b\"], [0.6666666666666666, \"#ed7953\"], [0.7777777777777778, \"#fb9f3a\"], [0.8888888888888888, \"#fdca26\"], [1.0, \"#f0f921\"]]}, \"colorway\": [\"#636efa\", \"#EF553B\", \"#00cc96\", \"#ab63fa\", \"#FFA15A\", \"#19d3f3\", \"#FF6692\", \"#B6E880\", \"#FF97FF\", \"#FECB52\"], \"font\": {\"color\": \"#2a3f5f\"}, \"geo\": {\"bgcolor\": \"white\", \"lakecolor\": \"white\", \"landcolor\": \"#E5ECF6\", \"showlakes\": true, \"showland\": true, \"subunitcolor\": \"white\"}, \"hoverlabel\": {\"align\": \"left\"}, \"hovermode\": \"closest\", \"mapbox\": {\"style\": \"light\"}, \"paper_bgcolor\": \"white\", \"plot_bgcolor\": \"#E5ECF6\", \"polar\": {\"angularaxis\": {\"gridcolor\": \"white\", \"linecolor\": \"white\", \"ticks\": \"\"}, \"bgcolor\": \"#E5ECF6\", \"radialaxis\": {\"gridcolor\": \"white\", \"linecolor\": \"white\", \"ticks\": \"\"}}, \"scene\": {\"xaxis\": {\"backgroundcolor\": \"#E5ECF6\", \"gridcolor\": \"white\", \"gridwidth\": 2, \"linecolor\": \"white\", \"showbackground\": true, \"ticks\": \"\", \"zerolinecolor\": \"white\"}, \"yaxis\": {\"backgroundcolor\": \"#E5ECF6\", \"gridcolor\": \"white\", \"gridwidth\": 2, \"linecolor\": \"white\", \"showbackground\": true, \"ticks\": \"\", \"zerolinecolor\": \"white\"}, \"zaxis\": {\"backgroundcolor\": \"#E5ECF6\", \"gridcolor\": \"white\", \"gridwidth\": 2, \"linecolor\": \"white\", \"showbackground\": true, \"ticks\": \"\", \"zerolinecolor\": \"white\"}}, \"shapedefaults\": {\"line\": {\"color\": \"#2a3f5f\"}}, \"ternary\": {\"aaxis\": {\"gridcolor\": \"white\", \"linecolor\": \"white\", \"ticks\": \"\"}, \"baxis\": {\"gridcolor\": \"white\", \"linecolor\": \"white\", \"ticks\": \"\"}, \"bgcolor\": \"#E5ECF6\", \"caxis\": {\"gridcolor\": \"white\", \"linecolor\": \"white\", \"ticks\": \"\"}}, \"title\": {\"x\": 0.05}, \"xaxis\": {\"automargin\": true, \"gridcolor\": \"white\", \"linecolor\": \"white\", \"ticks\": \"\", \"title\": {\"standoff\": 15}, \"zerolinecolor\": \"white\", \"zerolinewidth\": 2}, \"yaxis\": {\"automargin\": true, \"gridcolor\": \"white\", \"linecolor\": \"white\", \"ticks\": \"\", \"title\": {\"standoff\": 15}, \"zerolinecolor\": \"white\", \"zerolinewidth\": 2}}}, \"title\": {\"text\": \"Module number 12\"}},\n",
       "                        {\"responsive\": true}\n",
       "                    ).then(function(){\n",
       "                            \n",
       "var gd = document.getElementById('972961f0-62d6-4469-80ba-d1b93d183813');\n",
       "var x = new MutationObserver(function (mutations, observer) {{\n",
       "        var display = window.getComputedStyle(gd).display;\n",
       "        if (!display || display === 'none') {{\n",
       "            console.log([gd, 'removed!']);\n",
       "            Plotly.purge(gd);\n",
       "            observer.disconnect();\n",
       "        }}\n",
       "}});\n",
       "\n",
       "// Listen for the removal of the full notebook cells\n",
       "var notebookContainer = gd.closest('#notebook-container');\n",
       "if (notebookContainer) {{\n",
       "    x.observe(notebookContainer, {childList: true});\n",
       "}}\n",
       "\n",
       "// Listen for the clearing of the current output cell\n",
       "var outputEl = gd.closest('.output');\n",
       "if (outputEl) {{\n",
       "    x.observe(outputEl, {childList: true});\n",
       "}}\n",
       "\n",
       "                        })\n",
       "                };\n",
       "                });\n",
       "            </script>\n",
       "        </div>"
      ]
     },
     "metadata": {},
     "output_type": "display_data"
    },
    {
     "data": {
      "application/vnd.plotly.v1+json": {
       "config": {
        "plotlyServerURL": "https://plot.ly"
       },
       "data": [
        {
         "mode": "lines+markers",
         "name": "Pulse index: 0",
         "type": "scatter",
         "x": [
          6381770,
          6381771,
          6381772,
          6381773,
          6381774,
          6381775,
          6381776,
          6381777,
          6381778,
          6381779,
          6381780,
          6381781,
          6381782,
          6381783,
          6381784,
          6381785,
          6381786,
          6381787,
          6381788,
          6381789,
          6381790,
          6381791
         ],
         "y": [
          -0.04734274372458458,
          -0.08734527230262756,
          -0.06690417230129242,
          -0.05565440282225609,
          0.5590646862983704,
          0.5013219714164734,
          0.1582833081483841,
          0.06470677256584167,
          0.010921421460807323,
          0.00770429614931345,
          -0.2133135050535202,
          -0.19406823813915253,
          -0.06204315274953842,
          0.011216588318347931,
          0.1715395301580429,
          -0.0718851089477539,
          -0.40253108739852905,
          -0.05903858691453934,
          0.007655658759176731,
          -0.3394867777824402,
          0.08881719410419464,
          -0.0001491102739237249
         ]
        },
        {
         "mode": "lines+markers",
         "name": "Pulse index: 1",
         "type": "scatter",
         "x": [
          6381770,
          6381771,
          6381772,
          6381773,
          6381774,
          6381775,
          6381776,
          6381777,
          6381778,
          6381779,
          6381780,
          6381781,
          6381782,
          6381783,
          6381784,
          6381785,
          6381786,
          6381787,
          6381788,
          6381789,
          6381790,
          6381791
         ],
         "y": [
          -0.3441261947154999,
          -0.282672256231308,
          0.23955364525318146,
          0.12614953517913818,
          -0.30700811743736267,
          -0.23031513392925262,
          -0.33256661891937256,
          0.4870350956916809,
          -0.0009347141603939235,
          -0.01038705836981535,
          -0.2222547084093094,
          -0.09383195638656616,
          -0.06755448877811432,
          -0.24296754598617554,
          -0.1331370770931244,
          -0.18987905979156494,
          -0.062382765114307404,
          -0.28638067841529846,
          -0.2296055555343628,
          -0.14596228301525116,
          0.08291170746088028,
          0.15062572062015533
         ]
        },
        {
         "mode": "lines+markers",
         "name": "Pulse index: 2",
         "type": "scatter",
         "x": [
          6381770,
          6381771,
          6381772,
          6381773,
          6381774,
          6381775,
          6381776,
          6381777,
          6381778,
          6381779,
          6381780,
          6381781,
          6381782,
          6381783,
          6381784,
          6381785,
          6381786,
          6381787,
          6381788,
          6381789,
          6381790,
          6381791
         ],
         "y": [
          0.8136870265007019,
          -0.2656121253967285,
          -0.22129152715206146,
          -0.9146673679351807,
          -0.14820891618728638,
          0.5635097026824951,
          -0.09320242702960968,
          -0.5408150553703308,
          -0.002908768132328987,
          -0.04059336706995964,
          -0.3558858633041382,
          0.2847520411014557,
          0.18139973282814026,
          -0.21716193854808807,
          -0.2886384129524231,
          -0.18559372425079346,
          null,
          -0.11832618713378906,
          -0.1358034908771515,
          -0.049108438193798065,
          -0.1026325598359108,
          0.031143026426434517
         ]
        },
        {
         "mode": "lines+markers",
         "name": "Pulse index: 3",
         "type": "scatter",
         "x": [
          6381770,
          6381771,
          6381772,
          6381773,
          6381774,
          6381775,
          6381776,
          6381777,
          6381778,
          6381779,
          6381780,
          6381781,
          6381782,
          6381783,
          6381784,
          6381785,
          6381786,
          6381787,
          6381788,
          6381789,
          6381790,
          6381791
         ],
         "y": [
          -1.4469935894012451,
          -1.211203932762146,
          -0.955344021320343,
          -1.1600167751312256,
          -1.964951753616333,
          -1.8917889595031738,
          -2.2782294750213623,
          -0.8872487545013428,
          -0.851588249206543,
          -0.5784525275230408,
          -0.7432578802108765,
          -0.5210995674133301,
          -0.21524566411972046,
          -0.6168333292007446,
          -0.43831419944763184,
          -1.0761637687683105,
          -0.8738143444061279,
          -0.5210265517234802,
          -0.20905059576034546,
          -0.4168923497200012,
          -0.7521659731864929,
          -0.5346046686172485
         ]
        },
        {
         "mode": "lines+markers",
         "name": "Pulse index: 4",
         "type": "scatter",
         "x": [
          6381770,
          6381771,
          6381772,
          6381773,
          6381774,
          6381775,
          6381776,
          6381777,
          6381778,
          6381779,
          6381780,
          6381781,
          6381782,
          6381783,
          6381784,
          6381785,
          6381786,
          6381787,
          6381788,
          6381789,
          6381790,
          6381791
         ],
         "y": [
          -0.9588369131088257,
          -0.19138015806674957,
          -0.3991362750530243,
          -1.0165256261825562,
          -2.1137478351593018,
          -2.095705270767212,
          -1.8145004510879517,
          -0.5386420488357544,
          -0.5559625029563904,
          0.016888923943042755,
          -0.07907423377037048,
          -0.15671278536319733,
          0.650015115737915,
          -0.01180675532668829,
          -0.14196652173995972,
          0.10043079406023026,
          -0.5543654561042786,
          -0.563072144985199,
          -0.7500409483909607,
          -0.734687089920044,
          -0.41148698329925537,
          -0.4528287351131439
         ]
        },
        {
         "mode": "lines+markers",
         "name": "Pulse index: 5",
         "type": "scatter",
         "x": [
          6381770,
          6381771,
          6381772,
          6381773,
          6381774,
          6381775,
          6381776,
          6381777,
          6381778,
          6381779,
          6381780,
          6381781,
          6381782,
          6381783,
          6381784,
          6381785,
          6381786,
          6381787,
          6381788,
          6381789,
          6381790,
          6381791
         ],
         "y": [
          -0.19853220880031586,
          -0.2552942633628845,
          -0.44690269231796265,
          -0.4935426414012909,
          -1.7203081846237183,
          -1.7310534715652466,
          -1.2813442945480347,
          -0.6646124124526978,
          -0.006317846942692995,
          -0.13002754747867584,
          0.052664175629615784,
          -0.08422183990478516,
          0.07629819959402084,
          -0.020322298631072044,
          0.21575893461704254,
          0.2787927985191345,
          0.25213292241096497,
          -0.40702763199806213,
          -0.3655482232570648,
          -0.36362072825431824,
          -0.24221503734588623,
          -0.5266346335411072
         ]
        },
        {
         "mode": "lines+markers",
         "name": "Pulse index: 6",
         "type": "scatter",
         "x": [
          6381770,
          6381771,
          6381772,
          6381773,
          6381774,
          6381775,
          6381776,
          6381777,
          6381778,
          6381779,
          6381780,
          6381781,
          6381782,
          6381783,
          6381784,
          6381785,
          6381786,
          6381787,
          6381788,
          6381789,
          6381790,
          6381791
         ],
         "y": [
          -0.36178115010261536,
          0.065544493496418,
          -0.010138857178390026,
          -0.4825700521469116,
          -1.759255051612854,
          -1.2021667957305908,
          -1.6751247644424438,
          -0.7010254859924316,
          -0.7571425437927246,
          -0.5078831315040588,
          -0.3083617687225342,
          -0.09115598350763321,
          -0.007478637620806694,
          -0.0934331864118576,
          0.0717611312866211,
          0.11869634687900543,
          0.038458921015262604,
          -0.39494508504867554,
          -0.5405357480049133,
          -0.9537083506584167,
          -0.41453173756599426,
          -0.5469731688499451
         ]
        },
        {
         "mode": "lines+markers",
         "name": "Pulse index: 7",
         "type": "scatter",
         "x": [
          6381770,
          6381771,
          6381772,
          6381773,
          6381774,
          6381775,
          6381776,
          6381777,
          6381778,
          6381779,
          6381780,
          6381781,
          6381782,
          6381783,
          6381784,
          6381785,
          6381786,
          6381787,
          6381788,
          6381789,
          6381790,
          6381791
         ],
         "y": [
          0.0016852493863552809,
          0.4362518787384033,
          0.43157780170440674,
          -0.6119868159294128,
          -1.60396146774292,
          -1.5861068964004517,
          -1.2794215679168701,
          -0.5251632332801819,
          -0.33951762318611145,
          0.15393926203250885,
          -0.06628474593162537,
          0.12872013449668884,
          0.5170337557792664,
          0.17015939950942993,
          0.1422170251607895,
          0.2854498326778412,
          -0.0809149518609047,
          -0.5060398578643799,
          0.0028766512405127287,
          -0.7946590185165405,
          -0.26041674613952637,
          -0.11746440082788467
         ]
        },
        {
         "mode": "lines+markers",
         "name": "Pulse index: 8",
         "type": "scatter",
         "x": [
          6381770,
          6381771,
          6381772,
          6381773,
          6381774,
          6381775,
          6381776,
          6381777,
          6381778,
          6381779,
          6381780,
          6381781,
          6381782,
          6381783,
          6381784,
          6381785,
          6381786,
          6381787,
          6381788,
          6381789,
          6381790,
          6381791
         ],
         "y": [
          -0.21492859721183777,
          0.10314739495515823,
          -0.24186623096466064,
          -0.9224575757980347,
          -2.2914445400238037,
          -1.4155867099761963,
          -1.425758957862854,
          -0.8791555166244507,
          -0.5720279216766357,
          -0.25864532589912415,
          -0.4073428809642792,
          -0.01584496535360813,
          0.16086776554584503,
          0.15709640085697174,
          -0.012185672298073769,
          0.07321152091026306,
          -0.4526485204696655,
          -0.5161318182945251,
          -0.4433749318122864,
          -0.31673306226730347,
          0.03816506266593933,
          0.28548142313957214
         ]
        },
        {
         "mode": "lines+markers",
         "name": "Pulse index: 9",
         "type": "scatter",
         "x": [
          6381770,
          6381771,
          6381772,
          6381773,
          6381774,
          6381775,
          6381776,
          6381777,
          6381778,
          6381779,
          6381780,
          6381781,
          6381782,
          6381783,
          6381784,
          6381785,
          6381786,
          6381787,
          6381788,
          6381789,
          6381790,
          6381791
         ],
         "y": [
          -0.9677757024765015,
          0.06994268298149109,
          -0.518388569355011,
          -1.0133320093154907,
          -2.1757450103759766,
          -1.726210594177246,
          -1.9261184930801392,
          -0.9116420149803162,
          -0.6966196298599243,
          -0.6714409589767456,
          -0.3207324147224426,
          -0.41402703523635864,
          -0.2149236649274826,
          -0.5247448086738586,
          -0.23525680601596832,
          -0.31427237391471863,
          -0.24476368725299835,
          -0.6019686460494995,
          -0.259446382522583,
          -0.6694114804267883,
          -0.04536311328411102,
          -0.4467131197452545
         ]
        },
        {
         "mode": "lines+markers",
         "name": "Pulse index: 10",
         "type": "scatter",
         "x": [
          6381770,
          6381771,
          6381772,
          6381773,
          6381774,
          6381775,
          6381776,
          6381777,
          6381778,
          6381779,
          6381780,
          6381781,
          6381782,
          6381783,
          6381784,
          6381785,
          6381786,
          6381787,
          6381788,
          6381789,
          6381790,
          6381791
         ],
         "y": [
          -0.3668366074562073,
          -0.28842785954475403,
          -0.739903450012207,
          -0.8804689049720764,
          -1.9146648645401,
          -1.9340929985046387,
          -1.8548529148101807,
          -0.5864086747169495,
          -0.4042615592479706,
          -0.8783466815948486,
          -0.0987909734249115,
          0.051644276827573776,
          0.09828431904315948,
          0.050281405448913574,
          -0.09299065172672272,
          0.38207653164863586,
          0.12629061937332153,
          -0.4786350429058075,
          -0.5342750549316406,
          -0.28397896885871887,
          -0.1220984235405922,
          -0.45316144824028015
         ]
        }
       ],
       "layout": {
        "template": {
         "data": {
          "bar": [
           {
            "error_x": {
             "color": "#2a3f5f"
            },
            "error_y": {
             "color": "#2a3f5f"
            },
            "marker": {
             "line": {
              "color": "#E5ECF6",
              "width": 0.5
             }
            },
            "type": "bar"
           }
          ],
          "barpolar": [
           {
            "marker": {
             "line": {
              "color": "#E5ECF6",
              "width": 0.5
             }
            },
            "type": "barpolar"
           }
          ],
          "carpet": [
           {
            "aaxis": {
             "endlinecolor": "#2a3f5f",
             "gridcolor": "white",
             "linecolor": "white",
             "minorgridcolor": "white",
             "startlinecolor": "#2a3f5f"
            },
            "baxis": {
             "endlinecolor": "#2a3f5f",
             "gridcolor": "white",
             "linecolor": "white",
             "minorgridcolor": "white",
             "startlinecolor": "#2a3f5f"
            },
            "type": "carpet"
           }
          ],
          "choropleth": [
           {
            "colorbar": {
             "outlinewidth": 0,
             "ticks": ""
            },
            "type": "choropleth"
           }
          ],
          "contour": [
           {
            "colorbar": {
             "outlinewidth": 0,
             "ticks": ""
            },
            "colorscale": [
             [
              0,
              "#0d0887"
             ],
             [
              0.1111111111111111,
              "#46039f"
             ],
             [
              0.2222222222222222,
              "#7201a8"
             ],
             [
              0.3333333333333333,
              "#9c179e"
             ],
             [
              0.4444444444444444,
              "#bd3786"
             ],
             [
              0.5555555555555556,
              "#d8576b"
             ],
             [
              0.6666666666666666,
              "#ed7953"
             ],
             [
              0.7777777777777778,
              "#fb9f3a"
             ],
             [
              0.8888888888888888,
              "#fdca26"
             ],
             [
              1,
              "#f0f921"
             ]
            ],
            "type": "contour"
           }
          ],
          "contourcarpet": [
           {
            "colorbar": {
             "outlinewidth": 0,
             "ticks": ""
            },
            "type": "contourcarpet"
           }
          ],
          "heatmap": [
           {
            "colorbar": {
             "outlinewidth": 0,
             "ticks": ""
            },
            "colorscale": [
             [
              0,
              "#0d0887"
             ],
             [
              0.1111111111111111,
              "#46039f"
             ],
             [
              0.2222222222222222,
              "#7201a8"
             ],
             [
              0.3333333333333333,
              "#9c179e"
             ],
             [
              0.4444444444444444,
              "#bd3786"
             ],
             [
              0.5555555555555556,
              "#d8576b"
             ],
             [
              0.6666666666666666,
              "#ed7953"
             ],
             [
              0.7777777777777778,
              "#fb9f3a"
             ],
             [
              0.8888888888888888,
              "#fdca26"
             ],
             [
              1,
              "#f0f921"
             ]
            ],
            "type": "heatmap"
           }
          ],
          "heatmapgl": [
           {
            "colorbar": {
             "outlinewidth": 0,
             "ticks": ""
            },
            "colorscale": [
             [
              0,
              "#0d0887"
             ],
             [
              0.1111111111111111,
              "#46039f"
             ],
             [
              0.2222222222222222,
              "#7201a8"
             ],
             [
              0.3333333333333333,
              "#9c179e"
             ],
             [
              0.4444444444444444,
              "#bd3786"
             ],
             [
              0.5555555555555556,
              "#d8576b"
             ],
             [
              0.6666666666666666,
              "#ed7953"
             ],
             [
              0.7777777777777778,
              "#fb9f3a"
             ],
             [
              0.8888888888888888,
              "#fdca26"
             ],
             [
              1,
              "#f0f921"
             ]
            ],
            "type": "heatmapgl"
           }
          ],
          "histogram": [
           {
            "marker": {
             "colorbar": {
              "outlinewidth": 0,
              "ticks": ""
             }
            },
            "type": "histogram"
           }
          ],
          "histogram2d": [
           {
            "colorbar": {
             "outlinewidth": 0,
             "ticks": ""
            },
            "colorscale": [
             [
              0,
              "#0d0887"
             ],
             [
              0.1111111111111111,
              "#46039f"
             ],
             [
              0.2222222222222222,
              "#7201a8"
             ],
             [
              0.3333333333333333,
              "#9c179e"
             ],
             [
              0.4444444444444444,
              "#bd3786"
             ],
             [
              0.5555555555555556,
              "#d8576b"
             ],
             [
              0.6666666666666666,
              "#ed7953"
             ],
             [
              0.7777777777777778,
              "#fb9f3a"
             ],
             [
              0.8888888888888888,
              "#fdca26"
             ],
             [
              1,
              "#f0f921"
             ]
            ],
            "type": "histogram2d"
           }
          ],
          "histogram2dcontour": [
           {
            "colorbar": {
             "outlinewidth": 0,
             "ticks": ""
            },
            "colorscale": [
             [
              0,
              "#0d0887"
             ],
             [
              0.1111111111111111,
              "#46039f"
             ],
             [
              0.2222222222222222,
              "#7201a8"
             ],
             [
              0.3333333333333333,
              "#9c179e"
             ],
             [
              0.4444444444444444,
              "#bd3786"
             ],
             [
              0.5555555555555556,
              "#d8576b"
             ],
             [
              0.6666666666666666,
              "#ed7953"
             ],
             [
              0.7777777777777778,
              "#fb9f3a"
             ],
             [
              0.8888888888888888,
              "#fdca26"
             ],
             [
              1,
              "#f0f921"
             ]
            ],
            "type": "histogram2dcontour"
           }
          ],
          "mesh3d": [
           {
            "colorbar": {
             "outlinewidth": 0,
             "ticks": ""
            },
            "type": "mesh3d"
           }
          ],
          "parcoords": [
           {
            "line": {
             "colorbar": {
              "outlinewidth": 0,
              "ticks": ""
             }
            },
            "type": "parcoords"
           }
          ],
          "pie": [
           {
            "automargin": true,
            "type": "pie"
           }
          ],
          "scatter": [
           {
            "marker": {
             "colorbar": {
              "outlinewidth": 0,
              "ticks": ""
             }
            },
            "type": "scatter"
           }
          ],
          "scatter3d": [
           {
            "line": {
             "colorbar": {
              "outlinewidth": 0,
              "ticks": ""
             }
            },
            "marker": {
             "colorbar": {
              "outlinewidth": 0,
              "ticks": ""
             }
            },
            "type": "scatter3d"
           }
          ],
          "scattercarpet": [
           {
            "marker": {
             "colorbar": {
              "outlinewidth": 0,
              "ticks": ""
             }
            },
            "type": "scattercarpet"
           }
          ],
          "scattergeo": [
           {
            "marker": {
             "colorbar": {
              "outlinewidth": 0,
              "ticks": ""
             }
            },
            "type": "scattergeo"
           }
          ],
          "scattergl": [
           {
            "marker": {
             "colorbar": {
              "outlinewidth": 0,
              "ticks": ""
             }
            },
            "type": "scattergl"
           }
          ],
          "scattermapbox": [
           {
            "marker": {
             "colorbar": {
              "outlinewidth": 0,
              "ticks": ""
             }
            },
            "type": "scattermapbox"
           }
          ],
          "scatterpolar": [
           {
            "marker": {
             "colorbar": {
              "outlinewidth": 0,
              "ticks": ""
             }
            },
            "type": "scatterpolar"
           }
          ],
          "scatterpolargl": [
           {
            "marker": {
             "colorbar": {
              "outlinewidth": 0,
              "ticks": ""
             }
            },
            "type": "scatterpolargl"
           }
          ],
          "scatterternary": [
           {
            "marker": {
             "colorbar": {
              "outlinewidth": 0,
              "ticks": ""
             }
            },
            "type": "scatterternary"
           }
          ],
          "surface": [
           {
            "colorbar": {
             "outlinewidth": 0,
             "ticks": ""
            },
            "colorscale": [
             [
              0,
              "#0d0887"
             ],
             [
              0.1111111111111111,
              "#46039f"
             ],
             [
              0.2222222222222222,
              "#7201a8"
             ],
             [
              0.3333333333333333,
              "#9c179e"
             ],
             [
              0.4444444444444444,
              "#bd3786"
             ],
             [
              0.5555555555555556,
              "#d8576b"
             ],
             [
              0.6666666666666666,
              "#ed7953"
             ],
             [
              0.7777777777777778,
              "#fb9f3a"
             ],
             [
              0.8888888888888888,
              "#fdca26"
             ],
             [
              1,
              "#f0f921"
             ]
            ],
            "type": "surface"
           }
          ],
          "table": [
           {
            "cells": {
             "fill": {
              "color": "#EBF0F8"
             },
             "line": {
              "color": "white"
             }
            },
            "header": {
             "fill": {
              "color": "#C8D4E3"
             },
             "line": {
              "color": "white"
             }
            },
            "type": "table"
           }
          ]
         },
         "layout": {
          "annotationdefaults": {
           "arrowcolor": "#2a3f5f",
           "arrowhead": 0,
           "arrowwidth": 1
          },
          "coloraxis": {
           "colorbar": {
            "outlinewidth": 0,
            "ticks": ""
           }
          },
          "colorscale": {
           "diverging": [
            [
             0,
             "#8e0152"
            ],
            [
             0.1,
             "#c51b7d"
            ],
            [
             0.2,
             "#de77ae"
            ],
            [
             0.3,
             "#f1b6da"
            ],
            [
             0.4,
             "#fde0ef"
            ],
            [
             0.5,
             "#f7f7f7"
            ],
            [
             0.6,
             "#e6f5d0"
            ],
            [
             0.7,
             "#b8e186"
            ],
            [
             0.8,
             "#7fbc41"
            ],
            [
             0.9,
             "#4d9221"
            ],
            [
             1,
             "#276419"
            ]
           ],
           "sequential": [
            [
             0,
             "#0d0887"
            ],
            [
             0.1111111111111111,
             "#46039f"
            ],
            [
             0.2222222222222222,
             "#7201a8"
            ],
            [
             0.3333333333333333,
             "#9c179e"
            ],
            [
             0.4444444444444444,
             "#bd3786"
            ],
            [
             0.5555555555555556,
             "#d8576b"
            ],
            [
             0.6666666666666666,
             "#ed7953"
            ],
            [
             0.7777777777777778,
             "#fb9f3a"
            ],
            [
             0.8888888888888888,
             "#fdca26"
            ],
            [
             1,
             "#f0f921"
            ]
           ],
           "sequentialminus": [
            [
             0,
             "#0d0887"
            ],
            [
             0.1111111111111111,
             "#46039f"
            ],
            [
             0.2222222222222222,
             "#7201a8"
            ],
            [
             0.3333333333333333,
             "#9c179e"
            ],
            [
             0.4444444444444444,
             "#bd3786"
            ],
            [
             0.5555555555555556,
             "#d8576b"
            ],
            [
             0.6666666666666666,
             "#ed7953"
            ],
            [
             0.7777777777777778,
             "#fb9f3a"
            ],
            [
             0.8888888888888888,
             "#fdca26"
            ],
            [
             1,
             "#f0f921"
            ]
           ]
          },
          "colorway": [
           "#636efa",
           "#EF553B",
           "#00cc96",
           "#ab63fa",
           "#FFA15A",
           "#19d3f3",
           "#FF6692",
           "#B6E880",
           "#FF97FF",
           "#FECB52"
          ],
          "font": {
           "color": "#2a3f5f"
          },
          "geo": {
           "bgcolor": "white",
           "lakecolor": "white",
           "landcolor": "#E5ECF6",
           "showlakes": true,
           "showland": true,
           "subunitcolor": "white"
          },
          "hoverlabel": {
           "align": "left"
          },
          "hovermode": "closest",
          "mapbox": {
           "style": "light"
          },
          "paper_bgcolor": "white",
          "plot_bgcolor": "#E5ECF6",
          "polar": {
           "angularaxis": {
            "gridcolor": "white",
            "linecolor": "white",
            "ticks": ""
           },
           "bgcolor": "#E5ECF6",
           "radialaxis": {
            "gridcolor": "white",
            "linecolor": "white",
            "ticks": ""
           }
          },
          "scene": {
           "xaxis": {
            "backgroundcolor": "#E5ECF6",
            "gridcolor": "white",
            "gridwidth": 2,
            "linecolor": "white",
            "showbackground": true,
            "ticks": "",
            "zerolinecolor": "white"
           },
           "yaxis": {
            "backgroundcolor": "#E5ECF6",
            "gridcolor": "white",
            "gridwidth": 2,
            "linecolor": "white",
            "showbackground": true,
            "ticks": "",
            "zerolinecolor": "white"
           },
           "zaxis": {
            "backgroundcolor": "#E5ECF6",
            "gridcolor": "white",
            "gridwidth": 2,
            "linecolor": "white",
            "showbackground": true,
            "ticks": "",
            "zerolinecolor": "white"
           }
          },
          "shapedefaults": {
           "line": {
            "color": "#2a3f5f"
           }
          },
          "ternary": {
           "aaxis": {
            "gridcolor": "white",
            "linecolor": "white",
            "ticks": ""
           },
           "baxis": {
            "gridcolor": "white",
            "linecolor": "white",
            "ticks": ""
           },
           "bgcolor": "#E5ECF6",
           "caxis": {
            "gridcolor": "white",
            "linecolor": "white",
            "ticks": ""
           }
          },
          "title": {
           "x": 0.05
          },
          "xaxis": {
           "automargin": true,
           "gridcolor": "white",
           "linecolor": "white",
           "ticks": "",
           "title": {
            "standoff": 15
           },
           "zerolinecolor": "white",
           "zerolinewidth": 2
          },
          "yaxis": {
           "automargin": true,
           "gridcolor": "white",
           "linecolor": "white",
           "ticks": "",
           "title": {
            "standoff": 15
           },
           "zerolinecolor": "white",
           "zerolinewidth": 2
          }
         }
        },
        "title": {
         "text": "Module number 13"
        }
       }
      },
      "text/html": [
       "<div>\n",
       "        \n",
       "        \n",
       "            <div id=\"45fe0fee-68c8-4879-acb7-3ce29b1c9d76\" class=\"plotly-graph-div\" style=\"height:525px; width:100%;\"></div>\n",
       "            <script type=\"text/javascript\">\n",
       "                require([\"plotly\"], function(Plotly) {\n",
       "                    window.PLOTLYENV=window.PLOTLYENV || {};\n",
       "                    \n",
       "                if (document.getElementById(\"45fe0fee-68c8-4879-acb7-3ce29b1c9d76\")) {\n",
       "                    Plotly.newPlot(\n",
       "                        '45fe0fee-68c8-4879-acb7-3ce29b1c9d76',\n",
       "                        [{\"mode\": \"lines+markers\", \"name\": \"Pulse index: 0\", \"type\": \"scatter\", \"x\": [6381770, 6381771, 6381772, 6381773, 6381774, 6381775, 6381776, 6381777, 6381778, 6381779, 6381780, 6381781, 6381782, 6381783, 6381784, 6381785, 6381786, 6381787, 6381788, 6381789, 6381790, 6381791], \"y\": [-0.04734274372458458, -0.08734527230262756, -0.06690417230129242, -0.05565440282225609, 0.5590646862983704, 0.5013219714164734, 0.1582833081483841, 0.06470677256584167, 0.010921421460807323, 0.00770429614931345, -0.2133135050535202, -0.19406823813915253, -0.06204315274953842, 0.011216588318347931, 0.1715395301580429, -0.0718851089477539, -0.40253108739852905, -0.05903858691453934, 0.007655658759176731, -0.3394867777824402, 0.08881719410419464, -0.0001491102739237249]}, {\"mode\": \"lines+markers\", \"name\": \"Pulse index: 1\", \"type\": \"scatter\", \"x\": [6381770, 6381771, 6381772, 6381773, 6381774, 6381775, 6381776, 6381777, 6381778, 6381779, 6381780, 6381781, 6381782, 6381783, 6381784, 6381785, 6381786, 6381787, 6381788, 6381789, 6381790, 6381791], \"y\": [-0.3441261947154999, -0.282672256231308, 0.23955364525318146, 0.12614953517913818, -0.30700811743736267, -0.23031513392925262, -0.33256661891937256, 0.4870350956916809, -0.0009347141603939235, -0.01038705836981535, -0.2222547084093094, -0.09383195638656616, -0.06755448877811432, -0.24296754598617554, -0.1331370770931244, -0.18987905979156494, -0.062382765114307404, -0.28638067841529846, -0.2296055555343628, -0.14596228301525116, 0.08291170746088028, 0.15062572062015533]}, {\"mode\": \"lines+markers\", \"name\": \"Pulse index: 2\", \"type\": \"scatter\", \"x\": [6381770, 6381771, 6381772, 6381773, 6381774, 6381775, 6381776, 6381777, 6381778, 6381779, 6381780, 6381781, 6381782, 6381783, 6381784, 6381785, 6381786, 6381787, 6381788, 6381789, 6381790, 6381791], \"y\": [0.8136870265007019, -0.2656121253967285, -0.22129152715206146, -0.9146673679351807, -0.14820891618728638, 0.5635097026824951, -0.09320242702960968, -0.5408150553703308, -0.002908768132328987, -0.04059336706995964, -0.3558858633041382, 0.2847520411014557, 0.18139973282814026, -0.21716193854808807, -0.2886384129524231, -0.18559372425079346, null, -0.11832618713378906, -0.1358034908771515, -0.049108438193798065, -0.1026325598359108, 0.031143026426434517]}, {\"mode\": \"lines+markers\", \"name\": \"Pulse index: 3\", \"type\": \"scatter\", \"x\": [6381770, 6381771, 6381772, 6381773, 6381774, 6381775, 6381776, 6381777, 6381778, 6381779, 6381780, 6381781, 6381782, 6381783, 6381784, 6381785, 6381786, 6381787, 6381788, 6381789, 6381790, 6381791], \"y\": [-1.4469935894012451, -1.211203932762146, -0.955344021320343, -1.1600167751312256, -1.964951753616333, -1.8917889595031738, -2.2782294750213623, -0.8872487545013428, -0.851588249206543, -0.5784525275230408, -0.7432578802108765, -0.5210995674133301, -0.21524566411972046, -0.6168333292007446, -0.43831419944763184, -1.0761637687683105, -0.8738143444061279, -0.5210265517234802, -0.20905059576034546, -0.4168923497200012, -0.7521659731864929, -0.5346046686172485]}, {\"mode\": \"lines+markers\", \"name\": \"Pulse index: 4\", \"type\": \"scatter\", \"x\": [6381770, 6381771, 6381772, 6381773, 6381774, 6381775, 6381776, 6381777, 6381778, 6381779, 6381780, 6381781, 6381782, 6381783, 6381784, 6381785, 6381786, 6381787, 6381788, 6381789, 6381790, 6381791], \"y\": [-0.9588369131088257, -0.19138015806674957, -0.3991362750530243, -1.0165256261825562, -2.1137478351593018, -2.095705270767212, -1.8145004510879517, -0.5386420488357544, -0.5559625029563904, 0.016888923943042755, -0.07907423377037048, -0.15671278536319733, 0.650015115737915, -0.01180675532668829, -0.14196652173995972, 0.10043079406023026, -0.5543654561042786, -0.563072144985199, -0.7500409483909607, -0.734687089920044, -0.41148698329925537, -0.4528287351131439]}, {\"mode\": \"lines+markers\", \"name\": \"Pulse index: 5\", \"type\": \"scatter\", \"x\": [6381770, 6381771, 6381772, 6381773, 6381774, 6381775, 6381776, 6381777, 6381778, 6381779, 6381780, 6381781, 6381782, 6381783, 6381784, 6381785, 6381786, 6381787, 6381788, 6381789, 6381790, 6381791], \"y\": [-0.19853220880031586, -0.2552942633628845, -0.44690269231796265, -0.4935426414012909, -1.7203081846237183, -1.7310534715652466, -1.2813442945480347, -0.6646124124526978, -0.006317846942692995, -0.13002754747867584, 0.052664175629615784, -0.08422183990478516, 0.07629819959402084, -0.020322298631072044, 0.21575893461704254, 0.2787927985191345, 0.25213292241096497, -0.40702763199806213, -0.3655482232570648, -0.36362072825431824, -0.24221503734588623, -0.5266346335411072]}, {\"mode\": \"lines+markers\", \"name\": \"Pulse index: 6\", \"type\": \"scatter\", \"x\": [6381770, 6381771, 6381772, 6381773, 6381774, 6381775, 6381776, 6381777, 6381778, 6381779, 6381780, 6381781, 6381782, 6381783, 6381784, 6381785, 6381786, 6381787, 6381788, 6381789, 6381790, 6381791], \"y\": [-0.36178115010261536, 0.065544493496418, -0.010138857178390026, -0.4825700521469116, -1.759255051612854, -1.2021667957305908, -1.6751247644424438, -0.7010254859924316, -0.7571425437927246, -0.5078831315040588, -0.3083617687225342, -0.09115598350763321, -0.007478637620806694, -0.0934331864118576, 0.0717611312866211, 0.11869634687900543, 0.038458921015262604, -0.39494508504867554, -0.5405357480049133, -0.9537083506584167, -0.41453173756599426, -0.5469731688499451]}, {\"mode\": \"lines+markers\", \"name\": \"Pulse index: 7\", \"type\": \"scatter\", \"x\": [6381770, 6381771, 6381772, 6381773, 6381774, 6381775, 6381776, 6381777, 6381778, 6381779, 6381780, 6381781, 6381782, 6381783, 6381784, 6381785, 6381786, 6381787, 6381788, 6381789, 6381790, 6381791], \"y\": [0.0016852493863552809, 0.4362518787384033, 0.43157780170440674, -0.6119868159294128, -1.60396146774292, -1.5861068964004517, -1.2794215679168701, -0.5251632332801819, -0.33951762318611145, 0.15393926203250885, -0.06628474593162537, 0.12872013449668884, 0.5170337557792664, 0.17015939950942993, 0.1422170251607895, 0.2854498326778412, -0.0809149518609047, -0.5060398578643799, 0.0028766512405127287, -0.7946590185165405, -0.26041674613952637, -0.11746440082788467]}, {\"mode\": \"lines+markers\", \"name\": \"Pulse index: 8\", \"type\": \"scatter\", \"x\": [6381770, 6381771, 6381772, 6381773, 6381774, 6381775, 6381776, 6381777, 6381778, 6381779, 6381780, 6381781, 6381782, 6381783, 6381784, 6381785, 6381786, 6381787, 6381788, 6381789, 6381790, 6381791], \"y\": [-0.21492859721183777, 0.10314739495515823, -0.24186623096466064, -0.9224575757980347, -2.2914445400238037, -1.4155867099761963, -1.425758957862854, -0.8791555166244507, -0.5720279216766357, -0.25864532589912415, -0.4073428809642792, -0.01584496535360813, 0.16086776554584503, 0.15709640085697174, -0.012185672298073769, 0.07321152091026306, -0.4526485204696655, -0.5161318182945251, -0.4433749318122864, -0.31673306226730347, 0.03816506266593933, 0.28548142313957214]}, {\"mode\": \"lines+markers\", \"name\": \"Pulse index: 9\", \"type\": \"scatter\", \"x\": [6381770, 6381771, 6381772, 6381773, 6381774, 6381775, 6381776, 6381777, 6381778, 6381779, 6381780, 6381781, 6381782, 6381783, 6381784, 6381785, 6381786, 6381787, 6381788, 6381789, 6381790, 6381791], \"y\": [-0.9677757024765015, 0.06994268298149109, -0.518388569355011, -1.0133320093154907, -2.1757450103759766, -1.726210594177246, -1.9261184930801392, -0.9116420149803162, -0.6966196298599243, -0.6714409589767456, -0.3207324147224426, -0.41402703523635864, -0.2149236649274826, -0.5247448086738586, -0.23525680601596832, -0.31427237391471863, -0.24476368725299835, -0.6019686460494995, -0.259446382522583, -0.6694114804267883, -0.04536311328411102, -0.4467131197452545]}, {\"mode\": \"lines+markers\", \"name\": \"Pulse index: 10\", \"type\": \"scatter\", \"x\": [6381770, 6381771, 6381772, 6381773, 6381774, 6381775, 6381776, 6381777, 6381778, 6381779, 6381780, 6381781, 6381782, 6381783, 6381784, 6381785, 6381786, 6381787, 6381788, 6381789, 6381790, 6381791], \"y\": [-0.3668366074562073, -0.28842785954475403, -0.739903450012207, -0.8804689049720764, -1.9146648645401, -1.9340929985046387, -1.8548529148101807, -0.5864086747169495, -0.4042615592479706, -0.8783466815948486, -0.0987909734249115, 0.051644276827573776, 0.09828431904315948, 0.050281405448913574, -0.09299065172672272, 0.38207653164863586, 0.12629061937332153, -0.4786350429058075, -0.5342750549316406, -0.28397896885871887, -0.1220984235405922, -0.45316144824028015]}],\n",
       "                        {\"template\": {\"data\": {\"bar\": [{\"error_x\": {\"color\": \"#2a3f5f\"}, \"error_y\": {\"color\": \"#2a3f5f\"}, \"marker\": {\"line\": {\"color\": \"#E5ECF6\", \"width\": 0.5}}, \"type\": \"bar\"}], \"barpolar\": [{\"marker\": {\"line\": {\"color\": \"#E5ECF6\", \"width\": 0.5}}, \"type\": \"barpolar\"}], \"carpet\": [{\"aaxis\": {\"endlinecolor\": \"#2a3f5f\", \"gridcolor\": \"white\", \"linecolor\": \"white\", \"minorgridcolor\": \"white\", \"startlinecolor\": \"#2a3f5f\"}, \"baxis\": {\"endlinecolor\": \"#2a3f5f\", \"gridcolor\": \"white\", \"linecolor\": \"white\", \"minorgridcolor\": \"white\", \"startlinecolor\": \"#2a3f5f\"}, \"type\": \"carpet\"}], \"choropleth\": [{\"colorbar\": {\"outlinewidth\": 0, \"ticks\": \"\"}, \"type\": \"choropleth\"}], \"contour\": [{\"colorbar\": {\"outlinewidth\": 0, \"ticks\": \"\"}, \"colorscale\": [[0.0, \"#0d0887\"], [0.1111111111111111, \"#46039f\"], [0.2222222222222222, \"#7201a8\"], [0.3333333333333333, \"#9c179e\"], [0.4444444444444444, \"#bd3786\"], [0.5555555555555556, \"#d8576b\"], [0.6666666666666666, \"#ed7953\"], [0.7777777777777778, \"#fb9f3a\"], [0.8888888888888888, \"#fdca26\"], [1.0, \"#f0f921\"]], \"type\": \"contour\"}], \"contourcarpet\": [{\"colorbar\": {\"outlinewidth\": 0, \"ticks\": \"\"}, \"type\": \"contourcarpet\"}], \"heatmap\": [{\"colorbar\": {\"outlinewidth\": 0, \"ticks\": \"\"}, \"colorscale\": [[0.0, \"#0d0887\"], [0.1111111111111111, \"#46039f\"], [0.2222222222222222, \"#7201a8\"], [0.3333333333333333, \"#9c179e\"], [0.4444444444444444, \"#bd3786\"], [0.5555555555555556, \"#d8576b\"], [0.6666666666666666, \"#ed7953\"], [0.7777777777777778, \"#fb9f3a\"], [0.8888888888888888, \"#fdca26\"], [1.0, \"#f0f921\"]], \"type\": \"heatmap\"}], \"heatmapgl\": [{\"colorbar\": {\"outlinewidth\": 0, \"ticks\": \"\"}, \"colorscale\": [[0.0, \"#0d0887\"], [0.1111111111111111, \"#46039f\"], [0.2222222222222222, \"#7201a8\"], [0.3333333333333333, \"#9c179e\"], [0.4444444444444444, \"#bd3786\"], [0.5555555555555556, \"#d8576b\"], [0.6666666666666666, \"#ed7953\"], [0.7777777777777778, \"#fb9f3a\"], [0.8888888888888888, \"#fdca26\"], [1.0, \"#f0f921\"]], \"type\": \"heatmapgl\"}], \"histogram\": [{\"marker\": {\"colorbar\": {\"outlinewidth\": 0, \"ticks\": \"\"}}, \"type\": \"histogram\"}], \"histogram2d\": [{\"colorbar\": {\"outlinewidth\": 0, \"ticks\": \"\"}, \"colorscale\": [[0.0, \"#0d0887\"], [0.1111111111111111, \"#46039f\"], [0.2222222222222222, \"#7201a8\"], [0.3333333333333333, \"#9c179e\"], [0.4444444444444444, \"#bd3786\"], [0.5555555555555556, \"#d8576b\"], [0.6666666666666666, \"#ed7953\"], [0.7777777777777778, \"#fb9f3a\"], [0.8888888888888888, \"#fdca26\"], [1.0, \"#f0f921\"]], \"type\": \"histogram2d\"}], \"histogram2dcontour\": [{\"colorbar\": {\"outlinewidth\": 0, \"ticks\": \"\"}, \"colorscale\": [[0.0, \"#0d0887\"], [0.1111111111111111, \"#46039f\"], [0.2222222222222222, \"#7201a8\"], [0.3333333333333333, \"#9c179e\"], [0.4444444444444444, \"#bd3786\"], [0.5555555555555556, \"#d8576b\"], [0.6666666666666666, \"#ed7953\"], [0.7777777777777778, \"#fb9f3a\"], [0.8888888888888888, \"#fdca26\"], [1.0, \"#f0f921\"]], \"type\": \"histogram2dcontour\"}], \"mesh3d\": [{\"colorbar\": {\"outlinewidth\": 0, \"ticks\": \"\"}, \"type\": \"mesh3d\"}], \"parcoords\": [{\"line\": {\"colorbar\": {\"outlinewidth\": 0, \"ticks\": \"\"}}, \"type\": \"parcoords\"}], \"pie\": [{\"automargin\": true, \"type\": \"pie\"}], \"scatter\": [{\"marker\": {\"colorbar\": {\"outlinewidth\": 0, \"ticks\": \"\"}}, \"type\": \"scatter\"}], \"scatter3d\": [{\"line\": {\"colorbar\": {\"outlinewidth\": 0, \"ticks\": \"\"}}, \"marker\": {\"colorbar\": {\"outlinewidth\": 0, \"ticks\": \"\"}}, \"type\": \"scatter3d\"}], \"scattercarpet\": [{\"marker\": {\"colorbar\": {\"outlinewidth\": 0, \"ticks\": \"\"}}, \"type\": \"scattercarpet\"}], \"scattergeo\": [{\"marker\": {\"colorbar\": {\"outlinewidth\": 0, \"ticks\": \"\"}}, \"type\": \"scattergeo\"}], \"scattergl\": [{\"marker\": {\"colorbar\": {\"outlinewidth\": 0, \"ticks\": \"\"}}, \"type\": \"scattergl\"}], \"scattermapbox\": [{\"marker\": {\"colorbar\": {\"outlinewidth\": 0, \"ticks\": \"\"}}, \"type\": \"scattermapbox\"}], \"scatterpolar\": [{\"marker\": {\"colorbar\": {\"outlinewidth\": 0, \"ticks\": \"\"}}, \"type\": \"scatterpolar\"}], \"scatterpolargl\": [{\"marker\": {\"colorbar\": {\"outlinewidth\": 0, \"ticks\": \"\"}}, \"type\": \"scatterpolargl\"}], \"scatterternary\": [{\"marker\": {\"colorbar\": {\"outlinewidth\": 0, \"ticks\": \"\"}}, \"type\": \"scatterternary\"}], \"surface\": [{\"colorbar\": {\"outlinewidth\": 0, \"ticks\": \"\"}, \"colorscale\": [[0.0, \"#0d0887\"], [0.1111111111111111, \"#46039f\"], [0.2222222222222222, \"#7201a8\"], [0.3333333333333333, \"#9c179e\"], [0.4444444444444444, \"#bd3786\"], [0.5555555555555556, \"#d8576b\"], [0.6666666666666666, \"#ed7953\"], [0.7777777777777778, \"#fb9f3a\"], [0.8888888888888888, \"#fdca26\"], [1.0, \"#f0f921\"]], \"type\": \"surface\"}], \"table\": [{\"cells\": {\"fill\": {\"color\": \"#EBF0F8\"}, \"line\": {\"color\": \"white\"}}, \"header\": {\"fill\": {\"color\": \"#C8D4E3\"}, \"line\": {\"color\": \"white\"}}, \"type\": \"table\"}]}, \"layout\": {\"annotationdefaults\": {\"arrowcolor\": \"#2a3f5f\", \"arrowhead\": 0, \"arrowwidth\": 1}, \"coloraxis\": {\"colorbar\": {\"outlinewidth\": 0, \"ticks\": \"\"}}, \"colorscale\": {\"diverging\": [[0, \"#8e0152\"], [0.1, \"#c51b7d\"], [0.2, \"#de77ae\"], [0.3, \"#f1b6da\"], [0.4, \"#fde0ef\"], [0.5, \"#f7f7f7\"], [0.6, \"#e6f5d0\"], [0.7, \"#b8e186\"], [0.8, \"#7fbc41\"], [0.9, \"#4d9221\"], [1, \"#276419\"]], \"sequential\": [[0.0, \"#0d0887\"], [0.1111111111111111, \"#46039f\"], [0.2222222222222222, \"#7201a8\"], [0.3333333333333333, \"#9c179e\"], [0.4444444444444444, \"#bd3786\"], [0.5555555555555556, \"#d8576b\"], [0.6666666666666666, \"#ed7953\"], [0.7777777777777778, \"#fb9f3a\"], [0.8888888888888888, \"#fdca26\"], [1.0, \"#f0f921\"]], \"sequentialminus\": [[0.0, \"#0d0887\"], [0.1111111111111111, \"#46039f\"], [0.2222222222222222, \"#7201a8\"], [0.3333333333333333, \"#9c179e\"], [0.4444444444444444, \"#bd3786\"], [0.5555555555555556, \"#d8576b\"], [0.6666666666666666, \"#ed7953\"], [0.7777777777777778, \"#fb9f3a\"], [0.8888888888888888, \"#fdca26\"], [1.0, \"#f0f921\"]]}, \"colorway\": [\"#636efa\", \"#EF553B\", \"#00cc96\", \"#ab63fa\", \"#FFA15A\", \"#19d3f3\", \"#FF6692\", \"#B6E880\", \"#FF97FF\", \"#FECB52\"], \"font\": {\"color\": \"#2a3f5f\"}, \"geo\": {\"bgcolor\": \"white\", \"lakecolor\": \"white\", \"landcolor\": \"#E5ECF6\", \"showlakes\": true, \"showland\": true, \"subunitcolor\": \"white\"}, \"hoverlabel\": {\"align\": \"left\"}, \"hovermode\": \"closest\", \"mapbox\": {\"style\": \"light\"}, \"paper_bgcolor\": \"white\", \"plot_bgcolor\": \"#E5ECF6\", \"polar\": {\"angularaxis\": {\"gridcolor\": \"white\", \"linecolor\": \"white\", \"ticks\": \"\"}, \"bgcolor\": \"#E5ECF6\", \"radialaxis\": {\"gridcolor\": \"white\", \"linecolor\": \"white\", \"ticks\": \"\"}}, \"scene\": {\"xaxis\": {\"backgroundcolor\": \"#E5ECF6\", \"gridcolor\": \"white\", \"gridwidth\": 2, \"linecolor\": \"white\", \"showbackground\": true, \"ticks\": \"\", \"zerolinecolor\": \"white\"}, \"yaxis\": {\"backgroundcolor\": \"#E5ECF6\", \"gridcolor\": \"white\", \"gridwidth\": 2, \"linecolor\": \"white\", \"showbackground\": true, \"ticks\": \"\", \"zerolinecolor\": \"white\"}, \"zaxis\": {\"backgroundcolor\": \"#E5ECF6\", \"gridcolor\": \"white\", \"gridwidth\": 2, \"linecolor\": \"white\", \"showbackground\": true, \"ticks\": \"\", \"zerolinecolor\": \"white\"}}, \"shapedefaults\": {\"line\": {\"color\": \"#2a3f5f\"}}, \"ternary\": {\"aaxis\": {\"gridcolor\": \"white\", \"linecolor\": \"white\", \"ticks\": \"\"}, \"baxis\": {\"gridcolor\": \"white\", \"linecolor\": \"white\", \"ticks\": \"\"}, \"bgcolor\": \"#E5ECF6\", \"caxis\": {\"gridcolor\": \"white\", \"linecolor\": \"white\", \"ticks\": \"\"}}, \"title\": {\"x\": 0.05}, \"xaxis\": {\"automargin\": true, \"gridcolor\": \"white\", \"linecolor\": \"white\", \"ticks\": \"\", \"title\": {\"standoff\": 15}, \"zerolinecolor\": \"white\", \"zerolinewidth\": 2}, \"yaxis\": {\"automargin\": true, \"gridcolor\": \"white\", \"linecolor\": \"white\", \"ticks\": \"\", \"title\": {\"standoff\": 15}, \"zerolinecolor\": \"white\", \"zerolinewidth\": 2}}}, \"title\": {\"text\": \"Module number 13\"}},\n",
       "                        {\"responsive\": true}\n",
       "                    ).then(function(){\n",
       "                            \n",
       "var gd = document.getElementById('45fe0fee-68c8-4879-acb7-3ce29b1c9d76');\n",
       "var x = new MutationObserver(function (mutations, observer) {{\n",
       "        var display = window.getComputedStyle(gd).display;\n",
       "        if (!display || display === 'none') {{\n",
       "            console.log([gd, 'removed!']);\n",
       "            Plotly.purge(gd);\n",
       "            observer.disconnect();\n",
       "        }}\n",
       "}});\n",
       "\n",
       "// Listen for the removal of the full notebook cells\n",
       "var notebookContainer = gd.closest('#notebook-container');\n",
       "if (notebookContainer) {{\n",
       "    x.observe(notebookContainer, {childList: true});\n",
       "}}\n",
       "\n",
       "// Listen for the clearing of the current output cell\n",
       "var outputEl = gd.closest('.output');\n",
       "if (outputEl) {{\n",
       "    x.observe(outputEl, {childList: true});\n",
       "}}\n",
       "\n",
       "                        })\n",
       "                };\n",
       "                });\n",
       "            </script>\n",
       "        </div>"
      ]
     },
     "metadata": {},
     "output_type": "display_data"
    },
    {
     "data": {
      "application/vnd.plotly.v1+json": {
       "config": {
        "plotlyServerURL": "https://plot.ly"
       },
       "data": [
        {
         "mode": "lines+markers",
         "name": "Pulse index: 0",
         "type": "scatter",
         "x": [
          6381770,
          6381771,
          6381772,
          6381773,
          6381774,
          6381775,
          6381776,
          6381777,
          6381778,
          6381779,
          6381780,
          6381781,
          6381782,
          6381783,
          6381784,
          6381785,
          6381786,
          6381787,
          6381788,
          6381789,
          6381790,
          6381791
         ],
         "y": [
          0.007761811371892691,
          -0.09860964864492416,
          0.12787608802318573,
          -0.03859501704573631,
          -0.04978971555829048,
          0.12807998061180115,
          -0.016902977600693703,
          0.10329294204711914,
          -0.21185824275016785,
          0.29362085461616516,
          0.05350244790315628,
          -0.029077710583806038,
          -0.03601524606347084,
          -0.009601511061191559,
          -0.007909977808594704,
          -0.016250070184469223,
          0.42247387766838074,
          -0.010740062221884727,
          0.019083701074123383,
          0.12775178253650665,
          0.16563653945922852,
          -0.05544588342308998
         ]
        },
        {
         "mode": "lines+markers",
         "name": "Pulse index: 1",
         "type": "scatter",
         "x": [
          6381770,
          6381771,
          6381772,
          6381773,
          6381774,
          6381775,
          6381776,
          6381777,
          6381778,
          6381779,
          6381780,
          6381781,
          6381782,
          6381783,
          6381784,
          6381785,
          6381786,
          6381787,
          6381788,
          6381789,
          6381790,
          6381791
         ],
         "y": [
          -0.05911118537187576,
          -0.19029107689857483,
          -0.05668838322162628,
          0.2928645610809326,
          0.059144068509340286,
          -0.02746293507516384,
          0.04443768411874771,
          0.0015239811036735773,
          0.025798160582780838,
          -0.15108992159366608,
          0.0937642976641655,
          -0.03683038800954819,
          0.07036636769771576,
          0.14036469161510468,
          0.08749223500490189,
          -0.27961406111717224,
          -0.006572308950126171,
          0.17989042401313782,
          -0.09382189065217972,
          0.04006224125623703,
          -0.02329903654754162,
          0.022094637155532837
         ]
        },
        {
         "mode": "lines+markers",
         "name": "Pulse index: 2",
         "type": "scatter",
         "x": [
          6381770,
          6381771,
          6381772,
          6381773,
          6381774,
          6381775,
          6381776,
          6381777,
          6381778,
          6381779,
          6381780,
          6381781,
          6381782,
          6381783,
          6381784,
          6381785,
          6381786,
          6381787,
          6381788,
          6381789,
          6381790,
          6381791
         ],
         "y": [
          -0.17935486137866974,
          -0.019636474549770355,
          -0.011177553795278072,
          -0.8668978810310364,
          -0.05907926335930824,
          -0.646670937538147,
          0.04498547688126564,
          -0.05453336611390114,
          0.041142359375953674,
          -0.008405796252191067,
          -0.024278894066810608,
          0.4885745644569397,
          0.13240177929401398,
          -0.6071354746818542,
          -1.5489805936813354,
          0.009646502323448658,
          null,
          0.13435320556163788,
          0.06790600717067719,
          -0.005785667337477207,
          -0.02228151075541973,
          -0.0321870855987072
         ]
        },
        {
         "mode": "lines+markers",
         "name": "Pulse index: 3",
         "type": "scatter",
         "x": [
          6381770,
          6381771,
          6381772,
          6381773,
          6381774,
          6381775,
          6381776,
          6381777,
          6381778,
          6381779,
          6381780,
          6381781,
          6381782,
          6381783,
          6381784,
          6381785,
          6381786,
          6381787,
          6381788,
          6381789,
          6381790,
          6381791
         ],
         "y": [
          0.09351247549057007,
          -0.4916400611400604,
          -0.11750434339046478,
          -0.5407612323760986,
          -0.15661326050758362,
          -0.2609562277793884,
          -0.28266286849975586,
          -0.4352525472640991,
          -0.4295250177383423,
          -0.3713444769382477,
          -0.42093420028686523,
          0.11261937767267227,
          0.11572843790054321,
          0.46567994356155396,
          0.13683639466762543,
          0.03502272069454193,
          -0.04676983132958412,
          0.30971625447273254,
          0.17880623042583466,
          -0.3475184142589569,
          -0.8867948651313782,
          -0.43979451060295105
         ]
        },
        {
         "mode": "lines+markers",
         "name": "Pulse index: 4",
         "type": "scatter",
         "x": [
          6381770,
          6381771,
          6381772,
          6381773,
          6381774,
          6381775,
          6381776,
          6381777,
          6381778,
          6381779,
          6381780,
          6381781,
          6381782,
          6381783,
          6381784,
          6381785,
          6381786,
          6381787,
          6381788,
          6381789,
          6381790,
          6381791
         ],
         "y": [
          0.2867472767829895,
          -0.13359397649765015,
          -0.08112714439630508,
          -0.0033010232727974653,
          0.15401673316955566,
          0.043146952986717224,
          0.24980278313159943,
          0.42329269647598267,
          0.16374795138835907,
          0.12958194315433502,
          0.3855314254760742,
          0.4439261853694916,
          0.5444097518920898,
          0.6373971700668335,
          0.3164621591567993,
          0.6305075883865356,
          0.26674795150756836,
          -0.05546500161290169,
          -0.13441643118858337,
          -0.6132228970527649,
          -0.3040916919708252,
          -0.22756756842136383
         ]
        },
        {
         "mode": "lines+markers",
         "name": "Pulse index: 5",
         "type": "scatter",
         "x": [
          6381770,
          6381771,
          6381772,
          6381773,
          6381774,
          6381775,
          6381776,
          6381777,
          6381778,
          6381779,
          6381780,
          6381781,
          6381782,
          6381783,
          6381784,
          6381785,
          6381786,
          6381787,
          6381788,
          6381789,
          6381790,
          6381791
         ],
         "y": [
          -0.2185334861278534,
          -0.21343709528446198,
          -0.2513822913169861,
          -0.08449544757604599,
          -0.2176019698381424,
          -0.08263648301362991,
          0.3139766454696655,
          0.0950167179107666,
          0.03783625364303589,
          -0.3794132471084595,
          0.25386857986450195,
          0.024153873324394226,
          0.047643840312957764,
          -0.0525185689330101,
          -0.3103150427341461,
          0.07173173874616623,
          -0.34706005454063416,
          0.2547938823699951,
          -0.31492653489112854,
          -0.5678500533103943,
          -0.6316887140274048,
          -0.3191051781177521
         ]
        },
        {
         "mode": "lines+markers",
         "name": "Pulse index: 6",
         "type": "scatter",
         "x": [
          6381770,
          6381771,
          6381772,
          6381773,
          6381774,
          6381775,
          6381776,
          6381777,
          6381778,
          6381779,
          6381780,
          6381781,
          6381782,
          6381783,
          6381784,
          6381785,
          6381786,
          6381787,
          6381788,
          6381789,
          6381790,
          6381791
         ],
         "y": [
          0.1908227652311325,
          -0.003999096807092428,
          -0.169123113155365,
          -0.45786118507385254,
          0.1094021201133728,
          0.019241828471422195,
          -0.10178478062152863,
          -0.09990245848894119,
          -0.2455064356327057,
          -0.44716185331344604,
          -0.0018522527534514666,
          0.2973650097846985,
          -0.29142388701438904,
          0.07006514072418213,
          0.32529133558273315,
          0.2721205949783325,
          0.10600562393665314,
          -0.03177380561828613,
          0.05425352603197098,
          -0.2988176941871643,
          -0.690701425075531,
          -0.5434074997901917
         ]
        },
        {
         "mode": "lines+markers",
         "name": "Pulse index: 7",
         "type": "scatter",
         "x": [
          6381770,
          6381771,
          6381772,
          6381773,
          6381774,
          6381775,
          6381776,
          6381777,
          6381778,
          6381779,
          6381780,
          6381781,
          6381782,
          6381783,
          6381784,
          6381785,
          6381786,
          6381787,
          6381788,
          6381789,
          6381790,
          6381791
         ],
         "y": [
          0.5053706765174866,
          0.29239144921302795,
          0.47053956985473633,
          -0.11552176624536514,
          0.21571214497089386,
          0.06468954682350159,
          0.5472102761268616,
          0.3245510160923004,
          0.04376112297177315,
          -0.050645433366298676,
          0.045719608664512634,
          0.3956216275691986,
          0.49330997467041016,
          0.14906306564807892,
          0.10782679170370102,
          0.2305924892425537,
          -0.06479905545711517,
          0.3883742094039917,
          0.057503364980220795,
          -0.35289913415908813,
          -0.04330597445368767,
          0.02922236919403076
         ]
        },
        {
         "mode": "lines+markers",
         "name": "Pulse index: 8",
         "type": "scatter",
         "x": [
          6381770,
          6381771,
          6381772,
          6381773,
          6381774,
          6381775,
          6381776,
          6381777,
          6381778,
          6381779,
          6381780,
          6381781,
          6381782,
          6381783,
          6381784,
          6381785,
          6381786,
          6381787,
          6381788,
          6381789,
          6381790,
          6381791
         ],
         "y": [
          0.4929516911506653,
          0.39128378033638,
          -0.017629295587539673,
          -0.4293754994869232,
          -0.1848001629114151,
          -0.16501478850841522,
          -0.12878678739070892,
          0.19951266050338745,
          0.05561668053269386,
          -0.026681050658226013,
          -0.06126922741532326,
          0.17467749118804932,
          0.0825224220752716,
          0.5374605655670166,
          -0.29360392689704895,
          0.09522463381290436,
          0.07755270600318909,
          -0.03959733620285988,
          -0.3698901832103729,
          -0.4305364191532135,
          -0.19533520936965942,
          0.6774446964263916
         ]
        },
        {
         "mode": "lines+markers",
         "name": "Pulse index: 9",
         "type": "scatter",
         "x": [
          6381770,
          6381771,
          6381772,
          6381773,
          6381774,
          6381775,
          6381776,
          6381777,
          6381778,
          6381779,
          6381780,
          6381781,
          6381782,
          6381783,
          6381784,
          6381785,
          6381786,
          6381787,
          6381788,
          6381789,
          6381790,
          6381791
         ],
         "y": [
          0.0045797331258654594,
          -0.31996211409568787,
          -0.7381868362426758,
          -0.6678895950317383,
          -0.2435762733221054,
          -0.29276764392852783,
          -0.30615514516830444,
          -0.02841530740261078,
          -0.4709163010120392,
          -0.5781502723693848,
          -0.2246825397014618,
          -0.5306686162948608,
          -0.2710120975971222,
          -0.1608164757490158,
          0.06829825788736343,
          -0.189139261841774,
          0.032952796667814255,
          -0.14088962972164154,
          0.04117884486913681,
          -0.844975471496582,
          -0.8505183458328247,
          -0.08971498906612396
         ]
        },
        {
         "mode": "lines+markers",
         "name": "Pulse index: 10",
         "type": "scatter",
         "x": [
          6381770,
          6381771,
          6381772,
          6381773,
          6381774,
          6381775,
          6381776,
          6381777,
          6381778,
          6381779,
          6381780,
          6381781,
          6381782,
          6381783,
          6381784,
          6381785,
          6381786,
          6381787,
          6381788,
          6381789,
          6381790,
          6381791
         ],
         "y": [
          0.18986448645591736,
          -0.25420546531677246,
          -0.5932635068893433,
          -0.27147531509399414,
          -0.5145311951637268,
          -0.26367080211639404,
          -0.08265458792448044,
          0.11895295977592468,
          -0.3717059791088104,
          -0.4561774432659149,
          -0.4990912079811096,
          0.18443502485752106,
          0.34972983598709106,
          0.43609946966171265,
          0.19355741143226624,
          0.40542352199554443,
          0.4357486665248871,
          0.180378258228302,
          -0.04175977781414986,
          -0.466791570186615,
          -1.0898423194885254,
          -0.3002234995365143
         ]
        }
       ],
       "layout": {
        "template": {
         "data": {
          "bar": [
           {
            "error_x": {
             "color": "#2a3f5f"
            },
            "error_y": {
             "color": "#2a3f5f"
            },
            "marker": {
             "line": {
              "color": "#E5ECF6",
              "width": 0.5
             }
            },
            "type": "bar"
           }
          ],
          "barpolar": [
           {
            "marker": {
             "line": {
              "color": "#E5ECF6",
              "width": 0.5
             }
            },
            "type": "barpolar"
           }
          ],
          "carpet": [
           {
            "aaxis": {
             "endlinecolor": "#2a3f5f",
             "gridcolor": "white",
             "linecolor": "white",
             "minorgridcolor": "white",
             "startlinecolor": "#2a3f5f"
            },
            "baxis": {
             "endlinecolor": "#2a3f5f",
             "gridcolor": "white",
             "linecolor": "white",
             "minorgridcolor": "white",
             "startlinecolor": "#2a3f5f"
            },
            "type": "carpet"
           }
          ],
          "choropleth": [
           {
            "colorbar": {
             "outlinewidth": 0,
             "ticks": ""
            },
            "type": "choropleth"
           }
          ],
          "contour": [
           {
            "colorbar": {
             "outlinewidth": 0,
             "ticks": ""
            },
            "colorscale": [
             [
              0,
              "#0d0887"
             ],
             [
              0.1111111111111111,
              "#46039f"
             ],
             [
              0.2222222222222222,
              "#7201a8"
             ],
             [
              0.3333333333333333,
              "#9c179e"
             ],
             [
              0.4444444444444444,
              "#bd3786"
             ],
             [
              0.5555555555555556,
              "#d8576b"
             ],
             [
              0.6666666666666666,
              "#ed7953"
             ],
             [
              0.7777777777777778,
              "#fb9f3a"
             ],
             [
              0.8888888888888888,
              "#fdca26"
             ],
             [
              1,
              "#f0f921"
             ]
            ],
            "type": "contour"
           }
          ],
          "contourcarpet": [
           {
            "colorbar": {
             "outlinewidth": 0,
             "ticks": ""
            },
            "type": "contourcarpet"
           }
          ],
          "heatmap": [
           {
            "colorbar": {
             "outlinewidth": 0,
             "ticks": ""
            },
            "colorscale": [
             [
              0,
              "#0d0887"
             ],
             [
              0.1111111111111111,
              "#46039f"
             ],
             [
              0.2222222222222222,
              "#7201a8"
             ],
             [
              0.3333333333333333,
              "#9c179e"
             ],
             [
              0.4444444444444444,
              "#bd3786"
             ],
             [
              0.5555555555555556,
              "#d8576b"
             ],
             [
              0.6666666666666666,
              "#ed7953"
             ],
             [
              0.7777777777777778,
              "#fb9f3a"
             ],
             [
              0.8888888888888888,
              "#fdca26"
             ],
             [
              1,
              "#f0f921"
             ]
            ],
            "type": "heatmap"
           }
          ],
          "heatmapgl": [
           {
            "colorbar": {
             "outlinewidth": 0,
             "ticks": ""
            },
            "colorscale": [
             [
              0,
              "#0d0887"
             ],
             [
              0.1111111111111111,
              "#46039f"
             ],
             [
              0.2222222222222222,
              "#7201a8"
             ],
             [
              0.3333333333333333,
              "#9c179e"
             ],
             [
              0.4444444444444444,
              "#bd3786"
             ],
             [
              0.5555555555555556,
              "#d8576b"
             ],
             [
              0.6666666666666666,
              "#ed7953"
             ],
             [
              0.7777777777777778,
              "#fb9f3a"
             ],
             [
              0.8888888888888888,
              "#fdca26"
             ],
             [
              1,
              "#f0f921"
             ]
            ],
            "type": "heatmapgl"
           }
          ],
          "histogram": [
           {
            "marker": {
             "colorbar": {
              "outlinewidth": 0,
              "ticks": ""
             }
            },
            "type": "histogram"
           }
          ],
          "histogram2d": [
           {
            "colorbar": {
             "outlinewidth": 0,
             "ticks": ""
            },
            "colorscale": [
             [
              0,
              "#0d0887"
             ],
             [
              0.1111111111111111,
              "#46039f"
             ],
             [
              0.2222222222222222,
              "#7201a8"
             ],
             [
              0.3333333333333333,
              "#9c179e"
             ],
             [
              0.4444444444444444,
              "#bd3786"
             ],
             [
              0.5555555555555556,
              "#d8576b"
             ],
             [
              0.6666666666666666,
              "#ed7953"
             ],
             [
              0.7777777777777778,
              "#fb9f3a"
             ],
             [
              0.8888888888888888,
              "#fdca26"
             ],
             [
              1,
              "#f0f921"
             ]
            ],
            "type": "histogram2d"
           }
          ],
          "histogram2dcontour": [
           {
            "colorbar": {
             "outlinewidth": 0,
             "ticks": ""
            },
            "colorscale": [
             [
              0,
              "#0d0887"
             ],
             [
              0.1111111111111111,
              "#46039f"
             ],
             [
              0.2222222222222222,
              "#7201a8"
             ],
             [
              0.3333333333333333,
              "#9c179e"
             ],
             [
              0.4444444444444444,
              "#bd3786"
             ],
             [
              0.5555555555555556,
              "#d8576b"
             ],
             [
              0.6666666666666666,
              "#ed7953"
             ],
             [
              0.7777777777777778,
              "#fb9f3a"
             ],
             [
              0.8888888888888888,
              "#fdca26"
             ],
             [
              1,
              "#f0f921"
             ]
            ],
            "type": "histogram2dcontour"
           }
          ],
          "mesh3d": [
           {
            "colorbar": {
             "outlinewidth": 0,
             "ticks": ""
            },
            "type": "mesh3d"
           }
          ],
          "parcoords": [
           {
            "line": {
             "colorbar": {
              "outlinewidth": 0,
              "ticks": ""
             }
            },
            "type": "parcoords"
           }
          ],
          "pie": [
           {
            "automargin": true,
            "type": "pie"
           }
          ],
          "scatter": [
           {
            "marker": {
             "colorbar": {
              "outlinewidth": 0,
              "ticks": ""
             }
            },
            "type": "scatter"
           }
          ],
          "scatter3d": [
           {
            "line": {
             "colorbar": {
              "outlinewidth": 0,
              "ticks": ""
             }
            },
            "marker": {
             "colorbar": {
              "outlinewidth": 0,
              "ticks": ""
             }
            },
            "type": "scatter3d"
           }
          ],
          "scattercarpet": [
           {
            "marker": {
             "colorbar": {
              "outlinewidth": 0,
              "ticks": ""
             }
            },
            "type": "scattercarpet"
           }
          ],
          "scattergeo": [
           {
            "marker": {
             "colorbar": {
              "outlinewidth": 0,
              "ticks": ""
             }
            },
            "type": "scattergeo"
           }
          ],
          "scattergl": [
           {
            "marker": {
             "colorbar": {
              "outlinewidth": 0,
              "ticks": ""
             }
            },
            "type": "scattergl"
           }
          ],
          "scattermapbox": [
           {
            "marker": {
             "colorbar": {
              "outlinewidth": 0,
              "ticks": ""
             }
            },
            "type": "scattermapbox"
           }
          ],
          "scatterpolar": [
           {
            "marker": {
             "colorbar": {
              "outlinewidth": 0,
              "ticks": ""
             }
            },
            "type": "scatterpolar"
           }
          ],
          "scatterpolargl": [
           {
            "marker": {
             "colorbar": {
              "outlinewidth": 0,
              "ticks": ""
             }
            },
            "type": "scatterpolargl"
           }
          ],
          "scatterternary": [
           {
            "marker": {
             "colorbar": {
              "outlinewidth": 0,
              "ticks": ""
             }
            },
            "type": "scatterternary"
           }
          ],
          "surface": [
           {
            "colorbar": {
             "outlinewidth": 0,
             "ticks": ""
            },
            "colorscale": [
             [
              0,
              "#0d0887"
             ],
             [
              0.1111111111111111,
              "#46039f"
             ],
             [
              0.2222222222222222,
              "#7201a8"
             ],
             [
              0.3333333333333333,
              "#9c179e"
             ],
             [
              0.4444444444444444,
              "#bd3786"
             ],
             [
              0.5555555555555556,
              "#d8576b"
             ],
             [
              0.6666666666666666,
              "#ed7953"
             ],
             [
              0.7777777777777778,
              "#fb9f3a"
             ],
             [
              0.8888888888888888,
              "#fdca26"
             ],
             [
              1,
              "#f0f921"
             ]
            ],
            "type": "surface"
           }
          ],
          "table": [
           {
            "cells": {
             "fill": {
              "color": "#EBF0F8"
             },
             "line": {
              "color": "white"
             }
            },
            "header": {
             "fill": {
              "color": "#C8D4E3"
             },
             "line": {
              "color": "white"
             }
            },
            "type": "table"
           }
          ]
         },
         "layout": {
          "annotationdefaults": {
           "arrowcolor": "#2a3f5f",
           "arrowhead": 0,
           "arrowwidth": 1
          },
          "coloraxis": {
           "colorbar": {
            "outlinewidth": 0,
            "ticks": ""
           }
          },
          "colorscale": {
           "diverging": [
            [
             0,
             "#8e0152"
            ],
            [
             0.1,
             "#c51b7d"
            ],
            [
             0.2,
             "#de77ae"
            ],
            [
             0.3,
             "#f1b6da"
            ],
            [
             0.4,
             "#fde0ef"
            ],
            [
             0.5,
             "#f7f7f7"
            ],
            [
             0.6,
             "#e6f5d0"
            ],
            [
             0.7,
             "#b8e186"
            ],
            [
             0.8,
             "#7fbc41"
            ],
            [
             0.9,
             "#4d9221"
            ],
            [
             1,
             "#276419"
            ]
           ],
           "sequential": [
            [
             0,
             "#0d0887"
            ],
            [
             0.1111111111111111,
             "#46039f"
            ],
            [
             0.2222222222222222,
             "#7201a8"
            ],
            [
             0.3333333333333333,
             "#9c179e"
            ],
            [
             0.4444444444444444,
             "#bd3786"
            ],
            [
             0.5555555555555556,
             "#d8576b"
            ],
            [
             0.6666666666666666,
             "#ed7953"
            ],
            [
             0.7777777777777778,
             "#fb9f3a"
            ],
            [
             0.8888888888888888,
             "#fdca26"
            ],
            [
             1,
             "#f0f921"
            ]
           ],
           "sequentialminus": [
            [
             0,
             "#0d0887"
            ],
            [
             0.1111111111111111,
             "#46039f"
            ],
            [
             0.2222222222222222,
             "#7201a8"
            ],
            [
             0.3333333333333333,
             "#9c179e"
            ],
            [
             0.4444444444444444,
             "#bd3786"
            ],
            [
             0.5555555555555556,
             "#d8576b"
            ],
            [
             0.6666666666666666,
             "#ed7953"
            ],
            [
             0.7777777777777778,
             "#fb9f3a"
            ],
            [
             0.8888888888888888,
             "#fdca26"
            ],
            [
             1,
             "#f0f921"
            ]
           ]
          },
          "colorway": [
           "#636efa",
           "#EF553B",
           "#00cc96",
           "#ab63fa",
           "#FFA15A",
           "#19d3f3",
           "#FF6692",
           "#B6E880",
           "#FF97FF",
           "#FECB52"
          ],
          "font": {
           "color": "#2a3f5f"
          },
          "geo": {
           "bgcolor": "white",
           "lakecolor": "white",
           "landcolor": "#E5ECF6",
           "showlakes": true,
           "showland": true,
           "subunitcolor": "white"
          },
          "hoverlabel": {
           "align": "left"
          },
          "hovermode": "closest",
          "mapbox": {
           "style": "light"
          },
          "paper_bgcolor": "white",
          "plot_bgcolor": "#E5ECF6",
          "polar": {
           "angularaxis": {
            "gridcolor": "white",
            "linecolor": "white",
            "ticks": ""
           },
           "bgcolor": "#E5ECF6",
           "radialaxis": {
            "gridcolor": "white",
            "linecolor": "white",
            "ticks": ""
           }
          },
          "scene": {
           "xaxis": {
            "backgroundcolor": "#E5ECF6",
            "gridcolor": "white",
            "gridwidth": 2,
            "linecolor": "white",
            "showbackground": true,
            "ticks": "",
            "zerolinecolor": "white"
           },
           "yaxis": {
            "backgroundcolor": "#E5ECF6",
            "gridcolor": "white",
            "gridwidth": 2,
            "linecolor": "white",
            "showbackground": true,
            "ticks": "",
            "zerolinecolor": "white"
           },
           "zaxis": {
            "backgroundcolor": "#E5ECF6",
            "gridcolor": "white",
            "gridwidth": 2,
            "linecolor": "white",
            "showbackground": true,
            "ticks": "",
            "zerolinecolor": "white"
           }
          },
          "shapedefaults": {
           "line": {
            "color": "#2a3f5f"
           }
          },
          "ternary": {
           "aaxis": {
            "gridcolor": "white",
            "linecolor": "white",
            "ticks": ""
           },
           "baxis": {
            "gridcolor": "white",
            "linecolor": "white",
            "ticks": ""
           },
           "bgcolor": "#E5ECF6",
           "caxis": {
            "gridcolor": "white",
            "linecolor": "white",
            "ticks": ""
           }
          },
          "title": {
           "x": 0.05
          },
          "xaxis": {
           "automargin": true,
           "gridcolor": "white",
           "linecolor": "white",
           "ticks": "",
           "title": {
            "standoff": 15
           },
           "zerolinecolor": "white",
           "zerolinewidth": 2
          },
          "yaxis": {
           "automargin": true,
           "gridcolor": "white",
           "linecolor": "white",
           "ticks": "",
           "title": {
            "standoff": 15
           },
           "zerolinecolor": "white",
           "zerolinewidth": 2
          }
         }
        },
        "title": {
         "text": "Module number 14"
        }
       }
      },
      "text/html": [
       "<div>\n",
       "        \n",
       "        \n",
       "            <div id=\"c816cd47-90ce-489c-950e-b7c9d2ea352d\" class=\"plotly-graph-div\" style=\"height:525px; width:100%;\"></div>\n",
       "            <script type=\"text/javascript\">\n",
       "                require([\"plotly\"], function(Plotly) {\n",
       "                    window.PLOTLYENV=window.PLOTLYENV || {};\n",
       "                    \n",
       "                if (document.getElementById(\"c816cd47-90ce-489c-950e-b7c9d2ea352d\")) {\n",
       "                    Plotly.newPlot(\n",
       "                        'c816cd47-90ce-489c-950e-b7c9d2ea352d',\n",
       "                        [{\"mode\": \"lines+markers\", \"name\": \"Pulse index: 0\", \"type\": \"scatter\", \"x\": [6381770, 6381771, 6381772, 6381773, 6381774, 6381775, 6381776, 6381777, 6381778, 6381779, 6381780, 6381781, 6381782, 6381783, 6381784, 6381785, 6381786, 6381787, 6381788, 6381789, 6381790, 6381791], \"y\": [0.007761811371892691, -0.09860964864492416, 0.12787608802318573, -0.03859501704573631, -0.04978971555829048, 0.12807998061180115, -0.016902977600693703, 0.10329294204711914, -0.21185824275016785, 0.29362085461616516, 0.05350244790315628, -0.029077710583806038, -0.03601524606347084, -0.009601511061191559, -0.007909977808594704, -0.016250070184469223, 0.42247387766838074, -0.010740062221884727, 0.019083701074123383, 0.12775178253650665, 0.16563653945922852, -0.05544588342308998]}, {\"mode\": \"lines+markers\", \"name\": \"Pulse index: 1\", \"type\": \"scatter\", \"x\": [6381770, 6381771, 6381772, 6381773, 6381774, 6381775, 6381776, 6381777, 6381778, 6381779, 6381780, 6381781, 6381782, 6381783, 6381784, 6381785, 6381786, 6381787, 6381788, 6381789, 6381790, 6381791], \"y\": [-0.05911118537187576, -0.19029107689857483, -0.05668838322162628, 0.2928645610809326, 0.059144068509340286, -0.02746293507516384, 0.04443768411874771, 0.0015239811036735773, 0.025798160582780838, -0.15108992159366608, 0.0937642976641655, -0.03683038800954819, 0.07036636769771576, 0.14036469161510468, 0.08749223500490189, -0.27961406111717224, -0.006572308950126171, 0.17989042401313782, -0.09382189065217972, 0.04006224125623703, -0.02329903654754162, 0.022094637155532837]}, {\"mode\": \"lines+markers\", \"name\": \"Pulse index: 2\", \"type\": \"scatter\", \"x\": [6381770, 6381771, 6381772, 6381773, 6381774, 6381775, 6381776, 6381777, 6381778, 6381779, 6381780, 6381781, 6381782, 6381783, 6381784, 6381785, 6381786, 6381787, 6381788, 6381789, 6381790, 6381791], \"y\": [-0.17935486137866974, -0.019636474549770355, -0.011177553795278072, -0.8668978810310364, -0.05907926335930824, -0.646670937538147, 0.04498547688126564, -0.05453336611390114, 0.041142359375953674, -0.008405796252191067, -0.024278894066810608, 0.4885745644569397, 0.13240177929401398, -0.6071354746818542, -1.5489805936813354, 0.009646502323448658, null, 0.13435320556163788, 0.06790600717067719, -0.005785667337477207, -0.02228151075541973, -0.0321870855987072]}, {\"mode\": \"lines+markers\", \"name\": \"Pulse index: 3\", \"type\": \"scatter\", \"x\": [6381770, 6381771, 6381772, 6381773, 6381774, 6381775, 6381776, 6381777, 6381778, 6381779, 6381780, 6381781, 6381782, 6381783, 6381784, 6381785, 6381786, 6381787, 6381788, 6381789, 6381790, 6381791], \"y\": [0.09351247549057007, -0.4916400611400604, -0.11750434339046478, -0.5407612323760986, -0.15661326050758362, -0.2609562277793884, -0.28266286849975586, -0.4352525472640991, -0.4295250177383423, -0.3713444769382477, -0.42093420028686523, 0.11261937767267227, 0.11572843790054321, 0.46567994356155396, 0.13683639466762543, 0.03502272069454193, -0.04676983132958412, 0.30971625447273254, 0.17880623042583466, -0.3475184142589569, -0.8867948651313782, -0.43979451060295105]}, {\"mode\": \"lines+markers\", \"name\": \"Pulse index: 4\", \"type\": \"scatter\", \"x\": [6381770, 6381771, 6381772, 6381773, 6381774, 6381775, 6381776, 6381777, 6381778, 6381779, 6381780, 6381781, 6381782, 6381783, 6381784, 6381785, 6381786, 6381787, 6381788, 6381789, 6381790, 6381791], \"y\": [0.2867472767829895, -0.13359397649765015, -0.08112714439630508, -0.0033010232727974653, 0.15401673316955566, 0.043146952986717224, 0.24980278313159943, 0.42329269647598267, 0.16374795138835907, 0.12958194315433502, 0.3855314254760742, 0.4439261853694916, 0.5444097518920898, 0.6373971700668335, 0.3164621591567993, 0.6305075883865356, 0.26674795150756836, -0.05546500161290169, -0.13441643118858337, -0.6132228970527649, -0.3040916919708252, -0.22756756842136383]}, {\"mode\": \"lines+markers\", \"name\": \"Pulse index: 5\", \"type\": \"scatter\", \"x\": [6381770, 6381771, 6381772, 6381773, 6381774, 6381775, 6381776, 6381777, 6381778, 6381779, 6381780, 6381781, 6381782, 6381783, 6381784, 6381785, 6381786, 6381787, 6381788, 6381789, 6381790, 6381791], \"y\": [-0.2185334861278534, -0.21343709528446198, -0.2513822913169861, -0.08449544757604599, -0.2176019698381424, -0.08263648301362991, 0.3139766454696655, 0.0950167179107666, 0.03783625364303589, -0.3794132471084595, 0.25386857986450195, 0.024153873324394226, 0.047643840312957764, -0.0525185689330101, -0.3103150427341461, 0.07173173874616623, -0.34706005454063416, 0.2547938823699951, -0.31492653489112854, -0.5678500533103943, -0.6316887140274048, -0.3191051781177521]}, {\"mode\": \"lines+markers\", \"name\": \"Pulse index: 6\", \"type\": \"scatter\", \"x\": [6381770, 6381771, 6381772, 6381773, 6381774, 6381775, 6381776, 6381777, 6381778, 6381779, 6381780, 6381781, 6381782, 6381783, 6381784, 6381785, 6381786, 6381787, 6381788, 6381789, 6381790, 6381791], \"y\": [0.1908227652311325, -0.003999096807092428, -0.169123113155365, -0.45786118507385254, 0.1094021201133728, 0.019241828471422195, -0.10178478062152863, -0.09990245848894119, -0.2455064356327057, -0.44716185331344604, -0.0018522527534514666, 0.2973650097846985, -0.29142388701438904, 0.07006514072418213, 0.32529133558273315, 0.2721205949783325, 0.10600562393665314, -0.03177380561828613, 0.05425352603197098, -0.2988176941871643, -0.690701425075531, -0.5434074997901917]}, {\"mode\": \"lines+markers\", \"name\": \"Pulse index: 7\", \"type\": \"scatter\", \"x\": [6381770, 6381771, 6381772, 6381773, 6381774, 6381775, 6381776, 6381777, 6381778, 6381779, 6381780, 6381781, 6381782, 6381783, 6381784, 6381785, 6381786, 6381787, 6381788, 6381789, 6381790, 6381791], \"y\": [0.5053706765174866, 0.29239144921302795, 0.47053956985473633, -0.11552176624536514, 0.21571214497089386, 0.06468954682350159, 0.5472102761268616, 0.3245510160923004, 0.04376112297177315, -0.050645433366298676, 0.045719608664512634, 0.3956216275691986, 0.49330997467041016, 0.14906306564807892, 0.10782679170370102, 0.2305924892425537, -0.06479905545711517, 0.3883742094039917, 0.057503364980220795, -0.35289913415908813, -0.04330597445368767, 0.02922236919403076]}, {\"mode\": \"lines+markers\", \"name\": \"Pulse index: 8\", \"type\": \"scatter\", \"x\": [6381770, 6381771, 6381772, 6381773, 6381774, 6381775, 6381776, 6381777, 6381778, 6381779, 6381780, 6381781, 6381782, 6381783, 6381784, 6381785, 6381786, 6381787, 6381788, 6381789, 6381790, 6381791], \"y\": [0.4929516911506653, 0.39128378033638, -0.017629295587539673, -0.4293754994869232, -0.1848001629114151, -0.16501478850841522, -0.12878678739070892, 0.19951266050338745, 0.05561668053269386, -0.026681050658226013, -0.06126922741532326, 0.17467749118804932, 0.0825224220752716, 0.5374605655670166, -0.29360392689704895, 0.09522463381290436, 0.07755270600318909, -0.03959733620285988, -0.3698901832103729, -0.4305364191532135, -0.19533520936965942, 0.6774446964263916]}, {\"mode\": \"lines+markers\", \"name\": \"Pulse index: 9\", \"type\": \"scatter\", \"x\": [6381770, 6381771, 6381772, 6381773, 6381774, 6381775, 6381776, 6381777, 6381778, 6381779, 6381780, 6381781, 6381782, 6381783, 6381784, 6381785, 6381786, 6381787, 6381788, 6381789, 6381790, 6381791], \"y\": [0.0045797331258654594, -0.31996211409568787, -0.7381868362426758, -0.6678895950317383, -0.2435762733221054, -0.29276764392852783, -0.30615514516830444, -0.02841530740261078, -0.4709163010120392, -0.5781502723693848, -0.2246825397014618, -0.5306686162948608, -0.2710120975971222, -0.1608164757490158, 0.06829825788736343, -0.189139261841774, 0.032952796667814255, -0.14088962972164154, 0.04117884486913681, -0.844975471496582, -0.8505183458328247, -0.08971498906612396]}, {\"mode\": \"lines+markers\", \"name\": \"Pulse index: 10\", \"type\": \"scatter\", \"x\": [6381770, 6381771, 6381772, 6381773, 6381774, 6381775, 6381776, 6381777, 6381778, 6381779, 6381780, 6381781, 6381782, 6381783, 6381784, 6381785, 6381786, 6381787, 6381788, 6381789, 6381790, 6381791], \"y\": [0.18986448645591736, -0.25420546531677246, -0.5932635068893433, -0.27147531509399414, -0.5145311951637268, -0.26367080211639404, -0.08265458792448044, 0.11895295977592468, -0.3717059791088104, -0.4561774432659149, -0.4990912079811096, 0.18443502485752106, 0.34972983598709106, 0.43609946966171265, 0.19355741143226624, 0.40542352199554443, 0.4357486665248871, 0.180378258228302, -0.04175977781414986, -0.466791570186615, -1.0898423194885254, -0.3002234995365143]}],\n",
       "                        {\"template\": {\"data\": {\"bar\": [{\"error_x\": {\"color\": \"#2a3f5f\"}, \"error_y\": {\"color\": \"#2a3f5f\"}, \"marker\": {\"line\": {\"color\": \"#E5ECF6\", \"width\": 0.5}}, \"type\": \"bar\"}], \"barpolar\": [{\"marker\": {\"line\": {\"color\": \"#E5ECF6\", \"width\": 0.5}}, \"type\": \"barpolar\"}], \"carpet\": [{\"aaxis\": {\"endlinecolor\": \"#2a3f5f\", \"gridcolor\": \"white\", \"linecolor\": \"white\", \"minorgridcolor\": \"white\", \"startlinecolor\": \"#2a3f5f\"}, \"baxis\": {\"endlinecolor\": \"#2a3f5f\", \"gridcolor\": \"white\", \"linecolor\": \"white\", \"minorgridcolor\": \"white\", \"startlinecolor\": \"#2a3f5f\"}, \"type\": \"carpet\"}], \"choropleth\": [{\"colorbar\": {\"outlinewidth\": 0, \"ticks\": \"\"}, \"type\": \"choropleth\"}], \"contour\": [{\"colorbar\": {\"outlinewidth\": 0, \"ticks\": \"\"}, \"colorscale\": [[0.0, \"#0d0887\"], [0.1111111111111111, \"#46039f\"], [0.2222222222222222, \"#7201a8\"], [0.3333333333333333, \"#9c179e\"], [0.4444444444444444, \"#bd3786\"], [0.5555555555555556, \"#d8576b\"], [0.6666666666666666, \"#ed7953\"], [0.7777777777777778, \"#fb9f3a\"], [0.8888888888888888, \"#fdca26\"], [1.0, \"#f0f921\"]], \"type\": \"contour\"}], \"contourcarpet\": [{\"colorbar\": {\"outlinewidth\": 0, \"ticks\": \"\"}, \"type\": \"contourcarpet\"}], \"heatmap\": [{\"colorbar\": {\"outlinewidth\": 0, \"ticks\": \"\"}, \"colorscale\": [[0.0, \"#0d0887\"], [0.1111111111111111, \"#46039f\"], [0.2222222222222222, \"#7201a8\"], [0.3333333333333333, \"#9c179e\"], [0.4444444444444444, \"#bd3786\"], [0.5555555555555556, \"#d8576b\"], [0.6666666666666666, \"#ed7953\"], [0.7777777777777778, \"#fb9f3a\"], [0.8888888888888888, \"#fdca26\"], [1.0, \"#f0f921\"]], \"type\": \"heatmap\"}], \"heatmapgl\": [{\"colorbar\": {\"outlinewidth\": 0, \"ticks\": \"\"}, \"colorscale\": [[0.0, \"#0d0887\"], [0.1111111111111111, \"#46039f\"], [0.2222222222222222, \"#7201a8\"], [0.3333333333333333, \"#9c179e\"], [0.4444444444444444, \"#bd3786\"], [0.5555555555555556, \"#d8576b\"], [0.6666666666666666, \"#ed7953\"], [0.7777777777777778, \"#fb9f3a\"], [0.8888888888888888, \"#fdca26\"], [1.0, \"#f0f921\"]], \"type\": \"heatmapgl\"}], \"histogram\": [{\"marker\": {\"colorbar\": {\"outlinewidth\": 0, \"ticks\": \"\"}}, \"type\": \"histogram\"}], \"histogram2d\": [{\"colorbar\": {\"outlinewidth\": 0, \"ticks\": \"\"}, \"colorscale\": [[0.0, \"#0d0887\"], [0.1111111111111111, \"#46039f\"], [0.2222222222222222, \"#7201a8\"], [0.3333333333333333, \"#9c179e\"], [0.4444444444444444, \"#bd3786\"], [0.5555555555555556, \"#d8576b\"], [0.6666666666666666, \"#ed7953\"], [0.7777777777777778, \"#fb9f3a\"], [0.8888888888888888, \"#fdca26\"], [1.0, \"#f0f921\"]], \"type\": \"histogram2d\"}], \"histogram2dcontour\": [{\"colorbar\": {\"outlinewidth\": 0, \"ticks\": \"\"}, \"colorscale\": [[0.0, \"#0d0887\"], [0.1111111111111111, \"#46039f\"], [0.2222222222222222, \"#7201a8\"], [0.3333333333333333, \"#9c179e\"], [0.4444444444444444, \"#bd3786\"], [0.5555555555555556, \"#d8576b\"], [0.6666666666666666, \"#ed7953\"], [0.7777777777777778, \"#fb9f3a\"], [0.8888888888888888, \"#fdca26\"], [1.0, \"#f0f921\"]], \"type\": \"histogram2dcontour\"}], \"mesh3d\": [{\"colorbar\": {\"outlinewidth\": 0, \"ticks\": \"\"}, \"type\": \"mesh3d\"}], \"parcoords\": [{\"line\": {\"colorbar\": {\"outlinewidth\": 0, \"ticks\": \"\"}}, \"type\": \"parcoords\"}], \"pie\": [{\"automargin\": true, \"type\": \"pie\"}], \"scatter\": [{\"marker\": {\"colorbar\": {\"outlinewidth\": 0, \"ticks\": \"\"}}, \"type\": \"scatter\"}], \"scatter3d\": [{\"line\": {\"colorbar\": {\"outlinewidth\": 0, \"ticks\": \"\"}}, \"marker\": {\"colorbar\": {\"outlinewidth\": 0, \"ticks\": \"\"}}, \"type\": \"scatter3d\"}], \"scattercarpet\": [{\"marker\": {\"colorbar\": {\"outlinewidth\": 0, \"ticks\": \"\"}}, \"type\": \"scattercarpet\"}], \"scattergeo\": [{\"marker\": {\"colorbar\": {\"outlinewidth\": 0, \"ticks\": \"\"}}, \"type\": \"scattergeo\"}], \"scattergl\": [{\"marker\": {\"colorbar\": {\"outlinewidth\": 0, \"ticks\": \"\"}}, \"type\": \"scattergl\"}], \"scattermapbox\": [{\"marker\": {\"colorbar\": {\"outlinewidth\": 0, \"ticks\": \"\"}}, \"type\": \"scattermapbox\"}], \"scatterpolar\": [{\"marker\": {\"colorbar\": {\"outlinewidth\": 0, \"ticks\": \"\"}}, \"type\": \"scatterpolar\"}], \"scatterpolargl\": [{\"marker\": {\"colorbar\": {\"outlinewidth\": 0, \"ticks\": \"\"}}, \"type\": \"scatterpolargl\"}], \"scatterternary\": [{\"marker\": {\"colorbar\": {\"outlinewidth\": 0, \"ticks\": \"\"}}, \"type\": \"scatterternary\"}], \"surface\": [{\"colorbar\": {\"outlinewidth\": 0, \"ticks\": \"\"}, \"colorscale\": [[0.0, \"#0d0887\"], [0.1111111111111111, \"#46039f\"], [0.2222222222222222, \"#7201a8\"], [0.3333333333333333, \"#9c179e\"], [0.4444444444444444, \"#bd3786\"], [0.5555555555555556, \"#d8576b\"], [0.6666666666666666, \"#ed7953\"], [0.7777777777777778, \"#fb9f3a\"], [0.8888888888888888, \"#fdca26\"], [1.0, \"#f0f921\"]], \"type\": \"surface\"}], \"table\": [{\"cells\": {\"fill\": {\"color\": \"#EBF0F8\"}, \"line\": {\"color\": \"white\"}}, \"header\": {\"fill\": {\"color\": \"#C8D4E3\"}, \"line\": {\"color\": \"white\"}}, \"type\": \"table\"}]}, \"layout\": {\"annotationdefaults\": {\"arrowcolor\": \"#2a3f5f\", \"arrowhead\": 0, \"arrowwidth\": 1}, \"coloraxis\": {\"colorbar\": {\"outlinewidth\": 0, \"ticks\": \"\"}}, \"colorscale\": {\"diverging\": [[0, \"#8e0152\"], [0.1, \"#c51b7d\"], [0.2, \"#de77ae\"], [0.3, \"#f1b6da\"], [0.4, \"#fde0ef\"], [0.5, \"#f7f7f7\"], [0.6, \"#e6f5d0\"], [0.7, \"#b8e186\"], [0.8, \"#7fbc41\"], [0.9, \"#4d9221\"], [1, \"#276419\"]], \"sequential\": [[0.0, \"#0d0887\"], [0.1111111111111111, \"#46039f\"], [0.2222222222222222, \"#7201a8\"], [0.3333333333333333, \"#9c179e\"], [0.4444444444444444, \"#bd3786\"], [0.5555555555555556, \"#d8576b\"], [0.6666666666666666, \"#ed7953\"], [0.7777777777777778, \"#fb9f3a\"], [0.8888888888888888, \"#fdca26\"], [1.0, \"#f0f921\"]], \"sequentialminus\": [[0.0, \"#0d0887\"], [0.1111111111111111, \"#46039f\"], [0.2222222222222222, \"#7201a8\"], [0.3333333333333333, \"#9c179e\"], [0.4444444444444444, \"#bd3786\"], [0.5555555555555556, \"#d8576b\"], [0.6666666666666666, \"#ed7953\"], [0.7777777777777778, \"#fb9f3a\"], [0.8888888888888888, \"#fdca26\"], [1.0, \"#f0f921\"]]}, \"colorway\": [\"#636efa\", \"#EF553B\", \"#00cc96\", \"#ab63fa\", \"#FFA15A\", \"#19d3f3\", \"#FF6692\", \"#B6E880\", \"#FF97FF\", \"#FECB52\"], \"font\": {\"color\": \"#2a3f5f\"}, \"geo\": {\"bgcolor\": \"white\", \"lakecolor\": \"white\", \"landcolor\": \"#E5ECF6\", \"showlakes\": true, \"showland\": true, \"subunitcolor\": \"white\"}, \"hoverlabel\": {\"align\": \"left\"}, \"hovermode\": \"closest\", \"mapbox\": {\"style\": \"light\"}, \"paper_bgcolor\": \"white\", \"plot_bgcolor\": \"#E5ECF6\", \"polar\": {\"angularaxis\": {\"gridcolor\": \"white\", \"linecolor\": \"white\", \"ticks\": \"\"}, \"bgcolor\": \"#E5ECF6\", \"radialaxis\": {\"gridcolor\": \"white\", \"linecolor\": \"white\", \"ticks\": \"\"}}, \"scene\": {\"xaxis\": {\"backgroundcolor\": \"#E5ECF6\", \"gridcolor\": \"white\", \"gridwidth\": 2, \"linecolor\": \"white\", \"showbackground\": true, \"ticks\": \"\", \"zerolinecolor\": \"white\"}, \"yaxis\": {\"backgroundcolor\": \"#E5ECF6\", \"gridcolor\": \"white\", \"gridwidth\": 2, \"linecolor\": \"white\", \"showbackground\": true, \"ticks\": \"\", \"zerolinecolor\": \"white\"}, \"zaxis\": {\"backgroundcolor\": \"#E5ECF6\", \"gridcolor\": \"white\", \"gridwidth\": 2, \"linecolor\": \"white\", \"showbackground\": true, \"ticks\": \"\", \"zerolinecolor\": \"white\"}}, \"shapedefaults\": {\"line\": {\"color\": \"#2a3f5f\"}}, \"ternary\": {\"aaxis\": {\"gridcolor\": \"white\", \"linecolor\": \"white\", \"ticks\": \"\"}, \"baxis\": {\"gridcolor\": \"white\", \"linecolor\": \"white\", \"ticks\": \"\"}, \"bgcolor\": \"#E5ECF6\", \"caxis\": {\"gridcolor\": \"white\", \"linecolor\": \"white\", \"ticks\": \"\"}}, \"title\": {\"x\": 0.05}, \"xaxis\": {\"automargin\": true, \"gridcolor\": \"white\", \"linecolor\": \"white\", \"ticks\": \"\", \"title\": {\"standoff\": 15}, \"zerolinecolor\": \"white\", \"zerolinewidth\": 2}, \"yaxis\": {\"automargin\": true, \"gridcolor\": \"white\", \"linecolor\": \"white\", \"ticks\": \"\", \"title\": {\"standoff\": 15}, \"zerolinecolor\": \"white\", \"zerolinewidth\": 2}}}, \"title\": {\"text\": \"Module number 14\"}},\n",
       "                        {\"responsive\": true}\n",
       "                    ).then(function(){\n",
       "                            \n",
       "var gd = document.getElementById('c816cd47-90ce-489c-950e-b7c9d2ea352d');\n",
       "var x = new MutationObserver(function (mutations, observer) {{\n",
       "        var display = window.getComputedStyle(gd).display;\n",
       "        if (!display || display === 'none') {{\n",
       "            console.log([gd, 'removed!']);\n",
       "            Plotly.purge(gd);\n",
       "            observer.disconnect();\n",
       "        }}\n",
       "}});\n",
       "\n",
       "// Listen for the removal of the full notebook cells\n",
       "var notebookContainer = gd.closest('#notebook-container');\n",
       "if (notebookContainer) {{\n",
       "    x.observe(notebookContainer, {childList: true});\n",
       "}}\n",
       "\n",
       "// Listen for the clearing of the current output cell\n",
       "var outputEl = gd.closest('.output');\n",
       "if (outputEl) {{\n",
       "    x.observe(outputEl, {childList: true});\n",
       "}}\n",
       "\n",
       "                        })\n",
       "                };\n",
       "                });\n",
       "            </script>\n",
       "        </div>"
      ]
     },
     "metadata": {},
     "output_type": "display_data"
    },
    {
     "data": {
      "application/vnd.plotly.v1+json": {
       "config": {
        "plotlyServerURL": "https://plot.ly"
       },
       "data": [
        {
         "mode": "lines+markers",
         "name": "Pulse index: 0",
         "type": "scatter",
         "x": [
          6381770,
          6381771,
          6381772,
          6381773,
          6381774,
          6381775,
          6381776,
          6381777,
          6381778,
          6381779,
          6381780,
          6381781,
          6381782,
          6381783,
          6381784,
          6381785,
          6381786,
          6381787,
          6381788,
          6381789,
          6381790,
          6381791
         ],
         "y": [
          0.2024281919002533,
          -0.09232261776924133,
          -0.03824252635240555,
          -0.07299788296222687,
          -0.16144895553588867,
          0.3210528492927551,
          0.22908784449100494,
          -0.10729185491800308,
          -0.41096848249435425,
          -0.26365065574645996,
          -0.1441001296043396,
          -0.05937079340219498,
          -0.024602243676781654,
          0.21088279783725739,
          0.0427449569106102,
          -0.012751424685120583,
          0.0916413962841034,
          -0.017233259975910187,
          -0.13544394075870514,
          0.1550745666027069,
          0.2520923912525177,
          -0.06476791203022003
         ]
        },
        {
         "mode": "lines+markers",
         "name": "Pulse index: 1",
         "type": "scatter",
         "x": [
          6381770,
          6381771,
          6381772,
          6381773,
          6381774,
          6381775,
          6381776,
          6381777,
          6381778,
          6381779,
          6381780,
          6381781,
          6381782,
          6381783,
          6381784,
          6381785,
          6381786,
          6381787,
          6381788,
          6381789,
          6381790,
          6381791
         ],
         "y": [
          -0.06794395297765732,
          -0.2906040847301483,
          -0.18241310119628906,
          0.07634288817644119,
          -0.08084414899349213,
          -0.07365007698535919,
          -0.1291215568780899,
          0.5311108231544495,
          -0.2912902534008026,
          0.025432249531149864,
          -0.14764700829982758,
          -0.09166162461042404,
          0.05295206978917122,
          0.0005782270454801619,
          -0.008644628338515759,
          -0.34271880984306335,
          -0.04543422535061836,
          -0.042302120476961136,
          -0.13275682926177979,
          -0.21674872934818268,
          0.19559405744075775,
          0.13233092427253723
         ]
        },
        {
         "mode": "lines+markers",
         "name": "Pulse index: 2",
         "type": "scatter",
         "x": [
          6381770,
          6381771,
          6381772,
          6381773,
          6381774,
          6381775,
          6381776,
          6381777,
          6381778,
          6381779,
          6381780,
          6381781,
          6381782,
          6381783,
          6381784,
          6381785,
          6381786,
          6381787,
          6381788,
          6381789,
          6381790,
          6381791
         ],
         "y": [
          -0.751796543598175,
          -0.13674072921276093,
          -0.10956738144159317,
          -0.1588265597820282,
          -0.027304451912641525,
          1.0816755294799805,
          -0.05530964210629463,
          -0.40523335337638855,
          0.01661013998091221,
          -0.01801125518977642,
          -0.15961779654026031,
          0.4793490767478943,
          0.029480105265975,
          0.12481460720300674,
          0.43968549370765686,
          -0.10762309283018112,
          null,
          -0.005412384867668152,
          -0.17089220881462097,
          -0.07847084850072861,
          -0.023167071864008904,
          -0.0010582096874713898
         ]
        },
        {
         "mode": "lines+markers",
         "name": "Pulse index: 3",
         "type": "scatter",
         "x": [
          6381770,
          6381771,
          6381772,
          6381773,
          6381774,
          6381775,
          6381776,
          6381777,
          6381778,
          6381779,
          6381780,
          6381781,
          6381782,
          6381783,
          6381784,
          6381785,
          6381786,
          6381787,
          6381788,
          6381789,
          6381790,
          6381791
         ],
         "y": [
          -0.1236717626452446,
          -0.5083631873130798,
          -0.20588427782058716,
          -0.7009037137031555,
          -0.39589112997055054,
          -0.46608343720436096,
          -0.8985854387283325,
          -0.7566515803337097,
          -0.532164454460144,
          -0.49567151069641113,
          -0.7855514287948608,
          -0.05318450927734375,
          -0.0804145410656929,
          -0.29997631907463074,
          -0.1662701517343521,
          -0.15601326525211334,
          -0.28042080998420715,
          -0.14618533849716187,
          -0.2592512369155884,
          -0.5810199975967407,
          -1.2231414318084717,
          -0.7152733206748962
         ]
        },
        {
         "mode": "lines+markers",
         "name": "Pulse index: 4",
         "type": "scatter",
         "x": [
          6381770,
          6381771,
          6381772,
          6381773,
          6381774,
          6381775,
          6381776,
          6381777,
          6381778,
          6381779,
          6381780,
          6381781,
          6381782,
          6381783,
          6381784,
          6381785,
          6381786,
          6381787,
          6381788,
          6381789,
          6381790,
          6381791
         ],
         "y": [
          0.024056455120444298,
          -0.4124893248081207,
          0.01740233600139618,
          -0.43190476298332214,
          -0.4703173041343689,
          -0.7008323669433594,
          -0.39189159870147705,
          -0.1826871633529663,
          0.09696735441684723,
          -0.3051507771015167,
          -0.09930399060249329,
          0.3342699706554413,
          0.4424469470977783,
          0.3278382420539856,
          0.13577918708324432,
          -0.3571164011955261,
          -0.008010758087038994,
          -0.5792234539985657,
          -0.6432821750640869,
          -0.8383634686470032,
          -0.9610825181007385,
          -0.7350781559944153
         ]
        },
        {
         "mode": "lines+markers",
         "name": "Pulse index: 5",
         "type": "scatter",
         "x": [
          6381770,
          6381771,
          6381772,
          6381773,
          6381774,
          6381775,
          6381776,
          6381777,
          6381778,
          6381779,
          6381780,
          6381781,
          6381782,
          6381783,
          6381784,
          6381785,
          6381786,
          6381787,
          6381788,
          6381789,
          6381790,
          6381791
         ],
         "y": [
          -0.2954789102077484,
          -0.07426498085260391,
          -0.3128100633621216,
          -0.6917937994003296,
          -0.08072347193956375,
          -0.7290629744529724,
          -0.2398815155029297,
          -0.43799063563346863,
          -0.2896685302257538,
          -0.3329866826534271,
          -0.024561207741498947,
          0.06094041466712952,
          -0.06010304018855095,
          -0.01608264446258545,
          -0.5593503713607788,
          -0.6368401050567627,
          -0.20526105165481567,
          -0.4721389710903168,
          -0.6910771131515503,
          -0.586351215839386,
          -1.1132972240447998,
          -0.5175037384033203
         ]
        },
        {
         "mode": "lines+markers",
         "name": "Pulse index: 6",
         "type": "scatter",
         "x": [
          6381770,
          6381771,
          6381772,
          6381773,
          6381774,
          6381775,
          6381776,
          6381777,
          6381778,
          6381779,
          6381780,
          6381781,
          6381782,
          6381783,
          6381784,
          6381785,
          6381786,
          6381787,
          6381788,
          6381789,
          6381790,
          6381791
         ],
         "y": [
          -0.11230778694152832,
          -0.19753584265708923,
          0.2527696192264557,
          -0.5662890076637268,
          -0.1035076305270195,
          -0.2764585018157959,
          -0.5251581072807312,
          -0.5792431235313416,
          -0.49494674801826477,
          -0.5305562019348145,
          -0.39721229672431946,
          -0.4221116304397583,
          -0.4150089621543884,
          -0.4230107069015503,
          -0.17332753539085388,
          -0.8046684265136719,
          -0.4168589115142822,
          -0.6911137104034424,
          -0.6921516060829163,
          -1.0014114379882812,
          -1.4122689962387085,
          -0.9715359807014465
         ]
        },
        {
         "mode": "lines+markers",
         "name": "Pulse index: 7",
         "type": "scatter",
         "x": [
          6381770,
          6381771,
          6381772,
          6381773,
          6381774,
          6381775,
          6381776,
          6381777,
          6381778,
          6381779,
          6381780,
          6381781,
          6381782,
          6381783,
          6381784,
          6381785,
          6381786,
          6381787,
          6381788,
          6381789,
          6381790,
          6381791
         ],
         "y": [
          -0.19704629480838776,
          0.03018869459629059,
          0.3578628897666931,
          -0.41266772150993347,
          -0.40219613909721375,
          -0.6115164160728455,
          -0.3059067130088806,
          -0.16845308244228363,
          -0.20728926360607147,
          -0.11893808096647263,
          -0.28663066029548645,
          -0.22059860825538635,
          0.06406018882989883,
          -0.34738990664482117,
          -0.5327563881874084,
          -0.5658043026924133,
          -0.20840579271316528,
          -0.654136598110199,
          -0.38597044348716736,
          -1.073550820350647,
          -1.2519959211349487,
          -0.8767163753509521
         ]
        },
        {
         "mode": "lines+markers",
         "name": "Pulse index: 8",
         "type": "scatter",
         "x": [
          6381770,
          6381771,
          6381772,
          6381773,
          6381774,
          6381775,
          6381776,
          6381777,
          6381778,
          6381779,
          6381780,
          6381781,
          6381782,
          6381783,
          6381784,
          6381785,
          6381786,
          6381787,
          6381788,
          6381789,
          6381790,
          6381791
         ],
         "y": [
          -0.051617130637168884,
          0.10021781921386719,
          -0.106479212641716,
          -0.5768033266067505,
          -0.6362302899360657,
          -0.8300207257270813,
          -0.49036213755607605,
          -0.7663717269897461,
          -0.4254925549030304,
          -0.28806084394454956,
          -0.5006894469261169,
          -0.26491621136665344,
          -0.13118354976177216,
          -0.33587828278541565,
          -0.6749985218048096,
          -0.521315336227417,
          -0.3462464213371277,
          -0.5269913077354431,
          -0.9571629762649536,
          -0.979902982711792,
          -0.6828173995018005,
          -0.11288603395223618
         ]
        },
        {
         "mode": "lines+markers",
         "name": "Pulse index: 9",
         "type": "scatter",
         "x": [
          6381770,
          6381771,
          6381772,
          6381773,
          6381774,
          6381775,
          6381776,
          6381777,
          6381778,
          6381779,
          6381780,
          6381781,
          6381782,
          6381783,
          6381784,
          6381785,
          6381786,
          6381787,
          6381788,
          6381789,
          6381790,
          6381791
         ],
         "y": [
          -0.5062816143035889,
          -0.7002676129341125,
          -0.754568338394165,
          -1.2450077533721924,
          -0.9437199831008911,
          -0.9005683660507202,
          -0.9996038675308228,
          -1.1773486137390137,
          -1.058342456817627,
          -1.1536985635757446,
          -0.6021260023117065,
          -0.5998442769050598,
          -0.716164231300354,
          -0.8561262488365173,
          -1.087336778640747,
          -0.8124392032623291,
          -0.2756446599960327,
          -0.5777775049209595,
          -0.7327079176902771,
          -1.0129773616790771,
          -1.3973690271377563,
          -0.6490378975868225
         ]
        },
        {
         "mode": "lines+markers",
         "name": "Pulse index: 10",
         "type": "scatter",
         "x": [
          6381770,
          6381771,
          6381772,
          6381773,
          6381774,
          6381775,
          6381776,
          6381777,
          6381778,
          6381779,
          6381780,
          6381781,
          6381782,
          6381783,
          6381784,
          6381785,
          6381786,
          6381787,
          6381788,
          6381789,
          6381790,
          6381791
         ],
         "y": [
          -0.14401179552078247,
          -0.007684784010052681,
          -0.7586795687675476,
          -0.6815987229347229,
          -0.41984978318214417,
          -0.7715820074081421,
          -0.5721539258956909,
          -0.6400152444839478,
          -0.6936914324760437,
          -0.5254133343696594,
          -0.311910480260849,
          -0.08473271131515503,
          0.035703279078006744,
          -0.007257537916302681,
          -0.3432748317718506,
          -0.24885421991348267,
          -0.24323853850364685,
          -0.7307685017585754,
          -0.7171849012374878,
          -0.6825030446052551,
          -1.088090181350708,
          -0.7144342660903931
         ]
        }
       ],
       "layout": {
        "template": {
         "data": {
          "bar": [
           {
            "error_x": {
             "color": "#2a3f5f"
            },
            "error_y": {
             "color": "#2a3f5f"
            },
            "marker": {
             "line": {
              "color": "#E5ECF6",
              "width": 0.5
             }
            },
            "type": "bar"
           }
          ],
          "barpolar": [
           {
            "marker": {
             "line": {
              "color": "#E5ECF6",
              "width": 0.5
             }
            },
            "type": "barpolar"
           }
          ],
          "carpet": [
           {
            "aaxis": {
             "endlinecolor": "#2a3f5f",
             "gridcolor": "white",
             "linecolor": "white",
             "minorgridcolor": "white",
             "startlinecolor": "#2a3f5f"
            },
            "baxis": {
             "endlinecolor": "#2a3f5f",
             "gridcolor": "white",
             "linecolor": "white",
             "minorgridcolor": "white",
             "startlinecolor": "#2a3f5f"
            },
            "type": "carpet"
           }
          ],
          "choropleth": [
           {
            "colorbar": {
             "outlinewidth": 0,
             "ticks": ""
            },
            "type": "choropleth"
           }
          ],
          "contour": [
           {
            "colorbar": {
             "outlinewidth": 0,
             "ticks": ""
            },
            "colorscale": [
             [
              0,
              "#0d0887"
             ],
             [
              0.1111111111111111,
              "#46039f"
             ],
             [
              0.2222222222222222,
              "#7201a8"
             ],
             [
              0.3333333333333333,
              "#9c179e"
             ],
             [
              0.4444444444444444,
              "#bd3786"
             ],
             [
              0.5555555555555556,
              "#d8576b"
             ],
             [
              0.6666666666666666,
              "#ed7953"
             ],
             [
              0.7777777777777778,
              "#fb9f3a"
             ],
             [
              0.8888888888888888,
              "#fdca26"
             ],
             [
              1,
              "#f0f921"
             ]
            ],
            "type": "contour"
           }
          ],
          "contourcarpet": [
           {
            "colorbar": {
             "outlinewidth": 0,
             "ticks": ""
            },
            "type": "contourcarpet"
           }
          ],
          "heatmap": [
           {
            "colorbar": {
             "outlinewidth": 0,
             "ticks": ""
            },
            "colorscale": [
             [
              0,
              "#0d0887"
             ],
             [
              0.1111111111111111,
              "#46039f"
             ],
             [
              0.2222222222222222,
              "#7201a8"
             ],
             [
              0.3333333333333333,
              "#9c179e"
             ],
             [
              0.4444444444444444,
              "#bd3786"
             ],
             [
              0.5555555555555556,
              "#d8576b"
             ],
             [
              0.6666666666666666,
              "#ed7953"
             ],
             [
              0.7777777777777778,
              "#fb9f3a"
             ],
             [
              0.8888888888888888,
              "#fdca26"
             ],
             [
              1,
              "#f0f921"
             ]
            ],
            "type": "heatmap"
           }
          ],
          "heatmapgl": [
           {
            "colorbar": {
             "outlinewidth": 0,
             "ticks": ""
            },
            "colorscale": [
             [
              0,
              "#0d0887"
             ],
             [
              0.1111111111111111,
              "#46039f"
             ],
             [
              0.2222222222222222,
              "#7201a8"
             ],
             [
              0.3333333333333333,
              "#9c179e"
             ],
             [
              0.4444444444444444,
              "#bd3786"
             ],
             [
              0.5555555555555556,
              "#d8576b"
             ],
             [
              0.6666666666666666,
              "#ed7953"
             ],
             [
              0.7777777777777778,
              "#fb9f3a"
             ],
             [
              0.8888888888888888,
              "#fdca26"
             ],
             [
              1,
              "#f0f921"
             ]
            ],
            "type": "heatmapgl"
           }
          ],
          "histogram": [
           {
            "marker": {
             "colorbar": {
              "outlinewidth": 0,
              "ticks": ""
             }
            },
            "type": "histogram"
           }
          ],
          "histogram2d": [
           {
            "colorbar": {
             "outlinewidth": 0,
             "ticks": ""
            },
            "colorscale": [
             [
              0,
              "#0d0887"
             ],
             [
              0.1111111111111111,
              "#46039f"
             ],
             [
              0.2222222222222222,
              "#7201a8"
             ],
             [
              0.3333333333333333,
              "#9c179e"
             ],
             [
              0.4444444444444444,
              "#bd3786"
             ],
             [
              0.5555555555555556,
              "#d8576b"
             ],
             [
              0.6666666666666666,
              "#ed7953"
             ],
             [
              0.7777777777777778,
              "#fb9f3a"
             ],
             [
              0.8888888888888888,
              "#fdca26"
             ],
             [
              1,
              "#f0f921"
             ]
            ],
            "type": "histogram2d"
           }
          ],
          "histogram2dcontour": [
           {
            "colorbar": {
             "outlinewidth": 0,
             "ticks": ""
            },
            "colorscale": [
             [
              0,
              "#0d0887"
             ],
             [
              0.1111111111111111,
              "#46039f"
             ],
             [
              0.2222222222222222,
              "#7201a8"
             ],
             [
              0.3333333333333333,
              "#9c179e"
             ],
             [
              0.4444444444444444,
              "#bd3786"
             ],
             [
              0.5555555555555556,
              "#d8576b"
             ],
             [
              0.6666666666666666,
              "#ed7953"
             ],
             [
              0.7777777777777778,
              "#fb9f3a"
             ],
             [
              0.8888888888888888,
              "#fdca26"
             ],
             [
              1,
              "#f0f921"
             ]
            ],
            "type": "histogram2dcontour"
           }
          ],
          "mesh3d": [
           {
            "colorbar": {
             "outlinewidth": 0,
             "ticks": ""
            },
            "type": "mesh3d"
           }
          ],
          "parcoords": [
           {
            "line": {
             "colorbar": {
              "outlinewidth": 0,
              "ticks": ""
             }
            },
            "type": "parcoords"
           }
          ],
          "pie": [
           {
            "automargin": true,
            "type": "pie"
           }
          ],
          "scatter": [
           {
            "marker": {
             "colorbar": {
              "outlinewidth": 0,
              "ticks": ""
             }
            },
            "type": "scatter"
           }
          ],
          "scatter3d": [
           {
            "line": {
             "colorbar": {
              "outlinewidth": 0,
              "ticks": ""
             }
            },
            "marker": {
             "colorbar": {
              "outlinewidth": 0,
              "ticks": ""
             }
            },
            "type": "scatter3d"
           }
          ],
          "scattercarpet": [
           {
            "marker": {
             "colorbar": {
              "outlinewidth": 0,
              "ticks": ""
             }
            },
            "type": "scattercarpet"
           }
          ],
          "scattergeo": [
           {
            "marker": {
             "colorbar": {
              "outlinewidth": 0,
              "ticks": ""
             }
            },
            "type": "scattergeo"
           }
          ],
          "scattergl": [
           {
            "marker": {
             "colorbar": {
              "outlinewidth": 0,
              "ticks": ""
             }
            },
            "type": "scattergl"
           }
          ],
          "scattermapbox": [
           {
            "marker": {
             "colorbar": {
              "outlinewidth": 0,
              "ticks": ""
             }
            },
            "type": "scattermapbox"
           }
          ],
          "scatterpolar": [
           {
            "marker": {
             "colorbar": {
              "outlinewidth": 0,
              "ticks": ""
             }
            },
            "type": "scatterpolar"
           }
          ],
          "scatterpolargl": [
           {
            "marker": {
             "colorbar": {
              "outlinewidth": 0,
              "ticks": ""
             }
            },
            "type": "scatterpolargl"
           }
          ],
          "scatterternary": [
           {
            "marker": {
             "colorbar": {
              "outlinewidth": 0,
              "ticks": ""
             }
            },
            "type": "scatterternary"
           }
          ],
          "surface": [
           {
            "colorbar": {
             "outlinewidth": 0,
             "ticks": ""
            },
            "colorscale": [
             [
              0,
              "#0d0887"
             ],
             [
              0.1111111111111111,
              "#46039f"
             ],
             [
              0.2222222222222222,
              "#7201a8"
             ],
             [
              0.3333333333333333,
              "#9c179e"
             ],
             [
              0.4444444444444444,
              "#bd3786"
             ],
             [
              0.5555555555555556,
              "#d8576b"
             ],
             [
              0.6666666666666666,
              "#ed7953"
             ],
             [
              0.7777777777777778,
              "#fb9f3a"
             ],
             [
              0.8888888888888888,
              "#fdca26"
             ],
             [
              1,
              "#f0f921"
             ]
            ],
            "type": "surface"
           }
          ],
          "table": [
           {
            "cells": {
             "fill": {
              "color": "#EBF0F8"
             },
             "line": {
              "color": "white"
             }
            },
            "header": {
             "fill": {
              "color": "#C8D4E3"
             },
             "line": {
              "color": "white"
             }
            },
            "type": "table"
           }
          ]
         },
         "layout": {
          "annotationdefaults": {
           "arrowcolor": "#2a3f5f",
           "arrowhead": 0,
           "arrowwidth": 1
          },
          "coloraxis": {
           "colorbar": {
            "outlinewidth": 0,
            "ticks": ""
           }
          },
          "colorscale": {
           "diverging": [
            [
             0,
             "#8e0152"
            ],
            [
             0.1,
             "#c51b7d"
            ],
            [
             0.2,
             "#de77ae"
            ],
            [
             0.3,
             "#f1b6da"
            ],
            [
             0.4,
             "#fde0ef"
            ],
            [
             0.5,
             "#f7f7f7"
            ],
            [
             0.6,
             "#e6f5d0"
            ],
            [
             0.7,
             "#b8e186"
            ],
            [
             0.8,
             "#7fbc41"
            ],
            [
             0.9,
             "#4d9221"
            ],
            [
             1,
             "#276419"
            ]
           ],
           "sequential": [
            [
             0,
             "#0d0887"
            ],
            [
             0.1111111111111111,
             "#46039f"
            ],
            [
             0.2222222222222222,
             "#7201a8"
            ],
            [
             0.3333333333333333,
             "#9c179e"
            ],
            [
             0.4444444444444444,
             "#bd3786"
            ],
            [
             0.5555555555555556,
             "#d8576b"
            ],
            [
             0.6666666666666666,
             "#ed7953"
            ],
            [
             0.7777777777777778,
             "#fb9f3a"
            ],
            [
             0.8888888888888888,
             "#fdca26"
            ],
            [
             1,
             "#f0f921"
            ]
           ],
           "sequentialminus": [
            [
             0,
             "#0d0887"
            ],
            [
             0.1111111111111111,
             "#46039f"
            ],
            [
             0.2222222222222222,
             "#7201a8"
            ],
            [
             0.3333333333333333,
             "#9c179e"
            ],
            [
             0.4444444444444444,
             "#bd3786"
            ],
            [
             0.5555555555555556,
             "#d8576b"
            ],
            [
             0.6666666666666666,
             "#ed7953"
            ],
            [
             0.7777777777777778,
             "#fb9f3a"
            ],
            [
             0.8888888888888888,
             "#fdca26"
            ],
            [
             1,
             "#f0f921"
            ]
           ]
          },
          "colorway": [
           "#636efa",
           "#EF553B",
           "#00cc96",
           "#ab63fa",
           "#FFA15A",
           "#19d3f3",
           "#FF6692",
           "#B6E880",
           "#FF97FF",
           "#FECB52"
          ],
          "font": {
           "color": "#2a3f5f"
          },
          "geo": {
           "bgcolor": "white",
           "lakecolor": "white",
           "landcolor": "#E5ECF6",
           "showlakes": true,
           "showland": true,
           "subunitcolor": "white"
          },
          "hoverlabel": {
           "align": "left"
          },
          "hovermode": "closest",
          "mapbox": {
           "style": "light"
          },
          "paper_bgcolor": "white",
          "plot_bgcolor": "#E5ECF6",
          "polar": {
           "angularaxis": {
            "gridcolor": "white",
            "linecolor": "white",
            "ticks": ""
           },
           "bgcolor": "#E5ECF6",
           "radialaxis": {
            "gridcolor": "white",
            "linecolor": "white",
            "ticks": ""
           }
          },
          "scene": {
           "xaxis": {
            "backgroundcolor": "#E5ECF6",
            "gridcolor": "white",
            "gridwidth": 2,
            "linecolor": "white",
            "showbackground": true,
            "ticks": "",
            "zerolinecolor": "white"
           },
           "yaxis": {
            "backgroundcolor": "#E5ECF6",
            "gridcolor": "white",
            "gridwidth": 2,
            "linecolor": "white",
            "showbackground": true,
            "ticks": "",
            "zerolinecolor": "white"
           },
           "zaxis": {
            "backgroundcolor": "#E5ECF6",
            "gridcolor": "white",
            "gridwidth": 2,
            "linecolor": "white",
            "showbackground": true,
            "ticks": "",
            "zerolinecolor": "white"
           }
          },
          "shapedefaults": {
           "line": {
            "color": "#2a3f5f"
           }
          },
          "ternary": {
           "aaxis": {
            "gridcolor": "white",
            "linecolor": "white",
            "ticks": ""
           },
           "baxis": {
            "gridcolor": "white",
            "linecolor": "white",
            "ticks": ""
           },
           "bgcolor": "#E5ECF6",
           "caxis": {
            "gridcolor": "white",
            "linecolor": "white",
            "ticks": ""
           }
          },
          "title": {
           "x": 0.05
          },
          "xaxis": {
           "automargin": true,
           "gridcolor": "white",
           "linecolor": "white",
           "ticks": "",
           "title": {
            "standoff": 15
           },
           "zerolinecolor": "white",
           "zerolinewidth": 2
          },
          "yaxis": {
           "automargin": true,
           "gridcolor": "white",
           "linecolor": "white",
           "ticks": "",
           "title": {
            "standoff": 15
           },
           "zerolinecolor": "white",
           "zerolinewidth": 2
          }
         }
        },
        "title": {
         "text": "Module number 15"
        }
       }
      },
      "text/html": [
       "<div>\n",
       "        \n",
       "        \n",
       "            <div id=\"b865cab3-10cc-4543-b557-a6e0c1476a4e\" class=\"plotly-graph-div\" style=\"height:525px; width:100%;\"></div>\n",
       "            <script type=\"text/javascript\">\n",
       "                require([\"plotly\"], function(Plotly) {\n",
       "                    window.PLOTLYENV=window.PLOTLYENV || {};\n",
       "                    \n",
       "                if (document.getElementById(\"b865cab3-10cc-4543-b557-a6e0c1476a4e\")) {\n",
       "                    Plotly.newPlot(\n",
       "                        'b865cab3-10cc-4543-b557-a6e0c1476a4e',\n",
       "                        [{\"mode\": \"lines+markers\", \"name\": \"Pulse index: 0\", \"type\": \"scatter\", \"x\": [6381770, 6381771, 6381772, 6381773, 6381774, 6381775, 6381776, 6381777, 6381778, 6381779, 6381780, 6381781, 6381782, 6381783, 6381784, 6381785, 6381786, 6381787, 6381788, 6381789, 6381790, 6381791], \"y\": [0.2024281919002533, -0.09232261776924133, -0.03824252635240555, -0.07299788296222687, -0.16144895553588867, 0.3210528492927551, 0.22908784449100494, -0.10729185491800308, -0.41096848249435425, -0.26365065574645996, -0.1441001296043396, -0.05937079340219498, -0.024602243676781654, 0.21088279783725739, 0.0427449569106102, -0.012751424685120583, 0.0916413962841034, -0.017233259975910187, -0.13544394075870514, 0.1550745666027069, 0.2520923912525177, -0.06476791203022003]}, {\"mode\": \"lines+markers\", \"name\": \"Pulse index: 1\", \"type\": \"scatter\", \"x\": [6381770, 6381771, 6381772, 6381773, 6381774, 6381775, 6381776, 6381777, 6381778, 6381779, 6381780, 6381781, 6381782, 6381783, 6381784, 6381785, 6381786, 6381787, 6381788, 6381789, 6381790, 6381791], \"y\": [-0.06794395297765732, -0.2906040847301483, -0.18241310119628906, 0.07634288817644119, -0.08084414899349213, -0.07365007698535919, -0.1291215568780899, 0.5311108231544495, -0.2912902534008026, 0.025432249531149864, -0.14764700829982758, -0.09166162461042404, 0.05295206978917122, 0.0005782270454801619, -0.008644628338515759, -0.34271880984306335, -0.04543422535061836, -0.042302120476961136, -0.13275682926177979, -0.21674872934818268, 0.19559405744075775, 0.13233092427253723]}, {\"mode\": \"lines+markers\", \"name\": \"Pulse index: 2\", \"type\": \"scatter\", \"x\": [6381770, 6381771, 6381772, 6381773, 6381774, 6381775, 6381776, 6381777, 6381778, 6381779, 6381780, 6381781, 6381782, 6381783, 6381784, 6381785, 6381786, 6381787, 6381788, 6381789, 6381790, 6381791], \"y\": [-0.751796543598175, -0.13674072921276093, -0.10956738144159317, -0.1588265597820282, -0.027304451912641525, 1.0816755294799805, -0.05530964210629463, -0.40523335337638855, 0.01661013998091221, -0.01801125518977642, -0.15961779654026031, 0.4793490767478943, 0.029480105265975, 0.12481460720300674, 0.43968549370765686, -0.10762309283018112, null, -0.005412384867668152, -0.17089220881462097, -0.07847084850072861, -0.023167071864008904, -0.0010582096874713898]}, {\"mode\": \"lines+markers\", \"name\": \"Pulse index: 3\", \"type\": \"scatter\", \"x\": [6381770, 6381771, 6381772, 6381773, 6381774, 6381775, 6381776, 6381777, 6381778, 6381779, 6381780, 6381781, 6381782, 6381783, 6381784, 6381785, 6381786, 6381787, 6381788, 6381789, 6381790, 6381791], \"y\": [-0.1236717626452446, -0.5083631873130798, -0.20588427782058716, -0.7009037137031555, -0.39589112997055054, -0.46608343720436096, -0.8985854387283325, -0.7566515803337097, -0.532164454460144, -0.49567151069641113, -0.7855514287948608, -0.05318450927734375, -0.0804145410656929, -0.29997631907463074, -0.1662701517343521, -0.15601326525211334, -0.28042080998420715, -0.14618533849716187, -0.2592512369155884, -0.5810199975967407, -1.2231414318084717, -0.7152733206748962]}, {\"mode\": \"lines+markers\", \"name\": \"Pulse index: 4\", \"type\": \"scatter\", \"x\": [6381770, 6381771, 6381772, 6381773, 6381774, 6381775, 6381776, 6381777, 6381778, 6381779, 6381780, 6381781, 6381782, 6381783, 6381784, 6381785, 6381786, 6381787, 6381788, 6381789, 6381790, 6381791], \"y\": [0.024056455120444298, -0.4124893248081207, 0.01740233600139618, -0.43190476298332214, -0.4703173041343689, -0.7008323669433594, -0.39189159870147705, -0.1826871633529663, 0.09696735441684723, -0.3051507771015167, -0.09930399060249329, 0.3342699706554413, 0.4424469470977783, 0.3278382420539856, 0.13577918708324432, -0.3571164011955261, -0.008010758087038994, -0.5792234539985657, -0.6432821750640869, -0.8383634686470032, -0.9610825181007385, -0.7350781559944153]}, {\"mode\": \"lines+markers\", \"name\": \"Pulse index: 5\", \"type\": \"scatter\", \"x\": [6381770, 6381771, 6381772, 6381773, 6381774, 6381775, 6381776, 6381777, 6381778, 6381779, 6381780, 6381781, 6381782, 6381783, 6381784, 6381785, 6381786, 6381787, 6381788, 6381789, 6381790, 6381791], \"y\": [-0.2954789102077484, -0.07426498085260391, -0.3128100633621216, -0.6917937994003296, -0.08072347193956375, -0.7290629744529724, -0.2398815155029297, -0.43799063563346863, -0.2896685302257538, -0.3329866826534271, -0.024561207741498947, 0.06094041466712952, -0.06010304018855095, -0.01608264446258545, -0.5593503713607788, -0.6368401050567627, -0.20526105165481567, -0.4721389710903168, -0.6910771131515503, -0.586351215839386, -1.1132972240447998, -0.5175037384033203]}, {\"mode\": \"lines+markers\", \"name\": \"Pulse index: 6\", \"type\": \"scatter\", \"x\": [6381770, 6381771, 6381772, 6381773, 6381774, 6381775, 6381776, 6381777, 6381778, 6381779, 6381780, 6381781, 6381782, 6381783, 6381784, 6381785, 6381786, 6381787, 6381788, 6381789, 6381790, 6381791], \"y\": [-0.11230778694152832, -0.19753584265708923, 0.2527696192264557, -0.5662890076637268, -0.1035076305270195, -0.2764585018157959, -0.5251581072807312, -0.5792431235313416, -0.49494674801826477, -0.5305562019348145, -0.39721229672431946, -0.4221116304397583, -0.4150089621543884, -0.4230107069015503, -0.17332753539085388, -0.8046684265136719, -0.4168589115142822, -0.6911137104034424, -0.6921516060829163, -1.0014114379882812, -1.4122689962387085, -0.9715359807014465]}, {\"mode\": \"lines+markers\", \"name\": \"Pulse index: 7\", \"type\": \"scatter\", \"x\": [6381770, 6381771, 6381772, 6381773, 6381774, 6381775, 6381776, 6381777, 6381778, 6381779, 6381780, 6381781, 6381782, 6381783, 6381784, 6381785, 6381786, 6381787, 6381788, 6381789, 6381790, 6381791], \"y\": [-0.19704629480838776, 0.03018869459629059, 0.3578628897666931, -0.41266772150993347, -0.40219613909721375, -0.6115164160728455, -0.3059067130088806, -0.16845308244228363, -0.20728926360607147, -0.11893808096647263, -0.28663066029548645, -0.22059860825538635, 0.06406018882989883, -0.34738990664482117, -0.5327563881874084, -0.5658043026924133, -0.20840579271316528, -0.654136598110199, -0.38597044348716736, -1.073550820350647, -1.2519959211349487, -0.8767163753509521]}, {\"mode\": \"lines+markers\", \"name\": \"Pulse index: 8\", \"type\": \"scatter\", \"x\": [6381770, 6381771, 6381772, 6381773, 6381774, 6381775, 6381776, 6381777, 6381778, 6381779, 6381780, 6381781, 6381782, 6381783, 6381784, 6381785, 6381786, 6381787, 6381788, 6381789, 6381790, 6381791], \"y\": [-0.051617130637168884, 0.10021781921386719, -0.106479212641716, -0.5768033266067505, -0.6362302899360657, -0.8300207257270813, -0.49036213755607605, -0.7663717269897461, -0.4254925549030304, -0.28806084394454956, -0.5006894469261169, -0.26491621136665344, -0.13118354976177216, -0.33587828278541565, -0.6749985218048096, -0.521315336227417, -0.3462464213371277, -0.5269913077354431, -0.9571629762649536, -0.979902982711792, -0.6828173995018005, -0.11288603395223618]}, {\"mode\": \"lines+markers\", \"name\": \"Pulse index: 9\", \"type\": \"scatter\", \"x\": [6381770, 6381771, 6381772, 6381773, 6381774, 6381775, 6381776, 6381777, 6381778, 6381779, 6381780, 6381781, 6381782, 6381783, 6381784, 6381785, 6381786, 6381787, 6381788, 6381789, 6381790, 6381791], \"y\": [-0.5062816143035889, -0.7002676129341125, -0.754568338394165, -1.2450077533721924, -0.9437199831008911, -0.9005683660507202, -0.9996038675308228, -1.1773486137390137, -1.058342456817627, -1.1536985635757446, -0.6021260023117065, -0.5998442769050598, -0.716164231300354, -0.8561262488365173, -1.087336778640747, -0.8124392032623291, -0.2756446599960327, -0.5777775049209595, -0.7327079176902771, -1.0129773616790771, -1.3973690271377563, -0.6490378975868225]}, {\"mode\": \"lines+markers\", \"name\": \"Pulse index: 10\", \"type\": \"scatter\", \"x\": [6381770, 6381771, 6381772, 6381773, 6381774, 6381775, 6381776, 6381777, 6381778, 6381779, 6381780, 6381781, 6381782, 6381783, 6381784, 6381785, 6381786, 6381787, 6381788, 6381789, 6381790, 6381791], \"y\": [-0.14401179552078247, -0.007684784010052681, -0.7586795687675476, -0.6815987229347229, -0.41984978318214417, -0.7715820074081421, -0.5721539258956909, -0.6400152444839478, -0.6936914324760437, -0.5254133343696594, -0.311910480260849, -0.08473271131515503, 0.035703279078006744, -0.007257537916302681, -0.3432748317718506, -0.24885421991348267, -0.24323853850364685, -0.7307685017585754, -0.7171849012374878, -0.6825030446052551, -1.088090181350708, -0.7144342660903931]}],\n",
       "                        {\"template\": {\"data\": {\"bar\": [{\"error_x\": {\"color\": \"#2a3f5f\"}, \"error_y\": {\"color\": \"#2a3f5f\"}, \"marker\": {\"line\": {\"color\": \"#E5ECF6\", \"width\": 0.5}}, \"type\": \"bar\"}], \"barpolar\": [{\"marker\": {\"line\": {\"color\": \"#E5ECF6\", \"width\": 0.5}}, \"type\": \"barpolar\"}], \"carpet\": [{\"aaxis\": {\"endlinecolor\": \"#2a3f5f\", \"gridcolor\": \"white\", \"linecolor\": \"white\", \"minorgridcolor\": \"white\", \"startlinecolor\": \"#2a3f5f\"}, \"baxis\": {\"endlinecolor\": \"#2a3f5f\", \"gridcolor\": \"white\", \"linecolor\": \"white\", \"minorgridcolor\": \"white\", \"startlinecolor\": \"#2a3f5f\"}, \"type\": \"carpet\"}], \"choropleth\": [{\"colorbar\": {\"outlinewidth\": 0, \"ticks\": \"\"}, \"type\": \"choropleth\"}], \"contour\": [{\"colorbar\": {\"outlinewidth\": 0, \"ticks\": \"\"}, \"colorscale\": [[0.0, \"#0d0887\"], [0.1111111111111111, \"#46039f\"], [0.2222222222222222, \"#7201a8\"], [0.3333333333333333, \"#9c179e\"], [0.4444444444444444, \"#bd3786\"], [0.5555555555555556, \"#d8576b\"], [0.6666666666666666, \"#ed7953\"], [0.7777777777777778, \"#fb9f3a\"], [0.8888888888888888, \"#fdca26\"], [1.0, \"#f0f921\"]], \"type\": \"contour\"}], \"contourcarpet\": [{\"colorbar\": {\"outlinewidth\": 0, \"ticks\": \"\"}, \"type\": \"contourcarpet\"}], \"heatmap\": [{\"colorbar\": {\"outlinewidth\": 0, \"ticks\": \"\"}, \"colorscale\": [[0.0, \"#0d0887\"], [0.1111111111111111, \"#46039f\"], [0.2222222222222222, \"#7201a8\"], [0.3333333333333333, \"#9c179e\"], [0.4444444444444444, \"#bd3786\"], [0.5555555555555556, \"#d8576b\"], [0.6666666666666666, \"#ed7953\"], [0.7777777777777778, \"#fb9f3a\"], [0.8888888888888888, \"#fdca26\"], [1.0, \"#f0f921\"]], \"type\": \"heatmap\"}], \"heatmapgl\": [{\"colorbar\": {\"outlinewidth\": 0, \"ticks\": \"\"}, \"colorscale\": [[0.0, \"#0d0887\"], [0.1111111111111111, \"#46039f\"], [0.2222222222222222, \"#7201a8\"], [0.3333333333333333, \"#9c179e\"], [0.4444444444444444, \"#bd3786\"], [0.5555555555555556, \"#d8576b\"], [0.6666666666666666, \"#ed7953\"], [0.7777777777777778, \"#fb9f3a\"], [0.8888888888888888, \"#fdca26\"], [1.0, \"#f0f921\"]], \"type\": \"heatmapgl\"}], \"histogram\": [{\"marker\": {\"colorbar\": {\"outlinewidth\": 0, \"ticks\": \"\"}}, \"type\": \"histogram\"}], \"histogram2d\": [{\"colorbar\": {\"outlinewidth\": 0, \"ticks\": \"\"}, \"colorscale\": [[0.0, \"#0d0887\"], [0.1111111111111111, \"#46039f\"], [0.2222222222222222, \"#7201a8\"], [0.3333333333333333, \"#9c179e\"], [0.4444444444444444, \"#bd3786\"], [0.5555555555555556, \"#d8576b\"], [0.6666666666666666, \"#ed7953\"], [0.7777777777777778, \"#fb9f3a\"], [0.8888888888888888, \"#fdca26\"], [1.0, \"#f0f921\"]], \"type\": \"histogram2d\"}], \"histogram2dcontour\": [{\"colorbar\": {\"outlinewidth\": 0, \"ticks\": \"\"}, \"colorscale\": [[0.0, \"#0d0887\"], [0.1111111111111111, \"#46039f\"], [0.2222222222222222, \"#7201a8\"], [0.3333333333333333, \"#9c179e\"], [0.4444444444444444, \"#bd3786\"], [0.5555555555555556, \"#d8576b\"], [0.6666666666666666, \"#ed7953\"], [0.7777777777777778, \"#fb9f3a\"], [0.8888888888888888, \"#fdca26\"], [1.0, \"#f0f921\"]], \"type\": \"histogram2dcontour\"}], \"mesh3d\": [{\"colorbar\": {\"outlinewidth\": 0, \"ticks\": \"\"}, \"type\": \"mesh3d\"}], \"parcoords\": [{\"line\": {\"colorbar\": {\"outlinewidth\": 0, \"ticks\": \"\"}}, \"type\": \"parcoords\"}], \"pie\": [{\"automargin\": true, \"type\": \"pie\"}], \"scatter\": [{\"marker\": {\"colorbar\": {\"outlinewidth\": 0, \"ticks\": \"\"}}, \"type\": \"scatter\"}], \"scatter3d\": [{\"line\": {\"colorbar\": {\"outlinewidth\": 0, \"ticks\": \"\"}}, \"marker\": {\"colorbar\": {\"outlinewidth\": 0, \"ticks\": \"\"}}, \"type\": \"scatter3d\"}], \"scattercarpet\": [{\"marker\": {\"colorbar\": {\"outlinewidth\": 0, \"ticks\": \"\"}}, \"type\": \"scattercarpet\"}], \"scattergeo\": [{\"marker\": {\"colorbar\": {\"outlinewidth\": 0, \"ticks\": \"\"}}, \"type\": \"scattergeo\"}], \"scattergl\": [{\"marker\": {\"colorbar\": {\"outlinewidth\": 0, \"ticks\": \"\"}}, \"type\": \"scattergl\"}], \"scattermapbox\": [{\"marker\": {\"colorbar\": {\"outlinewidth\": 0, \"ticks\": \"\"}}, \"type\": \"scattermapbox\"}], \"scatterpolar\": [{\"marker\": {\"colorbar\": {\"outlinewidth\": 0, \"ticks\": \"\"}}, \"type\": \"scatterpolar\"}], \"scatterpolargl\": [{\"marker\": {\"colorbar\": {\"outlinewidth\": 0, \"ticks\": \"\"}}, \"type\": \"scatterpolargl\"}], \"scatterternary\": [{\"marker\": {\"colorbar\": {\"outlinewidth\": 0, \"ticks\": \"\"}}, \"type\": \"scatterternary\"}], \"surface\": [{\"colorbar\": {\"outlinewidth\": 0, \"ticks\": \"\"}, \"colorscale\": [[0.0, \"#0d0887\"], [0.1111111111111111, \"#46039f\"], [0.2222222222222222, \"#7201a8\"], [0.3333333333333333, \"#9c179e\"], [0.4444444444444444, \"#bd3786\"], [0.5555555555555556, \"#d8576b\"], [0.6666666666666666, \"#ed7953\"], [0.7777777777777778, \"#fb9f3a\"], [0.8888888888888888, \"#fdca26\"], [1.0, \"#f0f921\"]], \"type\": \"surface\"}], \"table\": [{\"cells\": {\"fill\": {\"color\": \"#EBF0F8\"}, \"line\": {\"color\": \"white\"}}, \"header\": {\"fill\": {\"color\": \"#C8D4E3\"}, \"line\": {\"color\": \"white\"}}, \"type\": \"table\"}]}, \"layout\": {\"annotationdefaults\": {\"arrowcolor\": \"#2a3f5f\", \"arrowhead\": 0, \"arrowwidth\": 1}, \"coloraxis\": {\"colorbar\": {\"outlinewidth\": 0, \"ticks\": \"\"}}, \"colorscale\": {\"diverging\": [[0, \"#8e0152\"], [0.1, \"#c51b7d\"], [0.2, \"#de77ae\"], [0.3, \"#f1b6da\"], [0.4, \"#fde0ef\"], [0.5, \"#f7f7f7\"], [0.6, \"#e6f5d0\"], [0.7, \"#b8e186\"], [0.8, \"#7fbc41\"], [0.9, \"#4d9221\"], [1, \"#276419\"]], \"sequential\": [[0.0, \"#0d0887\"], [0.1111111111111111, \"#46039f\"], [0.2222222222222222, \"#7201a8\"], [0.3333333333333333, \"#9c179e\"], [0.4444444444444444, \"#bd3786\"], [0.5555555555555556, \"#d8576b\"], [0.6666666666666666, \"#ed7953\"], [0.7777777777777778, \"#fb9f3a\"], [0.8888888888888888, \"#fdca26\"], [1.0, \"#f0f921\"]], \"sequentialminus\": [[0.0, \"#0d0887\"], [0.1111111111111111, \"#46039f\"], [0.2222222222222222, \"#7201a8\"], [0.3333333333333333, \"#9c179e\"], [0.4444444444444444, \"#bd3786\"], [0.5555555555555556, \"#d8576b\"], [0.6666666666666666, \"#ed7953\"], [0.7777777777777778, \"#fb9f3a\"], [0.8888888888888888, \"#fdca26\"], [1.0, \"#f0f921\"]]}, \"colorway\": [\"#636efa\", \"#EF553B\", \"#00cc96\", \"#ab63fa\", \"#FFA15A\", \"#19d3f3\", \"#FF6692\", \"#B6E880\", \"#FF97FF\", \"#FECB52\"], \"font\": {\"color\": \"#2a3f5f\"}, \"geo\": {\"bgcolor\": \"white\", \"lakecolor\": \"white\", \"landcolor\": \"#E5ECF6\", \"showlakes\": true, \"showland\": true, \"subunitcolor\": \"white\"}, \"hoverlabel\": {\"align\": \"left\"}, \"hovermode\": \"closest\", \"mapbox\": {\"style\": \"light\"}, \"paper_bgcolor\": \"white\", \"plot_bgcolor\": \"#E5ECF6\", \"polar\": {\"angularaxis\": {\"gridcolor\": \"white\", \"linecolor\": \"white\", \"ticks\": \"\"}, \"bgcolor\": \"#E5ECF6\", \"radialaxis\": {\"gridcolor\": \"white\", \"linecolor\": \"white\", \"ticks\": \"\"}}, \"scene\": {\"xaxis\": {\"backgroundcolor\": \"#E5ECF6\", \"gridcolor\": \"white\", \"gridwidth\": 2, \"linecolor\": \"white\", \"showbackground\": true, \"ticks\": \"\", \"zerolinecolor\": \"white\"}, \"yaxis\": {\"backgroundcolor\": \"#E5ECF6\", \"gridcolor\": \"white\", \"gridwidth\": 2, \"linecolor\": \"white\", \"showbackground\": true, \"ticks\": \"\", \"zerolinecolor\": \"white\"}, \"zaxis\": {\"backgroundcolor\": \"#E5ECF6\", \"gridcolor\": \"white\", \"gridwidth\": 2, \"linecolor\": \"white\", \"showbackground\": true, \"ticks\": \"\", \"zerolinecolor\": \"white\"}}, \"shapedefaults\": {\"line\": {\"color\": \"#2a3f5f\"}}, \"ternary\": {\"aaxis\": {\"gridcolor\": \"white\", \"linecolor\": \"white\", \"ticks\": \"\"}, \"baxis\": {\"gridcolor\": \"white\", \"linecolor\": \"white\", \"ticks\": \"\"}, \"bgcolor\": \"#E5ECF6\", \"caxis\": {\"gridcolor\": \"white\", \"linecolor\": \"white\", \"ticks\": \"\"}}, \"title\": {\"x\": 0.05}, \"xaxis\": {\"automargin\": true, \"gridcolor\": \"white\", \"linecolor\": \"white\", \"ticks\": \"\", \"title\": {\"standoff\": 15}, \"zerolinecolor\": \"white\", \"zerolinewidth\": 2}, \"yaxis\": {\"automargin\": true, \"gridcolor\": \"white\", \"linecolor\": \"white\", \"ticks\": \"\", \"title\": {\"standoff\": 15}, \"zerolinecolor\": \"white\", \"zerolinewidth\": 2}}}, \"title\": {\"text\": \"Module number 15\"}},\n",
       "                        {\"responsive\": true}\n",
       "                    ).then(function(){\n",
       "                            \n",
       "var gd = document.getElementById('b865cab3-10cc-4543-b557-a6e0c1476a4e');\n",
       "var x = new MutationObserver(function (mutations, observer) {{\n",
       "        var display = window.getComputedStyle(gd).display;\n",
       "        if (!display || display === 'none') {{\n",
       "            console.log([gd, 'removed!']);\n",
       "            Plotly.purge(gd);\n",
       "            observer.disconnect();\n",
       "        }}\n",
       "}});\n",
       "\n",
       "// Listen for the removal of the full notebook cells\n",
       "var notebookContainer = gd.closest('#notebook-container');\n",
       "if (notebookContainer) {{\n",
       "    x.observe(notebookContainer, {childList: true});\n",
       "}}\n",
       "\n",
       "// Listen for the clearing of the current output cell\n",
       "var outputEl = gd.closest('.output');\n",
       "if (outputEl) {{\n",
       "    x.observe(outputEl, {childList: true});\n",
       "}}\n",
       "\n",
       "                        })\n",
       "                };\n",
       "                });\n",
       "            </script>\n",
       "        </div>"
      ]
     },
     "metadata": {},
     "output_type": "display_data"
    }
   ],
   "source": [
    "\n",
    "for modno in sorted(dark_run.keys(), key=lambda x: int(x)):\n",
    "    if roi_intensities[modno] is not None:\n",
    "        # Align delay and ROI intensities along the trainIds\n",
    "        roi_int, delay = xr.align(roi_intensities[modno], delay_data)\n",
    "        # Evaluate MEAN and STD for a given delay\n",
    "        data = []\n",
    "        for pulse in range(roi_intensities[modno].shape[-1]):\n",
    "            s = list(zip(delay[:, 0].values, roi_int[:, pulse].values))\n",
    "            roi_int_avg = []\n",
    "            roi_int_std = []\n",
    "            dl = []\n",
    "            for key, group in groupby(sorted(s), lambda x: x[0]):\n",
    "                x, y = zip(*group)\n",
    "                avg, std = np.mean(np.array(y)), np.std(np.array(y))\n",
    "                roi_int_avg.append(avg)\n",
    "                roi_int_std.append(std)\n",
    "                dl.append(x[0])        \n",
    "\n",
    "            data.append(go.Scatter(\n",
    "                x=dl, \n",
    "                y=roi_int_avg, \n",
    "                mode='lines+markers', \n",
    "                name=f\"Pulse index: {pulse}\"))\n",
    "        fig = go.Figure(data=data, \n",
    "                        layout=go.Layout(\n",
    "                        title=go.layout.Title(text=f\"Module number {modno}\")))\n",
    "        fig.show()\n",
    "\n"
   ]
  }
 ],
 "metadata": {
  "kernelspec": {
   "display_name": "Python [conda env:calibration]",
   "language": "python",
   "name": "conda-env-calibration-py"
  },
  "language_info": {
   "codemirror_mode": {
    "name": "ipython",
    "version": 3
   },
   "file_extension": ".py",
   "mimetype": "text/x-python",
   "name": "python",
   "nbconvert_exporter": "python",
   "pygments_lexer": "ipython3",
   "version": "3.6.9"
  }
 },
 "nbformat": 4,
 "nbformat_minor": 2
}
