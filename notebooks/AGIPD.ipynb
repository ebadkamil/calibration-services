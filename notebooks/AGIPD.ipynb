{
 "cells": [
  {
   "cell_type": "code",
   "execution_count": 1,
   "metadata": {},
   "outputs": [],
   "source": [
    "%reload_ext autoreload\n",
    "%autoreload 2\n",
    "\n",
    "from collections import OrderedDict\n",
    "from concurrent.futures import ProcessPoolExecutor, ThreadPoolExecutor\n",
    "from functools import partial\n",
    "import h5py\n",
    "import numpy as np\n",
    "import time\n",
    "import xarray as xr\n",
    "from itertools import groupby\n",
    "\n",
    "from calibration import dark_offset, module_roi_intensity, parse_ids"
   ]
  },
  {
   "cell_type": "markdown",
   "metadata": {},
   "source": [
    "# Evaluate dark for all modules in parallel and store in files"
   ]
  },
  {
   "cell_type": "code",
   "execution_count": 2,
   "metadata": {},
   "outputs": [
    {
     "data": {
      "text/plain": [
       "[14, 15]"
      ]
     },
     "execution_count": 2,
     "metadata": {},
     "output_type": "execute_result"
    }
   ],
   "source": [
    "proposal = 900089\n",
    "run = 49\n",
    "\n",
    "modules = \"14:16\"\n",
    "pulse_ids = \"6, 7, 8, 9, 10\"\n",
    "\n",
    "# List of modules\n",
    "module_numbers = parse_ids(modules)\n",
    "module_numbers"
   ]
  },
  {
   "cell_type": "code",
   "execution_count": 5,
   "metadata": {},
   "outputs": [],
   "source": [
    "# Store dark data in dark_data dictionary\n",
    "\n",
    "dark_data = {}\n"
   ]
  },
  {
   "cell_type": "code",
   "execution_count": 6,
   "metadata": {},
   "outputs": [
    {
     "name": "stdout",
     "output_type": "stream",
     "text": [
      "Time to evaluate dark offset: 44.10114118177444\n"
     ]
    }
   ],
   "source": [
    "_dark_eval = partial(dark_offset, \n",
    "                     proposal,\n",
    "                     run,\n",
    "                     pulse_ids=pulse_ids,\n",
    "                     dettype='LPD')\n",
    "\n",
    "t0 = time.perf_counter()\n",
    "\n",
    "with ProcessPoolExecutor(max_workers=len(module_numbers)) as executor:\n",
    "    for modno, ret in zip(module_numbers, executor.map(_dark_eval, module_numbers)):\n",
    "        dark_data[modno] = ret\n",
    "        \n",
    "print(f\"Time to evaluate dark offset: {time.perf_counter() - t0}\")     "
   ]
  },
  {
   "cell_type": "code",
   "execution_count": 8,
   "metadata": {},
   "outputs": [
    {
     "data": {
      "text/plain": [
       "(5, 256, 256)"
      ]
     },
     "execution_count": 8,
     "metadata": {},
     "output_type": "execute_result"
    }
   ],
   "source": []
  }
 ],
 "metadata": {
  "kernelspec": {
   "display_name": "Python [conda env:calibration]",
   "language": "python",
   "name": "conda-env-calibration-py"
  },
  "language_info": {
   "codemirror_mode": {
    "name": "ipython",
    "version": 3
   },
   "file_extension": ".py",
   "mimetype": "text/x-python",
   "name": "python",
   "nbconvert_exporter": "python",
   "pygments_lexer": "ipython3",
   "version": "3.6.9"
  }
 },
 "nbformat": 4,
 "nbformat_minor": 2
}
