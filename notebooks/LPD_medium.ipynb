{
 "cells": [
  {
   "cell_type": "code",
   "execution_count": null,
   "metadata": {},
   "outputs": [],
   "source": [
    "%reload_ext autoreload\n",
    "%autoreload 2\n",
    "\n",
    "from collections import OrderedDict\n",
    "from concurrent.futures import ProcessPoolExecutor, ThreadPoolExecutor\n",
    "from functools import partial\n",
    "import h5py\n",
    "import numpy as np\n",
    "import time\n",
    "import xarray as xr\n",
    "from itertools import groupby\n",
    "import matplotlib.pyplot as plt\n",
    "import matplotlib.patches as patches\n",
    "\n",
    "import plotly.graph_objects as go\n",
    "\n",
    "from karabo_data import open_run, DataCollection\n",
    "from calibration import (\n",
    "    dark_offset, module_roi_intensity, parse_ids, find_proposal, SimpleImageViewer)"
   ]
  },
  {
   "cell_type": "code",
   "execution_count": null,
   "metadata": {},
   "outputs": [],
   "source": [
    "# Config parameters\n",
    "\n",
    "proposal = 900089\n",
    "dark_run_nr = 50\n",
    "dark_data_file = \"/gpfs/exfel/data/scratch/kamile/lpd_timing_scan/lpd_medium.h5\"\n",
    "\n",
    "timing_run_nr = 57\n",
    "\n",
    "modules_roi = [32, 64, 0, 128]\n",
    "\n",
    "modules = \"0:16\" # [0, 1, 2, ..., 15] # \"Can also gives as comma separated : '1, 2, 14'\"\n",
    "\n",
    "pulse_ids_with_xray = \"1:20:2\" # comma separated or slice 1:16:2\n",
    "\n",
    "# Delay motor device id and property\n",
    "delay_src = \"FXE_RR_SYS/TSYS/UTC-1-S3\"\n",
    "delay_prop = \"backTrg3.delay.value\"\n",
    "\n",
    "# List of modules\n",
    "module_numbers = parse_ids(modules)\n",
    "module_numbers"
   ]
  },
  {
   "cell_type": "code",
   "execution_count": null,
   "metadata": {},
   "outputs": [],
   "source": [
    "find_proposal(proposal, dark_run_nr)"
   ]
  },
  {
   "cell_type": "markdown",
   "metadata": {},
   "source": [
    "# Evaluate dark  for all modules in parallel and store in file\n"
   ]
  },
  {
   "cell_type": "code",
   "execution_count": null,
   "metadata": {},
   "outputs": [],
   "source": [
    "# Store dark data in dark_data dictionary\n",
    "# dark_data = {modno:data}\n",
    "\n",
    "dark_data = {}\n",
    "\n",
    "_dark_eval = partial(dark_offset, \n",
    "                     proposal,\n",
    "                     dark_run_nr,\n",
    "                     pulse_ids=\":\",\n",
    "                     dettype='LPD')\n",
    "\n",
    "t0 = time.perf_counter()\n",
    "\n",
    "with ProcessPoolExecutor(max_workers=len(module_numbers)) as executor:\n",
    "    for modno, ret in zip(module_numbers, executor.map(_dark_eval, module_numbers)):\n",
    "        dark_data[modno] = ret\n",
    "        \n",
    "print(f\"Time to evaluate dark offset: {time.perf_counter() - t0}\")  "
   ]
  },
  {
   "cell_type": "code",
   "execution_count": null,
   "metadata": {},
   "outputs": [],
   "source": [
    "%matplotlib notebook\n",
    "\n",
    "mod_to_view = 15\n",
    "mem_cell_to_view = 2\n",
    "\n",
    "fig, ax = plt.subplots(1,1)\n",
    "\n",
    "x, y = modules_roi[2], modules_roi[0]\n",
    "dx, dy = modules_roi[3] - modules_roi[2], modules_roi[1] - modules_roi[0]\n",
    "\n",
    "rect = patches.Rectangle((x, y), dx, dy, linewidth=1, edgecolor='r', facecolor='gray')\n",
    "\n",
    "ax.add_patch(rect)\n",
    "\n",
    "ax.imshow(dark_data[mod_to_view][mem_cell_to_view])"
   ]
  },
  {
   "cell_type": "markdown",
   "metadata": {},
   "source": [
    "# Write dark data to file"
   ]
  },
  {
   "cell_type": "code",
   "execution_count": null,
   "metadata": {},
   "outputs": [],
   "source": [
    "with h5py.File(dark_data_file, \"w\") as f:\n",
    "    g = f.create_group(f\"entry_1/instrument\")\n",
    "    for modno, data in dark_data.items():\n",
    "        if data is not None:\n",
    "            h = g.create_group(f\"module_{modno}\")\n",
    "            h.create_dataset('data', data=data)"
   ]
  },
  {
   "cell_type": "markdown",
   "metadata": {},
   "source": [
    "# Browse thorugh dark subtracted images"
   ]
  },
  {
   "cell_type": "code",
   "execution_count": null,
   "metadata": {},
   "outputs": [],
   "source": [
    "config = dict(\n",
    "    run_folder=find_proposal(proposal, timing_run_nr),\n",
    "    dark_data=dark_data_file\n",
    ")\n",
    "\n",
    "w = SimpleImageViewer(\"LPD\", config)\n",
    "w.control_panel()"
   ]
  },
  {
   "cell_type": "markdown",
   "metadata": {},
   "source": [
    "# Evaluate ROI intensity for timing scan"
   ]
  },
  {
   "cell_type": "markdown",
   "metadata": {},
   "source": [
    "        def module_roi_intensity(module_number, proposal, run, *,\n",
    "                                 pulse_ids=None, rois=None,\n",
    "                                 dettype='AGIPD', dark_run=None,\n",
    "                                 use_xgm=None):\n",
    "                    \"\"\" Process Dark data\n",
    "\n",
    "                    Parameters\n",
    "                    ----------\n",
    "                    module_number: str, int\n",
    "                        Channel number between 0, 15\n",
    "                    proposal: str, int\n",
    "                        A proposal number, such as 2012, '2012', 'p002012', or a path such as\n",
    "                        '/gpfs/exfel/exp/SPB/201701/p002012'.\n",
    "                    run: str, int\n",
    "                        A run number such as 243, '243' or 'r0243'.\n",
    "                    pulse_ids: str\n",
    "                        For eg. \":\" to select all pulses in a train\n",
    "                                \"start:stop:step\" to select indices with certain step size\n",
    "                                \"1,2,3\" comma separated pulse index to select specific pulses\n",
    "                                \"1,2,3, 5:10\" mix of above two\n",
    "                        Default: all pulses \":\"\n",
    "                    rois: list\n",
    "                        [x0, x1, y0, y1]\n",
    "                    dettype: str\n",
    "                        \"AGIPD\", \"LPD\"\n",
    "                    dark_run: (numpy.ndarray) or dict optional\n",
    "                        dark_data shape (n_pulses, slow_scan, fast_scan)\n",
    "                        dark_run[module_number] of shape (n_pulses, slow_scan, fast_scan)\n",
    "                        Default: None,\n",
    "                        If provided dark data will be subtracted from images\n",
    "                    use_xgm: str\n",
    "                        XGM source name to be used to normalize data.\n",
    "                        For eg: \"SPB_XTD9_XGM/DOOCS/MAIN:output\"\n",
    "\n",
    "                    Return\n",
    "                    ------\n",
    "                    out: xarray\n",
    "                        The first axis of the returned data will be labelled with the trainId\n",
    "                        Shape of numpy array: (n_trains, n_pulses)\n",
    "                    \"\"\""
   ]
  },
  {
   "cell_type": "markdown",
   "metadata": {},
   "source": [
    "### Read dark data from files and store in dictionary dark_run"
   ]
  },
  {
   "cell_type": "code",
   "execution_count": null,
   "metadata": {},
   "outputs": [],
   "source": [
    "dark_run = {}\n",
    "\n",
    "import re\n",
    "def iterate(name, node):\n",
    "    if isinstance(node, h5py.Dataset):\n",
    "        m = re.search(\"(.+)module_(.+)/data\", name)\n",
    "        if m is not None:\n",
    "            dark_run[m.group(2)] = node[:]\n",
    "\n",
    "with h5py.File(dark_data_file, 'r') as f:\n",
    "    f.visititems(iterate)\n",
    "\n",
    "dark_run.keys()"
   ]
  },
  {
   "cell_type": "markdown",
   "metadata": {},
   "source": [
    "### Evaluate dark subtracted ROI intensities"
   ]
  },
  {
   "cell_type": "code",
   "execution_count": null,
   "metadata": {},
   "outputs": [],
   "source": [
    "# Store roi intensities in roi_intensities dictionary\n",
    "\n",
    "roi_intensities = {}\n",
    "\n",
    "_roi_intensity_eval = partial(module_roi_intensity, \n",
    "                              proposal=proposal,\n",
    "                              run=timing_run_nr,\n",
    "                              pulse_ids=pulse_ids_with_xray,\n",
    "                              rois=modules_roi,\n",
    "                              dettype='LPD',)\n",
    "\n",
    "t0 = time.perf_counter()\n",
    "\n",
    "with ProcessPoolExecutor(max_workers=len(dark_run.keys())) as executor:\n",
    "    for modno, ret in zip(\n",
    "        dark_run.keys(), executor.map(\n",
    "            _roi_intensity_eval, dark_run.keys())):\n",
    "        roi_intensities[modno] = ret\n",
    "        \n",
    "print(f\"Time to evaluate roi intensities: {time.perf_counter() - t0}\")"
   ]
  },
  {
   "cell_type": "markdown",
   "metadata": {},
   "source": [
    "# Get delay data"
   ]
  },
  {
   "cell_type": "code",
   "execution_count": null,
   "metadata": {},
   "outputs": [],
   "source": [
    "run = open_run(proposal, timing_run_nr) # proposal, run\n",
    "# get delay data: xarray\n",
    "delay_data = run.get_array(delay_src, delay_prop)\n",
    "delay_data = delay_data.expand_dims('dim_1', axis=1)\n",
    "\n",
    "delay_data"
   ]
  },
  {
   "cell_type": "markdown",
   "metadata": {},
   "source": [
    "# Plot delay data and ROI intensities"
   ]
  },
  {
   "cell_type": "code",
   "execution_count": null,
   "metadata": {},
   "outputs": [],
   "source": [
    "for modno in sorted(dark_run.keys(), key=lambda x: int(x)):\n",
    "    if roi_intensities[modno] is not None:\n",
    "        # Align delay and ROI intensities along the trainIds\n",
    "        roi_int, delay = xr.align(roi_intensities[modno], delay_data)\n",
    "        # Evaluate MEAN and STD for a given delay\n",
    "        data = []\n",
    "        for pulse in range(roi_intensities[modno].shape[-1]):\n",
    "            s = list(zip(delay[:, 0].values, roi_int[:, pulse].values))\n",
    "            roi_int_avg = []\n",
    "            roi_int_std = []\n",
    "            dl = []\n",
    "            for key, group in groupby(sorted(s), lambda x: x[0]):\n",
    "                x, y = zip(*group)\n",
    "                avg, std = np.mean(np.array(y)), np.std(np.array(y))\n",
    "                roi_int_avg.append(avg)\n",
    "                roi_int_std.append(std)\n",
    "                dl.append(x[0])        \n",
    "\n",
    "            data.append(go.Scatter(\n",
    "                x=dl, \n",
    "                y=roi_int_avg, \n",
    "                xaxis_title=\"Delay\",\n",
    "                yaxis_title=\"ROI intensities\",\n",
    "                error_y=dict(\n",
    "                    type='data',\n",
    "                    array=roi_int_std,\n",
    "                    visible=True),\n",
    "                mode='lines+markers', \n",
    "                name=f\"Pulse index: {pulse}\"))\n",
    "\n",
    "        fig = go.Figure(data=data, \n",
    "                        layout=go.Layout(\n",
    "                        title=go.layout.Title(text=f\"Module number {modno}\")))\n",
    "        fig.show()"
   ]
  }
 ],
 "metadata": {
  "kernelspec": {
   "display_name": "calibration-kernel",
   "language": "python",
   "name": "calibration-kernel"
  },
  "language_info": {
   "codemirror_mode": {
    "name": "ipython",
    "version": 3
   },
   "file_extension": ".py",
   "mimetype": "text/x-python",
   "name": "python",
   "nbconvert_exporter": "python",
   "pygments_lexer": "ipython3",
   "version": "3.6.9"
  }
 },
 "nbformat": 4,
 "nbformat_minor": 2
}
