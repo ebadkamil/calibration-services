{
 "cells": [
  {
   "cell_type": "code",
   "execution_count": 1,
   "metadata": {},
   "outputs": [],
   "source": [
    "%reload_ext autoreload\n",
    "%autoreload 2\n",
    "\n",
    "from concurrent.futures import ProcessPoolExecutor, ThreadPoolExecutor\n",
    "from collections import OrderedDict\n",
    "import numpy as np\n",
    "import re\n",
    "import h5py\n",
    "from functools import partial\n",
    "from itertools import product\n",
    "\n",
    "from calibration import Display\n"
   ]
  },
  {
   "cell_type": "markdown",
   "metadata": {},
   "source": [
    "# Wokflow\n",
    "\n",
    "* General set up (Tab 0):\n",
    "   \n",
    "   - Module Number: Specify channel/module numbers that you want to analyse. Must be comma separated.\n",
    "   - Pulse indices: Pulses that have x-rays. You can provide a range (start:stop:step) or comma separated (1,3,4 etc) or combination of range and individual pulses (1:10:2, 11, 14, 16 etc)\n",
    "   - Region of interest (ROI x) in x for each module: Only range based (start:stop)\n",
    "   - Region of interest (ROI y) in y for each module: Only range based (start:stop)\n",
    "   \n",
    "* Dark Run (Tab 1):\n",
    "    \n",
    "    - Dark Run Folder: (str) /gpfs/exfel/exp/MID/201931/proposal/raw/run_number\n",
    "    - Train ids: Train indices to take average over. Range based (start:stop). Deafult is all train (:)\n",
    "    - Process Darak button: To evalute average. This is done in parallel over modules. Doesn't block\n",
    "      further analysis. Once results (average image and histograms) are available it be displayed automatically.\n",
    "    - Using Pulses (slider) and module numbers (dropbox) on top one can visulaize data for each pulses or modules.\n",
    "\n",
    "* Data Visualization (Tab 2):\n",
    "    \n",
    "    - Run Folder: (str) /gpfs/exfel/exp/MID/201931/proposal/raw/run_number\n",
    "    - Train ids: Train indices. Range based (start:stop). Use cautiosly. It loads all train data in memory.\n",
    "    Also processing is parallized over modules, therefore maximum pickle size has to be respected.\n",
    "    \n",
    "    - Subtract Dark. Once dark average data is available you will be able to check on subtract dark.\n",
    "    - Load Run: Once things are set up, load the run.\n",
    "    \n",
    "    - Fitting Procedure:\n",
    "    \n",
    "        - First chose some reasonable peak threshold to filter out number of peaks\n",
    "        - Chose peak distance to remove very close peaks,\n",
    "        - Once peaks are chosen, one can click on button Fit Histogram to fit Gaussians. Number of peaks define the number of gaussian functions that will be used to fit the histogram. Generally fitting with 3-4 peaks give reasonable fitting "
   ]
  },
  {
   "cell_type": "code",
   "execution_count": 2,
   "metadata": {},
   "outputs": [],
   "source": [
    "config = dict(\n",
    "    dark_run_folder='/gpfs/exfel/exp/MID/201931/p900091/raw/r0504',\n",
    "    run_folder='/gpfs/exfel/exp/MID/201931/p900091/raw/r0491',\n",
    ")"
   ]
  },
  {
   "cell_type": "markdown",
   "metadata": {},
   "source": [
    "## Widgets Display"
   ]
  },
  {
   "cell_type": "code",
   "execution_count": 3,
   "metadata": {
    "scrolled": false
   },
   "outputs": [
    {
     "data": {
      "application/vnd.jupyter.widget-view+json": {
       "model_id": "8d4fd4c92c2e45bc8ed6e9cf2b8c63ce",
       "version_major": 2,
       "version_minor": 0
      },
      "text/plain": [
       "HBox(children=(Dropdown(description='Cmap:', options=('Blackbody', 'Reds', 'Viridis', 'Plasma'), value='Blackb…"
      ]
     },
     "metadata": {},
     "output_type": "display_data"
    },
    {
     "data": {
      "application/vnd.jupyter.widget-view+json": {
       "model_id": "06e112745f7f437999cc17399d4fbf83",
       "version_major": 2,
       "version_minor": 0
      },
      "text/plain": [
       "Tab(children=(Box(children=(Box(children=(Label(value='Module numbers:'), Text(value='15, 14', continuous_upda…"
      ]
     },
     "metadata": {},
     "output_type": "display_data"
    },
    {
     "data": {
      "application/vnd.jupyter.widget-view+json": {
       "model_id": "fbeac79b32d74149ad69589aa33dc522",
       "version_major": 2,
       "version_minor": 0
      },
      "text/plain": [
       "Output(layout=Layout(border='1px solid', height='160px', width='100%'))"
      ]
     },
     "metadata": {},
     "output_type": "display_data"
    }
   ],
   "source": [
    "d = Display(config=config)\n",
    "d.control_panel()"
   ]
  },
  {
   "cell_type": "markdown",
   "metadata": {},
   "source": [
    "# Analysis without GUI\n",
    "\n"
   ]
  },
  {
   "cell_type": "code",
   "execution_count": 4,
   "metadata": {},
   "outputs": [],
   "source": [
    "from functools import partial\n",
    "import numpy as np\n",
    "import plotly.graph_objs as go\n",
    "from plotly.subplots import make_subplots\n",
    "\n",
    "from scipy.ndimage import gaussian_filter, gaussian_filter1d\n",
    "from scipy.signal import find_peaks\n",
    "\n",
    "from calibration import DataProcessing, gauss_fit, eval_statistics\n",
    "from karabo_data import by_index"
   ]
  },
  {
   "cell_type": "markdown",
   "metadata": {},
   "source": [
    "    \n",
    "    def DataProcessing(module_number, path, *,\n",
    "                       train_index=None, pulse_ids=None,\n",
    "                       rois=None, operation=None,\n",
    "                       dark_run=None):\n",
    "                   \n",
    "           \"\"\" Process Data\n",
    "\n",
    "                    Parameters\n",
    "                    ----------\n",
    "                    module_number: int\n",
    "                        Channel number between 0, 15\n",
    "                    path: str\n",
    "                        Path to Run folder\n",
    "                    train_index: karabo_data (by_index)\n",
    "                        Default (all trains by_index[:])\n",
    "                    pulse_ids: str\n",
    "                        For eg. \":\" to select all pulses in a train\n",
    "                                \"start:stop:step\" to select indices with certain step size\n",
    "                                \"1,2,3\" comma separated pulse index to select specific pulses\n",
    "                                \"1,2,3, 5:10\" mix of above two\n",
    "                        Default: all pulses \":\"\n",
    "                    rois: karabo_data slice constructor by_index\n",
    "                        Select ROI of image data. For eg. by_index[..., 0:128, 0:64]\n",
    "                        See karabo_data method: `get_array`\n",
    "\n",
    "                    operation: function\n",
    "                        For eg. functools.partial(np.mean, axis=0) to take mean over trains\n",
    "                    dark_run: ndarray\n",
    "                        dark_data to subtract\n",
    "\n",
    "                    Return\n",
    "                    ------\n",
    "                    out: ndarray\n",
    "                        Shape:  operation -> (n_trains, n_pulses, ..., slow_scan, fast_scan)\n",
    "                    \"\"\""
   ]
  },
  {
   "cell_type": "markdown",
   "metadata": {},
   "source": [
    "# General Parameters"
   ]
  },
  {
   "cell_type": "code",
   "execution_count": 5,
   "metadata": {},
   "outputs": [],
   "source": [
    "module_number = 15\n",
    "pulse_ids = \"1:250:2\"\n",
    "rois = by_index[:, :]"
   ]
  },
  {
   "cell_type": "markdown",
   "metadata": {},
   "source": [
    "# Dark Run average. Do not run if dark data is already evaluated and stored in file. Jump to visualization cell"
   ]
  },
  {
   "cell_type": "code",
   "execution_count": 6,
   "metadata": {},
   "outputs": [],
   "source": [
    "# parameters\n",
    "\n",
    "dark_run_folder = \"/gpfs/exfel/exp/MID/201931/p900091/raw/r0504\"\n",
    "\n",
    "dark_train_index = by_index[:]\n",
    "\n",
    "# mean over train index \n",
    "operation = partial(np.mean, axis=0)\n"
   ]
  },
  {
   "cell_type": "code",
   "execution_count": 7,
   "metadata": {},
   "outputs": [
    {
     "name": "stdout",
     "output_type": "stream",
     "text": [
      "(125, 2, 512, 128)\n"
     ]
    }
   ],
   "source": [
    "dark_average = DataProcessing(\n",
    "    module_number, \n",
    "    dark_run_folder,\n",
    "    train_index=dark_train_index,\n",
    "    pulse_ids=pulse_ids,\n",
    "    rois=rois,\n",
    "    operation=operation)\n",
    "\n",
    "print(dark_average.shape)"
   ]
  },
  {
   "cell_type": "markdown",
   "metadata": {},
   "source": [
    "# Write dark data to file"
   ]
  },
  {
   "cell_type": "code",
   "execution_count": 8,
   "metadata": {},
   "outputs": [],
   "source": [
    "# Write dark data to file that can be used later\n",
    "\n",
    "dark_run = {module_number:dark_average}\n",
    "\n",
    "with h5py.File(\"dark_run.h5\", \"w\") as f:\n",
    "    for modno, data in dark_run.items():\n",
    "        g = f.create_group(f\"entry_1/instrument/module_{modno}\")\n",
    "        g.create_dataset('data', data=dark_run[modno])"
   ]
  },
  {
   "cell_type": "markdown",
   "metadata": {},
   "source": [
    "# Subtract Dark from a run. Do not run if dark subtracted data is already evaluated and stored in file. Jump to visualization cell"
   ]
  },
  {
   "cell_type": "code",
   "execution_count": 12,
   "metadata": {},
   "outputs": [],
   "source": [
    "\n",
    "run_folder = \"/gpfs/exfel/exp/MID/201931/p900091/raw/r0491\"\n",
    "\n",
    "proc_train_index = by_index[250:450]\n",
    "\n"
   ]
  },
  {
   "cell_type": "code",
   "execution_count": 13,
   "metadata": {},
   "outputs": [],
   "source": [
    "dark_subtracted = DataProcessing(\n",
    "    module_number, \n",
    "    run_folder,\n",
    "    train_index=proc_train_index,\n",
    "    pulse_ids=pulse_ids,\n",
    "    rois=rois,\n",
    "    dark_run=dark_average)"
   ]
  },
  {
   "cell_type": "code",
   "execution_count": 15,
   "metadata": {},
   "outputs": [
    {
     "name": "stdout",
     "output_type": "stream",
     "text": [
      "Shape of Dark Subtracted Data: (200, 125, 2, 512, 128)\n"
     ]
    }
   ],
   "source": [
    "# n_trains, pulses, gain_bits, slow_scan, fast_scan\n",
    "print(f\"Shape of Dark Subtracted Data: {dark_subtracted.shape}\")"
   ]
  },
  {
   "cell_type": "markdown",
   "metadata": {},
   "source": [
    "# Write dark subtracted Data to file"
   ]
  },
  {
   "cell_type": "code",
   "execution_count": 16,
   "metadata": {},
   "outputs": [],
   "source": [
    "dark_sub_run = {module_number:dark_subtracted}\n",
    "\n",
    "with h5py.File(\"/gpfs/exfel/data/scratch/kamile/dark_subtracted.h5\", \"w\") as f:\n",
    "    for modno, data in dark_sub_run.items():\n",
    "        g = f.create_group(f\"entry_1/instrument/module_{modno}\")\n",
    "        g.create_dataset('data', data=dark_sub_run[modno])"
   ]
  },
  {
   "cell_type": "markdown",
   "metadata": {},
   "source": [
    "# Visualization "
   ]
  },
  {
   "cell_type": "code",
   "execution_count": 41,
   "metadata": {},
   "outputs": [
    {
     "data": {
      "text/plain": [
       "Layout({\n",
       "    'height': 300,\n",
       "    'margin': {'b': 40, 'l': 0, 't': 50},\n",
       "    'template': '...',\n",
       "    'title': {'text': 'Scipy Fit Info.'},\n",
       "    'width': 900\n",
       "})"
      ]
     },
     "execution_count": 41,
     "metadata": {},
     "output_type": "execute_result"
    }
   ],
   "source": [
    "# Create Empty Plots\n",
    "\n",
    "import ipywidgets as widget\n",
    "\n",
    "image_widget = go.FigureWidget(data=go.Heatmap(showscale=False))\n",
    "\n",
    "trace = [go.Bar(name=\"Data\"),\n",
    "         go.Scatter(mode='markers', name=\"Peaks\", marker=dict(size=10)), \n",
    "         go.Scatter(mode='lines', name=\"Scipy Fit\"),\n",
    "         go.Scatter(mode='lines+markers', name=\"Minuit Fit\")]\n",
    "\n",
    "hist_widget = go.FigureWidget(data=trace)\n",
    "\n",
    "residual_widget = go.FigureWidget(data=[\n",
    "    go.Box(boxmean='sd', name='Scipy', boxpoints=False),\n",
    "    go.Box(boxmean='sd', name='Minuit', boxpoints=False),])\n",
    "\n",
    "fit_params_widget = go.FigureWidget(\n",
    "    data=go.Table(\n",
    "        header=dict(\n",
    "            values=[\"Positions\", \"Amplitudes\", \"Width\"],\n",
    "            fill_color='paleturquoise',\n",
    "            align='center'),\n",
    "        cells=dict(\n",
    "            fill_color='lavender',\n",
    "            align='left')))\n",
    "\n",
    "\n",
    "image_widget.layout.update(margin=dict(l=0, b=40, t=50), width=450)\n",
    "hist_widget.layout.update(margin=dict(r=0, l=10, b=40, t=50), width=450)\n",
    "residual_widget.layout.update(margin=dict(l=0, b=40, t=50), width=450)\n",
    "fit_params_widget.layout.update(margin=dict(l=0, b=40, t=50), \n",
    "                                width=900, height=300, title=\"Scipy Fit Info.\")\n"
   ]
  },
  {
   "cell_type": "markdown",
   "metadata": {},
   "source": [
    "# Read dark subtracted data from file"
   ]
  },
  {
   "cell_type": "code",
   "execution_count": 18,
   "metadata": {},
   "outputs": [
    {
     "name": "stdout",
     "output_type": "stream",
     "text": [
      "Shape of Dark subtracted data (125, 200, 2, 512, 128)\n"
     ]
    }
   ],
   "source": [
    "with h5py.File(\"/gpfs/exfel/data/scratch/kamile/dark_subtracted.h5\", \"r\") as f:\n",
    "    dark_subtracted = np.moveaxis(f[\"entry_1/instrument/module_15/data\"][:], 0, 1)\n",
    "\n",
    "print(f\"Shape of Dark subtracted data {dark_subtracted.shape}\")"
   ]
  },
  {
   "cell_type": "code",
   "execution_count": 43,
   "metadata": {},
   "outputs": [
    {
     "data": {
      "application/vnd.jupyter.widget-view+json": {
       "model_id": "d98a6bddec974e0ba69de544f5bee9b8",
       "version_major": 2,
       "version_minor": 0
      },
      "text/plain": [
       "HBox(children=(FigureWidget({\n",
       "    'data': [{'showscale': False,\n",
       "              'type': 'heatmap',\n",
       "             …"
      ]
     },
     "metadata": {},
     "output_type": "display_data"
    }
   ],
   "source": [
    "# Clear plots\n",
    "hist_widget.data[1].x = []\n",
    "hist_widget.data[1].y = []\n",
    "hist_widget.data[2].x = []\n",
    "hist_widget.data[2].y = []\n",
    "hist_widget.data[3].x = []\n",
    "hist_widget.data[3].y = []\n",
    "\n",
    "# Pulse index to visualize\n",
    "pulse_id = 0\n",
    "bins=600\n",
    "\n",
    "\n",
    "# Mean image over trains (In this case 30 trains)\n",
    "image_widget.data[0].z = np.mean(dark_subtracted[pulse_id, :, 0, ...], axis=0)\n",
    "\n",
    "# Evaluate histogram\n",
    "bin_centers, bin_counts = eval_statistics(dark_subtracted[:, pulse_id, 0, ...], bins=bins)\n",
    "\n",
    "# Update histogram image\n",
    "\n",
    "hist_widget.data[0].x = bin_centers\n",
    "hist_widget.data[0].y = bin_counts\n",
    "\n",
    "display(widget.HBox([image_widget, hist_widget]))"
   ]
  },
  {
   "cell_type": "markdown",
   "metadata": {},
   "source": [
    "# Fitting dark subtracted data\n",
    "\n",
    " "
   ]
  },
  {
   "cell_type": "markdown",
   "metadata": {},
   "source": [
    "###   Peak finding to estimate intial fit parameters\n",
    "    \n",
    "    * Apply Gaussian filter to smooth out the histogram\n",
    "    * Evaluate peaks for this filtered data\n",
    "        - Peaks parameters: height, distance"
   ]
  },
  {
   "cell_type": "code",
   "execution_count": 46,
   "metadata": {},
   "outputs": [
    {
     "name": "stdout",
     "output_type": "stream",
     "text": [
      "Number of peaks: 3\n",
      "Peak positions, amplitudes: [(-25.435997, 77840), (14.431009, 97217), (57.364708, 63586)]\n"
     ]
    },
    {
     "data": {
      "application/vnd.jupyter.widget-view+json": {
       "model_id": "d3e82e617be54616aa9fd8d90ac486e0",
       "version_major": 2,
       "version_minor": 0
      },
      "text/plain": [
       "HBox(children=(FigureWidget({\n",
       "    'data': [{'showscale': False,\n",
       "              'type': 'heatmap',\n",
       "             …"
      ]
     },
     "metadata": {},
     "output_type": "display_data"
    }
   ],
   "source": [
    "# Clear plots\n",
    "hist_widget.data[2].x = []\n",
    "hist_widget.data[2].y = []\n",
    "hist_widget.data[3].x = []\n",
    "hist_widget.data[3].y = []\n",
    "\n",
    "# Peak params\n",
    "peak_threshold = 200\n",
    "peak_distance = 20\n",
    "\n",
    "# Apply Gaussian filter\n",
    "filtered = gaussian_filter(bin_counts, 1.5)\n",
    "#filtered = bin_counts\n",
    "\n",
    "# Evaluate peaks\n",
    "peaks, _ = find_peaks(filtered,\n",
    "                      height=peak_threshold,\n",
    "                      distance=peak_distance)\n",
    "\n",
    "#Plot peaks and Gaussian filtered curve. \n",
    "\n",
    "hist_widget.data[1].x = bin_centers[peaks]\n",
    "hist_widget.data[1].y = filtered[peaks]\n",
    "\n",
    "print(f\"Number of peaks: {len(peaks)}\")\n",
    "print(f\"Peak positions, amplitudes: {list(zip(bin_centers[peaks], filtered[peaks]))}\")\n",
    "\n",
    "display(widget.HBox([image_widget, hist_widget]))"
   ]
  },
  {
   "cell_type": "markdown",
   "metadata": {},
   "source": [
    "# Benchmarking IMINUIT and SCIPY\n",
    "\n",
    "\n",
    "    "
   ]
  },
  {
   "cell_type": "code",
   "execution_count": 47,
   "metadata": {},
   "outputs": [],
   "source": [
    "from iminuit import Minuit\n",
    "from iminuit import minimize\n",
    "from scipy.optimize import curve_fit\n"
   ]
  },
  {
   "cell_type": "code",
   "execution_count": 48,
   "metadata": {},
   "outputs": [],
   "source": [
    "def gaussian(x, *params):\n",
    "    num_gaussians = int(len(params) / 3)\n",
    "    A = params[:num_gaussians]\n",
    "    w = params[num_gaussians:2*num_gaussians]\n",
    "    c = params[2*num_gaussians:3*num_gaussians]\n",
    "    y = sum(\n",
    "        [A[i]*np.exp(-(x-c[i])**2./(w[i])) for i in range(num_gaussians)])\n",
    "    \n",
    "    return y\n",
    "\n",
    "def least_squares_np(xdata, ydata,  params):  \n",
    "    var = 1.0\n",
    "    y = gaussian(xdata, *params) \n",
    "    return np.sum((ydata - y) ** 2) / xdata.shape[0]"
   ]
  },
  {
   "cell_type": "code",
   "execution_count": 49,
   "metadata": {},
   "outputs": [
    {
     "data": {
      "application/vnd.jupyter.widget-view+json": {
       "model_id": "6f3cbb007c5a4727b775a14eaf4ccb65",
       "version_major": 2,
       "version_minor": 0
      },
      "text/plain": [
       "HBox(children=(FigureWidget({\n",
       "    'data': [{'boxmean': 'sd',\n",
       "              'boxpoints': False,\n",
       "              '…"
      ]
     },
     "metadata": {},
     "output_type": "display_data"
    },
    {
     "data": {
      "application/vnd.jupyter.widget-view+json": {
       "model_id": "8394fe34a20643ba825da61c6bf7128b",
       "version_major": 2,
       "version_minor": 0
      },
      "text/plain": [
       "FigureWidget({\n",
       "    'data': [{'cells': {'align': 'left',\n",
       "                        'fill': {'color': 'lavender'},…"
      ]
     },
     "metadata": {},
     "output_type": "display_data"
    },
    {
     "data": {
      "text/html": [
       "<table>\n",
       "<tr>\n",
       "<td colspan=\"2\" title=\"Minimum value of function\">\n",
       "FCN = 3.173E+06\n",
       "</td>\n",
       "<td align=\"center\" colspan=\"3\" title=\"No. of calls in last algorithm and total number of calls\">\n",
       "Ncalls = 1779 (1784 total)\n",
       "</td>\n",
       "</tr>\n",
       "<tr>\n",
       "<td colspan=\"2\" title=\"Estimated distance to minimum and target threshold\">\n",
       "EDM = 2.98 (Goal: 1E-05)\n",
       "</td>\n",
       "<td align=\"center\" colspan=\"3\" title=\"Increase in FCN which corresponds to 1 standard deviation\">\n",
       "up = 1.0\n",
       "</td>\n",
       "</tr>\n",
       "<tr>\n",
       "<td align=\"center\" title=\"Validity of the migrad call\">\n",
       "Valid Min.\n",
       "</td>\n",
       "<td align=\"center\" title=\"Validity of parameters\">\n",
       "Valid Param.\n",
       "</td>\n",
       "<td align=\"center\" title=\"Is EDM above goal EDM?\">\n",
       "Above EDM\n",
       "</td>\n",
       "<td align=\"center\" colspan=\"2\" title=\"Did last migrad call reach max call limit?\">\n",
       "Reached call limit\n",
       "</td>\n",
       "</tr>\n",
       "<tr>\n",
       "<td align=\"center\" style=\"background-color:#FF7878;\">\n",
       "False\n",
       "</td>\n",
       "<td align=\"center\" style=\"background-color:#92CCA6;\">\n",
       "True\n",
       "</td>\n",
       "<td align=\"center\" style=\"background-color:#FF7878;\">\n",
       "True\n",
       "</td>\n",
       "<td align=\"center\" colspan=\"2\" style=\"background-color:#92CCA6;\">\n",
       "False\n",
       "</td>\n",
       "</tr>\n",
       "<tr>\n",
       "<td align=\"center\" title=\"Did Hesse fail?\">\n",
       "Hesse failed\n",
       "</td>\n",
       "<td align=\"center\" title=\"Has covariance matrix\">\n",
       "Has cov.\n",
       "</td>\n",
       "<td align=\"center\" title=\"Is covariance matrix accurate?\">\n",
       "Accurate\n",
       "</td>\n",
       "<td align=\"center\" title=\"Is covariance matrix positive definite?\">\n",
       "Pos. def.\n",
       "</td>\n",
       "<td align=\"center\" title=\"Was positive definiteness enforced by Minuit?\">\n",
       "Forced\n",
       "</td>\n",
       "</tr>\n",
       "<tr>\n",
       "<td align=\"center\" style=\"background-color:#92CCA6;\">\n",
       "False\n",
       "</td>\n",
       "<td align=\"center\" style=\"background-color:#92CCA6;\">\n",
       "True\n",
       "</td>\n",
       "<td align=\"center\" style=\"background-color:#FF7878;\">\n",
       "False\n",
       "</td>\n",
       "<td align=\"center\" style=\"background-color:#92CCA6;\">\n",
       "True\n",
       "</td>\n",
       "<td align=\"center\" style=\"background-color:#92CCA6;\">\n",
       "False\n",
       "</td>\n",
       "</tr>\n",
       "</table>\n",
       "<table>\n",
       "<tr style=\"background-color:#F4F4F4;\">\n",
       "<td/>\n",
       "<th title=\"Variable name\">\n",
       "Name\n",
       "</th>\n",
       "<th title=\"Value of parameter\">\n",
       "Value\n",
       "</th>\n",
       "<th title=\"Hesse error\">\n",
       "Hesse Error\n",
       "</th>\n",
       "<th title=\"Minos lower error\">\n",
       "Minos Error-\n",
       "</th>\n",
       "<th title=\"Minos upper error\">\n",
       "Minos Error+\n",
       "</th>\n",
       "<th title=\"Lower limit of the parameter\">\n",
       "Limit-\n",
       "</th>\n",
       "<th title=\"Upper limit of the parameter\">\n",
       "Limit+\n",
       "</th>\n",
       "<th title=\"Is the parameter fixed in the fit\">\n",
       "Fixed\n",
       "</th>\n",
       "</tr>\n",
       "<tr style=\"background-color:#FFFFFF;\">\n",
       "<td>\n",
       "0\n",
       "</td>\n",
       "<td>\n",
       "x0\n",
       "</td>\n",
       "<td>\n",
       "0.541E5\n",
       "</td>\n",
       "<td>\n",
       "0.000E5\n",
       "</td>\n",
       "<td>\n",
       "\n",
       "</td>\n",
       "<td>\n",
       "\n",
       "</td>\n",
       "<td>\n",
       "0\n",
       "</td>\n",
       "<td>\n",
       "\n",
       "</td>\n",
       "<td>\n",
       "\n",
       "</td>\n",
       "</tr>\n",
       "<tr style=\"background-color:#F4F4F4;\">\n",
       "<td>\n",
       "1\n",
       "</td>\n",
       "<td>\n",
       "x1\n",
       "</td>\n",
       "<td>\n",
       "0.483E5\n",
       "</td>\n",
       "<td>\n",
       "0.000E5\n",
       "</td>\n",
       "<td>\n",
       "\n",
       "</td>\n",
       "<td>\n",
       "\n",
       "</td>\n",
       "<td>\n",
       "0\n",
       "</td>\n",
       "<td>\n",
       "\n",
       "</td>\n",
       "<td>\n",
       "\n",
       "</td>\n",
       "</tr>\n",
       "<tr style=\"background-color:#FFFFFF;\">\n",
       "<td>\n",
       "2\n",
       "</td>\n",
       "<td>\n",
       "x2\n",
       "</td>\n",
       "<td>\n",
       "0.581E5\n",
       "</td>\n",
       "<td>\n",
       "0.000E5\n",
       "</td>\n",
       "<td>\n",
       "\n",
       "</td>\n",
       "<td>\n",
       "\n",
       "</td>\n",
       "<td>\n",
       "0\n",
       "</td>\n",
       "<td>\n",
       "\n",
       "</td>\n",
       "<td>\n",
       "\n",
       "</td>\n",
       "</tr>\n",
       "<tr style=\"background-color:#F4F4F4;\">\n",
       "<td>\n",
       "3\n",
       "</td>\n",
       "<td>\n",
       "x3\n",
       "</td>\n",
       "<td>\n",
       "442.04\n",
       "</td>\n",
       "<td>\n",
       "0.26\n",
       "</td>\n",
       "<td>\n",
       "\n",
       "</td>\n",
       "<td>\n",
       "\n",
       "</td>\n",
       "<td>\n",
       "0\n",
       "</td>\n",
       "<td>\n",
       "\n",
       "</td>\n",
       "<td>\n",
       "\n",
       "</td>\n",
       "</tr>\n",
       "<tr style=\"background-color:#FFFFFF;\">\n",
       "<td>\n",
       "4\n",
       "</td>\n",
       "<td>\n",
       "x4\n",
       "</td>\n",
       "<td>\n",
       "563.5\n",
       "</td>\n",
       "<td>\n",
       "0.4\n",
       "</td>\n",
       "<td>\n",
       "\n",
       "</td>\n",
       "<td>\n",
       "\n",
       "</td>\n",
       "<td>\n",
       "0\n",
       "</td>\n",
       "<td>\n",
       "\n",
       "</td>\n",
       "<td>\n",
       "\n",
       "</td>\n",
       "</tr>\n",
       "<tr style=\"background-color:#F4F4F4;\">\n",
       "<td>\n",
       "5\n",
       "</td>\n",
       "<td>\n",
       "x5\n",
       "</td>\n",
       "<td>\n",
       "0.649E4\n",
       "</td>\n",
       "<td>\n",
       "0.000E4\n",
       "</td>\n",
       "<td>\n",
       "\n",
       "</td>\n",
       "<td>\n",
       "\n",
       "</td>\n",
       "<td>\n",
       "0\n",
       "</td>\n",
       "<td>\n",
       "\n",
       "</td>\n",
       "<td>\n",
       "\n",
       "</td>\n",
       "</tr>\n",
       "<tr style=\"background-color:#FFFFFF;\">\n",
       "<td>\n",
       "6\n",
       "</td>\n",
       "<td>\n",
       "x6\n",
       "</td>\n",
       "<td>\n",
       "-30.846\n",
       "</td>\n",
       "<td>\n",
       " 0.005\n",
       "</td>\n",
       "<td>\n",
       "\n",
       "</td>\n",
       "<td>\n",
       "\n",
       "</td>\n",
       "<td>\n",
       "\n",
       "</td>\n",
       "<td>\n",
       "\n",
       "</td>\n",
       "<td>\n",
       "\n",
       "</td>\n",
       "</tr>\n",
       "<tr style=\"background-color:#F4F4F4;\">\n",
       "<td>\n",
       "7\n",
       "</td>\n",
       "<td>\n",
       "x7\n",
       "</td>\n",
       "<td>\n",
       "11.905\n",
       "</td>\n",
       "<td>\n",
       "0.006\n",
       "</td>\n",
       "<td>\n",
       "\n",
       "</td>\n",
       "<td>\n",
       "\n",
       "</td>\n",
       "<td>\n",
       "\n",
       "</td>\n",
       "<td>\n",
       "\n",
       "</td>\n",
       "<td>\n",
       "\n",
       "</td>\n",
       "</tr>\n",
       "<tr style=\"background-color:#FFFFFF;\">\n",
       "<td>\n",
       "8\n",
       "</td>\n",
       "<td>\n",
       "x8\n",
       "</td>\n",
       "<td>\n",
       "50.448\n",
       "</td>\n",
       "<td>\n",
       "0.009\n",
       "</td>\n",
       "<td>\n",
       "\n",
       "</td>\n",
       "<td>\n",
       "\n",
       "</td>\n",
       "<td>\n",
       "\n",
       "</td>\n",
       "<td>\n",
       "\n",
       "</td>\n",
       "<td>\n",
       "\n",
       "</td>\n",
       "</tr>\n",
       "</table>\n"
      ],
      "text/plain": [
       "------------------------------------------------------------------\n",
       "| FCN = 3.173E+06               |    Ncalls=1779 (1784 total)    |\n",
       "| EDM = 2.98 (Goal: 1E-05)      |            up = 1.0            |\n",
       "------------------------------------------------------------------\n",
       "|  Valid Min.   | Valid Param.  | Above EDM | Reached call limit |\n",
       "------------------------------------------------------------------\n",
       "|     False     |     True      |   True    |       False        |\n",
       "------------------------------------------------------------------\n",
       "| Hesse failed  |   Has cov.    | Accurate  | Pos. def. | Forced |\n",
       "------------------------------------------------------------------\n",
       "|     False     |     True      |   False   |   True    | False  |\n",
       "------------------------------------------------------------------\n",
       "------------------------------------------------------------------------------------------\n",
       "|   | Name |   Value   | Hesse Err | Minos Err- | Minos Err+ | Limit-  | Limit+  | Fixed |\n",
       "------------------------------------------------------------------------------------------\n",
       "| 0 | x0   |  0.541E5  |  0.000E5  |            |            |    0    |         |       |\n",
       "| 1 | x1   |  0.483E5  |  0.000E5  |            |            |    0    |         |       |\n",
       "| 2 | x2   |  0.581E5  |  0.000E5  |            |            |    0    |         |       |\n",
       "| 3 | x3   |  442.04   |   0.26    |            |            |    0    |         |       |\n",
       "| 4 | x4   |   563.5   |    0.4    |            |            |    0    |         |       |\n",
       "| 5 | x5   |  0.649E4  |  0.000E4  |            |            |    0    |         |       |\n",
       "| 6 | x6   |  -30.846  |   0.005   |            |            |         |         |       |\n",
       "| 7 | x7   |  11.905   |   0.006   |            |            |         |         |       |\n",
       "| 8 | x8   |  50.448   |   0.009   |            |            |         |         |       |\n",
       "------------------------------------------------------------------------------------------"
      ]
     },
     "metadata": {},
     "output_type": "display_data"
    }
   ],
   "source": [
    "# Function to pass to Minuit\n",
    "least_sq = partial(\n",
    "    least_squares_np, bin_centers, filtered)\n",
    "\n",
    "\n",
    "# Construct initial fit params list\n",
    "params = []\n",
    "\n",
    "params.extend(filtered[peaks])                              # Extend Amplitudes [A1, A2, A3, ...]\n",
    "params.extend(np.full((len(bin_centers[peaks])), 100))      # Extend Sigma [S1, S2, S3, ...]\n",
    "params.extend(bin_centers[peaks])                           # Extend Positions [P1, P2, P3, ...]\n",
    "\n",
    "\n",
    "# Construct bounds for parameters MINUIT format\n",
    "bounds_minuit = [(0, None) if i < 2 * (len(params) // 3) else (None, None) \n",
    "                  for i in range(len(params))]\n",
    "\n",
    "# Construct bounds for parameters SCIPY format\n",
    "bounds_scipy = [[ 0 if  i < 2 * (len(params) // 3) else -np.inf \n",
    "                 for i in range(len(params))], \n",
    "                np.inf]\n",
    "\n",
    "popt = params\n",
    "perr = None\n",
    "# Scipy Fitting\n",
    "try:\n",
    "    popt, pcov = curve_fit(\n",
    "        gaussian, bin_centers, filtered, p0=params, bounds=bounds_scipy)\n",
    "    perr = np.sqrt(np.diag(pcov))\n",
    "except Exception as ex:\n",
    "    pass\n",
    "\n",
    "# Minuit Fitting\n",
    "m = Minuit.from_array_func(\n",
    "    least_sq, params, error=0.1, errordef=1, limit=tuple(bounds_minuit))\n",
    "\n",
    "minuit_res = m.migrad()\n",
    "\n",
    "# Evaluation of residuals\n",
    "residual_scipy = filtered - gaussian(bin_centers, *popt)\n",
    "residual_minuit = filtered - gaussian(bin_centers, *m.np_values())\n",
    "\n",
    "\n",
    "# Update Plots\n",
    "hist_widget.data[2].x = bin_centers\n",
    "hist_widget.data[2].y = gaussian(bin_centers, *popt)\n",
    "\n",
    "hist_widget.data[3].x = bin_centers\n",
    "hist_widget.data[3].y = gaussian(bin_centers, *m.np_values())\n",
    "\n",
    "residual_widget.data[0].y = residual_scipy\n",
    "residual_widget.data[1].y = residual_minuit\n",
    "\n",
    "if perr is not None:\n",
    "    table_elements = [f\"{i:.2f}\" + \" +/- \" + f\"{j:.2f}\" for i, j in zip(popt, perr)]\n",
    "    table_elements = np.split(np.array(table_elements), 3)\n",
    "\n",
    "    fit_params_widget.data[0].cells.values = \\\n",
    "        [table_elements[2], table_elements[0], table_elements[1]]\n",
    "\n",
    "display(widget.HBox([residual_widget, hist_widget]), fit_params_widget, minuit_res)"
   ]
  },
  {
   "cell_type": "markdown",
   "metadata": {},
   "source": [
    "## Data Processing Parallelized over modules"
   ]
  },
  {
   "cell_type": "code",
   "execution_count": null,
   "metadata": {},
   "outputs": [],
   "source": [
    "list_modules = [12, 13, 15]\n"
   ]
  },
  {
   "cell_type": "code",
   "execution_count": null,
   "metadata": {},
   "outputs": [],
   "source": [
    "\n",
    "dark_average = partial(\n",
    "    DataProcessing,\n",
    "    path=dark_run_folder,\n",
    "    pulse_ids=\"1:250:2\",\n",
    "    train_index=by_index[:],\n",
    "    rois=by_index[..., :, :],\n",
    "    operation=partial(np.mean, axis=0))\n",
    "\n",
    "\n",
    "futures = OrderedDict()\n",
    "\n",
    "with ProcessPoolExecutor(max_workers=len(list_modules)) as executor:\n",
    "    ret = executor.map(dark_average, list_modules)\n",
    "\n",
    "for data in ret:\n",
    "    print(data.shape)"
   ]
  }
 ],
 "metadata": {
  "kernelspec": {
   "display_name": "calibration-kernel",
   "language": "python",
   "name": "calibration-kernel"
  },
  "language_info": {
   "codemirror_mode": {
    "name": "ipython",
    "version": 3
   },
   "file_extension": ".py",
   "mimetype": "text/x-python",
   "name": "python",
   "nbconvert_exporter": "python",
   "pygments_lexer": "ipython3",
   "version": "3.6.9"
  }
 },
 "nbformat": 4,
 "nbformat_minor": 2
}
