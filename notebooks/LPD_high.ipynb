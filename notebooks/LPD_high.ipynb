{
 "cells": [
  {
   "cell_type": "code",
   "execution_count": null,
   "metadata": {},
   "outputs": [],
   "source": [
    "%reload_ext autoreload\n",
    "%autoreload 2\n",
    "\n",
    "from concurrent.futures import ProcessPoolExecutor\n",
    "from functools import partial\n",
    "import h5py\n",
    "import numpy as np\n",
    "import time\n",
    "import matplotlib.pyplot as plt\n",
    "import matplotlib.patches as patches\n",
    "import re\n",
    "\n",
    "from extra_data import by_index, open_run\n",
    "\n",
    "from calibration import (\n",
    "    dark_offset, parse_ids, find_proposal, get_mean_image,\n",
    "    AzimuthalIntegration, ModuleRoiIntensity,\n",
    "    ScatterPlot, SimpleImageViewer)"
   ]
  },
  {
   "cell_type": "code",
   "execution_count": null,
   "metadata": {},
   "outputs": [],
   "source": [
    "# Config parameters\n",
    "\n",
    "proposal = 900121\n",
    "dark_run_nr = 51\n",
    "dark_data_file = \"/gpfs/exfel/data/scratch/kamile/lpd_timing_scan/lpd_low.h5\"\n",
    "\n",
    "timing_run_nr = 58\n",
    "\n",
    "modules_roi = [32, 64, 0, 128]\n",
    "\n",
    "modules = \"0:16\" # [0, 1, 2, ..., 15] # \"Can also gives as comma separated : '1, 2, 14'\"\n",
    "\n",
    "pulse_ids_with_xray = \"1:20:2\"\n",
    "\n",
    "# Delay motor device id and property\n",
    "delay_src = \"FXE_RR_SYS/TSYS/UTC-1-S3\"\n",
    "delay_prop = \"backTrg3.delay.value\"\n",
    "\n",
    "# List of modules\n",
    "module_numbers = parse_ids(modules)\n",
    "module_numbers"
   ]
  },
  {
   "cell_type": "code",
   "execution_count": null,
   "metadata": {},
   "outputs": [],
   "source": [
    "find_proposal(proposal, dark_run_nr)"
   ]
  },
  {
   "cell_type": "markdown",
   "metadata": {},
   "source": [
    "# Quick look at timing run"
   ]
  },
  {
   "cell_type": "code",
   "execution_count": null,
   "metadata": {},
   "outputs": [],
   "source": [
    "run = open_run(proposal, timing_run_nr)\n",
    "run.info()"
   ]
  },
  {
   "cell_type": "code",
   "execution_count": null,
   "metadata": {},
   "outputs": [],
   "source": [
    "def roi_intensity_wrapper(\n",
    "    modno, proposal, run, dettype,\n",
    "    window=1,\n",
    "    rois=None,\n",
    "    pulse_ids=None, \n",
    "    dark_run=None,\n",
    "    use_normalizer=None,\n",
    "    scan_variable=None):\n",
    "    \n",
    "    \"\"\"\n",
    "    modno: str, int\n",
    "        Channel number between 0, 15\n",
    "    proposal: str, int\n",
    "        A proposal number, such as 2012, '2012', 'p002012', or a path such as\n",
    "        '/gpfs/exfel/exp/SPB/201701/p002012'.\n",
    "    run: str, int\n",
    "        A run number such as 243, '243' or 'r0243'.\n",
    "    dettype: (str) AGIPD, LPD\n",
    "    window: (int) Moving average window size \n",
    "    pulse_ids: str\n",
    "        For eg. \":\" to select all pulses in a train\n",
    "                \"start:stop:step\" to select indices with certain step size\n",
    "                \"1,2,3\" comma separated pulse index to select specific pulses\n",
    "                \"1,2,3, 5:10\" mix of above two\n",
    "        Default: all pulses \":\"\n",
    "    rois: list\n",
    "        In case of one roi: [x0, x1, y0, y1]\n",
    "        For multiple rois: [[x0, x1, y0, y1], [x0, x1, y0, y1], ...]\n",
    "    dettype: str\n",
    "        \"AGIPD\", \"LPD\"\n",
    "    dark_run: (numpy.ndarray) or dict optional\n",
    "        dark_data shape (n_pulses, slow_scan, fast_scan)\n",
    "        dark_run[module_number] of shape (n_pulses, slow_scan, fast_scan)\n",
    "        Default: None,\n",
    "        If provided dark data will be subtracted from images\n",
    "    use_normalizer: tuple\n",
    "        (source_name, property)\n",
    "    \n",
    "    scan_variable: tuple\n",
    "        (karaboDeviceId, property)\n",
    "    \"\"\"\n",
    "    \n",
    "    mod_roi = ModuleRoiIntensity(modno, proposal, run, dettype, window=window)\n",
    "    roi_intensity, roi_intensity_ma = mod_roi.eval_module_roi_intensity(\n",
    "        rois=rois,\n",
    "        pulse_ids=pulse_ids,\n",
    "        dark_run=dark_run,\n",
    "        use_normalizer=use_normalizer)\n",
    "\n",
    "    if scan_variable is not None:\n",
    "        src, prop = scan_variable\n",
    "        mean_align, std_align, _ = mod_roi.plot_scan(src, prop)\n",
    "        return roi_intensity, roi_intensity_ma, mean_align, std_align\n",
    "    \n",
    "    return roi_intensity, roi_intensity_ma"
   ]
  },
  {
   "cell_type": "markdown",
   "metadata": {},
   "source": [
    "# Evaluate dark  for all modules in parallel and store in file\n"
   ]
  },
  {
   "cell_type": "code",
   "execution_count": null,
   "metadata": {},
   "outputs": [],
   "source": [
    "# Store dark data in dark_data dictionary\n",
    "# dark_data = {modno:data}\n",
    "# Store dark data in dark_data dictionary\n",
    "# dark_data = {modno:data}\n",
    "\n",
    "dark_data = {}\n",
    "\n",
    "_dark_eval = partial(dark_offset, \n",
    "                     proposal,\n",
    "                     dark_run_nr,\n",
    "                     pulse_ids=\":\",\n",
    "                     dettype='LPD')\n",
    "\n",
    "with ProcessPoolExecutor(max_workers=len(module_numbers)) as executor:\n",
    "    for modno, ret in zip(module_numbers, executor.map(_dark_eval, module_numbers)):\n",
    "        dark_data[modno] = ret"
   ]
  },
  {
   "cell_type": "code",
   "execution_count": null,
   "metadata": {},
   "outputs": [],
   "source": [
    "print(\"Dark data available for modules :\", dark_data.keys())\n",
    "print(\"Dark data shape for module 1 : \", dark_data[1].shape)"
   ]
  },
  {
   "cell_type": "code",
   "execution_count": null,
   "metadata": {},
   "outputs": [],
   "source": [
    "%matplotlib notebook\n",
    "\n",
    "mod_to_view = 16  # Module number to plot\n",
    "mem_cell_to_view = 2 # memory cell\n",
    "\n",
    "fig, ax = plt.subplots(1,1)\n",
    "\n",
    "rectangles = []\n",
    "for roi in modules_roi:\n",
    "    x, y = roi[2], roi[0]\n",
    "    dx, dy = roi[3] - roi[2], roi[1] - roi[0]\n",
    "    \n",
    "    rectangles.append(\n",
    "        patches.Rectangle(\n",
    "            (x, y), dx, dy, \n",
    "            linewidth=2, \n",
    "            edgecolor='r', \n",
    "            facecolor='gray', \n",
    "            alpha=0.5))\n",
    "\n",
    "for patch in rectangles:\n",
    "    ax.add_patch(patch)\n",
    "\n",
    "ax.imshow(dark_data[mod_to_view][mem_cell_to_view])"
   ]
  },
  {
   "cell_type": "markdown",
   "metadata": {},
   "source": [
    "# Write dark data to file"
   ]
  },
  {
   "cell_type": "code",
   "execution_count": null,
   "metadata": {},
   "outputs": [],
   "source": [
    "with h5py.File(dark_data_file, \"w\") as f:\n",
    "    g = f.create_group(f\"entry_1/instrument\")\n",
    "    for modno, data in dark_data.items():\n",
    "        if data is not None:\n",
    "            h = g.create_group(f\"module_{modno}\")\n",
    "            h.create_dataset('data', data=data)"
   ]
  },
  {
   "cell_type": "markdown",
   "metadata": {},
   "source": [
    "### Read dark data from files and store in dictionary dark_run"
   ]
  },
  {
   "cell_type": "code",
   "execution_count": null,
   "metadata": {},
   "outputs": [],
   "source": [
    "dark_run = {}\n",
    "\n",
    "import re\n",
    "def iterate(name, node):\n",
    "    if isinstance(node, h5py.Dataset):\n",
    "        m = re.search(\"(.+)module_(.+)/data\", name)\n",
    "        if m is not None:\n",
    "            dark_run[int(m.group(2))] = node[:]\n",
    "\n",
    "with h5py.File(dark_data_file, 'r') as f:\n",
    "    f.visititems(iterate)\n",
    "\n",
    "dark_run.keys()"
   ]
  },
  {
   "cell_type": "markdown",
   "metadata": {},
   "source": [
    "# Evaluate dark subtracted ROI intensities"
   ]
  },
  {
   "cell_type": "code",
   "execution_count": null,
   "metadata": {},
   "outputs": [],
   "source": [
    "# Store roi intensities in roi_intensities dictionary\n",
    "\n",
    "roi_intensities = {}\n",
    "\n",
    "_roi_intensity_eval = partial(roi_intensity_wrapper, \n",
    "    proposal=proposal, \n",
    "    run=timing_run_nr, \n",
    "    dettype=\"LPD\", \n",
    "    rois=modules_roi,\n",
    "    pulse_ids=pulse_ids_with_xray,\n",
    "    dark_run=dark_run,\n",
    "    scan_variable=(delay_src, delay_prop))\n",
    "\n",
    "\n",
    "with ProcessPoolExecutor(max_workers=len(dark_run.keys())) as executor:\n",
    "    for modno, ret in zip(\n",
    "        dark_run.keys(), executor.map(\n",
    "            _roi_intensity_eval, dark_run.keys())):\n",
    "        roi_intensities[modno] = ret"
   ]
  },
  {
   "cell_type": "markdown",
   "metadata": {},
   "source": [
    "# Plot ROI intensities as a function of scan parameter"
   ]
  },
  {
   "cell_type": "code",
   "execution_count": null,
   "metadata": {
    "scrolled": false
   },
   "outputs": [],
   "source": [
    "_, _, mean_align, std_align = roi_intensities[16]\n",
    "mean_align['scan_data']"
   ]
  },
  {
   "cell_type": "markdown",
   "metadata": {},
   "source": [
    "# Plot delay data and ROI intensities"
   ]
  },
  {
   "cell_type": "code",
   "execution_count": null,
   "metadata": {
    "scrolled": true
   },
   "outputs": [],
   "source": [
    "x_offset = 0 #Provide a number to offset the xaxis so that xaxis has better visualization.\n",
    "\n",
    "for modno in sorted(dark_run.keys(), key=lambda x: int(x)):\n",
    "    if roi_intensities[modno] is not None:\n",
    "        fig = ScatterPlot(title=f'Module {modno}',\n",
    "                          xlabel=f\"Scan variable ({delay_src}/{delay_prop})\",\n",
    "                          ylabel=\"Mean ROI intensity\",\n",
    "                          legend='Pulse index',\n",
    "                          drop_down_label=\"ROI\")\n",
    "        _, _, mean_align, std_align = roi_intensities[modno]\n",
    "        fig.setData(\n",
    "                mean_align['scan_data'] - x_offset,\n",
    "                mean_align['roi_intensity'],\n",
    "                yerror=std_align['roi_intensity'])\n",
    "        fig.show()"
   ]
  },
  {
   "cell_type": "markdown",
   "metadata": {},
   "source": [
    "# Browse thorugh dark subtracted images"
   ]
  },
  {
   "cell_type": "code",
   "execution_count": null,
   "metadata": {},
   "outputs": [],
   "source": [
    "config = dict(\n",
    "    run_folder=find_proposal(proposal, timing_run_nr),\n",
    "    dark_data=dark_data_file\n",
    ")\n",
    "\n",
    "w = SimpleImageViewer(\"LPD\", config)\n",
    "w.control_panel()"
   ]
  }
 ],
 "metadata": {
  "kernelspec": {
   "display_name": "calibration-kernel",
   "language": "python",
   "name": "calibration-kernel"
  },
  "language_info": {
   "codemirror_mode": {
    "name": "ipython",
    "version": 3
   },
   "file_extension": ".py",
   "mimetype": "text/x-python",
   "name": "python",
   "nbconvert_exporter": "python",
   "pygments_lexer": "ipython3",
   "version": "3.6.9"
  }
 },
 "nbformat": 4,
 "nbformat_minor": 2
}
